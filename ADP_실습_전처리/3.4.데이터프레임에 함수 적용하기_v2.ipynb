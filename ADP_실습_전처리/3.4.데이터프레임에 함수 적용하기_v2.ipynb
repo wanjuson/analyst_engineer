{
 "cells": [
  {
   "cell_type": "markdown",
   "metadata": {},
   "source": [
    "## 데이터프레임에 함수 적용하기! \n"
   ]
  },
  {
   "cell_type": "markdown",
   "metadata": {},
   "source": [
    "### 데이터 핸들링 실전 연습 "
   ]
  },
  {
   "cell_type": "code",
   "execution_count": 1,
   "metadata": {},
   "outputs": [],
   "source": [
    "import pandas as pd\n",
    "import numpy as np"
   ]
  },
  {
   "cell_type": "code",
   "execution_count": 13,
   "metadata": {},
   "outputs": [],
   "source": [
    "df_off = pd.read_csv('../../data/6.세종시_오피스텔(매매)_실거래가.csv')\n",
    "df_apt= pd.read_csv('../../data/7.세종시_아파트(전월세)_실거래가.csv')"
   ]
  },
  {
   "cell_type": "code",
   "execution_count": 3,
   "metadata": {},
   "outputs": [
    {
     "data": {
      "text/html": [
       "<div>\n",
       "<style scoped>\n",
       "    .dataframe tbody tr th:only-of-type {\n",
       "        vertical-align: middle;\n",
       "    }\n",
       "\n",
       "    .dataframe tbody tr th {\n",
       "        vertical-align: top;\n",
       "    }\n",
       "\n",
       "    .dataframe thead th {\n",
       "        text-align: right;\n",
       "    }\n",
       "</style>\n",
       "<table border=\"1\" class=\"dataframe\">\n",
       "  <thead>\n",
       "    <tr style=\"text-align: right;\">\n",
       "      <th></th>\n",
       "      <th>계약년월</th>\n",
       "      <th>계약일</th>\n",
       "      <th>시군구</th>\n",
       "      <th>본번</th>\n",
       "      <th>부번</th>\n",
       "      <th>단지명</th>\n",
       "      <th>전용면적(㎡)</th>\n",
       "      <th>거래금액(만원)</th>\n",
       "      <th>층</th>\n",
       "      <th>건축년도</th>\n",
       "      <th>해제사유발생일</th>\n",
       "    </tr>\n",
       "  </thead>\n",
       "  <tbody>\n",
       "    <tr>\n",
       "      <th>0</th>\n",
       "      <td>201701</td>\n",
       "      <td>4</td>\n",
       "      <td>세종특별자치시 어진동</td>\n",
       "      <td>0</td>\n",
       "      <td>0</td>\n",
       "      <td>푸르지오시티</td>\n",
       "      <td>23.74</td>\n",
       "      <td>9,000</td>\n",
       "      <td>14</td>\n",
       "      <td>2014</td>\n",
       "      <td>NaN</td>\n",
       "    </tr>\n",
       "    <tr>\n",
       "      <th>1</th>\n",
       "      <td>201701</td>\n",
       "      <td>6</td>\n",
       "      <td>세종특별자치시 어진동</td>\n",
       "      <td>0</td>\n",
       "      <td>0</td>\n",
       "      <td>푸르지오시티</td>\n",
       "      <td>23.74</td>\n",
       "      <td>9,500</td>\n",
       "      <td>11</td>\n",
       "      <td>2014</td>\n",
       "      <td>NaN</td>\n",
       "    </tr>\n",
       "    <tr>\n",
       "      <th>2</th>\n",
       "      <td>201702</td>\n",
       "      <td>5</td>\n",
       "      <td>세종특별자치시 나성동</td>\n",
       "      <td>713</td>\n",
       "      <td>0</td>\n",
       "      <td>세진이너스빌</td>\n",
       "      <td>34.15</td>\n",
       "      <td>13,000</td>\n",
       "      <td>8</td>\n",
       "      <td>2013</td>\n",
       "      <td>NaN</td>\n",
       "    </tr>\n",
       "    <tr>\n",
       "      <th>3</th>\n",
       "      <td>201702</td>\n",
       "      <td>7</td>\n",
       "      <td>세종특별자치시 어진동</td>\n",
       "      <td>0</td>\n",
       "      <td>0</td>\n",
       "      <td>푸르지오시티</td>\n",
       "      <td>23.74</td>\n",
       "      <td>9,500</td>\n",
       "      <td>4</td>\n",
       "      <td>2014</td>\n",
       "      <td>NaN</td>\n",
       "    </tr>\n",
       "    <tr>\n",
       "      <th>4</th>\n",
       "      <td>201702</td>\n",
       "      <td>7</td>\n",
       "      <td>세종특별자치시 어진동</td>\n",
       "      <td>0</td>\n",
       "      <td>0</td>\n",
       "      <td>푸르지오시티</td>\n",
       "      <td>23.74</td>\n",
       "      <td>9,000</td>\n",
       "      <td>4</td>\n",
       "      <td>2014</td>\n",
       "      <td>NaN</td>\n",
       "    </tr>\n",
       "  </tbody>\n",
       "</table>\n",
       "</div>"
      ],
      "text/plain": [
       "     계약년월  계약일          시군구   본번  부번     단지명  전용면적(㎡) 거래금액(만원)   층  건축년도  \\\n",
       "0  201701    4  세종특별자치시 어진동    0   0  푸르지오시티    23.74    9,000  14  2014   \n",
       "1  201701    6  세종특별자치시 어진동    0   0  푸르지오시티    23.74    9,500  11  2014   \n",
       "2  201702    5  세종특별자치시 나성동  713   0  세진이너스빌    34.15   13,000   8  2013   \n",
       "3  201702    7  세종특별자치시 어진동    0   0  푸르지오시티    23.74    9,500   4  2014   \n",
       "4  201702    7  세종특별자치시 어진동    0   0  푸르지오시티    23.74    9,000   4  2014   \n",
       "\n",
       "   해제사유발생일  \n",
       "0      NaN  \n",
       "1      NaN  \n",
       "2      NaN  \n",
       "3      NaN  \n",
       "4      NaN  "
      ]
     },
     "execution_count": 3,
     "metadata": {},
     "output_type": "execute_result"
    }
   ],
   "source": [
    "df_off.head()"
   ]
  },
  {
   "cell_type": "code",
   "execution_count": 4,
   "metadata": {},
   "outputs": [
    {
     "data": {
      "text/html": [
       "<div>\n",
       "<style scoped>\n",
       "    .dataframe tbody tr th:only-of-type {\n",
       "        vertical-align: middle;\n",
       "    }\n",
       "\n",
       "    .dataframe tbody tr th {\n",
       "        vertical-align: top;\n",
       "    }\n",
       "\n",
       "    .dataframe thead th {\n",
       "        text-align: right;\n",
       "    }\n",
       "</style>\n",
       "<table border=\"1\" class=\"dataframe\">\n",
       "  <thead>\n",
       "    <tr style=\"text-align: right;\">\n",
       "      <th></th>\n",
       "      <th>계약년월</th>\n",
       "      <th>계약일</th>\n",
       "      <th>시군구</th>\n",
       "      <th>본번</th>\n",
       "      <th>부번</th>\n",
       "      <th>단지명</th>\n",
       "      <th>전월세구분</th>\n",
       "      <th>전용면적(㎡)</th>\n",
       "      <th>보증금(만원)</th>\n",
       "      <th>월세(만원)</th>\n",
       "      <th>층</th>\n",
       "      <th>건축년도</th>\n",
       "    </tr>\n",
       "  </thead>\n",
       "  <tbody>\n",
       "    <tr>\n",
       "      <th>0</th>\n",
       "      <td>201701</td>\n",
       "      <td>13</td>\n",
       "      <td>세종특별자치시 고운동</td>\n",
       "      <td>1396</td>\n",
       "      <td>0</td>\n",
       "      <td>가락마을 20단지(호반베르디움5차)</td>\n",
       "      <td>전세</td>\n",
       "      <td>84.9895</td>\n",
       "      <td>10,000</td>\n",
       "      <td>0</td>\n",
       "      <td>13</td>\n",
       "      <td>2015</td>\n",
       "    </tr>\n",
       "    <tr>\n",
       "      <th>1</th>\n",
       "      <td>201701</td>\n",
       "      <td>14</td>\n",
       "      <td>세종특별자치시 고운동</td>\n",
       "      <td>1396</td>\n",
       "      <td>0</td>\n",
       "      <td>가락마을 20단지(호반베르디움5차)</td>\n",
       "      <td>전세</td>\n",
       "      <td>84.9895</td>\n",
       "      <td>18,000</td>\n",
       "      <td>0</td>\n",
       "      <td>19</td>\n",
       "      <td>2015</td>\n",
       "    </tr>\n",
       "    <tr>\n",
       "      <th>2</th>\n",
       "      <td>201701</td>\n",
       "      <td>14</td>\n",
       "      <td>세종특별자치시 고운동</td>\n",
       "      <td>1396</td>\n",
       "      <td>0</td>\n",
       "      <td>가락마을 20단지(호반베르디움5차)</td>\n",
       "      <td>전세</td>\n",
       "      <td>59.8338</td>\n",
       "      <td>17,000</td>\n",
       "      <td>0</td>\n",
       "      <td>10</td>\n",
       "      <td>2015</td>\n",
       "    </tr>\n",
       "    <tr>\n",
       "      <th>3</th>\n",
       "      <td>201701</td>\n",
       "      <td>15</td>\n",
       "      <td>세종특별자치시 고운동</td>\n",
       "      <td>1396</td>\n",
       "      <td>0</td>\n",
       "      <td>가락마을 20단지(호반베르디움5차)</td>\n",
       "      <td>전세</td>\n",
       "      <td>84.9895</td>\n",
       "      <td>17,000</td>\n",
       "      <td>0</td>\n",
       "      <td>2</td>\n",
       "      <td>2015</td>\n",
       "    </tr>\n",
       "    <tr>\n",
       "      <th>4</th>\n",
       "      <td>201702</td>\n",
       "      <td>4</td>\n",
       "      <td>세종특별자치시 고운동</td>\n",
       "      <td>1396</td>\n",
       "      <td>0</td>\n",
       "      <td>가락마을 20단지(호반베르디움5차)</td>\n",
       "      <td>월세</td>\n",
       "      <td>84.9895</td>\n",
       "      <td>10,000</td>\n",
       "      <td>30</td>\n",
       "      <td>13</td>\n",
       "      <td>2015</td>\n",
       "    </tr>\n",
       "  </tbody>\n",
       "</table>\n",
       "</div>"
      ],
      "text/plain": [
       "     계약년월  계약일          시군구    본번  부번                  단지명 전월세구분  전용면적(㎡)  \\\n",
       "0  201701   13  세종특별자치시 고운동  1396   0  가락마을 20단지(호반베르디움5차)    전세  84.9895   \n",
       "1  201701   14  세종특별자치시 고운동  1396   0  가락마을 20단지(호반베르디움5차)    전세  84.9895   \n",
       "2  201701   14  세종특별자치시 고운동  1396   0  가락마을 20단지(호반베르디움5차)    전세  59.8338   \n",
       "3  201701   15  세종특별자치시 고운동  1396   0  가락마을 20단지(호반베르디움5차)    전세  84.9895   \n",
       "4  201702    4  세종특별자치시 고운동  1396   0  가락마을 20단지(호반베르디움5차)    월세  84.9895   \n",
       "\n",
       "  보증금(만원)  월세(만원)   층  건축년도  \n",
       "0  10,000       0  13  2015  \n",
       "1  18,000       0  19  2015  \n",
       "2  17,000       0  10  2015  \n",
       "3  17,000       0   2  2015  \n",
       "4  10,000      30  13  2015  "
      ]
     },
     "execution_count": 4,
     "metadata": {},
     "output_type": "execute_result"
    }
   ],
   "source": [
    "df_apt.head()"
   ]
  },
  {
   "cell_type": "code",
   "execution_count": 5,
   "metadata": {
    "scrolled": true
   },
   "outputs": [
    {
     "data": {
      "text/plain": [
       "0     False\n",
       "1      True\n",
       "2     False\n",
       "3     False\n",
       "4     False\n",
       "5      True\n",
       "6     False\n",
       "7     False\n",
       "8     False\n",
       "9     False\n",
       "10    False\n",
       "11    False\n",
       "12     True\n",
       "13    False\n",
       "14    False\n",
       "15    False\n",
       "16    False\n",
       "17    False\n",
       "18    False\n",
       "19    False\n",
       "20    False\n",
       "21    False\n",
       "22    False\n",
       "23    False\n",
       "24    False\n",
       "25    False\n",
       "26    False\n",
       "27    False\n",
       "28    False\n",
       "29    False\n",
       "30    False\n",
       "31    False\n",
       "32    False\n",
       "33    False\n",
       "34    False\n",
       "35    False\n",
       "36    False\n",
       "37    False\n",
       "38    False\n",
       "39    False\n",
       "40    False\n",
       "41    False\n",
       "42     True\n",
       "43    False\n",
       "dtype: bool"
      ]
     },
     "execution_count": 5,
     "metadata": {},
     "output_type": "execute_result"
    }
   ],
   "source": [
    "pd.Series(df_off['전용면적(㎡)'].unique()).isin(pd.Series((df_apt['전용면적(㎡)'].unique())))"
   ]
  },
  {
   "cell_type": "code",
   "execution_count": 19,
   "metadata": {
    "scrolled": true
   },
   "outputs": [
    {
     "data": {
      "text/html": [
       "<div>\n",
       "<style scoped>\n",
       "    .dataframe tbody tr th:only-of-type {\n",
       "        vertical-align: middle;\n",
       "    }\n",
       "\n",
       "    .dataframe tbody tr th {\n",
       "        vertical-align: top;\n",
       "    }\n",
       "\n",
       "    .dataframe thead th {\n",
       "        text-align: right;\n",
       "    }\n",
       "</style>\n",
       "<table border=\"1\" class=\"dataframe\">\n",
       "  <thead>\n",
       "    <tr style=\"text-align: right;\">\n",
       "      <th></th>\n",
       "      <th>계약년월</th>\n",
       "      <th>전용면적(㎡)</th>\n",
       "      <th>거래금액(만원)</th>\n",
       "    </tr>\n",
       "  </thead>\n",
       "  <tbody>\n",
       "    <tr>\n",
       "      <th>340</th>\n",
       "      <td>202012</td>\n",
       "      <td>26.18</td>\n",
       "      <td>16,410</td>\n",
       "    </tr>\n",
       "    <tr>\n",
       "      <th>341</th>\n",
       "      <td>202012</td>\n",
       "      <td>24.22</td>\n",
       "      <td>8,600</td>\n",
       "    </tr>\n",
       "    <tr>\n",
       "      <th>342</th>\n",
       "      <td>202012</td>\n",
       "      <td>26.18</td>\n",
       "      <td>15,340</td>\n",
       "    </tr>\n",
       "    <tr>\n",
       "      <th>343</th>\n",
       "      <td>202012</td>\n",
       "      <td>30.48</td>\n",
       "      <td>11,500</td>\n",
       "    </tr>\n",
       "    <tr>\n",
       "      <th>344</th>\n",
       "      <td>202012</td>\n",
       "      <td>44.84</td>\n",
       "      <td>15,600</td>\n",
       "    </tr>\n",
       "  </tbody>\n",
       "</table>\n",
       "</div>"
      ],
      "text/plain": [
       "       계약년월  전용면적(㎡) 거래금액(만원)\n",
       "340  202012    26.18   16,410\n",
       "341  202012    24.22    8,600\n",
       "342  202012    26.18   15,340\n",
       "343  202012    30.48   11,500\n",
       "344  202012    44.84   15,600"
      ]
     },
     "execution_count": 19,
     "metadata": {},
     "output_type": "execute_result"
    }
   ],
   "source": [
    "df_off = df_off[[\"계약년월\",\"전용면적(㎡)\",\"거래금액(만원)\"]]\n",
    "df_off.tail()"
   ]
  },
  {
   "cell_type": "code",
   "execution_count": 20,
   "metadata": {},
   "outputs": [
    {
     "name": "stdout",
     "output_type": "stream",
     "text": [
      "<class 'pandas.core.frame.DataFrame'>\n",
      "RangeIndex: 345 entries, 0 to 344\n",
      "Data columns (total 3 columns):\n",
      " #   Column    Non-Null Count  Dtype  \n",
      "---  ------    --------------  -----  \n",
      " 0   계약년월      345 non-null    int64  \n",
      " 1   전용면적(㎡)   345 non-null    float64\n",
      " 2   거래금액(만원)  345 non-null    object \n",
      "dtypes: float64(1), int64(1), object(1)\n",
      "memory usage: 8.2+ KB\n"
     ]
    }
   ],
   "source": [
    "df_off.info()"
   ]
  },
  {
   "cell_type": "code",
   "execution_count": 24,
   "metadata": {},
   "outputs": [
    {
     "data": {
      "text/html": [
       "<div>\n",
       "<style scoped>\n",
       "    .dataframe tbody tr th:only-of-type {\n",
       "        vertical-align: middle;\n",
       "    }\n",
       "\n",
       "    .dataframe tbody tr th {\n",
       "        vertical-align: top;\n",
       "    }\n",
       "\n",
       "    .dataframe thead th {\n",
       "        text-align: right;\n",
       "    }\n",
       "</style>\n",
       "<table border=\"1\" class=\"dataframe\">\n",
       "  <thead>\n",
       "    <tr style=\"text-align: right;\">\n",
       "      <th></th>\n",
       "      <th>계약년월</th>\n",
       "      <th>전용면적(㎡)</th>\n",
       "      <th>거래금액(만원)</th>\n",
       "    </tr>\n",
       "  </thead>\n",
       "  <tbody>\n",
       "    <tr>\n",
       "      <th>340</th>\n",
       "      <td>202012</td>\n",
       "      <td>26.18</td>\n",
       "      <td>16410</td>\n",
       "    </tr>\n",
       "    <tr>\n",
       "      <th>341</th>\n",
       "      <td>202012</td>\n",
       "      <td>24.22</td>\n",
       "      <td>8600</td>\n",
       "    </tr>\n",
       "    <tr>\n",
       "      <th>342</th>\n",
       "      <td>202012</td>\n",
       "      <td>26.18</td>\n",
       "      <td>15340</td>\n",
       "    </tr>\n",
       "    <tr>\n",
       "      <th>343</th>\n",
       "      <td>202012</td>\n",
       "      <td>30.48</td>\n",
       "      <td>11500</td>\n",
       "    </tr>\n",
       "    <tr>\n",
       "      <th>344</th>\n",
       "      <td>202012</td>\n",
       "      <td>44.84</td>\n",
       "      <td>15600</td>\n",
       "    </tr>\n",
       "  </tbody>\n",
       "</table>\n",
       "</div>"
      ],
      "text/plain": [
       "       계약년월  전용면적(㎡) 거래금액(만원)\n",
       "340  202012    26.18    16410\n",
       "341  202012    24.22     8600\n",
       "342  202012    26.18    15340\n",
       "343  202012    30.48    11500\n",
       "344  202012    44.84    15600"
      ]
     },
     "execution_count": 24,
     "metadata": {},
     "output_type": "execute_result"
    }
   ],
   "source": [
    "# df_off['거래금액(만원)'] = df_off['거래금액(만원)'].str.replace(\",\",\"\")\n",
    "df_off['거래금액(만원)'] = df_off['거래금액(만원)'].str.replace(',', '')\n",
    "df_off.tail()"
   ]
  },
  {
   "cell_type": "code",
   "execution_count": 26,
   "metadata": {},
   "outputs": [
    {
     "data": {
      "text/html": [
       "<div>\n",
       "<style scoped>\n",
       "    .dataframe tbody tr th:only-of-type {\n",
       "        vertical-align: middle;\n",
       "    }\n",
       "\n",
       "    .dataframe tbody tr th {\n",
       "        vertical-align: top;\n",
       "    }\n",
       "\n",
       "    .dataframe thead th {\n",
       "        text-align: right;\n",
       "    }\n",
       "</style>\n",
       "<table border=\"1\" class=\"dataframe\">\n",
       "  <thead>\n",
       "    <tr style=\"text-align: right;\">\n",
       "      <th></th>\n",
       "      <th>계약년월</th>\n",
       "      <th>전용면적(㎡)</th>\n",
       "      <th>거래금액(만원)</th>\n",
       "    </tr>\n",
       "  </thead>\n",
       "  <tbody>\n",
       "    <tr>\n",
       "      <th>340</th>\n",
       "      <td>202012</td>\n",
       "      <td>26.18</td>\n",
       "      <td>16410</td>\n",
       "    </tr>\n",
       "    <tr>\n",
       "      <th>341</th>\n",
       "      <td>202012</td>\n",
       "      <td>24.22</td>\n",
       "      <td>8600</td>\n",
       "    </tr>\n",
       "    <tr>\n",
       "      <th>342</th>\n",
       "      <td>202012</td>\n",
       "      <td>26.18</td>\n",
       "      <td>15340</td>\n",
       "    </tr>\n",
       "    <tr>\n",
       "      <th>343</th>\n",
       "      <td>202012</td>\n",
       "      <td>30.48</td>\n",
       "      <td>11500</td>\n",
       "    </tr>\n",
       "    <tr>\n",
       "      <th>344</th>\n",
       "      <td>202012</td>\n",
       "      <td>44.84</td>\n",
       "      <td>15600</td>\n",
       "    </tr>\n",
       "  </tbody>\n",
       "</table>\n",
       "</div>"
      ],
      "text/plain": [
       "       계약년월  전용면적(㎡)  거래금액(만원)\n",
       "340  202012    26.18     16410\n",
       "341  202012    24.22      8600\n",
       "342  202012    26.18     15340\n",
       "343  202012    30.48     11500\n",
       "344  202012    44.84     15600"
      ]
     },
     "execution_count": 26,
     "metadata": {},
     "output_type": "execute_result"
    }
   ],
   "source": [
    "df_off['거래금액(만원)'] = df_off['거래금액(만원)'].astype(int)\n",
    "df_off.tail()"
   ]
  },
  {
   "cell_type": "code",
   "execution_count": 28,
   "metadata": {},
   "outputs": [
    {
     "data": {
      "text/html": [
       "<div>\n",
       "<style scoped>\n",
       "    .dataframe tbody tr th:only-of-type {\n",
       "        vertical-align: middle;\n",
       "    }\n",
       "\n",
       "    .dataframe tbody tr th {\n",
       "        vertical-align: top;\n",
       "    }\n",
       "\n",
       "    .dataframe thead th {\n",
       "        text-align: right;\n",
       "    }\n",
       "</style>\n",
       "<table border=\"1\" class=\"dataframe\">\n",
       "  <thead>\n",
       "    <tr style=\"text-align: right;\">\n",
       "      <th></th>\n",
       "      <th>계약년월</th>\n",
       "      <th>전용면적(㎡)</th>\n",
       "      <th>거래금액(만원)</th>\n",
       "    </tr>\n",
       "  </thead>\n",
       "  <tbody>\n",
       "    <tr>\n",
       "      <th>205</th>\n",
       "      <td>202012</td>\n",
       "      <td>26.18</td>\n",
       "      <td>16053.333333</td>\n",
       "    </tr>\n",
       "    <tr>\n",
       "      <th>206</th>\n",
       "      <td>202012</td>\n",
       "      <td>27.43</td>\n",
       "      <td>9500.000000</td>\n",
       "    </tr>\n",
       "    <tr>\n",
       "      <th>207</th>\n",
       "      <td>202012</td>\n",
       "      <td>30.48</td>\n",
       "      <td>11500.000000</td>\n",
       "    </tr>\n",
       "    <tr>\n",
       "      <th>208</th>\n",
       "      <td>202012</td>\n",
       "      <td>34.15</td>\n",
       "      <td>12000.000000</td>\n",
       "    </tr>\n",
       "    <tr>\n",
       "      <th>209</th>\n",
       "      <td>202012</td>\n",
       "      <td>44.84</td>\n",
       "      <td>15600.000000</td>\n",
       "    </tr>\n",
       "  </tbody>\n",
       "</table>\n",
       "</div>"
      ],
      "text/plain": [
       "       계약년월  전용면적(㎡)      거래금액(만원)\n",
       "205  202012    26.18  16053.333333\n",
       "206  202012    27.43   9500.000000\n",
       "207  202012    30.48  11500.000000\n",
       "208  202012    34.15  12000.000000\n",
       "209  202012    44.84  15600.000000"
      ]
     },
     "execution_count": 28,
     "metadata": {},
     "output_type": "execute_result"
    }
   ],
   "source": [
    "df_off = df_off.groupby(['계약년월','전용면적(㎡)']).mean().reset_index()\n",
    "df_off.tail()"
   ]
  },
  {
   "cell_type": "code",
   "execution_count": 29,
   "metadata": {},
   "outputs": [],
   "source": [
    "df_apt = df_apt[df_apt['전월세구분']=='전세']"
   ]
  },
  {
   "cell_type": "code",
   "execution_count": 30,
   "metadata": {},
   "outputs": [
    {
     "name": "stdout",
     "output_type": "stream",
     "text": [
      "<class 'pandas.core.frame.DataFrame'>\n",
      "Int64Index: 26935 entries, 0 to 38893\n",
      "Data columns (total 12 columns):\n",
      " #   Column   Non-Null Count  Dtype  \n",
      "---  ------   --------------  -----  \n",
      " 0   계약년월     26935 non-null  int64  \n",
      " 1   계약일      26935 non-null  int64  \n",
      " 2   시군구      26935 non-null  object \n",
      " 3   본번       26935 non-null  object \n",
      " 4   부번       26935 non-null  int64  \n",
      " 5   단지명      26935 non-null  object \n",
      " 6   전월세구분    26935 non-null  object \n",
      " 7   전용면적(㎡)  26935 non-null  float64\n",
      " 8   보증금(만원)  26935 non-null  object \n",
      " 9   월세(만원)   26935 non-null  int64  \n",
      " 10  층        26935 non-null  int64  \n",
      " 11  건축년도     26935 non-null  int64  \n",
      "dtypes: float64(1), int64(6), object(5)\n",
      "memory usage: 2.7+ MB\n"
     ]
    }
   ],
   "source": [
    "df_apt.info()"
   ]
  },
  {
   "cell_type": "code",
   "execution_count": 31,
   "metadata": {},
   "outputs": [
    {
     "data": {
      "text/html": [
       "<div>\n",
       "<style scoped>\n",
       "    .dataframe tbody tr th:only-of-type {\n",
       "        vertical-align: middle;\n",
       "    }\n",
       "\n",
       "    .dataframe tbody tr th {\n",
       "        vertical-align: top;\n",
       "    }\n",
       "\n",
       "    .dataframe thead th {\n",
       "        text-align: right;\n",
       "    }\n",
       "</style>\n",
       "<table border=\"1\" class=\"dataframe\">\n",
       "  <thead>\n",
       "    <tr style=\"text-align: right;\">\n",
       "      <th></th>\n",
       "      <th>계약년월</th>\n",
       "      <th>전용면적(㎡)</th>\n",
       "      <th>보증금(만원)</th>\n",
       "    </tr>\n",
       "  </thead>\n",
       "  <tbody>\n",
       "    <tr>\n",
       "      <th>0</th>\n",
       "      <td>201701</td>\n",
       "      <td>84.9895</td>\n",
       "      <td>10,000</td>\n",
       "    </tr>\n",
       "    <tr>\n",
       "      <th>1</th>\n",
       "      <td>201701</td>\n",
       "      <td>84.9895</td>\n",
       "      <td>18,000</td>\n",
       "    </tr>\n",
       "    <tr>\n",
       "      <th>2</th>\n",
       "      <td>201701</td>\n",
       "      <td>59.8338</td>\n",
       "      <td>17,000</td>\n",
       "    </tr>\n",
       "    <tr>\n",
       "      <th>3</th>\n",
       "      <td>201701</td>\n",
       "      <td>84.9895</td>\n",
       "      <td>17,000</td>\n",
       "    </tr>\n",
       "    <tr>\n",
       "      <th>5</th>\n",
       "      <td>201702</td>\n",
       "      <td>84.9895</td>\n",
       "      <td>19,000</td>\n",
       "    </tr>\n",
       "    <tr>\n",
       "      <th>...</th>\n",
       "      <td>...</td>\n",
       "      <td>...</td>\n",
       "      <td>...</td>\n",
       "    </tr>\n",
       "    <tr>\n",
       "      <th>38887</th>\n",
       "      <td>202011</td>\n",
       "      <td>102.8300</td>\n",
       "      <td>35,000</td>\n",
       "    </tr>\n",
       "    <tr>\n",
       "      <th>38888</th>\n",
       "      <td>202011</td>\n",
       "      <td>84.9500</td>\n",
       "      <td>30,000</td>\n",
       "    </tr>\n",
       "    <tr>\n",
       "      <th>38889</th>\n",
       "      <td>202011</td>\n",
       "      <td>84.9500</td>\n",
       "      <td>34,000</td>\n",
       "    </tr>\n",
       "    <tr>\n",
       "      <th>38892</th>\n",
       "      <td>202012</td>\n",
       "      <td>84.9500</td>\n",
       "      <td>30,000</td>\n",
       "    </tr>\n",
       "    <tr>\n",
       "      <th>38893</th>\n",
       "      <td>202012</td>\n",
       "      <td>84.9500</td>\n",
       "      <td>34,000</td>\n",
       "    </tr>\n",
       "  </tbody>\n",
       "</table>\n",
       "<p>26935 rows × 3 columns</p>\n",
       "</div>"
      ],
      "text/plain": [
       "         계약년월   전용면적(㎡) 보증금(만원)\n",
       "0      201701   84.9895  10,000\n",
       "1      201701   84.9895  18,000\n",
       "2      201701   59.8338  17,000\n",
       "3      201701   84.9895  17,000\n",
       "5      201702   84.9895  19,000\n",
       "...       ...       ...     ...\n",
       "38887  202011  102.8300  35,000\n",
       "38888  202011   84.9500  30,000\n",
       "38889  202011   84.9500  34,000\n",
       "38892  202012   84.9500  30,000\n",
       "38893  202012   84.9500  34,000\n",
       "\n",
       "[26935 rows x 3 columns]"
      ]
     },
     "execution_count": 31,
     "metadata": {},
     "output_type": "execute_result"
    }
   ],
   "source": [
    "df_apt = df_apt[[\"계약년월\",\"전용면적(㎡)\",\"보증금(만원)\"]]\n",
    "df_apt"
   ]
  },
  {
   "cell_type": "code",
   "execution_count": 32,
   "metadata": {},
   "outputs": [
    {
     "data": {
      "text/plain": [
       "<bound method DataFrame.groupby of          계약년월   전용면적(㎡) 보증금(만원)\n",
       "0      201701   84.9895  10,000\n",
       "1      201701   84.9895  18,000\n",
       "2      201701   59.8338  17,000\n",
       "3      201701   84.9895  17,000\n",
       "5      201702   84.9895  19,000\n",
       "...       ...       ...     ...\n",
       "38887  202011  102.8300  35,000\n",
       "38888  202011   84.9500  30,000\n",
       "38889  202011   84.9500  34,000\n",
       "38892  202012   84.9500  30,000\n",
       "38893  202012   84.9500  34,000\n",
       "\n",
       "[26935 rows x 3 columns]>"
      ]
     },
     "execution_count": 32,
     "metadata": {},
     "output_type": "execute_result"
    }
   ],
   "source": [
    "df_apt.groupby"
   ]
  },
  {
   "cell_type": "code",
   "execution_count": 35,
   "metadata": {
    "scrolled": true
   },
   "outputs": [
    {
     "data": {
      "text/html": [
       "<div>\n",
       "<style scoped>\n",
       "    .dataframe tbody tr th:only-of-type {\n",
       "        vertical-align: middle;\n",
       "    }\n",
       "\n",
       "    .dataframe tbody tr th {\n",
       "        vertical-align: top;\n",
       "    }\n",
       "\n",
       "    .dataframe thead th {\n",
       "        text-align: right;\n",
       "    }\n",
       "</style>\n",
       "<table border=\"1\" class=\"dataframe\">\n",
       "  <thead>\n",
       "    <tr style=\"text-align: right;\">\n",
       "      <th></th>\n",
       "      <th>계약년월</th>\n",
       "      <th>전용면적(㎡)</th>\n",
       "      <th>거래금액(만원)</th>\n",
       "      <th>보증금(만원)</th>\n",
       "    </tr>\n",
       "  </thead>\n",
       "  <tbody>\n",
       "    <tr>\n",
       "      <th>0</th>\n",
       "      <td>202011</td>\n",
       "      <td>24.12</td>\n",
       "      <td>8200.0</td>\n",
       "      <td>8,925</td>\n",
       "    </tr>\n",
       "    <tr>\n",
       "      <th>1</th>\n",
       "      <td>202011</td>\n",
       "      <td>24.12</td>\n",
       "      <td>8200.0</td>\n",
       "      <td>10,500</td>\n",
       "    </tr>\n",
       "    <tr>\n",
       "      <th>2</th>\n",
       "      <td>202011</td>\n",
       "      <td>24.12</td>\n",
       "      <td>8200.0</td>\n",
       "      <td>10,000</td>\n",
       "    </tr>\n",
       "  </tbody>\n",
       "</table>\n",
       "</div>"
      ],
      "text/plain": [
       "     계약년월  전용면적(㎡)  거래금액(만원) 보증금(만원)\n",
       "0  202011    24.12    8200.0   8,925\n",
       "1  202011    24.12    8200.0  10,500\n",
       "2  202011    24.12    8200.0  10,000"
      ]
     },
     "execution_count": 35,
     "metadata": {},
     "output_type": "execute_result"
    }
   ],
   "source": [
    "pd.merge(df_off,df_apt, how=\"inner\", on=[\"계약년월\", \"전용면적(㎡)\"])"
   ]
  },
  {
   "cell_type": "markdown",
   "metadata": {},
   "source": [
    "### 3.4.2.행 또는 열 방향으로 주어진 함수를 한 번에 적용 : apply \n"
   ]
  },
  {
   "cell_type": "code",
   "execution_count": 39,
   "metadata": {},
   "outputs": [
    {
     "name": "stdout",
     "output_type": "stream",
     "text": [
      "<class 'pandas.core.frame.DataFrame'>\n",
      "RangeIndex: 38895 entries, 0 to 38894\n",
      "Data columns (total 12 columns):\n",
      " #   Column   Non-Null Count  Dtype  \n",
      "---  ------   --------------  -----  \n",
      " 0   계약년월     38895 non-null  int64  \n",
      " 1   계약일      38895 non-null  int64  \n",
      " 2   시군구      38895 non-null  object \n",
      " 3   본번       38895 non-null  object \n",
      " 4   부번       38895 non-null  int64  \n",
      " 5   단지명      38895 non-null  object \n",
      " 6   전월세구분    38895 non-null  object \n",
      " 7   전용면적(㎡)  38895 non-null  float64\n",
      " 8   보증금(만원)  38895 non-null  object \n",
      " 9   월세(만원)   38895 non-null  int64  \n",
      " 10  층        38895 non-null  int64  \n",
      " 11  건축년도     38895 non-null  int64  \n",
      "dtypes: float64(1), int64(6), object(5)\n",
      "memory usage: 3.6+ MB\n"
     ]
    }
   ],
   "source": [
    "df_sejong = pd.read_csv('../../data/7.세종시_아파트(전월세)_실거래가.csv')\n",
    "df_sejong.info()"
   ]
  },
  {
   "cell_type": "code",
   "execution_count": 41,
   "metadata": {},
   "outputs": [
    {
     "data": {
      "text/html": [
       "<div>\n",
       "<style scoped>\n",
       "    .dataframe tbody tr th:only-of-type {\n",
       "        vertical-align: middle;\n",
       "    }\n",
       "\n",
       "    .dataframe tbody tr th {\n",
       "        vertical-align: top;\n",
       "    }\n",
       "\n",
       "    .dataframe thead th {\n",
       "        text-align: right;\n",
       "    }\n",
       "</style>\n",
       "<table border=\"1\" class=\"dataframe\">\n",
       "  <thead>\n",
       "    <tr style=\"text-align: right;\">\n",
       "      <th></th>\n",
       "      <th>전용면적(㎡)</th>\n",
       "      <th>보증금(만원)</th>\n",
       "    </tr>\n",
       "  </thead>\n",
       "  <tbody>\n",
       "    <tr>\n",
       "      <th>38890</th>\n",
       "      <td>102.83</td>\n",
       "      <td>10,000</td>\n",
       "    </tr>\n",
       "    <tr>\n",
       "      <th>38891</th>\n",
       "      <td>102.53</td>\n",
       "      <td>10,000</td>\n",
       "    </tr>\n",
       "    <tr>\n",
       "      <th>38892</th>\n",
       "      <td>84.95</td>\n",
       "      <td>30,000</td>\n",
       "    </tr>\n",
       "    <tr>\n",
       "      <th>38893</th>\n",
       "      <td>84.95</td>\n",
       "      <td>34,000</td>\n",
       "    </tr>\n",
       "    <tr>\n",
       "      <th>38894</th>\n",
       "      <td>84.95</td>\n",
       "      <td>8,000</td>\n",
       "    </tr>\n",
       "  </tbody>\n",
       "</table>\n",
       "</div>"
      ],
      "text/plain": [
       "       전용면적(㎡) 보증금(만원)\n",
       "38890   102.83  10,000\n",
       "38891   102.53  10,000\n",
       "38892    84.95  30,000\n",
       "38893    84.95  34,000\n",
       "38894    84.95   8,000"
      ]
     },
     "execution_count": 41,
     "metadata": {},
     "output_type": "execute_result"
    }
   ],
   "source": [
    "df_sejong[['전용면적(㎡)','보증금(만원)']].tail()"
   ]
  },
  {
   "cell_type": "code",
   "execution_count": 44,
   "metadata": {},
   "outputs": [
    {
     "data": {
      "text/html": [
       "<div>\n",
       "<style scoped>\n",
       "    .dataframe tbody tr th:only-of-type {\n",
       "        vertical-align: middle;\n",
       "    }\n",
       "\n",
       "    .dataframe tbody tr th {\n",
       "        vertical-align: top;\n",
       "    }\n",
       "\n",
       "    .dataframe thead th {\n",
       "        text-align: right;\n",
       "    }\n",
       "</style>\n",
       "<table border=\"1\" class=\"dataframe\">\n",
       "  <thead>\n",
       "    <tr style=\"text-align: right;\">\n",
       "      <th></th>\n",
       "      <th>계약년월</th>\n",
       "      <th>계약일</th>\n",
       "      <th>시군구</th>\n",
       "      <th>본번</th>\n",
       "      <th>부번</th>\n",
       "      <th>단지명</th>\n",
       "      <th>전월세구분</th>\n",
       "      <th>전용면적(㎡)</th>\n",
       "      <th>보증금(만원)</th>\n",
       "      <th>월세(만원)</th>\n",
       "      <th>층</th>\n",
       "      <th>건축년도</th>\n",
       "    </tr>\n",
       "  </thead>\n",
       "  <tbody>\n",
       "    <tr>\n",
       "      <th>38890</th>\n",
       "      <td>202011</td>\n",
       "      <td>21</td>\n",
       "      <td>세종특별자치시 해밀동</td>\n",
       "      <td>6402</td>\n",
       "      <td>1</td>\n",
       "      <td>해밀마을 2단지</td>\n",
       "      <td>월세</td>\n",
       "      <td>102.83</td>\n",
       "      <td>10,000</td>\n",
       "      <td>100</td>\n",
       "      <td>5</td>\n",
       "      <td>2020</td>\n",
       "    </tr>\n",
       "    <tr>\n",
       "      <th>38891</th>\n",
       "      <td>202012</td>\n",
       "      <td>8</td>\n",
       "      <td>세종특별자치시 해밀동</td>\n",
       "      <td>6402</td>\n",
       "      <td>1</td>\n",
       "      <td>해밀마을 2단지</td>\n",
       "      <td>월세</td>\n",
       "      <td>102.53</td>\n",
       "      <td>10,000</td>\n",
       "      <td>95</td>\n",
       "      <td>14</td>\n",
       "      <td>2020</td>\n",
       "    </tr>\n",
       "    <tr>\n",
       "      <th>38892</th>\n",
       "      <td>202012</td>\n",
       "      <td>11</td>\n",
       "      <td>세종특별자치시 해밀동</td>\n",
       "      <td>6402</td>\n",
       "      <td>1</td>\n",
       "      <td>해밀마을 2단지</td>\n",
       "      <td>전세</td>\n",
       "      <td>84.95</td>\n",
       "      <td>30,000</td>\n",
       "      <td>0</td>\n",
       "      <td>18</td>\n",
       "      <td>2020</td>\n",
       "    </tr>\n",
       "    <tr>\n",
       "      <th>38893</th>\n",
       "      <td>202012</td>\n",
       "      <td>12</td>\n",
       "      <td>세종특별자치시 해밀동</td>\n",
       "      <td>6402</td>\n",
       "      <td>1</td>\n",
       "      <td>해밀마을 2단지</td>\n",
       "      <td>전세</td>\n",
       "      <td>84.95</td>\n",
       "      <td>34,000</td>\n",
       "      <td>0</td>\n",
       "      <td>18</td>\n",
       "      <td>2020</td>\n",
       "    </tr>\n",
       "    <tr>\n",
       "      <th>38894</th>\n",
       "      <td>202012</td>\n",
       "      <td>13</td>\n",
       "      <td>세종특별자치시 해밀동</td>\n",
       "      <td>6402</td>\n",
       "      <td>1</td>\n",
       "      <td>해밀마을 2단지</td>\n",
       "      <td>월세</td>\n",
       "      <td>84.95</td>\n",
       "      <td>8,000</td>\n",
       "      <td>85</td>\n",
       "      <td>16</td>\n",
       "      <td>2020</td>\n",
       "    </tr>\n",
       "  </tbody>\n",
       "</table>\n",
       "</div>"
      ],
      "text/plain": [
       "         계약년월  계약일          시군구    본번  부번       단지명 전월세구분  전용면적(㎡) 보증금(만원)  \\\n",
       "38890  202011   21  세종특별자치시 해밀동  6402   1  해밀마을 2단지    월세   102.83  10,000   \n",
       "38891  202012    8  세종특별자치시 해밀동  6402   1  해밀마을 2단지    월세   102.53  10,000   \n",
       "38892  202012   11  세종특별자치시 해밀동  6402   1  해밀마을 2단지    전세    84.95  30,000   \n",
       "38893  202012   12  세종특별자치시 해밀동  6402   1  해밀마을 2단지    전세    84.95  34,000   \n",
       "38894  202012   13  세종특별자치시 해밀동  6402   1  해밀마을 2단지    월세    84.95   8,000   \n",
       "\n",
       "       월세(만원)   층  건축년도  \n",
       "38890     100   5  2020  \n",
       "38891      95  14  2020  \n",
       "38892       0  18  2020  \n",
       "38893       0  18  2020  \n",
       "38894      85  16  2020  "
      ]
     },
     "execution_count": 44,
     "metadata": {},
     "output_type": "execute_result"
    }
   ],
   "source": [
    "df_sejong.loc[0,'전용면적(㎡)'] = 11000\n",
    "df_sejong.tail()"
   ]
  },
  {
   "cell_type": "code",
   "execution_count": 46,
   "metadata": {},
   "outputs": [
    {
     "data": {
      "text/html": [
       "<div>\n",
       "<style scoped>\n",
       "    .dataframe tbody tr th:only-of-type {\n",
       "        vertical-align: middle;\n",
       "    }\n",
       "\n",
       "    .dataframe tbody tr th {\n",
       "        vertical-align: top;\n",
       "    }\n",
       "\n",
       "    .dataframe thead th {\n",
       "        text-align: right;\n",
       "    }\n",
       "</style>\n",
       "<table border=\"1\" class=\"dataframe\">\n",
       "  <thead>\n",
       "    <tr style=\"text-align: right;\">\n",
       "      <th></th>\n",
       "      <th>전용면적(㎡)</th>\n",
       "      <th>보증금(만원)</th>\n",
       "    </tr>\n",
       "  </thead>\n",
       "  <tbody>\n",
       "    <tr>\n",
       "      <th>38890</th>\n",
       "      <td>102.83</td>\n",
       "      <td>10,000</td>\n",
       "    </tr>\n",
       "    <tr>\n",
       "      <th>38891</th>\n",
       "      <td>102.53</td>\n",
       "      <td>10,000</td>\n",
       "    </tr>\n",
       "    <tr>\n",
       "      <th>38892</th>\n",
       "      <td>84.95</td>\n",
       "      <td>30,000</td>\n",
       "    </tr>\n",
       "    <tr>\n",
       "      <th>38893</th>\n",
       "      <td>84.95</td>\n",
       "      <td>34,000</td>\n",
       "    </tr>\n",
       "    <tr>\n",
       "      <th>38894</th>\n",
       "      <td>84.95</td>\n",
       "      <td>8,000</td>\n",
       "    </tr>\n",
       "  </tbody>\n",
       "</table>\n",
       "</div>"
      ],
      "text/plain": [
       "       전용면적(㎡) 보증금(만원)\n",
       "38890   102.83  10,000\n",
       "38891   102.53  10,000\n",
       "38892    84.95  30,000\n",
       "38893    84.95  34,000\n",
       "38894    84.95   8,000"
      ]
     },
     "execution_count": 46,
     "metadata": {},
     "output_type": "execute_result"
    }
   ],
   "source": [
    "df_sejong[['전용면적(㎡)','보증금(만원)']].tail()"
   ]
  },
  {
   "cell_type": "code",
   "execution_count": 62,
   "metadata": {},
   "outputs": [],
   "source": [
    "df_sejong['보증금(만원)'] = df_sejong['보증금(만원)'].str.replace(',', '')\n",
    "df_sejong['보증금(만원)'] = df_sejong['보증금(만원)'].astype(int)"
   ]
  },
  {
   "cell_type": "code",
   "execution_count": 64,
   "metadata": {},
   "outputs": [
    {
     "name": "stdout",
     "output_type": "stream",
     "text": [
      "<class 'pandas.core.frame.DataFrame'>\n",
      "RangeIndex: 38895 entries, 0 to 38894\n",
      "Data columns (total 12 columns):\n",
      " #   Column   Non-Null Count  Dtype  \n",
      "---  ------   --------------  -----  \n",
      " 0   계약년월     38895 non-null  int64  \n",
      " 1   계약일      38895 non-null  int64  \n",
      " 2   시군구      38895 non-null  object \n",
      " 3   본번       38895 non-null  object \n",
      " 4   부번       38895 non-null  int64  \n",
      " 5   단지명      38895 non-null  object \n",
      " 6   전월세구분    38895 non-null  object \n",
      " 7   전용면적(㎡)  38895 non-null  float64\n",
      " 8   보증금(만원)  38895 non-null  int32  \n",
      " 9   월세(만원)   38895 non-null  int64  \n",
      " 10  층        38895 non-null  int64  \n",
      " 11  건축년도     38895 non-null  int64  \n",
      "dtypes: float64(1), int32(1), int64(6), object(4)\n",
      "memory usage: 3.4+ MB\n"
     ]
    }
   ],
   "source": [
    "df_sejong.info()"
   ]
  },
  {
   "cell_type": "code",
   "execution_count": 65,
   "metadata": {},
   "outputs": [
    {
     "data": {
      "text/plain": [
       "1        18000\n",
       "2        17000\n",
       "3        17000\n",
       "4        10000\n",
       "5        19000\n",
       "         ...  \n",
       "38890    10000\n",
       "38891    10000\n",
       "38892    30000\n",
       "38893    34000\n",
       "38894     8000\n",
       "Name: 보증금(만원), Length: 38880, dtype: int32"
      ]
     },
     "execution_count": 65,
     "metadata": {},
     "output_type": "execute_result"
    }
   ],
   "source": [
    "df_sejong[df_sejong['전용면적(㎡)'] < df_sejong['보증금(만원)']]['보증금(만원)']"
   ]
  },
  {
   "cell_type": "code",
   "execution_count": 66,
   "metadata": {},
   "outputs": [],
   "source": [
    "df_sejong['new_col'] = df_sejong[df_sejong['전용면적(㎡)'] < df_sejong['보증금(만원)']]['보증금(만원)']"
   ]
  },
  {
   "cell_type": "code",
   "execution_count": null,
   "metadata": {},
   "outputs": [],
   "source": []
  },
  {
   "cell_type": "code",
   "execution_count": 72,
   "metadata": {},
   "outputs": [],
   "source": [
    "non_index = df_sejong[df_sejong['전용면적(㎡)'] >= df_sejong['보증금(만원)']]['보증금(만원)'].index"
   ]
  },
  {
   "cell_type": "code",
   "execution_count": 73,
   "metadata": {},
   "outputs": [],
   "source": [
    "df_sejong.loc[non_index,'new_col'] = df_sejong[df_sejong['전용면적(㎡)'] >= df_sejong['보증금(만원)']]['전용면적(㎡)']"
   ]
  },
  {
   "cell_type": "code",
   "execution_count": 75,
   "metadata": {},
   "outputs": [
    {
     "data": {
      "text/html": [
       "<div>\n",
       "<style scoped>\n",
       "    .dataframe tbody tr th:only-of-type {\n",
       "        vertical-align: middle;\n",
       "    }\n",
       "\n",
       "    .dataframe tbody tr th {\n",
       "        vertical-align: top;\n",
       "    }\n",
       "\n",
       "    .dataframe thead th {\n",
       "        text-align: right;\n",
       "    }\n",
       "</style>\n",
       "<table border=\"1\" class=\"dataframe\">\n",
       "  <thead>\n",
       "    <tr style=\"text-align: right;\">\n",
       "      <th></th>\n",
       "      <th>계약년월</th>\n",
       "      <th>계약일</th>\n",
       "      <th>시군구</th>\n",
       "      <th>본번</th>\n",
       "      <th>부번</th>\n",
       "      <th>단지명</th>\n",
       "      <th>전월세구분</th>\n",
       "      <th>전용면적(㎡)</th>\n",
       "      <th>보증금(만원)</th>\n",
       "      <th>월세(만원)</th>\n",
       "      <th>층</th>\n",
       "      <th>건축년도</th>\n",
       "      <th>new_col</th>\n",
       "    </tr>\n",
       "  </thead>\n",
       "  <tbody>\n",
       "    <tr>\n",
       "      <th>38890</th>\n",
       "      <td>202011</td>\n",
       "      <td>21</td>\n",
       "      <td>세종특별자치시 해밀동</td>\n",
       "      <td>6402</td>\n",
       "      <td>1</td>\n",
       "      <td>해밀마을 2단지</td>\n",
       "      <td>월세</td>\n",
       "      <td>102.83</td>\n",
       "      <td>10000</td>\n",
       "      <td>100</td>\n",
       "      <td>5</td>\n",
       "      <td>2020</td>\n",
       "      <td>10000.0</td>\n",
       "    </tr>\n",
       "    <tr>\n",
       "      <th>38891</th>\n",
       "      <td>202012</td>\n",
       "      <td>8</td>\n",
       "      <td>세종특별자치시 해밀동</td>\n",
       "      <td>6402</td>\n",
       "      <td>1</td>\n",
       "      <td>해밀마을 2단지</td>\n",
       "      <td>월세</td>\n",
       "      <td>102.53</td>\n",
       "      <td>10000</td>\n",
       "      <td>95</td>\n",
       "      <td>14</td>\n",
       "      <td>2020</td>\n",
       "      <td>10000.0</td>\n",
       "    </tr>\n",
       "    <tr>\n",
       "      <th>38892</th>\n",
       "      <td>202012</td>\n",
       "      <td>11</td>\n",
       "      <td>세종특별자치시 해밀동</td>\n",
       "      <td>6402</td>\n",
       "      <td>1</td>\n",
       "      <td>해밀마을 2단지</td>\n",
       "      <td>전세</td>\n",
       "      <td>84.95</td>\n",
       "      <td>30000</td>\n",
       "      <td>0</td>\n",
       "      <td>18</td>\n",
       "      <td>2020</td>\n",
       "      <td>30000.0</td>\n",
       "    </tr>\n",
       "    <tr>\n",
       "      <th>38893</th>\n",
       "      <td>202012</td>\n",
       "      <td>12</td>\n",
       "      <td>세종특별자치시 해밀동</td>\n",
       "      <td>6402</td>\n",
       "      <td>1</td>\n",
       "      <td>해밀마을 2단지</td>\n",
       "      <td>전세</td>\n",
       "      <td>84.95</td>\n",
       "      <td>34000</td>\n",
       "      <td>0</td>\n",
       "      <td>18</td>\n",
       "      <td>2020</td>\n",
       "      <td>34000.0</td>\n",
       "    </tr>\n",
       "    <tr>\n",
       "      <th>38894</th>\n",
       "      <td>202012</td>\n",
       "      <td>13</td>\n",
       "      <td>세종특별자치시 해밀동</td>\n",
       "      <td>6402</td>\n",
       "      <td>1</td>\n",
       "      <td>해밀마을 2단지</td>\n",
       "      <td>월세</td>\n",
       "      <td>84.95</td>\n",
       "      <td>8000</td>\n",
       "      <td>85</td>\n",
       "      <td>16</td>\n",
       "      <td>2020</td>\n",
       "      <td>8000.0</td>\n",
       "    </tr>\n",
       "  </tbody>\n",
       "</table>\n",
       "</div>"
      ],
      "text/plain": [
       "         계약년월  계약일          시군구    본번  부번       단지명 전월세구분  전용면적(㎡)  보증금(만원)  \\\n",
       "38890  202011   21  세종특별자치시 해밀동  6402   1  해밀마을 2단지    월세   102.83    10000   \n",
       "38891  202012    8  세종특별자치시 해밀동  6402   1  해밀마을 2단지    월세   102.53    10000   \n",
       "38892  202012   11  세종특별자치시 해밀동  6402   1  해밀마을 2단지    전세    84.95    30000   \n",
       "38893  202012   12  세종특별자치시 해밀동  6402   1  해밀마을 2단지    전세    84.95    34000   \n",
       "38894  202012   13  세종특별자치시 해밀동  6402   1  해밀마을 2단지    월세    84.95     8000   \n",
       "\n",
       "       월세(만원)   층  건축년도  new_col  \n",
       "38890     100   5  2020  10000.0  \n",
       "38891      95  14  2020  10000.0  \n",
       "38892       0  18  2020  30000.0  \n",
       "38893       0  18  2020  34000.0  \n",
       "38894      85  16  2020   8000.0  "
      ]
     },
     "execution_count": 75,
     "metadata": {},
     "output_type": "execute_result"
    }
   ],
   "source": [
    "df_sejong.tail()"
   ]
  },
  {
   "cell_type": "code",
   "execution_count": 76,
   "metadata": {},
   "outputs": [
    {
     "data": {
      "text/plain": [
       "0        11000.0\n",
       "1        18000.0\n",
       "2        17000.0\n",
       "3        17000.0\n",
       "4        10000.0\n",
       "          ...   \n",
       "38890    10000.0\n",
       "38891    10000.0\n",
       "38892    30000.0\n",
       "38893    34000.0\n",
       "38894     8000.0\n",
       "Length: 38895, dtype: float64"
      ]
     },
     "execution_count": 76,
     "metadata": {},
     "output_type": "execute_result"
    }
   ],
   "source": [
    "## 열 방향일때는 그냥 집계함수를 쓰면 되지만 열방향 비교일 때는 apply가 훨씬 편하다 \n",
    "df_sejong[['전용면적(㎡)','보증금(만원)']].apply(np.max, axis= 1)"
   ]
  },
  {
   "cell_type": "markdown",
   "metadata": {},
   "source": [
    "### 3.4.3 데이터 내부 각 요소를 처리하는 함수 만들기 \n",
    "    data['col_name'] = data['col_name'].map(lambda x:x.func(), na_action = 'ignore') \n",
    "    \n",
    "    세부 설명 \n",
    "    1) lambda는 간단한 함수 개념 \n",
    "    2) map(lambda)를 사용할 때에는 시리즈 형식이어야 함 . \n",
    "    3) map은 원소 접근이어햐 함 (시리즈)  1:1 매핑  대체 원소 -> 원소.func()  \n",
    "   "
   ]
  },
  {
   "cell_type": "code",
   "execution_count": null,
   "metadata": {},
   "outputs": [],
   "source": [
    "## lambda는 간단한 함수 개념\n",
    "temp_list = [1,2,3,4,5]\n",
    "list(map(lambda x : x*10 , temp_list))"
   ]
  },
  {
   "cell_type": "code",
   "execution_count": null,
   "metadata": {
    "scrolled": true
   },
   "outputs": [],
   "source": [
    "df_sejong['시군구'].str.split(\" \",expand=True)[1]"
   ]
  },
  {
   "cell_type": "code",
   "execution_count": null,
   "metadata": {},
   "outputs": [],
   "source": [
    "df_sejong['시군구'].str.split(' ',expand =True)[1]"
   ]
  },
  {
   "cell_type": "code",
   "execution_count": null,
   "metadata": {},
   "outputs": [],
   "source": [
    "df_sejong['시군구'].map(lambda x : x.split(' ')[1] )"
   ]
  },
  {
   "cell_type": "code",
   "execution_count": null,
   "metadata": {},
   "outputs": [],
   "source": [
    "df_sejong['시군구'].map(lambda x : x.split(\" \")[1])"
   ]
  },
  {
   "cell_type": "code",
   "execution_count": null,
   "metadata": {},
   "outputs": [],
   "source": [
    "## map(lambda)는 원소 접근이므로 str.split이 아닌, split을 써야함 \n",
    "## 판다스 접근과는 다르게 문자열 자체에 대한 접근임을 잊으면 안됨!! \n",
    "a = \"세종특별자치시 고운동\"\n",
    "a.split(\" \")"
   ]
  },
  {
   "cell_type": "code",
   "execution_count": null,
   "metadata": {
    "scrolled": true
   },
   "outputs": [],
   "source": [
    "df_sejong['계약년월']"
   ]
  },
  {
   "cell_type": "code",
   "execution_count": null,
   "metadata": {},
   "outputs": [],
   "source": [
    "df_sejong['계약년월'].astype(str).str[0:4]"
   ]
  },
  {
   "cell_type": "code",
   "execution_count": null,
   "metadata": {
    "scrolled": true
   },
   "outputs": [],
   "source": [
    "df_sejong['계약년월'].map(lambda x : str(x)[0:4]) "
   ]
  },
  {
   "cell_type": "code",
   "execution_count": null,
   "metadata": {},
   "outputs": [],
   "source": []
  }
 ],
 "metadata": {
  "kernelspec": {
   "display_name": "Python 3.8.9 64-bit",
   "language": "python",
   "name": "python3"
  },
  "language_info": {
   "codemirror_mode": {
    "name": "ipython",
    "version": 3
   },
   "file_extension": ".py",
   "mimetype": "text/x-python",
   "name": "python",
   "nbconvert_exporter": "python",
   "pygments_lexer": "ipython3",
   "version": "3.8.9"
  },
  "toc": {
   "base_numbering": "3.4",
   "nav_menu": {},
   "number_sections": true,
   "sideBar": true,
   "skip_h1_title": false,
   "title_cell": "Table of Contents",
   "title_sidebar": "Contents",
   "toc_cell": false,
   "toc_position": {
    "height": "calc(100% - 180px)",
    "left": "10px",
    "top": "150px",
    "width": "165px"
   },
   "toc_section_display": true,
   "toc_window_display": false
  },
  "vscode": {
   "interpreter": {
    "hash": "570feb405e2e27c949193ac68f46852414290d515b0ba6e5d90d076ed2284471"
   }
  }
 },
 "nbformat": 4,
 "nbformat_minor": 4
}
