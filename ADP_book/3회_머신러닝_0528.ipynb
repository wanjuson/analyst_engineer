{
 "cells": [
  {
   "cell_type": "code",
   "execution_count": null,
   "id": "f4987147",
   "metadata": {},
   "outputs": [],
   "source": [
    "## 최신 기출동형 모의고사 - 제3회 기출동형 모의고사\n",
    "## 1. 머신러닝 (50점)"
   ]
  },
  {
   "cell_type": "code",
   "execution_count": 1,
   "id": "beb529b1",
   "metadata": {},
   "outputs": [],
   "source": [
    "# (1) 데이터를 탐색하고 탐색 결과를 제시하시오.\n",
    "# (2) 결측치를 탐색하고 대체 방법 및 근거를 제시하시오.\n",
    "# (4) 데이터 불균형을 시각화하여 식별하고 불균형 판단근거를 작성하시오.\n",
    "# (6) 기법을 선정한 이유를 작성하고, 원데이터를 포함해 3개의 데이터 세트를 구성하시오.\n",
    "# (7) 오버 샘플링 데이터와 원데이터를 사용해 정확도 측면 모델 하나와 속도 측면의 모델 하나를 선정하고, 그 이유를 설명하시오."
   ]
  },
  {
   "cell_type": "code",
   "execution_count": 2,
   "id": "14f79ebe",
   "metadata": {},
   "outputs": [
    {
     "data": {
      "text/plain": [
       "is_canceled                          0\n",
       "deposit_type                         0\n",
       "lead_time                            5\n",
       "stays_in_weekend_nights              0\n",
       "stays_in_week_nights                 0\n",
       "is_repeated_guest                  358\n",
       "previous_cancellations               0\n",
       "previous_bookings_not_canceled       0\n",
       "booking_changes                      0\n",
       "days_in_waiting_list                 0\n",
       "adr                               1063\n",
       "dtype: int64"
      ]
     },
     "execution_count": 2,
     "metadata": {},
     "output_type": "execute_result"
    }
   ],
   "source": [
    "import pandas as pd\n",
    "import numpy as np \n",
    "hotel = pd.read_csv('C:/adp/data/hotel_bookings.csv')\n",
    "hotel\n",
    "\n",
    "## 결측치 확인\n",
    "hotel.isna().sum()\n",
    "# lead_time, is_repeated_guest, adr 결측치가 존재함"
   ]
  },
  {
   "cell_type": "code",
   "execution_count": 3,
   "id": "8feac57f",
   "metadata": {},
   "outputs": [
    {
     "name": "stdout",
     "output_type": "stream",
     "text": [
      "<class 'pandas.core.frame.DataFrame'>\n",
      "RangeIndex: 20000 entries, 0 to 19999\n",
      "Data columns (total 11 columns):\n",
      " #   Column                          Non-Null Count  Dtype  \n",
      "---  ------                          --------------  -----  \n",
      " 0   is_canceled                     20000 non-null  int64  \n",
      " 1   deposit_type                    20000 non-null  object \n",
      " 2   lead_time                       19995 non-null  float64\n",
      " 3   stays_in_weekend_nights         20000 non-null  int64  \n",
      " 4   stays_in_week_nights            20000 non-null  int64  \n",
      " 5   is_repeated_guest               19642 non-null  float64\n",
      " 6   previous_cancellations          20000 non-null  int64  \n",
      " 7   previous_bookings_not_canceled  20000 non-null  int64  \n",
      " 8   booking_changes                 20000 non-null  int64  \n",
      " 9   days_in_waiting_list            20000 non-null  int64  \n",
      " 10  adr                             18937 non-null  float64\n",
      "dtypes: float64(3), int64(7), object(1)\n",
      "memory usage: 1.7+ MB\n"
     ]
    }
   ],
   "source": [
    "#### (1) 데이터를 탐색하고 탐색 결과를 제시하시오.\n",
    "hotel.info()\n",
    "# object 변수는 인코딩 필요\n",
    "# lead_time, is_repeated_guest, adr 변수는 결측치가 존재하여 결측치 처리 필요"
   ]
  },
  {
   "cell_type": "code",
   "execution_count": 4,
   "id": "aef30fe6",
   "metadata": {},
   "outputs": [
    {
     "data": {
      "text/html": [
       "<div>\n",
       "<style scoped>\n",
       "    .dataframe tbody tr th:only-of-type {\n",
       "        vertical-align: middle;\n",
       "    }\n",
       "\n",
       "    .dataframe tbody tr th {\n",
       "        vertical-align: top;\n",
       "    }\n",
       "\n",
       "    .dataframe thead th {\n",
       "        text-align: right;\n",
       "    }\n",
       "</style>\n",
       "<table border=\"1\" class=\"dataframe\">\n",
       "  <thead>\n",
       "    <tr style=\"text-align: right;\">\n",
       "      <th></th>\n",
       "      <th>is_canceled</th>\n",
       "      <th>lead_time</th>\n",
       "      <th>stays_in_weekend_nights</th>\n",
       "      <th>stays_in_week_nights</th>\n",
       "      <th>is_repeated_guest</th>\n",
       "      <th>previous_cancellations</th>\n",
       "      <th>previous_bookings_not_canceled</th>\n",
       "      <th>booking_changes</th>\n",
       "      <th>days_in_waiting_list</th>\n",
       "      <th>adr</th>\n",
       "    </tr>\n",
       "  </thead>\n",
       "  <tbody>\n",
       "    <tr>\n",
       "      <th>count</th>\n",
       "      <td>20000.00000</td>\n",
       "      <td>19995.000000</td>\n",
       "      <td>20000.000000</td>\n",
       "      <td>20000.000000</td>\n",
       "      <td>19642.000000</td>\n",
       "      <td>20000.000000</td>\n",
       "      <td>20000.000000</td>\n",
       "      <td>20000.000000</td>\n",
       "      <td>20000.000000</td>\n",
       "      <td>18937.000000</td>\n",
       "    </tr>\n",
       "    <tr>\n",
       "      <th>mean</th>\n",
       "      <td>0.12000</td>\n",
       "      <td>85.978345</td>\n",
       "      <td>0.892550</td>\n",
       "      <td>2.380400</td>\n",
       "      <td>0.038133</td>\n",
       "      <td>0.032900</td>\n",
       "      <td>0.169050</td>\n",
       "      <td>0.269400</td>\n",
       "      <td>1.983950</td>\n",
       "      <td>101.410239</td>\n",
       "    </tr>\n",
       "    <tr>\n",
       "      <th>std</th>\n",
       "      <td>0.32497</td>\n",
       "      <td>96.427240</td>\n",
       "      <td>0.952077</td>\n",
       "      <td>1.777345</td>\n",
       "      <td>0.191521</td>\n",
       "      <td>0.455552</td>\n",
       "      <td>1.502426</td>\n",
       "      <td>0.687566</td>\n",
       "      <td>15.927212</td>\n",
       "      <td>49.245097</td>\n",
       "    </tr>\n",
       "    <tr>\n",
       "      <th>min</th>\n",
       "      <td>0.00000</td>\n",
       "      <td>0.000000</td>\n",
       "      <td>0.000000</td>\n",
       "      <td>0.000000</td>\n",
       "      <td>0.000000</td>\n",
       "      <td>0.000000</td>\n",
       "      <td>0.000000</td>\n",
       "      <td>0.000000</td>\n",
       "      <td>0.000000</td>\n",
       "      <td>-6.380000</td>\n",
       "    </tr>\n",
       "    <tr>\n",
       "      <th>25%</th>\n",
       "      <td>0.00000</td>\n",
       "      <td>11.000000</td>\n",
       "      <td>0.000000</td>\n",
       "      <td>1.000000</td>\n",
       "      <td>0.000000</td>\n",
       "      <td>0.000000</td>\n",
       "      <td>0.000000</td>\n",
       "      <td>0.000000</td>\n",
       "      <td>0.000000</td>\n",
       "      <td>68.800000</td>\n",
       "    </tr>\n",
       "    <tr>\n",
       "      <th>50%</th>\n",
       "      <td>0.00000</td>\n",
       "      <td>51.000000</td>\n",
       "      <td>1.000000</td>\n",
       "      <td>2.000000</td>\n",
       "      <td>0.000000</td>\n",
       "      <td>0.000000</td>\n",
       "      <td>0.000000</td>\n",
       "      <td>0.000000</td>\n",
       "      <td>0.000000</td>\n",
       "      <td>94.500000</td>\n",
       "    </tr>\n",
       "    <tr>\n",
       "      <th>75%</th>\n",
       "      <td>0.00000</td>\n",
       "      <td>132.000000</td>\n",
       "      <td>2.000000</td>\n",
       "      <td>3.000000</td>\n",
       "      <td>0.000000</td>\n",
       "      <td>0.000000</td>\n",
       "      <td>0.000000</td>\n",
       "      <td>0.000000</td>\n",
       "      <td>0.000000</td>\n",
       "      <td>126.000000</td>\n",
       "    </tr>\n",
       "    <tr>\n",
       "      <th>max</th>\n",
       "      <td>1.00000</td>\n",
       "      <td>629.000000</td>\n",
       "      <td>13.000000</td>\n",
       "      <td>30.000000</td>\n",
       "      <td>1.000000</td>\n",
       "      <td>26.000000</td>\n",
       "      <td>66.000000</td>\n",
       "      <td>17.000000</td>\n",
       "      <td>379.000000</td>\n",
       "      <td>451.500000</td>\n",
       "    </tr>\n",
       "  </tbody>\n",
       "</table>\n",
       "</div>"
      ],
      "text/plain": [
       "       is_canceled     lead_time  stays_in_weekend_nights  \\\n",
       "count  20000.00000  19995.000000             20000.000000   \n",
       "mean       0.12000     85.978345                 0.892550   \n",
       "std        0.32497     96.427240                 0.952077   \n",
       "min        0.00000      0.000000                 0.000000   \n",
       "25%        0.00000     11.000000                 0.000000   \n",
       "50%        0.00000     51.000000                 1.000000   \n",
       "75%        0.00000    132.000000                 2.000000   \n",
       "max        1.00000    629.000000                13.000000   \n",
       "\n",
       "       stays_in_week_nights  is_repeated_guest  previous_cancellations  \\\n",
       "count          20000.000000       19642.000000            20000.000000   \n",
       "mean               2.380400           0.038133                0.032900   \n",
       "std                1.777345           0.191521                0.455552   \n",
       "min                0.000000           0.000000                0.000000   \n",
       "25%                1.000000           0.000000                0.000000   \n",
       "50%                2.000000           0.000000                0.000000   \n",
       "75%                3.000000           0.000000                0.000000   \n",
       "max               30.000000           1.000000               26.000000   \n",
       "\n",
       "       previous_bookings_not_canceled  booking_changes  days_in_waiting_list  \\\n",
       "count                    20000.000000     20000.000000          20000.000000   \n",
       "mean                         0.169050         0.269400              1.983950   \n",
       "std                          1.502426         0.687566             15.927212   \n",
       "min                          0.000000         0.000000              0.000000   \n",
       "25%                          0.000000         0.000000              0.000000   \n",
       "50%                          0.000000         0.000000              0.000000   \n",
       "75%                          0.000000         0.000000              0.000000   \n",
       "max                         66.000000        17.000000            379.000000   \n",
       "\n",
       "                adr  \n",
       "count  18937.000000  \n",
       "mean     101.410239  \n",
       "std       49.245097  \n",
       "min       -6.380000  \n",
       "25%       68.800000  \n",
       "50%       94.500000  \n",
       "75%      126.000000  \n",
       "max      451.500000  "
      ]
     },
     "execution_count": 4,
     "metadata": {},
     "output_type": "execute_result"
    }
   ],
   "source": [
    "hotel.describe()"
   ]
  },
  {
   "cell_type": "code",
   "execution_count": 5,
   "id": "9b33e3e4",
   "metadata": {},
   "outputs": [
    {
     "data": {
      "text/plain": [
       "No Deposit    19138\n",
       "Non Refund      834\n",
       "Refundable       28\n",
       "Name: deposit_type, dtype: int64"
      ]
     },
     "execution_count": 5,
     "metadata": {},
     "output_type": "execute_result"
    }
   ],
   "source": [
    "hotel['deposit_type'].value_counts()\n",
    "# deposit_type에 데이터 불균형"
   ]
  },
  {
   "cell_type": "code",
   "execution_count": 6,
   "id": "c7794789",
   "metadata": {},
   "outputs": [
    {
     "data": {
      "text/plain": [
       "(array([19138.,     0.,     0.,     0.,     0.,    28.,     0.,     0.,\n",
       "            0.,   834.]),\n",
       " array([0. , 0.2, 0.4, 0.6, 0.8, 1. , 1.2, 1.4, 1.6, 1.8, 2. ]),\n",
       " <BarContainer object of 10 artists>)"
      ]
     },
     "execution_count": 6,
     "metadata": {},
     "output_type": "execute_result"
    },
    {
     "data": {
      "image/png": "[encoded data removed]",
      "text/plain": [
       "<Figure size 640x480 with 1 Axes>"
      ]
     },
     "metadata": {},
     "output_type": "display_data"
    }
   ],
   "source": [
    "import matplotlib.pyplot as plt\n",
    "plt.hist(hotel['deposit_type'])"
   ]
  },
  {
   "cell_type": "code",
   "execution_count": 7,
   "id": "e35addf6",
   "metadata": {},
   "outputs": [
    {
     "data": {
      "text/plain": [
       "(array([1.196e+03, 6.500e+03, 7.151e+03, 2.680e+03, 9.360e+02, 3.500e+02,\n",
       "        9.400e+01, 2.200e+01, 5.000e+00, 3.000e+00]),\n",
       " array([ -6.38 ,  39.408,  85.196, 130.984, 176.772, 222.56 , 268.348,\n",
       "        314.136, 359.924, 405.712, 451.5  ]),\n",
       " <BarContainer object of 10 artists>)"
      ]
     },
     "execution_count": 7,
     "metadata": {},
     "output_type": "execute_result"
    },
    {
     "data": {
      "image/png": "[encoded data removed]",
      "text/plain": [
       "<Figure size 640x480 with 1 Axes>"
      ]
     },
     "metadata": {},
     "output_type": "display_data"
    }
   ],
   "source": [
    "plt.hist(hotel['adr'])"
   ]
  },
  {
   "cell_type": "code",
   "execution_count": 8,
   "id": "0f48a140",
   "metadata": {},
   "outputs": [],
   "source": [
    "## (2) 결측치를 탐색하고 대체 방법 및 근거를 제시하시오.\n",
    "# lead_time, is_repeated_guest, adr 결측치가 존재하며 \n",
    "# 데이터를 삭제로 인한 데이터 손실을 방지하고자 최근접이웃대체법으로 대체함\n",
    "from sklearn.impute import KNNImputer\n",
    "hotel_fill_columns = ['lead_time', 'is_repeated_guest', 'adr']\n",
    "imputer = KNNImputer()\n",
    "hotel_knnim = imputer.fit_transform(hotel[hotel_fill_columns])\n",
    "hotel[hotel_fill_columns] = hotel_knnim"
   ]
  },
  {
   "cell_type": "code",
   "execution_count": 9,
   "id": "f4436b05",
   "metadata": {},
   "outputs": [
    {
     "data": {
      "text/plain": [
       "is_canceled                       0\n",
       "deposit_type                      0\n",
       "lead_time                         0\n",
       "stays_in_weekend_nights           0\n",
       "stays_in_week_nights              0\n",
       "is_repeated_guest                 0\n",
       "previous_cancellations            0\n",
       "previous_bookings_not_canceled    0\n",
       "booking_changes                   0\n",
       "days_in_waiting_list              0\n",
       "adr                               0\n",
       "dtype: int64"
      ]
     },
     "execution_count": 9,
     "metadata": {},
     "output_type": "execute_result"
    }
   ],
   "source": [
    "hotel.isna().sum() # 결측치 대체 완료"
   ]
  },
  {
   "cell_type": "code",
   "execution_count": 10,
   "id": "8dac1a2f",
   "metadata": {},
   "outputs": [
    {
     "data": {
      "text/plain": [
       "0.0    19195\n",
       "1.0      749\n",
       "0.2       45\n",
       "0.4        8\n",
       "0.8        2\n",
       "0.6        1\n",
       "Name: is_repeated_guest, dtype: int64"
      ]
     },
     "execution_count": 10,
     "metadata": {},
     "output_type": "execute_result"
    }
   ],
   "source": [
    "## (3) 데이터 질을 향상시킬 수 있는 방법을 제안하시오.\n",
    "hotel['is_repeated_guest'].value_counts() \n",
    "# is_repeated_guest 변수에 0 값이 대부분임\n",
    "# is_repeated_guest에서 0이외의 데이터를 더 수집하여 불균형을 해소한다."
   ]
  },
  {
   "cell_type": "code",
   "execution_count": 11,
   "id": "d2c3ed6e",
   "metadata": {},
   "outputs": [],
   "source": [
    "# 각 변수에 IQR 방식으로 이상치를 보정해주어 극단값을 제거함으로써 모델의 정확도를 향상한다."
   ]
  },
  {
   "cell_type": "code",
   "execution_count": 12,
   "id": "4621dbf0",
   "metadata": {},
   "outputs": [
    {
     "data": {
      "text/plain": [
       "(array([17600.,     0.,     0.,     0.,     0.,     0.,     0.,     0.,\n",
       "            0.,  2400.]),\n",
       " array([0. , 0.1, 0.2, 0.3, 0.4, 0.5, 0.6, 0.7, 0.8, 0.9, 1. ]),\n",
       " <BarContainer object of 10 artists>)"
      ]
     },
     "execution_count": 12,
     "metadata": {},
     "output_type": "execute_result"
    },
    {
     "data": {
      "image/png": "[encoded data removed]",
      "text/plain": [
       "<Figure size 640x480 with 1 Axes>"
      ]
     },
     "metadata": {},
     "output_type": "display_data"
    }
   ],
   "source": [
    "#### (4) 데이터 불균형을 시각화하여 식별하고 불균형 판단근거를 작성하시오.\n",
    "plt.hist(hotel['is_canceled'])\n",
    "# is_canceled 변수는 0,1로 이루어진 데이터이며 0,1에 비율이 88%,12%의 비율이므로\n",
    "# 해당 데이터는 불균형한 데이터이다."
   ]
  },
  {
   "cell_type": "code",
   "execution_count": 13,
   "id": "d92f4c3b",
   "metadata": {},
   "outputs": [],
   "source": [
    "# (5) 오버 샘플링 기법을 설명하고 비교한 뒤 2개 기법을 선정하고 근거를 제시하시오.\n",
    "# 오버 샘플링 기법은 비중이 작은 데이터를 추가로 생성해 수를 늘려 데이터 불균형을 극복하는 방식이다.\n",
    "# 언더 샘플링 기법은 반대로 비중이 높은 데이터를 삭제해 데이터 불균형을 극복하는 방식이다. \n",
    "# 삭제로 인한 데이터 손실이 발생하므로 오버 샘플링을 주로 사용한다.\n",
    "# 오버 샘플링에는 Random 오버 샘플링과 SMOTE 방식이 있다.\n",
    "\n",
    "# Random 오버 샘플링는 무작위로 동일한 표본을 복사하는 방식으로 데이터를 증식한다.\n",
    "# 데이터를 단순 복사하는 방식이므로 기존의 데이터와 동일한 복제 데이터를 생성한다.\n",
    "# RANDOM Oversampling은 소수 클래스에 과적합이 발생할 가능성이 있다는 단점이 있지만, 사용방법이 간단하다는 장점이 있다.\n",
    "\n",
    "# SMOTE\n",
    "# SMOTE는 적은 데이터세트에 있는 개별 데이터들의 K-최근접 이웃을 찾아, 해당 데이터와 가장 가까운 데이터를 생성하는 방식.\n",
    "# SMOTE는 RANDOM Oversampling 보다는 처리속도가 느리다는 단점이 있지만, 과적합 문제를 해결할 수 있다는 장점이 있다.\n"
   ]
  },
  {
   "cell_type": "code",
   "execution_count": 14,
   "id": "8c2e9ce2",
   "metadata": {},
   "outputs": [],
   "source": [
    "#### (6) 기법을 선정한 이유를 작성하고, 원데이터를 포함해 3개의 데이터 세트를 구성하시오.\n",
    "# RANDOM Oversampling 간단하게 데이터 불균형을 해결할 수 있어서 선택함\n",
    "# SMOTE는 데이터 과적합을 해결할 수 있어서 선택함"
   ]
  },
  {
   "cell_type": "code",
   "execution_count": 15,
   "id": "391f6887",
   "metadata": {},
   "outputs": [],
   "source": [
    "# object변수 인코딩\n",
    "hotel02 = pd.get_dummies(hotel)"
   ]
  },
  {
   "cell_type": "code",
   "execution_count": 16,
   "id": "9a349025",
   "metadata": {},
   "outputs": [],
   "source": [
    "from imblearn.over_sampling import RandomOverSampler, SMOTE\n",
    "# 원본데이터 hotel02\n",
    "X = hotel02.drop('is_canceled', axis = 1)\n",
    "y = hotel02['is_canceled']\n",
    "\n",
    "# RANDOM Oversampling\n",
    "ros = RandomOverSampler(random_state = 2023)\n",
    "X_ro, y_ro = ros.fit_resample(X, y)"
   ]
  },
  {
   "cell_type": "code",
   "execution_count": 17,
   "id": "777df4da",
   "metadata": {},
   "outputs": [],
   "source": [
    "# SMOTE\n",
    "sm = SMOTE(random_state = 2023)\n",
    "X_sm, y_sm = sm.fit_resample(X, y)"
   ]
  },
  {
   "cell_type": "code",
   "execution_count": 18,
   "id": "2dd182c9",
   "metadata": {},
   "outputs": [
    {
     "name": "stdout",
     "output_type": "stream",
     "text": [
      "train 정확도 :  0.9338571428571428\n",
      "              precision    recall  f1-score   support\n",
      "\n",
      "           0       0.92      1.00      0.96      5280\n",
      "           1       0.96      0.38      0.55       720\n",
      "\n",
      "    accuracy                           0.92      6000\n",
      "   macro avg       0.94      0.69      0.75      6000\n",
      "weighted avg       0.93      0.92      0.91      6000\n",
      "\n",
      "test 정확도 :  0.9238333333333333\n",
      "time :  1.458061933517456\n"
     ]
    }
   ],
   "source": [
    "#### (7) 오버 샘플링 데이터와 원데이터를 사용해 정확도 측면 모델 하나와 속도 측면의 모델 하나를 선정하고, 그 이유를 설명하시오.\n",
    "# 원본데이터\n",
    "from sklearn.model_selection import train_test_split\n",
    "from sklearn.ensemble import RandomForestClassifier\n",
    "from sklearn.metrics import classification_report\n",
    "import time\n",
    "\n",
    "start = time.time()\n",
    "X_train, X_test, y_train, y_test = train_test_split(X, y, test_size = 0.3, stratify = y, random_state = 3)\n",
    "clf = RandomForestClassifier(n_estimators = 100, min_samples_split = 10)\n",
    "\n",
    "clf.fit(X_train, y_train)\n",
    "print('train 정확도 : ', clf.score(X_train, y_train))\n",
    "pred = clf.predict(X_test)\n",
    "print(classification_report(y_test, pred))\n",
    "print('test 정확도 : ', clf.score(X_test, y_test) )\n",
    "\n",
    "print('time : ', time.time() - start)"
   ]
  },
  {
   "cell_type": "code",
   "execution_count": 19,
   "id": "71b57f12",
   "metadata": {},
   "outputs": [
    {
     "name": "stdout",
     "output_type": "stream",
     "text": [
      "train 정확도 :  0.9806818181818182\n",
      "              precision    recall  f1-score   support\n",
      "\n",
      "           0       0.95      0.93      0.94      5280\n",
      "           1       0.93      0.95      0.94      5280\n",
      "\n",
      "    accuracy                           0.94     10560\n",
      "   macro avg       0.94      0.94      0.94     10560\n",
      "weighted avg       0.94      0.94      0.94     10560\n",
      "\n",
      "test 정확도 :  0.9390151515151515\n",
      "time :  2.4902637004852295\n"
     ]
    }
   ],
   "source": [
    "# 랜덤오버샘플링\n",
    "start = time.time()\n",
    "X_ro_train, X_ro_test, y_ro_train, y_ro_test = train_test_split(X_ro, y_ro, test_size = 0.3, stratify = y_ro, random_state = 3)\n",
    "clf = RandomForestClassifier(n_estimators = 100, min_samples_split = 10)\n",
    "\n",
    "clf.fit(X_ro_train, y_ro_train)\n",
    "print('train 정확도 : ', clf.score(X_ro_train, y_ro_train))\n",
    "pred = clf.predict(X_ro_test)\n",
    "print(classification_report(y_ro_test, pred))\n",
    "print('test 정확도 : ', clf.score(X_ro_test, y_ro_test) )\n",
    "\n",
    "print('time : ', time.time() - start)"
   ]
  },
  {
   "cell_type": "code",
   "execution_count": 23,
   "id": "27ab017a",
   "metadata": {},
   "outputs": [
    {
     "name": "stdout",
     "output_type": "stream",
     "text": [
      "train 정확도 :  0.9637987012987013\n",
      "              precision    recall  f1-score   support\n",
      "\n",
      "           0       0.50      0.61      0.55      5280\n",
      "           1       0.50      0.40      0.44      5280\n",
      "\n",
      "    accuracy                           0.50     10560\n",
      "   macro avg       0.50      0.50      0.50     10560\n",
      "weighted avg       0.50      0.50      0.50     10560\n",
      "\n",
      "test 정확도 :  0.8820075757575757\n",
      "time :  2.687739610671997\n"
     ]
    }
   ],
   "source": [
    "# SMOTE\n",
    "start = time.time()\n",
    "X_sm_train, X_sm_test, y_sm_train, y_sm_test = train_test_split(X_sm, y_sm, test_size = 0.3, stratify = y_sm, random_state = 2)\n",
    "clf = RandomForestClassifier(n_estimators = 100, min_samples_split = 10)\n",
    "\n",
    "clf.fit(X_sm_train, y_sm_train)\n",
    "print('train 정확도 : ', clf.score(X_sm_train, y_sm_train))\n",
    "pred = clf.predict(X_ro_test)\n",
    "print(classification_report(y_sm_test, pred))\n",
    "print('test 정확도 : ', clf.score(X_sm_test, y_sm_test) )\n",
    "\n",
    "print('time : ', time.time() - start)\n"
   ]
  },
  {
   "cell_type": "code",
   "execution_count": null,
   "id": "92180770",
   "metadata": {},
   "outputs": [],
   "source": [
    "# 정확도 측면에서는 Random 오버 샘플링을 선정하고 시간 측면에서는 원데이터가 가장 우수하다.\n",
    "# 다만, Random 오버 샘플링은 과적합으로 인해서 정확도가 높게 나올수 있어서 주의가 필요하다."
   ]
  },
  {
   "cell_type": "code",
   "execution_count": null,
   "id": "67613997",
   "metadata": {},
   "outputs": [],
   "source": [
    "# (8) 결과 작성\n",
    "# 원데이터의 train 정확도 :  0.9339285714285714이고 test 정확도 :  0.9248333333333333 로 매우 높아 과적합이 발생함을 추정할 수 잇따.\n",
    "# smote 오버샘플링 후 분석한 결과는 train 정확도 :  0.9607954545454546이고 test 정확도 :  0.8829545454545454 으로 과적합이 다소 해소됨을 확인할 수 있다.\n",
    "# 오버샘플링을 통해서 분석의 정확도가 낮아졌다고 생각할 수 있으나, 이는 과적합에 대한 해소가 발생하였기 때문이자.\n",
    "# 따라서, 예측모델 일반화가 가능한 Case는 SMOTE 오버샘플링을 통한 분석이다."
   ]
  }
 ],
 "metadata": {
  "kernelspec": {
   "display_name": "Python 3",
   "language": "python",
   "name": "python3"
  },
  "language_info": {
   "codemirror_mode": {
    "name": "ipython",
    "version": 3
   },
   "file_extension": ".py",
   "mimetype": "text/x-python",
   "name": "python",
   "nbconvert_exporter": "python",
   "pygments_lexer": "ipython3",
   "version": "3.7.9"
  },
  "vscode": {
   "interpreter": {
    "hash": "5aa634c14859627405404137fecabd2d911e45a844039ce454abb52cf9f696dc"
   }
  }
 },
 "nbformat": 4,
 "nbformat_minor": 5
}
