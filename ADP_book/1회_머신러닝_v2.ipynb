{
 "cells": [
  {
   "cell_type": "code",
   "execution_count": 3,
   "id": "da17a7d0",
   "metadata": {},
   "outputs": [
    {
     "data": {
      "text/html": [
       "<div>\n",
       "<style scoped>\n",
       "    .dataframe tbody tr th:only-of-type {\n",
       "        vertical-align: middle;\n",
       "    }\n",
       "\n",
       "    .dataframe tbody tr th {\n",
       "        vertical-align: top;\n",
       "    }\n",
       "\n",
       "    .dataframe thead th {\n",
       "        text-align: right;\n",
       "    }\n",
       "</style>\n",
       "<table border=\"1\" class=\"dataframe\">\n",
       "  <thead>\n",
       "    <tr style=\"text-align: right;\">\n",
       "      <th></th>\n",
       "      <th>school</th>\n",
       "      <th>sex</th>\n",
       "      <th>paid</th>\n",
       "      <th>activities</th>\n",
       "      <th>famrel</th>\n",
       "      <th>freetime</th>\n",
       "      <th>goout</th>\n",
       "      <th>Dalc</th>\n",
       "      <th>Walc</th>\n",
       "      <th>health</th>\n",
       "      <th>absences</th>\n",
       "      <th>grade</th>\n",
       "      <th>G1</th>\n",
       "      <th>G2</th>\n",
       "    </tr>\n",
       "  </thead>\n",
       "  <tbody>\n",
       "    <tr>\n",
       "      <th>0</th>\n",
       "      <td>GP</td>\n",
       "      <td>F</td>\n",
       "      <td>no</td>\n",
       "      <td>no</td>\n",
       "      <td>4.0</td>\n",
       "      <td>3.0</td>\n",
       "      <td>4.0</td>\n",
       "      <td>1.0</td>\n",
       "      <td>1.0</td>\n",
       "      <td>3.0</td>\n",
       "      <td>6.0</td>\n",
       "      <td>6</td>\n",
       "      <td>5</td>\n",
       "      <td>6</td>\n",
       "    </tr>\n",
       "    <tr>\n",
       "      <th>1</th>\n",
       "      <td>GP</td>\n",
       "      <td>F</td>\n",
       "      <td>no</td>\n",
       "      <td>no</td>\n",
       "      <td>5.0</td>\n",
       "      <td>3.0</td>\n",
       "      <td>3.0</td>\n",
       "      <td>1.0</td>\n",
       "      <td>1.0</td>\n",
       "      <td>3.0</td>\n",
       "      <td>4.0</td>\n",
       "      <td>5</td>\n",
       "      <td>5</td>\n",
       "      <td>5</td>\n",
       "    </tr>\n",
       "    <tr>\n",
       "      <th>2</th>\n",
       "      <td>GP</td>\n",
       "      <td>F</td>\n",
       "      <td>yes</td>\n",
       "      <td>no</td>\n",
       "      <td>4.0</td>\n",
       "      <td>3.0</td>\n",
       "      <td>2.0</td>\n",
       "      <td>2.0</td>\n",
       "      <td>3.0</td>\n",
       "      <td>3.0</td>\n",
       "      <td>10.0</td>\n",
       "      <td>8</td>\n",
       "      <td>7</td>\n",
       "      <td>8</td>\n",
       "    </tr>\n",
       "    <tr>\n",
       "      <th>3</th>\n",
       "      <td>GP</td>\n",
       "      <td>F</td>\n",
       "      <td>yes</td>\n",
       "      <td>yes</td>\n",
       "      <td>3.0</td>\n",
       "      <td>2.0</td>\n",
       "      <td>2.0</td>\n",
       "      <td>1.0</td>\n",
       "      <td>1.0</td>\n",
       "      <td>5.0</td>\n",
       "      <td>2.0</td>\n",
       "      <td>15</td>\n",
       "      <td>15</td>\n",
       "      <td>14</td>\n",
       "    </tr>\n",
       "    <tr>\n",
       "      <th>4</th>\n",
       "      <td>GP</td>\n",
       "      <td>F</td>\n",
       "      <td>yes</td>\n",
       "      <td>no</td>\n",
       "      <td>4.0</td>\n",
       "      <td>3.0</td>\n",
       "      <td>2.0</td>\n",
       "      <td>1.0</td>\n",
       "      <td>2.0</td>\n",
       "      <td>5.0</td>\n",
       "      <td>4.0</td>\n",
       "      <td>9</td>\n",
       "      <td>6</td>\n",
       "      <td>10</td>\n",
       "    </tr>\n",
       "  </tbody>\n",
       "</table>\n",
       "</div>"
      ],
      "text/plain": [
       "  school sex paid activities  famrel  freetime  goout  Dalc  Walc  health  \\\n",
       "0     GP   F   no         no     4.0       3.0    4.0   1.0   1.0     3.0   \n",
       "1     GP   F   no         no     5.0       3.0    3.0   1.0   1.0     3.0   \n",
       "2     GP   F  yes         no     4.0       3.0    2.0   2.0   3.0     3.0   \n",
       "3     GP   F  yes        yes     3.0       2.0    2.0   1.0   1.0     5.0   \n",
       "4     GP   F  yes         no     4.0       3.0    2.0   1.0   2.0     5.0   \n",
       "\n",
       "   absences  grade  G1  G2  \n",
       "0       6.0      6   5   6  \n",
       "1       4.0      5   5   5  \n",
       "2      10.0      8   7   8  \n",
       "3       2.0     15  15  14  \n",
       "4       4.0      9   6  10  "
      ]
     },
     "execution_count": 3,
     "metadata": {},
     "output_type": "execute_result"
    }
   ],
   "source": [
    "import pandas as pd\n",
    "import numpy as np\n",
    "\n",
    "df01 = pd.read_csv('C:/Users/A202112006/Desktop/py/data/student_data.csv')\n",
    "df01.head()"
   ]
  },
  {
   "cell_type": "code",
   "execution_count": 6,
   "id": "6978b4bd",
   "metadata": {},
   "outputs": [
    {
     "name": "stdout",
     "output_type": "stream",
     "text": [
      "<class 'pandas.core.frame.DataFrame'>\n",
      "RangeIndex: 395 entries, 0 to 394\n",
      "Data columns (total 14 columns):\n",
      " #   Column      Non-Null Count  Dtype  \n",
      "---  ------      --------------  -----  \n",
      " 0   school      395 non-null    object \n",
      " 1   sex         395 non-null    object \n",
      " 2   paid        395 non-null    object \n",
      " 3   activities  395 non-null    object \n",
      " 4   famrel      394 non-null    float64\n",
      " 5   freetime    393 non-null    float64\n",
      " 6   goout       392 non-null    float64\n",
      " 7   Dalc        391 non-null    float64\n",
      " 8   Walc        393 non-null    float64\n",
      " 9   health      391 non-null    float64\n",
      " 10  absences    392 non-null    float64\n",
      " 11  grade       395 non-null    int64  \n",
      " 12  G1          395 non-null    int64  \n",
      " 13  G2          395 non-null    int64  \n",
      "dtypes: float64(7), int64(3), object(4)\n",
      "memory usage: 43.3+ KB\n"
     ]
    }
   ],
   "source": [
    "## 1. EDA\n",
    "df01.info()\n",
    "# famrel ~ absences 결측치 존재"
   ]
  },
  {
   "cell_type": "code",
   "execution_count": 8,
   "id": "5cbbb25e",
   "metadata": {},
   "outputs": [
    {
     "data": {
      "text/html": [
       "<div>\n",
       "<style scoped>\n",
       "    .dataframe tbody tr th:only-of-type {\n",
       "        vertical-align: middle;\n",
       "    }\n",
       "\n",
       "    .dataframe tbody tr th {\n",
       "        vertical-align: top;\n",
       "    }\n",
       "\n",
       "    .dataframe thead th {\n",
       "        text-align: right;\n",
       "    }\n",
       "</style>\n",
       "<table border=\"1\" class=\"dataframe\">\n",
       "  <thead>\n",
       "    <tr style=\"text-align: right;\">\n",
       "      <th></th>\n",
       "      <th>famrel</th>\n",
       "      <th>freetime</th>\n",
       "      <th>goout</th>\n",
       "      <th>Dalc</th>\n",
       "      <th>Walc</th>\n",
       "      <th>health</th>\n",
       "      <th>absences</th>\n",
       "      <th>grade</th>\n",
       "      <th>G1</th>\n",
       "      <th>G2</th>\n",
       "    </tr>\n",
       "  </thead>\n",
       "  <tbody>\n",
       "    <tr>\n",
       "      <th>count</th>\n",
       "      <td>394.000000</td>\n",
       "      <td>393.000000</td>\n",
       "      <td>392.000000</td>\n",
       "      <td>391.000000</td>\n",
       "      <td>393.000000</td>\n",
       "      <td>391.000000</td>\n",
       "      <td>392.000000</td>\n",
       "      <td>395.000000</td>\n",
       "      <td>395.000000</td>\n",
       "      <td>395.000000</td>\n",
       "    </tr>\n",
       "    <tr>\n",
       "      <th>mean</th>\n",
       "      <td>3.944162</td>\n",
       "      <td>3.239186</td>\n",
       "      <td>3.114796</td>\n",
       "      <td>1.470588</td>\n",
       "      <td>2.284987</td>\n",
       "      <td>3.562660</td>\n",
       "      <td>5.676020</td>\n",
       "      <td>10.660759</td>\n",
       "      <td>10.908861</td>\n",
       "      <td>10.713924</td>\n",
       "    </tr>\n",
       "    <tr>\n",
       "      <th>std</th>\n",
       "      <td>0.897794</td>\n",
       "      <td>0.994265</td>\n",
       "      <td>1.112397</td>\n",
       "      <td>0.873266</td>\n",
       "      <td>1.287778</td>\n",
       "      <td>1.386949</td>\n",
       "      <td>8.013393</td>\n",
       "      <td>3.719390</td>\n",
       "      <td>3.319195</td>\n",
       "      <td>3.761505</td>\n",
       "    </tr>\n",
       "    <tr>\n",
       "      <th>min</th>\n",
       "      <td>1.000000</td>\n",
       "      <td>1.000000</td>\n",
       "      <td>1.000000</td>\n",
       "      <td>1.000000</td>\n",
       "      <td>1.000000</td>\n",
       "      <td>1.000000</td>\n",
       "      <td>0.000000</td>\n",
       "      <td>1.000000</td>\n",
       "      <td>3.000000</td>\n",
       "      <td>0.000000</td>\n",
       "    </tr>\n",
       "    <tr>\n",
       "      <th>25%</th>\n",
       "      <td>4.000000</td>\n",
       "      <td>3.000000</td>\n",
       "      <td>2.000000</td>\n",
       "      <td>1.000000</td>\n",
       "      <td>1.000000</td>\n",
       "      <td>3.000000</td>\n",
       "      <td>0.000000</td>\n",
       "      <td>8.000000</td>\n",
       "      <td>8.000000</td>\n",
       "      <td>9.000000</td>\n",
       "    </tr>\n",
       "    <tr>\n",
       "      <th>50%</th>\n",
       "      <td>4.000000</td>\n",
       "      <td>3.000000</td>\n",
       "      <td>3.000000</td>\n",
       "      <td>1.000000</td>\n",
       "      <td>2.000000</td>\n",
       "      <td>4.000000</td>\n",
       "      <td>4.000000</td>\n",
       "      <td>11.000000</td>\n",
       "      <td>11.000000</td>\n",
       "      <td>11.000000</td>\n",
       "    </tr>\n",
       "    <tr>\n",
       "      <th>75%</th>\n",
       "      <td>5.000000</td>\n",
       "      <td>4.000000</td>\n",
       "      <td>4.000000</td>\n",
       "      <td>2.000000</td>\n",
       "      <td>3.000000</td>\n",
       "      <td>5.000000</td>\n",
       "      <td>8.000000</td>\n",
       "      <td>13.000000</td>\n",
       "      <td>13.000000</td>\n",
       "      <td>13.000000</td>\n",
       "    </tr>\n",
       "    <tr>\n",
       "      <th>max</th>\n",
       "      <td>5.000000</td>\n",
       "      <td>5.000000</td>\n",
       "      <td>5.000000</td>\n",
       "      <td>5.000000</td>\n",
       "      <td>5.000000</td>\n",
       "      <td>5.000000</td>\n",
       "      <td>75.000000</td>\n",
       "      <td>19.000000</td>\n",
       "      <td>19.000000</td>\n",
       "      <td>19.000000</td>\n",
       "    </tr>\n",
       "  </tbody>\n",
       "</table>\n",
       "</div>"
      ],
      "text/plain": [
       "           famrel    freetime       goout        Dalc        Walc      health  \\\n",
       "count  394.000000  393.000000  392.000000  391.000000  393.000000  391.000000   \n",
       "mean     3.944162    3.239186    3.114796    1.470588    2.284987    3.562660   \n",
       "std      0.897794    0.994265    1.112397    0.873266    1.287778    1.386949   \n",
       "min      1.000000    1.000000    1.000000    1.000000    1.000000    1.000000   \n",
       "25%      4.000000    3.000000    2.000000    1.000000    1.000000    3.000000   \n",
       "50%      4.000000    3.000000    3.000000    1.000000    2.000000    4.000000   \n",
       "75%      5.000000    4.000000    4.000000    2.000000    3.000000    5.000000   \n",
       "max      5.000000    5.000000    5.000000    5.000000    5.000000    5.000000   \n",
       "\n",
       "         absences       grade          G1          G2  \n",
       "count  392.000000  395.000000  395.000000  395.000000  \n",
       "mean     5.676020   10.660759   10.908861   10.713924  \n",
       "std      8.013393    3.719390    3.319195    3.761505  \n",
       "min      0.000000    1.000000    3.000000    0.000000  \n",
       "25%      0.000000    8.000000    8.000000    9.000000  \n",
       "50%      4.000000   11.000000   11.000000   11.000000  \n",
       "75%      8.000000   13.000000   13.000000   13.000000  \n",
       "max     75.000000   19.000000   19.000000   19.000000  "
      ]
     },
     "execution_count": 8,
     "metadata": {},
     "output_type": "execute_result"
    }
   ],
   "source": [
    "df01.describe()"
   ]
  },
  {
   "cell_type": "code",
   "execution_count": 9,
   "id": "4eeccaec",
   "metadata": {},
   "outputs": [
    {
     "data": {
      "text/plain": [
       "(array([349.,   0.,   0.,   0.,   0.,   0.,   0.,   0.,   0.,  46.]),\n",
       " array([0. , 0.1, 0.2, 0.3, 0.4, 0.5, 0.6, 0.7, 0.8, 0.9, 1. ]),\n",
       " <BarContainer object of 10 artists>)"
      ]
     },
     "execution_count": 9,
     "metadata": {},
     "output_type": "execute_result"
    },
    {
     "data": {
      "image/png": "[encoded data removed]",
      "text/plain": [
       "<Figure size 432x288 with 1 Axes>"
      ]
     },
     "metadata": {
      "needs_background": "light"
     },
     "output_type": "display_data"
    }
   ],
   "source": [
    "# 그래프 그리기\n",
    "import matplotlib.pyplot as plt\n",
    "plt.hist(df01['school'])"
   ]
  },
  {
   "cell_type": "code",
   "execution_count": 13,
   "id": "9bcfa704",
   "metadata": {},
   "outputs": [
    {
     "data": {
      "text/plain": [
       "(array([194.,   0.,   0.,   0.,   0.,   0.,   0.,   0.,   0., 201.]),\n",
       " array([0. , 0.1, 0.2, 0.3, 0.4, 0.5, 0.6, 0.7, 0.8, 0.9, 1. ]),\n",
       " <BarContainer object of 10 artists>)"
      ]
     },
     "execution_count": 13,
     "metadata": {},
     "output_type": "execute_result"
    },
    {
     "data": {
      "image/png": "[encoded data removed]",
      "text/plain": [
       "<Figure size 432x288 with 1 Axes>"
      ]
     },
     "metadata": {
      "needs_background": "light"
     },
     "output_type": "display_data"
    }
   ],
   "source": [
    "plt.hist(df01['activities'])"
   ]
  },
  {
   "cell_type": "code",
   "execution_count": 14,
   "id": "5db8cda5",
   "metadata": {},
   "outputs": [
    {
     "data": {
      "text/plain": [
       "(array([ 8., 18., 29., 48., 50., 76., 73., 59., 21., 13.]),\n",
       " array([ 1. ,  2.8,  4.6,  6.4,  8.2, 10. , 11.8, 13.6, 15.4, 17.2, 19. ]),\n",
       " <BarContainer object of 10 artists>)"
      ]
     },
     "execution_count": 14,
     "metadata": {},
     "output_type": "execute_result"
    },
    {
     "data": {
      "image/png": "[encoded data removed]",
      "text/plain": [
       "<Figure size 432x288 with 1 Axes>"
      ]
     },
     "metadata": {
      "needs_background": "light"
     },
     "output_type": "display_data"
    }
   ],
   "source": [
    "plt.hist(df01['grade'])\n",
    "# 평균 10.6, 중앙값 11로 분포가 오른쪽으로 조금 치우쳐 있음"
   ]
  },
  {
   "cell_type": "code",
   "execution_count": 16,
   "id": "65ae89a7",
   "metadata": {},
   "outputs": [
    {
     "data": {
      "text/plain": [
       "(array([ 2., 31., 37., 72., 51., 74., 63., 24., 30., 11.]),\n",
       " array([ 3. ,  4.6,  6.2,  7.8,  9.4, 11. , 12.6, 14.2, 15.8, 17.4, 19. ]),\n",
       " <BarContainer object of 10 artists>)"
      ]
     },
     "execution_count": 16,
     "metadata": {},
     "output_type": "execute_result"
    },
    {
     "data": {
      "image/png": "[encoded data removed]",
      "text/plain": [
       "<Figure size 432x288 with 1 Axes>"
      ]
     },
     "metadata": {
      "needs_background": "light"
     },
     "output_type": "display_data"
    }
   ],
   "source": [
    "plt.hist(df01['G1'])"
   ]
  },
  {
   "cell_type": "code",
   "execution_count": 17,
   "id": "05912e4c",
   "metadata": {},
   "outputs": [
    {
     "data": {
      "text/plain": [
       "(array([13.,  0., 16., 35., 82., 81., 78., 57., 18., 15.]),\n",
       " array([ 0. ,  1.9,  3.8,  5.7,  7.6,  9.5, 11.4, 13.3, 15.2, 17.1, 19. ]),\n",
       " <BarContainer object of 10 artists>)"
      ]
     },
     "execution_count": 17,
     "metadata": {},
     "output_type": "execute_result"
    },
    {
     "data": {
      "image/png": "[encoded data removed]",
      "text/plain": [
       "<Figure size 432x288 with 1 Axes>"
      ]
     },
     "metadata": {
      "needs_background": "light"
     },
     "output_type": "display_data"
    }
   ],
   "source": [
    "plt.hist(df01['G2'])"
   ]
  },
  {
   "cell_type": "code",
   "execution_count": 18,
   "id": "0dfb7d35",
   "metadata": {},
   "outputs": [
    {
     "data": {
      "text/html": [
       "<div>\n",
       "<style scoped>\n",
       "    .dataframe tbody tr th:only-of-type {\n",
       "        vertical-align: middle;\n",
       "    }\n",
       "\n",
       "    .dataframe tbody tr th {\n",
       "        vertical-align: top;\n",
       "    }\n",
       "\n",
       "    .dataframe thead th {\n",
       "        text-align: right;\n",
       "    }\n",
       "</style>\n",
       "<table border=\"1\" class=\"dataframe\">\n",
       "  <thead>\n",
       "    <tr style=\"text-align: right;\">\n",
       "      <th></th>\n",
       "      <th>famrel</th>\n",
       "      <th>freetime</th>\n",
       "      <th>goout</th>\n",
       "      <th>Dalc</th>\n",
       "      <th>Walc</th>\n",
       "      <th>health</th>\n",
       "      <th>absences</th>\n",
       "      <th>grade</th>\n",
       "      <th>G1</th>\n",
       "      <th>G2</th>\n",
       "    </tr>\n",
       "  </thead>\n",
       "  <tbody>\n",
       "    <tr>\n",
       "      <th>famrel</th>\n",
       "      <td>1.000000</td>\n",
       "      <td>0.150423</td>\n",
       "      <td>0.070786</td>\n",
       "      <td>-0.093578</td>\n",
       "      <td>-0.107129</td>\n",
       "      <td>0.100663</td>\n",
       "      <td>-0.048382</td>\n",
       "      <td>0.019283</td>\n",
       "      <td>0.022046</td>\n",
       "      <td>-0.018550</td>\n",
       "    </tr>\n",
       "    <tr>\n",
       "      <th>freetime</th>\n",
       "      <td>0.150423</td>\n",
       "      <td>1.000000</td>\n",
       "      <td>0.291859</td>\n",
       "      <td>0.207442</td>\n",
       "      <td>0.145401</td>\n",
       "      <td>0.071042</td>\n",
       "      <td>-0.061367</td>\n",
       "      <td>0.002655</td>\n",
       "      <td>0.007682</td>\n",
       "      <td>-0.013058</td>\n",
       "    </tr>\n",
       "    <tr>\n",
       "      <th>goout</th>\n",
       "      <td>0.070786</td>\n",
       "      <td>0.291859</td>\n",
       "      <td>1.000000</td>\n",
       "      <td>0.254985</td>\n",
       "      <td>0.418976</td>\n",
       "      <td>-0.002893</td>\n",
       "      <td>0.041860</td>\n",
       "      <td>-0.151587</td>\n",
       "      <td>-0.146386</td>\n",
       "      <td>-0.157856</td>\n",
       "    </tr>\n",
       "    <tr>\n",
       "      <th>Dalc</th>\n",
       "      <td>-0.093578</td>\n",
       "      <td>0.207442</td>\n",
       "      <td>0.254985</td>\n",
       "      <td>1.000000</td>\n",
       "      <td>0.643805</td>\n",
       "      <td>0.059272</td>\n",
       "      <td>0.108628</td>\n",
       "      <td>-0.068208</td>\n",
       "      <td>-0.092063</td>\n",
       "      <td>-0.053369</td>\n",
       "    </tr>\n",
       "    <tr>\n",
       "      <th>Walc</th>\n",
       "      <td>-0.107129</td>\n",
       "      <td>0.145401</td>\n",
       "      <td>0.418976</td>\n",
       "      <td>0.643805</td>\n",
       "      <td>1.000000</td>\n",
       "      <td>0.086701</td>\n",
       "      <td>0.135848</td>\n",
       "      <td>-0.090999</td>\n",
       "      <td>-0.128076</td>\n",
       "      <td>-0.084789</td>\n",
       "    </tr>\n",
       "    <tr>\n",
       "      <th>health</th>\n",
       "      <td>0.100663</td>\n",
       "      <td>0.071042</td>\n",
       "      <td>-0.002893</td>\n",
       "      <td>0.059272</td>\n",
       "      <td>0.086701</td>\n",
       "      <td>1.000000</td>\n",
       "      <td>-0.031690</td>\n",
       "      <td>-0.071952</td>\n",
       "      <td>-0.070849</td>\n",
       "      <td>-0.094068</td>\n",
       "    </tr>\n",
       "    <tr>\n",
       "      <th>absences</th>\n",
       "      <td>-0.048382</td>\n",
       "      <td>-0.061367</td>\n",
       "      <td>0.041860</td>\n",
       "      <td>0.108628</td>\n",
       "      <td>0.135848</td>\n",
       "      <td>-0.031690</td>\n",
       "      <td>1.000000</td>\n",
       "      <td>-0.008305</td>\n",
       "      <td>-0.027168</td>\n",
       "      <td>-0.027400</td>\n",
       "    </tr>\n",
       "    <tr>\n",
       "      <th>grade</th>\n",
       "      <td>0.019283</td>\n",
       "      <td>0.002655</td>\n",
       "      <td>-0.151587</td>\n",
       "      <td>-0.068208</td>\n",
       "      <td>-0.090999</td>\n",
       "      <td>-0.071952</td>\n",
       "      <td>-0.008305</td>\n",
       "      <td>1.000000</td>\n",
       "      <td>0.916471</td>\n",
       "      <td>0.964517</td>\n",
       "    </tr>\n",
       "    <tr>\n",
       "      <th>G1</th>\n",
       "      <td>0.022046</td>\n",
       "      <td>0.007682</td>\n",
       "      <td>-0.146386</td>\n",
       "      <td>-0.092063</td>\n",
       "      <td>-0.128076</td>\n",
       "      <td>-0.070849</td>\n",
       "      <td>-0.027168</td>\n",
       "      <td>0.916471</td>\n",
       "      <td>1.000000</td>\n",
       "      <td>0.852118</td>\n",
       "    </tr>\n",
       "    <tr>\n",
       "      <th>G2</th>\n",
       "      <td>-0.018550</td>\n",
       "      <td>-0.013058</td>\n",
       "      <td>-0.157856</td>\n",
       "      <td>-0.053369</td>\n",
       "      <td>-0.084789</td>\n",
       "      <td>-0.094068</td>\n",
       "      <td>-0.027400</td>\n",
       "      <td>0.964517</td>\n",
       "      <td>0.852118</td>\n",
       "      <td>1.000000</td>\n",
       "    </tr>\n",
       "  </tbody>\n",
       "</table>\n",
       "</div>"
      ],
      "text/plain": [
       "            famrel  freetime     goout      Dalc      Walc    health  \\\n",
       "famrel    1.000000  0.150423  0.070786 -0.093578 -0.107129  0.100663   \n",
       "freetime  0.150423  1.000000  0.291859  0.207442  0.145401  0.071042   \n",
       "goout     0.070786  0.291859  1.000000  0.254985  0.418976 -0.002893   \n",
       "Dalc     -0.093578  0.207442  0.254985  1.000000  0.643805  0.059272   \n",
       "Walc     -0.107129  0.145401  0.418976  0.643805  1.000000  0.086701   \n",
       "health    0.100663  0.071042 -0.002893  0.059272  0.086701  1.000000   \n",
       "absences -0.048382 -0.061367  0.041860  0.108628  0.135848 -0.031690   \n",
       "grade     0.019283  0.002655 -0.151587 -0.068208 -0.090999 -0.071952   \n",
       "G1        0.022046  0.007682 -0.146386 -0.092063 -0.128076 -0.070849   \n",
       "G2       -0.018550 -0.013058 -0.157856 -0.053369 -0.084789 -0.094068   \n",
       "\n",
       "          absences     grade        G1        G2  \n",
       "famrel   -0.048382  0.019283  0.022046 -0.018550  \n",
       "freetime -0.061367  0.002655  0.007682 -0.013058  \n",
       "goout     0.041860 -0.151587 -0.146386 -0.157856  \n",
       "Dalc      0.108628 -0.068208 -0.092063 -0.053369  \n",
       "Walc      0.135848 -0.090999 -0.128076 -0.084789  \n",
       "health   -0.031690 -0.071952 -0.070849 -0.094068  \n",
       "absences  1.000000 -0.008305 -0.027168 -0.027400  \n",
       "grade    -0.008305  1.000000  0.916471  0.964517  \n",
       "G1       -0.027168  0.916471  1.000000  0.852118  \n",
       "G2       -0.027400  0.964517  0.852118  1.000000  "
      ]
     },
     "execution_count": 18,
     "metadata": {},
     "output_type": "execute_result"
    }
   ],
   "source": [
    "df01.corr(method = 'pearson')\n",
    "# G1, G2와 상관관계가 0.91, 0.96 으로 매우 높음"
   ]
  },
  {
   "cell_type": "code",
   "execution_count": null,
   "id": "57aa871e",
   "metadata": {},
   "outputs": [],
   "source": [
    "## 2. 결측치를 식별. 예측하는 2가지 방법을 쓰고 이를 선택한 이유를 설명하시요.\n",
    "# 1) 평균대체 : 각 컬럼의 평균값으로 대체하는 방법\n",
    "# 2) 최소이웃대체 : 각 결측치의 최소이웃값으로 대체하는 방법\n",
    "# 평균 대체의 경우 해당 데이터의 분산이 낮아져서 향후, 분석모델링에 부정적인 영향을 줄 수 있음\n",
    "# 그래서 결측값과 가장 가까운 값으로 결측치를 대체함"
   ]
  },
  {
   "cell_type": "code",
   "execution_count": null,
   "id": "70f2411a",
   "metadata": {},
   "outputs": [],
   "source": [
    "# 최소이웃대체 code는 책을 참고하자 ^^;;"
   ]
  },
  {
   "cell_type": "code",
   "execution_count": null,
   "id": "785c4df8",
   "metadata": {},
   "outputs": [],
   "source": []
  },
  {
   "cell_type": "code",
   "execution_count": null,
   "id": "10e12b42",
   "metadata": {},
   "outputs": [],
   "source": []
  },
  {
   "cell_type": "code",
   "execution_count": null,
   "id": "4bf2a17c",
   "metadata": {},
   "outputs": [],
   "source": []
  }
 ],
 "metadata": {
  "kernelspec": {
   "display_name": "Python 3.8.9 64-bit",
   "language": "python",
   "name": "python3"
  },
  "language_info": {
   "codemirror_mode": {
    "name": "ipython",
    "version": 3
   },
   "file_extension": ".py",
   "mimetype": "text/x-python",
   "name": "python",
   "nbconvert_exporter": "python",
   "pygments_lexer": "ipython3",
   "version": "3.8.9"
  },
  "toc": {
   "base_numbering": 1,
   "nav_menu": {},
   "number_sections": true,
   "sideBar": true,
   "skip_h1_title": false,
   "title_cell": "Table of Contents",
   "title_sidebar": "Contents",
   "toc_cell": true,
   "toc_position": {},
   "toc_section_display": true,
   "toc_window_display": true
  },
  "vscode": {
   "interpreter": {
    "hash": "570feb405e2e27c949193ac68f46852414290d515b0ba6e5d90d076ed2284471"
   }
  }
 },
 "nbformat": 4,
 "nbformat_minor": 5
}
