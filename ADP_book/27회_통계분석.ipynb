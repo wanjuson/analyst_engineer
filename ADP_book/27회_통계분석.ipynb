{
 "cells": [
  {
   "cell_type": "markdown",
   "id": "749a3214",
   "metadata": {},
   "source": [
    "### 2. 통계분석 (50점)"
   ]
  },
  {
   "cell_type": "code",
   "execution_count": null,
   "id": "cacd3bf8",
   "metadata": {},
   "outputs": [],
   "source": [
    "# 문제 : https://www.datamanim.com/dataset/ADPpb/00/27.html\n",
    "# 풀이 : https://amaruak00.github.io/2022/12/17/adp27th.html"
   ]
  },
  {
   "cell_type": "code",
   "execution_count": null,
   "id": "711ad498",
   "metadata": {},
   "outputs": [],
   "source": [
    "# Q5. 2년 전 제품 생산량이 100,000개, 1년 전 제품 생산량이 150,000개, 그 후 팩토리 기술의 상승으로 제품 생산량이 250,000개 되었을 때, 연평균 상승률의 대푯값을 구하시오. (반올림하여 소수점 아래 둘째자리까지 표기하시오.) (5점)\n",
    "\n",
    "# Q6. n=8, 표본 평균, 표본 표준편차가 주어졌을 때, 유의수준 0.05 하에서 신뢰구간을 하시오. (반올림하여 소수점 아래 둘째자리까지 구하시오.) (5점)\n",
    "\n",
    "# Q7. Streams.csv 데이터. 강의 상류와 하류의 생물 다양성 점수에 차이가 있는지 검정하시오. (단, 같은 강에서 상류와 하류는 서로 독립적이지 않으며, 종속적인 관계에 있다.)\n",
    "# 7-1. 귀무가설과 대립가설을 세우시오.\n",
    "# 7-2. 검정 통계량과 유의 확률을 구하고, 연구가설 채택 여부를 검정하시오. (반올림하여 소수점 아래 둘째자리까지 표기하시오.)\n",
    "\n",
    "# Q8. Climate.csv 데이터가 주어졌을 때 (데이터셋명 기억나지 않음, 날씨 관련 데이터) 기상 요소 (기온 Temparatures, 강수량 Precipitation, 풍속 Wind) 에 따라 y (y가 뭐였더라. 수치형인데 값 단위가 컸었음) 를 예측하시오.\n",
    "# 8-1. 분위수 회귀분석 (Quantile Regression) 을 사용하여 회귀 계수를 구하시오. (반올림하여 소수점 아래 둘째자리까지 표기하시오.)\n",
    "# 8-2. 온도, 강수량, 풍속 값이 각각 주어졌을 때, y를 예측하시오.\n",
    "\n",
    "# Q9. Traffic.csv 데이터. 지하철에서의 승차 수를 나타내는 데이터로 총 3개의 변수가 주어졌을 때 다음을 수행하시오.\n",
    "# Line: 지하철 호선 / Month: 월 / Traffic: 승차 수\n",
    "# 9-1. 귀무가설과 대립가설을 세우시오.\n",
    "# 9-2. 검정 통계랑과 유의 확률을 구하고, 연구가설 채택 여부를 검정하시오. (반올림하여 소수점 아래 둘째자리까지 표기하시오.)\n"
   ]
  },
  {
   "cell_type": "code",
   "execution_count": 8,
   "id": "ef8e2f35",
   "metadata": {},
   "outputs": [
    {
     "data": {
      "text/plain": [
       "58.11"
      ]
     },
     "execution_count": 8,
     "metadata": {},
     "output_type": "execute_result"
    }
   ],
   "source": [
    "# Q5. 2년 전 제품 생산량이 100,000개, 1년 전 제품 생산량이 150,000개, 그 후 팩토리 기술의 상승으로 제품 생산량이 250,000개 되었을 때, 연평균 상승률의 대푯값을 구하시오. \n",
    "# (반올림하여 소수점 아래 둘째자리까지 표기하시오.) (5점)\n",
    "round(((15 / 10 * 25 / 15)**0.5 - 1) * 100, 2) # 기하평균"
   ]
  },
  {
   "cell_type": "code",
   "execution_count": null,
   "id": "051a453f",
   "metadata": {},
   "outputs": [],
   "source": [
    "# Q6. n=8, 표본 평균, 표본 표준편차가 주어졌을 때, 유의수준 0.05 하에서 신뢰구간을 하시오. (반올림하여 소수점 아래 둘째자리까지 구하시오.) (5점)\n"
   ]
  },
  {
   "cell_type": "code",
   "execution_count": null,
   "id": "777c19cf",
   "metadata": {},
   "outputs": [],
   "source": []
  },
  {
   "cell_type": "code",
   "execution_count": null,
   "id": "b20e7bf0",
   "metadata": {},
   "outputs": [],
   "source": []
  },
  {
   "cell_type": "code",
   "execution_count": null,
   "id": "15cbe026",
   "metadata": {},
   "outputs": [],
   "source": []
  },
  {
   "cell_type": "code",
   "execution_count": null,
   "id": "b6a07473",
   "metadata": {},
   "outputs": [],
   "source": []
  },
  {
   "cell_type": "code",
   "execution_count": null,
   "metadata": {},
   "outputs": [],
   "source": []
  }
 ],
 "metadata": {
  "kernelspec": {
   "display_name": "Python 3",
   "language": "python",
   "name": "python3"
  },
  "language_info": {
   "codemirror_mode": {
    "name": "ipython",
    "version": 3
   },
   "file_extension": ".py",
   "mimetype": "text/x-python",
   "name": "python",
   "nbconvert_exporter": "python",
   "pygments_lexer": "ipython3",
   "version": "3.7.9"
  },
  "vscode": {
   "interpreter": {
    "hash": "5aa634c14859627405404137fecabd2d911e45a844039ce454abb52cf9f696dc"
   }
  }
 },
 "nbformat": 4,
 "nbformat_minor": 5
}
