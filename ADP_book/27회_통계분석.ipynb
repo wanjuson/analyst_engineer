{
 "cells": [
  {
   "cell_type": "markdown",
   "id": "749a3214",
   "metadata": {},
   "source": [
    "### 2. 통계분석(50점)"
   ]
  },
  {
   "cell_type": "code",
   "execution_count": null,
   "id": "cacd3bf8",
   "metadata": {},
   "outputs": [],
   "source": [
    "# 문제 : https://www.datamanim.com/dataset/ADPpb/00/27.html\n",
    "# 풀이 : https://amaruak00.github.io/2022/12/17/adp27th.html"
   ]
  },
  {
   "cell_type": "code",
   "execution_count": null,
   "id": "711ad498",
   "metadata": {},
   "outputs": [],
   "source": [
    "# Q5. 2년 전 제품 생산량이 100,000개, 1년 전 제품 생산량이 150,000개, 그 후 팩토리 기술의 상승으로 제품 생산량이 250,000개 되었을 때, 연평균 상승률의 대푯값을 구하시오. (반올림하여 소수점 아래 둘째자리까지 표기하시오.) (5점)\n",
    "\n",
    "# Q6. n=8, 표본 평균, 표본 표준편차가 주어졌을 때, 유의수준 0.05 하에서 신뢰구간을 하시오. (반올림하여 소수점 아래 둘째자리까지 구하시오.) (5점)\n",
    "\n",
    "# Q7. Streams.csv 데이터. 강의 상류와 하류의 생물 다양성 점수에 차이가 있는지 검정하시오. (단, 같은 강에서 상류와 하류는 서로 독립적이지 않으며, 종속적인 관계에 있다.)\n",
    "# 7-1. 귀무가설과 대립가설을 세우시오.\n",
    "# 7-2. 검정 통계량과 유의 확률을 구하고, 연구가설 채택 여부를 검정하시오. (반올림하여 소수점 아래 둘째자리까지 표기하시오.)\n",
    "\n",
    "# Q8. Climate.csv 데이터가 주어졌을 때 (데이터셋명 기억나지 않음, 날씨 관련 데이터) 기상 요소 (기온 Temparatures, 강수량 Precipitation, 풍속 Wind) 에 따라 y (y가 뭐였더라. 수치형인데 값 단위가 컸었음) 를 예측하시오.\n",
    "# 8-1. 분위수 회귀분석 (Quantile Regression) 을 사용하여 회귀 계수를 구하시오. (반올림하여 소수점 아래 둘째자리까지 표기하시오.)\n",
    "# 8-2. 온도, 강수량, 풍속 값이 각각 주어졌을 때, y를 예측하시오.\n",
    "\n",
    "# Q9. Traffic.csv 데이터. 지하철에서의 승차 수를 나타내는 데이터로 총 3개의 변수가 주어졌을 때 다음을 수행하시오.\n",
    "# Line: 지하철 호선 / Month: 월 / Traffic: 승차 수\n",
    "# 9-1. 귀무가설과 대립가설을 세우시오.\n",
    "# 9-2. 검정 통계랑과 유의 확률을 구하고, 연구가설 채택 여부를 검정하시오. (반올림하여 소수점 아래 둘째자리까지 표기하시오.)"
   ]
  },
  {
   "cell_type": "code",
   "execution_count": 8,
   "id": "ef8e2f35",
   "metadata": {},
   "outputs": [
    {
     "data": {
      "text/plain": [
       "58.11"
      ]
     },
     "execution_count": 8,
     "metadata": {},
     "output_type": "execute_result"
    }
   ],
   "source": [
    "# Q5. 2년 전 제품 생산량이 100,000개, 1년 전 제품 생산량이 150,000개, 그 후 팩토리 기술의 상승으로 제품 생산량이 250,000개 되었을 때, 연평균 상승률의 대푯값을 구하시오. \n",
    "# (반올림하여 소수점 아래 둘째자리까지 표기하시오.) (5점)\n",
    "round(((15 / 10 * 25 / 15)**0.5 - 1) * 100, 2) # 기하평균"
   ]
  },
  {
   "cell_type": "code",
   "execution_count": 19,
   "id": "051a453f",
   "metadata": {},
   "outputs": [
    {
     "data": {
      "text/plain": [
       "(3.7037934146398563, 6.296206585360143)"
      ]
     },
     "execution_count": 19,
     "metadata": {},
     "output_type": "execute_result"
    }
   ],
   "source": [
    "# Q6. n=8, 표본 평균 10, 표본 표준편차 5 가 주어졌을 때, 유의수준 0.05 하에서 신뢰구간을 하시오. (반올림하여 소수점 아래 둘째자리까지 구하시오.) (5점)\n",
    "from scipy import stats \n",
    "import numpy as np\n",
    "stats.t.interval(alpha=0.9, loc=5, scale=np.sqrt(5/10), df=9)"
   ]
  },
  {
   "cell_type": "code",
   "execution_count": null,
   "id": "6b9ae9b6",
   "metadata": {},
   "outputs": [],
   "source": [
    "help(stats.t)"
   ]
  },
  {
   "cell_type": "code",
   "execution_count": 20,
   "id": "777c19cf",
   "metadata": {},
   "outputs": [
    {
     "ename": "AttributeError",
     "evalue": "module 'scipy.stats' has no attribute 'interval'",
     "output_type": "error",
     "traceback": [
      "\u001b[1;31m---------------------------------------------------------------------------\u001b[0m",
      "\u001b[1;31mAttributeError\u001b[0m                            Traceback (most recent call last)",
      "\u001b[1;32m~\\AppData\\Local\\Temp\\ipykernel_27576\\2340789881.py\u001b[0m in \u001b[0;36m<module>\u001b[1;34m\u001b[0m\n\u001b[1;32m----> 1\u001b[1;33m \u001b[0mstats\u001b[0m\u001b[1;33m.\u001b[0m\u001b[0minterval\u001b[0m\u001b[1;33m(\u001b[0m\u001b[0malpha\u001b[0m\u001b[1;33m=\u001b[0m\u001b[1;36m0.9\u001b[0m\u001b[1;33m,\u001b[0m \u001b[0mloc\u001b[0m\u001b[1;33m=\u001b[0m\u001b[1;36m5\u001b[0m\u001b[1;33m,\u001b[0m \u001b[0mscale\u001b[0m\u001b[1;33m=\u001b[0m\u001b[0mnp\u001b[0m\u001b[1;33m.\u001b[0m\u001b[0msqrt\u001b[0m\u001b[1;33m(\u001b[0m\u001b[1;36m5\u001b[0m\u001b[1;33m/\u001b[0m\u001b[1;36m10\u001b[0m\u001b[1;33m)\u001b[0m\u001b[1;33m,\u001b[0m \u001b[0mdf\u001b[0m\u001b[1;33m=\u001b[0m\u001b[1;36m9\u001b[0m\u001b[1;33m)\u001b[0m\u001b[1;33m\u001b[0m\u001b[1;33m\u001b[0m\u001b[0m\n\u001b[0m",
      "\u001b[1;31mAttributeError\u001b[0m: module 'scipy.stats' has no attribute 'interval'"
     ]
    }
   ],
   "source": [
    "# Q7. Streams.csv 데이터. 강의 상류와 하류의 생물 다양성 점수에 차이가 있는지 검정하시오. (단, 같은 강에서 상류와 하류는 서로 독립적이지 않으며, 종속적인 관계에 있다.)\n",
    "# 7-1. 귀무가설과 대립가설을 세우시오.\n",
    " ### H0: 상류-하류간 어류다양성 점수 차이가 없다.\n",
    " ### H1: 점수 차이가 있다."
   ]
  },
  {
   "cell_type": "code",
   "execution_count": 44,
   "id": "fa70a9ed",
   "metadata": {},
   "outputs": [
    {
     "data": {
      "text/plain": [
       "target\n",
       "Iris-versicolor    50\n",
       "Iris-virginica     50\n",
       "dtype: int64"
      ]
     },
     "execution_count": 44,
     "metadata": {},
     "output_type": "execute_result"
    }
   ],
   "source": [
    "import pandas as pd\n",
    "iris = pd.read_csv(\"C:/adp/data/iris.csv\")\n",
    "iris02= iris[['sepal length', 'target']]\n",
    "iris02 = iris02[iris02['target'] != 'Iris-setosa']\n",
    "iris02.value_counts('target')"
   ]
  },
  {
   "cell_type": "code",
   "execution_count": 48,
   "id": "1d98abec",
   "metadata": {},
   "outputs": [],
   "source": [
    "versicolor = iris02[iris02['target'] == 'Iris-versicolor']\n",
    "virginica = iris02[iris02['target'] == 'Iris-virginica']"
   ]
  },
  {
   "cell_type": "code",
   "execution_count": 52,
   "id": "b20e7bf0",
   "metadata": {},
   "outputs": [
    {
     "data": {
      "text/plain": [
       "ShapiroResult(statistic=0.9778355956077576, pvalue=0.46473264694213867)"
      ]
     },
     "execution_count": 52,
     "metadata": {},
     "output_type": "execute_result"
    }
   ],
   "source": [
    "# 7-2. 검정 통계량과 유의 확률을 구하고, 연구가설 채택 여부를 검정하시오. (반올림하여 소수점 아래 둘째자리까지 표기하시오.)\n",
    "import scipy.stats as stats\n",
    "# import pinguin as pg\n",
    "# 정규성 검정\n",
    "stats.shapiro(versicolor['sepal length'])\n",
    "# 0.05보다 크므로 정규성을 나타냄"
   ]
  },
  {
   "cell_type": "code",
   "execution_count": 57,
   "id": "ee90d16d",
   "metadata": {},
   "outputs": [
    {
     "data": {
      "text/plain": [
       "KruskalResult(statistic=24.98930909528678, pvalue=5.764908716512588e-07)"
      ]
     },
     "execution_count": 57,
     "metadata": {},
     "output_type": "execute_result"
    }
   ],
   "source": [
    "## 정규성을 만족하지 못하면\n",
    "stats.kruskal(versicolor['sepal length'], virginica['sepal length'])\n",
    "# 귀무가설 (H0): 분포는 모두 동일하다. (평균 차이 없음)\n",
    "# 대립가설 (H1): 분포가 모두 동일한 것은 아니다. (평균 차이 존재)\n",
    "# pvalue가 0.05보다 작으므 귀무가설을 기각하고 대립가설을 채택함. 차이가 존재함."
   ]
  },
  {
   "cell_type": "code",
   "execution_count": 53,
   "id": "aa94b31d",
   "metadata": {},
   "outputs": [
    {
     "data": {
      "text/plain": [
       "ShapiroResult(statistic=0.9711798429489136, pvalue=0.25832483172416687)"
      ]
     },
     "execution_count": 53,
     "metadata": {},
     "output_type": "execute_result"
    }
   ],
   "source": [
    "stats.shapiro(virginica['sepal length'])\n",
    "# pvalue가 0.05보다 크므로 정규성을 나타냄"
   ]
  },
  {
   "cell_type": "code",
   "execution_count": 55,
   "id": "15cbe026",
   "metadata": {},
   "outputs": [
    {
     "data": {
      "text/plain": [
       "LeveneResult(statistic=1.024522457408365, pvalue=0.31394122352493925)"
      ]
     },
     "execution_count": 55,
     "metadata": {},
     "output_type": "execute_result"
    }
   ],
   "source": [
    "stats.levene(versicolor['sepal length'], virginica['sepal length'])\n",
    "# pvalue가 0.05보다 크므로 등분산성을 나타낸다."
   ]
  },
  {
   "cell_type": "code",
   "execution_count": 56,
   "id": "b6a07473",
   "metadata": {},
   "outputs": [
    {
     "data": {
      "text/plain": [
       "F_onewayResult(statistic=31.687501521236467, pvalue=1.7248563024546714e-07)"
      ]
     },
     "execution_count": 56,
     "metadata": {},
     "output_type": "execute_result"
    }
   ],
   "source": [
    "# anova 검정\n",
    "stats.f_oneway(versicolor['sepal length'], virginica['sepal length'])\n",
    "# pvalue가 0.05보다 작으므로 평균의 차이가 있다고 볼수 있음"
   ]
  },
  {
   "cell_type": "code",
   "execution_count": null,
   "metadata": {},
   "outputs": [],
   "source": []
  },
  {
   "cell_type": "code",
   "execution_count": null,
   "id": "06516930",
   "metadata": {},
   "outputs": [],
   "source": []
  },
  {
   "cell_type": "code",
   "execution_count": null,
   "id": "82491b2e",
   "metadata": {},
   "outputs": [],
   "source": []
  },
  {
   "cell_type": "code",
   "execution_count": null,
   "id": "9f1eee25",
   "metadata": {},
   "outputs": [],
   "source": []
  },
  {
   "cell_type": "code",
   "execution_count": null,
   "id": "3002bcbb",
   "metadata": {},
   "outputs": [],
   "source": []
  },
  {
   "cell_type": "code",
   "execution_count": null,
   "id": "030f909c",
   "metadata": {},
   "outputs": [],
   "source": []
  },
  {
   "cell_type": "code",
   "execution_count": null,
   "id": "1c19c459",
   "metadata": {},
   "outputs": [],
   "source": []
  },
  {
   "cell_type": "code",
   "execution_count": null,
   "id": "7b20addb",
   "metadata": {},
   "outputs": [],
   "source": []
  },
  {
   "cell_type": "code",
   "execution_count": null,
   "id": "8b32a781",
   "metadata": {},
   "outputs": [],
   "source": []
  }
 ],
 "metadata": {
  "kernelspec": {
   "display_name": "Python 3",
   "language": "python",
   "name": "python3"
  },
  "language_info": {
   "codemirror_mode": {
    "name": "ipython",
    "version": 3
   },
   "file_extension": ".py",
   "mimetype": "text/x-python",
   "name": "python",
   "nbconvert_exporter": "python",
   "pygments_lexer": "ipython3",
   "version": "3.7.9"
  },
  "vscode": {
   "interpreter": {
    "hash": "5aa634c14859627405404137fecabd2d911e45a844039ce454abb52cf9f696dc"
   }
  }
 },
 "nbformat": 4,
 "nbformat_minor": 5
}
