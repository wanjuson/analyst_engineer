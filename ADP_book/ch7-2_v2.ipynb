{
 "cells": [
  {
   "cell_type": "code",
   "execution_count": null,
   "id": "14bf2370",
   "metadata": {},
   "outputs": [],
   "source": [
    "## 제2절 T-test\n",
    "## 1. T-test의 개념\n",
    "# t-test는 검정통계량이 귀무가설 하에서 t-분포를 따르는 통계적 가설 검정 방법이다.\n",
    "# 어느 특정 집단의 평균의 값을 추정하거나 차이를 검정할 때 사용할 수 있다. \n",
    "# 종속변수는 평균값을 가질 수 있는 연속형 변수여야 하고, 독립변수는 성별, 종교, 부서와 같은 범주형변수여야 한다."
   ]
  },
  {
   "cell_type": "code",
   "execution_count": null,
   "id": "8c06e962",
   "metadata": {},
   "outputs": [],
   "source": [
    "## 2.일표본 t-test\n",
    "# 개념\n",
    "# 단일모집단에서 관심이 있는 연속형 변수의 평균값을 특정 기준값과 비교한다.\n",
    "# 가정 : 모집단의 구성요소들이 정규분포를 이룬다는 가정이다.\n",
    "#  - 종속변수는 연속형이어야 한다.\n",
    "#  - 검증하고자 하는 기준값이 있어야 한다."
   ]
  },
  {
   "cell_type": "markdown",
   "id": "450b366f",
   "metadata": {},
   "source": [
    " cats 데이터에서 고양이들의 평균몸무게가 2.6kg인지 아닌지 통계적 검정을 수행하고, 결과를 해석해보자(양측검정, 유의수준 : 0.05)."
   ]
  },
  {
   "cell_type": "code",
   "execution_count": 2,
   "id": "dfdd408e",
   "metadata": {
    "scrolled": true
   },
   "outputs": [
    {
     "data": {
      "text/html": [
       "<div>\n",
       "<style scoped>\n",
       "    .dataframe tbody tr th:only-of-type {\n",
       "        vertical-align: middle;\n",
       "    }\n",
       "\n",
       "    .dataframe tbody tr th {\n",
       "        vertical-align: top;\n",
       "    }\n",
       "\n",
       "    .dataframe thead th {\n",
       "        text-align: right;\n",
       "    }\n",
       "</style>\n",
       "<table border=\"1\" class=\"dataframe\">\n",
       "  <thead>\n",
       "    <tr style=\"text-align: right;\">\n",
       "      <th></th>\n",
       "      <th>Sex</th>\n",
       "      <th>Bwt</th>\n",
       "      <th>Hwt</th>\n",
       "    </tr>\n",
       "  </thead>\n",
       "  <tbody>\n",
       "    <tr>\n",
       "      <th>139</th>\n",
       "      <td>M</td>\n",
       "      <td>3.7</td>\n",
       "      <td>11.0</td>\n",
       "    </tr>\n",
       "    <tr>\n",
       "      <th>140</th>\n",
       "      <td>M</td>\n",
       "      <td>3.8</td>\n",
       "      <td>14.8</td>\n",
       "    </tr>\n",
       "    <tr>\n",
       "      <th>141</th>\n",
       "      <td>M</td>\n",
       "      <td>3.8</td>\n",
       "      <td>16.8</td>\n",
       "    </tr>\n",
       "    <tr>\n",
       "      <th>142</th>\n",
       "      <td>M</td>\n",
       "      <td>3.9</td>\n",
       "      <td>14.4</td>\n",
       "    </tr>\n",
       "    <tr>\n",
       "      <th>143</th>\n",
       "      <td>M</td>\n",
       "      <td>3.9</td>\n",
       "      <td>20.5</td>\n",
       "    </tr>\n",
       "  </tbody>\n",
       "</table>\n",
       "</div>"
      ],
      "text/plain": [
       "    Sex  Bwt   Hwt\n",
       "139   M  3.7  11.0\n",
       "140   M  3.8  14.8\n",
       "141   M  3.8  16.8\n",
       "142   M  3.9  14.4\n",
       "143   M  3.9  20.5"
      ]
     },
     "execution_count": 2,
     "metadata": {},
     "output_type": "execute_result"
    }
   ],
   "source": [
    "import pandas as pd\n",
    "cats=pd.read_csv('C:/Users/A202112006/Desktop/py/data/cats.csv')\n",
    "cats.tail()"
   ]
  },
  {
   "cell_type": "markdown",
   "id": "fe195806",
   "metadata": {},
   "source": [
    "Bwt 컬럼은 고양이의 몸무게를 의미하고, Hwt는 고양이의 길이를 의미한다. \n",
    "cats의 데이터의 정보를 info로 확인해준다. "
   ]
  },
  {
   "cell_type": "code",
   "execution_count": 3,
   "id": "80c4ffec",
   "metadata": {},
   "outputs": [
    {
     "name": "stdout",
     "output_type": "stream",
     "text": [
      "<class 'pandas.core.frame.DataFrame'>\n",
      "RangeIndex: 144 entries, 0 to 143\n",
      "Data columns (total 3 columns):\n",
      " #   Column  Non-Null Count  Dtype  \n",
      "---  ------  --------------  -----  \n",
      " 0   Sex     144 non-null    object \n",
      " 1   Bwt     144 non-null    float64\n",
      " 2   Hwt     144 non-null    float64\n",
      "dtypes: float64(2), object(1)\n",
      "memory usage: 3.5+ KB\n"
     ]
    }
   ],
   "source": [
    "cats.info()"
   ]
  },
  {
   "cell_type": "markdown",
   "id": "ebb8a0a8",
   "metadata": {},
   "source": [
    "shapiro test를 통해 데이터의 정규성을 검정한다. 고양이의 몸무게를 검정하므로 고양이의 몸무게만 추출하여 shapiro test를 진행해야 한다. "
   ]
  },
  {
   "cell_type": "code",
   "execution_count": 1,
   "id": "04e61ead",
   "metadata": {},
   "outputs": [
    {
     "ename": "NameError",
     "evalue": "name 'cats' is not defined",
     "output_type": "error",
     "traceback": [
      "\u001b[1;31m---------------------------------------------------------------------------\u001b[0m",
      "\u001b[1;31mNameError\u001b[0m                                 Traceback (most recent call last)",
      "\u001b[1;32mc:\\Users\\A202112006\\Desktop\\py\\ADP_book_ver01-main\\제7장_통계분석\\ch7-2_v2.ipynb 셀 8\u001b[0m in \u001b[0;36m<cell line: 4>\u001b[1;34m()\u001b[0m\n\u001b[0;32m      <a href='vscode-notebook-cell:/c%3A/Users/A202112006/Desktop/py/ADP_book_ver01-main/%EC%A0%9C7%EC%9E%A5_%ED%86%B5%EA%B3%84%EB%B6%84%EC%84%9D/ch7-2_v2.ipynb#X10sZmlsZQ%3D%3D?line=1'>2</a>\u001b[0m \u001b[39mfrom\u001b[39;00m \u001b[39mscipy\u001b[39;00m\u001b[39m.\u001b[39;00m\u001b[39mstats\u001b[39;00m \u001b[39mimport\u001b[39;00m shapiro\n\u001b[0;32m      <a href='vscode-notebook-cell:/c%3A/Users/A202112006/Desktop/py/ADP_book_ver01-main/%EC%A0%9C7%EC%9E%A5_%ED%86%B5%EA%B3%84%EB%B6%84%EC%84%9D/ch7-2_v2.ipynb#X10sZmlsZQ%3D%3D?line=2'>3</a>\u001b[0m mu \u001b[39m=\u001b[39m\u001b[39m2.6\u001b[39m\n\u001b[1;32m----> <a href='vscode-notebook-cell:/c%3A/Users/A202112006/Desktop/py/ADP_book_ver01-main/%EC%A0%9C7%EC%9E%A5_%ED%86%B5%EA%B3%84%EB%B6%84%EC%84%9D/ch7-2_v2.ipynb#X10sZmlsZQ%3D%3D?line=3'>4</a>\u001b[0m shapiro(cats[\u001b[39m'\u001b[39m\u001b[39mBwt\u001b[39m\u001b[39m'\u001b[39m])\n",
      "\u001b[1;31mNameError\u001b[0m: name 'cats' is not defined"
     ]
    }
   ],
   "source": [
    "import scipy.stats as stats\n",
    "from scipy.stats import shapiro\n",
    "mu =2.6\n",
    "shapiro(cats['Bwt'])"
   ]
  },
  {
   "cell_type": "markdown",
   "id": "095c09a2",
   "metadata": {},
   "source": [
    "[결과해석]\n",
    "첫번째 값 (검정통계치) : 0.95187\n",
    "두번째 값 (p-value) : 6.730e-05\n",
    "유의수준보다 작으므로 '데이터가 정규분포를 따른다'는 귀무가설을 기각한다. 즉, cats 데이이터의 Bwt 변수는 정규분포를 따르지 않는다. 데이터가 정규분포를 따르지 않으므로 wilcox test 로 t-test를 진행한다. 만약, 정규분포를 따른다면 stats.ttest_1samp(cats.Bwt, popmean=mu)를 사용하면 된다. "
   ]
  },
  {
   "cell_type": "code",
   "execution_count": 5,
   "id": "1f90d539",
   "metadata": {},
   "outputs": [
    {
     "data": {
      "text/plain": [
       "WilcoxonResult(statistic=3573.0, pvalue=0.025245202948140935)"
      ]
     },
     "execution_count": 5,
     "metadata": {},
     "output_type": "execute_result"
    }
   ],
   "source": [
    "stats.wilcoxon(cats.Bwt - mu , alternative='two-sided')\n",
    "# p-value는 유의수준 0.05보다 작으므로 \"고양이의 몸무게가 2.6kg이다\" 라는 귀무가설을 기각할 수 있다.\n",
    "# 즉, 유의수준 0.05하에 고양이의 평균 몸무게는 2.6kg라고 할 수 없다."
   ]
  },
  {
   "cell_type": "code",
   "execution_count": 6,
   "id": "7026ec8d",
   "metadata": {},
   "outputs": [
    {
     "data": {
      "text/plain": [
       "Text(0, 0.5, 'Count')"
      ]
     },
     "execution_count": 6,
     "metadata": {},
     "output_type": "execute_result"
    },
    {
     "data": {
      "image/png": "[encoded data removed]",
      "text/plain": [
       "<Figure size 432x288 with 1 Axes>"
      ]
     },
     "metadata": {
      "needs_background": "light"
     },
     "output_type": "display_data"
    }
   ],
   "source": [
    "import matplotlib.pyplot as plt\n",
    "cats_Bwt_cnt = pd.value_counts(cats['Bwt'].values, sort=False)\n",
    "width =0.4\n",
    "plt.bar(cats_Bwt_cnt.index, cats_Bwt_cnt.values,width)\n",
    "plt.title('Bwt')\n",
    "plt.ylabel('Count')\n"
   ]
  },
  {
   "cell_type": "code",
   "execution_count": 7,
   "id": "e3b5aa00",
   "metadata": {},
   "outputs": [
    {
     "data": {
      "text/plain": [
       "Ttest_1sampResult(statistic=3.0564867998078107, pvalue=0.0026730362561723617)"
      ]
     },
     "execution_count": 7,
     "metadata": {},
     "output_type": "execute_result"
    }
   ],
   "source": [
    "## 정규성 만족시\n",
    "stats.ttest_1samp(cats.Bwt, popmean=mu)"
   ]
  },
  {
   "cell_type": "code",
   "execution_count": null,
   "id": "827d9c3f",
   "metadata": {},
   "outputs": [],
   "source": [
    "## 3. 대응표본 t-test\n",
    "# 개념\n",
    "# - 단일모집단에 대해 어떠한 처리를 가했을 때, 처리 전후에 따른 평균의 차이를 비교할 때 사용한다.\n",
    "# - 표본 내에 개체들에 대해 두번의 측정을 한다.(같은 집단이므로 등분산성 만족)\n",
    "# - 모집단의 관측값이 정규성을 만족해야 한다는 가정이 있다."
   ]
  },
  {
   "cell_type": "code",
   "execution_count": null,
   "id": "301d9c12",
   "metadata": {},
   "outputs": [],
   "source": [
    "# 10명의 환자 대상 수면영양제 복용 전과 후의 수면시간을 측정하였다.  \n",
    "# 영양제의 효과가 있는지를 판단해보자. \n",
    "# 표본이 전규성을 만족한다는 가정하에 검정 수행.\n",
    "# 만족하지 않으면 Wilcoxon-test 진행. 유의수준 0.05"
   ]
  },
  {
   "cell_type": "code",
   "execution_count": 2,
   "id": "aa6dd71c",
   "metadata": {},
   "outputs": [
    {
     "data": {
      "text/html": [
       "<div>\n",
       "<style scoped>\n",
       "    .dataframe tbody tr th:only-of-type {\n",
       "        vertical-align: middle;\n",
       "    }\n",
       "\n",
       "    .dataframe tbody tr th {\n",
       "        vertical-align: top;\n",
       "    }\n",
       "\n",
       "    .dataframe thead th {\n",
       "        text-align: right;\n",
       "    }\n",
       "</style>\n",
       "<table border=\"1\" class=\"dataframe\">\n",
       "  <thead>\n",
       "    <tr style=\"text-align: right;\">\n",
       "      <th></th>\n",
       "      <th>before</th>\n",
       "      <th>after</th>\n",
       "    </tr>\n",
       "  </thead>\n",
       "  <tbody>\n",
       "    <tr>\n",
       "      <th>5</th>\n",
       "      <td>1</td>\n",
       "      <td>3</td>\n",
       "    </tr>\n",
       "    <tr>\n",
       "      <th>6</th>\n",
       "      <td>6</td>\n",
       "      <td>6</td>\n",
       "    </tr>\n",
       "    <tr>\n",
       "      <th>7</th>\n",
       "      <td>6</td>\n",
       "      <td>8</td>\n",
       "    </tr>\n",
       "    <tr>\n",
       "      <th>8</th>\n",
       "      <td>5</td>\n",
       "      <td>6</td>\n",
       "    </tr>\n",
       "    <tr>\n",
       "      <th>9</th>\n",
       "      <td>4</td>\n",
       "      <td>5</td>\n",
       "    </tr>\n",
       "  </tbody>\n",
       "</table>\n",
       "</div>"
      ],
      "text/plain": [
       "   before  after\n",
       "5       1      3\n",
       "6       6      6\n",
       "7       6      8\n",
       "8       5      6\n",
       "9       4      5"
      ]
     },
     "execution_count": 2,
     "metadata": {},
     "output_type": "execute_result"
    }
   ],
   "source": [
    "# 데이터 불러오기 및 확인 \n",
    "import pandas as pd \n",
    "data = {'before':[7,3,4,5,2,1,6,6,5,4],\n",
    "       'after':[8,4,5,6,2,3,6,8,6,5]}\n",
    "data = pd.DataFrame(data)\n",
    "data.tail()"
   ]
  },
  {
   "cell_type": "code",
   "execution_count": 3,
   "id": "8eb0e27b",
   "metadata": {},
   "outputs": [
    {
     "data": {
      "text/html": [
       "<div>\n",
       "<style scoped>\n",
       "    .dataframe tbody tr th:only-of-type {\n",
       "        vertical-align: middle;\n",
       "    }\n",
       "\n",
       "    .dataframe tbody tr th {\n",
       "        vertical-align: top;\n",
       "    }\n",
       "\n",
       "    .dataframe thead th {\n",
       "        text-align: right;\n",
       "    }\n",
       "</style>\n",
       "<table border=\"1\" class=\"dataframe\">\n",
       "  <thead>\n",
       "    <tr style=\"text-align: right;\">\n",
       "      <th></th>\n",
       "      <th>names</th>\n",
       "      <th>values</th>\n",
       "    </tr>\n",
       "  </thead>\n",
       "  <tbody>\n",
       "    <tr>\n",
       "      <th>15</th>\n",
       "      <td>after</td>\n",
       "      <td>3</td>\n",
       "    </tr>\n",
       "    <tr>\n",
       "      <th>16</th>\n",
       "      <td>after</td>\n",
       "      <td>6</td>\n",
       "    </tr>\n",
       "    <tr>\n",
       "      <th>17</th>\n",
       "      <td>after</td>\n",
       "      <td>8</td>\n",
       "    </tr>\n",
       "    <tr>\n",
       "      <th>18</th>\n",
       "      <td>after</td>\n",
       "      <td>6</td>\n",
       "    </tr>\n",
       "    <tr>\n",
       "      <th>19</th>\n",
       "      <td>after</td>\n",
       "      <td>5</td>\n",
       "    </tr>\n",
       "  </tbody>\n",
       "</table>\n",
       "</div>"
      ],
      "text/plain": [
       "    names  values\n",
       "15  after       3\n",
       "16  after       6\n",
       "17  after       8\n",
       "18  after       6\n",
       "19  after       5"
      ]
     },
     "execution_count": 3,
     "metadata": {},
     "output_type": "execute_result"
    }
   ],
   "source": [
    "data02 = pd.melt(data, var_name='names', value_name='values' )\n",
    "data02.tail()"
   ]
  },
  {
   "cell_type": "code",
   "execution_count": 4,
   "id": "b2df29aa",
   "metadata": {},
   "outputs": [
    {
     "data": {
      "text/plain": [
       "ShapiroResult(statistic=0.9596133232116699, pvalue=0.5361530184745789)"
      ]
     },
     "execution_count": 4,
     "metadata": {},
     "output_type": "execute_result"
    }
   ],
   "source": [
    "## 3.1 정규성 검증 # 313P\n",
    "import scipy.stats as stats\n",
    "from scipy.stats import shapiro\n",
    "shapiro(data02['values'])\n",
    "# p-value가 0.05보다 '데이터가 정규분포를 따른다'는 귀무가설을 기각한다. \n",
    "# 즉, 수면제 데이이터의 수면시간(values) 변수는 정규분포를 따르지 않는다."
   ]
  },
  {
   "cell_type": "markdown",
   "id": "565d698c",
   "metadata": {},
   "source": [
    "해당 데이터를 검정하기 위한 가설 수립한다.  <br> <br>\n",
    "귀무가설(H0) <br>\n",
    "수면제 복용 전과 후의 수면시간 차이는 없다. <br>\n",
    "대립가설(H1)<br>\n",
    "수면제 복용 전과 후의 수면시간 차이는 있다. <br>\n"
   ]
  },
  {
   "cell_type": "code",
   "execution_count": 7,
   "id": "d9df3862",
   "metadata": {},
   "outputs": [
    {
     "ename": "SyntaxError",
     "evalue": "invalid syntax (2864853398.py, line 3)",
     "output_type": "error",
     "traceback": [
      "\u001b[1;36m  Input \u001b[1;32mIn [7]\u001b[1;36m\u001b[0m\n\u001b[1;33m    p-value가 0.05보다 작으므로 '수면영양제를 복용하기 전과 후의 평균 수면시간의 차이는 통계적으로 유의하며, 영양제를 복용한 후 수면시간이 늘었다'는 결론을 낼 수 있다.\u001b[0m\n\u001b[1;37m             ^\u001b[0m\n\u001b[1;31mSyntaxError\u001b[0m\u001b[1;31m:\u001b[0m invalid syntax\n"
     ]
    }
   ],
   "source": [
    "stats.ttest_rel(data['after'],data['before'],alternative='greater')\n",
    "# [결과해석]\n",
    "# p-value가 0.05보다 작으므로 '수면영양제를 복용하기 전과 후의 평균 수면시간의 차이는 통계적으로 유의하며, 영양제를 복용한 후 수면시간이 늘었다'는\n",
    "# 결론을 낼 수 있다. "
   ]
  },
  {
   "cell_type": "code",
   "execution_count": 6,
   "id": "79250a8d",
   "metadata": {},
   "outputs": [
    {
     "data": {
      "text/plain": [
       "before    4.3\n",
       "after     5.3\n",
       "dtype: float64"
      ]
     },
     "execution_count": 6,
     "metadata": {},
     "output_type": "execute_result"
    }
   ],
   "source": [
    "data.mean()"
   ]
  },
  {
   "cell_type": "code",
   "execution_count": null,
   "id": "454e50fb",
   "metadata": {},
   "outputs": [],
   "source": [
    "## 4.독립표본 t-test\n",
    "# ㅁ 개념\n",
    "# - 두개의 독립된 모집단의 평균을 비교할 때 사용한다.\n",
    "# - 그러므로 모집단, 모수, 표본이 모두 두개씩 존재한다.(등분산성 가정을 해주어야 함)\n",
    "# - 가정\n",
    "#  . 두 모집단은 정규성을 만족해야 한다.\n",
    "#  . 두 모집단의 분산이 서로 같아야 한다.(등분산성 가정)\n",
    "# https://junsik-hwang.tistory.com/8"
   ]
  },
  {
   "cell_type": "code",
   "execution_count": 10,
   "id": "5d65b4f1",
   "metadata": {},
   "outputs": [
    {
     "data": {
      "text/html": [
       "<div>\n",
       "<style scoped>\n",
       "    .dataframe tbody tr th:only-of-type {\n",
       "        vertical-align: middle;\n",
       "    }\n",
       "\n",
       "    .dataframe tbody tr th {\n",
       "        vertical-align: top;\n",
       "    }\n",
       "\n",
       "    .dataframe thead th {\n",
       "        text-align: right;\n",
       "    }\n",
       "</style>\n",
       "<table border=\"1\" class=\"dataframe\">\n",
       "  <thead>\n",
       "    <tr style=\"text-align: right;\">\n",
       "      <th></th>\n",
       "      <th>Sex</th>\n",
       "      <th>Bwt</th>\n",
       "      <th>Hwt</th>\n",
       "    </tr>\n",
       "  </thead>\n",
       "  <tbody>\n",
       "    <tr>\n",
       "      <th>139</th>\n",
       "      <td>M</td>\n",
       "      <td>3.7</td>\n",
       "      <td>11.0</td>\n",
       "    </tr>\n",
       "    <tr>\n",
       "      <th>140</th>\n",
       "      <td>M</td>\n",
       "      <td>3.8</td>\n",
       "      <td>14.8</td>\n",
       "    </tr>\n",
       "    <tr>\n",
       "      <th>141</th>\n",
       "      <td>M</td>\n",
       "      <td>3.8</td>\n",
       "      <td>16.8</td>\n",
       "    </tr>\n",
       "    <tr>\n",
       "      <th>142</th>\n",
       "      <td>M</td>\n",
       "      <td>3.9</td>\n",
       "      <td>14.4</td>\n",
       "    </tr>\n",
       "    <tr>\n",
       "      <th>143</th>\n",
       "      <td>M</td>\n",
       "      <td>3.9</td>\n",
       "      <td>20.5</td>\n",
       "    </tr>\n",
       "  </tbody>\n",
       "</table>\n",
       "</div>"
      ],
      "text/plain": [
       "    Sex  Bwt   Hwt\n",
       "139   M  3.7  11.0\n",
       "140   M  3.8  14.8\n",
       "141   M  3.8  16.8\n",
       "142   M  3.9  14.4\n",
       "143   M  3.9  20.5"
      ]
     },
     "execution_count": 10,
     "metadata": {},
     "output_type": "execute_result"
    }
   ],
   "source": [
    "import pandas as pd\n",
    "cats=pd.read_csv('C:/Users/A202112006/Desktop/py/data/cats.csv')\n",
    "female = cats.loc[cats.Sex =='F', 'Bwt']\n",
    "male = cats.loc[cats.Sex =='M', 'Bwt']\n",
    "cats.tail()"
   ]
  },
  {
   "cell_type": "code",
   "execution_count": 11,
   "id": "84551f37",
   "metadata": {},
   "outputs": [
    {
     "data": {
      "text/plain": [
       "ShapiroResult(statistic=0.9518786668777466, pvalue=6.730228778906167e-05)"
      ]
     },
     "execution_count": 11,
     "metadata": {},
     "output_type": "execute_result"
    }
   ],
   "source": [
    "## 4.1 정규성 검증\n",
    "import scipy.stats as stats\n",
    "from scipy.stats import shapiro\n",
    "shapiro(cats['Bwt'])\n",
    "# p-value가 0.05보다 작으므로 '데이터가 정규분포를 따른다'는 귀무가설을 기각한다. \n",
    "# 즉, cats 데이이터의 Bwt 변수는 정규분포를 따르지 않는다."
   ]
  },
  {
   "cell_type": "code",
   "execution_count": 18,
   "id": "1aca1c30",
   "metadata": {},
   "outputs": [
    {
     "data": {
      "text/plain": [
       "RanksumsResult(statistic=6.484649068728496, pvalue=8.893855174450822e-11)"
      ]
     },
     "execution_count": 18,
     "metadata": {},
     "output_type": "execute_result"
    }
   ],
   "source": [
    "## 4.2 윌콕슨의 순위합 검정\n",
    "# 정규성을 따르지 않아서 윌콕슨 순위합 검정 진행\n",
    "stats.ranksums(male, female)\n",
    "\n",
    "# H0/귀무 : A와 B는 다르지 않다.(같다)\n",
    "# H1/대립 : A와 B는 다르다.\n",
    "\n",
    "# P-value가 0.05보다 작아서 귀무가설을 기긱한다.\n",
    "# 즉, 유의수준 0.05하에서 수컷과 암컷 고양이의 몸무게 차이는 있다."
   ]
  },
  {
   "cell_type": "code",
   "execution_count": 14,
   "id": "70174940",
   "metadata": {},
   "outputs": [
    {
     "name": "stdout",
     "output_type": "stream",
     "text": [
      "<class 'pandas.core.series.Series'>\n",
      "Int64Index: 97 entries, 47 to 143\n",
      "Series name: Bwt\n",
      "Non-Null Count  Dtype  \n",
      "--------------  -----  \n",
      "97 non-null     float64\n",
      "dtypes: float64(1)\n",
      "memory usage: 1.5 KB\n",
      "None\n",
      "<class 'pandas.core.series.Series'>\n",
      "Int64Index: 47 entries, 0 to 46\n",
      "Series name: Bwt\n",
      "Non-Null Count  Dtype  \n",
      "--------------  -----  \n",
      "47 non-null     float64\n",
      "dtypes: float64(1)\n",
      "memory usage: 752.0 bytes\n",
      "None\n"
     ]
    }
   ],
   "source": [
    "print(male.info())\n",
    "print(female.info())"
   ]
  },
  {
   "cell_type": "code",
   "execution_count": 21,
   "id": "4c8bec5a",
   "metadata": {},
   "outputs": [
    {
     "name": "stdout",
     "output_type": "stream",
     "text": [
      "median\n",
      "LeveneResult(statistic=19.43101190877999, pvalue=2.043528525518961e-05)\n",
      "mean\n",
      "LeveneResult(statistic=17.201368589463517, pvalue=5.759437452845481e-05)\n"
     ]
    }
   ],
   "source": [
    "# python 등분산성 : 레빈검정\n",
    "print('median')\n",
    "print(stats.levene(female, male, center = 'median') )\n",
    "print('mean')\n",
    "print(stats.levene(female, male, center = 'mean') )\n",
    "\n",
    "# H0/귀무 : 모든 집단의 분산이 같다.\n",
    "# H1/대립 : 적어도 하나의 집단에서 분산이 다르다.\n",
    "# P-value가 0.05보다 작아서 귀무가설을 기긱한다.\n",
    "# 즉, 유의수준 0.05하에서 수컷과 암컷 고양이의 몸무게는 분산이 다르다."
   ]
  },
  {
   "cell_type": "code",
   "execution_count": 22,
   "id": "db35eebc",
   "metadata": {},
   "outputs": [
    {
     "data": {
      "text/plain": [
       "Ttest_indResult(statistic=-8.70948849909559, pvalue=8.831034455859356e-15)"
      ]
     },
     "execution_count": 22,
     "metadata": {},
     "output_type": "execute_result"
    }
   ],
   "source": [
    "# 독립표본 t-test\n",
    "stats.ttest_ind(female, male, equal_var=False) # 등분산성 NO : equal_var=False\n",
    "\n",
    "# H0/귀무 : A와 B의 평균은 같다.\n",
    "# H1/대립 : A와 B의 평균은 같지 않다(다르다).\n",
    "# P-value가 0.05보다 작아서 귀무가설을 기긱한다.\n",
    "# 즉, 유의수준 0.05하에서 수컷과 암컷 고양이의 몸무게는 같지 않다."
   ]
  },
  {
   "cell_type": "code",
   "execution_count": 23,
   "id": "23456b1d",
   "metadata": {},
   "outputs": [
    {
     "name": "stdout",
     "output_type": "stream",
     "text": [
      "2.359574468085107\n",
      "2.8999999999999995\n"
     ]
    }
   ],
   "source": [
    "print(female.mean())\n",
    "print(male.mean())"
   ]
  },
  {
   "cell_type": "code",
   "execution_count": 25,
   "id": "1efa5aaa",
   "metadata": {
    "scrolled": true
   },
   "outputs": [
    {
     "data": {
      "image/png": "[encoded data removed]",
      "text/plain": [
       "<Figure size 1440x360 with 2 Axes>"
      ]
     },
     "metadata": {
      "needs_background": "light"
     },
     "output_type": "display_data"
    }
   ],
   "source": [
    "import matplotlib.pyplot as plt\n",
    "female_Bwt_cnt = pd.value_counts(female.values, sort=False)\n",
    "male_Bwt_cnt = pd.value_counts(male.values, sort=False)\n",
    "fig, axs = plt.subplots(1, 2,figsize=(20,5))\n",
    "fig.suptitle('Bar plot')\n",
    "width =0.4\n",
    "axs[0].bar(female_Bwt_cnt.index, female_Bwt_cnt.values)\n",
    "axs[0].set_title('female_Bwt')\n",
    "axs[0].set_ylabel('Count')\n",
    "axs[1].bar(male_Bwt_cnt.index, male_Bwt_cnt.values)\n",
    "axs[1].set_title('male_Bwt')\n",
    "axs[1].set_ylabel('Count')\n",
    "plt.show()\n"
   ]
  }
 ],
 "metadata": {
  "kernelspec": {
   "display_name": "Python 3.8.9 64-bit",
   "language": "python",
   "name": "python3"
  },
  "language_info": {
   "codemirror_mode": {
    "name": "ipython",
    "version": 3
   },
   "file_extension": ".py",
   "mimetype": "text/x-python",
   "name": "python",
   "nbconvert_exporter": "python",
   "pygments_lexer": "ipython3",
   "version": "3.8.9"
  },
  "toc": {
   "base_numbering": 1,
   "nav_menu": {},
   "number_sections": true,
   "sideBar": true,
   "skip_h1_title": false,
   "title_cell": "Table of Contents",
   "title_sidebar": "Contents",
   "toc_cell": true,
   "toc_position": {},
   "toc_section_display": true,
   "toc_window_display": true
  },
  "vscode": {
   "interpreter": {
    "hash": "570feb405e2e27c949193ac68f46852414290d515b0ba6e5d90d076ed2284471"
   }
  }
 },
 "nbformat": 4,
 "nbformat_minor": 5
}
