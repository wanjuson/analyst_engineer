{
 "cells": [
  {
   "cell_type": "code",
   "execution_count": null,
   "id": "cacd3bf8",
   "metadata": {},
   "outputs": [],
   "source": [
    "### 1. 머신러닝 (50점)\n",
    "# 문제 : https://www.datamanim.com/dataset/ADPpb/00/24.html"
   ]
  },
  {
   "cell_type": "code",
   "execution_count": 12,
   "id": "711ad498",
   "metadata": {},
   "outputs": [],
   "source": [
    "# ## 1. 데이터 확인 및 전처리\n",
    "# 1.1 데이터 EDA 및 시각화\n",
    "# 1.2 결측치 처리 및 변화 시각화, 추가 전처리가 필요하다면 이유와 기대효과를 설명하라\n",
    "# 1.3 결석일수 예측모델을 2개 제시하고 선택한 근거 설명\n",
    "# 1.4 선정한 모델 2가지 생성 및 모델의 평가 기준을 선정하고 선정 이유 설명\n",
    "# 1.5 모델이 다양한 일상 상황에서도 잘 동작한다는 것을 설명하고 시각화 하라\n",
    "# 1.6 모델 최적화 방안에 대해 구체적으로 설명하라\n",
    "\n",
    "# ㅁ 데이터 설명\n",
    "# 성별(sex) 바이너리 : ‘F’ - 여성 또는 ‘M’ - 남성\n",
    "# 나이(age) 숫자: 15 - 22\n",
    "# 부모님동거여부 (Pstatus) 바이너리: T: 동거 또는 ‘A’: 별거\n",
    "# 엄마학력(Medu) 숫자 : 0 : 없음, 1 : 초등 교육, 2 : 5-9학년, 3 - 중등 교육 또는 4 - 고등 교육\n",
    "# 아빠학력(Fedu) 숫자 : 0 : 없음, 1 : 초등 교육, 2 : 5-9학년, 3 - 중등 교육 또는 4 - 고등 교육\n",
    "# 주보호자(guardian) 명목형 : ‘어머니’, ‘아버지’ 또는 ‘기타’\n",
    "# 등하교시간(traveltime) 숫자 : 1 : 15분이하, 2 : 15 ~ 30분, 3 : 30분 ~ 1시간, 4 : 1시간 이상\n",
    "# 학습시간(studytime) 숫자 : 1 : 2시간이하, 2 : 2~5시간, 3 : 5~10시간, 4 : 10시간이상\n",
    "# 학고횟수(failures) 숫자 : 1, 2, 3 else 4\n",
    "# 자유시간(freetime) 숫자 : 1(매우 낮음), 2, 3, 4, 5(매우 높음)\n",
    "# 가족관계(famrel) 숫자 : 1(매우 나쁨), 2, 3, 4, 5(우수)"
   ]
  },
  {
   "cell_type": "code",
   "execution_count": 1,
   "id": "6ba245f9",
   "metadata": {},
   "outputs": [
    {
     "data": {
      "text/html": [
       "<div>\n",
       "<style scoped>\n",
       "    .dataframe tbody tr th:only-of-type {\n",
       "        vertical-align: middle;\n",
       "    }\n",
       "\n",
       "    .dataframe tbody tr th {\n",
       "        vertical-align: top;\n",
       "    }\n",
       "\n",
       "    .dataframe thead th {\n",
       "        text-align: right;\n",
       "    }\n",
       "</style>\n",
       "<table border=\"1\" class=\"dataframe\">\n",
       "  <thead>\n",
       "    <tr style=\"text-align: right;\">\n",
       "      <th></th>\n",
       "      <th>sex</th>\n",
       "      <th>age</th>\n",
       "      <th>Pstatus</th>\n",
       "      <th>Fedu</th>\n",
       "      <th>Medu</th>\n",
       "      <th>guardian</th>\n",
       "      <th>studytime</th>\n",
       "      <th>traveltime</th>\n",
       "      <th>failures</th>\n",
       "      <th>famrel</th>\n",
       "      <th>freetime</th>\n",
       "      <th>absences</th>\n",
       "    </tr>\n",
       "  </thead>\n",
       "  <tbody>\n",
       "    <tr>\n",
       "      <th>0</th>\n",
       "      <td>F</td>\n",
       "      <td>18.0</td>\n",
       "      <td>A</td>\n",
       "      <td>4</td>\n",
       "      <td>4</td>\n",
       "      <td>mother</td>\n",
       "      <td>2</td>\n",
       "      <td>2.0</td>\n",
       "      <td>0</td>\n",
       "      <td>4</td>\n",
       "      <td>3.0</td>\n",
       "      <td>6</td>\n",
       "    </tr>\n",
       "    <tr>\n",
       "      <th>1</th>\n",
       "      <td>F</td>\n",
       "      <td>17.0</td>\n",
       "      <td>T</td>\n",
       "      <td>1</td>\n",
       "      <td>1</td>\n",
       "      <td>father</td>\n",
       "      <td>2</td>\n",
       "      <td>1.0</td>\n",
       "      <td>0</td>\n",
       "      <td>5</td>\n",
       "      <td>3.0</td>\n",
       "      <td>4</td>\n",
       "    </tr>\n",
       "    <tr>\n",
       "      <th>2</th>\n",
       "      <td>F</td>\n",
       "      <td>15.0</td>\n",
       "      <td>T</td>\n",
       "      <td>1</td>\n",
       "      <td>1</td>\n",
       "      <td>mother</td>\n",
       "      <td>2</td>\n",
       "      <td>1.0</td>\n",
       "      <td>3</td>\n",
       "      <td>4</td>\n",
       "      <td>3.0</td>\n",
       "      <td>10</td>\n",
       "    </tr>\n",
       "    <tr>\n",
       "      <th>3</th>\n",
       "      <td>F</td>\n",
       "      <td>15.0</td>\n",
       "      <td>T</td>\n",
       "      <td>2</td>\n",
       "      <td>4</td>\n",
       "      <td>mother</td>\n",
       "      <td>3</td>\n",
       "      <td>1.0</td>\n",
       "      <td>0</td>\n",
       "      <td>3</td>\n",
       "      <td>2.0</td>\n",
       "      <td>2</td>\n",
       "    </tr>\n",
       "    <tr>\n",
       "      <th>4</th>\n",
       "      <td>F</td>\n",
       "      <td>NaN</td>\n",
       "      <td>T</td>\n",
       "      <td>3</td>\n",
       "      <td>3</td>\n",
       "      <td>father</td>\n",
       "      <td>2</td>\n",
       "      <td>1.0</td>\n",
       "      <td>0</td>\n",
       "      <td>4</td>\n",
       "      <td>3.0</td>\n",
       "      <td>4</td>\n",
       "    </tr>\n",
       "  </tbody>\n",
       "</table>\n",
       "</div>"
      ],
      "text/plain": [
       "  sex   age Pstatus  Fedu  Medu guardian  studytime  traveltime  failures  \\\n",
       "0   F  18.0       A     4     4   mother          2         2.0         0   \n",
       "1   F  17.0       T     1     1   father          2         1.0         0   \n",
       "2   F  15.0       T     1     1   mother          2         1.0         3   \n",
       "3   F  15.0       T     2     4   mother          3         1.0         0   \n",
       "4   F   NaN       T     3     3   father          2         1.0         0   \n",
       "\n",
       "   famrel  freetime  absences  \n",
       "0       4       3.0         6  \n",
       "1       5       3.0         4  \n",
       "2       4       3.0        10  \n",
       "3       3       2.0         2  \n",
       "4       4       3.0         4  "
      ]
     },
     "execution_count": 1,
     "metadata": {},
     "output_type": "execute_result"
    }
   ],
   "source": [
    "import pandas as pd\n",
    "df = pd.read_csv('https://raw.githubusercontent.com/Datamanim/datarepo/main/adp/24/problem1.csv')\n",
    "df.head()"
   ]
  },
  {
   "cell_type": "code",
   "execution_count": 14,
   "id": "c93ed45b",
   "metadata": {},
   "outputs": [
    {
     "name": "stdout",
     "output_type": "stream",
     "text": [
      "<class 'pandas.core.frame.DataFrame'>\n",
      "RangeIndex: 395 entries, 0 to 394\n",
      "Data columns (total 12 columns):\n",
      " #   Column      Non-Null Count  Dtype  \n",
      "---  ------      --------------  -----  \n",
      " 0   sex         395 non-null    object \n",
      " 1   age         392 non-null    float64\n",
      " 2   Pstatus     395 non-null    object \n",
      " 3   Fedu        395 non-null    int64  \n",
      " 4   Medu        395 non-null    int64  \n",
      " 5   guardian    395 non-null    object \n",
      " 6   studytime   395 non-null    int64  \n",
      " 7   traveltime  392 non-null    float64\n",
      " 8   failures    395 non-null    int64  \n",
      " 9   famrel      395 non-null    int64  \n",
      " 10  freetime    390 non-null    float64\n",
      " 11  absences    395 non-null    int64  \n",
      "dtypes: float64(3), int64(6), object(3)\n",
      "memory usage: 37.2+ KB\n"
     ]
    }
   ],
   "source": [
    "# 1.1 데이터 EDA 및 시각화\n",
    "df.info()"
   ]
  },
  {
   "cell_type": "code",
   "execution_count": 15,
   "id": "4007f9d2",
   "metadata": {},
   "outputs": [
    {
     "data": {
      "text/plain": [
       "sex           0\n",
       "age           3\n",
       "Pstatus       0\n",
       "Fedu          0\n",
       "Medu          0\n",
       "guardian      0\n",
       "studytime     0\n",
       "traveltime    3\n",
       "failures      0\n",
       "famrel        0\n",
       "freetime      5\n",
       "absences      0\n",
       "dtype: int64"
      ]
     },
     "execution_count": 15,
     "metadata": {},
     "output_type": "execute_result"
    }
   ],
   "source": [
    "df.isna().sum()\n",
    "# age, traveltime, freetime 결측치 존재\n",
    "# sex, Pstatus, guardian는 object 변수이고 나머지는 수치형 변수임"
   ]
  },
  {
   "cell_type": "code",
   "execution_count": 16,
   "id": "131cfb31",
   "metadata": {},
   "outputs": [
    {
     "data": {
      "text/plain": [
       "0     115\n",
       "2      65\n",
       "4      53\n",
       "6      31\n",
       "8      22\n",
       "10     17\n",
       "14     12\n",
       "12     12\n",
       "3       8\n",
       "16      7\n",
       "7       7\n",
       "5       5\n",
       "18      5\n",
       "20      4\n",
       "11      3\n",
       "9       3\n",
       "13      3\n",
       "15      3\n",
       "22      3\n",
       "1       3\n",
       "38      1\n",
       "30      1\n",
       "40      1\n",
       "23      1\n",
       "19      1\n",
       "28      1\n",
       "75      1\n",
       "21      1\n",
       "24      1\n",
       "56      1\n",
       "26      1\n",
       "54      1\n",
       "25      1\n",
       "17      1\n",
       "Name: absences, dtype: int64"
      ]
     },
     "execution_count": 16,
     "metadata": {},
     "output_type": "execute_result"
    }
   ],
   "source": [
    "df['absences'].value_counts()"
   ]
  },
  {
   "cell_type": "code",
   "execution_count": 17,
   "id": "d3a16f25",
   "metadata": {},
   "outputs": [
    {
     "data": {
      "text/plain": [
       "(array([287.,  72.,  25.,   5.,   1.,   2.,   0.,   2.,   0.,   1.]),\n",
       " array([ 0. ,  7.5, 15. , 22.5, 30. , 37.5, 45. , 52.5, 60. , 67.5, 75. ]),\n",
       " <BarContainer object of 10 artists>)"
      ]
     },
     "execution_count": 17,
     "metadata": {},
     "output_type": "execute_result"
    },
    {
     "data": {
      "image/png": "[encoded data removed]",
      "text/plain": [
       "<Figure size 640x480 with 1 Axes>"
      ]
     },
     "metadata": {},
     "output_type": "display_data"
    }
   ],
   "source": [
    "import matplotlib.pyplot as plt\n",
    "plt.hist('absences', data = df)\n",
    "# absences 평균 5.7, 중위수 4로 대부분 0~8 사이에 데이터가 존재하며 데이터가 왼쪽으로 치우쳐 있음"
   ]
  },
  {
   "cell_type": "code",
   "execution_count": 18,
   "id": "9c14147f",
   "metadata": {},
   "outputs": [
    {
     "data": {
      "text/html": [
       "<div>\n",
       "<style scoped>\n",
       "    .dataframe tbody tr th:only-of-type {\n",
       "        vertical-align: middle;\n",
       "    }\n",
       "\n",
       "    .dataframe tbody tr th {\n",
       "        vertical-align: top;\n",
       "    }\n",
       "\n",
       "    .dataframe thead th {\n",
       "        text-align: right;\n",
       "    }\n",
       "</style>\n",
       "<table border=\"1\" class=\"dataframe\">\n",
       "  <thead>\n",
       "    <tr style=\"text-align: right;\">\n",
       "      <th></th>\n",
       "      <th>age</th>\n",
       "      <th>Fedu</th>\n",
       "      <th>Medu</th>\n",
       "      <th>studytime</th>\n",
       "      <th>traveltime</th>\n",
       "      <th>failures</th>\n",
       "      <th>famrel</th>\n",
       "      <th>freetime</th>\n",
       "      <th>absences</th>\n",
       "    </tr>\n",
       "  </thead>\n",
       "  <tbody>\n",
       "    <tr>\n",
       "      <th>count</th>\n",
       "      <td>392.000000</td>\n",
       "      <td>395.000000</td>\n",
       "      <td>395.000000</td>\n",
       "      <td>395.000000</td>\n",
       "      <td>392.000000</td>\n",
       "      <td>395.000000</td>\n",
       "      <td>395.000000</td>\n",
       "      <td>390.000000</td>\n",
       "      <td>395.000000</td>\n",
       "    </tr>\n",
       "    <tr>\n",
       "      <th>mean</th>\n",
       "      <td>16.698980</td>\n",
       "      <td>2.521519</td>\n",
       "      <td>2.749367</td>\n",
       "      <td>2.035443</td>\n",
       "      <td>1.446429</td>\n",
       "      <td>0.334177</td>\n",
       "      <td>3.944304</td>\n",
       "      <td>3.233333</td>\n",
       "      <td>5.708861</td>\n",
       "    </tr>\n",
       "    <tr>\n",
       "      <th>std</th>\n",
       "      <td>1.279865</td>\n",
       "      <td>1.088201</td>\n",
       "      <td>1.094735</td>\n",
       "      <td>0.839240</td>\n",
       "      <td>0.695022</td>\n",
       "      <td>0.743651</td>\n",
       "      <td>0.896659</td>\n",
       "      <td>1.000985</td>\n",
       "      <td>8.003096</td>\n",
       "    </tr>\n",
       "    <tr>\n",
       "      <th>min</th>\n",
       "      <td>15.000000</td>\n",
       "      <td>0.000000</td>\n",
       "      <td>0.000000</td>\n",
       "      <td>1.000000</td>\n",
       "      <td>1.000000</td>\n",
       "      <td>0.000000</td>\n",
       "      <td>1.000000</td>\n",
       "      <td>1.000000</td>\n",
       "      <td>0.000000</td>\n",
       "    </tr>\n",
       "    <tr>\n",
       "      <th>25%</th>\n",
       "      <td>16.000000</td>\n",
       "      <td>2.000000</td>\n",
       "      <td>2.000000</td>\n",
       "      <td>1.000000</td>\n",
       "      <td>1.000000</td>\n",
       "      <td>0.000000</td>\n",
       "      <td>4.000000</td>\n",
       "      <td>3.000000</td>\n",
       "      <td>0.000000</td>\n",
       "    </tr>\n",
       "    <tr>\n",
       "      <th>50%</th>\n",
       "      <td>17.000000</td>\n",
       "      <td>2.000000</td>\n",
       "      <td>3.000000</td>\n",
       "      <td>2.000000</td>\n",
       "      <td>1.000000</td>\n",
       "      <td>0.000000</td>\n",
       "      <td>4.000000</td>\n",
       "      <td>3.000000</td>\n",
       "      <td>4.000000</td>\n",
       "    </tr>\n",
       "    <tr>\n",
       "      <th>75%</th>\n",
       "      <td>18.000000</td>\n",
       "      <td>3.000000</td>\n",
       "      <td>4.000000</td>\n",
       "      <td>2.000000</td>\n",
       "      <td>2.000000</td>\n",
       "      <td>0.000000</td>\n",
       "      <td>5.000000</td>\n",
       "      <td>4.000000</td>\n",
       "      <td>8.000000</td>\n",
       "    </tr>\n",
       "    <tr>\n",
       "      <th>max</th>\n",
       "      <td>22.000000</td>\n",
       "      <td>4.000000</td>\n",
       "      <td>4.000000</td>\n",
       "      <td>4.000000</td>\n",
       "      <td>4.000000</td>\n",
       "      <td>3.000000</td>\n",
       "      <td>5.000000</td>\n",
       "      <td>5.000000</td>\n",
       "      <td>75.000000</td>\n",
       "    </tr>\n",
       "  </tbody>\n",
       "</table>\n",
       "</div>"
      ],
      "text/plain": [
       "              age        Fedu        Medu   studytime  traveltime    failures  \\\n",
       "count  392.000000  395.000000  395.000000  395.000000  392.000000  395.000000   \n",
       "mean    16.698980    2.521519    2.749367    2.035443    1.446429    0.334177   \n",
       "std      1.279865    1.088201    1.094735    0.839240    0.695022    0.743651   \n",
       "min     15.000000    0.000000    0.000000    1.000000    1.000000    0.000000   \n",
       "25%     16.000000    2.000000    2.000000    1.000000    1.000000    0.000000   \n",
       "50%     17.000000    2.000000    3.000000    2.000000    1.000000    0.000000   \n",
       "75%     18.000000    3.000000    4.000000    2.000000    2.000000    0.000000   \n",
       "max     22.000000    4.000000    4.000000    4.000000    4.000000    3.000000   \n",
       "\n",
       "           famrel    freetime    absences  \n",
       "count  395.000000  390.000000  395.000000  \n",
       "mean     3.944304    3.233333    5.708861  \n",
       "std      0.896659    1.000985    8.003096  \n",
       "min      1.000000    1.000000    0.000000  \n",
       "25%      4.000000    3.000000    0.000000  \n",
       "50%      4.000000    3.000000    4.000000  \n",
       "75%      5.000000    4.000000    8.000000  \n",
       "max      5.000000    5.000000   75.000000  "
      ]
     },
     "execution_count": 18,
     "metadata": {},
     "output_type": "execute_result"
    }
   ],
   "source": [
    "df.describe()"
   ]
  },
  {
   "cell_type": "code",
   "execution_count": 19,
   "id": "c76c3197",
   "metadata": {},
   "outputs": [
    {
     "data": {
      "text/html": [
       "<div>\n",
       "<style scoped>\n",
       "    .dataframe tbody tr th:only-of-type {\n",
       "        vertical-align: middle;\n",
       "    }\n",
       "\n",
       "    .dataframe tbody tr th {\n",
       "        vertical-align: top;\n",
       "    }\n",
       "\n",
       "    .dataframe thead th {\n",
       "        text-align: right;\n",
       "    }\n",
       "</style>\n",
       "<table border=\"1\" class=\"dataframe\">\n",
       "  <thead>\n",
       "    <tr style=\"text-align: right;\">\n",
       "      <th></th>\n",
       "      <th>age</th>\n",
       "      <th>Fedu</th>\n",
       "      <th>Medu</th>\n",
       "      <th>studytime</th>\n",
       "      <th>traveltime</th>\n",
       "      <th>failures</th>\n",
       "      <th>famrel</th>\n",
       "      <th>freetime</th>\n",
       "      <th>absences</th>\n",
       "    </tr>\n",
       "  </thead>\n",
       "  <tbody>\n",
       "    <tr>\n",
       "      <th>age</th>\n",
       "      <td>1.000000</td>\n",
       "      <td>-0.162190</td>\n",
       "      <td>-0.161852</td>\n",
       "      <td>-0.005905</td>\n",
       "      <td>0.064570</td>\n",
       "      <td>0.243075</td>\n",
       "      <td>0.052644</td>\n",
       "      <td>0.007248</td>\n",
       "      <td>0.174157</td>\n",
       "    </tr>\n",
       "    <tr>\n",
       "      <th>Fedu</th>\n",
       "      <td>-0.162190</td>\n",
       "      <td>1.000000</td>\n",
       "      <td>0.623455</td>\n",
       "      <td>-0.009175</td>\n",
       "      <td>-0.166499</td>\n",
       "      <td>-0.250408</td>\n",
       "      <td>-0.001370</td>\n",
       "      <td>-0.011424</td>\n",
       "      <td>0.024473</td>\n",
       "    </tr>\n",
       "    <tr>\n",
       "      <th>Medu</th>\n",
       "      <td>-0.161852</td>\n",
       "      <td>0.623455</td>\n",
       "      <td>1.000000</td>\n",
       "      <td>0.064944</td>\n",
       "      <td>-0.163966</td>\n",
       "      <td>-0.236680</td>\n",
       "      <td>-0.003914</td>\n",
       "      <td>0.030082</td>\n",
       "      <td>0.100285</td>\n",
       "    </tr>\n",
       "    <tr>\n",
       "      <th>studytime</th>\n",
       "      <td>-0.005905</td>\n",
       "      <td>-0.009175</td>\n",
       "      <td>0.064944</td>\n",
       "      <td>1.000000</td>\n",
       "      <td>-0.098343</td>\n",
       "      <td>-0.173563</td>\n",
       "      <td>0.039731</td>\n",
       "      <td>-0.138619</td>\n",
       "      <td>-0.062700</td>\n",
       "    </tr>\n",
       "    <tr>\n",
       "      <th>traveltime</th>\n",
       "      <td>0.064570</td>\n",
       "      <td>-0.166499</td>\n",
       "      <td>-0.163966</td>\n",
       "      <td>-0.098343</td>\n",
       "      <td>1.000000</td>\n",
       "      <td>0.094084</td>\n",
       "      <td>-0.021061</td>\n",
       "      <td>-0.011963</td>\n",
       "      <td>-0.009684</td>\n",
       "    </tr>\n",
       "    <tr>\n",
       "      <th>failures</th>\n",
       "      <td>0.243075</td>\n",
       "      <td>-0.250408</td>\n",
       "      <td>-0.236680</td>\n",
       "      <td>-0.173563</td>\n",
       "      <td>0.094084</td>\n",
       "      <td>1.000000</td>\n",
       "      <td>-0.044337</td>\n",
       "      <td>0.076487</td>\n",
       "      <td>0.063726</td>\n",
       "    </tr>\n",
       "    <tr>\n",
       "      <th>famrel</th>\n",
       "      <td>0.052644</td>\n",
       "      <td>-0.001370</td>\n",
       "      <td>-0.003914</td>\n",
       "      <td>0.039731</td>\n",
       "      <td>-0.021061</td>\n",
       "      <td>-0.044337</td>\n",
       "      <td>1.000000</td>\n",
       "      <td>0.153086</td>\n",
       "      <td>-0.044354</td>\n",
       "    </tr>\n",
       "    <tr>\n",
       "      <th>freetime</th>\n",
       "      <td>0.007248</td>\n",
       "      <td>-0.011424</td>\n",
       "      <td>0.030082</td>\n",
       "      <td>-0.138619</td>\n",
       "      <td>-0.011963</td>\n",
       "      <td>0.076487</td>\n",
       "      <td>0.153086</td>\n",
       "      <td>1.000000</td>\n",
       "      <td>-0.056825</td>\n",
       "    </tr>\n",
       "    <tr>\n",
       "      <th>absences</th>\n",
       "      <td>0.174157</td>\n",
       "      <td>0.024473</td>\n",
       "      <td>0.100285</td>\n",
       "      <td>-0.062700</td>\n",
       "      <td>-0.009684</td>\n",
       "      <td>0.063726</td>\n",
       "      <td>-0.044354</td>\n",
       "      <td>-0.056825</td>\n",
       "      <td>1.000000</td>\n",
       "    </tr>\n",
       "  </tbody>\n",
       "</table>\n",
       "</div>"
      ],
      "text/plain": [
       "                 age      Fedu      Medu  studytime  traveltime  failures  \\\n",
       "age         1.000000 -0.162190 -0.161852  -0.005905    0.064570  0.243075   \n",
       "Fedu       -0.162190  1.000000  0.623455  -0.009175   -0.166499 -0.250408   \n",
       "Medu       -0.161852  0.623455  1.000000   0.064944   -0.163966 -0.236680   \n",
       "studytime  -0.005905 -0.009175  0.064944   1.000000   -0.098343 -0.173563   \n",
       "traveltime  0.064570 -0.166499 -0.163966  -0.098343    1.000000  0.094084   \n",
       "failures    0.243075 -0.250408 -0.236680  -0.173563    0.094084  1.000000   \n",
       "famrel      0.052644 -0.001370 -0.003914   0.039731   -0.021061 -0.044337   \n",
       "freetime    0.007248 -0.011424  0.030082  -0.138619   -0.011963  0.076487   \n",
       "absences    0.174157  0.024473  0.100285  -0.062700   -0.009684  0.063726   \n",
       "\n",
       "              famrel  freetime  absences  \n",
       "age         0.052644  0.007248  0.174157  \n",
       "Fedu       -0.001370 -0.011424  0.024473  \n",
       "Medu       -0.003914  0.030082  0.100285  \n",
       "studytime   0.039731 -0.138619 -0.062700  \n",
       "traveltime -0.021061 -0.011963 -0.009684  \n",
       "failures   -0.044337  0.076487  0.063726  \n",
       "famrel      1.000000  0.153086 -0.044354  \n",
       "freetime    0.153086  1.000000 -0.056825  \n",
       "absences   -0.044354 -0.056825  1.000000  "
      ]
     },
     "execution_count": 19,
     "metadata": {},
     "output_type": "execute_result"
    }
   ],
   "source": [
    "df.corr('pearson')\n",
    "# absences와 높은 상관관계를 가지는 독립변수는 없음\n",
    "# 독립변수간 높은 상관관계를 가지는 변수는 없음"
   ]
  },
  {
   "cell_type": "code",
   "execution_count": 20,
   "id": "a7b78f4b",
   "metadata": {},
   "outputs": [
    {
     "data": {
      "text/plain": [
       "(array([ 82., 102.,  97.,   0.,  82.,  24.,   0.,   3.,   1.,   1.]),\n",
       " array([15. , 15.7, 16.4, 17.1, 17.8, 18.5, 19.2, 19.9, 20.6, 21.3, 22. ]),\n",
       " <BarContainer object of 10 artists>)"
      ]
     },
     "execution_count": 20,
     "metadata": {},
     "output_type": "execute_result"
    },
    {
     "data": {
      "image/png": "[encoded data removed]",
      "text/plain": [
       "<Figure size 640x480 with 1 Axes>"
      ]
     },
     "metadata": {},
     "output_type": "display_data"
    }
   ],
   "source": [
    "# 1.2 결측치 처리 및 변화 시각화, 추가 전처리가 필요하다면 이유와 기대효과를 설명하라\n",
    "plt.hist('age', data = df)"
   ]
  },
  {
   "cell_type": "code",
   "execution_count": 21,
   "id": "30dde488",
   "metadata": {},
   "outputs": [
    {
     "data": {
      "text/plain": [
       "(array([255.,   0.,   0., 107.,   0.,   0.,  22.,   0.,   0.,   8.]),\n",
       " array([1. , 1.3, 1.6, 1.9, 2.2, 2.5, 2.8, 3.1, 3.4, 3.7, 4. ]),\n",
       " <BarContainer object of 10 artists>)"
      ]
     },
     "execution_count": 21,
     "metadata": {},
     "output_type": "execute_result"
    },
    {
     "data": {
      "image/png": "[encoded data removed]",
      "text/plain": [
       "<Figure size 640x480 with 1 Axes>"
      ]
     },
     "metadata": {},
     "output_type": "display_data"
    }
   ],
   "source": [
    "plt.hist('traveltime', data = df)"
   ]
  },
  {
   "cell_type": "code",
   "execution_count": 22,
   "id": "4a54a4ec",
   "metadata": {},
   "outputs": [
    {
     "data": {
      "text/plain": [
       "(array([ 19.,   0.,  64.,   0.,   0., 153.,   0., 115.,   0.,  39.]),\n",
       " array([1. , 1.4, 1.8, 2.2, 2.6, 3. , 3.4, 3.8, 4.2, 4.6, 5. ]),\n",
       " <BarContainer object of 10 artists>)"
      ]
     },
     "execution_count": 22,
     "metadata": {},
     "output_type": "execute_result"
    },
    {
     "data": {
      "image/png": "[encoded data removed]",
      "text/plain": [
       "<Figure size 640x480 with 1 Axes>"
      ]
     },
     "metadata": {},
     "output_type": "display_data"
    }
   ],
   "source": [
    "plt.hist('freetime', data = df)"
   ]
  },
  {
   "cell_type": "code",
   "execution_count": 23,
   "id": "bbf3a118",
   "metadata": {},
   "outputs": [
    {
     "data": {
      "text/plain": [
       "sex           0\n",
       "age           0\n",
       "Pstatus       0\n",
       "Fedu          0\n",
       "Medu          0\n",
       "guardian      0\n",
       "studytime     0\n",
       "traveltime    0\n",
       "failures      0\n",
       "famrel        0\n",
       "freetime      0\n",
       "absences      0\n",
       "dtype: int64"
      ]
     },
     "execution_count": 23,
     "metadata": {},
     "output_type": "execute_result"
    }
   ],
   "source": [
    "# KNN으로 결측치 대체\n",
    "fill_columns = ['age', 'traveltime', 'freetime']\n",
    "from sklearn.impute import KNNImputer\n",
    "imputer = KNNImputer()\n",
    "df_knnim = imputer.fit_transform(df[fill_columns])\n",
    "df[fill_columns] = df_knnim\n",
    "df.isna().sum()"
   ]
  },
  {
   "cell_type": "code",
   "execution_count": 24,
   "id": "b9de3968",
   "metadata": {},
   "outputs": [
    {
     "data": {
      "text/plain": [
       "(array([ 82., 104.,  98.,   0.,  82.,  24.,   0.,   3.,   1.,   1.]),\n",
       " array([15. , 15.7, 16.4, 17.1, 17.8, 18.5, 19.2, 19.9, 20.6, 21.3, 22. ]),\n",
       " <BarContainer object of 10 artists>)"
      ]
     },
     "execution_count": 24,
     "metadata": {},
     "output_type": "execute_result"
    },
    {
     "data": {
      "image/png": "[encoded data removed]",
      "text/plain": [
       "<Figure size 640x480 with 1 Axes>"
      ]
     },
     "metadata": {},
     "output_type": "display_data"
    }
   ],
   "source": [
    "plt.hist('age', data = df)"
   ]
  },
  {
   "cell_type": "code",
   "execution_count": 25,
   "id": "f1fc57af",
   "metadata": {},
   "outputs": [
    {
     "data": {
      "text/plain": [
       "(array([256.,   1.,   1., 107.,   0.,   0.,  22.,   0.,   0.,   8.]),\n",
       " array([1. , 1.3, 1.6, 1.9, 2.2, 2.5, 2.8, 3.1, 3.4, 3.7, 4. ]),\n",
       " <BarContainer object of 10 artists>)"
      ]
     },
     "execution_count": 25,
     "metadata": {},
     "output_type": "execute_result"
    },
    {
     "data": {
      "image/png": "[encoded data removed]",
      "text/plain": [
       "<Figure size 640x480 with 1 Axes>"
      ]
     },
     "metadata": {},
     "output_type": "display_data"
    }
   ],
   "source": [
    "plt.hist('traveltime', data = df)"
   ]
  },
  {
   "cell_type": "code",
   "execution_count": null,
   "id": "2023ea2d",
   "metadata": {},
   "outputs": [],
   "source": [
    "# 추가 전처리가 필요한 이유 : 종속변수와 상관관계가 높은 변수가 없어서 분석정확도가 낮을 확률이 높음\n",
    "# 파생변수 생성을 통해서 보다 종속변수를 잘 설명할 수 있는 독립변수 발굴이 필요함"
   ]
  },
  {
   "cell_type": "code",
   "execution_count": 33,
   "id": "8cc49991",
   "metadata": {},
   "outputs": [],
   "source": [
    "# 1.3 결석일수 예측모델을 2개 제시하고 선택한 근거 설명\n",
    "# SVM과 radomforest를 선택함.\n",
    "# 회귀분석에서 다중 공산성 문제를 해결할 수 있고 분석정확도가 높아서 선택함\n",
    "# 1.6. 세 가지 모델 모두 모델링 해보고 가장 적합한 알고리즘 선택하고 이유 설명. 한계점 설명하고 보완 가능한 부분 설명하고, \n",
    "# 현업에서 사용시 주의할 점 등에 대해 기술하시오.\n",
    "from sklearn.svm import SVR \n",
    "from sklearn.ensemble import RandomForestRegressor\n",
    "from xgboost import XGBRegressor\n",
    "from sklearn.metrics import mean_squared_error\n",
    "from sklearn.preprocessing import StandardScaler\n",
    "\n",
    "from sklearn.svm import SVC\n",
    "\n",
    "df02 = pd.get_dummies(data = df, columns = ['sex', 'Pstatus', 'guardian'], drop_first = True)\n",
    "\n",
    "X = df02.drop(['absences'], axis = 1)\n",
    "y = df02['absences']"
   ]
  },
  {
   "cell_type": "code",
   "execution_count": 34,
   "id": "dc055f08",
   "metadata": {},
   "outputs": [],
   "source": [
    "# 데이터 분할\n",
    "from sklearn.model_selection import train_test_split\n",
    "X_train, X_test, y_train, y_test = train_test_split(X, y, test_size = 0.3, train_size = 0.7, random_state = 2023)"
   ]
  },
  {
   "cell_type": "code",
   "execution_count": 36,
   "id": "9af9c230",
   "metadata": {},
   "outputs": [],
   "source": [
    "# 정규화\n",
    "scaler = StandardScaler() \n",
    "X_train_scaled = pd.DataFrame(scaler.fit_transform(X_train), columns=X_train.columns)\n",
    "X_test_scaled = pd.DataFrame(scaler.transform(X_test), columns=X_test.columns)"
   ]
  },
  {
   "cell_type": "code",
   "execution_count": null,
   "id": "4b48eadc",
   "metadata": {},
   "outputs": [],
   "source": [
    "# SVM  최적 모델 찾기1\n",
    "from sklearn.model_selection import GridSearchCV\n",
    "\n",
    "param_grid = [\n",
    "    { 'C': [0.1, 1,10,100, 1000],'gamma': [0.0001, 0.001, 0.01, 0.1, 1, 10]}\n",
    "]\n",
    "\n",
    "grid_svm = GridSearchCV(SVR(), param_grid =param_grid, cv = 5)\n",
    "grid_svm.fit(X_train_scaled, y_train)\n",
    "\n",
    "result = pd.DataFrame(grid_svm.cv_results_['params'])\n",
    "result['mean_test_score'] = grid_svm.cv_results_['mean_test_score']\n",
    "result.sort_values(by='mean_test_score', ascending=False)"
   ]
  },
  {
   "cell_type": "code",
   "execution_count": null,
   "id": "dc39bf6a",
   "metadata": {},
   "outputs": [],
   "source": [
    "# SVM  최적 모델 찾기1\n",
    "from sklearn.model_selection import GridSearchCV\n",
    "\n",
    "param_grid = [\n",
    "    { 'C': [0.001, 0.01, 10000, 10000],'gamma': [0.0001, 0.001, 0.01, 0.1, 1, 100, 1000]}\n",
    "]\n",
    "\n",
    "grid_svm = GridSearchCV(SVR(), param_grid =param_grid, cv = 5)\n",
    "grid_svm.fit(X_train_scaled, y_train)\n",
    "\n",
    "result = pd.DataFrame(grid_svm.cv_results_['params'])\n",
    "result['mean_test_score'] = grid_svm.cv_results_['mean_test_score']\n",
    "result.sort_values(by='mean_test_score', ascending=False)"
   ]
  },
  {
   "cell_type": "code",
   "execution_count": 42,
   "id": "49649ef8",
   "metadata": {},
   "outputs": [
    {
     "name": "stdout",
     "output_type": "stream",
     "text": [
      "svm R2 :  -0.019661935831589705\n",
      "svm RMSE: 6.2645021859757435\n"
     ]
    }
   ],
   "source": [
    "import numpy as np\n",
    "svr = SVR(C=10000, gamma = 1000) \n",
    "svr.fit(X_train_scaled, y_train)\n",
    "\n",
    "print(\"svm R2 : \", svr.score(X_test_scaled, y_test))\n",
    "print(\"svm RMSE:\", np.sqrt(mean_squared_error(y_test,svr.predict(X_test_scaled))))"
   ]
  },
  {
   "cell_type": "code",
   "execution_count": 61,
   "id": "e3b04114",
   "metadata": {},
   "outputs": [
    {
     "name": "stdout",
     "output_type": "stream",
     "text": [
      "{'max_depth': 2, 'min_samples_split': 8}\n",
      "R2 :  0.001286182292000726\n",
      "RMSE: 6.199818715156966\n"
     ]
    }
   ],
   "source": [
    "# RandomForest 최적 모델 찾기\n",
    "rf_grid = [\n",
    "    { 'max_depth': range(2,20,2), 'min_samples_split': range(2,20,2) }\n",
    "]\n",
    "\n",
    "rf  = GridSearchCV(RandomForestRegressor(n_estimators=100, random_state = 2023), param_grid = rf_grid, cv = 5) # random_state 미 기입하면 분석마다 달라짐\n",
    "rf.fit(X_train_scaled, y_train) \n",
    "\n",
    "print(rf.best_params_)\n",
    "print(\"R2 : \", rf.score(X_test_scaled, y_test))\n",
    "print(\"RMSE:\", np.sqrt(mean_squared_error(y_test,rf.predict(X_test_scaled))))"
   ]
  },
  {
   "cell_type": "code",
   "execution_count": null,
   "id": "7500cccc",
   "metadata": {},
   "outputs": [],
   "source": [
    "# 1.4 선정한 모델 2가지 생성 및 모델의 평가 기준을 선정하고 선정 이유 설명\n",
    "# 모델의 설명력인 R2와 예측치와 실제값의 오차인 RMSE를 평가 기준으로 선정. 모델의 정확도와 실제 오차를 2가지 측면에서 비교하기 위해서 선정함."
   ]
  },
  {
   "cell_type": "code",
   "execution_count": null,
   "id": "664193c5",
   "metadata": {},
   "outputs": [],
   "source": [
    "## @@ MAE 등 평가기준 작성"
   ]
  },
  {
   "cell_type": "code",
   "execution_count": 62,
   "id": "64ace742",
   "metadata": {},
   "outputs": [
    {
     "data": {
      "text/plain": [
       "(array([57., 18., 20.,  9.,  5.,  2.,  4.,  1.,  2.,  1.]),\n",
       " array([ 0.,  3.,  6.,  9., 12., 15., 18., 21., 24., 27., 30.]),\n",
       " <BarContainer object of 10 artists>)"
      ]
     },
     "execution_count": 62,
     "metadata": {},
     "output_type": "execute_result"
    },
    {
     "data": {
      "image/png": "[encoded data removed]",
      "text/plain": [
       "<Figure size 640x480 with 1 Axes>"
      ]
     },
     "metadata": {},
     "output_type": "display_data"
    }
   ],
   "source": [
    "# 1.5 모델이 다양한 일상 상황에서도 잘 동작한다는 것을 설명하고 시각화 하라\n",
    "# 학습하지 않은 test 데이터 적용시에 설명력이 0.001로 일상생활의 다른 데이터 적용시에도 잘 설명할 수 있음.\n",
    "# 그렇기 때문에 교차검증을 통해 이를 설명하고 싶었다. 타임아웃으로 방법론만 제시하고 끝냈다.\n",
    "plt.hist(y_test)"
   ]
  },
  {
   "cell_type": "code",
   "execution_count": 67,
   "id": "be708280",
   "metadata": {},
   "outputs": [
    {
     "data": {
      "text/plain": [
       "(array([16., 53., 41.,  7.,  0.,  0.,  0.,  0.,  0.,  2.]),\n",
       " array([ 3.34835318,  4.7862345 ,  6.22411582,  7.66199714,  9.09987845,\n",
       "        10.53775977, 11.97564109, 13.4135224 , 14.85140372, 16.28928504,\n",
       "        17.72716636]),\n",
       " <BarContainer object of 10 artists>)"
      ]
     },
     "execution_count": 67,
     "metadata": {},
     "output_type": "execute_result"
    },
    {
     "data": {
      "image/png": "[encoded data removed]",
      "text/plain": [
       "<Figure size 640x480 with 1 Axes>"
      ]
     },
     "metadata": {},
     "output_type": "display_data"
    }
   ],
   "source": [
    "plt.hist(rf.predict(X_test_scaled))"
   ]
  },
  {
   "cell_type": "code",
   "execution_count": 65,
   "id": "24d024c4",
   "metadata": {},
   "outputs": [],
   "source": [
    "# 1.6 모델 최적화 방안에 대해 구체적으로 설명하라\n",
    "# 보다 정확한 분석을 위해서는 더 많은 변수와 더 많은 기간을 대상으로 분석하여 분석의 정확도를 향상시킬 수 있다.\n",
    "# 더불어, 딥러닝 기법을 활용하여 보다 심층적으로 데이터를 학습시켜 모델을 최적화 할 수 있다.\n",
    "# 그리드서치와 같은 과정을 통해 파라미터 최적화가 필요하다 작성하였다."
   ]
  },
  {
   "cell_type": "code",
   "execution_count": null,
   "id": "a7fa4d2f",
   "metadata": {},
   "outputs": [],
   "source": []
  },
  {
   "cell_type": "code",
   "execution_count": null,
   "id": "489e082d",
   "metadata": {},
   "outputs": [],
   "source": []
  }
 ],
 "metadata": {
  "kernelspec": {
   "display_name": "Python 3",
   "language": "python",
   "name": "python3"
  },
  "language_info": {
   "codemirror_mode": {
    "name": "ipython",
    "version": 3
   },
   "file_extension": ".py",
   "mimetype": "text/x-python",
   "name": "python",
   "nbconvert_exporter": "python",
   "pygments_lexer": "ipython3",
   "version": "3.7.9"
  },
  "vscode": {
   "interpreter": {
    "hash": "5aa634c14859627405404137fecabd2d911e45a844039ce454abb52cf9f696dc"
   }
  }
 },
 "nbformat": 4,
 "nbformat_minor": 5
}
