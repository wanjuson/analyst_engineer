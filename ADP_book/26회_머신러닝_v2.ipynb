{
 "cells": [
  {
   "cell_type": "code",
   "execution_count": null,
   "id": "fe14f247",
   "metadata": {},
   "outputs": [],
   "source": [
    "# 문제 : https://www.datamanim.com/dataset/ADPpb/00/26.html\n",
    "# 풀이 : https://amaruak00.github.io/2022/09/26/adp26th.html"
   ]
  },
  {
   "cell_type": "code",
   "execution_count": null,
   "id": "4e4024db",
   "metadata": {},
   "outputs": [],
   "source": [
    "##데이터 확인 및 전처리\n",
    "# 1.1 결측치를 확인하고, 결측치 제거할 것\n",
    "# 1.2 이상치 제거하는 방법을 설명하고, 이상치 제거하고 난 결과를 통계적으로 나타낼 것\n",
    "# 1.3 전처리한 데이터로 Kmeans, DBSCAN 등 방법으로 군집을 생성할 것"
   ]
  },
  {
   "cell_type": "code",
   "execution_count": 1,
   "id": "a84597a0",
   "metadata": {},
   "outputs": [
    {
     "data": {
      "text/html": [
       "<div>\n",
       "<style scoped>\n",
       "    .dataframe tbody tr th:only-of-type {\n",
       "        vertical-align: middle;\n",
       "    }\n",
       "\n",
       "    .dataframe tbody tr th {\n",
       "        vertical-align: top;\n",
       "    }\n",
       "\n",
       "    .dataframe thead th {\n",
       "        text-align: right;\n",
       "    }\n",
       "</style>\n",
       "<table border=\"1\" class=\"dataframe\">\n",
       "  <thead>\n",
       "    <tr style=\"text-align: right;\">\n",
       "      <th></th>\n",
       "      <th>InvoiceNo</th>\n",
       "      <th>StockCode</th>\n",
       "      <th>Description</th>\n",
       "      <th>Quantity</th>\n",
       "      <th>InvoiceDate</th>\n",
       "      <th>UnitPrice</th>\n",
       "      <th>CustomerID</th>\n",
       "      <th>Country</th>\n",
       "    </tr>\n",
       "  </thead>\n",
       "  <tbody>\n",
       "    <tr>\n",
       "      <th>0</th>\n",
       "      <td>563808</td>\n",
       "      <td>22432</td>\n",
       "      <td>WATERING CAN PINK BUNNY</td>\n",
       "      <td>6.0</td>\n",
       "      <td>8/19/2011 11:46</td>\n",
       "      <td>1.95</td>\n",
       "      <td>12626.0</td>\n",
       "      <td>Germany</td>\n",
       "    </tr>\n",
       "    <tr>\n",
       "      <th>1</th>\n",
       "      <td>561645</td>\n",
       "      <td>23166</td>\n",
       "      <td>MEDIUM CERAMIC TOP STORAGE JAR</td>\n",
       "      <td>12.0</td>\n",
       "      <td>7/28/2011 15:16</td>\n",
       "      <td>1.25</td>\n",
       "      <td>14911.0</td>\n",
       "      <td>EIRE</td>\n",
       "    </tr>\n",
       "    <tr>\n",
       "      <th>2</th>\n",
       "      <td>568651</td>\n",
       "      <td>20985</td>\n",
       "      <td>HEART CALCULATOR</td>\n",
       "      <td>12.0</td>\n",
       "      <td>9/28/2011 12:04</td>\n",
       "      <td>1.25</td>\n",
       "      <td>12362.0</td>\n",
       "      <td>Belgium</td>\n",
       "    </tr>\n",
       "    <tr>\n",
       "      <th>3</th>\n",
       "      <td>541711</td>\n",
       "      <td>22772</td>\n",
       "      <td>PINK DRAWER KNOB ACRYLIC EDWARDIAN</td>\n",
       "      <td>24.0</td>\n",
       "      <td>1/21/2011 11:18</td>\n",
       "      <td>1.25</td>\n",
       "      <td>14646.0</td>\n",
       "      <td>Netherlands</td>\n",
       "    </tr>\n",
       "    <tr>\n",
       "      <th>4</th>\n",
       "      <td>554134</td>\n",
       "      <td>21154</td>\n",
       "      <td>RED RETROSPOT OVEN GLOVE</td>\n",
       "      <td>10.0</td>\n",
       "      <td>5/23/2011 9:48</td>\n",
       "      <td>1.25</td>\n",
       "      <td>12583.0</td>\n",
       "      <td>France</td>\n",
       "    </tr>\n",
       "  </tbody>\n",
       "</table>\n",
       "</div>"
      ],
      "text/plain": [
       "  InvoiceNo StockCode                         Description  Quantity  \\\n",
       "0    563808     22432             WATERING CAN PINK BUNNY       6.0   \n",
       "1    561645     23166      MEDIUM CERAMIC TOP STORAGE JAR      12.0   \n",
       "2    568651     20985                    HEART CALCULATOR      12.0   \n",
       "3    541711     22772  PINK DRAWER KNOB ACRYLIC EDWARDIAN      24.0   \n",
       "4    554134     21154           RED RETROSPOT OVEN GLOVE       10.0   \n",
       "\n",
       "       InvoiceDate  UnitPrice  CustomerID      Country  \n",
       "0  8/19/2011 11:46       1.95     12626.0      Germany  \n",
       "1  7/28/2011 15:16       1.25     14911.0         EIRE  \n",
       "2  9/28/2011 12:04       1.25     12362.0      Belgium  \n",
       "3  1/21/2011 11:18       1.25     14646.0  Netherlands  \n",
       "4   5/23/2011 9:48       1.25     12583.0       France  "
      ]
     },
     "execution_count": 1,
     "metadata": {},
     "output_type": "execute_result"
    }
   ],
   "source": [
    "# 데이터 블러오기\n",
    "import pandas as pd\n",
    "df= pd.read_csv('https://raw.githubusercontent.com/Datamanim/datarepo/main/adp/26/problem1.csv')\n",
    "df.head()"
   ]
  },
  {
   "cell_type": "code",
   "execution_count": 2,
   "id": "963b6533",
   "metadata": {},
   "outputs": [
    {
     "name": "stdout",
     "output_type": "stream",
     "text": [
      "<class 'pandas.core.frame.DataFrame'>\n",
      "RangeIndex: 35801 entries, 0 to 35800\n",
      "Data columns (total 8 columns):\n",
      " #   Column       Non-Null Count  Dtype  \n",
      "---  ------       --------------  -----  \n",
      " 0   InvoiceNo    35801 non-null  object \n",
      " 1   StockCode    35801 non-null  object \n",
      " 2   Description  35801 non-null  object \n",
      " 3   Quantity     35776 non-null  float64\n",
      " 4   InvoiceDate  35801 non-null  object \n",
      " 5   UnitPrice    35704 non-null  float64\n",
      " 6   CustomerID   35801 non-null  float64\n",
      " 7   Country      35801 non-null  object \n",
      "dtypes: float64(3), object(5)\n",
      "memory usage: 2.2+ MB\n"
     ]
    }
   ],
   "source": [
    "# 1.1 결측치를 확인하고, 결측치 제거할 것\n",
    "df.info()"
   ]
  },
  {
   "cell_type": "code",
   "execution_count": 3,
   "id": "46d22830",
   "metadata": {},
   "outputs": [
    {
     "data": {
      "text/plain": [
       "InvoiceNo       0\n",
       "StockCode       0\n",
       "Description     0\n",
       "Quantity       25\n",
       "InvoiceDate     0\n",
       "UnitPrice      97\n",
       "CustomerID      0\n",
       "Country         0\n",
       "dtype: int64"
      ]
     },
     "execution_count": 3,
     "metadata": {},
     "output_type": "execute_result"
    }
   ],
   "source": [
    "df.isna().sum()"
   ]
  },
  {
   "cell_type": "code",
   "execution_count": 4,
   "id": "e7066165",
   "metadata": {},
   "outputs": [
    {
     "data": {
      "text/plain": [
       "InvoiceNo      0\n",
       "StockCode      0\n",
       "Description    0\n",
       "Quantity       0\n",
       "InvoiceDate    0\n",
       "UnitPrice      0\n",
       "CustomerID     0\n",
       "Country        0\n",
       "dtype: int64"
      ]
     },
     "execution_count": 4,
     "metadata": {},
     "output_type": "execute_result"
    }
   ],
   "source": [
    "# KNN으로 결측치 대체\n",
    "fill_columns = ['Quantity', 'UnitPrice']\n",
    "from sklearn.impute import KNNImputer\n",
    "imputer = KNNImputer()\n",
    "df_knnim = imputer.fit_transform(df[fill_columns])\n",
    "df[fill_columns] = df_knnim\n",
    "df.isna().sum()"
   ]
  },
  {
   "cell_type": "code",
   "execution_count": 5,
   "id": "c3cf1590",
   "metadata": {},
   "outputs": [
    {
     "data": {
      "text/html": [
       "<div>\n",
       "<style scoped>\n",
       "    .dataframe tbody tr th:only-of-type {\n",
       "        vertical-align: middle;\n",
       "    }\n",
       "\n",
       "    .dataframe tbody tr th {\n",
       "        vertical-align: top;\n",
       "    }\n",
       "\n",
       "    .dataframe thead th {\n",
       "        text-align: right;\n",
       "    }\n",
       "</style>\n",
       "<table border=\"1\" class=\"dataframe\">\n",
       "  <thead>\n",
       "    <tr style=\"text-align: right;\">\n",
       "      <th></th>\n",
       "      <th>Quantity</th>\n",
       "      <th>UnitPrice</th>\n",
       "      <th>CustomerID</th>\n",
       "    </tr>\n",
       "  </thead>\n",
       "  <tbody>\n",
       "    <tr>\n",
       "      <th>count</th>\n",
       "      <td>35801.000000</td>\n",
       "      <td>35801.000000</td>\n",
       "      <td>35801.000000</td>\n",
       "    </tr>\n",
       "    <tr>\n",
       "      <th>mean</th>\n",
       "      <td>18.424536</td>\n",
       "      <td>4.617197</td>\n",
       "      <td>13221.824390</td>\n",
       "    </tr>\n",
       "    <tr>\n",
       "      <th>std</th>\n",
       "      <td>42.151098</td>\n",
       "      <td>48.054142</td>\n",
       "      <td>1012.177727</td>\n",
       "    </tr>\n",
       "    <tr>\n",
       "      <th>min</th>\n",
       "      <td>-480.000000</td>\n",
       "      <td>0.000000</td>\n",
       "      <td>12354.000000</td>\n",
       "    </tr>\n",
       "    <tr>\n",
       "      <th>25%</th>\n",
       "      <td>4.000000</td>\n",
       "      <td>1.250000</td>\n",
       "      <td>12523.000000</td>\n",
       "    </tr>\n",
       "    <tr>\n",
       "      <th>50%</th>\n",
       "      <td>10.000000</td>\n",
       "      <td>1.950000</td>\n",
       "      <td>12681.000000</td>\n",
       "    </tr>\n",
       "    <tr>\n",
       "      <th>75%</th>\n",
       "      <td>16.000000</td>\n",
       "      <td>3.750000</td>\n",
       "      <td>14156.000000</td>\n",
       "    </tr>\n",
       "    <tr>\n",
       "      <th>max</th>\n",
       "      <td>2400.000000</td>\n",
       "      <td>4161.060000</td>\n",
       "      <td>17097.000000</td>\n",
       "    </tr>\n",
       "  </tbody>\n",
       "</table>\n",
       "</div>"
      ],
      "text/plain": [
       "           Quantity     UnitPrice    CustomerID\n",
       "count  35801.000000  35801.000000  35801.000000\n",
       "mean      18.424536      4.617197  13221.824390\n",
       "std       42.151098     48.054142   1012.177727\n",
       "min     -480.000000      0.000000  12354.000000\n",
       "25%        4.000000      1.250000  12523.000000\n",
       "50%       10.000000      1.950000  12681.000000\n",
       "75%       16.000000      3.750000  14156.000000\n",
       "max     2400.000000   4161.060000  17097.000000"
      ]
     },
     "execution_count": 5,
     "metadata": {},
     "output_type": "execute_result"
    }
   ],
   "source": [
    "# 1.2 이상치 제거하는 방법을 설명하고, 이상치 제거하고 난 결과를 통계적으로 나타낼 것\n",
    "df.describe()"
   ]
  },
  {
   "cell_type": "code",
   "execution_count": 6,
   "id": "d006d150",
   "metadata": {},
   "outputs": [
    {
     "data": {
      "text/plain": [
       "{'whiskers': [<matplotlib.lines.Line2D at 0x17892098ec8>,\n",
       "  <matplotlib.lines.Line2D at 0x178920ad688>],\n",
       " 'caps': [<matplotlib.lines.Line2D at 0x17892098e88>,\n",
       "  <matplotlib.lines.Line2D at 0x178920adf48>],\n",
       " 'boxes': [<matplotlib.lines.Line2D at 0x17892098748>],\n",
       " 'medians': [<matplotlib.lines.Line2D at 0x178920b4948>],\n",
       " 'fliers': [<matplotlib.lines.Line2D at 0x178920ad908>],\n",
       " 'means': []}"
      ]
     },
     "execution_count": 6,
     "metadata": {},
     "output_type": "execute_result"
    },
    {
     "data": {
      "image/png": "[encoded data removed]",
      "text/plain": [
       "<Figure size 640x480 with 1 Axes>"
      ]
     },
     "metadata": {},
     "output_type": "display_data"
    }
   ],
   "source": [
    "import matplotlib.pyplot as plt\n",
    "plt.boxplot(df['Quantity'], whis=1.5)"
   ]
  },
  {
   "cell_type": "code",
   "execution_count": 7,
   "id": "7587ca70",
   "metadata": {},
   "outputs": [
    {
     "data": {
      "text/plain": [
       "{'whiskers': [<matplotlib.lines.Line2D at 0x178920fd908>,\n",
       "  <matplotlib.lines.Line2D at 0x17892102048>],\n",
       " 'caps': [<matplotlib.lines.Line2D at 0x17892102148>,\n",
       "  <matplotlib.lines.Line2D at 0x1789224fe48>],\n",
       " 'boxes': [<matplotlib.lines.Line2D at 0x178920fd048>],\n",
       " 'medians': [<matplotlib.lines.Line2D at 0x1789210a308>],\n",
       " 'fliers': [<matplotlib.lines.Line2D at 0x17892102d48>],\n",
       " 'means': []}"
      ]
     },
     "execution_count": 7,
     "metadata": {},
     "output_type": "execute_result"
    },
    {
     "data": {
      "image/png": "[encoded data removed]",
      "text/plain": [
       "<Figure size 640x480 with 1 Axes>"
      ]
     },
     "metadata": {},
     "output_type": "display_data"
    }
   ],
   "source": [
    "plt.boxplot(df['UnitPrice'], whis=1.5)"
   ]
  },
  {
   "cell_type": "code",
   "execution_count": 8,
   "id": "2f6916e4",
   "metadata": {},
   "outputs": [
    {
     "data": {
      "text/html": [
       "<div>\n",
       "<style scoped>\n",
       "    .dataframe tbody tr th:only-of-type {\n",
       "        vertical-align: middle;\n",
       "    }\n",
       "\n",
       "    .dataframe tbody tr th {\n",
       "        vertical-align: top;\n",
       "    }\n",
       "\n",
       "    .dataframe thead th {\n",
       "        text-align: right;\n",
       "    }\n",
       "</style>\n",
       "<table border=\"1\" class=\"dataframe\">\n",
       "  <thead>\n",
       "    <tr style=\"text-align: right;\">\n",
       "      <th></th>\n",
       "      <th>UnitPrice</th>\n",
       "    </tr>\n",
       "  </thead>\n",
       "  <tbody>\n",
       "    <tr>\n",
       "      <th>8</th>\n",
       "      <td>15.95</td>\n",
       "    </tr>\n",
       "    <tr>\n",
       "      <th>13</th>\n",
       "      <td>18.00</td>\n",
       "    </tr>\n",
       "    <tr>\n",
       "      <th>15</th>\n",
       "      <td>7.95</td>\n",
       "    </tr>\n",
       "    <tr>\n",
       "      <th>29</th>\n",
       "      <td>15.00</td>\n",
       "    </tr>\n",
       "    <tr>\n",
       "      <th>35</th>\n",
       "      <td>65.00</td>\n",
       "    </tr>\n",
       "    <tr>\n",
       "      <th>...</th>\n",
       "      <td>...</td>\n",
       "    </tr>\n",
       "    <tr>\n",
       "      <th>35773</th>\n",
       "      <td>18.00</td>\n",
       "    </tr>\n",
       "    <tr>\n",
       "      <th>35774</th>\n",
       "      <td>18.00</td>\n",
       "    </tr>\n",
       "    <tr>\n",
       "      <th>35786</th>\n",
       "      <td>1241.98</td>\n",
       "    </tr>\n",
       "    <tr>\n",
       "      <th>35794</th>\n",
       "      <td>18.00</td>\n",
       "    </tr>\n",
       "    <tr>\n",
       "      <th>35800</th>\n",
       "      <td>9.95</td>\n",
       "    </tr>\n",
       "  </tbody>\n",
       "</table>\n",
       "<p>4339 rows × 1 columns</p>\n",
       "</div>"
      ],
      "text/plain": [
       "       UnitPrice\n",
       "8          15.95\n",
       "13         18.00\n",
       "15          7.95\n",
       "29         15.00\n",
       "35         65.00\n",
       "...          ...\n",
       "35773      18.00\n",
       "35774      18.00\n",
       "35786    1241.98\n",
       "35794      18.00\n",
       "35800       9.95\n",
       "\n",
       "[4339 rows x 1 columns]"
      ]
     },
     "execution_count": 8,
     "metadata": {},
     "output_type": "execute_result"
    }
   ],
   "source": [
    "import numpy as np\n",
    "def outliers_iqr(dt, col):\n",
    "    quartile_1, quartile_3 = np.percentile(dt[col], [25, 75])\n",
    "    iqr = quartile_3 - quartile_1\n",
    "    lower_whis = quartile_1 - (iqr * 1.5)\n",
    "    upper_whis = quartile_3 + (iqr * 1.5)\n",
    "    outliers = df[(df[col] > upper_whis) | (df[col] < lower_whis)]\n",
    "    return outliers[[col]]\n",
    "\n",
    "outliers = outliers_iqr(df, 'UnitPrice')\n",
    "outliers"
   ]
  },
  {
   "cell_type": "code",
   "execution_count": 9,
   "id": "a8bcb8a5",
   "metadata": {},
   "outputs": [
    {
     "data": {
      "text/plain": [
       "InvoiceNo         0\n",
       "StockCode         0\n",
       "Description       0\n",
       "Quantity          0\n",
       "InvoiceDate       0\n",
       "UnitPrice      4339\n",
       "CustomerID        0\n",
       "Country           0\n",
       "dtype: int64"
      ]
     },
     "execution_count": 9,
     "metadata": {},
     "output_type": "execute_result"
    }
   ],
   "source": [
    "# KNN 기법을 활용하여 이상치를 대체한다.\n",
    "df.loc[outliers.index, 'UnitPrice'] = np.NaN\n",
    "df.isna().sum()"
   ]
  },
  {
   "cell_type": "code",
   "execution_count": 10,
   "id": "bbd988ef",
   "metadata": {},
   "outputs": [
    {
     "data": {
      "text/plain": [
       "InvoiceNo      0\n",
       "StockCode      0\n",
       "Description    0\n",
       "Quantity       0\n",
       "InvoiceDate    0\n",
       "UnitPrice      0\n",
       "CustomerID     0\n",
       "Country        0\n",
       "dtype: int64"
      ]
     },
     "execution_count": 10,
     "metadata": {},
     "output_type": "execute_result"
    }
   ],
   "source": [
    "# NaN 된 이상치를 knn으로 이상치 대체\n",
    "fill_columns = ['UnitPrice']\n",
    "from sklearn.impute import KNNImputer\n",
    "imputer = KNNImputer()\n",
    "df_knnim = imputer.fit_transform(df[fill_columns])\n",
    "df[fill_columns] = df_knnim\n",
    "df.isna().sum()"
   ]
  },
  {
   "cell_type": "code",
   "execution_count": 11,
   "id": "0ea108b5",
   "metadata": {},
   "outputs": [
    {
     "data": {
      "text/html": [
       "<div>\n",
       "<style scoped>\n",
       "    .dataframe tbody tr th:only-of-type {\n",
       "        vertical-align: middle;\n",
       "    }\n",
       "\n",
       "    .dataframe tbody tr th {\n",
       "        vertical-align: top;\n",
       "    }\n",
       "\n",
       "    .dataframe thead th {\n",
       "        text-align: right;\n",
       "    }\n",
       "</style>\n",
       "<table border=\"1\" class=\"dataframe\">\n",
       "  <thead>\n",
       "    <tr style=\"text-align: right;\">\n",
       "      <th></th>\n",
       "      <th>Quantity</th>\n",
       "    </tr>\n",
       "  </thead>\n",
       "  <tbody>\n",
       "    <tr>\n",
       "      <th>7</th>\n",
       "      <td>48.0</td>\n",
       "    </tr>\n",
       "    <tr>\n",
       "      <th>20</th>\n",
       "      <td>288.0</td>\n",
       "    </tr>\n",
       "    <tr>\n",
       "      <th>24</th>\n",
       "      <td>120.0</td>\n",
       "    </tr>\n",
       "    <tr>\n",
       "      <th>25</th>\n",
       "      <td>144.0</td>\n",
       "    </tr>\n",
       "    <tr>\n",
       "      <th>30</th>\n",
       "      <td>60.0</td>\n",
       "    </tr>\n",
       "    <tr>\n",
       "      <th>...</th>\n",
       "      <td>...</td>\n",
       "    </tr>\n",
       "    <tr>\n",
       "      <th>35753</th>\n",
       "      <td>48.0</td>\n",
       "    </tr>\n",
       "    <tr>\n",
       "      <th>35769</th>\n",
       "      <td>288.0</td>\n",
       "    </tr>\n",
       "    <tr>\n",
       "      <th>35777</th>\n",
       "      <td>36.0</td>\n",
       "    </tr>\n",
       "    <tr>\n",
       "      <th>35783</th>\n",
       "      <td>160.0</td>\n",
       "    </tr>\n",
       "    <tr>\n",
       "      <th>35791</th>\n",
       "      <td>120.0</td>\n",
       "    </tr>\n",
       "  </tbody>\n",
       "</table>\n",
       "<p>3737 rows × 1 columns</p>\n",
       "</div>"
      ],
      "text/plain": [
       "       Quantity\n",
       "7          48.0\n",
       "20        288.0\n",
       "24        120.0\n",
       "25        144.0\n",
       "30         60.0\n",
       "...         ...\n",
       "35753      48.0\n",
       "35769     288.0\n",
       "35777      36.0\n",
       "35783     160.0\n",
       "35791     120.0\n",
       "\n",
       "[3737 rows x 1 columns]"
      ]
     },
     "execution_count": 11,
     "metadata": {},
     "output_type": "execute_result"
    }
   ],
   "source": [
    "outliers = outliers_iqr(df, 'Quantity')\n",
    "outliers"
   ]
  },
  {
   "cell_type": "code",
   "execution_count": 12,
   "id": "d21929d1",
   "metadata": {},
   "outputs": [
    {
     "data": {
      "text/plain": [
       "InvoiceNo         0\n",
       "StockCode         0\n",
       "Description       0\n",
       "Quantity       3737\n",
       "InvoiceDate       0\n",
       "UnitPrice         0\n",
       "CustomerID        0\n",
       "Country           0\n",
       "dtype: int64"
      ]
     },
     "execution_count": 12,
     "metadata": {},
     "output_type": "execute_result"
    }
   ],
   "source": [
    "# KNN 기법을 활용하여 이상치를 대체한다.\n",
    "df.loc[outliers.index, 'Quantity'] = np.NaN\n",
    "df.isna().sum()"
   ]
  },
  {
   "cell_type": "code",
   "execution_count": 13,
   "id": "b0812b04",
   "metadata": {},
   "outputs": [
    {
     "data": {
      "text/plain": [
       "InvoiceNo      0\n",
       "StockCode      0\n",
       "Description    0\n",
       "Quantity       0\n",
       "InvoiceDate    0\n",
       "UnitPrice      0\n",
       "CustomerID     0\n",
       "Country        0\n",
       "dtype: int64"
      ]
     },
     "execution_count": 13,
     "metadata": {},
     "output_type": "execute_result"
    }
   ],
   "source": [
    "# NaN 된 이상치를 knn으로 이상치 대체\n",
    "fill_columns = ['Quantity']\n",
    "from sklearn.impute import KNNImputer\n",
    "imputer = KNNImputer()\n",
    "df_knnim = imputer.fit_transform(df[fill_columns])\n",
    "df[fill_columns] = df_knnim\n",
    "df.isna().sum()"
   ]
  },
  {
   "cell_type": "code",
   "execution_count": 14,
   "id": "cb0b6dbf",
   "metadata": {},
   "outputs": [
    {
     "data": {
      "text/html": [
       "<div>\n",
       "<style scoped>\n",
       "    .dataframe tbody tr th:only-of-type {\n",
       "        vertical-align: middle;\n",
       "    }\n",
       "\n",
       "    .dataframe tbody tr th {\n",
       "        vertical-align: top;\n",
       "    }\n",
       "\n",
       "    .dataframe thead th {\n",
       "        text-align: right;\n",
       "    }\n",
       "</style>\n",
       "<table border=\"1\" class=\"dataframe\">\n",
       "  <thead>\n",
       "    <tr style=\"text-align: right;\">\n",
       "      <th></th>\n",
       "      <th>Quantity</th>\n",
       "      <th>UnitPrice</th>\n",
       "      <th>CustomerID</th>\n",
       "    </tr>\n",
       "  </thead>\n",
       "  <tbody>\n",
       "    <tr>\n",
       "      <th>count</th>\n",
       "      <td>35801.000000</td>\n",
       "      <td>35801.000000</td>\n",
       "      <td>35801.000000</td>\n",
       "    </tr>\n",
       "    <tr>\n",
       "      <th>mean</th>\n",
       "      <td>9.673515</td>\n",
       "      <td>2.102768</td>\n",
       "      <td>13221.824390</td>\n",
       "    </tr>\n",
       "    <tr>\n",
       "      <th>std</th>\n",
       "      <td>6.853698</td>\n",
       "      <td>1.397092</td>\n",
       "      <td>1012.177727</td>\n",
       "    </tr>\n",
       "    <tr>\n",
       "      <th>min</th>\n",
       "      <td>-14.000000</td>\n",
       "      <td>0.000000</td>\n",
       "      <td>12354.000000</td>\n",
       "    </tr>\n",
       "    <tr>\n",
       "      <th>25%</th>\n",
       "      <td>4.000000</td>\n",
       "      <td>1.250000</td>\n",
       "      <td>12523.000000</td>\n",
       "    </tr>\n",
       "    <tr>\n",
       "      <th>50%</th>\n",
       "      <td>9.673515</td>\n",
       "      <td>1.950000</td>\n",
       "      <td>12681.000000</td>\n",
       "    </tr>\n",
       "    <tr>\n",
       "      <th>75%</th>\n",
       "      <td>12.000000</td>\n",
       "      <td>2.550000</td>\n",
       "      <td>14156.000000</td>\n",
       "    </tr>\n",
       "    <tr>\n",
       "      <th>max</th>\n",
       "      <td>34.000000</td>\n",
       "      <td>7.500000</td>\n",
       "      <td>17097.000000</td>\n",
       "    </tr>\n",
       "  </tbody>\n",
       "</table>\n",
       "</div>"
      ],
      "text/plain": [
       "           Quantity     UnitPrice    CustomerID\n",
       "count  35801.000000  35801.000000  35801.000000\n",
       "mean       9.673515      2.102768  13221.824390\n",
       "std        6.853698      1.397092   1012.177727\n",
       "min      -14.000000      0.000000  12354.000000\n",
       "25%        4.000000      1.250000  12523.000000\n",
       "50%        9.673515      1.950000  12681.000000\n",
       "75%       12.000000      2.550000  14156.000000\n",
       "max       34.000000      7.500000  17097.000000"
      ]
     },
     "execution_count": 14,
     "metadata": {},
     "output_type": "execute_result"
    }
   ],
   "source": [
    "df.describe()"
   ]
  },
  {
   "cell_type": "code",
   "execution_count": null,
   "id": "d85b968c",
   "metadata": {},
   "outputs": [],
   "source": [
    "## 1.3 전처리한 데이터로 Kmeans, DBSCAN 등 방법으로 군집을 생성할 것\n",
    "# KNN : K개의 주변클래스 중 가장 많은 클래스로 특정 자료를 분류하는 방식\n",
    "#  주로 주변클래스는 가장 가까운 자료를 이용하여 클래스 할당함\n",
    "#  데이터 자체를 따로 학습할 필요가 없다 (자체가 데이터이다.)\n",
    "# 장점 : 구현이 쉽다 / 알고리즘을 이해하기 쉽다 / 하이퍼파라미터가 적다\n",
    "# 단점 : 예측 속도가 느리다 / 메모리를 많이 쓴다 / 노이즈 데이터에 예민하다\n",
    "\n",
    "# DB스캔(밀도기반군집화) : 밀도를 기반으로 클래스를 군집화하는 방식\n",
    "# 장점 : 군집의 개수를 선정하지 않아도 됨\n",
    "#  노이즈를 구분하여 버림으로 의미없는 군집 생성을 차단함 (이상치를 구분해내기 위해서 활용하기도 함)\n",
    "#  복잡하거나 기하학적인 형태를 가진 데이터에도 적용 가능\n",
    "# 단점 : 고차원에서 밀도가 높은 지역을 찾는 것이 어려울 수도 있다는 점\n",
    "#  데이터의 밀도가 다양한 데이터에 적합하지 않음. "
   ]
  },
  {
   "cell_type": "code",
   "execution_count": 15,
   "id": "68aa862a",
   "metadata": {},
   "outputs": [
    {
     "name": "stdout",
     "output_type": "stream",
     "text": [
      "<class 'pandas.core.frame.DataFrame'>\n",
      "RangeIndex: 35801 entries, 0 to 35800\n",
      "Data columns (total 7 columns):\n",
      " #   Column       Non-Null Count  Dtype  \n",
      "---  ------       --------------  -----  \n",
      " 0   StockCode    35801 non-null  object \n",
      " 1   Description  35801 non-null  object \n",
      " 2   Quantity     35801 non-null  float64\n",
      " 3   InvoiceDate  35801 non-null  object \n",
      " 4   UnitPrice    35801 non-null  float64\n",
      " 5   CustomerID   35801 non-null  float64\n",
      " 6   Country      35801 non-null  object \n",
      "dtypes: float64(3), object(4)\n",
      "memory usage: 1.9+ MB\n"
     ]
    }
   ],
   "source": [
    "df = df.drop('InvoiceNo', axis = 1)\n",
    "df.info()"
   ]
  },
  {
   "cell_type": "code",
   "execution_count": 16,
   "id": "8a0eb1dc",
   "metadata": {},
   "outputs": [
    {
     "name": "stdout",
     "output_type": "stream",
     "text": [
      "<class 'pandas.core.frame.DataFrame'>\n",
      "RangeIndex: 35801 entries, 0 to 35800\n",
      "Columns: 7269 entries, Quantity to Country_Switzerland\n",
      "dtypes: float64(3), uint8(7266)\n",
      "memory usage: 248.9 MB\n"
     ]
    }
   ],
   "source": [
    "import pandas as pd\n",
    "df02 = pd.get_dummies(df, columns=['StockCode', 'Description', 'InvoiceDate', 'Country'])\n",
    "df02.info()"
   ]
  },
  {
   "cell_type": "code",
   "execution_count": null,
   "id": "f2a79ade",
   "metadata": {},
   "outputs": [],
   "source": [
    "# 추천 시스템은 나중에 하자\n",
    "# 2.1 위에서 생성한 군집들의 특성을 분석할 것\n",
    "# 2.2 각 군집 별 대표 추천 상품을 도출할 것\n",
    "# 2.3 CustomerID가 12413인 고객을 대상으로 상품을 추천할 것"
   ]
  },
  {
   "cell_type": "code",
   "execution_count": null,
   "id": "5ff12e98",
   "metadata": {},
   "outputs": [
    {
     "name": "stdout",
     "output_type": "stream",
     "text": [
      "389219.5236680225\n",
      "371933.56395977264\n",
      "683930.2737817748\n",
      "867745.6827402152\n",
      "1168236.290727463\n",
      "1893535.4888776445\n",
      "2509418.2095941706\n",
      "3051974.0941679007\n"
     ]
    }
   ],
   "source": [
    "## 군집분석\n",
    "# 2.1 위에서 생성한 군집들의 특성을 분석할 것\n",
    "from sklearn.cluster import KMeans\n",
    "from sklearn.metrics import calinski_harabasz_score\n",
    "for k in range(2, 10):\n",
    "    kmeans_model = KMeans(n_clusters=k, random_state=2023).fit(df02)\n",
    "    labels = kmeans_model.labels_\n",
    "    print(calinski_harabasz_score(df02, labels))"
   ]
  },
  {
   "cell_type": "code",
   "execution_count": 33,
   "id": "b26bb4ea",
   "metadata": {},
   "outputs": [
    {
     "ename": "KeyboardInterrupt",
     "evalue": "",
     "output_type": "error",
     "traceback": [
      "\u001b[1;31m---------------------------------------------------------------------------\u001b[0m",
      "\u001b[1;31mKeyboardInterrupt\u001b[0m                         Traceback (most recent call last)",
      "\u001b[1;32m<__array_function__ internals>\u001b[0m in \u001b[0;36mwhere\u001b[1;34m(*args, **kwargs)\u001b[0m\n",
      "\u001b[1;31mKeyboardInterrupt\u001b[0m: "
     ]
    },
    {
     "name": "stderr",
     "output_type": "stream",
     "text": [
      "Exception ignored in: 'sklearn.cluster._k_means_common._relocate_empty_clusters_dense'\n",
      "Traceback (most recent call last):\n",
      "  File \"<__array_function__ internals>\", line 2, in where\n",
      "KeyboardInterrupt\n"
     ]
    },
    {
     "data": {
      "image/png": "[encoded data removed]",
      "text/plain": [
       "<Figure size 640x480 with 1 Axes>"
      ]
     },
     "metadata": {},
     "output_type": "display_data"
    },
    {
     "name": "stdout",
     "output_type": "stream",
     "text": [
      "[36679122103.90838, 3089455680.344513, 1684106632.522393, 628956789.5196184, 374407955.43771267, 223402150.07953963, 115196253.21585013, 74586789.39451858, 53690554.276388586]\n"
     ]
    }
   ],
   "source": [
    "import matplotlib.pyplot as plt\n",
    "def elbow(X):\n",
    "    sse = []\n",
    "    for i in range(1,11):\n",
    "        km = KMeans(n_clusters=i, random_state=2023)\n",
    "        km.fit(X)\n",
    "        sse.append(km.inertia_)\n",
    "\n",
    "    plt.plot(sse, marker='o')\n",
    "    plt.show()\n",
    "    print(sse)\n",
    "\n",
    "elbow(df02)"
   ]
  },
  {
   "cell_type": "code",
   "execution_count": 18,
   "id": "6b001c90",
   "metadata": {},
   "outputs": [
    {
     "data": {
      "text/html": [
       "<div>\n",
       "<style scoped>\n",
       "    .dataframe tbody tr th:only-of-type {\n",
       "        vertical-align: middle;\n",
       "    }\n",
       "\n",
       "    .dataframe tbody tr th {\n",
       "        vertical-align: top;\n",
       "    }\n",
       "\n",
       "    .dataframe thead th {\n",
       "        text-align: right;\n",
       "    }\n",
       "</style>\n",
       "<table border=\"1\" class=\"dataframe\">\n",
       "  <thead>\n",
       "    <tr style=\"text-align: right;\">\n",
       "      <th></th>\n",
       "      <th>Quantity</th>\n",
       "      <th>UnitPrice</th>\n",
       "      <th>CustomerID</th>\n",
       "      <th>StockCode_10002</th>\n",
       "      <th>StockCode_10120</th>\n",
       "      <th>StockCode_10125</th>\n",
       "      <th>StockCode_10133</th>\n",
       "      <th>StockCode_10135</th>\n",
       "      <th>StockCode_11001</th>\n",
       "      <th>StockCode_15034</th>\n",
       "      <th>...</th>\n",
       "      <th>InvoiceDate_9/9/2011 8:48</th>\n",
       "      <th>InvoiceDate_9/9/2011 9:13</th>\n",
       "      <th>Country_Belgium</th>\n",
       "      <th>Country_EIRE</th>\n",
       "      <th>Country_France</th>\n",
       "      <th>Country_Germany</th>\n",
       "      <th>Country_Netherlands</th>\n",
       "      <th>Country_Portugal</th>\n",
       "      <th>Country_Spain</th>\n",
       "      <th>Country_Switzerland</th>\n",
       "    </tr>\n",
       "    <tr>\n",
       "      <th>cluster</th>\n",
       "      <th></th>\n",
       "      <th></th>\n",
       "      <th></th>\n",
       "      <th></th>\n",
       "      <th></th>\n",
       "      <th></th>\n",
       "      <th></th>\n",
       "      <th></th>\n",
       "      <th></th>\n",
       "      <th></th>\n",
       "      <th></th>\n",
       "      <th></th>\n",
       "      <th></th>\n",
       "      <th></th>\n",
       "      <th></th>\n",
       "      <th></th>\n",
       "      <th></th>\n",
       "      <th></th>\n",
       "      <th></th>\n",
       "      <th></th>\n",
       "      <th></th>\n",
       "    </tr>\n",
       "  </thead>\n",
       "  <tbody>\n",
       "    <tr>\n",
       "      <th>0</th>\n",
       "      <td>9.787596</td>\n",
       "      <td>2.069057</td>\n",
       "      <td>12596.862331</td>\n",
       "      <td>0.000435</td>\n",
       "      <td>0.00004</td>\n",
       "      <td>0.000514</td>\n",
       "      <td>0.000079</td>\n",
       "      <td>0.000079</td>\n",
       "      <td>0.000198</td>\n",
       "      <td>0.000079</td>\n",
       "      <td>...</td>\n",
       "      <td>0.000633</td>\n",
       "      <td>0.00178</td>\n",
       "      <td>0.08185</td>\n",
       "      <td>0.000000</td>\n",
       "      <td>0.326885</td>\n",
       "      <td>0.355368</td>\n",
       "      <td>0.011314</td>\n",
       "      <td>0.058549</td>\n",
       "      <td>0.091779</td>\n",
       "      <td>0.074254</td>\n",
       "    </tr>\n",
       "    <tr>\n",
       "      <th>1</th>\n",
       "      <td>9.399474</td>\n",
       "      <td>2.183749</td>\n",
       "      <td>14723.087428</td>\n",
       "      <td>0.000095</td>\n",
       "      <td>0.00000</td>\n",
       "      <td>0.000000</td>\n",
       "      <td>0.000190</td>\n",
       "      <td>0.000095</td>\n",
       "      <td>0.000285</td>\n",
       "      <td>0.000000</td>\n",
       "      <td>...</td>\n",
       "      <td>0.000000</td>\n",
       "      <td>0.00000</td>\n",
       "      <td>0.00000</td>\n",
       "      <td>0.711299</td>\n",
       "      <td>0.021667</td>\n",
       "      <td>0.048655</td>\n",
       "      <td>0.198137</td>\n",
       "      <td>0.000000</td>\n",
       "      <td>0.020241</td>\n",
       "      <td>0.000000</td>\n",
       "    </tr>\n",
       "  </tbody>\n",
       "</table>\n",
       "<p>2 rows × 7269 columns</p>\n",
       "</div>"
      ],
      "text/plain": [
       "         Quantity  UnitPrice    CustomerID  StockCode_10002  StockCode_10120  \\\n",
       "cluster                                                                        \n",
       "0        9.787596   2.069057  12596.862331         0.000435          0.00004   \n",
       "1        9.399474   2.183749  14723.087428         0.000095          0.00000   \n",
       "\n",
       "         StockCode_10125  StockCode_10133  StockCode_10135  StockCode_11001  \\\n",
       "cluster                                                                       \n",
       "0               0.000514         0.000079         0.000079         0.000198   \n",
       "1               0.000000         0.000190         0.000095         0.000285   \n",
       "\n",
       "         StockCode_15034  ...  InvoiceDate_9/9/2011 8:48  \\\n",
       "cluster                   ...                              \n",
       "0               0.000079  ...                   0.000633   \n",
       "1               0.000000  ...                   0.000000   \n",
       "\n",
       "         InvoiceDate_9/9/2011 9:13  Country_Belgium  Country_EIRE  \\\n",
       "cluster                                                             \n",
       "0                          0.00178          0.08185      0.000000   \n",
       "1                          0.00000          0.00000      0.711299   \n",
       "\n",
       "         Country_France  Country_Germany  Country_Netherlands  \\\n",
       "cluster                                                         \n",
       "0              0.326885         0.355368             0.011314   \n",
       "1              0.021667         0.048655             0.198137   \n",
       "\n",
       "         Country_Portugal  Country_Spain  Country_Switzerland  \n",
       "cluster                                                        \n",
       "0                0.058549       0.091779             0.074254  \n",
       "1                0.000000       0.020241             0.000000  \n",
       "\n",
       "[2 rows x 7269 columns]"
      ]
     },
     "execution_count": 18,
     "metadata": {},
     "output_type": "execute_result"
    }
   ],
   "source": [
    "# 최적의 k로 Kmeans 군집화 실행\n",
    "from sklearn.cluster import KMeans\n",
    "km = KMeans(n_clusters=2, random_state=2023)\n",
    "km.fit(df02)\n",
    "\n",
    "# 할당된 군집을 iris 데이터에 추가\n",
    "new_labels = km.labels_\n",
    "df02['cluster'] = new_labels\n",
    "\n",
    "df02.groupby(['cluster']).mean()"
   ]
  },
  {
   "cell_type": "code",
   "execution_count": 19,
   "id": "a894cc76",
   "metadata": {},
   "outputs": [
    {
     "data": {
      "text/plain": [
       "0    25278\n",
       "1    10523\n",
       "Name: cluster, dtype: int64"
      ]
     },
     "execution_count": 19,
     "metadata": {},
     "output_type": "execute_result"
    }
   ],
   "source": [
    "df02['cluster'].value_counts()"
   ]
  },
  {
   "cell_type": "code",
   "execution_count": null,
   "id": "957aa276",
   "metadata": {},
   "outputs": [],
   "source": [
    "# cluster1은 25278건으로 전체의 70%를 차지하고 Country가 Belgium, Portugal, Switzerland면 모두 cluster1임\n",
    "# cluster2은 10523건으로 전체의 30%를 차지하고 Country가 EIRE면 모두 cluster1임"
   ]
  },
  {
   "cell_type": "code",
   "execution_count": 29,
   "id": "a0882ba3",
   "metadata": {},
   "outputs": [],
   "source": [
    "# 2.2 각 군집 별 대표 추천 상품을 도출할 것\n",
    "df03 = df02.groupby(['cluster']).mean()"
   ]
  },
  {
   "cell_type": "code",
   "execution_count": 53,
   "id": "e5b768cf",
   "metadata": {},
   "outputs": [],
   "source": [
    "df04 = df03.iloc[:, 2700:5400]"
   ]
  },
  {
   "cell_type": "code",
   "execution_count": 57,
   "id": "0b656fc8",
   "metadata": {},
   "outputs": [],
   "source": [
    "df05 = df04.T"
   ]
  },
  {
   "cell_type": "code",
   "execution_count": 67,
   "id": "be1701c1",
   "metadata": {},
   "outputs": [
    {
     "data": {
      "text/html": [
       "<div>\n",
       "<style scoped>\n",
       "    .dataframe tbody tr th:only-of-type {\n",
       "        vertical-align: middle;\n",
       "    }\n",
       "\n",
       "    .dataframe tbody tr th {\n",
       "        vertical-align: top;\n",
       "    }\n",
       "\n",
       "    .dataframe thead th {\n",
       "        text-align: right;\n",
       "    }\n",
       "</style>\n",
       "<table border=\"1\" class=\"dataframe\">\n",
       "  <thead>\n",
       "    <tr style=\"text-align: right;\">\n",
       "      <th>cluster</th>\n",
       "      <th>0</th>\n",
       "      <th>1</th>\n",
       "    </tr>\n",
       "  </thead>\n",
       "  <tbody>\n",
       "    <tr>\n",
       "      <th>Description_POSTAGE</th>\n",
       "      <td>0.036395</td>\n",
       "      <td>0.003421</td>\n",
       "    </tr>\n",
       "  </tbody>\n",
       "</table>\n",
       "</div>"
      ],
      "text/plain": [
       "cluster                     0         1\n",
       "Description_POSTAGE  0.036395  0.003421"
      ]
     },
     "execution_count": 67,
     "metadata": {},
     "output_type": "execute_result"
    }
   ],
   "source": [
    "df05[df05[0] > 0.01]\n",
    "# cluster 1 Description_POSTAGE 추천"
   ]
  },
  {
   "cell_type": "code",
   "execution_count": 70,
   "id": "ac888983",
   "metadata": {},
   "outputs": [
    {
     "data": {
      "text/html": [
       "<div>\n",
       "<style scoped>\n",
       "    .dataframe tbody tr th:only-of-type {\n",
       "        vertical-align: middle;\n",
       "    }\n",
       "\n",
       "    .dataframe tbody tr th {\n",
       "        vertical-align: top;\n",
       "    }\n",
       "\n",
       "    .dataframe thead th {\n",
       "        text-align: right;\n",
       "    }\n",
       "</style>\n",
       "<table border=\"1\" class=\"dataframe\">\n",
       "  <thead>\n",
       "    <tr style=\"text-align: right;\">\n",
       "      <th>cluster</th>\n",
       "      <th>0</th>\n",
       "      <th>1</th>\n",
       "    </tr>\n",
       "  </thead>\n",
       "  <tbody>\n",
       "    <tr>\n",
       "      <th>Description_CARRIAGE</th>\n",
       "      <td>0.000079</td>\n",
       "      <td>0.009408</td>\n",
       "    </tr>\n",
       "    <tr>\n",
       "      <th>Description_REGENCY CAKESTAND 3 TIER</th>\n",
       "      <td>0.007675</td>\n",
       "      <td>0.007412</td>\n",
       "    </tr>\n",
       "    <tr>\n",
       "      <th>Description_ROSES REGENCY TEACUP AND SAUCER</th>\n",
       "      <td>0.001385</td>\n",
       "      <td>0.005132</td>\n",
       "    </tr>\n",
       "  </tbody>\n",
       "</table>\n",
       "</div>"
      ],
      "text/plain": [
       "cluster                                              0         1\n",
       "Description_CARRIAGE                          0.000079  0.009408\n",
       "Description_REGENCY CAKESTAND 3 TIER          0.007675  0.007412\n",
       "Description_ROSES REGENCY TEACUP AND SAUCER   0.001385  0.005132"
      ]
     },
     "execution_count": 70,
     "metadata": {},
     "output_type": "execute_result"
    }
   ],
   "source": [
    "df05[df05[1] > 0.005]\n",
    "# cluster 2 Description_CARRIAGE 추천"
   ]
  },
  {
   "cell_type": "code",
   "execution_count": null,
   "id": "b4582f8d",
   "metadata": {},
   "outputs": [],
   "source": [
    "# 2.3 CustomerID가 12413인 고객을 대상으로 상품을 추천할 것\n",
    "df[df['CustomerID'] == 12413]"
   ]
  },
  {
   "cell_type": "code",
   "execution_count": 78,
   "id": "26290817",
   "metadata": {},
   "outputs": [
    {
     "data": {
      "text/plain": [
       "91       0\n",
       "567      0\n",
       "749      0\n",
       "1683     0\n",
       "2349     0\n",
       "3749     0\n",
       "4000     0\n",
       "4613     0\n",
       "4654     0\n",
       "4965     0\n",
       "5075     0\n",
       "9891     0\n",
       "10439    0\n",
       "11719    0\n",
       "11874    0\n",
       "12544    0\n",
       "13209    0\n",
       "13317    0\n",
       "14179    0\n",
       "14332    0\n",
       "14364    0\n",
       "15529    0\n",
       "18212    0\n",
       "19659    0\n",
       "20991    0\n",
       "21365    0\n",
       "22014    0\n",
       "22043    0\n",
       "22174    0\n",
       "24252    0\n",
       "24959    0\n",
       "29948    0\n",
       "30228    0\n",
       "31239    0\n",
       "31846    0\n",
       "32338    0\n",
       "33567    0\n",
       "34382    0\n",
       "35069    0\n",
       "35156    0\n",
       "Name: cluster, dtype: int32"
      ]
     },
     "execution_count": 78,
     "metadata": {},
     "output_type": "execute_result"
    }
   ],
   "source": [
    "df02[df02['CustomerID'] == 12413]['cluster']"
   ]
  },
  {
   "cell_type": "code",
   "execution_count": null,
   "id": "2e1b3fd7",
   "metadata": {},
   "outputs": [],
   "source": []
  },
  {
   "cell_type": "code",
   "execution_count": null,
   "id": "848653d2",
   "metadata": {},
   "outputs": [],
   "source": []
  },
  {
   "cell_type": "code",
   "execution_count": null,
   "id": "c61e27da",
   "metadata": {},
   "outputs": [],
   "source": []
  },
  {
   "cell_type": "code",
   "execution_count": null,
   "id": "168105d0",
   "metadata": {},
   "outputs": [],
   "source": []
  }
 ],
 "metadata": {
  "kernelspec": {
   "display_name": "Python 3",
   "language": "python",
   "name": "python3"
  },
  "language_info": {
   "codemirror_mode": {
    "name": "ipython",
    "version": 3
   },
   "file_extension": ".py",
   "mimetype": "text/x-python",
   "name": "python",
   "nbconvert_exporter": "python",
   "pygments_lexer": "ipython3",
   "version": "3.7.9"
  },
  "vscode": {
   "interpreter": {
    "hash": "5aa634c14859627405404137fecabd2d911e45a844039ce454abb52cf9f696dc"
   }
  }
 },
 "nbformat": 4,
 "nbformat_minor": 5
}
