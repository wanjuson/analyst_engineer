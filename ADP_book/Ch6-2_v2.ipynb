{
 "cells": [
  {
   "cell_type": "markdown",
   "metadata": {},
   "source": [
    "## 제6장. 머신러닝\n",
    "## 제2절. 다항 회귀"
   ]
  },
  {
   "cell_type": "markdown",
   "metadata": {},
   "source": [
    "### 1. scikit-learn의 PolynomialFeatures\n",
    "* 코드 실습1"
   ]
  },
  {
   "cell_type": "code",
   "execution_count": 24,
   "metadata": {},
   "outputs": [
    {
     "name": "stdout",
     "output_type": "stream",
     "text": [
      "<class 'pandas.core.frame.DataFrame'>\n",
      "RangeIndex: 77 entries, 0 to 76\n",
      "Data columns (total 16 columns):\n",
      " #   Column    Non-Null Count  Dtype  \n",
      "---  ------    --------------  -----  \n",
      " 0   name      77 non-null     object \n",
      " 1   mfr       77 non-null     object \n",
      " 2   type      77 non-null     object \n",
      " 3   calories  77 non-null     int64  \n",
      " 4   protein   77 non-null     int64  \n",
      " 5   fat       77 non-null     int64  \n",
      " 6   sodium    77 non-null     int64  \n",
      " 7   fiber     77 non-null     float64\n",
      " 8   carbo     77 non-null     float64\n",
      " 9   sugars    77 non-null     int64  \n",
      " 10  potass    77 non-null     int64  \n",
      " 11  vitamins  77 non-null     int64  \n",
      " 12  shelf     77 non-null     int64  \n",
      " 13  weight    77 non-null     float64\n",
      " 14  cups      77 non-null     float64\n",
      " 15  rating    77 non-null     float64\n",
      "dtypes: float64(5), int64(8), object(3)\n",
      "memory usage: 9.8+ KB\n"
     ]
    }
   ],
   "source": [
    "import pandas as pd\n",
    "cereal = pd.read_csv('C:/adp/data/cereal.csv')\n",
    "cereal.info()"
   ]
  },
  {
   "cell_type": "code",
   "execution_count": 25,
   "metadata": {},
   "outputs": [
    {
     "data": {
      "text/html": [
       "<div>\n",
       "<style scoped>\n",
       "    .dataframe tbody tr th:only-of-type {\n",
       "        vertical-align: middle;\n",
       "    }\n",
       "\n",
       "    .dataframe tbody tr th {\n",
       "        vertical-align: top;\n",
       "    }\n",
       "\n",
       "    .dataframe thead th {\n",
       "        text-align: right;\n",
       "    }\n",
       "</style>\n",
       "<table border=\"1\" class=\"dataframe\">\n",
       "  <thead>\n",
       "    <tr style=\"text-align: right;\">\n",
       "      <th></th>\n",
       "      <th>calories</th>\n",
       "      <th>protein</th>\n",
       "      <th>fat</th>\n",
       "      <th>sodium</th>\n",
       "      <th>fiber</th>\n",
       "      <th>carbo</th>\n",
       "      <th>sugars</th>\n",
       "      <th>potass</th>\n",
       "      <th>vitamins</th>\n",
       "      <th>shelf</th>\n",
       "      <th>weight</th>\n",
       "      <th>cups</th>\n",
       "      <th>rating</th>\n",
       "    </tr>\n",
       "  </thead>\n",
       "  <tbody>\n",
       "    <tr>\n",
       "      <th>0</th>\n",
       "      <td>70</td>\n",
       "      <td>4</td>\n",
       "      <td>1</td>\n",
       "      <td>130</td>\n",
       "      <td>10.0</td>\n",
       "      <td>5.0</td>\n",
       "      <td>6</td>\n",
       "      <td>280</td>\n",
       "      <td>25</td>\n",
       "      <td>3</td>\n",
       "      <td>1.0</td>\n",
       "      <td>0.33</td>\n",
       "      <td>68.402973</td>\n",
       "    </tr>\n",
       "    <tr>\n",
       "      <th>1</th>\n",
       "      <td>120</td>\n",
       "      <td>3</td>\n",
       "      <td>5</td>\n",
       "      <td>15</td>\n",
       "      <td>2.0</td>\n",
       "      <td>8.0</td>\n",
       "      <td>8</td>\n",
       "      <td>135</td>\n",
       "      <td>0</td>\n",
       "      <td>3</td>\n",
       "      <td>1.0</td>\n",
       "      <td>1.00</td>\n",
       "      <td>33.983679</td>\n",
       "    </tr>\n",
       "    <tr>\n",
       "      <th>2</th>\n",
       "      <td>70</td>\n",
       "      <td>4</td>\n",
       "      <td>1</td>\n",
       "      <td>260</td>\n",
       "      <td>9.0</td>\n",
       "      <td>7.0</td>\n",
       "      <td>5</td>\n",
       "      <td>320</td>\n",
       "      <td>25</td>\n",
       "      <td>3</td>\n",
       "      <td>1.0</td>\n",
       "      <td>0.33</td>\n",
       "      <td>59.425505</td>\n",
       "    </tr>\n",
       "    <tr>\n",
       "      <th>3</th>\n",
       "      <td>50</td>\n",
       "      <td>4</td>\n",
       "      <td>0</td>\n",
       "      <td>140</td>\n",
       "      <td>14.0</td>\n",
       "      <td>8.0</td>\n",
       "      <td>0</td>\n",
       "      <td>330</td>\n",
       "      <td>25</td>\n",
       "      <td>3</td>\n",
       "      <td>1.0</td>\n",
       "      <td>0.50</td>\n",
       "      <td>93.704912</td>\n",
       "    </tr>\n",
       "    <tr>\n",
       "      <th>4</th>\n",
       "      <td>110</td>\n",
       "      <td>2</td>\n",
       "      <td>2</td>\n",
       "      <td>200</td>\n",
       "      <td>1.0</td>\n",
       "      <td>14.0</td>\n",
       "      <td>8</td>\n",
       "      <td>-1</td>\n",
       "      <td>25</td>\n",
       "      <td>3</td>\n",
       "      <td>1.0</td>\n",
       "      <td>0.75</td>\n",
       "      <td>34.384843</td>\n",
       "    </tr>\n",
       "  </tbody>\n",
       "</table>\n",
       "</div>"
      ],
      "text/plain": [
       "   calories  protein  fat  sodium  fiber  carbo  sugars  potass  vitamins  \\\n",
       "0        70        4    1     130   10.0    5.0       6     280        25   \n",
       "1       120        3    5      15    2.0    8.0       8     135         0   \n",
       "2        70        4    1     260    9.0    7.0       5     320        25   \n",
       "3        50        4    0     140   14.0    8.0       0     330        25   \n",
       "4       110        2    2     200    1.0   14.0       8      -1        25   \n",
       "\n",
       "   shelf  weight  cups     rating  \n",
       "0      3     1.0  0.33  68.402973  \n",
       "1      3     1.0  1.00  33.983679  \n",
       "2      3     1.0  0.33  59.425505  \n",
       "3      3     1.0  0.50  93.704912  \n",
       "4      3     1.0  0.75  34.384843  "
      ]
     },
     "execution_count": 25,
     "metadata": {},
     "output_type": "execute_result"
    }
   ],
   "source": [
    "cereal = cereal[cereal.columns[3:]]\n",
    "cereal =cereal[cereal.sugars >=0]\n",
    "cereal.head()"
   ]
  },
  {
   "cell_type": "code",
   "execution_count": 26,
   "metadata": {},
   "outputs": [
    {
     "name": "stderr",
     "output_type": "stream",
     "text": [
      "C:\\Users\\신주현\\AppData\\Roaming\\Python\\Python37\\site-packages\\pandas\\util\\_decorators.py:311: SettingWithCopyWarning: \n",
      "A value is trying to be set on a copy of a slice from a DataFrame\n",
      "\n",
      "See the caveats in the documentation: https://pandas.pydata.org/pandas-docs/stable/user_guide/indexing.html#returning-a-view-versus-a-copy\n",
      "  return func(*args, **kwargs)\n"
     ]
    },
    {
     "data": {
      "text/plain": [
       "<function matplotlib.pyplot.show(close=None, block=None)>"
      ]
     },
     "execution_count": 26,
     "metadata": {},
     "output_type": "execute_result"
    },
    {
     "data": {
      "image/png": "[encoded data removed]",
      "text/plain": [
       "<Figure size 640x480 with 1 Axes>"
      ]
     },
     "metadata": {},
     "output_type": "display_data"
    }
   ],
   "source": [
    "import matplotlib.pyplot as plt\n",
    "cereal2 = cereal[['sugars', 'rating']]\n",
    "cereal2.sort_values(by=['sugars'], inplace =True)\n",
    "cereal2.reset_index(drop=True, inplace =True)\n",
    "x=cereal2['sugars'].values\n",
    "y=cereal2['rating'].values\n",
    "plt.scatter(x,y)\n",
    "plt.show"
   ]
  },
  {
   "cell_type": "code",
   "execution_count": 27,
   "metadata": {},
   "outputs": [
    {
     "name": "stdout",
     "output_type": "stream",
     "text": [
      "(53,) (23,)\n",
      "(53,) (23,)\n"
     ]
    }
   ],
   "source": [
    "from sklearn.model_selection import train_test_split\n",
    "X_train, X_test, y_train, y_test = train_test_split(x, y, test_size =0.3, random_state = 2023)\n",
    "print(X_train.shape, X_test.shape)\n",
    "print(y_train.shape, y_test.shape)"
   ]
  },
  {
   "cell_type": "code",
   "execution_count": 28,
   "metadata": {},
   "outputs": [
    {
     "data": {
      "text/plain": [
       "LinearRegression()"
      ]
     },
     "execution_count": 28,
     "metadata": {},
     "output_type": "execute_result"
    }
   ],
   "source": [
    "from sklearn.preprocessing import PolynomialFeatures\n",
    "poly_reg=PolynomialFeatures(degree=2)\n",
    "X_poly=poly_reg.fit_transform(X_train.reshape(-1,1))\n",
    "\n",
    "from sklearn.linear_model import LinearRegression\n",
    "reg = LinearRegression()\n",
    "reg.fit(X_poly, y_train)"
   ]
  },
  {
   "cell_type": "code",
   "execution_count": 29,
   "metadata": {},
   "outputs": [
    {
     "name": "stdout",
     "output_type": "stream",
     "text": [
      "[[42.66 36.52]\n",
      " [68.67 64.53]\n",
      " [53.97 41.5 ]\n",
      " [42.66 40.11]\n",
      " [53.97 41.45]\n",
      " [53.97 38.84]\n",
      " [68.67 63.01]\n",
      " [29.   33.17]\n",
      " [39.64 58.35]\n",
      " [68.67 68.24]\n",
      " [58.5  45.86]\n",
      " [30.16 26.73]\n",
      " [30.16 27.75]\n",
      " [42.66 49.51]\n",
      " [53.97 39.24]\n",
      " [30.16 41.02]\n",
      " [30.16 35.78]\n",
      " [30.16 39.26]\n",
      " [36.99 37.04]\n",
      " [46.05 44.33]\n",
      " [30.16 28.03]\n",
      " [58.5  59.64]\n",
      " [36.99 34.38]]\n"
     ]
    }
   ],
   "source": [
    "import numpy as np\n",
    "X_test_poly=poly_reg.transform(X_test.reshape(-1,1))\n",
    "pred=reg.predict(X_test_poly)\n",
    "\n",
    "np.set_printoptions(precision=2) # 소수점 둘째자리까지 표현\n",
    "print(np.concatenate((pred.reshape(len(pred),1), y_test.reshape(len(y_test),1)),1))"
   ]
  },
  {
   "cell_type": "code",
   "execution_count": 30,
   "metadata": {},
   "outputs": [
    {
     "name": "stdout",
     "output_type": "stream",
     "text": [
      "MSE\t73.536\n",
      "MAE\t6.748\n",
      "RMSE\t8.575\n",
      "ACC\t46.28%\n"
     ]
    }
   ],
   "source": [
    "from sklearn.metrics import mean_squared_error, mean_absolute_error, mean_squared_error\n",
    "mse = mean_squared_error(y_test, pred)\n",
    "mae = mean_absolute_error(y_test, pred)\n",
    "rmse = np.sqrt(mse)\n",
    "acc = reg.score(poly_reg.transform(X_test.reshape(-1,1)), y_test)\n",
    "print('MSE\\t{}'.format(round(mse,3)))\n",
    "print('MAE\\t{}'.format(round(mae,3)))\n",
    "print('RMSE\\t{}'.format(round(rmse,3)))\n",
    "print('ACC\\t{}%'.format(round(acc *100,3)))"
   ]
  },
  {
   "cell_type": "code",
   "execution_count": 31,
   "metadata": {},
   "outputs": [
    {
     "data": {
      "image/png": "[encoded data removed]",
      "text/plain": [
       "<Figure size 640x480 with 1 Axes>"
      ]
     },
     "metadata": {},
     "output_type": "display_data"
    }
   ],
   "source": [
    "X_new=np.linspace(0,15,100).reshape(100,1)\n",
    "X_new_poly=poly_reg.transform(X_new)\n",
    "y_new = reg.predict(X_new_poly)\n",
    "\n",
    "plt.plot(x,y, 'o', label ='Actual')\n",
    "plt.plot(X_new, y_new, 'r-', label ='Prediction')\n",
    "plt.legend(loc='upper right')\n",
    "plt.xlabel('$Sugars_1$')\n",
    "plt.ylabel('$Rating$')\n",
    "plt.show()"
   ]
  },
  {
   "cell_type": "code",
   "execution_count": 40,
   "metadata": {},
   "outputs": [
    {
     "data": {
      "text/plain": [
       "array([[ 0.  ],\n",
       "       [ 0.15],\n",
       "       [ 0.3 ],\n",
       "       [ 0.45],\n",
       "       [ 0.61],\n",
       "       [ 0.76],\n",
       "       [ 0.91],\n",
       "       [ 1.06],\n",
       "       [ 1.21],\n",
       "       [ 1.36],\n",
       "       [ 1.52],\n",
       "       [ 1.67],\n",
       "       [ 1.82],\n",
       "       [ 1.97],\n",
       "       [ 2.12],\n",
       "       [ 2.27],\n",
       "       [ 2.42],\n",
       "       [ 2.58],\n",
       "       [ 2.73],\n",
       "       [ 2.88],\n",
       "       [ 3.03],\n",
       "       [ 3.18],\n",
       "       [ 3.33],\n",
       "       [ 3.48],\n",
       "       [ 3.64],\n",
       "       [ 3.79],\n",
       "       [ 3.94],\n",
       "       [ 4.09],\n",
       "       [ 4.24],\n",
       "       [ 4.39],\n",
       "       [ 4.55],\n",
       "       [ 4.7 ],\n",
       "       [ 4.85],\n",
       "       [ 5.  ],\n",
       "       [ 5.15],\n",
       "       [ 5.3 ],\n",
       "       [ 5.45],\n",
       "       [ 5.61],\n",
       "       [ 5.76],\n",
       "       [ 5.91],\n",
       "       [ 6.06],\n",
       "       [ 6.21],\n",
       "       [ 6.36],\n",
       "       [ 6.52],\n",
       "       [ 6.67],\n",
       "       [ 6.82],\n",
       "       [ 6.97],\n",
       "       [ 7.12],\n",
       "       [ 7.27],\n",
       "       [ 7.42],\n",
       "       [ 7.58],\n",
       "       [ 7.73],\n",
       "       [ 7.88],\n",
       "       [ 8.03],\n",
       "       [ 8.18],\n",
       "       [ 8.33],\n",
       "       [ 8.48],\n",
       "       [ 8.64],\n",
       "       [ 8.79],\n",
       "       [ 8.94],\n",
       "       [ 9.09],\n",
       "       [ 9.24],\n",
       "       [ 9.39],\n",
       "       [ 9.55],\n",
       "       [ 9.7 ],\n",
       "       [ 9.85],\n",
       "       [10.  ],\n",
       "       [10.15],\n",
       "       [10.3 ],\n",
       "       [10.45],\n",
       "       [10.61],\n",
       "       [10.76],\n",
       "       [10.91],\n",
       "       [11.06],\n",
       "       [11.21],\n",
       "       [11.36],\n",
       "       [11.52],\n",
       "       [11.67],\n",
       "       [11.82],\n",
       "       [11.97],\n",
       "       [12.12],\n",
       "       [12.27],\n",
       "       [12.42],\n",
       "       [12.58],\n",
       "       [12.73],\n",
       "       [12.88],\n",
       "       [13.03],\n",
       "       [13.18],\n",
       "       [13.33],\n",
       "       [13.48],\n",
       "       [13.64],\n",
       "       [13.79],\n",
       "       [13.94],\n",
       "       [14.09],\n",
       "       [14.24],\n",
       "       [14.39],\n",
       "       [14.55],\n",
       "       [14.7 ],\n",
       "       [14.85],\n",
       "       [15.  ]])"
      ]
     },
     "execution_count": 40,
     "metadata": {},
     "output_type": "execute_result"
    }
   ],
   "source": [
    "X_new"
   ]
  },
  {
   "attachments": {},
   "cell_type": "markdown",
   "metadata": {},
   "source": [
    "* 코드 실습2 : 고차 다항 회귀분석"
   ]
  },
  {
   "cell_type": "code",
   "execution_count": 35,
   "metadata": {},
   "outputs": [
    {
     "name": "stdout",
     "output_type": "stream",
     "text": [
      "(53, 12) (23, 12) (53,) (23,)\n"
     ]
    }
   ],
   "source": [
    "X = cereal.iloc[:,:-1].values\n",
    "y = cereal.iloc[:,-1].values\n",
    "\n",
    "from sklearn.model_selection import train_test_split\n",
    "X_train, X_test, y_train, y_test = train_test_split(X, y, test_size =0.3, random_state = 2023)\n",
    "print (X_train.shape, X_test.shape, y_train.shape, y_test.shape)"
   ]
  },
  {
   "cell_type": "code",
   "execution_count": 36,
   "metadata": {},
   "outputs": [
    {
     "data": {
      "text/plain": [
       "LinearRegression()"
      ]
     },
     "execution_count": 36,
     "metadata": {},
     "output_type": "execute_result"
    }
   ],
   "source": [
    "from sklearn.preprocessing import StandardScaler\n",
    "sc = StandardScaler()\n",
    "X_train = sc.fit_transform(X_train) \n",
    "X_test = sc.transform(X_test)\n",
    "\n",
    "from sklearn.preprocessing import PolynomialFeatures\n",
    "poly_reg = PolynomialFeatures(degree=2)\n",
    "\n",
    "from sklearn.linear_model import LinearRegression\n",
    "X_poly = poly_reg.fit_transform(X_train)\n",
    "reg = LinearRegression()\n",
    "reg.fit(X_poly, y_train)"
   ]
  },
  {
   "cell_type": "code",
   "execution_count": 37,
   "metadata": {},
   "outputs": [
    {
     "name": "stdout",
     "output_type": "stream",
     "text": [
      "MSE\t10.171\n",
      "MAE\t1.869\n",
      "RMSE\t3.189\n",
      "ACC\t96.141%\n"
     ]
    }
   ],
   "source": [
    "import numpy as np\n",
    "X_test_poly = poly_reg.transform(X_test)\n",
    "pred = reg.predict(X_test_poly)\n",
    "\n",
    "from sklearn.metrics import mean_squared_error, mean_absolute_error, mean_squared_error\n",
    "mse = mean_squared_error(y_test, pred)\n",
    "mae = mean_absolute_error(y_test, pred)\n",
    "rmse = np.sqrt(mse)\n",
    "acc = reg.score(poly_reg.transform(X_test), y_test)\n",
    "print('MSE\\t{}'.format(round(mse,3)))\n",
    "print('MAE\\t{}'.format(round(mae,3)))\n",
    "print('RMSE\\t{}'.format(round(rmse,3)))\n",
    "print('ACC\\t{}%'.format(round(acc *100,3)))"
   ]
  },
  {
   "cell_type": "code",
   "execution_count": 41,
   "metadata": {},
   "outputs": [
    {
     "data": {
      "image/png": "[encoded data removed]",
      "text/plain": [
       "<Figure size 640x480 with 1 Axes>"
      ]
     },
     "metadata": {},
     "output_type": "display_data"
    }
   ],
   "source": [
    "# 안됨 ㅠㅠ\n",
    "# # X_new=np.linspace(0,15,100).reshape(100,1)\n",
    "# # X_new_poly=poly_reg.transform(X_new)\n",
    "# # y_new = reg.predict(X_new_poly)\n",
    "\n",
    "# plt.plot(x,y, 'o', label ='Actual')\n",
    "# plt.plot(X_test, pred, 'r-', label ='Prediction')\n",
    "# plt.legend(loc='upper right')\n",
    "# plt.xlabel('$Sugars_1$')\n",
    "# plt.ylabel('$Rating$')\n",
    "# plt.show()"
   ]
  },
  {
   "cell_type": "code",
   "execution_count": 39,
   "metadata": {},
   "outputs": [
    {
     "data": {
      "text/plain": [
       "array([[ 0.  ],\n",
       "       [ 0.15],\n",
       "       [ 0.3 ],\n",
       "       [ 0.45],\n",
       "       [ 0.61],\n",
       "       [ 0.76],\n",
       "       [ 0.91],\n",
       "       [ 1.06],\n",
       "       [ 1.21],\n",
       "       [ 1.36],\n",
       "       [ 1.52],\n",
       "       [ 1.67],\n",
       "       [ 1.82],\n",
       "       [ 1.97],\n",
       "       [ 2.12],\n",
       "       [ 2.27],\n",
       "       [ 2.42],\n",
       "       [ 2.58],\n",
       "       [ 2.73],\n",
       "       [ 2.88],\n",
       "       [ 3.03],\n",
       "       [ 3.18],\n",
       "       [ 3.33],\n",
       "       [ 3.48],\n",
       "       [ 3.64],\n",
       "       [ 3.79],\n",
       "       [ 3.94],\n",
       "       [ 4.09],\n",
       "       [ 4.24],\n",
       "       [ 4.39],\n",
       "       [ 4.55],\n",
       "       [ 4.7 ],\n",
       "       [ 4.85],\n",
       "       [ 5.  ],\n",
       "       [ 5.15],\n",
       "       [ 5.3 ],\n",
       "       [ 5.45],\n",
       "       [ 5.61],\n",
       "       [ 5.76],\n",
       "       [ 5.91],\n",
       "       [ 6.06],\n",
       "       [ 6.21],\n",
       "       [ 6.36],\n",
       "       [ 6.52],\n",
       "       [ 6.67],\n",
       "       [ 6.82],\n",
       "       [ 6.97],\n",
       "       [ 7.12],\n",
       "       [ 7.27],\n",
       "       [ 7.42],\n",
       "       [ 7.58],\n",
       "       [ 7.73],\n",
       "       [ 7.88],\n",
       "       [ 8.03],\n",
       "       [ 8.18],\n",
       "       [ 8.33],\n",
       "       [ 8.48],\n",
       "       [ 8.64],\n",
       "       [ 8.79],\n",
       "       [ 8.94],\n",
       "       [ 9.09],\n",
       "       [ 9.24],\n",
       "       [ 9.39],\n",
       "       [ 9.55],\n",
       "       [ 9.7 ],\n",
       "       [ 9.85],\n",
       "       [10.  ],\n",
       "       [10.15],\n",
       "       [10.3 ],\n",
       "       [10.45],\n",
       "       [10.61],\n",
       "       [10.76],\n",
       "       [10.91],\n",
       "       [11.06],\n",
       "       [11.21],\n",
       "       [11.36],\n",
       "       [11.52],\n",
       "       [11.67],\n",
       "       [11.82],\n",
       "       [11.97],\n",
       "       [12.12],\n",
       "       [12.27],\n",
       "       [12.42],\n",
       "       [12.58],\n",
       "       [12.73],\n",
       "       [12.88],\n",
       "       [13.03],\n",
       "       [13.18],\n",
       "       [13.33],\n",
       "       [13.48],\n",
       "       [13.64],\n",
       "       [13.79],\n",
       "       [13.94],\n",
       "       [14.09],\n",
       "       [14.24],\n",
       "       [14.39],\n",
       "       [14.55],\n",
       "       [14.7 ],\n",
       "       [14.85],\n",
       "       [15.  ]])"
      ]
     },
     "execution_count": 39,
     "metadata": {},
     "output_type": "execute_result"
    }
   ],
   "source": [
    "X_new"
   ]
  },
  {
   "cell_type": "code",
   "execution_count": null,
   "metadata": {},
   "outputs": [],
   "source": []
  }
 ],
 "metadata": {
  "kernelspec": {
   "display_name": "Python 3",
   "language": "python",
   "name": "python3"
  },
  "language_info": {
   "codemirror_mode": {
    "name": "ipython",
    "version": 3
   },
   "file_extension": ".py",
   "mimetype": "text/x-python",
   "name": "python",
   "nbconvert_exporter": "python",
   "pygments_lexer": "ipython3",
   "version": "3.7.9"
  },
  "vscode": {
   "interpreter": {
    "hash": "5aa634c14859627405404137fecabd2d911e45a844039ce454abb52cf9f696dc"
   }
  }
 },
 "nbformat": 4,
 "nbformat_minor": 4
}
