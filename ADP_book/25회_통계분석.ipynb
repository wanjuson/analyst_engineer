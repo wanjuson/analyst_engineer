{
 "cells": [
  {
   "cell_type": "markdown",
   "id": "749a3214",
   "metadata": {},
   "source": [
    "### 2. 통계분석 (50점)"
   ]
  },
  {
   "cell_type": "code",
   "execution_count": null,
   "id": "cacd3bf8",
   "metadata": {},
   "outputs": [],
   "source": [
    "# 문제 : https://www.datamanim.com/dataset/ADPpb/00/25.html\n",
    "# 풀이 : https://stherhj.tistory.com/191"
   ]
  },
  {
   "cell_type": "code",
   "execution_count": null,
   "id": "711ad498",
   "metadata": {},
   "outputs": [],
   "source": [
    "## 3번 통계문제\n",
    "## 3-1번 서울에서 영동까지 100km/h로 가고 영동에서 서울까지 80km/로 돌아왔을 때, 평균 속도는?\n",
    "# 조화평균 : 2AB/(A+B)\n",
    "# 3-2 연간 평균 생산량 : 매년1.x배곱**(1/n) ex) (1.1*1.2*1.3)**(1/3)\n",
    "# 1,2,3,4,5 \n",
    "# ((2/1) * (3/2) * (4/3) * (5/4))**(1/5)\n",
    "# 3-3 남성/여성, 수영/등산 인원을 2x2테이블로 보여준 뒤 남성 중 등산을 할 확률계산문제 \n",
    "# 남 수영 4, 남 등상 5 : 4/9 (존건부 확률) "
   ]
  },
  {
   "cell_type": "code",
   "execution_count": 42,
   "id": "c93ed45b",
   "metadata": {},
   "outputs": [
    {
     "name": "stdout",
     "output_type": "stream",
     "text": [
      "62.58409742094794 80.88256924571873\n"
     ]
    }
   ],
   "source": [
    "## 평균추정 https://sosoeasy.tistory.com/603\n",
    "# 1. 모 표준편차를 알 때 모평균 구간 추정(Z검정)\n",
    "import numpy as np\n",
    "import pandas as pd\n",
    "from scipy.stats import norm,sem\n",
    "\n",
    "xs = np.array([66, 78, 18, 96, 85, 63, 73, 83, 65, 80, 75, 56, 95, 77, 66])\n",
    "\n",
    "# 평균, 표준편차, 표본수\n",
    "sample_mean = np.mean(xs)\n",
    "sample_std = np.std(xs)\n",
    "size = len(xs)\n",
    "\n",
    "# z통계량\n",
    "z_95_left = norm(0, 1).ppf(0.025) # 누적 분포가 2.5인 x값\n",
    "z_95_right = norm(0, 1).ppf(0.975) # 누적 분포가 2.5인 x값\n",
    "\n",
    "L = sample_mean + z_95_left*(sample_std/np.sqrt(size))\n",
    "R = sample_mean + z_95_right*(sample_std/np.sqrt(size))\n",
    "print(L,R)"
   ]
  },
  {
   "cell_type": "code",
   "execution_count": 43,
   "id": "d73ca5f8",
   "metadata": {},
   "outputs": [
    {
     "name": "stdout",
     "output_type": "stream",
     "text": [
      "61.72133334543526 81.7453333212314\n"
     ]
    }
   ],
   "source": [
    "# 2. 모 표준편차를 모를 때 모평균 구간 추정(t검정)\n",
    "from scipy.stats import t\n",
    "\n",
    "# def var(data):\n",
    "#     sample_mean = data.mean()\n",
    "#     df=len(data)-1\n",
    "#     error_sum = 0\n",
    "#     for d in data:\n",
    "#         error_sum += (d-sample_mean)**2\n",
    "#     sample_var = error_sum/df\n",
    "#     return sample_var\n",
    "\n",
    "sample_mean = np.mean(xs)\n",
    "ample_std = np.std(xs)\n",
    "size = len(xs)\n",
    "# standard_error_of_mean = sample_std/np.sqrt(size)\n",
    "\n",
    "# t통계량\n",
    "t_95_right = t(size-1).ppf(0.975) # t(df).ppf(0.975) df = 자유도= 관측치 n- 제약 조건의 개수\n",
    "t_95_left = t(size-1).ppf(0.025)  # t(df).ppf(0.025)\n",
    "\n",
    "L = sample_mean + t_95_left*(sample_std/np.sqrt(size))\n",
    "R = sample_mean + t_95_right*(sample_std/np.sqrt(size))\n",
    "print(L,R)"
   ]
  },
  {
   "cell_type": "code",
   "execution_count": 46,
   "id": "ca6ab592",
   "metadata": {},
   "outputs": [
    {
     "name": "stdout",
     "output_type": "stream",
     "text": [
      "(871.0555894140166, 187.71557433626796)\n"
     ]
    }
   ],
   "source": [
    "# 3-4 분산이 90일 때 분산의 신뢰도 95%에서 신뢰구간을 구하시오\n",
    "from scipy import stats\n",
    "size = len(xs) \n",
    "s2 = xs.var(ddof=1)  # 표본분산: 350.209\n",
    "x_left = stats.chi2.ppf(0.025, df=size-1) # 5.629\n",
    "x_right = stats.chi2.ppf(0.975, df=size-1) # 26.119\n",
    "\n",
    "area = ((size - 1) * s2 / x_left, (size - 1) * s2 / x_right)\n",
    "print(area)\n",
    "# (871.0555894140166, 187.71557433626796)"
   ]
  },
  {
   "cell_type": "code",
   "execution_count": 47,
   "id": "7abc5cc5",
   "metadata": {},
   "outputs": [],
   "source": [
    "# 4번 임상 대상 20명에 대해 혈압약 투약 이전과 이후의 차이가 24, 표준편차 9  신뢰구간 95%, 차이가 존재하는지 확인하려한다\n",
    "# 4.1 귀무가설과 연구가설을 제시하시오\n",
    "# 귀무가설 : 혈압약 투약 이전과 이후 차이가 있다\n",
    "# 연구가설 : 혈압약 투약 이전과 이후 차이가 없다."
   ]
  },
  {
   "cell_type": "code",
   "execution_count": 20,
   "id": "7b20addb",
   "metadata": {},
   "outputs": [],
   "source": [
    "# 4.2 검정 후 귀무가설 기각 여부 제시\n",
    "import pandas as pd\n",
    "\n",
    "iris = pd.read_csv(\"C:/adp/data/iris.csv\")\n",
    "iris2 = iris[iris['target'] == 'Iris-virginica']['sepal length']\n",
    "iris3 = iris[iris['target'] == 'Iris-setosa']['sepal length']  # 24를 더해도 결과 똑같음"
   ]
  },
  {
   "cell_type": "code",
   "execution_count": 21,
   "id": "8b32a781",
   "metadata": {},
   "outputs": [
    {
     "name": "stdout",
     "output_type": "stream",
     "text": [
      "ShapiroResult(statistic=0.9711798429489136, pvalue=0.25832483172416687)\n",
      "ShapiroResult(statistic=0.9776989221572876, pvalue=0.4595281183719635)\n"
     ]
    }
   ],
   "source": [
    "# 정규성 검정\n",
    "import scipy.stats as stats\n",
    "from scipy.stats import shapiro\n",
    "print(shapiro(iris2))\n",
    "print(shapiro(iris3))\n",
    "# pvalue 0.05보다 크므로 정규성을 따름"
   ]
  },
  {
   "cell_type": "code",
   "execution_count": 25,
   "id": "5ba1b5cc",
   "metadata": {},
   "outputs": [
    {
     "data": {
      "text/plain": [
       "Ttest_relResult(statistic=16.344145683358008, pvalue=1.7893941922513546e-21)"
      ]
     },
     "execution_count": 25,
     "metadata": {},
     "output_type": "execute_result"
    }
   ],
   "source": [
    "# 대응표본 Ttest\n",
    "stats.ttest_rel(iris2, iris3, alternative='two-sided' )\n",
    "# pvalue 0.05보다 작아서 유의미한 차이가 있음"
   ]
  },
  {
   "cell_type": "code",
   "execution_count": 55,
   "id": "4b364337",
   "metadata": {},
   "outputs": [],
   "source": [
    "# 5번 공장 X,Y,Z의 평균 출하 소요시간을 여러 일자에 거쳐 측정한 데이터이다. 각 공장의 중위수의 차이가 존재하는지 확인하려 한다.\n",
    "# 5.1 귀무가설과 연구가설을 제시하시오\n",
    "# 귀무가설 : k개의 집단 간 모평균의 차이가 없다.\n",
    "# 대립가설 : k개의 집단간 모평균이 모두 같다고 할 수 없다."
   ]
  },
  {
   "cell_type": "code",
   "execution_count": 56,
   "id": "9c369648",
   "metadata": {},
   "outputs": [],
   "source": [
    "# 5.2 검정 후 귀무가설 기각 여부 제시\n",
    "import pandas as pd\n",
    "\n",
    "iris = pd.read_csv(\"C:/adp/data/iris.csv\")\n",
    "iris2 = iris[iris['target'] == 'Iris-virginica']['sepal length']\n",
    "iris3 = iris[iris['target'] == 'Iris-setosa']['sepal length']  # 24를 더해도 결과 똑같음\n",
    "iris4 = iris[iris['target'] == 'Iris-versicolor']['sepal length']  # 24를 더해도 결과 똑같음"
   ]
  },
  {
   "cell_type": "code",
   "execution_count": 58,
   "id": "86104498",
   "metadata": {},
   "outputs": [
    {
     "name": "stdout",
     "output_type": "stream",
     "text": [
      "ShapiroResult(statistic=0.9711798429489136, pvalue=0.25832483172416687)\n",
      "ShapiroResult(statistic=0.9776989221572876, pvalue=0.4595281183719635)\n",
      "ShapiroResult(statistic=0.9778355956077576, pvalue=0.46473264694213867)\n"
     ]
    }
   ],
   "source": [
    "# 정규성 검정\n",
    "import scipy.stats as stats\n",
    "from scipy.stats import shapiro\n",
    "print(shapiro(iris2))\n",
    "print(shapiro(iris3))\n",
    "print(shapiro(iris4))\n",
    "# pvalue 0.05보다 크므로 정규성을 따름"
   ]
  },
  {
   "cell_type": "code",
   "execution_count": 60,
   "id": "641efe3a",
   "metadata": {},
   "outputs": [
    {
     "data": {
      "text/plain": [
       "KruskalResult(statistic=96.93743600064833, pvalue=8.91873433246198e-22)"
      ]
     },
     "execution_count": 60,
     "metadata": {},
     "output_type": "execute_result"
    }
   ],
   "source": [
    "# 정규성을 따르지 않아서 kruskal 검증\n",
    "stats.kruskal(iris2, iris3, iris4)\n",
    "# pvalue 0.05보다 귀구가설 기각. 세가지 종의 평균은 차이가 잇음"
   ]
  },
  {
   "cell_type": "code",
   "execution_count": null,
   "id": "77eef45b",
   "metadata": {},
   "outputs": [],
   "source": [
    "# 어떤 종을간에 차이가 있는지 확인\n",
    "from statsmodels.stats.multicomp import pairwise_tukeyhsd\n",
    "from statsmodels.stats.multicomp import MultiComparison\n",
    "mc = MultiComparison(data = iris[\"sepal width\"], groups = iris[\"target\"])\n",
    "tuekeyhsd = mc.tukeyhsd(alpha = 0.5)\n",
    "# fig = tuekeyhsd.plot.simultaneous()"
   ]
  },
  {
   "cell_type": "code",
   "execution_count": 68,
   "id": "a5b683ab",
   "metadata": {},
   "outputs": [
    {
     "data": {
      "text/html": [
       "<table class=\"simpletable\">\n",
       "<caption>Multiple Comparison of Means - Tukey HSD, FWER=0.50</caption>\n",
       "<tr>\n",
       "      <th>group1</th>          <th>group2</th>      <th>meandiff</th> <th>p-adj</th>  <th>lower</th>   <th>upper</th>  <th>reject</th>\n",
       "</tr>\n",
       "<tr>\n",
       "    <td>Iris-setosa</td>   <td>Iris-versicolor</td>  <td>-0.648</td>   <td>0.0</td>  <td>-0.7246</td> <td>-0.5714</td>  <td>True</td> \n",
       "</tr>\n",
       "<tr>\n",
       "    <td>Iris-setosa</td>   <td>Iris-virginica</td>   <td>-0.444</td>   <td>0.0</td>  <td>-0.5206</td> <td>-0.3674</td>  <td>True</td> \n",
       "</tr>\n",
       "<tr>\n",
       "  <td>Iris-versicolor</td> <td>Iris-virginica</td>    <td>0.204</td>  <td>0.009</td> <td>0.1274</td>  <td>0.2806</td>   <td>True</td> \n",
       "</tr>\n",
       "</table>"
      ],
      "text/plain": [
       "<class 'statsmodels.iolib.table.SimpleTable'>"
      ]
     },
     "execution_count": 68,
     "metadata": {},
     "output_type": "execute_result"
    }
   ],
   "source": [
    "tuekeyhsd.summary()\n",
    "# p-adj\t가 0.05보다 작으므로 모두 차이가 존재함."
   ]
  },
  {
   "cell_type": "code",
   "execution_count": null,
   "id": "51b98509",
   "metadata": {},
   "outputs": [],
   "source": [
    "# 6번\n",
    "# 1개년 50억원, 2개년 60억원, 3개년 70억원의 예산을 가지고 NPV(순현재가치)가 가장 높아지는 안을 제시하시오"
   ]
  }
 ],
 "metadata": {
  "kernelspec": {
   "display_name": "Python 3",
   "language": "python",
   "name": "python3"
  },
  "language_info": {
   "codemirror_mode": {
    "name": "ipython",
    "version": 3
   },
   "file_extension": ".py",
   "mimetype": "text/x-python",
   "name": "python",
   "nbconvert_exporter": "python",
   "pygments_lexer": "ipython3",
   "version": "3.7.9"
  },
  "vscode": {
   "interpreter": {
    "hash": "5aa634c14859627405404137fecabd2d911e45a844039ce454abb52cf9f696dc"
   }
  }
 },
 "nbformat": 4,
 "nbformat_minor": 5
}
