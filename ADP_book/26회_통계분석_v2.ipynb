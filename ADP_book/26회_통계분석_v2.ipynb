{
 "cells": [
  {
   "cell_type": "code",
   "execution_count": null,
   "id": "fe14f247",
   "metadata": {},
   "outputs": [],
   "source": [
    "# 문제 : https://www.datamanim.com/dataset/ADPpb/00/26.html\n",
    "# 풀이 : https://amaruak00.github.io/2022/09/26/adp26th.html"
   ]
  },
  {
   "cell_type": "code",
   "execution_count": null,
   "id": "773caf51",
   "metadata": {},
   "outputs": [],
   "source": [
    "# Q3. 철강제품의 불량률을 조사하고자 한다. 이 때, 불량률의 90%, 추정오차한계가 5% 이내가 되기 위하여 적절한 표본의 크기 중 최소값은 얼마인가?\n",
    "\n",
    "# Q4. 아래 그래프는 1월부터 9월까지의 은의 가격이다.\n",
    "# Q4.1 은의 가격 및 이동평균값 3이 설정된 시계열 그래프를 그려라\n",
    "# Q4.2 1월 대비 9월의 은의 가격은 몇 % 올랐는가? 소수점 두번째 자리에서 반올림\n",
    "\n",
    "# Q5. 2년 전 제품 생산량이 100,000개, 1년 전 제품 생산량이 150,000개, 그 후 팩토리 기술의 상승으로 제품 생산량이 250,000개 되었을 때, 연평균 상승률의 대푯값을 구하시오. (반올림하여 소수점 아래 둘째자리까지 표기하시오.) (5점)\n",
    "\n",
    "# Q6. n=8, 표본 평균, 표본 표준편차가 주어졌을 때, 유의수준 0.05 하에서 신뢰구간을 하시오. (반올림하여 소수점 아래 둘째자리까지 구하시오.) (5점)\n",
    "\n",
    "# Q7. Streams.csv 데이터. 강의 상류와 하류의 생물 다양성 점수에 차이가 있는지 검정하시오. (단, 같은 강에서 상류와 하류는 서로 독립적이지 않으며, 종속적인 관계에 있다.)\n",
    "# 7-1. 귀무가설과 대립가설을 세우시오.\n",
    "# 7-2. 검정 통계량과 유의 확률을 구하고, 연구가설 채택 여부를 검정하시오. (반올림하여 소수점 아래 둘째자리까지 표기하시오.)\n",
    "\n",
    "# Q8. Climate.csv 데이터가 주어졌을 때 (데이터셋명 기억나지 않음, 날씨 관련 데이터) 기상 요소 (기온 Temparatures, 강수량 Precipitation, 풍속 Wind) 에 따라 y (y가 뭐였더라. 수치형인데 값 단위가 컸었음) 를 예측하시오.\n",
    "# 8-1. 분위수 회귀분석 (Quantile Regression) 을 사용하여 회귀 계수를 구하시오. (반올림하여 소수점 아래 둘째자리까지 표기하시오.)\n",
    "# 8-2. 온도, 강수량, 풍속 값이 각각 주어졌을 때, y를 예측하시오.\n",
    "\n",
    "# Q9. Traffic.csv 데이터. 지하철에서의 승차 수를 나타내는 데이터로 총 3개의 변수가 주어졌을 때 다음을 수행하시오.\n",
    "# Line: 지하철 호선 / Month: 월 / Traffic: 승차 수\n",
    "# 9-1. 귀무가설과 대립가설을 세우시오.\n",
    "# 9-2. 검정 통계랑과 유의 확률을 구하고, 연구가설 채택 여부를 검정하시오. (반올림하여 소수점 아래 둘째자리까지 표기하시오.)"
   ]
  },
  {
   "cell_type": "code",
   "execution_count": 44,
   "id": "4648b1b7",
   "metadata": {},
   "outputs": [
    {
     "name": "stdout",
     "output_type": "stream",
     "text": [
      "270.55434540954144\n"
     ]
    }
   ],
   "source": [
    "# 3번 통계\n",
    "# 철강제품의 불량률을 조사하고자 한다. 이 때, 불량률의 90%, 추정오차한계가 5% 이내가 되기 위하여 적절한 표본의 크기 중 최소값은 얼마인가?\n",
    "import pandas as pd\n",
    "import numpy as np\n",
    "from scipy import stats\n",
    "\n",
    "p_hat = 0.5\n",
    "rv = stats.norm(0,1) # 평균0, 표준편차1\n",
    "k = -rv.ppf(0.05)     # 90% 신뢰수준. k=1.644854\n",
    "d = 0.05             # 허용오차\n",
    "n = p_hat * (1-p_hat) * (k / d)**2 # 표본수 산출식\n",
    "print(n)\n",
    "# 271개"
   ]
  },
  {
   "cell_type": "code",
   "execution_count": 12,
   "id": "9a1039b2",
   "metadata": {},
   "outputs": [
    {
     "data": {
      "text/html": [
       "<div>\n",
       "<style scoped>\n",
       "    .dataframe tbody tr th:only-of-type {\n",
       "        vertical-align: middle;\n",
       "    }\n",
       "\n",
       "    .dataframe tbody tr th {\n",
       "        vertical-align: top;\n",
       "    }\n",
       "\n",
       "    .dataframe thead th {\n",
       "        text-align: right;\n",
       "    }\n",
       "</style>\n",
       "<table border=\"1\" class=\"dataframe\">\n",
       "  <thead>\n",
       "    <tr style=\"text-align: right;\">\n",
       "      <th></th>\n",
       "      <th>0</th>\n",
       "      <th>1</th>\n",
       "      <th>2</th>\n",
       "      <th>3</th>\n",
       "      <th>4</th>\n",
       "      <th>5</th>\n",
       "      <th>6</th>\n",
       "      <th>7</th>\n",
       "      <th>8</th>\n",
       "    </tr>\n",
       "  </thead>\n",
       "  <tbody>\n",
       "    <tr>\n",
       "      <th>0</th>\n",
       "      <td>41.1</td>\n",
       "      <td>43.0</td>\n",
       "      <td>45.0</td>\n",
       "      <td>47.0</td>\n",
       "      <td>49.0</td>\n",
       "      <td>51.0</td>\n",
       "      <td>52.0</td>\n",
       "      <td>53.0</td>\n",
       "      <td>55.1</td>\n",
       "    </tr>\n",
       "  </tbody>\n",
       "</table>\n",
       "</div>"
      ],
      "text/plain": [
       "      0     1     2     3     4     5     6     7     8\n",
       "0  41.1  43.0  45.0  47.0  49.0  51.0  52.0  53.0  55.1"
      ]
     },
     "execution_count": 12,
     "metadata": {},
     "output_type": "execute_result"
    }
   ],
   "source": [
    "# 4번 # 아래 그래프는 1월부터 9월까지의 은의 가격이다\n",
    "import pandas as pd\n",
    "df40 = pd.DataFrame([41.1, 43, 45, 47, 49, 51, 52, 53, 55.1]).T\n",
    "df40"
   ]
  },
  {
   "cell_type": "code",
   "execution_count": 13,
   "id": "2fea45ba",
   "metadata": {},
   "outputs": [
    {
     "data": {
      "text/plain": [
       "34.06"
      ]
     },
     "execution_count": 13,
     "metadata": {},
     "output_type": "execute_result"
    }
   ],
   "source": [
    "# 4.1 1월 대비 9월의 은의 가격은 몇 % 올랐는가? 소수점 두번째 자리에서 반올림\n",
    "round( ((55.1 -41.1) / 41.1) * 100,2)"
   ]
  },
  {
   "cell_type": "code",
   "execution_count": 17,
   "id": "1ae5a5a0",
   "metadata": {},
   "outputs": [],
   "source": [
    "## 4.2 은의 가격 및 이동평균값 3이 설정된 시계열 그래프를 그려라\n",
    "# 이동평균 시계열 그래프 https://mindscale.kr/course/pandas-basic/timeseries/\n",
    "df41 = df40.T\n",
    "df41\n",
    "df42 = df41[0].rolling(window=3).mean()"
   ]
  },
  {
   "cell_type": "code",
   "execution_count": 18,
   "id": "e6f0da8e",
   "metadata": {},
   "outputs": [
    {
     "data": {
      "text/plain": [
       "<matplotlib.legend.Legend at 0x189547f3f88>"
      ]
     },
     "execution_count": 18,
     "metadata": {},
     "output_type": "execute_result"
    },
    {
     "data": {
      "image/png": "[encoded data removed]",
      "text/plain": [
       "<Figure size 640x480 with 1 Axes>"
      ]
     },
     "metadata": {},
     "output_type": "display_data"
    }
   ],
   "source": [
    "import matplotlib.pyplot as plt\n",
    "plt.plot(df41)\n",
    "plt.plot(df42)\n",
    "plt.legend([\"raw_data\", \"MA3\"])"
   ]
  },
  {
   "cell_type": "code",
   "execution_count": null,
   "id": "781f7750",
   "metadata": {},
   "outputs": [],
   "source": [
    "# 5번 아래 그래프는 A,B,C 자치구별 W 의원에 대한 찬성, 반대 지지를 나타낸다. 자치구별 지지율이 같은지에 대해서 검정하라\n",
    "# 5.1 연구가설과 귀무가설을 설정하라\n",
    "# 5.2 검정통계량 구하고 결론을 내라"
   ]
  },
  {
   "cell_type": "code",
   "execution_count": 89,
   "id": "1cc62931",
   "metadata": {},
   "outputs": [],
   "source": [
    "## 5.1 연구가설과 귀무가설을 설정하라\n",
    "# 귀무가설 : 3자치구별 지지율의 차이는 없다\n",
    "# 귀무가설 : 3자치구별 지지율이 모두 같다고 할 수 없다.\n",
    "df50 = pd.DataFrame([176, 193, 159]).T\n",
    "df51 = pd.DataFrame([124, 107, 414]).T\n",
    "df52 = pd.concat([df50, df51], axis = 0, ignore_index=True)"
   ]
  },
  {
   "cell_type": "code",
   "execution_count": 107,
   "id": "c72abd2e",
   "metadata": {},
   "outputs": [
    {
     "name": "stdout",
     "output_type": "stream",
     "text": [
      "Statistic: 136.83967152730898\n",
      "p-value: 1.9303802923346563e-30\n",
      "df: 2\n",
      "expect: \n",
      " [[135.03836317 135.03836317 257.92327366]\n",
      " [164.96163683 164.96163683 315.07672634]]\n"
     ]
    }
   ],
   "source": [
    "# 5.2 검정통계량 구하고 결론을 내라\n",
    "from scipy.stats import chi2_contingency\n",
    "chi, p, df, expect = chi2_contingency(df52) \n",
    "print('Statistic:', chi)\n",
    "print('p-value:', p)\n",
    "print('df:', df)\n",
    "print('expect: \\n', expect)\n",
    "# 독립성 검정결과 p-value가 유의수준 0.05보다 작으므로 귀무가설을 기각한다. 즉, 자치구별 지지율은 유의수준 0.05하에서 모두 같아고 할 수 없다."
   ]
  },
  {
   "cell_type": "code",
   "execution_count": 108,
   "id": "b847e42f",
   "metadata": {},
   "outputs": [],
   "source": [
    "## 6. A초등학교 남학생 16명과 여학생 9명의 혈압을 측정한 pressure.csv파일을 가지고 남녀학생의 평균 혈압에 차이가 없는지 분석하라.\n",
    "## 단, 남학생과 여학생의 혈압 데이터는 정규분포를 따르며 등분산임을 가정한다.\n",
    "# 6-1. 연구가설과 귀무가설 설정하라(5점).\n",
    "# 6-2. 통계량을 구하고, 연구가설 채택 여부를 기술하라(5점).\n",
    "# 6-3. 6-2에서 구한 검정통계량 값을 바탕으로 신뢰구간을 구하라(5점)"
   ]
  },
  {
   "cell_type": "code",
   "execution_count": null,
   "id": "17daecf4",
   "metadata": {},
   "outputs": [],
   "source": [
    "# 6-1. 연구가설과 귀무가설 설정하라(5점).\n",
    "# H0 귀무가설: 남학생과 여학생의 평균 혈압의 차이는 없다. \n",
    "# H1 연구가설: 남학생과 여학생의 평균 혈압은 유의미한 차이가 있다."
   ]
  },
  {
   "cell_type": "code",
   "execution_count": 19,
   "id": "09f26186",
   "metadata": {},
   "outputs": [
    {
     "data": {
      "text/html": [
       "<div>\n",
       "<style scoped>\n",
       "    .dataframe tbody tr th:only-of-type {\n",
       "        vertical-align: middle;\n",
       "    }\n",
       "\n",
       "    .dataframe tbody tr th {\n",
       "        vertical-align: top;\n",
       "    }\n",
       "\n",
       "    .dataframe thead th {\n",
       "        text-align: right;\n",
       "    }\n",
       "</style>\n",
       "<table border=\"1\" class=\"dataframe\">\n",
       "  <thead>\n",
       "    <tr style=\"text-align: right;\">\n",
       "      <th></th>\n",
       "      <th>sepal length</th>\n",
       "      <th>sepal width</th>\n",
       "      <th>petal length</th>\n",
       "      <th>petal width</th>\n",
       "      <th>target</th>\n",
       "    </tr>\n",
       "  </thead>\n",
       "  <tbody>\n",
       "    <tr>\n",
       "      <th>0</th>\n",
       "      <td>5.1</td>\n",
       "      <td>3.5</td>\n",
       "      <td>1.4</td>\n",
       "      <td>0.2</td>\n",
       "      <td>Iris-setosa</td>\n",
       "    </tr>\n",
       "    <tr>\n",
       "      <th>1</th>\n",
       "      <td>4.9</td>\n",
       "      <td>3.0</td>\n",
       "      <td>1.4</td>\n",
       "      <td>0.2</td>\n",
       "      <td>Iris-setosa</td>\n",
       "    </tr>\n",
       "    <tr>\n",
       "      <th>2</th>\n",
       "      <td>4.7</td>\n",
       "      <td>3.2</td>\n",
       "      <td>1.3</td>\n",
       "      <td>0.2</td>\n",
       "      <td>Iris-setosa</td>\n",
       "    </tr>\n",
       "    <tr>\n",
       "      <th>3</th>\n",
       "      <td>4.6</td>\n",
       "      <td>3.1</td>\n",
       "      <td>1.5</td>\n",
       "      <td>0.2</td>\n",
       "      <td>Iris-setosa</td>\n",
       "    </tr>\n",
       "    <tr>\n",
       "      <th>4</th>\n",
       "      <td>5.0</td>\n",
       "      <td>3.6</td>\n",
       "      <td>1.4</td>\n",
       "      <td>0.2</td>\n",
       "      <td>Iris-setosa</td>\n",
       "    </tr>\n",
       "  </tbody>\n",
       "</table>\n",
       "</div>"
      ],
      "text/plain": [
       "   sepal length  sepal width  petal length  petal width       target\n",
       "0           5.1          3.5           1.4          0.2  Iris-setosa\n",
       "1           4.9          3.0           1.4          0.2  Iris-setosa\n",
       "2           4.7          3.2           1.3          0.2  Iris-setosa\n",
       "3           4.6          3.1           1.5          0.2  Iris-setosa\n",
       "4           5.0          3.6           1.4          0.2  Iris-setosa"
      ]
     },
     "execution_count": 19,
     "metadata": {},
     "output_type": "execute_result"
    }
   ],
   "source": [
    "import pandas as pd\n",
    "\n",
    "iris = pd.read_csv(\"C:/adp/data/iris.csv\")\n",
    "iris.head()"
   ]
  },
  {
   "cell_type": "code",
   "execution_count": 20,
   "id": "97676fa2",
   "metadata": {},
   "outputs": [],
   "source": [
    "iris2 = iris[iris['target'] == 'Iris-virginica']['sepal length']\n",
    "iris3 = iris[iris['target'] == 'Iris-setosa']['sepal length']"
   ]
  },
  {
   "cell_type": "code",
   "execution_count": 21,
   "id": "44402ad3",
   "metadata": {},
   "outputs": [
    {
     "data": {
      "text/plain": [
       "Ttest_indResult(statistic=15.386195820079404, pvalue=3.9668672709859296e-25)"
      ]
     },
     "execution_count": 21,
     "metadata": {},
     "output_type": "execute_result"
    }
   ],
   "source": [
    "import scipy.stats as stats\n",
    "stats.ttest_ind(iris2, iris3, equal_var = False)\n",
    "# pvalue가 0.05보다 작으므루 귀무가설을 기각. 꽃잎간에 차이가 존재함"
   ]
  },
  {
   "cell_type": "code",
   "execution_count": 51,
   "id": "6f872e55",
   "metadata": {},
   "outputs": [
    {
     "name": "stdout",
     "output_type": "stream",
     "text": [
      "5.797 0.6294886813914926\n"
     ]
    },
    {
     "data": {
      "text/plain": [
       "(5.797, 5.797)"
      ]
     },
     "execution_count": 51,
     "metadata": {},
     "output_type": "execute_result"
    }
   ],
   "source": [
    "# 6-3. 6-2에서 구한 검정통계량 값을 바탕으로 신뢰구간을 구하라(5점)\n",
    "import math\n",
    "import numpy as np\n",
    "t1 = (iris2.sum() + iris3.sum() )/100\n",
    "t2 = np.std(iris2)\n",
    "print(t1, t2)\n",
    "stats.t.interval(alpha=0.9, loc=t1, scale=t2/np.sqrt(100), df=101)"
   ]
  },
  {
   "cell_type": "code",
   "execution_count": 48,
   "id": "d8dd655d",
   "metadata": {},
   "outputs": [
    {
     "name": "stdout",
     "output_type": "stream",
     "text": [
      "4.829276554515443 6.543956496877891\n"
     ]
    }
   ],
   "source": [
    "import numpy as np\n",
    "import pandas as pd\n",
    "from scipy.stats import norm,sem\n",
    "\n",
    "xs = np.array([66, 78, 18, 96, 85, 63, 73, 83, 65, 80, 75, 56, 95, 77, 66])\n",
    "\n",
    "# 평균, 표준편차, 표본수\n",
    "sample_mean = (iris2.sum() + iris3.sum() )/100\n",
    "sample_std = np.std([iris2, iris3])\n",
    "size = len(iris2) + len(iris3)\n",
    "\n",
    "# z통계량\n",
    "z_95_left = norm(0, 1).ppf(3.9668672709859296e-25) # 누적 분포가 2.5인 x값\n",
    "# z_95_right = norm(0, 1).ppf(1-0.00000000000000000000000039668672709859296) # 누적 분포가 2.5인 x값\n",
    "z_95_right = norm(0, 1).ppf(0.999999999999999) # 누적 분포가 2.5인 x값\n",
    "\n",
    "L = sample_mean + z_95_left*(sample_std/np.sqrt(size))\n",
    "R = sample_mean + z_95_right*(sample_std/np.sqrt(size))\n",
    "print(L,R)"
   ]
  },
  {
   "cell_type": "code",
   "execution_count": 36,
   "id": "db69042a",
   "metadata": {},
   "outputs": [
    {
     "name": "stdout",
     "output_type": "stream",
     "text": [
      "5.797 0.6294886813914926\n"
     ]
    }
   ],
   "source": [
    "# 7번\n",
    "# height(키), weight(몸무게), waist(허리둘레) 컬럼을 가진 problem7.csv파일을 가지고 다음을 분석하라\n",
    "# A시의 20대 남성 411명을 임의로 추출하여 키, 몸무게, 허리둘레를 조사하여 기록한 데이터이다.\n",
    "# 이 데이터를 이용하여 20대 남성의 키와 허리둘레가 체중에 영향을 미치는지 알아보고자 한다.\n",
    "# 7.1 아래 조건을 참고하여 회귀계수(반올림하여 소수점 두자리)를 구하시오.\n",
    "# 베이지안 회귀\n",
    "# 시드넘버 1234로 지정\n",
    "# 1000번의 burn-in 이후 10,000의 MCMC를 수행\n",
    "# 회귀계수의 사전분포는 부적절한 균일분포(inproper uniform prior distribution), 오차항의 분산의 사전분포는 역감마 분포로 지정. 이때, 형상(Shape)모수와 척도(Scale)모수는 각각 0.005로 지정.\n",
    "# 7.2 위에서 만든 모델을 바탕으로 키 180cm, 허리둘레 85cm인 남성의 몸무게를 추정하라"
   ]
  },
  {
   "cell_type": "code",
   "execution_count": 38,
   "id": "0c52dfb2",
   "metadata": {},
   "outputs": [
    {
     "data": {
      "text/html": [
       "<div>\n",
       "<style scoped>\n",
       "    .dataframe tbody tr th:only-of-type {\n",
       "        vertical-align: middle;\n",
       "    }\n",
       "\n",
       "    .dataframe tbody tr th {\n",
       "        vertical-align: top;\n",
       "    }\n",
       "\n",
       "    .dataframe thead th {\n",
       "        text-align: right;\n",
       "    }\n",
       "</style>\n",
       "<table border=\"1\" class=\"dataframe\">\n",
       "  <thead>\n",
       "    <tr style=\"text-align: right;\">\n",
       "      <th></th>\n",
       "      <th>height</th>\n",
       "      <th>weight</th>\n",
       "      <th>waistline</th>\n",
       "    </tr>\n",
       "  </thead>\n",
       "  <tbody>\n",
       "    <tr>\n",
       "      <th>0</th>\n",
       "      <td>174.396</td>\n",
       "      <td>72.102</td>\n",
       "      <td>79.3787</td>\n",
       "    </tr>\n",
       "    <tr>\n",
       "      <th>1</th>\n",
       "      <td>179.656</td>\n",
       "      <td>81.255</td>\n",
       "      <td>80.6649</td>\n",
       "    </tr>\n",
       "    <tr>\n",
       "      <th>2</th>\n",
       "      <td>175.079</td>\n",
       "      <td>76.207</td>\n",
       "      <td>80.3166</td>\n",
       "    </tr>\n",
       "    <tr>\n",
       "      <th>3</th>\n",
       "      <td>180.804</td>\n",
       "      <td>81.354</td>\n",
       "      <td>80.8794</td>\n",
       "    </tr>\n",
       "    <tr>\n",
       "      <th>4</th>\n",
       "      <td>177.448</td>\n",
       "      <td>78.768</td>\n",
       "      <td>80.3499</td>\n",
       "    </tr>\n",
       "  </tbody>\n",
       "</table>\n",
       "</div>"
      ],
      "text/plain": [
       "    height  weight  waistline\n",
       "0  174.396  72.102    79.3787\n",
       "1  179.656  81.255    80.6649\n",
       "2  175.079  76.207    80.3166\n",
       "3  180.804  81.354    80.8794\n",
       "4  177.448  78.768    80.3499"
      ]
     },
     "execution_count": 38,
     "metadata": {},
     "output_type": "execute_result"
    }
   ],
   "source": [
    "df= pd.read_csv('https://raw.githubusercontent.com/Datamanim/datarepo/main/adp/26/problem7.csv')\n",
    "df.head()"
   ]
  },
  {
   "cell_type": "code",
   "execution_count": 6,
   "id": "10504130",
   "metadata": {},
   "outputs": [
    {
     "ename": "ModuleNotFoundError",
     "evalue": "No module named 'pymc3'",
     "output_type": "error",
     "traceback": [
      "\u001b[1;31m---------------------------------------------------------------------------\u001b[0m",
      "\u001b[1;31mModuleNotFoundError\u001b[0m                       Traceback (most recent call last)",
      "\u001b[1;32m~\\AppData\\Local\\Temp\\ipykernel_21176\\1405551303.py\u001b[0m in \u001b[0;36m<module>\u001b[1;34m\u001b[0m\n\u001b[1;32m----> 1\u001b[1;33m \u001b[1;32mimport\u001b[0m \u001b[0mpymc3\u001b[0m \u001b[1;32mas\u001b[0m \u001b[0mpm\u001b[0m\u001b[1;33m\u001b[0m\u001b[1;33m\u001b[0m\u001b[0m\n\u001b[0m\u001b[0;32m      2\u001b[0m \u001b[1;32mimport\u001b[0m \u001b[0mnumpy\u001b[0m \u001b[1;32mas\u001b[0m \u001b[0mnp\u001b[0m\u001b[1;33m\u001b[0m\u001b[1;33m\u001b[0m\u001b[0m\n\u001b[0;32m      3\u001b[0m \u001b[0mnp\u001b[0m\u001b[1;33m.\u001b[0m\u001b[0mrandom\u001b[0m\u001b[1;33m.\u001b[0m\u001b[0mseed\u001b[0m\u001b[1;33m(\u001b[0m\u001b[1;36m1000\u001b[0m\u001b[1;33m)\u001b[0m\u001b[1;33m\u001b[0m\u001b[1;33m\u001b[0m\u001b[0m\n\u001b[0;32m      4\u001b[0m \u001b[1;32mimport\u001b[0m \u001b[0mmatplotlib\u001b[0m \u001b[1;32mas\u001b[0m \u001b[0mmpl\u001b[0m\u001b[1;33m\u001b[0m\u001b[1;33m\u001b[0m\u001b[0m\n\u001b[0;32m      5\u001b[0m \u001b[1;32mimport\u001b[0m \u001b[0mmatplotlib\u001b[0m\u001b[1;33m.\u001b[0m\u001b[0mpyplot\u001b[0m \u001b[1;32mas\u001b[0m \u001b[0mplt\u001b[0m\u001b[1;33m\u001b[0m\u001b[1;33m\u001b[0m\u001b[0m\n",
      "\u001b[1;31mModuleNotFoundError\u001b[0m: No module named 'pymc3'"
     ]
    }
   ],
   "source": [
    "import pymc3 as pm\n",
    "import numpy as np\n",
    "np.random.seed(1000)\n",
    "import matplotlib as mpl\n",
    "import matplotlib.pyplot as plt\n",
    "\n",
    "with pm.Model() as model: \n",
    "    # PyMC3의 모형은 with 문 안에서 사용된다.\n",
    "    # 사전 확률 정의\n",
    "    alpha = pm.Normal('alpha', mu=0, sd=20)\n",
    "    beta = pm.Normal('beta', mu=0, sd=20)\n",
    "    sigma = pm.Uniform('sigma', lower=0, upper=10)\n",
    "    \n",
    "    # 선형 회귀 모형 정의\n",
    "    y_est = alpha + beta * x\n",
    "    \n",
    "    # 가능도 분포 정의 \n",
    "    likelihood = pm.Normal('y', mu=y_est, sd=sigma, observed=y)\n",
    "    \n",
    "    # 최적화를 사용하여 시작값 추정\n",
    "    start = pm.find_MAP()\n",
    " \n",
    "    # NUTS MCMC 샘플링 알고리즘 인스턴스 생성\n",
    "    step = pm.NUTS(scaling=start)\n",
    "    \n",
    "    # 샘플링을 사용하여 100개의 사후 샘플 생성\n",
    "    trace = pm.sampling.sample(100, step=step, start=start, progressbar=False)\n",
    "\n"
   ]
  },
  {
   "cell_type": "code",
   "execution_count": 13,
   "id": "05afdb24",
   "metadata": {},
   "outputs": [
    {
     "ename": "SyntaxError",
     "evalue": "invalid syntax (2562113042.py, line 2)",
     "output_type": "error",
     "traceback": [
      "\u001b[1;36m  File \u001b[1;32m\"C:\\Users\\신주현\\AppData\\Local\\Temp\\ipykernel_21176\\2562113042.py\"\u001b[1;36m, line \u001b[1;32m2\u001b[0m\n\u001b[1;33m    pip install pymc\u001b[0m\n\u001b[1;37m              ^\u001b[0m\n\u001b[1;31mSyntaxError\u001b[0m\u001b[1;31m:\u001b[0m invalid syntax\n"
     ]
    }
   ],
   "source": [
    "# pip install --upgrade pip\n",
    "# pip install pymc3\n",
    "# import pymc3 as pm\n",
    "# 베이지안 설치가 되지 않아서 포기\n",
    "# 베지이안 회귀 블로그 : https://datascienceschool.net/03%20machine%20learning/19.02%20%EB%B2%A0%EC%9D%B4%EC%A7%80%EC%95%88%20%ED%9A%8C%EA%B7%80%20%EB%B6%84%EC%84%9D%20%EC%98%88%EC%A0%9C.html"
   ]
  },
  {
   "cell_type": "code",
   "execution_count": null,
   "id": "82bbed49",
   "metadata": {},
   "outputs": [],
   "source": []
  },
  {
   "cell_type": "code",
   "execution_count": null,
   "id": "f9cc4e32",
   "metadata": {},
   "outputs": [],
   "source": []
  },
  {
   "cell_type": "code",
   "execution_count": null,
   "id": "852d30dc",
   "metadata": {},
   "outputs": [],
   "source": []
  },
  {
   "cell_type": "code",
   "execution_count": null,
   "id": "4298f963",
   "metadata": {},
   "outputs": [],
   "source": []
  },
  {
   "cell_type": "code",
   "execution_count": null,
   "id": "8129504a",
   "metadata": {},
   "outputs": [],
   "source": []
  },
  {
   "cell_type": "code",
   "execution_count": null,
   "id": "e8f8afd0",
   "metadata": {},
   "outputs": [],
   "source": []
  },
  {
   "cell_type": "code",
   "execution_count": null,
   "id": "78851485",
   "metadata": {},
   "outputs": [],
   "source": []
  },
  {
   "cell_type": "code",
   "execution_count": null,
   "id": "4932a82e",
   "metadata": {},
   "outputs": [],
   "source": []
  },
  {
   "cell_type": "code",
   "execution_count": null,
   "id": "7c98a1d8",
   "metadata": {},
   "outputs": [],
   "source": []
  },
  {
   "cell_type": "code",
   "execution_count": null,
   "id": "e5b768cf",
   "metadata": {},
   "outputs": [],
   "source": []
  },
  {
   "cell_type": "code",
   "execution_count": null,
   "id": "be1701c1",
   "metadata": {},
   "outputs": [],
   "source": []
  }
 ],
 "metadata": {
  "kernelspec": {
   "display_name": "Python 3",
   "language": "python",
   "name": "python3"
  },
  "language_info": {
   "codemirror_mode": {
    "name": "ipython",
    "version": 3
   },
   "file_extension": ".py",
   "mimetype": "text/x-python",
   "name": "python",
   "nbconvert_exporter": "python",
   "pygments_lexer": "ipython3",
   "version": "3.7.9"
  },
  "vscode": {
   "interpreter": {
    "hash": "5aa634c14859627405404137fecabd2d911e45a844039ce454abb52cf9f696dc"
   }
  }
 },
 "nbformat": 4,
 "nbformat_minor": 5
}
