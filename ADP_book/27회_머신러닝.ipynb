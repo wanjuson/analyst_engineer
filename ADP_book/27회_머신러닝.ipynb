{
 "cells": [
  {
   "attachments": {},
   "cell_type": "markdown",
   "id": "749a3214",
   "metadata": {},
   "source": [
    "### 가. 머신러닝 (50점)"
   ]
  },
  {
   "cell_type": "code",
   "execution_count": null,
   "id": "cacd3bf8",
   "metadata": {},
   "outputs": [],
   "source": [
    "# 문제 : https://www.datamanim.com/dataset/ADPpb/00/27.html\n",
    "# 풀이 : https://amaruak00.github.io/2022/12/17/adp27th.html"
   ]
  },
  {
   "cell_type": "code",
   "execution_count": null,
   "id": "711ad498",
   "metadata": {},
   "outputs": [],
   "source": [
    "# Q1. 데이터 확인 및 전처리\n",
    "# 1.1 결측치를 확인하고, 결측치 제거할 것\n",
    "# 1.2 이상치 제거하는 방법을 설명하고, 이상치 제거하고 난 결과를 통계적으로 나타낼 것\n",
    "# 1.3 전처리한 데이터로 Kmeans, DBSCAN 등 방법으로 군집을 생성할 것\n",
    "\n",
    "# Q2. 군집분석\n",
    "# 2.1 위에서 생성한 군집들의 특성을 분석할 것\n",
    "# 2.2 각 군집 별 대표 추천 상품을 도출할 것\n",
    "# 2.3 CustomerID가 12413인 고객을 대상으로 상품을 추천할 것"
   ]
  },
  {
   "cell_type": "code",
   "execution_count": 1,
   "id": "ef8e2f35",
   "metadata": {},
   "outputs": [],
   "source": [
    "# 1. 신용카드 이상탐지 데이터 [지도학습, 이상탐지]\n",
    "# 1-1 EDA 데이터 탐색\n",
    "import pandas as pd\n",
    "import numpy as np\n",
    "card = pd.read_csv(\"C:/adp/data/creditcard.csv\")\n",
    "card = card.drop([\"V18\", \"V19\", \"V20\", \"V21\", \"V22\", \"V23\", \"V24\", \"V25\", \"V26\", \"V27\", \"V28\"], axis = 1)\n",
    "# card = card[500:1500]"
   ]
  },
  {
   "cell_type": "code",
   "execution_count": 2,
   "id": "5eaf13ef",
   "metadata": {},
   "outputs": [],
   "source": [
    "card1 = card[1000:2500]\n",
    "card2 = card[card['Class'] == 1]\n",
    "card3 = pd.concat([card1, card2], axis = 0)"
   ]
  },
  {
   "cell_type": "code",
   "execution_count": 3,
   "id": "c7206951",
   "metadata": {},
   "outputs": [
    {
     "name": "stdout",
     "output_type": "stream",
     "text": [
      "<class 'pandas.core.frame.DataFrame'>\n",
      "Int64Index: 1992 entries, 1000 to 281674\n",
      "Data columns (total 20 columns):\n",
      " #   Column  Non-Null Count  Dtype  \n",
      "---  ------  --------------  -----  \n",
      " 0   Time    1992 non-null   float64\n",
      " 1   V1      1992 non-null   float64\n",
      " 2   V2      1992 non-null   float64\n",
      " 3   V3      1992 non-null   float64\n",
      " 4   V4      1992 non-null   float64\n",
      " 5   V5      1992 non-null   float64\n",
      " 6   V6      1992 non-null   float64\n",
      " 7   V7      1992 non-null   float64\n",
      " 8   V8      1992 non-null   float64\n",
      " 9   V9      1992 non-null   float64\n",
      " 10  V10     1992 non-null   float64\n",
      " 11  V11     1992 non-null   float64\n",
      " 12  V12     1992 non-null   float64\n",
      " 13  V13     1992 non-null   float64\n",
      " 14  V14     1992 non-null   float64\n",
      " 15  V15     1992 non-null   float64\n",
      " 16  V16     1992 non-null   float64\n",
      " 17  V17     1992 non-null   float64\n",
      " 18  Amount  1992 non-null   float64\n",
      " 19  Class   1992 non-null   int64  \n",
      "dtypes: float64(19), int64(1)\n",
      "memory usage: 326.8 KB\n"
     ]
    }
   ],
   "source": [
    "card3.info()\n",
    "# 결측치가 존재하지 않으며 Class 외에는 float64형식의 변수이며 Class는 이상형변수임"
   ]
  },
  {
   "cell_type": "code",
   "execution_count": 43,
   "id": "6531958e",
   "metadata": {},
   "outputs": [
    {
     "data": {
      "text/plain": [
       "(array([1500.,    0.,    0.,    0.,    0.,    0.,    0.,    0.,    0.,\n",
       "         492.]),\n",
       " array([0. , 0.1, 0.2, 0.3, 0.4, 0.5, 0.6, 0.7, 0.8, 0.9, 1. ]),\n",
       " <BarContainer object of 10 artists>)"
      ]
     },
     "execution_count": 43,
     "metadata": {},
     "output_type": "execute_result"
    },
    {
     "data": {
      "image/png": "[encoded data removed]",
      "text/plain": [
       "<Figure size 640x480 with 1 Axes>"
      ]
     },
     "metadata": {},
     "output_type": "display_data"
    }
   ],
   "source": [
    "import matplotlib.pyplot as plt\n",
    "plt.hist(card3['Class'])"
   ]
  },
  {
   "cell_type": "code",
   "execution_count": 45,
   "id": "38ed8f74",
   "metadata": {},
   "outputs": [
    {
     "data": {
      "text/plain": [
       "0    1500\n",
       "1     492\n",
       "Name: Class, dtype: int64"
      ]
     },
     "execution_count": 45,
     "metadata": {},
     "output_type": "execute_result"
    }
   ],
   "source": [
    "card3['Class'].value_counts()\n",
    "# Class 데이터에 불균형이 있어서 데이터 분석 정확도를 향상하기 위해서 처리가 필요함"
   ]
  },
  {
   "cell_type": "code",
   "execution_count": 48,
   "id": "7b20addb",
   "metadata": {},
   "outputs": [
    {
     "data": {
      "text/html": [
       "<div>\n",
       "<style scoped>\n",
       "    .dataframe tbody tr th:only-of-type {\n",
       "        vertical-align: middle;\n",
       "    }\n",
       "\n",
       "    .dataframe tbody tr th {\n",
       "        vertical-align: top;\n",
       "    }\n",
       "\n",
       "    .dataframe thead th {\n",
       "        text-align: right;\n",
       "    }\n",
       "</style>\n",
       "<table border=\"1\" class=\"dataframe\">\n",
       "  <thead>\n",
       "    <tr style=\"text-align: right;\">\n",
       "      <th></th>\n",
       "      <th>Time</th>\n",
       "      <th>V1</th>\n",
       "      <th>V2</th>\n",
       "      <th>V3</th>\n",
       "      <th>V4</th>\n",
       "      <th>V5</th>\n",
       "      <th>V6</th>\n",
       "      <th>V7</th>\n",
       "      <th>V8</th>\n",
       "      <th>V9</th>\n",
       "      <th>V10</th>\n",
       "      <th>V11</th>\n",
       "      <th>V12</th>\n",
       "      <th>V13</th>\n",
       "      <th>V14</th>\n",
       "      <th>V15</th>\n",
       "      <th>V16</th>\n",
       "      <th>V17</th>\n",
       "      <th>Amount</th>\n",
       "      <th>Class</th>\n",
       "    </tr>\n",
       "  </thead>\n",
       "  <tbody>\n",
       "    <tr>\n",
       "      <th>Time</th>\n",
       "      <td>1.000000</td>\n",
       "      <td>-0.256143</td>\n",
       "      <td>0.308258</td>\n",
       "      <td>-0.474813</td>\n",
       "      <td>0.535310</td>\n",
       "      <td>-0.183985</td>\n",
       "      <td>-0.270221</td>\n",
       "      <td>-0.344694</td>\n",
       "      <td>-0.034956</td>\n",
       "      <td>-0.438494</td>\n",
       "      <td>-0.479029</td>\n",
       "      <td>0.462748</td>\n",
       "      <td>-0.520973</td>\n",
       "      <td>-0.030143</td>\n",
       "      <td>-0.600597</td>\n",
       "      <td>-0.136540</td>\n",
       "      <td>-0.424671</td>\n",
       "      <td>-0.390429</td>\n",
       "      <td>0.077545</td>\n",
       "      <td>0.821607</td>\n",
       "    </tr>\n",
       "    <tr>\n",
       "      <th>V1</th>\n",
       "      <td>-0.256143</td>\n",
       "      <td>1.000000</td>\n",
       "      <td>-0.773654</td>\n",
       "      <td>0.849711</td>\n",
       "      <td>-0.562700</td>\n",
       "      <td>0.805160</td>\n",
       "      <td>0.278349</td>\n",
       "      <td>0.835186</td>\n",
       "      <td>-0.067070</td>\n",
       "      <td>0.609044</td>\n",
       "      <td>0.713638</td>\n",
       "      <td>-0.525873</td>\n",
       "      <td>0.604876</td>\n",
       "      <td>-0.047085</td>\n",
       "      <td>0.475018</td>\n",
       "      <td>0.146481</td>\n",
       "      <td>0.637837</td>\n",
       "      <td>0.678927</td>\n",
       "      <td>-0.080089</td>\n",
       "      <td>-0.463474</td>\n",
       "    </tr>\n",
       "    <tr>\n",
       "      <th>V2</th>\n",
       "      <td>0.308258</td>\n",
       "      <td>-0.773654</td>\n",
       "      <td>1.000000</td>\n",
       "      <td>-0.814852</td>\n",
       "      <td>0.614764</td>\n",
       "      <td>-0.712609</td>\n",
       "      <td>-0.280256</td>\n",
       "      <td>-0.806965</td>\n",
       "      <td>-0.020537</td>\n",
       "      <td>-0.633145</td>\n",
       "      <td>-0.713307</td>\n",
       "      <td>0.595439</td>\n",
       "      <td>-0.660508</td>\n",
       "      <td>0.025585</td>\n",
       "      <td>-0.574600</td>\n",
       "      <td>-0.149978</td>\n",
       "      <td>-0.622288</td>\n",
       "      <td>-0.642195</td>\n",
       "      <td>-0.241865</td>\n",
       "      <td>0.510234</td>\n",
       "    </tr>\n",
       "    <tr>\n",
       "      <th>V3</th>\n",
       "      <td>-0.474813</td>\n",
       "      <td>0.849711</td>\n",
       "      <td>-0.814852</td>\n",
       "      <td>1.000000</td>\n",
       "      <td>-0.760864</td>\n",
       "      <td>0.812977</td>\n",
       "      <td>0.395356</td>\n",
       "      <td>0.867321</td>\n",
       "      <td>-0.166011</td>\n",
       "      <td>0.760679</td>\n",
       "      <td>0.868611</td>\n",
       "      <td>-0.739354</td>\n",
       "      <td>0.810493</td>\n",
       "      <td>-0.094301</td>\n",
       "      <td>0.721125</td>\n",
       "      <td>0.123153</td>\n",
       "      <td>0.751044</td>\n",
       "      <td>0.774219</td>\n",
       "      <td>-0.080450</td>\n",
       "      <td>-0.681338</td>\n",
       "    </tr>\n",
       "    <tr>\n",
       "      <th>V4</th>\n",
       "      <td>0.535310</td>\n",
       "      <td>-0.562700</td>\n",
       "      <td>0.614764</td>\n",
       "      <td>-0.760864</td>\n",
       "      <td>1.000000</td>\n",
       "      <td>-0.561688</td>\n",
       "      <td>-0.353338</td>\n",
       "      <td>-0.679696</td>\n",
       "      <td>0.123376</td>\n",
       "      <td>-0.766447</td>\n",
       "      <td>-0.760019</td>\n",
       "      <td>0.726486</td>\n",
       "      <td>-0.820416</td>\n",
       "      <td>0.090949</td>\n",
       "      <td>-0.786075</td>\n",
       "      <td>-0.142897</td>\n",
       "      <td>-0.716123</td>\n",
       "      <td>-0.697875</td>\n",
       "      <td>0.074097</td>\n",
       "      <td>0.725317</td>\n",
       "    </tr>\n",
       "    <tr>\n",
       "      <th>V5</th>\n",
       "      <td>-0.183985</td>\n",
       "      <td>0.805160</td>\n",
       "      <td>-0.712609</td>\n",
       "      <td>0.812977</td>\n",
       "      <td>-0.561688</td>\n",
       "      <td>1.000000</td>\n",
       "      <td>0.211523</td>\n",
       "      <td>0.741244</td>\n",
       "      <td>-0.178470</td>\n",
       "      <td>0.618500</td>\n",
       "      <td>0.723606</td>\n",
       "      <td>-0.516079</td>\n",
       "      <td>0.608979</td>\n",
       "      <td>-0.106445</td>\n",
       "      <td>0.449965</td>\n",
       "      <td>0.100043</td>\n",
       "      <td>0.662956</td>\n",
       "      <td>0.715160</td>\n",
       "      <td>-0.267227</td>\n",
       "      <td>-0.409342</td>\n",
       "    </tr>\n",
       "    <tr>\n",
       "      <th>V6</th>\n",
       "      <td>-0.270221</td>\n",
       "      <td>0.278349</td>\n",
       "      <td>-0.280256</td>\n",
       "      <td>0.395356</td>\n",
       "      <td>-0.353338</td>\n",
       "      <td>0.211523</td>\n",
       "      <td>1.000000</td>\n",
       "      <td>0.320359</td>\n",
       "      <td>-0.450106</td>\n",
       "      <td>0.346876</td>\n",
       "      <td>0.384778</td>\n",
       "      <td>-0.450484</td>\n",
       "      <td>0.438324</td>\n",
       "      <td>-0.083002</td>\n",
       "      <td>0.453988</td>\n",
       "      <td>-0.029054</td>\n",
       "      <td>0.388777</td>\n",
       "      <td>0.382124</td>\n",
       "      <td>0.285051</td>\n",
       "      <td>-0.386629</td>\n",
       "    </tr>\n",
       "    <tr>\n",
       "      <th>V7</th>\n",
       "      <td>-0.344694</td>\n",
       "      <td>0.835186</td>\n",
       "      <td>-0.806965</td>\n",
       "      <td>0.867321</td>\n",
       "      <td>-0.679696</td>\n",
       "      <td>0.741244</td>\n",
       "      <td>0.320359</td>\n",
       "      <td>1.000000</td>\n",
       "      <td>0.059049</td>\n",
       "      <td>0.730983</td>\n",
       "      <td>0.847730</td>\n",
       "      <td>-0.628667</td>\n",
       "      <td>0.730129</td>\n",
       "      <td>-0.027032</td>\n",
       "      <td>0.583733</td>\n",
       "      <td>0.201710</td>\n",
       "      <td>0.753825</td>\n",
       "      <td>0.770929</td>\n",
       "      <td>0.177941</td>\n",
       "      <td>-0.548085</td>\n",
       "    </tr>\n",
       "    <tr>\n",
       "      <th>V8</th>\n",
       "      <td>-0.034956</td>\n",
       "      <td>-0.067070</td>\n",
       "      <td>-0.020537</td>\n",
       "      <td>-0.166011</td>\n",
       "      <td>0.123376</td>\n",
       "      <td>-0.178470</td>\n",
       "      <td>-0.450106</td>\n",
       "      <td>0.059049</td>\n",
       "      <td>1.000000</td>\n",
       "      <td>-0.105150</td>\n",
       "      <td>-0.075227</td>\n",
       "      <td>0.153792</td>\n",
       "      <td>-0.171248</td>\n",
       "      <td>0.194216</td>\n",
       "      <td>-0.180879</td>\n",
       "      <td>0.060151</td>\n",
       "      <td>-0.167153</td>\n",
       "      <td>-0.219120</td>\n",
       "      <td>-0.018055</td>\n",
       "      <td>0.078246</td>\n",
       "    </tr>\n",
       "    <tr>\n",
       "      <th>V9</th>\n",
       "      <td>-0.438494</td>\n",
       "      <td>0.609044</td>\n",
       "      <td>-0.633145</td>\n",
       "      <td>0.760679</td>\n",
       "      <td>-0.766447</td>\n",
       "      <td>0.618500</td>\n",
       "      <td>0.346876</td>\n",
       "      <td>0.730983</td>\n",
       "      <td>-0.105150</td>\n",
       "      <td>1.000000</td>\n",
       "      <td>0.830269</td>\n",
       "      <td>-0.685369</td>\n",
       "      <td>0.772224</td>\n",
       "      <td>-0.151194</td>\n",
       "      <td>0.661256</td>\n",
       "      <td>0.098414</td>\n",
       "      <td>0.694292</td>\n",
       "      <td>0.743509</td>\n",
       "      <td>-0.030720</td>\n",
       "      <td>-0.604809</td>\n",
       "    </tr>\n",
       "    <tr>\n",
       "      <th>V10</th>\n",
       "      <td>-0.479029</td>\n",
       "      <td>0.713638</td>\n",
       "      <td>-0.713307</td>\n",
       "      <td>0.868611</td>\n",
       "      <td>-0.760019</td>\n",
       "      <td>0.723606</td>\n",
       "      <td>0.384778</td>\n",
       "      <td>0.847730</td>\n",
       "      <td>-0.075227</td>\n",
       "      <td>0.830269</td>\n",
       "      <td>1.000000</td>\n",
       "      <td>-0.767078</td>\n",
       "      <td>0.873081</td>\n",
       "      <td>-0.067875</td>\n",
       "      <td>0.763819</td>\n",
       "      <td>0.175050</td>\n",
       "      <td>0.836621</td>\n",
       "      <td>0.850097</td>\n",
       "      <td>-0.049545</td>\n",
       "      <td>-0.690164</td>\n",
       "    </tr>\n",
       "    <tr>\n",
       "      <th>V11</th>\n",
       "      <td>0.462748</td>\n",
       "      <td>-0.525873</td>\n",
       "      <td>0.595439</td>\n",
       "      <td>-0.739354</td>\n",
       "      <td>0.726486</td>\n",
       "      <td>-0.516079</td>\n",
       "      <td>-0.450484</td>\n",
       "      <td>-0.628667</td>\n",
       "      <td>0.153792</td>\n",
       "      <td>-0.685369</td>\n",
       "      <td>-0.767078</td>\n",
       "      <td>1.000000</td>\n",
       "      <td>-0.849593</td>\n",
       "      <td>0.048169</td>\n",
       "      <td>-0.854107</td>\n",
       "      <td>-0.076753</td>\n",
       "      <td>-0.778855</td>\n",
       "      <td>-0.764829</td>\n",
       "      <td>0.031796</td>\n",
       "      <td>0.709123</td>\n",
       "    </tr>\n",
       "    <tr>\n",
       "      <th>V12</th>\n",
       "      <td>-0.520973</td>\n",
       "      <td>0.604876</td>\n",
       "      <td>-0.660508</td>\n",
       "      <td>0.810493</td>\n",
       "      <td>-0.820416</td>\n",
       "      <td>0.608979</td>\n",
       "      <td>0.438324</td>\n",
       "      <td>0.730129</td>\n",
       "      <td>-0.171248</td>\n",
       "      <td>0.772224</td>\n",
       "      <td>0.873081</td>\n",
       "      <td>-0.849593</td>\n",
       "      <td>1.000000</td>\n",
       "      <td>-0.049469</td>\n",
       "      <td>0.904311</td>\n",
       "      <td>0.091578</td>\n",
       "      <td>0.888960</td>\n",
       "      <td>0.885893</td>\n",
       "      <td>-0.033453</td>\n",
       "      <td>-0.765468</td>\n",
       "    </tr>\n",
       "    <tr>\n",
       "      <th>V13</th>\n",
       "      <td>-0.030143</td>\n",
       "      <td>-0.047085</td>\n",
       "      <td>0.025585</td>\n",
       "      <td>-0.094301</td>\n",
       "      <td>0.090949</td>\n",
       "      <td>-0.106445</td>\n",
       "      <td>-0.083002</td>\n",
       "      <td>-0.027032</td>\n",
       "      <td>0.194216</td>\n",
       "      <td>-0.151194</td>\n",
       "      <td>-0.067875</td>\n",
       "      <td>0.048169</td>\n",
       "      <td>-0.049469</td>\n",
       "      <td>1.000000</td>\n",
       "      <td>-0.099861</td>\n",
       "      <td>0.107833</td>\n",
       "      <td>-0.107555</td>\n",
       "      <td>-0.144107</td>\n",
       "      <td>0.070494</td>\n",
       "      <td>0.027336</td>\n",
       "    </tr>\n",
       "    <tr>\n",
       "      <th>V14</th>\n",
       "      <td>-0.600597</td>\n",
       "      <td>0.475018</td>\n",
       "      <td>-0.574600</td>\n",
       "      <td>0.721125</td>\n",
       "      <td>-0.786075</td>\n",
       "      <td>0.449965</td>\n",
       "      <td>0.453988</td>\n",
       "      <td>0.583733</td>\n",
       "      <td>-0.180879</td>\n",
       "      <td>0.661256</td>\n",
       "      <td>0.763819</td>\n",
       "      <td>-0.854107</td>\n",
       "      <td>0.904311</td>\n",
       "      <td>-0.099861</td>\n",
       "      <td>1.000000</td>\n",
       "      <td>0.084178</td>\n",
       "      <td>0.795010</td>\n",
       "      <td>0.758845</td>\n",
       "      <td>-0.019035</td>\n",
       "      <td>-0.801075</td>\n",
       "    </tr>\n",
       "    <tr>\n",
       "      <th>V15</th>\n",
       "      <td>-0.136540</td>\n",
       "      <td>0.146481</td>\n",
       "      <td>-0.149978</td>\n",
       "      <td>0.123153</td>\n",
       "      <td>-0.142897</td>\n",
       "      <td>0.100043</td>\n",
       "      <td>-0.029054</td>\n",
       "      <td>0.201710</td>\n",
       "      <td>0.060151</td>\n",
       "      <td>0.098414</td>\n",
       "      <td>0.175050</td>\n",
       "      <td>-0.076753</td>\n",
       "      <td>0.091578</td>\n",
       "      <td>0.107833</td>\n",
       "      <td>0.084178</td>\n",
       "      <td>1.000000</td>\n",
       "      <td>0.065538</td>\n",
       "      <td>0.082921</td>\n",
       "      <td>0.081950</td>\n",
       "      <td>-0.106538</td>\n",
       "    </tr>\n",
       "    <tr>\n",
       "      <th>V16</th>\n",
       "      <td>-0.424671</td>\n",
       "      <td>0.637837</td>\n",
       "      <td>-0.622288</td>\n",
       "      <td>0.751044</td>\n",
       "      <td>-0.716123</td>\n",
       "      <td>0.662956</td>\n",
       "      <td>0.388777</td>\n",
       "      <td>0.753825</td>\n",
       "      <td>-0.167153</td>\n",
       "      <td>0.694292</td>\n",
       "      <td>0.836621</td>\n",
       "      <td>-0.778855</td>\n",
       "      <td>0.888960</td>\n",
       "      <td>-0.107555</td>\n",
       "      <td>0.795010</td>\n",
       "      <td>0.065538</td>\n",
       "      <td>1.000000</td>\n",
       "      <td>0.924908</td>\n",
       "      <td>-0.019527</td>\n",
       "      <td>-0.653850</td>\n",
       "    </tr>\n",
       "    <tr>\n",
       "      <th>V17</th>\n",
       "      <td>-0.390429</td>\n",
       "      <td>0.678927</td>\n",
       "      <td>-0.642195</td>\n",
       "      <td>0.774219</td>\n",
       "      <td>-0.697875</td>\n",
       "      <td>0.715160</td>\n",
       "      <td>0.382124</td>\n",
       "      <td>0.770929</td>\n",
       "      <td>-0.219120</td>\n",
       "      <td>0.743509</td>\n",
       "      <td>0.850097</td>\n",
       "      <td>-0.764829</td>\n",
       "      <td>0.885893</td>\n",
       "      <td>-0.144107</td>\n",
       "      <td>0.758845</td>\n",
       "      <td>0.082921</td>\n",
       "      <td>0.924908</td>\n",
       "      <td>1.000000</td>\n",
       "      <td>-0.037697</td>\n",
       "      <td>-0.628364</td>\n",
       "    </tr>\n",
       "    <tr>\n",
       "      <th>Amount</th>\n",
       "      <td>0.077545</td>\n",
       "      <td>-0.080089</td>\n",
       "      <td>-0.241865</td>\n",
       "      <td>-0.080450</td>\n",
       "      <td>0.074097</td>\n",
       "      <td>-0.267227</td>\n",
       "      <td>0.285051</td>\n",
       "      <td>0.177941</td>\n",
       "      <td>-0.018055</td>\n",
       "      <td>-0.030720</td>\n",
       "      <td>-0.049545</td>\n",
       "      <td>0.031796</td>\n",
       "      <td>-0.033453</td>\n",
       "      <td>0.070494</td>\n",
       "      <td>-0.019035</td>\n",
       "      <td>0.081950</td>\n",
       "      <td>-0.019527</td>\n",
       "      <td>-0.037697</td>\n",
       "      <td>1.000000</td>\n",
       "      <td>0.078267</td>\n",
       "    </tr>\n",
       "    <tr>\n",
       "      <th>Class</th>\n",
       "      <td>0.821607</td>\n",
       "      <td>-0.463474</td>\n",
       "      <td>0.510234</td>\n",
       "      <td>-0.681338</td>\n",
       "      <td>0.725317</td>\n",
       "      <td>-0.409342</td>\n",
       "      <td>-0.386629</td>\n",
       "      <td>-0.548085</td>\n",
       "      <td>0.078246</td>\n",
       "      <td>-0.604809</td>\n",
       "      <td>-0.690164</td>\n",
       "      <td>0.709123</td>\n",
       "      <td>-0.765468</td>\n",
       "      <td>0.027336</td>\n",
       "      <td>-0.801075</td>\n",
       "      <td>-0.106538</td>\n",
       "      <td>-0.653850</td>\n",
       "      <td>-0.628364</td>\n",
       "      <td>0.078267</td>\n",
       "      <td>1.000000</td>\n",
       "    </tr>\n",
       "  </tbody>\n",
       "</table>\n",
       "</div>"
      ],
      "text/plain": [
       "            Time        V1        V2        V3        V4        V5        V6  \\\n",
       "Time    1.000000 -0.256143  0.308258 -0.474813  0.535310 -0.183985 -0.270221   \n",
       "V1     -0.256143  1.000000 -0.773654  0.849711 -0.562700  0.805160  0.278349   \n",
       "V2      0.308258 -0.773654  1.000000 -0.814852  0.614764 -0.712609 -0.280256   \n",
       "V3     -0.474813  0.849711 -0.814852  1.000000 -0.760864  0.812977  0.395356   \n",
       "V4      0.535310 -0.562700  0.614764 -0.760864  1.000000 -0.561688 -0.353338   \n",
       "V5     -0.183985  0.805160 -0.712609  0.812977 -0.561688  1.000000  0.211523   \n",
       "V6     -0.270221  0.278349 -0.280256  0.395356 -0.353338  0.211523  1.000000   \n",
       "V7     -0.344694  0.835186 -0.806965  0.867321 -0.679696  0.741244  0.320359   \n",
       "V8     -0.034956 -0.067070 -0.020537 -0.166011  0.123376 -0.178470 -0.450106   \n",
       "V9     -0.438494  0.609044 -0.633145  0.760679 -0.766447  0.618500  0.346876   \n",
       "V10    -0.479029  0.713638 -0.713307  0.868611 -0.760019  0.723606  0.384778   \n",
       "V11     0.462748 -0.525873  0.595439 -0.739354  0.726486 -0.516079 -0.450484   \n",
       "V12    -0.520973  0.604876 -0.660508  0.810493 -0.820416  0.608979  0.438324   \n",
       "V13    -0.030143 -0.047085  0.025585 -0.094301  0.090949 -0.106445 -0.083002   \n",
       "V14    -0.600597  0.475018 -0.574600  0.721125 -0.786075  0.449965  0.453988   \n",
       "V15    -0.136540  0.146481 -0.149978  0.123153 -0.142897  0.100043 -0.029054   \n",
       "V16    -0.424671  0.637837 -0.622288  0.751044 -0.716123  0.662956  0.388777   \n",
       "V17    -0.390429  0.678927 -0.642195  0.774219 -0.697875  0.715160  0.382124   \n",
       "Amount  0.077545 -0.080089 -0.241865 -0.080450  0.074097 -0.267227  0.285051   \n",
       "Class   0.821607 -0.463474  0.510234 -0.681338  0.725317 -0.409342 -0.386629   \n",
       "\n",
       "              V7        V8        V9       V10       V11       V12       V13  \\\n",
       "Time   -0.344694 -0.034956 -0.438494 -0.479029  0.462748 -0.520973 -0.030143   \n",
       "V1      0.835186 -0.067070  0.609044  0.713638 -0.525873  0.604876 -0.047085   \n",
       "V2     -0.806965 -0.020537 -0.633145 -0.713307  0.595439 -0.660508  0.025585   \n",
       "V3      0.867321 -0.166011  0.760679  0.868611 -0.739354  0.810493 -0.094301   \n",
       "V4     -0.679696  0.123376 -0.766447 -0.760019  0.726486 -0.820416  0.090949   \n",
       "V5      0.741244 -0.178470  0.618500  0.723606 -0.516079  0.608979 -0.106445   \n",
       "V6      0.320359 -0.450106  0.346876  0.384778 -0.450484  0.438324 -0.083002   \n",
       "V7      1.000000  0.059049  0.730983  0.847730 -0.628667  0.730129 -0.027032   \n",
       "V8      0.059049  1.000000 -0.105150 -0.075227  0.153792 -0.171248  0.194216   \n",
       "V9      0.730983 -0.105150  1.000000  0.830269 -0.685369  0.772224 -0.151194   \n",
       "V10     0.847730 -0.075227  0.830269  1.000000 -0.767078  0.873081 -0.067875   \n",
       "V11    -0.628667  0.153792 -0.685369 -0.767078  1.000000 -0.849593  0.048169   \n",
       "V12     0.730129 -0.171248  0.772224  0.873081 -0.849593  1.000000 -0.049469   \n",
       "V13    -0.027032  0.194216 -0.151194 -0.067875  0.048169 -0.049469  1.000000   \n",
       "V14     0.583733 -0.180879  0.661256  0.763819 -0.854107  0.904311 -0.099861   \n",
       "V15     0.201710  0.060151  0.098414  0.175050 -0.076753  0.091578  0.107833   \n",
       "V16     0.753825 -0.167153  0.694292  0.836621 -0.778855  0.888960 -0.107555   \n",
       "V17     0.770929 -0.219120  0.743509  0.850097 -0.764829  0.885893 -0.144107   \n",
       "Amount  0.177941 -0.018055 -0.030720 -0.049545  0.031796 -0.033453  0.070494   \n",
       "Class  -0.548085  0.078246 -0.604809 -0.690164  0.709123 -0.765468  0.027336   \n",
       "\n",
       "             V14       V15       V16       V17    Amount     Class  \n",
       "Time   -0.600597 -0.136540 -0.424671 -0.390429  0.077545  0.821607  \n",
       "V1      0.475018  0.146481  0.637837  0.678927 -0.080089 -0.463474  \n",
       "V2     -0.574600 -0.149978 -0.622288 -0.642195 -0.241865  0.510234  \n",
       "V3      0.721125  0.123153  0.751044  0.774219 -0.080450 -0.681338  \n",
       "V4     -0.786075 -0.142897 -0.716123 -0.697875  0.074097  0.725317  \n",
       "V5      0.449965  0.100043  0.662956  0.715160 -0.267227 -0.409342  \n",
       "V6      0.453988 -0.029054  0.388777  0.382124  0.285051 -0.386629  \n",
       "V7      0.583733  0.201710  0.753825  0.770929  0.177941 -0.548085  \n",
       "V8     -0.180879  0.060151 -0.167153 -0.219120 -0.018055  0.078246  \n",
       "V9      0.661256  0.098414  0.694292  0.743509 -0.030720 -0.604809  \n",
       "V10     0.763819  0.175050  0.836621  0.850097 -0.049545 -0.690164  \n",
       "V11    -0.854107 -0.076753 -0.778855 -0.764829  0.031796  0.709123  \n",
       "V12     0.904311  0.091578  0.888960  0.885893 -0.033453 -0.765468  \n",
       "V13    -0.099861  0.107833 -0.107555 -0.144107  0.070494  0.027336  \n",
       "V14     1.000000  0.084178  0.795010  0.758845 -0.019035 -0.801075  \n",
       "V15     0.084178  1.000000  0.065538  0.082921  0.081950 -0.106538  \n",
       "V16     0.795010  0.065538  1.000000  0.924908 -0.019527 -0.653850  \n",
       "V17     0.758845  0.082921  0.924908  1.000000 -0.037697 -0.628364  \n",
       "Amount -0.019035  0.081950 -0.019527 -0.037697  1.000000  0.078267  \n",
       "Class  -0.801075 -0.106538 -0.653850 -0.628364  0.078267  1.000000  "
      ]
     },
     "execution_count": 48,
     "metadata": {},
     "output_type": "execute_result"
    }
   ],
   "source": [
    "# 1-2 변수간 상관관계를 시각화하고 전처리가 필요함을 설명하라.\n",
    "card3.corr()\n",
    "# Class와 Time, V4, V11, V12, V14, Amount 상관관계가 0.7이상으로 높음\n",
    "# 변수별로 설명설명하고 Class와 상관관계가 높은 변수들이 많아서 분석 정확도가 다소 높을것으로 기대됨\n",
    "# 그러나 변수간에도 상관관계가 높은 Case가 많아서 다중공선성이 우려됨\n",
    "# 예 : V1&V5 0.805160 / V2&V3 -0.814852\t/ V2&V7 -0.806965 / V3&V10 0.868611\n",
    "# 상관관계가 높은 변수들을 전처리해야하나 변수명이 V1, V2로 기입되어 있어서 변수들의 특성을 파악하기가 어려움.\n",
    "# 차원축소등의 방법을 통해서 다중공선성을 감소하고 분석 정확도를 향상시키는 방법 검토 필요함"
   ]
  },
  {
   "cell_type": "code",
   "execution_count": 49,
   "id": "8b32a781",
   "metadata": {},
   "outputs": [
    {
     "ename": "SyntaxError",
     "evalue": "invalid syntax (382245960.py, line 3)",
     "output_type": "error",
     "traceback": [
      "\u001b[1;36m  File \u001b[1;32m\"C:\\Users\\신주현\\AppData\\Local\\Temp\\ipykernel_36216\\382245960.py\"\u001b[1;36m, line \u001b[1;32m3\u001b[0m\n\u001b[1;33m    차원축소의 방법으로는 설명변수 선택 방법과 주성분분석 방법이 잇음\u001b[0m\n\u001b[1;37m              ^\u001b[0m\n\u001b[1;31mSyntaxError\u001b[0m\u001b[1;31m:\u001b[0m invalid syntax\n"
     ]
    }
   ],
   "source": [
    "## 2.차원축소 관련\n",
    "## 2-1. 차원축소의 종류와 장/단점\n",
    "# 차원축소의 방법으로는 설명변수 선택 방법과 주성분분석 방법이 잇음\n",
    "# 설명변수 선택은 자료를 설명하는데 유요한 몇가지의 설명변수만을 분석가가 임의적으로 선택하여 분석에 사용하는 방법이다. 가장 간단하고 해석이 쉬운 방법으로 유용하지 않거나 상관관계가 높은 컬럼은 제거한다.\n",
    "# 장점 : 선택한 설명변수의 해석이 용이하고 수행 과정이 간단함\n",
    "# 단점 : 설명변수 간의 고차원적인 상관관계를 고려하기 어려움\n",
    "\n",
    "# 주성분분석은 차원 축소에서 가장 많이 사용되는 차원 추출의 방법이다. 차원 추출은 기존의 컬럼을 새롭게 해석하여 저차원의 초평명에 투영하는 것이다. \n",
    "# 주성분 분석은 여러 변수간에 존재하는 상관관계를 이용하는 차원축소 방법으로 데이터를 축에 사영했을때 분산이 가장 높은 축을 찾아 그축을 새로운 주성분으로 결정하는 방법이다.\n",
    "# 이러한 방법으로 데이터를 충분히 설명할 수 있는 몇개의 주성분으로 압축한다.\n",
    "# 장점 : 설명변수 간의 고차원적인 상관관계를 고려하여 주성분추출함, 일반적으로 변수의 개수를 많이 축소할 수 있음\n",
    "# 단점 : 주성분 변수에 대한 해석이 어려움"
   ]
  },
  {
   "cell_type": "code",
   "execution_count": 50,
   "id": "adb3ecd2",
   "metadata": {},
   "outputs": [],
   "source": [
    "## 2.2 추천한 한 가지를 실제로 수행하고 선택한 이유 설명\n",
    "# 설명변수간의 복잡한 상관관계를 고려하여 차원을 축소하고자 주성분 추출함.\n",
    "X = card3.drop('Class', axis = 1)\n",
    "y = card3['Class']"
   ]
  },
  {
   "cell_type": "code",
   "execution_count": 52,
   "id": "766e20a3",
   "metadata": {},
   "outputs": [],
   "source": [
    "# 데이터 정규화\n",
    "from sklearn.preprocessing import StandardScaler\n",
    "X_st = StandardScaler().fit_transform(X)"
   ]
  },
  {
   "cell_type": "code",
   "execution_count": 60,
   "id": "241d0d0b",
   "metadata": {},
   "outputs": [
    {
     "name": "stdout",
     "output_type": "stream",
     "text": [
      "고유 값 [143.05086167  56.540801    52.39799685  50.8842438   42.7241933 ]\n",
      "분산 설명력 [0.54067716 0.08446582 0.07254148 0.06841065 0.04822862]\n"
     ]
    }
   ],
   "source": [
    "# 주성분 분석\n",
    "from sklearn.decomposition import PCA\n",
    "pca = PCA(n_components = 5)\n",
    "pca_fit = pca.fit(X_st)\n",
    "\n",
    "print(\"고유 값\", pca.singular_values_)\n",
    "print(\"분산 설명력\", pca.explained_variance_ratio_)"
   ]
  },
  {
   "cell_type": "code",
   "execution_count": 62,
   "id": "15e43c16",
   "metadata": {},
   "outputs": [],
   "source": [
    "pca = PCA(n_components = 4)\n",
    "X_pca = pca.fit_transform(X_st)\n",
    "df_X_pca = pd.DataFrame(data = X_pca, columns = ['pc1', 'pc2', 'pc3', 'pc4'])"
   ]
  },
  {
   "cell_type": "code",
   "execution_count": null,
   "id": "f0127088",
   "metadata": {},
   "outputs": [],
   "source": [
    "y = y.reset_index()\n",
    "card11 = pd.concat([y, df_X_pca], axis = 1)"
   ]
  },
  {
   "cell_type": "code",
   "execution_count": 74,
   "id": "8d6da348",
   "metadata": {},
   "outputs": [
    {
     "data": {
      "text/html": [
       "<div>\n",
       "<style scoped>\n",
       "    .dataframe tbody tr th:only-of-type {\n",
       "        vertical-align: middle;\n",
       "    }\n",
       "\n",
       "    .dataframe tbody tr th {\n",
       "        vertical-align: top;\n",
       "    }\n",
       "\n",
       "    .dataframe thead th {\n",
       "        text-align: right;\n",
       "    }\n",
       "</style>\n",
       "<table border=\"1\" class=\"dataframe\">\n",
       "  <thead>\n",
       "    <tr style=\"text-align: right;\">\n",
       "      <th></th>\n",
       "      <th>Class</th>\n",
       "      <th>pc1</th>\n",
       "      <th>pc2</th>\n",
       "      <th>pc3</th>\n",
       "      <th>pc4</th>\n",
       "    </tr>\n",
       "  </thead>\n",
       "  <tbody>\n",
       "    <tr>\n",
       "      <th>1987</th>\n",
       "      <td>1</td>\n",
       "      <td>2.722594</td>\n",
       "      <td>-0.938242</td>\n",
       "      <td>-0.216754</td>\n",
       "      <td>2.803703</td>\n",
       "    </tr>\n",
       "    <tr>\n",
       "      <th>1988</th>\n",
       "      <td>1</td>\n",
       "      <td>1.716500</td>\n",
       "      <td>-0.873464</td>\n",
       "      <td>-1.619064</td>\n",
       "      <td>2.486336</td>\n",
       "    </tr>\n",
       "    <tr>\n",
       "      <th>1989</th>\n",
       "      <td>1</td>\n",
       "      <td>1.421977</td>\n",
       "      <td>-0.287395</td>\n",
       "      <td>-0.848625</td>\n",
       "      <td>2.099023</td>\n",
       "    </tr>\n",
       "    <tr>\n",
       "      <th>1990</th>\n",
       "      <td>1</td>\n",
       "      <td>2.744881</td>\n",
       "      <td>-1.193591</td>\n",
       "      <td>-0.802556</td>\n",
       "      <td>2.351577</td>\n",
       "    </tr>\n",
       "    <tr>\n",
       "      <th>1991</th>\n",
       "      <td>1</td>\n",
       "      <td>-0.665468</td>\n",
       "      <td>-0.448802</td>\n",
       "      <td>-0.979388</td>\n",
       "      <td>2.099556</td>\n",
       "    </tr>\n",
       "  </tbody>\n",
       "</table>\n",
       "</div>"
      ],
      "text/plain": [
       "      Class       pc1       pc2       pc3       pc4\n",
       "1987      1  2.722594 -0.938242 -0.216754  2.803703\n",
       "1988      1  1.716500 -0.873464 -1.619064  2.486336\n",
       "1989      1  1.421977 -0.287395 -0.848625  2.099023\n",
       "1990      1  2.744881 -1.193591 -0.802556  2.351577\n",
       "1991      1 -0.665468 -0.448802 -0.979388  2.099556"
      ]
     },
     "execution_count": 74,
     "metadata": {},
     "output_type": "execute_result"
    }
   ],
   "source": [
    "card11 = card11.drop('level_0', axis = 1)\n",
    "card11.tail()"
   ]
  },
  {
   "cell_type": "code",
   "execution_count": 75,
   "id": "a13c2baa",
   "metadata": {},
   "outputs": [],
   "source": [
    "## 3. 오버샘플링/언더샘플링 (1번이어서)\n",
    "# 3.1 오버샘플링과 언더샘플링 장단점 비교 및 선택 구현\n",
    "# 3.2 구현 및 알고리즘 2가지 이상 비교, 성능 측정\n",
    "# 3.3 현재까지 전처리한 데이터를 통해 모델 수행 후 결과 분석"
   ]
  },
  {
   "cell_type": "code",
   "execution_count": null,
   "id": "a7cf8d2c",
   "metadata": {},
   "outputs": [],
   "source": [
    "# 3.1 오버샘플링과 언더샘플링 장단점 비교 및 선택 구현\n",
    "# 오버샘플링 장점 : 데이터를 삭제하지 않아서 데이터 손실이 발생하지 않는다. \n",
    "# 오버샘플링 단점 : 오버샘플링 기법에 따라서 동일한 데이터가 증가하여 과적합이 발생할 수 있다.\n",
    "\n",
    "# 언더샘플링 장점 : 데이터의 축소로 데이터 처리속도가 향상됨.\n",
    "# 언더샘플링 단점 : 데이터 축소로 데이터 손실이 발생하고 이로 인한 분석 정확도가 감소함.\n",
    "\n",
    "# 언더 샘플링시에는 데이터 손실로 인한 분석정확도가 감소할 수 있기 때문에 오버 샘플링을 사용한다.\n",
    "# 오버샘플링의 과적합 문제는 SMOTE 기법을 활용하여 최소화할 수 있다."
   ]
  },
  {
   "cell_type": "code",
   "execution_count": null,
   "id": "3b7cc526",
   "metadata": {},
   "outputs": [],
   "source": [
    "# 3.2 구현 및 알고리즘 2가지 이상 비교, 성능 측정\n",
    "# 랜덤 오버샘플링과 SMOTE가 존재하며\n",
    "# 랜덤 오버샘플링은 소수 클래스에 해당하는 데이터는 복제하여 클래스에 비율을 맞추는 방법\n",
    "# SMOTE는 소수 클래스에 해당하는 데이터들의 K-최근접 이웃을 찾아, 해당 데이터와 k개 이웃들의 차이를 일정한 값으로 만들어 기존 데이터와 약간의 차이를 지닌 새로운 데이터를 생성하는 방법\n",
    "# SMOTE 기법을 활용시에 과적합을 예방할 수 있어서 SMOTE를 사용."
   ]
  },
  {
   "cell_type": "code",
   "execution_count": 86,
   "id": "3f355a59",
   "metadata": {},
   "outputs": [],
   "source": [
    "from imblearn.over_sampling import SMOTE\n",
    "from collections import Counter\n",
    "X = card11.drop('Class', axis = 1)\n",
    "y = card11['Class']"
   ]
  },
  {
   "cell_type": "code",
   "execution_count": 90,
   "id": "c14197fd",
   "metadata": {},
   "outputs": [
    {
     "name": "stdout",
     "output_type": "stream",
     "text": [
      "Counter({0: 1500, 1: 1500})\n"
     ]
    }
   ],
   "source": [
    "smote_sample = SMOTE(sampling_strategy = 'minority')\n",
    "X_sm, y_sm = smote_sample.fit_resample(X, y)\n",
    "print(Counter(y_sm))"
   ]
  },
  {
   "cell_type": "code",
   "execution_count": 91,
   "id": "474d1048",
   "metadata": {},
   "outputs": [],
   "source": [
    "# 3-3. 현재까지 전처리한 데이터를 통해 모델 수행 후 결과 분석\n",
    "from sklearn.model_selection import train_test_split\n",
    "\n",
    "X_train, X_test, y_train, y_test = train_test_split(X, y, stratify = y, train_size=0.7, random_state=2023)\n"
   ]
  },
  {
   "cell_type": "code",
   "execution_count": 93,
   "id": "1b673601",
   "metadata": {},
   "outputs": [
    {
     "data": {
      "text/plain": [
       "(1394, 4)"
      ]
     },
     "execution_count": 93,
     "metadata": {},
     "output_type": "execute_result"
    }
   ],
   "source": [
    "X_train.shape"
   ]
  },
  {
   "cell_type": "code",
   "execution_count": 95,
   "id": "8e21c48f",
   "metadata": {},
   "outputs": [
    {
     "data": {
      "text/plain": [
       "(598,)"
      ]
     },
     "execution_count": 95,
     "metadata": {},
     "output_type": "execute_result"
    }
   ],
   "source": [
    "y_test.shape"
   ]
  },
  {
   "cell_type": "code",
   "execution_count": 97,
   "id": "ef6decb9",
   "metadata": {},
   "outputs": [],
   "source": [
    "## LogisticRegression\n",
    "from sklearn.linear_model import LogisticRegression\n",
    "logR = LogisticRegression()\n",
    "logR.fit(X_train, y_train)"
   ]
  },
  {
   "cell_type": "code",
   "execution_count": 103,
   "id": "a49ddb9c",
   "metadata": {},
   "outputs": [],
   "source": [
    "from sklearn.metrics import confusion_matrix, accuracy_score, precision_score, recall_score, f1_score\n",
    "pred = logR.predict(X_test)\n",
    "\n",
    "test_cm = confusion_matrix(y_test, pred)\n",
    "test_acc = accuracy_score(y_test, pred)\n",
    "test_prc = precision_score(y_test, pred)\n",
    "test_rcll = recall_score(y_test, pred)\n",
    "test_f1 = f1_score(y_test, pred)"
   ]
  },
  {
   "cell_type": "code",
   "execution_count": 104,
   "id": "434f2061",
   "metadata": {},
   "outputs": [
    {
     "name": "stdout",
     "output_type": "stream",
     "text": [
      "[[449   1]\n",
      " [  5 143]] 0.9899665551839465 0.9930555555555556 0.9662162162162162 0.9794520547945206\n"
     ]
    }
   ],
   "source": [
    "print(test_cm, test_acc, test_prc, test_rcll, test_f1)"
   ]
  },
  {
   "cell_type": "code",
   "execution_count": 107,
   "id": "93dc58cd",
   "metadata": {},
   "outputs": [
    {
     "data": {
      "text/plain": [
       "SVC(C=0.5)"
      ]
     },
     "execution_count": 107,
     "metadata": {},
     "output_type": "execute_result"
    }
   ],
   "source": [
    "## SVC\n",
    "from sklearn.svm import SVC\n",
    "clf = SVC(C=0.5)\n",
    "clf.fit(X_train, y_train)"
   ]
  },
  {
   "cell_type": "code",
   "execution_count": 114,
   "id": "88180b8b",
   "metadata": {},
   "outputs": [
    {
     "name": "stdout",
     "output_type": "stream",
     "text": [
      "[[450   0]\n",
      " [  6 142]] 0.9899665551839465 1.0 0.9594594594594594 0.9793103448275862\n"
     ]
    }
   ],
   "source": [
    "pred = clf.predict(X_test)\n",
    "\n",
    "test_cm = confusion_matrix(y_test, pred)\n",
    "# TN FP / FP : 음성을 양성으로 판단, 제1종오류\n",
    "# FN TP / FN : 양성을 음성으로 판단, 제2종오류\n",
    "test_acc = accuracy_score(y_test, pred)\n",
    "test_prc = precision_score(y_test, pred)\n",
    "test_rcll = recall_score(y_test, pred)\n",
    "test_f1 = f1_score(y_test, pred)\n",
    "\n",
    "print(test_cm, test_acc, test_prc, test_rcll, test_f1)\n"
   ]
  },
  {
   "cell_type": "code",
   "execution_count": null,
   "id": "7b34c641",
   "metadata": {},
   "outputs": [],
   "source": [
    "## F1 Score가 모두 비슷하나 조금더 높은 SVC모델을 선택함"
   ]
  },
  {
   "cell_type": "code",
   "execution_count": null,
   "id": "ca9770da",
   "metadata": {},
   "outputs": [],
   "source": [
    "# 4번 이상탐지\n",
    "# 4.1 이상탐지 모델 2가지 이상 기술, 장/단점 설명\n",
    "# 4.2 2번에서 만든 데이터로 한 가지 이상탐지 모델을 구현하고, 3번에서 만든 모델과 비교\n",
    "# 4.3 데이터분석과 관점에서 3번에서 만든 모델과 4번에서 만든 모델 설명"
   ]
  },
  {
   "cell_type": "code",
   "execution_count": 113,
   "id": "7d409894",
   "metadata": {},
   "outputs": [
    {
     "data": {
      "text/plain": [
       "0.9594594594594594"
      ]
     },
     "execution_count": 113,
     "metadata": {},
     "output_type": "execute_result"
    }
   ],
   "source": [
    "142/148"
   ]
  },
  {
   "cell_type": "code",
   "execution_count": null,
   "id": "9a7fe555",
   "metadata": {},
   "outputs": [],
   "source": []
  }
 ],
 "metadata": {
  "kernelspec": {
   "display_name": "Python 3",
   "language": "python",
   "name": "python3"
  },
  "language_info": {
   "codemirror_mode": {
    "name": "ipython",
    "version": 3
   },
   "file_extension": ".py",
   "mimetype": "text/x-python",
   "name": "python",
   "nbconvert_exporter": "python",
   "pygments_lexer": "ipython3",
   "version": "3.7.9"
  },
  "vscode": {
   "interpreter": {
    "hash": "5aa634c14859627405404137fecabd2d911e45a844039ce454abb52cf9f696dc"
   }
  }
 },
 "nbformat": 4,
 "nbformat_minor": 5
}
