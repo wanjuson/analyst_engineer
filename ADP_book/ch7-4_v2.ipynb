{
 "cells": [
  {
   "cell_type": "code",
   "execution_count": null,
   "id": "8c5f7e2d",
   "metadata": {},
   "outputs": [],
   "source": [
    "# 제4절. 교차분석(카이제곱 검정)\n",
    "# 설명변수가 범주형 변수인 경우에 사용하는 통계 기법임"
   ]
  },
  {
   "cell_type": "code",
   "execution_count": 1,
   "id": "05144f74",
   "metadata": {},
   "outputs": [
    {
     "name": "stdout",
     "output_type": "stream",
     "text": [
      "<class 'pandas.core.frame.DataFrame'>\n",
      "RangeIndex: 891 entries, 0 to 890\n",
      "Data columns (total 11 columns):\n",
      " #   Column       Non-Null Count  Dtype  \n",
      "---  ------       --------------  -----  \n",
      " 0   survived     891 non-null    int64  \n",
      " 1   pclass       891 non-null    int64  \n",
      " 2   sex          891 non-null    object \n",
      " 3   age          714 non-null    float64\n",
      " 4   sibsp        891 non-null    int64  \n",
      " 5   parch        891 non-null    int64  \n",
      " 6   fare         891 non-null    float64\n",
      " 7   embarked     889 non-null    object \n",
      " 8   class        891 non-null    object \n",
      " 9   adult_male   891 non-null    bool   \n",
      " 10  embark_town  889 non-null    object \n",
      "dtypes: bool(1), float64(2), int64(4), object(4)\n",
      "memory usage: 70.6+ KB\n"
     ]
    }
   ],
   "source": [
    "## 4.1 적합도 검정\n",
    "import pandas as pd\n",
    "# 데이터 불러오기\n",
    "df = pd.read_csv(\"C:/Users/A202112006/Desktop/py/data/titanic.csv\")\n",
    "# titinic 데이터의 구조 확인\n",
    "df.info()"
   ]
  },
  {
   "cell_type": "code",
   "execution_count": 2,
   "id": "4f004783",
   "metadata": {},
   "outputs": [
    {
     "data": {
      "text/plain": [
       "sex   \n",
       "female    233\n",
       "male      109\n",
       "dtype: int64"
      ]
     },
     "execution_count": 2,
     "metadata": {},
     "output_type": "execute_result"
    }
   ],
   "source": [
    "df_t = df[df['survived']==1]\n",
    "table= df_t[['sex']].value_counts()\n",
    "table"
   ]
  },
  {
   "cell_type": "code",
   "execution_count": 4,
   "id": "44dc8147",
   "metadata": {},
   "outputs": [
    {
     "name": "stdout",
     "output_type": "stream",
     "text": [
      "<적합도 검정>\n",
      " Power_divergenceResult(statistic=44.95906432748538, pvalue=2.011967257447723e-11)\n"
     ]
    }
   ],
   "source": [
    "# 유의수준 0.05로 적합도 검정 수행\n",
    "from scipy.stats import chisquare\n",
    "chi = chisquare(table, f_exp=[171,171])\n",
    "print('<적합도 검정>\\n',chi)\n",
    "\n",
    "# 귀무가설 기각. 남자와 여자의 비율은 5:5라고 할 수 없음."
   ]
  },
  {
   "cell_type": "code",
   "execution_count": 6,
   "id": "a9b3a429",
   "metadata": {},
   "outputs": [
    {
     "data": {
      "text/html": [
       "<div>\n",
       "<style scoped>\n",
       "    .dataframe tbody tr th:only-of-type {\n",
       "        vertical-align: middle;\n",
       "    }\n",
       "\n",
       "    .dataframe tbody tr th {\n",
       "        vertical-align: top;\n",
       "    }\n",
       "\n",
       "    .dataframe thead th {\n",
       "        text-align: right;\n",
       "    }\n",
       "</style>\n",
       "<table border=\"1\" class=\"dataframe\">\n",
       "  <thead>\n",
       "    <tr style=\"text-align: right;\">\n",
       "      <th>survived</th>\n",
       "      <th>0</th>\n",
       "      <th>1</th>\n",
       "    </tr>\n",
       "    <tr>\n",
       "      <th>class</th>\n",
       "      <th></th>\n",
       "      <th></th>\n",
       "    </tr>\n",
       "  </thead>\n",
       "  <tbody>\n",
       "    <tr>\n",
       "      <th>First</th>\n",
       "      <td>80</td>\n",
       "      <td>136</td>\n",
       "    </tr>\n",
       "    <tr>\n",
       "      <th>Second</th>\n",
       "      <td>97</td>\n",
       "      <td>87</td>\n",
       "    </tr>\n",
       "    <tr>\n",
       "      <th>Third</th>\n",
       "      <td>372</td>\n",
       "      <td>119</td>\n",
       "    </tr>\n",
       "  </tbody>\n",
       "</table>\n",
       "</div>"
      ],
      "text/plain": [
       "survived    0    1\n",
       "class             \n",
       "First      80  136\n",
       "Second     97   87\n",
       "Third     372  119"
      ]
     },
     "execution_count": 6,
     "metadata": {},
     "output_type": "execute_result"
    }
   ],
   "source": [
    "## 4.2 독립성 검정\n",
    "# 데이터 불러오기\n",
    "df = pd.read_csv(\"C:/Users/A202112006/Desktop/py/data/titanic.csv\")\n",
    "table = pd.crosstab(df['class'], df['survived'])\n",
    "table"
   ]
  },
  {
   "cell_type": "code",
   "execution_count": 8,
   "id": "ebd1a358",
   "metadata": {},
   "outputs": [
    {
     "name": "stdout",
     "output_type": "stream",
     "text": [
      "Statistic: 102.88898875696056\n",
      "p-value: 4.549251711298793e-23\n",
      "df: 2\n",
      "expect: \n",
      " [[133.09090909  82.90909091]\n",
      " [113.37373737  70.62626263]\n",
      " [302.53535354 188.46464646]]\n"
     ]
    }
   ],
   "source": [
    "# 카이제곱 검정을 통한 독립성 검정 수행\n",
    "# 귀무가설 : class 변수와 survived 변수는 독립이다.\n",
    "# 대립가설 : class 변수와 survived 변수는 독립이 아니다.\n",
    "\n",
    "from scipy.stats import chi2_contingency\n",
    "chi, p, df, expect = chi2_contingency(table) \n",
    "print('Statistic:', chi)\n",
    "print('p-value:', p)\n",
    "print('df:', df)\n",
    "print('expect: \\n', expect)\n",
    "\n",
    "# 귀무가설 기각함. class 변수와 survived 변수는 독립이 아니다.\n"
   ]
  },
  {
   "cell_type": "code",
   "execution_count": null,
   "id": "0e1b07a8",
   "metadata": {},
   "outputs": [],
   "source": [
    "## 동질성 검정\n",
    "# 동질성 검정은 모집단이 임의의 변수에 따라 R개의 속성으로 범주화되었을 때, R개의 부분 모집단에서 추출한 표본이 C개의 범주화된 집단의 분포가 서로 동일한지를 검정한다.\n",
    "# 독립성 검정 계산법과 검정 방법이 같음.\n",
    "# 귀무가설 : clase의 분포는 survived에 관계없이 동일하다.\n",
    "# 대립가설 : class의 분포는 survived에 관계없이 동일하지 않다."
   ]
  }
 ],
 "metadata": {
  "kernelspec": {
   "display_name": "Python 3.8.9 64-bit",
   "language": "python",
   "name": "python3"
  },
  "language_info": {
   "codemirror_mode": {
    "name": "ipython",
    "version": 3
   },
   "file_extension": ".py",
   "mimetype": "text/x-python",
   "name": "python",
   "nbconvert_exporter": "python",
   "pygments_lexer": "ipython3",
   "version": "3.8.9"
  },
  "toc": {
   "base_numbering": 1,
   "nav_menu": {},
   "number_sections": true,
   "sideBar": true,
   "skip_h1_title": false,
   "title_cell": "Table of Contents",
   "title_sidebar": "Contents",
   "toc_cell": true,
   "toc_position": {},
   "toc_section_display": true,
   "toc_window_display": true
  },
  "vscode": {
   "interpreter": {
    "hash": "570feb405e2e27c949193ac68f46852414290d515b0ba6e5d90d076ed2284471"
   }
  }
 },
 "nbformat": 4,
 "nbformat_minor": 5
}
