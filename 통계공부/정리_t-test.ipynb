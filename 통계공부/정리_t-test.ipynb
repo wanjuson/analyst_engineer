{
 "cells": [
  {
   "cell_type": "code",
   "execution_count": 2,
   "id": "4c5a81c4",
   "metadata": {},
   "outputs": [],
   "source": [
    "# A 일표본 t-test\n",
    "# B 대응표본 t-test\n",
    "# C 독립표본 t-test"
   ]
  },
  {
   "cell_type": "code",
   "execution_count": null,
   "id": "610b2270",
   "metadata": {},
   "outputs": [],
   "source": [
    "# A 일표본 t-test\n",
    "# a) 단일 모집단에서 관심이 있는 연속형 변수의 평균값을 특정 기준값과 비교한다.\n",
    "# b) 가정 : 모집단의 구성요소들이 정규분포를 이룬다는 가정이다.\n",
    "# - 종속변수는 연속형이어야 한다.\n",
    "# - 검증하고자 하는 기준값이 있어야 한다."
   ]
  },
  {
   "cell_type": "code",
   "execution_count": 19,
   "id": "3dff5c28",
   "metadata": {},
   "outputs": [],
   "source": [
    "# 1. 정규성 검정\n",
    "import pandas as pd\n",
    "import pingouin as pg\n",
    "pg.normality(x)\n",
    "\n",
    "# 1.1 정규성 O\n",
    "pg.ttest(x, mu, alternative='two-sided')\n",
    "\n",
    "# 1.2 정규성 X\n",
    "pg.wilcoxon(x-y, alternative='two-sided')\n"
   ]
  },
  {
   "cell_type": "code",
   "execution_count": 22,
   "id": "e52b9153",
   "metadata": {},
   "outputs": [
    {
     "data": {
      "text/html": [
       "<div>\n",
       "<style scoped>\n",
       "    .dataframe tbody tr th:only-of-type {\n",
       "        vertical-align: middle;\n",
       "    }\n",
       "\n",
       "    .dataframe tbody tr th {\n",
       "        vertical-align: top;\n",
       "    }\n",
       "\n",
       "    .dataframe thead th {\n",
       "        text-align: right;\n",
       "    }\n",
       "</style>\n",
       "<table border=\"1\" class=\"dataframe\">\n",
       "  <thead>\n",
       "    <tr style=\"text-align: right;\">\n",
       "      <th></th>\n",
       "      <th>Sex</th>\n",
       "      <th>Bwt</th>\n",
       "      <th>Hwt</th>\n",
       "    </tr>\n",
       "  </thead>\n",
       "  <tbody>\n",
       "    <tr>\n",
       "      <th>139</th>\n",
       "      <td>M</td>\n",
       "      <td>3.7</td>\n",
       "      <td>11.0</td>\n",
       "    </tr>\n",
       "    <tr>\n",
       "      <th>140</th>\n",
       "      <td>M</td>\n",
       "      <td>3.8</td>\n",
       "      <td>14.8</td>\n",
       "    </tr>\n",
       "    <tr>\n",
       "      <th>141</th>\n",
       "      <td>M</td>\n",
       "      <td>3.8</td>\n",
       "      <td>16.8</td>\n",
       "    </tr>\n",
       "    <tr>\n",
       "      <th>142</th>\n",
       "      <td>M</td>\n",
       "      <td>3.9</td>\n",
       "      <td>14.4</td>\n",
       "    </tr>\n",
       "    <tr>\n",
       "      <th>143</th>\n",
       "      <td>M</td>\n",
       "      <td>3.9</td>\n",
       "      <td>20.5</td>\n",
       "    </tr>\n",
       "  </tbody>\n",
       "</table>\n",
       "</div>"
      ],
      "text/plain": [
       "    Sex  Bwt   Hwt\n",
       "139   M  3.7  11.0\n",
       "140   M  3.8  14.8\n",
       "141   M  3.8  16.8\n",
       "142   M  3.9  14.4\n",
       "143   M  3.9  20.5"
      ]
     },
     "execution_count": 22,
     "metadata": {},
     "output_type": "execute_result"
    }
   ],
   "source": [
    "df = pd.read_csv('C:/adp/data/cats.csv')\n",
    "df.tail()"
   ]
  },
  {
   "cell_type": "code",
   "execution_count": 23,
   "id": "81ddf5f6",
   "metadata": {},
   "outputs": [
    {
     "data": {
      "text/html": [
       "<div>\n",
       "<style scoped>\n",
       "    .dataframe tbody tr th:only-of-type {\n",
       "        vertical-align: middle;\n",
       "    }\n",
       "\n",
       "    .dataframe tbody tr th {\n",
       "        vertical-align: top;\n",
       "    }\n",
       "\n",
       "    .dataframe thead th {\n",
       "        text-align: right;\n",
       "    }\n",
       "</style>\n",
       "<table border=\"1\" class=\"dataframe\">\n",
       "  <thead>\n",
       "    <tr style=\"text-align: right;\">\n",
       "      <th></th>\n",
       "      <th>W</th>\n",
       "      <th>pval</th>\n",
       "      <th>normal</th>\n",
       "    </tr>\n",
       "  </thead>\n",
       "  <tbody>\n",
       "    <tr>\n",
       "      <th>Bwt</th>\n",
       "      <td>0.951879</td>\n",
       "      <td>0.000067</td>\n",
       "      <td>False</td>\n",
       "    </tr>\n",
       "  </tbody>\n",
       "</table>\n",
       "</div>"
      ],
      "text/plain": [
       "            W      pval  normal\n",
       "Bwt  0.951879  0.000067   False"
      ]
     },
     "execution_count": 23,
     "metadata": {},
     "output_type": "execute_result"
    }
   ],
   "source": [
    "# 1. 정규성 검정\n",
    "pg.normality(df['Bwt'])\n",
    "# pval 0.000067이므로 유의수준 0.05보다 작으므로 정규분포를 따르지 않는다."
   ]
  },
  {
   "cell_type": "code",
   "execution_count": 28,
   "id": "9a2ad5a0",
   "metadata": {},
   "outputs": [
    {
     "data": {
      "text/html": [
       "<div>\n",
       "<style scoped>\n",
       "    .dataframe tbody tr th:only-of-type {\n",
       "        vertical-align: middle;\n",
       "    }\n",
       "\n",
       "    .dataframe tbody tr th {\n",
       "        vertical-align: top;\n",
       "    }\n",
       "\n",
       "    .dataframe thead th {\n",
       "        text-align: right;\n",
       "    }\n",
       "</style>\n",
       "<table border=\"1\" class=\"dataframe\">\n",
       "  <thead>\n",
       "    <tr style=\"text-align: right;\">\n",
       "      <th></th>\n",
       "      <th>T</th>\n",
       "      <th>dof</th>\n",
       "      <th>alternative</th>\n",
       "      <th>p-val</th>\n",
       "      <th>CI95%</th>\n",
       "      <th>cohen-d</th>\n",
       "      <th>BF10</th>\n",
       "      <th>power</th>\n",
       "    </tr>\n",
       "  </thead>\n",
       "  <tbody>\n",
       "    <tr>\n",
       "      <th>T-test</th>\n",
       "      <td>3.056487</td>\n",
       "      <td>143</td>\n",
       "      <td>two-sided</td>\n",
       "      <td>0.002673</td>\n",
       "      <td>[2.64, 2.8]</td>\n",
       "      <td>0.254707</td>\n",
       "      <td>7.87</td>\n",
       "      <td>0.859022</td>\n",
       "    </tr>\n",
       "  </tbody>\n",
       "</table>\n",
       "</div>"
      ],
      "text/plain": [
       "               T  dof alternative     p-val        CI95%   cohen-d  BF10  \\\n",
       "T-test  3.056487  143   two-sided  0.002673  [2.64, 2.8]  0.254707  7.87   \n",
       "\n",
       "           power  \n",
       "T-test  0.859022  "
      ]
     },
     "execution_count": 28,
     "metadata": {},
     "output_type": "execute_result"
    }
   ],
   "source": [
    "# 1.1 정규성 O\n",
    "mu = 2.6\n",
    "pg.ttest(df['Bwt'], mu, alternative='two-sided')\n",
    "# p-val 0.002673로 유의수준 0.05보다 작으므로 평균이 2.6이라고 할 수 없다."
   ]
  },
  {
   "cell_type": "code",
   "execution_count": 34,
   "id": "730da298",
   "metadata": {},
   "outputs": [
    {
     "data": {
      "text/html": [
       "<div>\n",
       "<style scoped>\n",
       "    .dataframe tbody tr th:only-of-type {\n",
       "        vertical-align: middle;\n",
       "    }\n",
       "\n",
       "    .dataframe tbody tr th {\n",
       "        vertical-align: top;\n",
       "    }\n",
       "\n",
       "    .dataframe thead th {\n",
       "        text-align: right;\n",
       "    }\n",
       "</style>\n",
       "<table border=\"1\" class=\"dataframe\">\n",
       "  <thead>\n",
       "    <tr style=\"text-align: right;\">\n",
       "      <th></th>\n",
       "      <th>W-val</th>\n",
       "      <th>alternative</th>\n",
       "      <th>p-val</th>\n",
       "      <th>RBC</th>\n",
       "      <th>CLES</th>\n",
       "    </tr>\n",
       "  </thead>\n",
       "  <tbody>\n",
       "    <tr>\n",
       "      <th>Wilcoxon</th>\n",
       "      <td>3573.0</td>\n",
       "      <td>two-sided</td>\n",
       "      <td>0.025317</td>\n",
       "      <td>0.221569</td>\n",
       "      <td>NaN</td>\n",
       "    </tr>\n",
       "  </tbody>\n",
       "</table>\n",
       "</div>"
      ],
      "text/plain": [
       "           W-val alternative     p-val       RBC  CLES\n",
       "Wilcoxon  3573.0   two-sided  0.025317  0.221569   NaN"
      ]
     },
     "execution_count": 34,
     "metadata": {},
     "output_type": "execute_result"
    }
   ],
   "source": [
    "# 1.2 정규성 X\n",
    "pg.wilcoxon(df['Bwt'] - mu, alternative='two-sided')\n",
    "# p-val 0.025317로 유의수준 0.05보다 작으므로 평균이 2.6이라고 할 수 없다."
   ]
  },
  {
   "cell_type": "code",
   "execution_count": 32,
   "id": "83585aa1",
   "metadata": {},
   "outputs": [
    {
     "data": {
      "text/plain": [
       "144"
      ]
     },
     "execution_count": 32,
     "metadata": {},
     "output_type": "execute_result"
    }
   ],
   "source": [
    "# B 대응표본 t-test\n",
    "# a) 단일모집단에 대해 어떠한 처리를 가했을 때, 처리 전후에 따른 평균의 차이를 비교할 때 사용한다.\n",
    "# b) 표본 내에 개체들에 대해 두번의 측정을 한다.(같은 집단이므로 등분산성 만족)\n",
    "# c) 모집단의 관측값이 정규성을 만족해야 한다는 가정이 있다."
   ]
  },
  {
   "cell_type": "code",
   "execution_count": null,
   "id": "b5f7918f",
   "metadata": {},
   "outputs": [],
   "source": [
    "# 1. 정규성 검정\n",
    "import pandas as pd\n",
    "import pingouin as pg\n",
    "pg.normality(x)\n",
    "\n",
    "# 1.1 정규성 O\n",
    "pg.ttest(x, mu, paired=True, alternative='two-sided')\n",
    "\n",
    "# 1.2 정규성 X\n",
    "pg.wilcoxon(x, y, alternative='two-sided')"
   ]
  },
  {
   "cell_type": "code",
   "execution_count": 41,
   "id": "426bb052",
   "metadata": {},
   "outputs": [
    {
     "data": {
      "text/html": [
       "<div>\n",
       "<style scoped>\n",
       "    .dataframe tbody tr th:only-of-type {\n",
       "        vertical-align: middle;\n",
       "    }\n",
       "\n",
       "    .dataframe tbody tr th {\n",
       "        vertical-align: top;\n",
       "    }\n",
       "\n",
       "    .dataframe thead th {\n",
       "        text-align: right;\n",
       "    }\n",
       "</style>\n",
       "<table border=\"1\" class=\"dataframe\">\n",
       "  <thead>\n",
       "    <tr style=\"text-align: right;\">\n",
       "      <th></th>\n",
       "      <th>before</th>\n",
       "      <th>after</th>\n",
       "    </tr>\n",
       "  </thead>\n",
       "  <tbody>\n",
       "    <tr>\n",
       "      <th>5</th>\n",
       "      <td>1</td>\n",
       "      <td>3</td>\n",
       "    </tr>\n",
       "    <tr>\n",
       "      <th>6</th>\n",
       "      <td>6</td>\n",
       "      <td>6</td>\n",
       "    </tr>\n",
       "    <tr>\n",
       "      <th>7</th>\n",
       "      <td>6</td>\n",
       "      <td>8</td>\n",
       "    </tr>\n",
       "    <tr>\n",
       "      <th>8</th>\n",
       "      <td>5</td>\n",
       "      <td>6</td>\n",
       "    </tr>\n",
       "    <tr>\n",
       "      <th>9</th>\n",
       "      <td>4</td>\n",
       "      <td>5</td>\n",
       "    </tr>\n",
       "  </tbody>\n",
       "</table>\n",
       "</div>"
      ],
      "text/plain": [
       "   before  after\n",
       "5       1      3\n",
       "6       6      6\n",
       "7       6      8\n",
       "8       5      6\n",
       "9       4      5"
      ]
     },
     "execution_count": 41,
     "metadata": {},
     "output_type": "execute_result"
    }
   ],
   "source": [
    "data = {'before' : [7,3,4,5,2,1,6,6,5,4],\n",
    "        'after' : [8,4,5,6,2,3,6,8,6,5] }\n",
    "data = pd.DataFrame(data)\n",
    "data.tail()"
   ]
  },
  {
   "cell_type": "code",
   "execution_count": 43,
   "id": "b257878d",
   "metadata": {},
   "outputs": [
    {
     "data": {
      "text/html": [
       "<div>\n",
       "<style scoped>\n",
       "    .dataframe tbody tr th:only-of-type {\n",
       "        vertical-align: middle;\n",
       "    }\n",
       "\n",
       "    .dataframe tbody tr th {\n",
       "        vertical-align: top;\n",
       "    }\n",
       "\n",
       "    .dataframe thead th {\n",
       "        text-align: right;\n",
       "    }\n",
       "</style>\n",
       "<table border=\"1\" class=\"dataframe\">\n",
       "  <thead>\n",
       "    <tr style=\"text-align: right;\">\n",
       "      <th></th>\n",
       "      <th>W</th>\n",
       "      <th>pval</th>\n",
       "      <th>normal</th>\n",
       "    </tr>\n",
       "  </thead>\n",
       "  <tbody>\n",
       "    <tr>\n",
       "      <th>before</th>\n",
       "      <td>0.964460</td>\n",
       "      <td>0.835271</td>\n",
       "      <td>True</td>\n",
       "    </tr>\n",
       "    <tr>\n",
       "      <th>after</th>\n",
       "      <td>0.945684</td>\n",
       "      <td>0.617799</td>\n",
       "      <td>True</td>\n",
       "    </tr>\n",
       "  </tbody>\n",
       "</table>\n",
       "</div>"
      ],
      "text/plain": [
       "               W      pval  normal\n",
       "before  0.964460  0.835271    True\n",
       "after   0.945684  0.617799    True"
      ]
     },
     "execution_count": 43,
     "metadata": {},
     "output_type": "execute_result"
    }
   ],
   "source": [
    "# 1. 정규성 검정\n",
    "import pandas as pd\n",
    "import pingouin as pg\n",
    "pg.normality(data)\n",
    "# pval이 모두 0.05보다 크므로 정규분포를 따른다."
   ]
  },
  {
   "cell_type": "code",
   "execution_count": 61,
   "id": "827ab040",
   "metadata": {},
   "outputs": [
    {
     "data": {
      "text/html": [
       "<div>\n",
       "<style scoped>\n",
       "    .dataframe tbody tr th:only-of-type {\n",
       "        vertical-align: middle;\n",
       "    }\n",
       "\n",
       "    .dataframe tbody tr th {\n",
       "        vertical-align: top;\n",
       "    }\n",
       "\n",
       "    .dataframe thead th {\n",
       "        text-align: right;\n",
       "    }\n",
       "</style>\n",
       "<table border=\"1\" class=\"dataframe\">\n",
       "  <thead>\n",
       "    <tr style=\"text-align: right;\">\n",
       "      <th></th>\n",
       "      <th>T</th>\n",
       "      <th>dof</th>\n",
       "      <th>alternative</th>\n",
       "      <th>p-val</th>\n",
       "      <th>CI95%</th>\n",
       "      <th>cohen-d</th>\n",
       "      <th>BF10</th>\n",
       "      <th>power</th>\n",
       "    </tr>\n",
       "  </thead>\n",
       "  <tbody>\n",
       "    <tr>\n",
       "      <th>T-test</th>\n",
       "      <td>4.743416</td>\n",
       "      <td>9</td>\n",
       "      <td>greater</td>\n",
       "      <td>0.000527</td>\n",
       "      <td>[0.61, inf]</td>\n",
       "      <td>0.521443</td>\n",
       "      <td>78.226</td>\n",
       "      <td>0.45191</td>\n",
       "    </tr>\n",
       "  </tbody>\n",
       "</table>\n",
       "</div>"
      ],
      "text/plain": [
       "               T  dof alternative     p-val        CI95%   cohen-d    BF10  \\\n",
       "T-test  4.743416    9     greater  0.000527  [0.61, inf]  0.521443  78.226   \n",
       "\n",
       "          power  \n",
       "T-test  0.45191  "
      ]
     },
     "execution_count": 61,
     "metadata": {},
     "output_type": "execute_result"
    }
   ],
   "source": [
    "# 1.1 정규성 O\n",
    "pg.ttest(data['after'], data['before'], paired=True, alternative='greater')\n",
    "# pval이 0.05보다 작으므로 귀무가설을 기각한다. after, bofore 간의 차이는 통계적으로 유의하며 after는 before보다 커졌다."
   ]
  },
  {
   "cell_type": "code",
   "execution_count": 63,
   "id": "542759cc",
   "metadata": {},
   "outputs": [
    {
     "name": "stderr",
     "output_type": "stream",
     "text": [
      "C:\\Users\\신주현\\AppData\\Roaming\\Python\\Python37\\site-packages\\scipy\\stats\\morestats.py:3141: UserWarning: Exact p-value calculation does not work if there are ties. Switching to normal approximation.\n",
      "  warnings.warn(\"Exact p-value calculation does not work if there are \"\n",
      "C:\\Users\\신주현\\AppData\\Roaming\\Python\\Python37\\site-packages\\scipy\\stats\\morestats.py:3155: UserWarning: Sample size too small for normal approximation.\n",
      "  warnings.warn(\"Sample size too small for normal approximation.\")\n"
     ]
    },
    {
     "data": {
      "text/html": [
       "<div>\n",
       "<style scoped>\n",
       "    .dataframe tbody tr th:only-of-type {\n",
       "        vertical-align: middle;\n",
       "    }\n",
       "\n",
       "    .dataframe tbody tr th {\n",
       "        vertical-align: top;\n",
       "    }\n",
       "\n",
       "    .dataframe thead th {\n",
       "        text-align: right;\n",
       "    }\n",
       "</style>\n",
       "<table border=\"1\" class=\"dataframe\">\n",
       "  <thead>\n",
       "    <tr style=\"text-align: right;\">\n",
       "      <th></th>\n",
       "      <th>W-val</th>\n",
       "      <th>alternative</th>\n",
       "      <th>p-val</th>\n",
       "      <th>RBC</th>\n",
       "      <th>CLES</th>\n",
       "    </tr>\n",
       "  </thead>\n",
       "  <tbody>\n",
       "    <tr>\n",
       "      <th>Wilcoxon</th>\n",
       "      <td>36.0</td>\n",
       "      <td>greater</td>\n",
       "      <td>0.005139</td>\n",
       "      <td>1.0</td>\n",
       "      <td>0.64</td>\n",
       "    </tr>\n",
       "  </tbody>\n",
       "</table>\n",
       "</div>"
      ],
      "text/plain": [
       "          W-val alternative     p-val  RBC  CLES\n",
       "Wilcoxon   36.0     greater  0.005139  1.0  0.64"
      ]
     },
     "execution_count": 63,
     "metadata": {},
     "output_type": "execute_result"
    }
   ],
   "source": [
    "# 1.2 정규성 X\n",
    "pg.wilcoxon(data['after'], data['before'], alternative='greater')\n",
    "# pval이 0.05보다 작으므로 귀무가설을 기각한다. after, bofore 간의 차이는 통계적으로 유의하며 after는 before보다 커졌다."
   ]
  },
  {
   "cell_type": "code",
   "execution_count": null,
   "id": "2b58fd4d",
   "metadata": {},
   "outputs": [],
   "source": [
    "# C 독립표본 t-test\n",
    "# a)두개의 독립된 모집단의 평균을 비교할 때 사용한다.\n",
    "# b)그러므로 모집단, 모수, 표본이 모두 두개씩 존재한다. (등분산성 가정을 해주어야 함)\n",
    "# c)가정\n",
    "#  - 두 모집단은 정규성을 만족해야 한다.\n",
    "#  - 두 모집단의 분산이 서로 같아야 한다.(등분산성 가정)"
   ]
  },
  {
   "cell_type": "code",
   "execution_count": null,
   "id": "18466120",
   "metadata": {},
   "outputs": [],
   "source": [
    "# 1. 정규성 검정\n",
    "import pandas as pd\n",
    "import pingouin as pg\n",
    "pg.normality(x)\n",
    "\n",
    "# 2. 등분산성\n",
    "pg.homoscedasticity(dv = 'score', group = 'Sex', data = df)\n",
    "\n",
    "# 2.1 정규성 O 등분산성 O\n",
    "pg.ttest(x, y)\n",
    "\n",
    "# 2.2 정규성 O 등분산성 X / Welch t-test\n",
    "pg.ttest(x, y)\n",
    "\n",
    "# 2.3 정규성 X\n",
    "pg.wilcoxon(x, y, alternative='two-sided')"
   ]
  },
  {
   "cell_type": "code",
   "execution_count": 29,
   "id": "84f373e7",
   "metadata": {},
   "outputs": [],
   "source": [
    "df = pd.read_csv('C:/adp/data/cats.csv')\n",
    "female = df.loc[df.Sex == 'F', 'Bwt']\n",
    "male = df.loc[df.Sex == 'M', 'Bwt']"
   ]
  },
  {
   "cell_type": "code",
   "execution_count": 30,
   "id": "d5e2de40",
   "metadata": {},
   "outputs": [
    {
     "name": "stdout",
     "output_type": "stream",
     "text": [
      "            W      pval  normal\n",
      "Bwt  0.890961  0.000375   False\n",
      "            W      pval  normal\n",
      "Bwt  0.978832  0.118957    True\n"
     ]
    }
   ],
   "source": [
    "# 1. 정규성 검정\n",
    "import pandas as pd\n",
    "import pingouin as pg\n",
    "print(pg.normality(female))\n",
    "print(pg.normality(male))\n",
    "# female은 pval 0.000375로 0.05보다 작아서 정규분포를 이루지 않는다.\n",
    "# male은 pval 0.118957로 0.05보다 커서 정규분포를 따른다."
   ]
  },
  {
   "cell_type": "code",
   "execution_count": 31,
   "id": "b2b34d87",
   "metadata": {},
   "outputs": [
    {
     "data": {
      "text/html": [
       "<div>\n",
       "<style scoped>\n",
       "    .dataframe tbody tr th:only-of-type {\n",
       "        vertical-align: middle;\n",
       "    }\n",
       "\n",
       "    .dataframe tbody tr th {\n",
       "        vertical-align: top;\n",
       "    }\n",
       "\n",
       "    .dataframe thead th {\n",
       "        text-align: right;\n",
       "    }\n",
       "</style>\n",
       "<table border=\"1\" class=\"dataframe\">\n",
       "  <thead>\n",
       "    <tr style=\"text-align: right;\">\n",
       "      <th></th>\n",
       "      <th>W</th>\n",
       "      <th>pval</th>\n",
       "      <th>equal_var</th>\n",
       "    </tr>\n",
       "  </thead>\n",
       "  <tbody>\n",
       "    <tr>\n",
       "      <th>levene</th>\n",
       "      <td>19.431012</td>\n",
       "      <td>0.00002</td>\n",
       "      <td>False</td>\n",
       "    </tr>\n",
       "  </tbody>\n",
       "</table>\n",
       "</div>"
      ],
      "text/plain": [
       "                W     pval  equal_var\n",
       "levene  19.431012  0.00002      False"
      ]
     },
     "execution_count": 31,
     "metadata": {},
     "output_type": "execute_result"
    }
   ],
   "source": [
    "# 2. 등분산성\n",
    "pg.homoscedasticity(dv = 'Bwt', group = 'Sex', data = df)\n",
    "# pval 0.00002로 유의수준 0.05하에서 모든 집단의 분산은 같지 않다."
   ]
  },
  {
   "cell_type": "code",
   "execution_count": 32,
   "id": "60de7380",
   "metadata": {},
   "outputs": [
    {
     "data": {
      "text/html": [
       "<div>\n",
       "<style scoped>\n",
       "    .dataframe tbody tr th:only-of-type {\n",
       "        vertical-align: middle;\n",
       "    }\n",
       "\n",
       "    .dataframe tbody tr th {\n",
       "        vertical-align: top;\n",
       "    }\n",
       "\n",
       "    .dataframe thead th {\n",
       "        text-align: right;\n",
       "    }\n",
       "</style>\n",
       "<table border=\"1\" class=\"dataframe\">\n",
       "  <thead>\n",
       "    <tr style=\"text-align: right;\">\n",
       "      <th></th>\n",
       "      <th>T</th>\n",
       "      <th>dof</th>\n",
       "      <th>alternative</th>\n",
       "      <th>p-val</th>\n",
       "      <th>CI95%</th>\n",
       "      <th>cohen-d</th>\n",
       "      <th>BF10</th>\n",
       "      <th>power</th>\n",
       "    </tr>\n",
       "  </thead>\n",
       "  <tbody>\n",
       "    <tr>\n",
       "      <th>T-test</th>\n",
       "      <td>8.709488</td>\n",
       "      <td>136.837883</td>\n",
       "      <td>two-sided</td>\n",
       "      <td>8.831034e-15</td>\n",
       "      <td>[0.42, 0.66]</td>\n",
       "      <td>1.302837</td>\n",
       "      <td>6.959e+11</td>\n",
       "      <td>1.0</td>\n",
       "    </tr>\n",
       "  </tbody>\n",
       "</table>\n",
       "</div>"
      ],
      "text/plain": [
       "               T         dof alternative         p-val         CI95%  \\\n",
       "T-test  8.709488  136.837883   two-sided  8.831034e-15  [0.42, 0.66]   \n",
       "\n",
       "         cohen-d       BF10  power  \n",
       "T-test  1.302837  6.959e+11    1.0  "
      ]
     },
     "execution_count": 32,
     "metadata": {},
     "output_type": "execute_result"
    }
   ],
   "source": [
    "# 2.1 정규성 O 등분산성 O\n",
    "pg.ttest(male, female)\n",
    "# p-val 8.831034e-15로 유의수준 0.05보다 작으므로 귀무가설을 기가한다.\n",
    "# 즉, 남자와 여자의 몸구게 차이는 존재한다."
   ]
  },
  {
   "cell_type": "code",
   "execution_count": 33,
   "id": "8a0b3683",
   "metadata": {},
   "outputs": [
    {
     "data": {
      "text/html": [
       "<div>\n",
       "<style scoped>\n",
       "    .dataframe tbody tr th:only-of-type {\n",
       "        vertical-align: middle;\n",
       "    }\n",
       "\n",
       "    .dataframe tbody tr th {\n",
       "        vertical-align: top;\n",
       "    }\n",
       "\n",
       "    .dataframe thead th {\n",
       "        text-align: right;\n",
       "    }\n",
       "</style>\n",
       "<table border=\"1\" class=\"dataframe\">\n",
       "  <thead>\n",
       "    <tr style=\"text-align: right;\">\n",
       "      <th></th>\n",
       "      <th>T</th>\n",
       "      <th>dof</th>\n",
       "      <th>alternative</th>\n",
       "      <th>p-val</th>\n",
       "      <th>CI95%</th>\n",
       "      <th>cohen-d</th>\n",
       "      <th>BF10</th>\n",
       "      <th>power</th>\n",
       "    </tr>\n",
       "  </thead>\n",
       "  <tbody>\n",
       "    <tr>\n",
       "      <th>T-test</th>\n",
       "      <td>8.709488</td>\n",
       "      <td>136.837883</td>\n",
       "      <td>two-sided</td>\n",
       "      <td>8.831034e-15</td>\n",
       "      <td>[0.42, 0.66]</td>\n",
       "      <td>1.302837</td>\n",
       "      <td>6.959e+11</td>\n",
       "      <td>1.0</td>\n",
       "    </tr>\n",
       "  </tbody>\n",
       "</table>\n",
       "</div>"
      ],
      "text/plain": [
       "               T         dof alternative         p-val         CI95%  \\\n",
       "T-test  8.709488  136.837883   two-sided  8.831034e-15  [0.42, 0.66]   \n",
       "\n",
       "         cohen-d       BF10  power  \n",
       "T-test  1.302837  6.959e+11    1.0  "
      ]
     },
     "execution_count": 33,
     "metadata": {},
     "output_type": "execute_result"
    }
   ],
   "source": [
    "# 2.2 정규성 O 등분산성 X / Welch t-test\n",
    "pg.ttest(male, female)\n",
    "# pg.ttest(df[df['group'] == 'Deagu']['height'], df[df['group'] == 'Seoul']['height'], correction=True)\n",
    "# p-val 8.831034e-15로 유의수준 0.05보다 작으므로 귀무가설을 기각한다. 즉, 남자와 여자의 몸구게 차이는 존재한다."
   ]
  },
  {
   "cell_type": "code",
   "execution_count": 34,
   "id": "e2d07572",
   "metadata": {},
   "outputs": [
    {
     "data": {
      "text/html": [
       "<div>\n",
       "<style scoped>\n",
       "    .dataframe tbody tr th:only-of-type {\n",
       "        vertical-align: middle;\n",
       "    }\n",
       "\n",
       "    .dataframe tbody tr th {\n",
       "        vertical-align: top;\n",
       "    }\n",
       "\n",
       "    .dataframe thead th {\n",
       "        text-align: right;\n",
       "    }\n",
       "</style>\n",
       "<table border=\"1\" class=\"dataframe\">\n",
       "  <thead>\n",
       "    <tr style=\"text-align: right;\">\n",
       "      <th></th>\n",
       "      <th>T</th>\n",
       "      <th>dof</th>\n",
       "      <th>alternative</th>\n",
       "      <th>p-val</th>\n",
       "      <th>CI95%</th>\n",
       "      <th>cohen-d</th>\n",
       "      <th>BF10</th>\n",
       "      <th>power</th>\n",
       "    </tr>\n",
       "  </thead>\n",
       "  <tbody>\n",
       "    <tr>\n",
       "      <th>T-test</th>\n",
       "      <td>7.330667</td>\n",
       "      <td>142</td>\n",
       "      <td>two-sided</td>\n",
       "      <td>1.590445e-11</td>\n",
       "      <td>[0.39, 0.69]</td>\n",
       "      <td>1.302837</td>\n",
       "      <td>4.365e+08</td>\n",
       "      <td>1.0</td>\n",
       "    </tr>\n",
       "  </tbody>\n",
       "</table>\n",
       "</div>"
      ],
      "text/plain": [
       "               T  dof alternative         p-val         CI95%   cohen-d  \\\n",
       "T-test  7.330667  142   two-sided  1.590445e-11  [0.39, 0.69]  1.302837   \n",
       "\n",
       "             BF10  power  \n",
       "T-test  4.365e+08    1.0  "
      ]
     },
     "execution_count": 34,
     "metadata": {},
     "output_type": "execute_result"
    }
   ],
   "source": [
    "# 2.2 정규성 O 등분산성 X / Welch t-test\n",
    "pg.ttest(male, female, correction=False)\n",
    "# p-val 8.831034e-15로 유의수준 0.05보다 작으므로 귀무가설을 기각한다. 즉, 남자와 여자의 몸구게 차이는 존재한다."
   ]
  },
  {
   "cell_type": "code",
   "execution_count": 99,
   "id": "ca3153bd",
   "metadata": {},
   "outputs": [
    {
     "data": {
      "text/html": [
       "<div>\n",
       "<style scoped>\n",
       "    .dataframe tbody tr th:only-of-type {\n",
       "        vertical-align: middle;\n",
       "    }\n",
       "\n",
       "    .dataframe tbody tr th {\n",
       "        vertical-align: top;\n",
       "    }\n",
       "\n",
       "    .dataframe thead th {\n",
       "        text-align: right;\n",
       "    }\n",
       "</style>\n",
       "<table border=\"1\" class=\"dataframe\">\n",
       "  <thead>\n",
       "    <tr style=\"text-align: right;\">\n",
       "      <th></th>\n",
       "      <th>W-val</th>\n",
       "      <th>alternative</th>\n",
       "      <th>p-val</th>\n",
       "      <th>RBC</th>\n",
       "      <th>CLES</th>\n",
       "    </tr>\n",
       "  </thead>\n",
       "  <tbody>\n",
       "    <tr>\n",
       "      <th>Wilcoxon</th>\n",
       "      <td>0.0</td>\n",
       "      <td>two-sided</td>\n",
       "      <td>9.358939e-08</td>\n",
       "      <td>1.0</td>\n",
       "      <td>0.74622</td>\n",
       "    </tr>\n",
       "  </tbody>\n",
       "</table>\n",
       "</div>"
      ],
      "text/plain": [
       "          W-val alternative         p-val  RBC     CLES\n",
       "Wilcoxon    0.0   two-sided  9.358939e-08  1.0  0.74622"
      ]
     },
     "execution_count": 99,
     "metadata": {},
     "output_type": "execute_result"
    }
   ],
   "source": [
    "# 2.3 정규성 X\n",
    "pg.wilcoxon(male[1:40], female[1:40], alternative='two-sided') # data size가 동일할때만 가능\n",
    "# pval이 0.05보다 작으므로 귀무가설을 기각한다. 즉, 남자와 여자의 몸구게 차이는 존재한다."
   ]
  }
 ],
 "metadata": {
  "kernelspec": {
   "display_name": "Python 3 (ipykernel)",
   "language": "python",
   "name": "python3"
  },
  "language_info": {
   "codemirror_mode": {
    "name": "ipython",
    "version": 3
   },
   "file_extension": ".py",
   "mimetype": "text/x-python",
   "name": "python",
   "nbconvert_exporter": "python",
   "pygments_lexer": "ipython3",
   "version": "3.7.9"
  },
  "toc": {
   "base_numbering": 1,
   "nav_menu": {},
   "number_sections": true,
   "sideBar": true,
   "skip_h1_title": false,
   "title_cell": "Table of Contents",
   "title_sidebar": "Contents",
   "toc_cell": true,
   "toc_position": {},
   "toc_section_display": true,
   "toc_window_display": true
  }
 },
 "nbformat": 4,
 "nbformat_minor": 5
}
