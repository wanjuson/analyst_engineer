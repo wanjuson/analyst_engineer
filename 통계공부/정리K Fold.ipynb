{
 "cells": [
  {
   "cell_type": "code",
   "execution_count": null,
   "id": "cacd3bf8",
   "metadata": {},
   "outputs": [],
   "source": [
    "## [Sklearn] 파이썬 K-Fold 교차 검증 예제(KFold, StratifiedKFold 함수)\n",
    "# https://jimmy-ai.tistory.com/178"
   ]
  },
  {
   "cell_type": "code",
   "execution_count": 2,
   "id": "088be6de",
   "metadata": {},
   "outputs": [
    {
     "data": {
      "text/html": [
       "<div>\n",
       "<style scoped>\n",
       "    .dataframe tbody tr th:only-of-type {\n",
       "        vertical-align: middle;\n",
       "    }\n",
       "\n",
       "    .dataframe tbody tr th {\n",
       "        vertical-align: top;\n",
       "    }\n",
       "\n",
       "    .dataframe thead th {\n",
       "        text-align: right;\n",
       "    }\n",
       "</style>\n",
       "<table border=\"1\" class=\"dataframe\">\n",
       "  <thead>\n",
       "    <tr style=\"text-align: right;\">\n",
       "      <th></th>\n",
       "      <th>sepal length</th>\n",
       "      <th>sepal width</th>\n",
       "      <th>petal length</th>\n",
       "      <th>petal width</th>\n",
       "      <th>class</th>\n",
       "    </tr>\n",
       "  </thead>\n",
       "  <tbody>\n",
       "    <tr>\n",
       "      <th>145</th>\n",
       "      <td>6.7</td>\n",
       "      <td>3.0</td>\n",
       "      <td>5.2</td>\n",
       "      <td>2.3</td>\n",
       "      <td>2.0</td>\n",
       "    </tr>\n",
       "    <tr>\n",
       "      <th>146</th>\n",
       "      <td>6.3</td>\n",
       "      <td>2.5</td>\n",
       "      <td>5.0</td>\n",
       "      <td>1.9</td>\n",
       "      <td>2.0</td>\n",
       "    </tr>\n",
       "    <tr>\n",
       "      <th>147</th>\n",
       "      <td>6.5</td>\n",
       "      <td>3.0</td>\n",
       "      <td>5.2</td>\n",
       "      <td>2.0</td>\n",
       "      <td>2.0</td>\n",
       "    </tr>\n",
       "    <tr>\n",
       "      <th>148</th>\n",
       "      <td>6.2</td>\n",
       "      <td>3.4</td>\n",
       "      <td>5.4</td>\n",
       "      <td>2.3</td>\n",
       "      <td>2.0</td>\n",
       "    </tr>\n",
       "    <tr>\n",
       "      <th>149</th>\n",
       "      <td>5.9</td>\n",
       "      <td>3.0</td>\n",
       "      <td>5.1</td>\n",
       "      <td>1.8</td>\n",
       "      <td>2.0</td>\n",
       "    </tr>\n",
       "  </tbody>\n",
       "</table>\n",
       "</div>"
      ],
      "text/plain": [
       "     sepal length  sepal width  petal length  petal width  class\n",
       "145           6.7          3.0           5.2          2.3    2.0\n",
       "146           6.3          2.5           5.0          1.9    2.0\n",
       "147           6.5          3.0           5.2          2.0    2.0\n",
       "148           6.2          3.4           5.4          2.3    2.0\n",
       "149           5.9          3.0           5.1          1.8    2.0"
      ]
     },
     "execution_count": 2,
     "metadata": {},
     "output_type": "execute_result"
    }
   ],
   "source": [
    "from sklearn.datasets import load_iris\n",
    "import pandas as pd\n",
    "import numpy as np\n",
    "\n",
    "## 데이터셋 로드\n",
    "iris = load_iris()\n",
    "df = pd.DataFrame(data= np.c_[iris.data, iris.target] , \n",
    "                  columns= ['sepal length', 'sepal width', 'petal length', 'petal width', 'class'])\n",
    "\n",
    "df.tail()"
   ]
  },
  {
   "cell_type": "code",
   "execution_count": 23,
   "id": "c661c9c2",
   "metadata": {},
   "outputs": [],
   "source": [
    "## KFold 함수 이용 데이터셋 분할 방법\n",
    "from sklearn.model_selection import KFold\n",
    "\n",
    "X = np.array(df.iloc[:, :-1]) # class 열 제외한 feature 열들 모음 -> array 변환\n",
    "y = df['class']\n",
    "\n",
    "# split 개수, 셔플 여부 및 seed 설정\n",
    "kf = KFold(n_splits = 10, shuffle = True, random_state = 50)\n",
    "\n",
    "# split 개수 스텝 만큼 train, test 데이터셋을 매번 분할\n",
    "for train_index, test_index in kf.split(X):\n",
    "    X_train, X_test = X[train_index], X[test_index]\n",
    "    y_train, y_test = y[train_index], y[test_index]"
   ]
  },
  {
   "cell_type": "code",
   "execution_count": 24,
   "id": "9d13dd8f",
   "metadata": {},
   "outputs": [
    {
     "name": "stdout",
     "output_type": "stream",
     "text": [
      "각 분할의 정확도 기록 : [1.0, 0.9333333333333333, 0.9333333333333333, 1.0, 1.0, 0.9333333333333333, 0.9333333333333333, 1.0, 0.9333333333333333, 0.9333333333333333]\n",
      "평균 정확도 : 0.96\n"
     ]
    }
   ],
   "source": [
    "## K-Fold 교차 검증을 통한 분류기 학습 방법\n",
    "from sklearn.ensemble import RandomForestClassifier\n",
    "from sklearn.metrics import accuracy_score\n",
    "\n",
    "accuracy_history = []\n",
    "\n",
    "# K-fold 검증 과정으로 실제 랜덤 포레스트 모델을 학습하여 정확도 평균을 내는 방법\n",
    "for train_index, test_index in kf.split(X):\n",
    "\n",
    "    X_train, X_test = X[train_index], X[test_index]\n",
    "    y_train, y_test = y[train_index], y[test_index]\n",
    "\n",
    "    model = RandomForestClassifier(n_estimators=10, random_state=50) # 모델 선언\n",
    "    model.fit(X_train, y_train) # 모델 학습\n",
    "\n",
    "    y_pred = model.predict(X_test) # 예측 라벨\n",
    "    accuracy_history.append(accuracy_score(y_pred, y_test)) # 정확도 측정 및 기록\n",
    "\n",
    "print(\"각 분할의 정확도 기록 :\", accuracy_history)\n",
    "print(\"평균 정확도 :\", np.mean(accuracy_history))"
   ]
  },
  {
   "cell_type": "code",
   "execution_count": 21,
   "id": "d1c8c1af",
   "metadata": {},
   "outputs": [],
   "source": [
    "## class 별 동일 비율 분할 교차 검증 : StratifiedKFold 함수\n",
    "from sklearn.model_selection import StratifiedKFold\n",
    "\n",
    "# split 개수, 셔플 여부 및 seed 설정\n",
    "str_kf = StratifiedKFold(n_splits = 10, shuffle = True, random_state = 50)\n",
    "\n",
    "# split 개수 스텝 만큼 train, test 데이터셋을 매번 분할\n",
    "for train_index, test_index in str_kf.split(X, y):\n",
    "    X_train, X_test = X[train_index], X[test_index]\n",
    "    y_train, y_test = y[train_index], y[test_index]"
   ]
  },
  {
   "cell_type": "code",
   "execution_count": 22,
   "id": "9e7deb04",
   "metadata": {},
   "outputs": [
    {
     "name": "stdout",
     "output_type": "stream",
     "text": [
      "각 분할의 정확도 기록 : [0.9333333333333333, 0.9333333333333333, 0.8666666666666667, 1.0, 1.0, 1.0, 0.9333333333333333, 0.9333333333333333, 1.0, 0.8666666666666667]\n",
      "평균 정확도 : 0.9466666666666667\n"
     ]
    }
   ],
   "source": [
    "## StratifiedKFold 교차 검증을 통한 분류기 학습 방법\n",
    "accuracy_history = []\n",
    "\n",
    "# K-fold 검증 과정으로 실제 랜덤 포레스트 모델을 학습하여 정확도 평균을 내는 방법\n",
    "for train_index, test_index in str_kf.split(X, y):\n",
    "\n",
    "    X_train, X_test = X[train_index], X[test_index]\n",
    "    y_train, y_test = y[train_index], y[test_index]\n",
    "\n",
    "    model = RandomForestClassifier(n_estimators=10, random_state=50) # 모델 선언\n",
    "    model.fit(X_train, y_train) # 모델 학습\n",
    "\n",
    "    y_pred = model.predict(X_test) # 예측 라벨\n",
    "    accuracy_history.append(accuracy_score(y_pred, y_test)) # 정확도 측정 및 기록\n",
    "\n",
    "print(\"각 분할의 정확도 기록 :\", accuracy_history)\n",
    "print(\"평균 정확도 :\", np.mean(accuracy_history))"
   ]
  },
  {
   "cell_type": "code",
   "execution_count": null,
   "id": "ef259d27",
   "metadata": {},
   "outputs": [],
   "source": []
  }
 ],
 "metadata": {
  "kernelspec": {
   "display_name": "Python 3",
   "language": "python",
   "name": "python3"
  },
  "language_info": {
   "codemirror_mode": {
    "name": "ipython",
    "version": 3
   },
   "file_extension": ".py",
   "mimetype": "text/x-python",
   "name": "python",
   "nbconvert_exporter": "python",
   "pygments_lexer": "ipython3",
   "version": "3.7.9"
  },
  "vscode": {
   "interpreter": {
    "hash": "5aa634c14859627405404137fecabd2d911e45a844039ce454abb52cf9f696dc"
   }
  }
 },
 "nbformat": 4,
 "nbformat_minor": 5
}
