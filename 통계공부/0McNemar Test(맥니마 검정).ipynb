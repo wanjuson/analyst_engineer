{
 "cells": [
  {
   "cell_type": "code",
   "execution_count": null,
   "id": "cacd3bf8",
   "metadata": {},
   "outputs": [],
   "source": [
    "# McNemar Test(맥니마 검정)\n",
    "# https://lunch-box.tistory.com/107\n",
    "# https://maemi-life-share.tistory.com/entry/%EC%B9%B4%ED%85%8C%EA%B3%A0%EB%A6%AC%EB%AA%85%EB%AA%A9%ED%98%95-%EB%8D%B0%EC%9D%B4%ED%84%B0-%EB%B6%84%EC%84%9D-Fisher-test-McNemars-test-Mantel-Haenzel-test"
   ]
  },
  {
   "cell_type": "code",
   "execution_count": 1,
   "id": "088be6de",
   "metadata": {},
   "outputs": [],
   "source": [
    "# 2x2 빈도표에서 사용합니다.\n",
    "# 표본이 독립이 아닐 때(=대응표본일 때), 사용하는 검정입니다.\n",
    "# ㅁ 가정 \n",
    "# 1. 표본이 대응 표본이다. (표본들이 독립이 아님.) > 가설 - 귀무가설 : 처리전후 동일하다. 대립가설 : 처리전후 동일하지 않다.\n",
    "# 2. 각각 받은 집단의 합이 20 이상"
   ]
  },
  {
   "cell_type": "code",
   "execution_count": null,
   "id": "9d13dd8f",
   "metadata": {},
   "outputs": [
    {
     "data": {
      "text/html": [
       "<div>\n",
       "<style scoped>\n",
       "    .dataframe tbody tr th:only-of-type {\n",
       "        vertical-align: middle;\n",
       "    }\n",
       "\n",
       "    .dataframe tbody tr th {\n",
       "        vertical-align: top;\n",
       "    }\n",
       "\n",
       "    .dataframe thead th {\n",
       "        text-align: right;\n",
       "    }\n",
       "</style>\n",
       "<table border=\"1\" class=\"dataframe\">\n",
       "  <thead>\n",
       "    <tr style=\"text-align: right;\">\n",
       "      <th></th>\n",
       "      <th>before</th>\n",
       "      <th>after</th>\n",
       "    </tr>\n",
       "  </thead>\n",
       "  <tbody>\n",
       "    <tr>\n",
       "      <th>65</th>\n",
       "      <td>1</td>\n",
       "      <td>0</td>\n",
       "    </tr>\n",
       "    <tr>\n",
       "      <th>66</th>\n",
       "      <td>0</td>\n",
       "      <td>0</td>\n",
       "    </tr>\n",
       "    <tr>\n",
       "      <th>67</th>\n",
       "      <td>0</td>\n",
       "      <td>1</td>\n",
       "    </tr>\n",
       "    <tr>\n",
       "      <th>68</th>\n",
       "      <td>1</td>\n",
       "      <td>1</td>\n",
       "    </tr>\n",
       "    <tr>\n",
       "      <th>69</th>\n",
       "      <td>1</td>\n",
       "      <td>0</td>\n",
       "    </tr>\n",
       "  </tbody>\n",
       "</table>\n",
       "</div>"
      ],
      "text/plain": [
       "    before  after\n",
       "65       1      0\n",
       "66       0      0\n",
       "67       0      1\n",
       "68       1      1\n",
       "69       1      0"
      ]
     },
     "execution_count": 25,
     "metadata": {},
     "output_type": "execute_result"
    }
   ],
   "source": [
    "import pandas as pd\n",
    "df = pd.read_csv('C:/adp/data/mcnemar.csv')\n",
    "df.tail()"
   ]
  },
  {
   "cell_type": "code",
   "execution_count": 26,
   "id": "d1c8c1af",
   "metadata": {},
   "outputs": [
    {
     "data": {
      "text/plain": [
       "(after    0   1\n",
       " before        \n",
       " 0       16  14\n",
       " 1       29  11,\n",
       "              chi2  dof  p-approx   p-exact\n",
       " mcnemar  5.232558    1  0.022168  0.031539)"
      ]
     },
     "execution_count": 26,
     "metadata": {},
     "output_type": "execute_result"
    }
   ],
   "source": [
    "import pingouin as pg\n",
    "# McNemar's Test with no continuity correction\n",
    "pg.chi2_mcnemar(df, 'before', 'after', correction = False) \n",
    "# p-value=0.0327 이므로 귀무가설을 기각하여 처리전후 차이가 존재한다고 볼 수 있음"
   ]
  },
  {
   "cell_type": "code",
   "execution_count": 27,
   "id": "431328fd",
   "metadata": {},
   "outputs": [
    {
     "data": {
      "text/plain": [
       "(after    0   1\n",
       " before        \n",
       " 0       16  14\n",
       " 1       29  11,\n",
       "             chi2  dof  p-approx   p-exact\n",
       " mcnemar  4.55814    1  0.032763  0.031539)"
      ]
     },
     "execution_count": 27,
     "metadata": {},
     "output_type": "execute_result"
    }
   ],
   "source": [
    "# McNemar's Test with continuity correction \n",
    "# 오차를 교정하기 위해 검정통계량은 아래와 같이 수정합니다. 분자의 제곱되는 항에 절댓값을 씌우고 0.5를 뺀 것입니다. 이는 검정통계량의 크기는 감소하고 p값은 증가함. \n",
    "pg.chi2_mcnemar(df, 'before', 'after', correction = True) \n",
    "# p-value=0.02 이므로 귀무가설을 기각하여 처리전후 차이가 존재한다고 볼 수 있음"
   ]
  }
 ],
 "metadata": {
  "kernelspec": {
   "display_name": "Python 3",
   "language": "python",
   "name": "python3"
  },
  "language_info": {
   "codemirror_mode": {
    "name": "ipython",
    "version": 3
   },
   "file_extension": ".py",
   "mimetype": "text/x-python",
   "name": "python",
   "nbconvert_exporter": "python",
   "pygments_lexer": "ipython3",
   "version": "3.7.9"
  },
  "vscode": {
   "interpreter": {
    "hash": "5aa634c14859627405404137fecabd2d911e45a844039ce454abb52cf9f696dc"
   }
  }
 },
 "nbformat": 4,
 "nbformat_minor": 5
}
