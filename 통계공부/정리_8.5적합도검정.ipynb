{
 "cells": [
  {
   "cell_type": "code",
   "execution_count": null,
   "id": "cacd3bf8",
   "metadata": {},
   "outputs": [],
   "source": [
    "# A. 카이제곱 검정(적합성)\n",
    "# B. Shapiro-Wilk Test(정규성)\n",
    "# C. Kolmogorov-Smirnov Test\n",
    "# D. Q-Q Plot"
   ]
  },
  {
   "cell_type": "code",
   "execution_count": 1,
   "id": "088be6de",
   "metadata": {},
   "outputs": [],
   "source": [
    "## A.카이제곱 검정(독합성)\n",
    "# 적합성 검정은 각 범주에 따른 데이터의 빈도분포가 이론적으로 기대하는 분포를 따르는지 검정하는 방법.\n",
    "# 귀무가설 : 각 범주의 비유을 x이다.\n",
    "# 대립가설 : 각 범주의 비유을 x라고 할 수 없다."
   ]
  },
  {
   "cell_type": "code",
   "execution_count": 2,
   "id": "9d13dd8f",
   "metadata": {},
   "outputs": [
    {
     "data": {
      "text/html": [
       "<div>\n",
       "<style scoped>\n",
       "    .dataframe tbody tr th:only-of-type {\n",
       "        vertical-align: middle;\n",
       "    }\n",
       "\n",
       "    .dataframe tbody tr th {\n",
       "        vertical-align: top;\n",
       "    }\n",
       "\n",
       "    .dataframe thead th {\n",
       "        text-align: right;\n",
       "    }\n",
       "</style>\n",
       "<table border=\"1\" class=\"dataframe\">\n",
       "  <thead>\n",
       "    <tr style=\"text-align: right;\">\n",
       "      <th></th>\n",
       "      <th>survived</th>\n",
       "      <th>pclass</th>\n",
       "      <th>sex</th>\n",
       "      <th>age</th>\n",
       "      <th>sibsp</th>\n",
       "      <th>parch</th>\n",
       "      <th>fare</th>\n",
       "      <th>embarked</th>\n",
       "      <th>class</th>\n",
       "      <th>adult_male</th>\n",
       "      <th>embark_town</th>\n",
       "    </tr>\n",
       "  </thead>\n",
       "  <tbody>\n",
       "    <tr>\n",
       "      <th>886</th>\n",
       "      <td>0</td>\n",
       "      <td>2</td>\n",
       "      <td>male</td>\n",
       "      <td>27.0</td>\n",
       "      <td>0</td>\n",
       "      <td>0</td>\n",
       "      <td>13.00</td>\n",
       "      <td>S</td>\n",
       "      <td>Second</td>\n",
       "      <td>True</td>\n",
       "      <td>Southampton</td>\n",
       "    </tr>\n",
       "    <tr>\n",
       "      <th>887</th>\n",
       "      <td>1</td>\n",
       "      <td>1</td>\n",
       "      <td>female</td>\n",
       "      <td>19.0</td>\n",
       "      <td>0</td>\n",
       "      <td>0</td>\n",
       "      <td>30.00</td>\n",
       "      <td>S</td>\n",
       "      <td>First</td>\n",
       "      <td>False</td>\n",
       "      <td>Southampton</td>\n",
       "    </tr>\n",
       "    <tr>\n",
       "      <th>888</th>\n",
       "      <td>0</td>\n",
       "      <td>3</td>\n",
       "      <td>female</td>\n",
       "      <td>NaN</td>\n",
       "      <td>1</td>\n",
       "      <td>2</td>\n",
       "      <td>23.45</td>\n",
       "      <td>S</td>\n",
       "      <td>Third</td>\n",
       "      <td>False</td>\n",
       "      <td>Southampton</td>\n",
       "    </tr>\n",
       "    <tr>\n",
       "      <th>889</th>\n",
       "      <td>1</td>\n",
       "      <td>1</td>\n",
       "      <td>male</td>\n",
       "      <td>26.0</td>\n",
       "      <td>0</td>\n",
       "      <td>0</td>\n",
       "      <td>30.00</td>\n",
       "      <td>C</td>\n",
       "      <td>First</td>\n",
       "      <td>True</td>\n",
       "      <td>Cherbourg</td>\n",
       "    </tr>\n",
       "    <tr>\n",
       "      <th>890</th>\n",
       "      <td>0</td>\n",
       "      <td>3</td>\n",
       "      <td>male</td>\n",
       "      <td>32.0</td>\n",
       "      <td>0</td>\n",
       "      <td>0</td>\n",
       "      <td>7.75</td>\n",
       "      <td>Q</td>\n",
       "      <td>Third</td>\n",
       "      <td>True</td>\n",
       "      <td>Queenstown</td>\n",
       "    </tr>\n",
       "  </tbody>\n",
       "</table>\n",
       "</div>"
      ],
      "text/plain": [
       "     survived  pclass     sex   age  sibsp  parch   fare embarked   class  \\\n",
       "886         0       2    male  27.0      0      0  13.00        S  Second   \n",
       "887         1       1  female  19.0      0      0  30.00        S   First   \n",
       "888         0       3  female   NaN      1      2  23.45        S   Third   \n",
       "889         1       1    male  26.0      0      0  30.00        C   First   \n",
       "890         0       3    male  32.0      0      0   7.75        Q   Third   \n",
       "\n",
       "     adult_male  embark_town  \n",
       "886        True  Southampton  \n",
       "887       False  Southampton  \n",
       "888       False  Southampton  \n",
       "889        True    Cherbourg  \n",
       "890        True   Queenstown  "
      ]
     },
     "execution_count": 2,
     "metadata": {},
     "output_type": "execute_result"
    }
   ],
   "source": [
    "import pandas as pd\n",
    "df = pd.read_csv('C:/adp/data/titanic.csv')\n",
    "df.tail()"
   ]
  },
  {
   "cell_type": "code",
   "execution_count": 13,
   "id": "00df5508",
   "metadata": {},
   "outputs": [
    {
     "data": {
      "text/plain": [
       "Power_divergenceResult(statistic=44.95906432748538, pvalue=2.0119672574477235e-11)"
      ]
     },
     "execution_count": 13,
     "metadata": {},
     "output_type": "execute_result"
    }
   ],
   "source": [
    "from scipy.stats import chisquare\n",
    "table = df[df['survived'] == 1]['sex'].value_counts()\n",
    "chisquare(table, f_exp = [171, 171]) # 범주의 비율이 동일하다.\n",
    "# pvalue=2.0144e-11 이므로 유의수준 0.05 하에서 귀무가설을 기각한다. 따라서 각 범주의 비율이 동일(50%, 50%)하다고 할 수 없다."
   ]
  },
  {
   "cell_type": "code",
   "execution_count": 22,
   "id": "3492267d",
   "metadata": {},
   "outputs": [
    {
     "data": {
      "text/html": [
       "<div>\n",
       "<style scoped>\n",
       "    .dataframe tbody tr th:only-of-type {\n",
       "        vertical-align: middle;\n",
       "    }\n",
       "\n",
       "    .dataframe tbody tr th {\n",
       "        vertical-align: top;\n",
       "    }\n",
       "\n",
       "    .dataframe thead th {\n",
       "        text-align: right;\n",
       "    }\n",
       "</style>\n",
       "<table border=\"1\" class=\"dataframe\">\n",
       "  <thead>\n",
       "    <tr style=\"text-align: right;\">\n",
       "      <th></th>\n",
       "      <th>W</th>\n",
       "      <th>pval</th>\n",
       "      <th>normal</th>\n",
       "    </tr>\n",
       "  </thead>\n",
       "  <tbody>\n",
       "    <tr>\n",
       "      <th>age</th>\n",
       "      <td>0.981455</td>\n",
       "      <td>7.322166e-08</td>\n",
       "      <td>False</td>\n",
       "    </tr>\n",
       "  </tbody>\n",
       "</table>\n",
       "</div>"
      ],
      "text/plain": [
       "            W          pval  normal\n",
       "age  0.981455  7.322166e-08   False"
      ]
     },
     "execution_count": 22,
     "metadata": {},
     "output_type": "execute_result"
    }
   ],
   "source": [
    "## B.Shapiro-Wilk Test(정규성)\n",
    "import pingouin as pg\n",
    "pg.normality(df['age'])\n",
    "# pval 7.322166e-08로 유의수준 0.05하에서 정규분포를 따르지 않는다."
   ]
  },
  {
   "cell_type": "code",
   "execution_count": 32,
   "id": "9c974579",
   "metadata": {},
   "outputs": [
    {
     "data": {
      "text/html": [
       "<div>\n",
       "<style scoped>\n",
       "    .dataframe tbody tr th:only-of-type {\n",
       "        vertical-align: middle;\n",
       "    }\n",
       "\n",
       "    .dataframe tbody tr th {\n",
       "        vertical-align: top;\n",
       "    }\n",
       "\n",
       "    .dataframe thead th {\n",
       "        text-align: right;\n",
       "    }\n",
       "</style>\n",
       "<table border=\"1\" class=\"dataframe\">\n",
       "  <thead>\n",
       "    <tr style=\"text-align: right;\">\n",
       "      <th></th>\n",
       "      <th>p</th>\n",
       "      <th>y</th>\n",
       "    </tr>\n",
       "  </thead>\n",
       "  <tbody>\n",
       "    <tr>\n",
       "      <th>995</th>\n",
       "      <td>0.002950</td>\n",
       "      <td>0</td>\n",
       "    </tr>\n",
       "    <tr>\n",
       "      <th>996</th>\n",
       "      <td>0.014218</td>\n",
       "      <td>0</td>\n",
       "    </tr>\n",
       "    <tr>\n",
       "      <th>997</th>\n",
       "      <td>0.076319</td>\n",
       "      <td>0</td>\n",
       "    </tr>\n",
       "    <tr>\n",
       "      <th>998</th>\n",
       "      <td>0.006082</td>\n",
       "      <td>0</td>\n",
       "    </tr>\n",
       "    <tr>\n",
       "      <th>999</th>\n",
       "      <td>0.255054</td>\n",
       "      <td>0</td>\n",
       "    </tr>\n",
       "  </tbody>\n",
       "</table>\n",
       "</div>"
      ],
      "text/plain": [
       "            p  y\n",
       "995  0.002950  0\n",
       "996  0.014218  0\n",
       "997  0.076319  0\n",
       "998  0.006082  0\n",
       "999  0.255054  0"
      ]
     },
     "execution_count": 32,
     "metadata": {},
     "output_type": "execute_result"
    }
   ],
   "source": [
    "## C.Kolmogorov-Smirnov Test / https://data-newbie.tistory.com/87 \n",
    "# 통계량에 따른 등급(일반적 사용)\n",
    "# 0.2 이하\t판별력 낮은 모형    / 0.2 ~ 0.4\t적정한 모형\n",
    "# 0.4 ~ 0.5\t판별록이 좋은 모형  / 0.5 이상\t판별력이 아주 좋은 모형\n",
    "df = pd.read_csv(\"https://raw.githubusercontent.com/deepanshu88/data/master/data.csv\")\n",
    "df.tail()"
   ]
  },
  {
   "cell_type": "code",
   "execution_count": 33,
   "id": "da113456",
   "metadata": {},
   "outputs": [
    {
     "data": {
      "text/plain": [
       "KstestResult(statistic=0.6033333333333334, pvalue=2.220446049250313e-16)"
      ]
     },
     "execution_count": 33,
     "metadata": {},
     "output_type": "execute_result"
    }
   ],
   "source": [
    "# KS Two Sample Test\n",
    "from scipy.stats import ks_2samp\n",
    "ks_2samp(df.loc[df.y==0,\"p\"], df.loc[df.y==1,\"p\"])\n",
    "pvalue=2.22e-16 으로 유의수준 0.05하에서 서로 다른 분포라고 할 수 있다."
   ]
  },
  {
   "cell_type": "code",
   "execution_count": 37,
   "id": "ed5e4890",
   "metadata": {},
   "outputs": [
    {
     "data": {
      "text/plain": [
       "<AxesSubplot:title={'center':'Q-Q Plot'}, xlabel='Theoretical quantiles', ylabel='Ordered quantiles'>"
      ]
     },
     "execution_count": 37,
     "metadata": {},
     "output_type": "execute_result"
    },
    {
     "data": {
      "image/png": "[encoded data removed]",
      "text/plain": [
       "<Figure size 500x400 with 1 Axes>"
      ]
     },
     "metadata": {},
     "output_type": "display_data"
    }
   ],
   "source": [
    "## D. Q-Q Plot\n",
    "from scipy.stats import norm\n",
    "norm_rv = norm(loc=10, scale=1) ## 평균이 0이고 표준편차가 1인 정규 분포\n",
    "x = norm_rv.rvs(size=1000)\n",
    "pg.qqplot(x, dist='norm')"
   ]
  },
  {
   "cell_type": "code",
   "execution_count": 54,
   "id": "584280cd",
   "metadata": {},
   "outputs": [],
   "source": [
    "# 크론바흐 알파 계수(Cronbach's Alpha)란??\n",
    "# 신뢰도를 검사하는 방법. 주로 동일한 목표를 측정하기 위한 여러 개의 설문 항목에 대해 실시합니다.\n",
    "# * 신뢰도 검사 : 측정하고자 하는 것을 얼마나 일관적이게 측정하고 있는지 검사하는 것\n",
    "# ㅁ 가정\n",
    "# 1. 각 항목은 동일한 주제를 측정하는 것이다.\n",
    "# 2. 각 항목의 중요도는 모두 동일하다.\n",
    "# ㅁ 신뢰도\n",
    "#  - 측정척도의 신뢰도란 측정척도가 측정하려고 의도하는것을 얼마나 정확하게 오차 없이 측정하고 있는지를 나타냄\n",
    "#  - 동일한 개념(또는 개상)을 유사한 척도로 측정할 경우 일관된 결과를 산출하는 정도\n",
    "#   . 신뢰도가 높다는 것은 동일한 개념을 측정하기 위해 고안된 서로 다른 측정도구가 같은 결과를 산출한다는 것을 의미\n",
    "#   . 또는 동일한 측정도구를 이용하는 시간 간격을 두고 측정하였을 때 두 결과의 일치도가 높다는 의미\n",
    "# ㅁ 신뢰도 지표\n",
    "# ㅁ 크론바흐 알파계수\n",
    "#  - 하나의 개념을 여러 측정항목으로 측정할 때 나타나는 항목 간의 일관성이나 동질성의 정도를 나타내며 이를 내적일관성이라고 함\n",
    "#  - 0에서 1 사이의 값을 가지며 클수록 측정항목의 신뢰도가 높음\n",
    "#  - 0.8 이상 : 바람직, 0.6~0.8 : 수용할만, 0.6 이하 : 신뢰도 결어"
   ]
  },
  {
   "cell_type": "code",
   "execution_count": 55,
   "id": "c26aa63c",
   "metadata": {},
   "outputs": [
    {
     "data": {
      "text/html": [
       "<div>\n",
       "<style scoped>\n",
       "    .dataframe tbody tr th:only-of-type {\n",
       "        vertical-align: middle;\n",
       "    }\n",
       "\n",
       "    .dataframe tbody tr th {\n",
       "        vertical-align: top;\n",
       "    }\n",
       "\n",
       "    .dataframe thead th {\n",
       "        text-align: right;\n",
       "    }\n",
       "</style>\n",
       "<table border=\"1\" class=\"dataframe\">\n",
       "  <thead>\n",
       "    <tr style=\"text-align: right;\">\n",
       "      <th></th>\n",
       "      <th>a1</th>\n",
       "      <th>a2</th>\n",
       "      <th>a3</th>\n",
       "      <th>a4</th>\n",
       "      <th>a5</th>\n",
       "      <th>b1</th>\n",
       "      <th>b2</th>\n",
       "      <th>b3</th>\n",
       "      <th>b4</th>\n",
       "      <th>b5</th>\n",
       "    </tr>\n",
       "  </thead>\n",
       "  <tbody>\n",
       "    <tr>\n",
       "      <th>35</th>\n",
       "      <td>7</td>\n",
       "      <td>6</td>\n",
       "      <td>6</td>\n",
       "      <td>7</td>\n",
       "      <td>5</td>\n",
       "      <td>6</td>\n",
       "      <td>5</td>\n",
       "      <td>6</td>\n",
       "      <td>5</td>\n",
       "      <td>5</td>\n",
       "    </tr>\n",
       "    <tr>\n",
       "      <th>36</th>\n",
       "      <td>6</td>\n",
       "      <td>6</td>\n",
       "      <td>7</td>\n",
       "      <td>7</td>\n",
       "      <td>7</td>\n",
       "      <td>7</td>\n",
       "      <td>7</td>\n",
       "      <td>4</td>\n",
       "      <td>5</td>\n",
       "      <td>7</td>\n",
       "    </tr>\n",
       "    <tr>\n",
       "      <th>37</th>\n",
       "      <td>7</td>\n",
       "      <td>7</td>\n",
       "      <td>7</td>\n",
       "      <td>7</td>\n",
       "      <td>7</td>\n",
       "      <td>7</td>\n",
       "      <td>7</td>\n",
       "      <td>7</td>\n",
       "      <td>5</td>\n",
       "      <td>7</td>\n",
       "    </tr>\n",
       "    <tr>\n",
       "      <th>38</th>\n",
       "      <td>4</td>\n",
       "      <td>5</td>\n",
       "      <td>5</td>\n",
       "      <td>6</td>\n",
       "      <td>7</td>\n",
       "      <td>7</td>\n",
       "      <td>5</td>\n",
       "      <td>5</td>\n",
       "      <td>4</td>\n",
       "      <td>6</td>\n",
       "    </tr>\n",
       "    <tr>\n",
       "      <th>39</th>\n",
       "      <td>5</td>\n",
       "      <td>5</td>\n",
       "      <td>5</td>\n",
       "      <td>5</td>\n",
       "      <td>4</td>\n",
       "      <td>6</td>\n",
       "      <td>7</td>\n",
       "      <td>7</td>\n",
       "      <td>7</td>\n",
       "      <td>7</td>\n",
       "    </tr>\n",
       "  </tbody>\n",
       "</table>\n",
       "</div>"
      ],
      "text/plain": [
       "    a1  a2  a3  a4  a5  b1  b2  b3  b4  b5\n",
       "35   7   6   6   7   5   6   5   6   5   5\n",
       "36   6   6   7   7   7   7   7   4   5   7\n",
       "37   7   7   7   7   7   7   7   7   5   7\n",
       "38   4   5   5   6   7   7   5   5   4   6\n",
       "39   5   5   5   5   4   6   7   7   7   7"
      ]
     },
     "execution_count": 55,
     "metadata": {},
     "output_type": "execute_result"
    }
   ],
   "source": [
    "import pandas as pd\n",
    "df = pd.read_csv('C:/adp/data/cronbachs_alpha.csv')\n",
    "df.tail()"
   ]
  },
  {
   "cell_type": "code",
   "execution_count": 56,
   "id": "51cf5f34",
   "metadata": {},
   "outputs": [
    {
     "data": {
      "text/plain": [
       "(0.777338382653574, array([0.646, 0.87 ]))"
      ]
     },
     "execution_count": 56,
     "metadata": {},
     "output_type": "execute_result"
    }
   ],
   "source": [
    "import pingouin as pg\n",
    "pg.cronbach_alpha(data=df[['a1', 'a2', 'a3', 'a4', 'a5']])\n",
    "# 0.777로 0.6 이상이므로 신뢰도가 있다고 볼 수 있다."
   ]
  },
  {
   "cell_type": "code",
   "execution_count": 57,
   "id": "7611e38f",
   "metadata": {},
   "outputs": [
    {
     "data": {
      "text/plain": [
       "(0.6941793893129772, array([0.514, 0.822]))"
      ]
     },
     "execution_count": 57,
     "metadata": {},
     "output_type": "execute_result"
    }
   ],
   "source": [
    "import pingouin as pg\n",
    "pg.cronbach_alpha(data=df[['b1', 'b2', 'b3', 'b4', 'b5']])\n",
    "# 0.694로 0.6 이상이므로 신뢰도가 있다고 볼 수 있다."
   ]
  }
 ],
 "metadata": {
  "kernelspec": {
   "display_name": "Python 3",
   "language": "python",
   "name": "python3"
  },
  "language_info": {
   "codemirror_mode": {
    "name": "ipython",
    "version": 3
   },
   "file_extension": ".py",
   "mimetype": "text/x-python",
   "name": "python",
   "nbconvert_exporter": "python",
   "pygments_lexer": "ipython3",
   "version": "3.7.9"
  },
  "vscode": {
   "interpreter": {
    "hash": "5aa634c14859627405404137fecabd2d911e45a844039ce454abb52cf9f696dc"
   }
  }
 },
 "nbformat": 4,
 "nbformat_minor": 5
}
