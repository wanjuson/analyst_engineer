{
 "cells": [
  {
   "cell_type": "code",
   "execution_count": 1,
   "id": "088be6de",
   "metadata": {},
   "outputs": [],
   "source": [
    "## A 피셔의 정확검정\n",
    "# 카이제곱 검정에서 기대 빈도 가정이 충족되지 못 할 때 사용하는 검정법\n",
    "# 편하게 생각하시려면, 표본 수가 적을 때 사용하는 카이제곱 검정이라고 생각할 수 있습니다.\n",
    "# (1) n(총수)이 충분히 크지 않다면(25보다 크지 않다) 어떤 방법을 사용해야하고 \n",
    "# (2) 각 개별 구간수가 작으면( 기대도수가 5 미만인 칸이 전체의 20%를 초과) 피셔의 정확검정을 사용한다.\n",
    "\n",
    "# ㅁ 가정\n",
    "# 1. 독립성 가정(한 명의 대상에게서 하나의 결과값을 얻어야 함)\n",
    "# ㅁ 가설\n",
    "# 귀무가설 : 두 변수는 서로 독립적이다. (=연관이 없다.)\n",
    "# 대립가설 : 두 변수는 서로 독립적이지 않다. (=연관이 있다.)"
   ]
  },
  {
   "cell_type": "code",
   "execution_count": 2,
   "id": "9d13dd8f",
   "metadata": {},
   "outputs": [
    {
     "data": {
      "text/html": [
       "<div>\n",
       "<style scoped>\n",
       "    .dataframe tbody tr th:only-of-type {\n",
       "        vertical-align: middle;\n",
       "    }\n",
       "\n",
       "    .dataframe tbody tr th {\n",
       "        vertical-align: top;\n",
       "    }\n",
       "\n",
       "    .dataframe thead th {\n",
       "        text-align: right;\n",
       "    }\n",
       "</style>\n",
       "<table border=\"1\" class=\"dataframe\">\n",
       "  <thead>\n",
       "    <tr style=\"text-align: right;\">\n",
       "      <th></th>\n",
       "      <th>country</th>\n",
       "      <th>movie</th>\n",
       "    </tr>\n",
       "  </thead>\n",
       "  <tbody>\n",
       "    <tr>\n",
       "      <th>85</th>\n",
       "      <td>3</td>\n",
       "      <td>3</td>\n",
       "    </tr>\n",
       "    <tr>\n",
       "      <th>86</th>\n",
       "      <td>3</td>\n",
       "      <td>1</td>\n",
       "    </tr>\n",
       "    <tr>\n",
       "      <th>87</th>\n",
       "      <td>3</td>\n",
       "      <td>2</td>\n",
       "    </tr>\n",
       "    <tr>\n",
       "      <th>88</th>\n",
       "      <td>3</td>\n",
       "      <td>1</td>\n",
       "    </tr>\n",
       "    <tr>\n",
       "      <th>89</th>\n",
       "      <td>3</td>\n",
       "      <td>3</td>\n",
       "    </tr>\n",
       "  </tbody>\n",
       "</table>\n",
       "</div>"
      ],
      "text/plain": [
       "    country  movie\n",
       "85        3      3\n",
       "86        3      1\n",
       "87        3      2\n",
       "88        3      1\n",
       "89        3      3"
      ]
     },
     "execution_count": 2,
     "metadata": {},
     "output_type": "execute_result"
    }
   ],
   "source": [
    "import pandas as pd\n",
    "df = pd.read_csv('C:/adp/data/chisquare.csv')\n",
    "df.tail()"
   ]
  },
  {
   "cell_type": "code",
   "execution_count": 7,
   "id": "28ec7d99",
   "metadata": {},
   "outputs": [
    {
     "name": "stdout",
     "output_type": "stream",
     "text": [
      "country  movie\n",
      "1        1        12\n",
      "         2         9\n",
      "         3         9\n",
      "2        1         8\n",
      "         2        18\n",
      "         3         4\n",
      "3        1         4\n",
      "         2         2\n",
      "         3        24\n",
      "Name: movie, dtype: int64\n"
     ]
    }
   ],
   "source": [
    "print(df.groupby(['country', 'movie'])['movie'].count())\n",
    "df3 = [ [12,9], [8,18] ]"
   ]
  },
  {
   "cell_type": "code",
   "execution_count": 5,
   "id": "3492267d",
   "metadata": {},
   "outputs": [
    {
     "name": "stdout",
     "output_type": "stream",
     "text": [
      "3.0\n",
      "0.08371071933650787\n"
     ]
    }
   ],
   "source": [
    "from scipy.stats import fisher_exact\n",
    "oddsratio, pvalue = fisher_exact(df3)\n",
    "print(oddsratio)\n",
    "print(pvalue)\n",
    "# p-value=0.0837 이므로 귀무가설을 채택하여 두 변수는 서로 독립적(연관이없다)라고 할 수 있다."
   ]
  }
 ],
 "metadata": {
  "kernelspec": {
   "display_name": "Python 3",
   "language": "python",
   "name": "python3"
  },
  "language_info": {
   "codemirror_mode": {
    "name": "ipython",
    "version": 3
   },
   "file_extension": ".py",
   "mimetype": "text/x-python",
   "name": "python",
   "nbconvert_exporter": "python",
   "pygments_lexer": "ipython3",
   "version": "3.7.9"
  },
  "vscode": {
   "interpreter": {
    "hash": "5aa634c14859627405404137fecabd2d911e45a844039ce454abb52cf9f696dc"
   }
  }
 },
 "nbformat": 4,
 "nbformat_minor": 5
}
