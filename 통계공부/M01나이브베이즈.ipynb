{
 "cells": [
  {
   "cell_type": "code",
   "execution_count": null,
   "metadata": {},
   "outputs": [],
   "source": [
    "# M01나이브베이즈\n",
    "# https://www.youtube.com/watch?v=UY3ike0xrUY&list=PLY0OaF78qqGD-OJpbMDWfCSWY9tnOmrT5\n",
    "# https://needjarvis.tistory.com/624 20분"
   ]
  },
  {
   "cell_type": "code",
   "execution_count": null,
   "metadata": {},
   "outputs": [],
   "source": [
    "## 나이브 베이즈 개요\n",
    "# 나이브베이즈는 베이즈 정리를 바탕으로 관심 있는 사건이 발생할 확률을 추정\n",
    "# 베이즈정리는 사전에 알고 있는 정보(예측변수)를 바탕으로 어떤 사건(결과변수)이 발생할 확률을 계산\n",
    "# 사건에 해당하는 결과변수는 범주형 변수이어야 하며, 예측변수는 범주형 변수를 가정\n",
    "## 나이브베이즈 분석\n",
    "# 예측변수의 값 : 사전에 알고 있는 정보\n",
    "# 어떤 사건이 발생할 조건부 확률 : 예측변수의 값이 주어졌을 때 우리가 관심을 갖는 특정 범주가 발생할 확률\n",
    "# 각 케이스별로 사건발생의 예측확률이 계산되면 이값을 사전에 설정한 임계값과 비교하여 그보다 크면 사건발생, 그렇지 않으면 사건미발생으로 분류\n",
    "# 예를 들면, 임계값을 0.5로 했을 때 도출된 예측확률이 0.5보다 크면 사건이 발생하고 0.5보다 작으면 사건이 발생하지 않는것으로 예측 "
   ]
  },
  {
   "cell_type": "code",
   "execution_count": null,
   "metadata": {},
   "outputs": [],
   "source": [
    "from sklearn.datasets import load_iris\n",
    "from sklearn.model_selection import train_test_split\n",
    "from sklearn.naive_bayes import GaussianNB"
   ]
  },
  {
   "cell_type": "code",
   "execution_count": 9,
   "metadata": {},
   "outputs": [
    {
     "data": {
      "text/html": [
       "<div>\n",
       "<style scoped>\n",
       "    .dataframe tbody tr th:only-of-type {\n",
       "        vertical-align: middle;\n",
       "    }\n",
       "\n",
       "    .dataframe tbody tr th {\n",
       "        vertical-align: top;\n",
       "    }\n",
       "\n",
       "    .dataframe thead th {\n",
       "        text-align: right;\n",
       "    }\n",
       "</style>\n",
       "<table border=\"1\" class=\"dataframe\">\n",
       "  <thead>\n",
       "    <tr style=\"text-align: right;\">\n",
       "      <th></th>\n",
       "      <th>sepal length</th>\n",
       "      <th>sepal width</th>\n",
       "      <th>petal length</th>\n",
       "      <th>petal width</th>\n",
       "      <th>target</th>\n",
       "    </tr>\n",
       "  </thead>\n",
       "  <tbody>\n",
       "    <tr>\n",
       "      <th>145</th>\n",
       "      <td>6.7</td>\n",
       "      <td>3.0</td>\n",
       "      <td>5.2</td>\n",
       "      <td>2.3</td>\n",
       "      <td>Iris-virginica</td>\n",
       "    </tr>\n",
       "    <tr>\n",
       "      <th>146</th>\n",
       "      <td>6.3</td>\n",
       "      <td>2.5</td>\n",
       "      <td>5.0</td>\n",
       "      <td>1.9</td>\n",
       "      <td>Iris-virginica</td>\n",
       "    </tr>\n",
       "    <tr>\n",
       "      <th>147</th>\n",
       "      <td>6.5</td>\n",
       "      <td>3.0</td>\n",
       "      <td>5.2</td>\n",
       "      <td>2.0</td>\n",
       "      <td>Iris-virginica</td>\n",
       "    </tr>\n",
       "    <tr>\n",
       "      <th>148</th>\n",
       "      <td>6.2</td>\n",
       "      <td>3.4</td>\n",
       "      <td>5.4</td>\n",
       "      <td>2.3</td>\n",
       "      <td>Iris-virginica</td>\n",
       "    </tr>\n",
       "    <tr>\n",
       "      <th>149</th>\n",
       "      <td>5.9</td>\n",
       "      <td>3.0</td>\n",
       "      <td>5.1</td>\n",
       "      <td>1.8</td>\n",
       "      <td>Iris-virginica</td>\n",
       "    </tr>\n",
       "  </tbody>\n",
       "</table>\n",
       "</div>"
      ],
      "text/plain": [
       "     sepal length  sepal width  petal length  petal width          target\n",
       "145           6.7          3.0           5.2          2.3  Iris-virginica\n",
       "146           6.3          2.5           5.0          1.9  Iris-virginica\n",
       "147           6.5          3.0           5.2          2.0  Iris-virginica\n",
       "148           6.2          3.4           5.4          2.3  Iris-virginica\n",
       "149           5.9          3.0           5.1          1.8  Iris-virginica"
      ]
     },
     "execution_count": 9,
     "metadata": {},
     "output_type": "execute_result"
    }
   ],
   "source": [
    "df = pd.read_csv(\"C:/Users/A202112006/Desktop/py/data/iris.csv\")\n",
    "df.tail()"
   ]
  },
  {
   "cell_type": "code",
   "execution_count": 11,
   "metadata": {},
   "outputs": [
    {
     "data": {
      "text/html": [
       "<div>\n",
       "<style scoped>\n",
       "    .dataframe tbody tr th:only-of-type {\n",
       "        vertical-align: middle;\n",
       "    }\n",
       "\n",
       "    .dataframe tbody tr th {\n",
       "        vertical-align: top;\n",
       "    }\n",
       "\n",
       "    .dataframe thead th {\n",
       "        text-align: right;\n",
       "    }\n",
       "</style>\n",
       "<table border=\"1\" class=\"dataframe\">\n",
       "  <thead>\n",
       "    <tr style=\"text-align: right;\">\n",
       "      <th></th>\n",
       "      <th>sepal length</th>\n",
       "      <th>sepal width</th>\n",
       "      <th>petal length</th>\n",
       "      <th>petal width</th>\n",
       "    </tr>\n",
       "  </thead>\n",
       "  <tbody>\n",
       "    <tr>\n",
       "      <th>sepal length</th>\n",
       "      <td>1.000000</td>\n",
       "      <td>-0.109369</td>\n",
       "      <td>0.871754</td>\n",
       "      <td>0.817954</td>\n",
       "    </tr>\n",
       "    <tr>\n",
       "      <th>sepal width</th>\n",
       "      <td>-0.109369</td>\n",
       "      <td>1.000000</td>\n",
       "      <td>-0.420516</td>\n",
       "      <td>-0.356544</td>\n",
       "    </tr>\n",
       "    <tr>\n",
       "      <th>petal length</th>\n",
       "      <td>0.871754</td>\n",
       "      <td>-0.420516</td>\n",
       "      <td>1.000000</td>\n",
       "      <td>0.962757</td>\n",
       "    </tr>\n",
       "    <tr>\n",
       "      <th>petal width</th>\n",
       "      <td>0.817954</td>\n",
       "      <td>-0.356544</td>\n",
       "      <td>0.962757</td>\n",
       "      <td>1.000000</td>\n",
       "    </tr>\n",
       "  </tbody>\n",
       "</table>\n",
       "</div>"
      ],
      "text/plain": [
       "              sepal length  sepal width  petal length  petal width\n",
       "sepal length      1.000000    -0.109369      0.871754     0.817954\n",
       "sepal width      -0.109369     1.000000     -0.420516    -0.356544\n",
       "petal length      0.871754    -0.420516      1.000000     0.962757\n",
       "petal width       0.817954    -0.356544      0.962757     1.000000"
      ]
     },
     "execution_count": 11,
     "metadata": {},
     "output_type": "execute_result"
    }
   ],
   "source": [
    "# 상관관계 그려보기\n",
    "df.corr()"
   ]
  },
  {
   "cell_type": "code",
   "execution_count": 12,
   "metadata": {},
   "outputs": [
    {
     "name": "stdout",
     "output_type": "stream",
     "text": [
      "X_train : (105, 4) \tX_test : (45, 4)\n",
      "y_train : (105,) \ty_test : (45,)\n"
     ]
    }
   ],
   "source": [
    "# 데이터\n",
    "from sklearn.model_selection import train_test_split\n",
    "\n",
    "X_train, X_test, y_train, y_test = train_test_split(df.drop(columns='target'), df['target'], test_size = 0.3)\n",
    "print('X_train :', X_train.shape, '\\tX_test :', X_test.shape)\n",
    "print('y_train :', y_train.shape, '\\ty_test :', y_test.shape)"
   ]
  },
  {
   "cell_type": "code",
   "execution_count": 13,
   "metadata": {},
   "outputs": [
    {
     "name": "stdout",
     "output_type": "stream",
     "text": [
      "인공 신경망\n",
      "target           Iris-setosa  Iris-versicolor  Iris-virginica\n",
      "row_0                                                        \n",
      "Iris-setosa               17                0               0\n",
      "Iris-versicolor            0               15               0\n",
      "Iris-virginica             0                0              13\n"
     ]
    },
    {
     "name": "stderr",
     "output_type": "stream",
     "text": [
      "c:\\Program Files\\Python38\\lib\\site-packages\\sklearn\\neural_network\\_multilayer_perceptron.py:679: ConvergenceWarning: Stochastic Optimizer: Maximum iterations (200) reached and the optimization hasn't converged yet.\n",
      "  warnings.warn(\n"
     ]
    }
   ],
   "source": [
    "# N net1\n",
    "Nn_m = neural_network.MLPClassifier().fit(X_train,y_train)\n",
    "Nm_p = Nn_m.predict(X_test)\n",
    "print(\"인공 신경망\")\n",
    "print(pd.crosstab(Nm_p, y_test))"
   ]
  },
  {
   "cell_type": "code",
   "execution_count": 16,
   "metadata": {},
   "outputs": [
    {
     "name": "stdout",
     "output_type": "stream",
     "text": [
      "인공 신경망\n",
      "target           Iris-setosa  Iris-versicolor  Iris-virginica\n",
      "row_0                                                        \n",
      "Iris-setosa               17                0               0\n",
      "Iris-versicolor            0               15               0\n",
      "Iris-virginica             0                0              13\n"
     ]
    }
   ],
   "source": [
    "# N net2\n",
    "Nn_m = neural_network.MLPClassifier(max_iter=1000).fit(X_train,y_train)\n",
    "Nm_p = Nn_m.predict(X_test)\n",
    "print(\"인공 신경망\")\n",
    "print(pd.crosstab(Nm_p,y_test))\n",
    "# 100% 예측 성공?;;"
   ]
  },
  {
   "cell_type": "code",
   "execution_count": 18,
   "metadata": {},
   "outputs": [
    {
     "data": {
      "text/plain": [
       "Iris-setosa        17\n",
       "Iris-versicolor    15\n",
       "Iris-virginica     13\n",
       "Name: target, dtype: int64"
      ]
     },
     "execution_count": 18,
     "metadata": {},
     "output_type": "execute_result"
    }
   ],
   "source": [
    "y_test.value_counts()"
   ]
  },
  {
   "cell_type": "code",
   "execution_count": null,
   "metadata": {},
   "outputs": [],
   "source": [
    "# https://blog.naver.com/rimzz-/223054125109"
   ]
  },
  {
   "cell_type": "code",
   "execution_count": 21,
   "metadata": {},
   "outputs": [],
   "source": [
    "# 인공신경망 분류예측 코딩\n",
    "from sklearn.model_selection import train_test_split\n",
    "from sklearn.compose import ColumnTransformer\n",
    "from sklearn.preprocessing import StandardScaler\n",
    "from sklearn.preprocessing import OneHotEncoder\n",
    "from imblearn.over_sampling import SMOTE"
   ]
  },
  {
   "cell_type": "code",
   "execution_count": 22,
   "metadata": {},
   "outputs": [
    {
     "data": {
      "text/html": [
       "<div>\n",
       "<style scoped>\n",
       "    .dataframe tbody tr th:only-of-type {\n",
       "        vertical-align: middle;\n",
       "    }\n",
       "\n",
       "    .dataframe tbody tr th {\n",
       "        vertical-align: top;\n",
       "    }\n",
       "\n",
       "    .dataframe thead th {\n",
       "        text-align: right;\n",
       "    }\n",
       "</style>\n",
       "<table border=\"1\" class=\"dataframe\">\n",
       "  <thead>\n",
       "    <tr style=\"text-align: right;\">\n",
       "      <th></th>\n",
       "      <th>crim</th>\n",
       "      <th>zn</th>\n",
       "      <th>indus</th>\n",
       "      <th>chas</th>\n",
       "      <th>nox</th>\n",
       "      <th>rm</th>\n",
       "      <th>age</th>\n",
       "      <th>dis</th>\n",
       "      <th>rad</th>\n",
       "      <th>tax</th>\n",
       "      <th>ptratio</th>\n",
       "      <th>b</th>\n",
       "      <th>lstat</th>\n",
       "      <th>medv</th>\n",
       "    </tr>\n",
       "  </thead>\n",
       "  <tbody>\n",
       "    <tr>\n",
       "      <th>501</th>\n",
       "      <td>0.06263</td>\n",
       "      <td>0.0</td>\n",
       "      <td>11.93</td>\n",
       "      <td>0</td>\n",
       "      <td>0.573</td>\n",
       "      <td>6.593</td>\n",
       "      <td>69.1</td>\n",
       "      <td>2.4786</td>\n",
       "      <td>1</td>\n",
       "      <td>273</td>\n",
       "      <td>21.0</td>\n",
       "      <td>391.99</td>\n",
       "      <td>9.67</td>\n",
       "      <td>22.4</td>\n",
       "    </tr>\n",
       "    <tr>\n",
       "      <th>502</th>\n",
       "      <td>0.04527</td>\n",
       "      <td>0.0</td>\n",
       "      <td>11.93</td>\n",
       "      <td>0</td>\n",
       "      <td>0.573</td>\n",
       "      <td>6.120</td>\n",
       "      <td>76.7</td>\n",
       "      <td>2.2875</td>\n",
       "      <td>1</td>\n",
       "      <td>273</td>\n",
       "      <td>21.0</td>\n",
       "      <td>396.90</td>\n",
       "      <td>9.08</td>\n",
       "      <td>20.6</td>\n",
       "    </tr>\n",
       "    <tr>\n",
       "      <th>503</th>\n",
       "      <td>0.06076</td>\n",
       "      <td>0.0</td>\n",
       "      <td>11.93</td>\n",
       "      <td>0</td>\n",
       "      <td>0.573</td>\n",
       "      <td>6.976</td>\n",
       "      <td>91.0</td>\n",
       "      <td>2.1675</td>\n",
       "      <td>1</td>\n",
       "      <td>273</td>\n",
       "      <td>21.0</td>\n",
       "      <td>396.90</td>\n",
       "      <td>5.64</td>\n",
       "      <td>23.9</td>\n",
       "    </tr>\n",
       "    <tr>\n",
       "      <th>504</th>\n",
       "      <td>0.10959</td>\n",
       "      <td>0.0</td>\n",
       "      <td>11.93</td>\n",
       "      <td>0</td>\n",
       "      <td>0.573</td>\n",
       "      <td>6.794</td>\n",
       "      <td>89.3</td>\n",
       "      <td>2.3889</td>\n",
       "      <td>1</td>\n",
       "      <td>273</td>\n",
       "      <td>21.0</td>\n",
       "      <td>393.45</td>\n",
       "      <td>6.48</td>\n",
       "      <td>22.0</td>\n",
       "    </tr>\n",
       "    <tr>\n",
       "      <th>505</th>\n",
       "      <td>0.04741</td>\n",
       "      <td>0.0</td>\n",
       "      <td>11.93</td>\n",
       "      <td>0</td>\n",
       "      <td>0.573</td>\n",
       "      <td>6.030</td>\n",
       "      <td>80.8</td>\n",
       "      <td>2.5050</td>\n",
       "      <td>1</td>\n",
       "      <td>273</td>\n",
       "      <td>21.0</td>\n",
       "      <td>396.90</td>\n",
       "      <td>7.88</td>\n",
       "      <td>11.9</td>\n",
       "    </tr>\n",
       "  </tbody>\n",
       "</table>\n",
       "</div>"
      ],
      "text/plain": [
       "        crim   zn  indus  chas    nox     rm   age     dis  rad  tax  ptratio  \\\n",
       "501  0.06263  0.0  11.93     0  0.573  6.593  69.1  2.4786    1  273     21.0   \n",
       "502  0.04527  0.0  11.93     0  0.573  6.120  76.7  2.2875    1  273     21.0   \n",
       "503  0.06076  0.0  11.93     0  0.573  6.976  91.0  2.1675    1  273     21.0   \n",
       "504  0.10959  0.0  11.93     0  0.573  6.794  89.3  2.3889    1  273     21.0   \n",
       "505  0.04741  0.0  11.93     0  0.573  6.030  80.8  2.5050    1  273     21.0   \n",
       "\n",
       "          b  lstat  medv  \n",
       "501  391.99   9.67  22.4  \n",
       "502  396.90   9.08  20.6  \n",
       "503  396.90   5.64  23.9  \n",
       "504  393.45   6.48  22.0  \n",
       "505  396.90   7.88  11.9  "
      ]
     },
     "execution_count": 22,
     "metadata": {},
     "output_type": "execute_result"
    }
   ],
   "source": [
    "df02 = pd.read_csv(\"C:/Users/A202112006/Desktop/py/data/boston.csv\")\n",
    "df02.tail()"
   ]
  },
  {
   "cell_type": "code",
   "execution_count": 29,
   "metadata": {},
   "outputs": [],
   "source": [
    "#분류예측\n",
    "\n",
    "#1. 변수선택\n",
    "X = df02.drop('chas', axis =1)\n",
    "Y = df02[['chas']]\n",
    "\n",
    "#2. train-test split\n",
    "X_train, X_test, Y_train, Y_test = train_test_split(X,Y,test_size=0.3, random_state=2023)\n",
    "\n",
    "#3. 데이터 전처리(preprocessing)\n",
    "# ct = ColumnTransformer([(\"scaling\", StandardScaler(),['총매출액','1회 평균매출액','평균 구매주기','거래기간']),\n",
    "#                         (\"onehot\", OneHotEncoder(sparse=False),['구매금액대'])])\n",
    "\n",
    "# ct.fit(X_train)\n",
    "# ct.transform(X_train)\n",
    "# X_train = ct.transform(X_train)\n",
    "# X_test = ct.transform(X_test)\n",
    "# #fit 먼저 해서 인코딩이 되는지 확인하고 그것을 적용시켜주는게 transform이당나귀\n",
    "# [출처] [Python] 딥러닝(1) 인공신경망(artificial neural network)|작성자 khr0147\n",
    "\n",
    "\n",
    "#4. 오버샘플링\n",
    "smote = SMOTE(random_state=2023)\n",
    "X_train, Y_train = smote.fit_resample(X_train, Y_train)"
   ]
  },
  {
   "cell_type": "code",
   "execution_count": 32,
   "metadata": {},
   "outputs": [
    {
     "name": "stderr",
     "output_type": "stream",
     "text": [
      "c:\\Program Files\\Python38\\lib\\site-packages\\sklearn\\neural_network\\_multilayer_perceptron.py:1091: DataConversionWarning: A column-vector y was passed when a 1d array was expected. Please change the shape of y to (n_samples, ), for example using ravel().\n",
      "  y = column_or_1d(y, warn=True)\n"
     ]
    }
   ],
   "source": [
    "#5. 모델링\n",
    "from sklearn.neural_network import MLPClassifier\n",
    "nn_model = MLPClassifier(random_state=2023, alpha = 0.001, hidden_layer_sizes = [50])\n",
    "\n",
    "##5-1. 모형학습\n",
    "nn_model.fit(X_train, Y_train)\n",
    "\n",
    "#6. 예측\n",
    "Y_pred = nn_model.predict(X_test)"
   ]
  },
  {
   "cell_type": "code",
   "execution_count": 34,
   "metadata": {},
   "outputs": [
    {
     "name": "stdout",
     "output_type": "stream",
     "text": [
      "Y 예측값 \n",
      " [0 0 0 0 0 1 1 1 0 0 0 0 0 0 0 0 0 0 0 1 0 1 0 0 0 1 0 0 0 0 1 0 0 0 0 0 0\n",
      " 0 0 0 0 1 0 0 0 0 1 0 1 0 1 0 1 0 0 0 1 0 0 0 0 0 1 0 1 1 0 1 0 0 0 0 0 0\n",
      " 0 0 0 0 0 1 0 0 1 1 0 1 0 1 0 0 1 1 1 0 0 0 0 0 0 0 0 0 0 0 0 0 1 0 0 1 0\n",
      " 0 0 0 1 0 0 1 0 0 1 0 0 1 0 1 0 0 0 0 0 1 1 0 1 0 1 0 0 1 1 0 0 0 0 1 1 1\n",
      " 0 1 0 0]\n",
      "accuracy(train) : 0.869\n",
      "              precision    recall  f1-score   support\n",
      "\n",
      "           0       0.95      0.74      0.83       142\n",
      "           1       0.12      0.50      0.19        10\n",
      "\n",
      "    accuracy                           0.72       152\n",
      "   macro avg       0.54      0.62      0.51       152\n",
      "weighted avg       0.90      0.72      0.79       152\n",
      "\n"
     ]
    }
   ],
   "source": [
    "#7. 결과값 보고\n",
    "print(\"Y 예측값 \\n\", Y_pred)\n",
    "print(\"accuracy(train) : {:.3f}\".format(nn_model.score(X_train,Y_train)))\n",
    "from sklearn.metrics import classification_report\n",
    "print(classification_report(Y_test, Y_pred))"
   ]
  },
  {
   "cell_type": "code",
   "execution_count": 37,
   "metadata": {},
   "outputs": [],
   "source": [
    "###############################################################################################\n",
    "# 인공신경망 회귀예측 코딩\n",
    "#1. 변수선택\n",
    "X = df02.drop('chas', axis =1)\n",
    "Y = df02[['chas']]\n",
    "\n",
    "#2. train-test split\n",
    "X_train, X_test, Y_train, Y_test = train_test_split(X,Y,test_size=0.3, random_state=0)\n",
    "\n",
    "#3. 데이터 전처리(preprocessing)\n",
    "# ct = ColumnTransformer([(\"scaling\", StandardScaler(),['방문빈도','총 할인 금액','거래기간','평균 구매주기']),\n",
    "#                         (\"onehot\", OneHotEncoder(sparse=False),['고객등급','구매유형','할인민감여부'])])\n",
    "# ct.fit(X_train)\n",
    "# ct.transform(X_train)\n",
    "# X_train = ct.transform(X_train)\n",
    "# X_test = ct.transform(X_test)\n",
    "# #fit 먼저 해서 인코딩이 되는지 확인하고 그것을 적용시켜주는게 transform"
   ]
  },
  {
   "cell_type": "code",
   "execution_count": 38,
   "metadata": {},
   "outputs": [
    {
     "name": "stderr",
     "output_type": "stream",
     "text": [
      "c:\\Program Files\\Python38\\lib\\site-packages\\sklearn\\neural_network\\_multilayer_perceptron.py:1593: DataConversionWarning: A column-vector y was passed when a 1d array was expected. Please change the shape of y to (n_samples, ), for example using ravel().\n",
      "  y = column_or_1d(y, warn=True)\n"
     ]
    },
    {
     "name": "stdout",
     "output_type": "stream",
     "text": [
      "Y predict value : \n",
      " [ 1.22203603e-01  4.93035116e-02  7.79158422e-02 -6.40679232e-03\n",
      " -1.42475838e-01 -6.83820178e-02  1.43502550e-01 -1.83906889e-01\n",
      " -1.27537985e-01 -2.22357710e+00 -1.13500028e+00 -6.71032888e-01\n",
      " -1.25667022e-01 -9.77918799e-02  1.16250646e-01 -4.07024787e-03\n",
      "  1.87752723e-01  3.06643961e-01 -1.83109809e-02  1.40056195e-01\n",
      " -7.74585309e-03  7.21643941e-02 -2.71257479e-01  1.97612600e-01\n",
      " -3.76045783e-02  7.47975454e-01 -6.29781539e-03 -2.39378478e-01\n",
      "  1.71208388e-03  2.78976897e-02  2.37507538e-01  3.66290881e-03\n",
      " -2.78476991e-01  2.99524452e-02 -1.38337343e-02  1.73422933e-01\n",
      " -2.85559936e-01 -1.52581864e-01 -1.19548617e-01 -4.54021287e-01\n",
      " -1.56148059e-01  3.35239989e-02 -1.55154034e-01  1.96647913e-01\n",
      " -1.75946687e-01 -7.91627693e-02  2.73774592e-01 -6.69431954e-01\n",
      "  4.40364225e-01 -2.59333969e-01 -1.21852008e+00 -8.76699375e-01\n",
      "  5.50751285e-02 -1.61863454e-01 -1.55706365e-01  1.67252997e-01\n",
      "  5.64254141e-02 -6.40548529e-01 -4.98190666e-01  3.04622010e-01\n",
      "  4.46152263e-01  7.24456390e-02  1.91274876e-01  4.58671608e-01\n",
      " -6.66426826e-01  7.68947666e-01  5.40271884e-02 -8.96276247e-02\n",
      "  6.86114971e-01  2.74792803e-01 -8.43204983e-02 -1.26687888e-01\n",
      " -1.93829678e-01 -1.55609818e-01  4.12076322e-02 -3.95971282e-01\n",
      " -6.03786265e-03  1.68121766e-01  4.56562487e-02 -8.95557984e-02\n",
      " -1.48082883e-01  1.89698801e-02  1.44604506e-01 -1.10799823e-02\n",
      "  2.27805311e-02 -4.53077547e-02  1.02580841e-01  1.26720081e+00\n",
      "  2.64110980e-01 -1.27465284e-01 -1.21309587e+00 -1.96452108e-01\n",
      " -1.80995408e-01 -1.32495792e-01 -1.65385670e-01  3.60295982e-01\n",
      " -2.31536570e-01  1.82547325e-01  1.60018516e-01  1.02513715e-01\n",
      "  2.09872477e-01 -4.83946735e-01 -8.21931303e-02  3.20948335e-02\n",
      " -1.21126127e-01  1.04197490e-01  7.56038923e-01  8.13958453e-02\n",
      "  8.22493896e-02  1.12495291e-01  2.85900146e-01 -4.51822280e-01\n",
      "  3.33890023e-01  8.91879132e-02  2.57988209e-01  2.95312938e-01\n",
      " -8.22975010e-01  2.10977462e-01  7.89021518e-02 -3.44926730e-01\n",
      "  2.64736284e-01  1.18869216e-01  7.66885640e-03 -6.33930720e-02\n",
      " -1.01931939e-02 -1.50898635e-01 -1.11780361e-01  1.37379789e-01\n",
      "  3.96733028e-02  9.17149730e-02  2.66219820e-01  2.08934036e-01\n",
      " -6.66881032e-01 -8.31946600e-01  3.35279316e-01 -3.59432228e-01\n",
      "  3.29489627e-02  2.72381476e-01  2.21284857e-01 -1.18400493e-01\n",
      " -3.39723147e-01 -4.81566191e-01 -1.51695140e-01 -1.62858125e-01\n",
      " -2.82985556e+00 -1.34893222e-01 -2.92845146e-01 -4.07043293e-02\n",
      " -7.98052105e-02 -1.76711897e-01 -2.51711181e-01 -8.49647460e-02]\n",
      "train accuracy :-0.968\n",
      "RMSE : 0.545\n"
     ]
    }
   ],
   "source": [
    "#4. 모델링\n",
    "from sklearn.neural_network import MLPRegressor\n",
    "\n",
    "#4-1. 모델 생성\n",
    "nn_reg_model = MLPRegressor(random_state=0, alpha = 1, max_iter = 1000,\n",
    "                            hidden_layer_sizes = [50, 50])\n",
    "#하이퍼파라미터\n",
    "\n",
    "#5. 모형학습 및 예측\n",
    "nn_reg_model.fit(X_train,Y_train)\n",
    "Y_pred = nn_reg_model.predict(X_test)\n",
    "\n",
    "#6. 결과값 보고\n",
    "print(\"Y predict value : \\n\", Y_pred)\n",
    "print(\"train accuracy :{:.3f}\".format(nn_reg_model.score(X_train,Y_train)))\n",
    "from sklearn.metrics import mean_squared_error\n",
    "from math import sqrt\n",
    "rmse = sqrt(mean_squared_error(Y_test, Y_pred))\n",
    "print(\"RMSE : {:.3f}\".format(rmse)) "
   ]
  },
  {
   "cell_type": "code",
   "execution_count": null,
   "metadata": {},
   "outputs": [],
   "source": []
  },
  {
   "cell_type": "code",
   "execution_count": null,
   "metadata": {},
   "outputs": [],
   "source": []
  }
 ],
 "metadata": {
  "kernelspec": {
   "display_name": "Python 3.8.9 64-bit",
   "language": "python",
   "name": "python3"
  },
  "language_info": {
   "codemirror_mode": {
    "name": "ipython",
    "version": 3
   },
   "file_extension": ".py",
   "mimetype": "text/x-python",
   "name": "python",
   "nbconvert_exporter": "python",
   "pygments_lexer": "ipython3",
   "version": "3.8.9"
  },
  "toc": {
   "base_numbering": "17.1",
   "nav_menu": {},
   "number_sections": false,
   "sideBar": true,
   "skip_h1_title": false,
   "title_cell": "Table of Contents",
   "title_sidebar": "Contents",
   "toc_cell": false,
   "toc_position": {
    "height": "779px",
    "left": "120px",
    "top": "80px",
    "width": "165px"
   },
   "toc_section_display": true,
   "toc_window_display": true
  },
  "vscode": {
   "interpreter": {
    "hash": "570feb405e2e27c949193ac68f46852414290d515b0ba6e5d90d076ed2284471"
   }
  }
 },
 "nbformat": 4,
 "nbformat_minor": 4
}
