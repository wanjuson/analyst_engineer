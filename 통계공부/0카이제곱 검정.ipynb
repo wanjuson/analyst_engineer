{
 "cells": [
  {
   "cell_type": "code",
   "execution_count": null,
   "id": "cacd3bf8",
   "metadata": {},
   "outputs": [],
   "source": [
    "# 0카이제곱 검정\n",
    "# https://lunch-box.tistory.com/90"
   ]
  },
  {
   "cell_type": "code",
   "execution_count": 1,
   "id": "088be6de",
   "metadata": {},
   "outputs": [],
   "source": [
    "# A.카이제곱 검정(독립성)\n",
    "# 주로 2개의 명목형 변수를 대상으로 연관성에 대해 검정을 할 때 사용합니다.\n",
    "# ㅁ 가정\n",
    "# 1. 독립성 가정(한 명의 대상에게서 하나의 결과값을 얻어야 함)\n",
    "# 2. 기대 빈도가 5미만인 셀은 전체 셀의 20% 미만이어야 한다.\n",
    "# ㅁ 가설\n",
    "# 귀무가설 : 두 변수는 서로 독립적이다. (=연관이 없다.)\n",
    "# 대립가설 : 두 변수는 서로 독립적이지 않다. (=연관이 있다.)"
   ]
  },
  {
   "cell_type": "code",
   "execution_count": 1,
   "id": "9d13dd8f",
   "metadata": {},
   "outputs": [
    {
     "data": {
      "text/html": [
       "<div>\n",
       "<style scoped>\n",
       "    .dataframe tbody tr th:only-of-type {\n",
       "        vertical-align: middle;\n",
       "    }\n",
       "\n",
       "    .dataframe tbody tr th {\n",
       "        vertical-align: top;\n",
       "    }\n",
       "\n",
       "    .dataframe thead th {\n",
       "        text-align: right;\n",
       "    }\n",
       "</style>\n",
       "<table border=\"1\" class=\"dataframe\">\n",
       "  <thead>\n",
       "    <tr style=\"text-align: right;\">\n",
       "      <th></th>\n",
       "      <th>country</th>\n",
       "      <th>movie</th>\n",
       "    </tr>\n",
       "  </thead>\n",
       "  <tbody>\n",
       "    <tr>\n",
       "      <th>85</th>\n",
       "      <td>3</td>\n",
       "      <td>3</td>\n",
       "    </tr>\n",
       "    <tr>\n",
       "      <th>86</th>\n",
       "      <td>3</td>\n",
       "      <td>1</td>\n",
       "    </tr>\n",
       "    <tr>\n",
       "      <th>87</th>\n",
       "      <td>3</td>\n",
       "      <td>2</td>\n",
       "    </tr>\n",
       "    <tr>\n",
       "      <th>88</th>\n",
       "      <td>3</td>\n",
       "      <td>1</td>\n",
       "    </tr>\n",
       "    <tr>\n",
       "      <th>89</th>\n",
       "      <td>3</td>\n",
       "      <td>3</td>\n",
       "    </tr>\n",
       "  </tbody>\n",
       "</table>\n",
       "</div>"
      ],
      "text/plain": [
       "    country  movie\n",
       "85        3      3\n",
       "86        3      1\n",
       "87        3      2\n",
       "88        3      1\n",
       "89        3      3"
      ]
     },
     "execution_count": 1,
     "metadata": {},
     "output_type": "execute_result"
    }
   ],
   "source": [
    "import pandas as pd\n",
    "df = pd.read_csv('C:/adp/data/chisquare.csv')\n",
    "df.tail()"
   ]
  },
  {
   "cell_type": "code",
   "execution_count": 2,
   "id": "3492267d",
   "metadata": {},
   "outputs": [
    {
     "data": {
      "text/plain": [
       "country  movie\n",
       "1        1        12\n",
       "         2         9\n",
       "         3         9\n",
       "2        1         8\n",
       "         2        18\n",
       "         3         4\n",
       "3        1         4\n",
       "         2         2\n",
       "         3        24\n",
       "Name: movie, dtype: int64"
      ]
     },
     "execution_count": 2,
     "metadata": {},
     "output_type": "execute_result"
    }
   ],
   "source": [
    "df.groupby(['country', 'movie'])['movie'].count()"
   ]
  },
  {
   "cell_type": "code",
   "execution_count": 3,
   "id": "cdfe0e45",
   "metadata": {},
   "outputs": [
    {
     "data": {
      "text/plain": [
       "[[12, 9, 9], [8, 18, 4], [4, 2, 24]]"
      ]
     },
     "execution_count": 3,
     "metadata": {},
     "output_type": "execute_result"
    }
   ],
   "source": [
    "df2 = [ [12,9,9], [8,18,4], [4,2,24] ]\n",
    "df2"
   ]
  },
  {
   "cell_type": "code",
   "execution_count": 4,
   "id": "d1c8c1af",
   "metadata": {},
   "outputs": [
    {
     "name": "stdout",
     "output_type": "stream",
     "text": [
      "34.87791239515377 4.921459163940145e-07 4 [[ 8.          9.66666667 12.33333333]\n",
      " [ 8.          9.66666667 12.33333333]\n",
      " [ 8.          9.66666667 12.33333333]]\n"
     ]
    }
   ],
   "source": [
    "from scipy.stats import chi2_contingency\n",
    "chi, p, df, expect = chi2_contingency(df2)\n",
    "print(chi, p, df, expect )\n",
    "# 독립성 검정결과 p-value가 유의수준 0.05보다 작으므로 귀무가설을 기긱한다. \n",
    "# country, movie는 유의수준 0.05하에서 독립이 아니라고 할 수 있다."
   ]
  },
  {
   "cell_type": "code",
   "execution_count": 9,
   "id": "5aed2f03",
   "metadata": {},
   "outputs": [
    {
     "name": "stderr",
     "output_type": "stream",
     "text": [
      "c:\\Users\\신주현\\AppData\\Local\\Programs\\Python\\Python37\\lib\\site-packages\\pingouin\\contingency.py:150: UserWarning: Low count on observed frequencies.\n",
      "  warnings.warn(\"Low count on {} frequencies.\".format(name))\n"
     ]
    },
    {
     "data": {
      "text/html": [
       "<div>\n",
       "<style scoped>\n",
       "    .dataframe tbody tr th:only-of-type {\n",
       "        vertical-align: middle;\n",
       "    }\n",
       "\n",
       "    .dataframe tbody tr th {\n",
       "        vertical-align: top;\n",
       "    }\n",
       "\n",
       "    .dataframe thead th {\n",
       "        text-align: right;\n",
       "    }\n",
       "</style>\n",
       "<table border=\"1\" class=\"dataframe\">\n",
       "  <thead>\n",
       "    <tr style=\"text-align: right;\">\n",
       "      <th></th>\n",
       "      <th>test</th>\n",
       "      <th>lambda</th>\n",
       "      <th>chi2</th>\n",
       "      <th>dof</th>\n",
       "      <th>pval</th>\n",
       "      <th>cramer</th>\n",
       "      <th>power</th>\n",
       "    </tr>\n",
       "  </thead>\n",
       "  <tbody>\n",
       "    <tr>\n",
       "      <th>0</th>\n",
       "      <td>pearson</td>\n",
       "      <td>1.000000</td>\n",
       "      <td>34.877912</td>\n",
       "      <td>4.0</td>\n",
       "      <td>4.921459e-07</td>\n",
       "      <td>0.440189</td>\n",
       "      <td>0.935548</td>\n",
       "    </tr>\n",
       "    <tr>\n",
       "      <th>1</th>\n",
       "      <td>cressie-read</td>\n",
       "      <td>0.666667</td>\n",
       "      <td>34.848447</td>\n",
       "      <td>4.0</td>\n",
       "      <td>4.990512e-07</td>\n",
       "      <td>0.440003</td>\n",
       "      <td>0.935337</td>\n",
       "    </tr>\n",
       "    <tr>\n",
       "      <th>2</th>\n",
       "      <td>log-likelihood</td>\n",
       "      <td>0.000000</td>\n",
       "      <td>36.254719</td>\n",
       "      <td>4.0</td>\n",
       "      <td>2.564737e-07</td>\n",
       "      <td>0.448793</td>\n",
       "      <td>0.944723</td>\n",
       "    </tr>\n",
       "    <tr>\n",
       "      <th>3</th>\n",
       "      <td>freeman-tukey</td>\n",
       "      <td>-0.500000</td>\n",
       "      <td>38.926877</td>\n",
       "      <td>4.0</td>\n",
       "      <td>7.212978e-08</td>\n",
       "      <td>0.465038</td>\n",
       "      <td>0.959237</td>\n",
       "    </tr>\n",
       "    <tr>\n",
       "      <th>4</th>\n",
       "      <td>mod-log-likelihood</td>\n",
       "      <td>-1.000000</td>\n",
       "      <td>43.550672</td>\n",
       "      <td>4.0</td>\n",
       "      <td>7.953469e-09</td>\n",
       "      <td>0.491882</td>\n",
       "      <td>0.976388</td>\n",
       "    </tr>\n",
       "    <tr>\n",
       "      <th>5</th>\n",
       "      <td>neyman</td>\n",
       "      <td>-2.000000</td>\n",
       "      <td>62.896605</td>\n",
       "      <td>4.0</td>\n",
       "      <td>7.134569e-13</td>\n",
       "      <td>0.591122</td>\n",
       "      <td>0.998058</td>\n",
       "    </tr>\n",
       "  </tbody>\n",
       "</table>\n",
       "</div>"
      ],
      "text/plain": [
       "                 test    lambda       chi2  dof          pval    cramer  \\\n",
       "0             pearson  1.000000  34.877912  4.0  4.921459e-07  0.440189   \n",
       "1        cressie-read  0.666667  34.848447  4.0  4.990512e-07  0.440003   \n",
       "2      log-likelihood  0.000000  36.254719  4.0  2.564737e-07  0.448793   \n",
       "3       freeman-tukey -0.500000  38.926877  4.0  7.212978e-08  0.465038   \n",
       "4  mod-log-likelihood -1.000000  43.550672  4.0  7.953469e-09  0.491882   \n",
       "5              neyman -2.000000  62.896605  4.0  7.134569e-13  0.591122   \n",
       "\n",
       "      power  \n",
       "0  0.935548  \n",
       "1  0.935337  \n",
       "2  0.944723  \n",
       "3  0.959237  \n",
       "4  0.976388  \n",
       "5  0.998058  "
      ]
     },
     "execution_count": 9,
     "metadata": {},
     "output_type": "execute_result"
    }
   ],
   "source": [
    "import pingouin as pg\n",
    "expected, observed, stats = pg.chi2_independence(df, x='country', y='movie')\n",
    "stats # pearson으로 확인하면 된다.\n",
    "# 독립성 검정결과 pval 4.921459e-07로 유의수준 0.05보다 작으므로 귀무가설을 기긱한다. \n",
    "# country, movie는 유의수준 0.05하에서 독립이 아니라고 할 수 있다."
   ]
  },
  {
   "cell_type": "code",
   "execution_count": 10,
   "id": "dfbd0f35",
   "metadata": {},
   "outputs": [
    {
     "name": "stdout",
     "output_type": "stream",
     "text": [
      "movie      1         2          3\n",
      "country                          \n",
      "1        8.0  9.666667  12.333333\n",
      "2        8.0  9.666667  12.333333\n",
      "3        8.0  9.666667  12.333333\n"
     ]
    }
   ],
   "source": [
    "print(expected)"
   ]
  },
  {
   "cell_type": "code",
   "execution_count": 11,
   "id": "c08e9701",
   "metadata": {},
   "outputs": [
    {
     "data": {
      "text/html": [
       "<div>\n",
       "<style scoped>\n",
       "    .dataframe tbody tr th:only-of-type {\n",
       "        vertical-align: middle;\n",
       "    }\n",
       "\n",
       "    .dataframe tbody tr th {\n",
       "        vertical-align: top;\n",
       "    }\n",
       "\n",
       "    .dataframe thead th {\n",
       "        text-align: right;\n",
       "    }\n",
       "</style>\n",
       "<table border=\"1\" class=\"dataframe\">\n",
       "  <thead>\n",
       "    <tr style=\"text-align: right;\">\n",
       "      <th>movie</th>\n",
       "      <th>1</th>\n",
       "      <th>2</th>\n",
       "      <th>3</th>\n",
       "    </tr>\n",
       "    <tr>\n",
       "      <th>country</th>\n",
       "      <th></th>\n",
       "      <th></th>\n",
       "      <th></th>\n",
       "    </tr>\n",
       "  </thead>\n",
       "  <tbody>\n",
       "    <tr>\n",
       "      <th>1</th>\n",
       "      <td>12</td>\n",
       "      <td>9</td>\n",
       "      <td>9</td>\n",
       "    </tr>\n",
       "    <tr>\n",
       "      <th>2</th>\n",
       "      <td>8</td>\n",
       "      <td>18</td>\n",
       "      <td>4</td>\n",
       "    </tr>\n",
       "    <tr>\n",
       "      <th>3</th>\n",
       "      <td>4</td>\n",
       "      <td>2</td>\n",
       "      <td>24</td>\n",
       "    </tr>\n",
       "  </tbody>\n",
       "</table>\n",
       "</div>"
      ],
      "text/plain": [
       "movie     1   2   3\n",
       "country            \n",
       "1        12   9   9\n",
       "2         8  18   4\n",
       "3         4   2  24"
      ]
     },
     "execution_count": 11,
     "metadata": {},
     "output_type": "execute_result"
    }
   ],
   "source": [
    "observed"
   ]
  }
 ],
 "metadata": {
  "kernelspec": {
   "display_name": "Python 3",
   "language": "python",
   "name": "python3"
  },
  "language_info": {
   "codemirror_mode": {
    "name": "ipython",
    "version": 3
   },
   "file_extension": ".py",
   "mimetype": "text/x-python",
   "name": "python",
   "nbconvert_exporter": "python",
   "pygments_lexer": "ipython3",
   "version": "3.7.9"
  },
  "vscode": {
   "interpreter": {
    "hash": "5aa634c14859627405404137fecabd2d911e45a844039ce454abb52cf9f696dc"
   }
  }
 },
 "nbformat": 4,
 "nbformat_minor": 5
}
