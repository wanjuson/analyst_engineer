{
 "cells": [
  {
   "cell_type": "code",
   "execution_count": null,
   "id": "cacd3bf8",
   "metadata": {},
   "outputs": [],
   "source": [
    "# 크론바흐 알파 계수(Cronbach's Alpha)\n",
    "# https://lunch-box.tistory.com/89"
   ]
  },
  {
   "cell_type": "code",
   "execution_count": 1,
   "id": "088be6de",
   "metadata": {},
   "outputs": [],
   "source": [
    "# 크론바흐 알파 계수(Cronbach's Alpha)란??\n",
    "# 신뢰도를 검사하는 방법. 주로 동일한 목표를 측정하기 위한 여러 개의 설문 항목에 대해 실시합니다.\n",
    "# * 신뢰도 검사 : 측정하고자 하는 것을 얼마나 일관적이게 측정하고 있는지 검사하는 것\n",
    "# ㅁ 가정\n",
    "# 1. 각 항목은 동일한 주제를 측정하는 것이다.\n",
    "# 2. 각 항목의 중요도는 모두 동일하다.\n",
    "# ㅁ 신뢰도\n",
    "#  - 측정척도의 신뢰도란 측정척도가 측정하려고 의도하는것을 얼마나 정확하게 오차 없이 측정하고 있는지를 나타냄\n",
    "#  - 동일한 개념(또는 개상)을 유사한 척도로 측정할 경우 일관된 결과를 산출하는 정도\n",
    "#   . 신뢰도가 높다는 것은 동일한 개념을 측정하기 위해 고안된 서로 다른 측정도구가 같은 결과를 산출한다는 것을 의미\n",
    "#   . 또는 동일한 측정도구를 이용하는 시간 간격을 두고 측정하였을 때 두 결과의 일치도가 높다는 의미\n",
    "# ㅁ 신뢰도 지표\n",
    "# ㅁ 크론바흐 알파계수\n",
    "#  - 하나의 개념을 여러 측정항목으로 측정할 때 나타나는 항목 간의 일관성이나 동질성의 정도를 나타내며 이를 내적일관성이라고 함\n",
    "#  - 0에서 1 사이의 값을 가지며 클수록 측정항목의 신뢰도가 높음\n",
    "#  - 0.8 이상 : 바람직, 0.6~0.8 : 수용할만, 0.6 이하 : 신뢰도 결어"
   ]
  },
  {
   "cell_type": "code",
   "execution_count": 1,
   "id": "9d13dd8f",
   "metadata": {},
   "outputs": [
    {
     "data": {
      "text/html": [
       "<div>\n",
       "<style scoped>\n",
       "    .dataframe tbody tr th:only-of-type {\n",
       "        vertical-align: middle;\n",
       "    }\n",
       "\n",
       "    .dataframe tbody tr th {\n",
       "        vertical-align: top;\n",
       "    }\n",
       "\n",
       "    .dataframe thead th {\n",
       "        text-align: right;\n",
       "    }\n",
       "</style>\n",
       "<table border=\"1\" class=\"dataframe\">\n",
       "  <thead>\n",
       "    <tr style=\"text-align: right;\">\n",
       "      <th></th>\n",
       "      <th>a1</th>\n",
       "      <th>a2</th>\n",
       "      <th>a3</th>\n",
       "      <th>a4</th>\n",
       "      <th>a5</th>\n",
       "      <th>b1</th>\n",
       "      <th>b2</th>\n",
       "      <th>b3</th>\n",
       "      <th>b4</th>\n",
       "      <th>b5</th>\n",
       "    </tr>\n",
       "  </thead>\n",
       "  <tbody>\n",
       "    <tr>\n",
       "      <th>35</th>\n",
       "      <td>7</td>\n",
       "      <td>6</td>\n",
       "      <td>6</td>\n",
       "      <td>7</td>\n",
       "      <td>5</td>\n",
       "      <td>6</td>\n",
       "      <td>5</td>\n",
       "      <td>6</td>\n",
       "      <td>5</td>\n",
       "      <td>5</td>\n",
       "    </tr>\n",
       "    <tr>\n",
       "      <th>36</th>\n",
       "      <td>6</td>\n",
       "      <td>6</td>\n",
       "      <td>7</td>\n",
       "      <td>7</td>\n",
       "      <td>7</td>\n",
       "      <td>7</td>\n",
       "      <td>7</td>\n",
       "      <td>4</td>\n",
       "      <td>5</td>\n",
       "      <td>7</td>\n",
       "    </tr>\n",
       "    <tr>\n",
       "      <th>37</th>\n",
       "      <td>7</td>\n",
       "      <td>7</td>\n",
       "      <td>7</td>\n",
       "      <td>7</td>\n",
       "      <td>7</td>\n",
       "      <td>7</td>\n",
       "      <td>7</td>\n",
       "      <td>7</td>\n",
       "      <td>5</td>\n",
       "      <td>7</td>\n",
       "    </tr>\n",
       "    <tr>\n",
       "      <th>38</th>\n",
       "      <td>4</td>\n",
       "      <td>5</td>\n",
       "      <td>5</td>\n",
       "      <td>6</td>\n",
       "      <td>7</td>\n",
       "      <td>7</td>\n",
       "      <td>5</td>\n",
       "      <td>5</td>\n",
       "      <td>4</td>\n",
       "      <td>6</td>\n",
       "    </tr>\n",
       "    <tr>\n",
       "      <th>39</th>\n",
       "      <td>5</td>\n",
       "      <td>5</td>\n",
       "      <td>5</td>\n",
       "      <td>5</td>\n",
       "      <td>4</td>\n",
       "      <td>6</td>\n",
       "      <td>7</td>\n",
       "      <td>7</td>\n",
       "      <td>7</td>\n",
       "      <td>7</td>\n",
       "    </tr>\n",
       "  </tbody>\n",
       "</table>\n",
       "</div>"
      ],
      "text/plain": [
       "    a1  a2  a3  a4  a5  b1  b2  b3  b4  b5\n",
       "35   7   6   6   7   5   6   5   6   5   5\n",
       "36   6   6   7   7   7   7   7   4   5   7\n",
       "37   7   7   7   7   7   7   7   7   5   7\n",
       "38   4   5   5   6   7   7   5   5   4   6\n",
       "39   5   5   5   5   4   6   7   7   7   7"
      ]
     },
     "execution_count": 1,
     "metadata": {},
     "output_type": "execute_result"
    }
   ],
   "source": [
    "import pandas as pd\n",
    "df = pd.read_csv('C:/adp/data/cronbachs_alpha.csv')\n",
    "df.tail()"
   ]
  },
  {
   "cell_type": "code",
   "execution_count": 6,
   "id": "d1c8c1af",
   "metadata": {},
   "outputs": [
    {
     "data": {
      "text/plain": [
       "(0.777338382653574, array([0.646, 0.87 ]))"
      ]
     },
     "execution_count": 6,
     "metadata": {},
     "output_type": "execute_result"
    }
   ],
   "source": [
    "import pingouin as pg\n",
    "pg.cronbach_alpha(data=df[['a1', 'a2', 'a3', 'a4', 'a5']])\n",
    "# 0.777로 0.6 이상이므로 신뢰도가 있다고 볼 수 있다."
   ]
  },
  {
   "cell_type": "code",
   "execution_count": 7,
   "id": "431328fd",
   "metadata": {},
   "outputs": [
    {
     "data": {
      "text/plain": [
       "(0.6941793893129772, array([0.514, 0.822]))"
      ]
     },
     "execution_count": 7,
     "metadata": {},
     "output_type": "execute_result"
    }
   ],
   "source": [
    "import pingouin as pg\n",
    "pg.cronbach_alpha(data=df[['b1', 'b2', 'b3', 'b4', 'b5']])\n",
    "# 0.694로 0.6 이상이므로 신뢰도가 있다고 볼 수 있다."
   ]
  }
 ],
 "metadata": {
  "kernelspec": {
   "display_name": "Python 3",
   "language": "python",
   "name": "python3"
  },
  "language_info": {
   "codemirror_mode": {
    "name": "ipython",
    "version": 3
   },
   "file_extension": ".py",
   "mimetype": "text/x-python",
   "name": "python",
   "nbconvert_exporter": "python",
   "pygments_lexer": "ipython3",
   "version": "3.7.9"
  },
  "vscode": {
   "interpreter": {
    "hash": "5aa634c14859627405404137fecabd2d911e45a844039ce454abb52cf9f696dc"
   }
  }
 },
 "nbformat": 4,
 "nbformat_minor": 5
}
