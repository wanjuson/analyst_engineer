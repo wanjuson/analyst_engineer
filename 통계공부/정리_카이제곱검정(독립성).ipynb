{
 "cells": [
  {
   "cell_type": "code",
   "execution_count": null,
   "id": "cacd3bf8",
   "metadata": {},
   "outputs": [],
   "source": [
    "# A 피셔의 정확검정\n",
    "# B McNemar Test(맥니마 검정)\n",
    "# C 카이제곱 검정(독립성)\n",
    "# D 카이제곱 검정(적합성, 동질성) - 파이썬 한권으로 끝내기 319P 참고"
   ]
  },
  {
   "cell_type": "code",
   "execution_count": 1,
   "id": "088be6de",
   "metadata": {},
   "outputs": [],
   "source": [
    "## A 피셔의 정확검정\n",
    "# 카이제곱 검정에서 기대 빈도 가정이 충족되지 못 할 때 사용하는 검정법\n",
    "# 편하게 생각하시려면, 표본 수가 적을 때 사용하는 카이제곱 검정이라고 생각할 수 있습니다.\n",
    "# (1) n(총수)이 충분히 크지 않다면(25보다 크지 않다) 어떤 방법을 사용해야하고 \n",
    "# (2) 각 개별 구간수가 작으면( 기대도수가 5 미만인 칸이 전체의 20%를 초과) 피셔의 정확검정을 사용한다.\n",
    "\n",
    "# ㅁ 가정\n",
    "# 1. 독립성 가정(한 명의 대상에게서 하나의 결과값을 얻어야 함)\n",
    "# ㅁ 가설\n",
    "# 귀무가설 : 두 변수는 서로 독립적이다. (=연관이 없다.)\n",
    "# 대립가설 : 두 변수는 서로 독립적이지 않다. (=연관이 있다.)"
   ]
  },
  {
   "cell_type": "code",
   "execution_count": 2,
   "id": "9d13dd8f",
   "metadata": {},
   "outputs": [
    {
     "data": {
      "text/html": [
       "<div>\n",
       "<style scoped>\n",
       "    .dataframe tbody tr th:only-of-type {\n",
       "        vertical-align: middle;\n",
       "    }\n",
       "\n",
       "    .dataframe tbody tr th {\n",
       "        vertical-align: top;\n",
       "    }\n",
       "\n",
       "    .dataframe thead th {\n",
       "        text-align: right;\n",
       "    }\n",
       "</style>\n",
       "<table border=\"1\" class=\"dataframe\">\n",
       "  <thead>\n",
       "    <tr style=\"text-align: right;\">\n",
       "      <th></th>\n",
       "      <th>country</th>\n",
       "      <th>movie</th>\n",
       "    </tr>\n",
       "  </thead>\n",
       "  <tbody>\n",
       "    <tr>\n",
       "      <th>85</th>\n",
       "      <td>3</td>\n",
       "      <td>3</td>\n",
       "    </tr>\n",
       "    <tr>\n",
       "      <th>86</th>\n",
       "      <td>3</td>\n",
       "      <td>1</td>\n",
       "    </tr>\n",
       "    <tr>\n",
       "      <th>87</th>\n",
       "      <td>3</td>\n",
       "      <td>2</td>\n",
       "    </tr>\n",
       "    <tr>\n",
       "      <th>88</th>\n",
       "      <td>3</td>\n",
       "      <td>1</td>\n",
       "    </tr>\n",
       "    <tr>\n",
       "      <th>89</th>\n",
       "      <td>3</td>\n",
       "      <td>3</td>\n",
       "    </tr>\n",
       "  </tbody>\n",
       "</table>\n",
       "</div>"
      ],
      "text/plain": [
       "    country  movie\n",
       "85        3      3\n",
       "86        3      1\n",
       "87        3      2\n",
       "88        3      1\n",
       "89        3      3"
      ]
     },
     "execution_count": 2,
     "metadata": {},
     "output_type": "execute_result"
    }
   ],
   "source": [
    "import pandas as pd\n",
    "df = pd.read_csv('C:/adp/data/chisquare.csv')\n",
    "df.tail()"
   ]
  },
  {
   "cell_type": "code",
   "execution_count": 7,
   "id": "28ec7d99",
   "metadata": {},
   "outputs": [
    {
     "name": "stdout",
     "output_type": "stream",
     "text": [
      "country  movie\n",
      "1        1        12\n",
      "         2         9\n",
      "         3         9\n",
      "2        1         8\n",
      "         2        18\n",
      "         3         4\n",
      "3        1         4\n",
      "         2         2\n",
      "         3        24\n",
      "Name: movie, dtype: int64\n"
     ]
    }
   ],
   "source": [
    "print(df.groupby(['country', 'movie'])['movie'].count())\n",
    "df3 = [ [12,9], [8,18] ]"
   ]
  },
  {
   "cell_type": "code",
   "execution_count": 5,
   "id": "3492267d",
   "metadata": {},
   "outputs": [
    {
     "name": "stdout",
     "output_type": "stream",
     "text": [
      "3.0\n",
      "0.08371071933650787\n"
     ]
    }
   ],
   "source": [
    "from scipy.stats import fisher_exact\n",
    "oddsratio, pvalue = fisher_exact(df3)\n",
    "print(oddsratio)\n",
    "print(pvalue)\n",
    "# p-value=0.0837 이므로 귀무가설을 채택하여 두 변수는 서로 독립적(연관이없다)라고 할 수 있다."
   ]
  },
  {
   "cell_type": "code",
   "execution_count": null,
   "id": "49c48107",
   "metadata": {},
   "outputs": [],
   "source": [
    "## B McNemar Test(맥니마 검정)\n",
    "# 2x2 빈도표에서 사용합니다.\n",
    "# 표본이 독립이 아닐 때(=대응표본일 때), 사용하는 검정입니다.\n",
    "# ㅁ 가정 \n",
    "# 1. 표본이 대응 표본이다. (표본들이 독립이 아님.) > 가설 - 귀무가설 : 처리전후 동일하다. 대립가설 : 처리전후 동일하지 않다.\n",
    "# 2. 각각 받은 집단의 합이 20 이상"
   ]
  },
  {
   "cell_type": "code",
   "execution_count": 1,
   "id": "cdfe0e45",
   "metadata": {},
   "outputs": [
    {
     "data": {
      "text/html": [
       "<div>\n",
       "<style scoped>\n",
       "    .dataframe tbody tr th:only-of-type {\n",
       "        vertical-align: middle;\n",
       "    }\n",
       "\n",
       "    .dataframe tbody tr th {\n",
       "        vertical-align: top;\n",
       "    }\n",
       "\n",
       "    .dataframe thead th {\n",
       "        text-align: right;\n",
       "    }\n",
       "</style>\n",
       "<table border=\"1\" class=\"dataframe\">\n",
       "  <thead>\n",
       "    <tr style=\"text-align: right;\">\n",
       "      <th></th>\n",
       "      <th>before</th>\n",
       "      <th>after</th>\n",
       "    </tr>\n",
       "  </thead>\n",
       "  <tbody>\n",
       "    <tr>\n",
       "      <th>65</th>\n",
       "      <td>1</td>\n",
       "      <td>0</td>\n",
       "    </tr>\n",
       "    <tr>\n",
       "      <th>66</th>\n",
       "      <td>0</td>\n",
       "      <td>0</td>\n",
       "    </tr>\n",
       "    <tr>\n",
       "      <th>67</th>\n",
       "      <td>0</td>\n",
       "      <td>1</td>\n",
       "    </tr>\n",
       "    <tr>\n",
       "      <th>68</th>\n",
       "      <td>1</td>\n",
       "      <td>1</td>\n",
       "    </tr>\n",
       "    <tr>\n",
       "      <th>69</th>\n",
       "      <td>1</td>\n",
       "      <td>0</td>\n",
       "    </tr>\n",
       "  </tbody>\n",
       "</table>\n",
       "</div>"
      ],
      "text/plain": [
       "    before  after\n",
       "65       1      0\n",
       "66       0      0\n",
       "67       0      1\n",
       "68       1      1\n",
       "69       1      0"
      ]
     },
     "execution_count": 1,
     "metadata": {},
     "output_type": "execute_result"
    }
   ],
   "source": [
    "import pandas as pd\n",
    "df = pd.read_csv('C:/adp/data/mcnemar.csv')\n",
    "df.tail()"
   ]
  },
  {
   "cell_type": "code",
   "execution_count": 2,
   "id": "e59e0a81",
   "metadata": {},
   "outputs": [
    {
     "name": "stderr",
     "output_type": "stream",
     "text": [
      "c:\\Users\\신주현\\AppData\\Local\\Programs\\Python\\Python37\\lib\\site-packages\\outdated\\utils.py:18: OutdatedPackageWarning: The package pingouin is out of date. Your version is 0.5.2, the latest is 0.5.3.\n",
      "Set the environment variable OUTDATED_IGNORE=1 to disable these warnings.\n",
      "  **kwargs\n"
     ]
    },
    {
     "data": {
      "text/plain": [
       "(after    0   1\n",
       " before        \n",
       " 0       16  14\n",
       " 1       29  11,\n",
       "              chi2  dof  p-approx   p-exact\n",
       " mcnemar  5.232558    1  0.022168  0.031539)"
      ]
     },
     "execution_count": 2,
     "metadata": {},
     "output_type": "execute_result"
    }
   ],
   "source": [
    "import pingouin as pg\n",
    "# McNemar's Test with no continuity correction\n",
    "pg.chi2_mcnemar(df, 'before', 'after', correction = False) \n",
    "# p-value=0.0327 이므로 귀무가설을 기각하여 처리전후 차이가 존재한다고 볼 수 있음"
   ]
  },
  {
   "cell_type": "code",
   "execution_count": 3,
   "id": "605b6b61",
   "metadata": {},
   "outputs": [
    {
     "data": {
      "text/plain": [
       "(after    0   1\n",
       " before        \n",
       " 0       16  14\n",
       " 1       29  11,\n",
       "             chi2  dof  p-approx   p-exact\n",
       " mcnemar  4.55814    1  0.032763  0.031539)"
      ]
     },
     "execution_count": 3,
     "metadata": {},
     "output_type": "execute_result"
    }
   ],
   "source": [
    "# McNemar's Test with continuity correction \n",
    "# 오차를 교정하기 위해 검정통계량은 아래와 같이 수정합니다. 분자의 제곱되는 항에 절댓값을 씌우고 0.5를 뺀 것입니다. 이는 검정통계량의 크기는 감소하고 p값은 증가함. \n",
    "pg.chi2_mcnemar(df, 'before', 'after', correction = True) \n",
    "# p-value=0.02 이므로 귀무가설을 기각하여 처리전후 차이가 존재한다고 볼 수 있음"
   ]
  },
  {
   "cell_type": "code",
   "execution_count": 4,
   "id": "14492bcf",
   "metadata": {},
   "outputs": [],
   "source": [
    "## C 카이제곱 검정(독립성)\n",
    "# 주로 2개의 명목형 변수를 대상으로 연관성에 대해 검정을 할 때 사용합니다.\n",
    "# ㅁ 가정\n",
    "# 1. 독립성 가정(한 명의 대상에게서 하나의 결과값을 얻어야 함)\n",
    "# 2. 기대 빈도가 5미만인 셀은 전체 셀의 20% 미만이어야 한다.\n",
    "# ㅁ 가설\n",
    "# 귀무가설 : 두 변수는 서로 독립적이다. (=연관이 없다.)\n",
    "# 대립가설 : 두 변수는 서로 독립적이지 않다. (=연관이 있다.)"
   ]
  },
  {
   "cell_type": "code",
   "execution_count": 17,
   "id": "c06cfc97",
   "metadata": {},
   "outputs": [
    {
     "data": {
      "text/html": [
       "<div>\n",
       "<style scoped>\n",
       "    .dataframe tbody tr th:only-of-type {\n",
       "        vertical-align: middle;\n",
       "    }\n",
       "\n",
       "    .dataframe tbody tr th {\n",
       "        vertical-align: top;\n",
       "    }\n",
       "\n",
       "    .dataframe thead th {\n",
       "        text-align: right;\n",
       "    }\n",
       "</style>\n",
       "<table border=\"1\" class=\"dataframe\">\n",
       "  <thead>\n",
       "    <tr style=\"text-align: right;\">\n",
       "      <th></th>\n",
       "      <th>country</th>\n",
       "      <th>movie</th>\n",
       "    </tr>\n",
       "  </thead>\n",
       "  <tbody>\n",
       "    <tr>\n",
       "      <th>85</th>\n",
       "      <td>3</td>\n",
       "      <td>3</td>\n",
       "    </tr>\n",
       "    <tr>\n",
       "      <th>86</th>\n",
       "      <td>3</td>\n",
       "      <td>1</td>\n",
       "    </tr>\n",
       "    <tr>\n",
       "      <th>87</th>\n",
       "      <td>3</td>\n",
       "      <td>2</td>\n",
       "    </tr>\n",
       "    <tr>\n",
       "      <th>88</th>\n",
       "      <td>3</td>\n",
       "      <td>1</td>\n",
       "    </tr>\n",
       "    <tr>\n",
       "      <th>89</th>\n",
       "      <td>3</td>\n",
       "      <td>3</td>\n",
       "    </tr>\n",
       "  </tbody>\n",
       "</table>\n",
       "</div>"
      ],
      "text/plain": [
       "    country  movie\n",
       "85        3      3\n",
       "86        3      1\n",
       "87        3      2\n",
       "88        3      1\n",
       "89        3      3"
      ]
     },
     "execution_count": 17,
     "metadata": {},
     "output_type": "execute_result"
    }
   ],
   "source": [
    "import pandas as pd\n",
    "df = pd.read_csv('C:/adp/data/chisquare.csv')\n",
    "df.tail()"
   ]
  },
  {
   "cell_type": "code",
   "execution_count": 18,
   "id": "107b8c5b",
   "metadata": {},
   "outputs": [
    {
     "name": "stderr",
     "output_type": "stream",
     "text": [
      "c:\\Users\\신주현\\AppData\\Local\\Programs\\Python\\Python37\\lib\\site-packages\\pingouin\\contingency.py:150: UserWarning: Low count on observed frequencies.\n",
      "  warnings.warn(\"Low count on {} frequencies.\".format(name))\n"
     ]
    },
    {
     "data": {
      "text/html": [
       "<div>\n",
       "<style scoped>\n",
       "    .dataframe tbody tr th:only-of-type {\n",
       "        vertical-align: middle;\n",
       "    }\n",
       "\n",
       "    .dataframe tbody tr th {\n",
       "        vertical-align: top;\n",
       "    }\n",
       "\n",
       "    .dataframe thead th {\n",
       "        text-align: right;\n",
       "    }\n",
       "</style>\n",
       "<table border=\"1\" class=\"dataframe\">\n",
       "  <thead>\n",
       "    <tr style=\"text-align: right;\">\n",
       "      <th></th>\n",
       "      <th>test</th>\n",
       "      <th>lambda</th>\n",
       "      <th>chi2</th>\n",
       "      <th>dof</th>\n",
       "      <th>pval</th>\n",
       "      <th>cramer</th>\n",
       "      <th>power</th>\n",
       "    </tr>\n",
       "  </thead>\n",
       "  <tbody>\n",
       "    <tr>\n",
       "      <th>0</th>\n",
       "      <td>pearson</td>\n",
       "      <td>1.000000</td>\n",
       "      <td>34.877912</td>\n",
       "      <td>4.0</td>\n",
       "      <td>4.921459e-07</td>\n",
       "      <td>0.440189</td>\n",
       "      <td>0.935548</td>\n",
       "    </tr>\n",
       "    <tr>\n",
       "      <th>1</th>\n",
       "      <td>cressie-read</td>\n",
       "      <td>0.666667</td>\n",
       "      <td>34.848447</td>\n",
       "      <td>4.0</td>\n",
       "      <td>4.990512e-07</td>\n",
       "      <td>0.440003</td>\n",
       "      <td>0.935337</td>\n",
       "    </tr>\n",
       "    <tr>\n",
       "      <th>2</th>\n",
       "      <td>log-likelihood</td>\n",
       "      <td>0.000000</td>\n",
       "      <td>36.254719</td>\n",
       "      <td>4.0</td>\n",
       "      <td>2.564737e-07</td>\n",
       "      <td>0.448793</td>\n",
       "      <td>0.944723</td>\n",
       "    </tr>\n",
       "    <tr>\n",
       "      <th>3</th>\n",
       "      <td>freeman-tukey</td>\n",
       "      <td>-0.500000</td>\n",
       "      <td>38.926877</td>\n",
       "      <td>4.0</td>\n",
       "      <td>7.212978e-08</td>\n",
       "      <td>0.465038</td>\n",
       "      <td>0.959237</td>\n",
       "    </tr>\n",
       "    <tr>\n",
       "      <th>4</th>\n",
       "      <td>mod-log-likelihood</td>\n",
       "      <td>-1.000000</td>\n",
       "      <td>43.550672</td>\n",
       "      <td>4.0</td>\n",
       "      <td>7.953469e-09</td>\n",
       "      <td>0.491882</td>\n",
       "      <td>0.976388</td>\n",
       "    </tr>\n",
       "    <tr>\n",
       "      <th>5</th>\n",
       "      <td>neyman</td>\n",
       "      <td>-2.000000</td>\n",
       "      <td>62.896605</td>\n",
       "      <td>4.0</td>\n",
       "      <td>7.134569e-13</td>\n",
       "      <td>0.591122</td>\n",
       "      <td>0.998058</td>\n",
       "    </tr>\n",
       "  </tbody>\n",
       "</table>\n",
       "</div>"
      ],
      "text/plain": [
       "                 test    lambda       chi2  dof          pval    cramer  \\\n",
       "0             pearson  1.000000  34.877912  4.0  4.921459e-07  0.440189   \n",
       "1        cressie-read  0.666667  34.848447  4.0  4.990512e-07  0.440003   \n",
       "2      log-likelihood  0.000000  36.254719  4.0  2.564737e-07  0.448793   \n",
       "3       freeman-tukey -0.500000  38.926877  4.0  7.212978e-08  0.465038   \n",
       "4  mod-log-likelihood -1.000000  43.550672  4.0  7.953469e-09  0.491882   \n",
       "5              neyman -2.000000  62.896605  4.0  7.134569e-13  0.591122   \n",
       "\n",
       "      power  \n",
       "0  0.935548  \n",
       "1  0.935337  \n",
       "2  0.944723  \n",
       "3  0.959237  \n",
       "4  0.976388  \n",
       "5  0.998058  "
      ]
     },
     "execution_count": 18,
     "metadata": {},
     "output_type": "execute_result"
    }
   ],
   "source": [
    "import pingouin as pg\n",
    "expected, observed, stats = pg.chi2_independence(df, x='country', y='movie')\n",
    "stats # pearson으로 확인하면 된다.\n",
    "# 독립성 검정결과 pval 4.921459e-07로 유의수준 0.05보다 작으므로 귀무가설을 기긱한다. \n",
    "# country, movie는 유의수준 0.05하에서 독립이 아니라고 할 수 있다."
   ]
  }
 ],
 "metadata": {
  "kernelspec": {
   "display_name": "Python 3",
   "language": "python",
   "name": "python3"
  },
  "language_info": {
   "codemirror_mode": {
    "name": "ipython",
    "version": 3
   },
   "file_extension": ".py",
   "mimetype": "text/x-python",
   "name": "python",
   "nbconvert_exporter": "python",
   "pygments_lexer": "ipython3",
   "version": "3.7.9"
  },
  "vscode": {
   "interpreter": {
    "hash": "5aa634c14859627405404137fecabd2d911e45a844039ce454abb52cf9f696dc"
   }
  }
 },
 "nbformat": 4,
 "nbformat_minor": 5
}
