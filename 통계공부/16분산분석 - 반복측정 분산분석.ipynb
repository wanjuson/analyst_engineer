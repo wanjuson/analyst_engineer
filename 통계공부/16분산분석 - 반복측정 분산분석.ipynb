{
 "cells": [
  {
   "cell_type": "code",
   "execution_count": null,
   "id": "cacd3bf8",
   "metadata": {},
   "outputs": [],
   "source": [
    "# 16분산분석 - 반복측정 분산분석 \n",
    "# https://www.youtube.com/watch?v=3YsIUsSZ7kY&list=PLY0OaF78qqGAxKX91WuRigHpwBU0C2SB_&index=16"
   ]
  },
  {
   "cell_type": "code",
   "execution_count": 1,
   "id": "088be6de",
   "metadata": {},
   "outputs": [],
   "source": [
    "# ㅁ 반복측정 분산분석 \n",
    "#  - 동일한 대상에 대해 여러번 반복측정하여 반복측정 집단간에 차이가 존재하는지 검정"
   ]
  },
  {
   "cell_type": "code",
   "execution_count": 2,
   "id": "9d13dd8f",
   "metadata": {},
   "outputs": [
    {
     "name": "stderr",
     "output_type": "stream",
     "text": [
      "c:\\Users\\신주현\\AppData\\Local\\Programs\\Python\\Python37\\lib\\site-packages\\outdated\\utils.py:18: OutdatedPackageWarning: The package pingouin is out of date. Your version is 0.5.2, the latest is 0.5.3.\n",
      "Set the environment variable OUTDATED_IGNORE=1 to disable these warnings.\n",
      "  **kwargs\n"
     ]
    },
    {
     "data": {
      "text/html": [
       "<div>\n",
       "<style scoped>\n",
       "    .dataframe tbody tr th:only-of-type {\n",
       "        vertical-align: middle;\n",
       "    }\n",
       "\n",
       "    .dataframe tbody tr th {\n",
       "        vertical-align: top;\n",
       "    }\n",
       "\n",
       "    .dataframe thead th {\n",
       "        text-align: right;\n",
       "    }\n",
       "</style>\n",
       "<table border=\"1\" class=\"dataframe\">\n",
       "  <thead>\n",
       "    <tr style=\"text-align: right;\">\n",
       "      <th></th>\n",
       "      <th>Scores</th>\n",
       "      <th>Time</th>\n",
       "      <th>Group</th>\n",
       "      <th>Subject</th>\n",
       "    </tr>\n",
       "  </thead>\n",
       "  <tbody>\n",
       "    <tr>\n",
       "      <th>175</th>\n",
       "      <td>6.176981</td>\n",
       "      <td>June</td>\n",
       "      <td>Meditation</td>\n",
       "      <td>55</td>\n",
       "    </tr>\n",
       "    <tr>\n",
       "      <th>176</th>\n",
       "      <td>8.523692</td>\n",
       "      <td>June</td>\n",
       "      <td>Meditation</td>\n",
       "      <td>56</td>\n",
       "    </tr>\n",
       "    <tr>\n",
       "      <th>177</th>\n",
       "      <td>6.522273</td>\n",
       "      <td>June</td>\n",
       "      <td>Meditation</td>\n",
       "      <td>57</td>\n",
       "    </tr>\n",
       "    <tr>\n",
       "      <th>178</th>\n",
       "      <td>4.990568</td>\n",
       "      <td>June</td>\n",
       "      <td>Meditation</td>\n",
       "      <td>58</td>\n",
       "    </tr>\n",
       "    <tr>\n",
       "      <th>179</th>\n",
       "      <td>7.822986</td>\n",
       "      <td>June</td>\n",
       "      <td>Meditation</td>\n",
       "      <td>59</td>\n",
       "    </tr>\n",
       "  </tbody>\n",
       "</table>\n",
       "</div>"
      ],
      "text/plain": [
       "       Scores  Time       Group  Subject\n",
       "175  6.176981  June  Meditation       55\n",
       "176  8.523692  June  Meditation       56\n",
       "177  6.522273  June  Meditation       57\n",
       "178  4.990568  June  Meditation       58\n",
       "179  7.822986  June  Meditation       59"
      ]
     },
     "execution_count": 2,
     "metadata": {},
     "output_type": "execute_result"
    }
   ],
   "source": [
    "import pandas as pd\n",
    "import numpy as np\n",
    "import pingouin as pg\n",
    "df = pg.read_dataset('mixed_anova')\n",
    "df.tail()"
   ]
  },
  {
   "cell_type": "code",
   "execution_count": 10,
   "id": "d1c8c1af",
   "metadata": {},
   "outputs": [
    {
     "data": {
      "text/html": [
       "<div>\n",
       "<style scoped>\n",
       "    .dataframe tbody tr th:only-of-type {\n",
       "        vertical-align: middle;\n",
       "    }\n",
       "\n",
       "    .dataframe tbody tr th {\n",
       "        vertical-align: top;\n",
       "    }\n",
       "\n",
       "    .dataframe thead th {\n",
       "        text-align: right;\n",
       "    }\n",
       "</style>\n",
       "<table border=\"1\" class=\"dataframe\">\n",
       "  <thead>\n",
       "    <tr style=\"text-align: right;\">\n",
       "      <th></th>\n",
       "      <th>Source</th>\n",
       "      <th>SS</th>\n",
       "      <th>DF</th>\n",
       "      <th>MS</th>\n",
       "      <th>F</th>\n",
       "      <th>p-unc</th>\n",
       "      <th>ng2</th>\n",
       "      <th>eps</th>\n",
       "    </tr>\n",
       "  </thead>\n",
       "  <tbody>\n",
       "    <tr>\n",
       "      <th>0</th>\n",
       "      <td>Time</td>\n",
       "      <td>7.628428</td>\n",
       "      <td>2</td>\n",
       "      <td>3.814214</td>\n",
       "      <td>3.912796</td>\n",
       "      <td>0.022629</td>\n",
       "      <td>0.039981</td>\n",
       "      <td>0.998751</td>\n",
       "    </tr>\n",
       "    <tr>\n",
       "      <th>1</th>\n",
       "      <td>Error</td>\n",
       "      <td>115.027023</td>\n",
       "      <td>118</td>\n",
       "      <td>0.974805</td>\n",
       "      <td>NaN</td>\n",
       "      <td>NaN</td>\n",
       "      <td>NaN</td>\n",
       "      <td>NaN</td>\n",
       "    </tr>\n",
       "  </tbody>\n",
       "</table>\n",
       "</div>"
      ],
      "text/plain": [
       "  Source          SS   DF        MS         F     p-unc       ng2       eps\n",
       "0   Time    7.628428    2  3.814214  3.912796  0.022629  0.039981  0.998751\n",
       "1  Error  115.027023  118  0.974805       NaN       NaN       NaN       NaN"
      ]
     },
     "execution_count": 10,
     "metadata": {},
     "output_type": "execute_result"
    }
   ],
   "source": [
    "# 1.9. Repeated measures ANOVA\n",
    "# https://recipesds.tistory.com/entry/RMANOVA-Repeated-Measured-ANOVA-%EB%B0%98%EB%B3%B5%EC%B8%A1%EC%A0%95-ANOVA%EC%9D%98-%EC%9A%B0%EC%95%84%ED%95%A8\n",
    "pg.rm_anova(data=df, dv='Scores', within='Time',\n",
    "            subject='Subject', detailed=True)\n",
    "# p-unc\t0.02262 로 0.05보다 작으므로 Time별로 차이가 존재함"
   ]
  }
 ],
 "metadata": {
  "kernelspec": {
   "display_name": "Python 3",
   "language": "python",
   "name": "python3"
  },
  "language_info": {
   "codemirror_mode": {
    "name": "ipython",
    "version": 3
   },
   "file_extension": ".py",
   "mimetype": "text/x-python",
   "name": "python",
   "nbconvert_exporter": "python",
   "pygments_lexer": "ipython3",
   "version": "3.7.9"
  },
  "vscode": {
   "interpreter": {
    "hash": "5aa634c14859627405404137fecabd2d911e45a844039ce454abb52cf9f696dc"
   }
  }
 },
 "nbformat": 4,
 "nbformat_minor": 5
}
