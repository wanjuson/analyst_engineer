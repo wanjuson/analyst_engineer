{
 "cells": [
  {
   "cell_type": "code",
   "execution_count": null,
   "id": "cacd3bf8",
   "metadata": {},
   "outputs": [],
   "source": [
    "# 통계데이터분석 - 일표본 평균검정\n",
    "# https://www.youtube.com/watch?v=Nl_L87p_-IY&list=PLY0OaF78qqGAxKX91WuRigHpwBU0C2SB_&index=8"
   ]
  },
  {
   "cell_type": "code",
   "execution_count": null,
   "id": "088be6de",
   "metadata": {},
   "outputs": [],
   "source": [
    "ㅁ 일표본 평균검정\n",
    " - 하나의 표본 데이터를 이용하여 모집단의 평균이 특정 값과 같은지 검정\n",
    " - 표분집단이 특정 모집단과 일치하는지 혹은 그렇지 않은지 알고 싶을때 이용"
   ]
  },
  {
   "cell_type": "code",
   "execution_count": 7,
   "id": "ba505c4e",
   "metadata": {},
   "outputs": [
    {
     "name": "stdout",
     "output_type": "stream",
     "text": [
      "2.093024054408263\n",
      "-2.0930240544082634\n"
     ]
    }
   ],
   "source": [
    "# 유의확률, 신뢰구간, "
   ]
  }
 ],
 "metadata": {
  "kernelspec": {
   "display_name": "Python 3",
   "language": "python",
   "name": "python3"
  },
  "language_info": {
   "codemirror_mode": {
    "name": "ipython",
    "version": 3
   },
   "file_extension": ".py",
   "mimetype": "text/x-python",
   "name": "python",
   "nbconvert_exporter": "python",
   "pygments_lexer": "ipython3",
   "version": "3.7.9"
  },
  "vscode": {
   "interpreter": {
    "hash": "5aa634c14859627405404137fecabd2d911e45a844039ce454abb52cf9f696dc"
   }
  }
 },
 "nbformat": 4,
 "nbformat_minor": 5
}
