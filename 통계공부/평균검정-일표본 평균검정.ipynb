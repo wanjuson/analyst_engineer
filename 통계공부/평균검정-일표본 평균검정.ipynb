{
 "cells": [
  {
   "cell_type": "code",
   "execution_count": null,
   "id": "cacd3bf8",
   "metadata": {},
   "outputs": [],
   "source": [
    "# 통계데이터분석 - 일표본 평균검정\n",
    "# https://www.youtube.com/watch?v=Nl_L87p_-IY&list=PLY0OaF78qqGAxKX91WuRigHpwBU0C2SB_&index=8"
   ]
  },
  {
   "cell_type": "code",
   "execution_count": null,
   "id": "088be6de",
   "metadata": {},
   "outputs": [],
   "source": [
    "# ㅁ 일표본 평균검정\n",
    "#  - 하나의 표본 데이터를 이용하여 모집단의 평균이 특정 값과 같은지 검정\n",
    "#  - 표분집단이 특정 모집단과 일치하는지 혹은 그렇지 않은지 알고 싶을때 이용"
   ]
  },
  {
   "cell_type": "code",
   "execution_count": 5,
   "id": "ba505c4e",
   "metadata": {},
   "outputs": [
    {
     "data": {
      "text/html": [
       "<div>\n",
       "<style scoped>\n",
       "    .dataframe tbody tr th:only-of-type {\n",
       "        vertical-align: middle;\n",
       "    }\n",
       "\n",
       "    .dataframe tbody tr th {\n",
       "        vertical-align: top;\n",
       "    }\n",
       "\n",
       "    .dataframe thead th {\n",
       "        text-align: right;\n",
       "    }\n",
       "</style>\n",
       "<table border=\"1\" class=\"dataframe\">\n",
       "  <thead>\n",
       "    <tr style=\"text-align: right;\">\n",
       "      <th></th>\n",
       "      <th>Sex</th>\n",
       "      <th>Bwt</th>\n",
       "      <th>Hwt</th>\n",
       "    </tr>\n",
       "  </thead>\n",
       "  <tbody>\n",
       "    <tr>\n",
       "      <th>139</th>\n",
       "      <td>M</td>\n",
       "      <td>3.7</td>\n",
       "      <td>11.0</td>\n",
       "    </tr>\n",
       "    <tr>\n",
       "      <th>140</th>\n",
       "      <td>M</td>\n",
       "      <td>3.8</td>\n",
       "      <td>14.8</td>\n",
       "    </tr>\n",
       "    <tr>\n",
       "      <th>141</th>\n",
       "      <td>M</td>\n",
       "      <td>3.8</td>\n",
       "      <td>16.8</td>\n",
       "    </tr>\n",
       "    <tr>\n",
       "      <th>142</th>\n",
       "      <td>M</td>\n",
       "      <td>3.9</td>\n",
       "      <td>14.4</td>\n",
       "    </tr>\n",
       "    <tr>\n",
       "      <th>143</th>\n",
       "      <td>M</td>\n",
       "      <td>3.9</td>\n",
       "      <td>20.5</td>\n",
       "    </tr>\n",
       "  </tbody>\n",
       "</table>\n",
       "</div>"
      ],
      "text/plain": [
       "    Sex  Bwt   Hwt\n",
       "139   M  3.7  11.0\n",
       "140   M  3.8  14.8\n",
       "141   M  3.8  16.8\n",
       "142   M  3.9  14.4\n",
       "143   M  3.9  20.5"
      ]
     },
     "execution_count": 5,
     "metadata": {},
     "output_type": "execute_result"
    }
   ],
   "source": [
    "import pandas as pd\n",
    "import numpy as np\n",
    "\n",
    "df01 = pd.read_csv('C:/adp/data/cats.csv')\n",
    "df01.tail()"
   ]
  },
  {
   "cell_type": "code",
   "execution_count": 20,
   "id": "8efc8793",
   "metadata": {},
   "outputs": [
    {
     "data": {
      "text/plain": [
       "Ttest_1sampResult(statistic=3.0564867998078107, pvalue=0.0026730362561723617)"
      ]
     },
     "execution_count": 20,
     "metadata": {},
     "output_type": "execute_result"
    }
   ],
   "source": [
    "import scipy.stats as stats\n",
    "from scipy.stats import shapiro\n",
    "mu = 2.6\n",
    "stats.ttest_1samp(df01.Bwt, popmean=mu)\n",
    "# 대립가설 : 모집단의 평균이 2.6이 아니다.\n",
    "# pvalue=0.0026으로 0.05보다 작아서 모집단의 평균이 2.6이 아니다고 볼 수 있다."
   ]
  },
  {
   "cell_type": "code",
   "execution_count": 23,
   "id": "a518e415",
   "metadata": {},
   "outputs": [
    {
     "name": "stdout",
     "output_type": "stream",
     "text": [
      "2.6446215229671015 2.8026006992551213\n"
     ]
    }
   ],
   "source": [
    "# 신뢰구간\n",
    "from scipy.stats import norm,sem\n",
    "\n",
    "# 평균, 표준편차, 표본수\n",
    "sample_mean = np.mean(df01.Bwt)\n",
    "sample_std = np.std(df01.Bwt)\n",
    "size = len(df01.Bwt)\n",
    "\n",
    "# z통계량\n",
    "z_95_left = norm(0, 1).ppf(0.025) # 누적 분포가 2.5인 x값\n",
    "z_95_right = norm(0, 1).ppf(0.975) # 누적 분포가 2.5인 x값\n",
    "\n",
    "L = sample_mean + z_95_left*(sample_std/np.sqrt(size))\n",
    "R = sample_mean + z_95_right*(sample_std/np.sqrt(size))\n",
    "print(L,R)"
   ]
  },
  {
   "cell_type": "code",
   "execution_count": 33,
   "id": "c8548095",
   "metadata": {},
   "outputs": [
    {
     "data": {
      "text/plain": [
       "Ttest_1sampResult(statistic=1.0992421631894096, pvalue=0.1403523238232774)"
      ]
     },
     "execution_count": 33,
     "metadata": {},
     "output_type": "execute_result"
    }
   ],
   "source": [
    "## 30경기, 18승일때 승률이 50% 이상여부\n",
    "df02 = [1,1,1,1,1,1,0,0,0,0,1,1,1,1,1,1,0,0,0,0,1,1,1,1,1,1,0,0,0,0]\n",
    "stats.ttest_1samp(df02, popmean=0.5, alternative = 'greater')"
   ]
  }
 ],
 "metadata": {
  "kernelspec": {
   "display_name": "Python 3",
   "language": "python",
   "name": "python3"
  },
  "language_info": {
   "codemirror_mode": {
    "name": "ipython",
    "version": 3
   },
   "file_extension": ".py",
   "mimetype": "text/x-python",
   "name": "python",
   "nbconvert_exporter": "python",
   "pygments_lexer": "ipython3",
   "version": "3.7.9"
  },
  "vscode": {
   "interpreter": {
    "hash": "5aa634c14859627405404137fecabd2d911e45a844039ce454abb52cf9f696dc"
   }
  }
 },
 "nbformat": 4,
 "nbformat_minor": 5
}
