{
 "cells": [
  {
   "cell_type": "code",
   "execution_count": null,
   "id": "cacd3bf8",
   "metadata": {},
   "outputs": [],
   "source": [
    "# 평균검정 - 독립표본 평균검정\n",
    "# https://www.youtube.com/watch?v=VygXXzQDLPM&list=PLY0OaF78qqGAxKX91WuRigHpwBU0C2SB_&index=9"
   ]
  },
  {
   "cell_type": "code",
   "execution_count": null,
   "id": "088be6de",
   "metadata": {},
   "outputs": [],
   "source": [
    "# ㅁ 독립표본 평균검정\n",
    "#  - 두개의 독립표본 데이터를 이용하여 각각 대응되는 두개의 모집단 평균이 서로 동일한지 검정\n",
    "#  - 두 집단이 서로 차이가 있는지 검정"
   ]
  },
  {
   "cell_type": "code",
   "execution_count": 2,
   "id": "ba505c4e",
   "metadata": {},
   "outputs": [
    {
     "data": {
      "text/html": [
       "<div>\n",
       "<style scoped>\n",
       "    .dataframe tbody tr th:only-of-type {\n",
       "        vertical-align: middle;\n",
       "    }\n",
       "\n",
       "    .dataframe tbody tr th {\n",
       "        vertical-align: top;\n",
       "    }\n",
       "\n",
       "    .dataframe thead th {\n",
       "        text-align: right;\n",
       "    }\n",
       "</style>\n",
       "<table border=\"1\" class=\"dataframe\">\n",
       "  <thead>\n",
       "    <tr style=\"text-align: right;\">\n",
       "      <th></th>\n",
       "      <th>Sex</th>\n",
       "      <th>Bwt</th>\n",
       "      <th>Hwt</th>\n",
       "    </tr>\n",
       "  </thead>\n",
       "  <tbody>\n",
       "    <tr>\n",
       "      <th>139</th>\n",
       "      <td>M</td>\n",
       "      <td>3.7</td>\n",
       "      <td>11.0</td>\n",
       "    </tr>\n",
       "    <tr>\n",
       "      <th>140</th>\n",
       "      <td>M</td>\n",
       "      <td>3.8</td>\n",
       "      <td>14.8</td>\n",
       "    </tr>\n",
       "    <tr>\n",
       "      <th>141</th>\n",
       "      <td>M</td>\n",
       "      <td>3.8</td>\n",
       "      <td>16.8</td>\n",
       "    </tr>\n",
       "    <tr>\n",
       "      <th>142</th>\n",
       "      <td>M</td>\n",
       "      <td>3.9</td>\n",
       "      <td>14.4</td>\n",
       "    </tr>\n",
       "    <tr>\n",
       "      <th>143</th>\n",
       "      <td>M</td>\n",
       "      <td>3.9</td>\n",
       "      <td>20.5</td>\n",
       "    </tr>\n",
       "  </tbody>\n",
       "</table>\n",
       "</div>"
      ],
      "text/plain": [
       "    Sex  Bwt   Hwt\n",
       "139   M  3.7  11.0\n",
       "140   M  3.8  14.8\n",
       "141   M  3.8  16.8\n",
       "142   M  3.9  14.4\n",
       "143   M  3.9  20.5"
      ]
     },
     "execution_count": 2,
     "metadata": {},
     "output_type": "execute_result"
    }
   ],
   "source": [
    "import pandas as pd\n",
    "import numpy as np\n",
    "\n",
    "df01 = pd.read_csv('C:/adp/data/cats.csv')\n",
    "df01.tail()"
   ]
  },
  {
   "cell_type": "code",
   "execution_count": 18,
   "id": "14449aaf",
   "metadata": {},
   "outputs": [
    {
     "data": {
      "text/plain": [
       "47     2.0\n",
       "48     2.0\n",
       "49     2.1\n",
       "50     2.2\n",
       "51     2.2\n",
       "      ... \n",
       "139    3.7\n",
       "140    3.8\n",
       "141    3.8\n",
       "142    3.9\n",
       "143    3.9\n",
       "Name: Bwt, Length: 97, dtype: float64"
      ]
     },
     "execution_count": 18,
     "metadata": {},
     "output_type": "execute_result"
    }
   ],
   "source": [
    "dfm = df01[df01['Sex'] == 'M']['Bwt']\n",
    "dff = df01[df01['Sex'] == 'F']['Bwt']\n",
    "dfm"
   ]
  },
  {
   "cell_type": "code",
   "execution_count": 25,
   "id": "fddd2322",
   "metadata": {},
   "outputs": [
    {
     "data": {
      "text/plain": [
       "2.359574468085107"
      ]
     },
     "execution_count": 25,
     "metadata": {},
     "output_type": "execute_result"
    }
   ],
   "source": [
    "# dfm.mean()\n",
    "dff.mean()"
   ]
  },
  {
   "cell_type": "code",
   "execution_count": 26,
   "id": "8efc8793",
   "metadata": {},
   "outputs": [
    {
     "data": {
      "text/plain": [
       "Ttest_indResult(statistic=8.70948849909559, pvalue=8.831034455859356e-15)"
      ]
     },
     "execution_count": 26,
     "metadata": {},
     "output_type": "execute_result"
    }
   ],
   "source": [
    "import scipy.stats as stats\n",
    "from scipy.stats import shapiro\n",
    "\n",
    "# stats.ttest_ind(dfm, dff, alternative='greater' )\n",
    "stats.ttest_ind(dfm, dff, equal_var=False )\n",
    "\n",
    "# 귀무가설 : 암컷, 수컷 고양이의 몸무게의 차이는 없다.\n",
    "# 대립가설 : 암컷, 수컷 고양이의 몸무게의 차이가 존재한다.\n",
    "# pvalue 0.05보다 작아서 암컷, 수컷 고양이의 몸무게 차이는 존재한다고 할 수 있다."
   ]
  },
  {
   "cell_type": "code",
   "execution_count": 29,
   "id": "15b86438",
   "metadata": {},
   "outputs": [
    {
     "data": {
      "text/html": [
       "<div>\n",
       "<style scoped>\n",
       "    .dataframe tbody tr th:only-of-type {\n",
       "        vertical-align: middle;\n",
       "    }\n",
       "\n",
       "    .dataframe tbody tr th {\n",
       "        vertical-align: top;\n",
       "    }\n",
       "\n",
       "    .dataframe thead th {\n",
       "        text-align: right;\n",
       "    }\n",
       "</style>\n",
       "<table border=\"1\" class=\"dataframe\">\n",
       "  <thead>\n",
       "    <tr style=\"text-align: right;\">\n",
       "      <th></th>\n",
       "      <th>T</th>\n",
       "      <th>dof</th>\n",
       "      <th>alternative</th>\n",
       "      <th>p-val</th>\n",
       "      <th>CI95%</th>\n",
       "      <th>cohen-d</th>\n",
       "      <th>BF10</th>\n",
       "      <th>power</th>\n",
       "    </tr>\n",
       "  </thead>\n",
       "  <tbody>\n",
       "    <tr>\n",
       "      <th>T-test</th>\n",
       "      <td>8.709488</td>\n",
       "      <td>136.837883</td>\n",
       "      <td>two-sided</td>\n",
       "      <td>8.831034e-15</td>\n",
       "      <td>[0.42, 0.66]</td>\n",
       "      <td>1.302837</td>\n",
       "      <td>6.959e+11</td>\n",
       "      <td>1.0</td>\n",
       "    </tr>\n",
       "  </tbody>\n",
       "</table>\n",
       "</div>"
      ],
      "text/plain": [
       "               T         dof alternative         p-val         CI95%  \\\n",
       "T-test  8.709488  136.837883   two-sided  8.831034e-15  [0.42, 0.66]   \n",
       "\n",
       "         cohen-d       BF10  power  \n",
       "T-test  1.302837  6.959e+11    1.0  "
      ]
     },
     "execution_count": 29,
     "metadata": {},
     "output_type": "execute_result"
    }
   ],
   "source": [
    "#가능한 이것을 사용 \n",
    "import pingouin as pg\n",
    "\n",
    "pg.ttest(dfm, dff, correction='auto')"
   ]
  },
  {
   "cell_type": "code",
   "execution_count": 23,
   "id": "a518e415",
   "metadata": {},
   "outputs": [
    {
     "name": "stdout",
     "output_type": "stream",
     "text": [
      "2.6446215229671015 2.8026006992551213\n"
     ]
    }
   ],
   "source": [
    "# 신뢰구간\n",
    "from scipy.stats import norm,sem\n",
    "\n",
    "# 평균, 표준편차, 표본수\n",
    "sample_mean = np.mean(df01.Bwt)\n",
    "sample_std = np.std(df01.Bwt)\n",
    "size = len(df01.Bwt)\n",
    "\n",
    "# z통계량\n",
    "z_95_left = norm(0, 1).ppf(0.025) # 누적 분포가 2.5인 x값\n",
    "z_95_right = norm(0, 1).ppf(0.975) # 누적 분포가 2.5인 x값\n",
    "\n",
    "L = sample_mean + z_95_left*(sample_std/np.sqrt(size))\n",
    "R = sample_mean + z_95_right*(sample_std/np.sqrt(size))\n",
    "print(L,R)"
   ]
  },
  {
   "cell_type": "code",
   "execution_count": 33,
   "id": "c8548095",
   "metadata": {},
   "outputs": [
    {
     "data": {
      "text/plain": [
       "Ttest_1sampResult(statistic=1.0992421631894096, pvalue=0.1403523238232774)"
      ]
     },
     "execution_count": 33,
     "metadata": {},
     "output_type": "execute_result"
    }
   ],
   "source": [
    "## 30경기, 18승일때 승률이 50% 이상여부\n",
    "df02 = [1,1,1,1,1,1,0,0,0,0,1,1,1,1,1,1,0,0,0,0,1,1,1,1,1,1,0,0,0,0]\n",
    "stats.ttest_1samp(df02, popmean=0.5, alternative = 'greater')"
   ]
  }
 ],
 "metadata": {
  "kernelspec": {
   "display_name": "Python 3",
   "language": "python",
   "name": "python3"
  },
  "language_info": {
   "codemirror_mode": {
    "name": "ipython",
    "version": 3
   },
   "file_extension": ".py",
   "mimetype": "text/x-python",
   "name": "python",
   "nbconvert_exporter": "python",
   "pygments_lexer": "ipython3",
   "version": "3.7.9"
  },
  "vscode": {
   "interpreter": {
    "hash": "5aa634c14859627405404137fecabd2d911e45a844039ce454abb52cf9f696dc"
   }
  }
 },
 "nbformat": 4,
 "nbformat_minor": 5
}
