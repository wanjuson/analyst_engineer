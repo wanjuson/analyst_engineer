{
 "cells": [
  {
   "cell_type": "code",
   "execution_count": null,
   "id": "cacd3bf8",
   "metadata": {},
   "outputs": [],
   "source": [
    "# 정리_확률분포와 확률변수\n",
    "# https://zephyrus1111.tistory.com/274"
   ]
  },
  {
   "cell_type": "code",
   "execution_count": 1,
   "id": "088be6de",
   "metadata": {},
   "outputs": [],
   "source": [
    "## 1. 연속형 확률 변수\n",
    "from scipy.stats import norm, uniform, t, f, chi2\n",
    " \n",
    "## 1) 확률 분포 정의\n",
    "## loc은 평균, scale은 표준편차, df는 자유도\n",
    "norm_rv = norm(loc=0, scale=1) ## 평균이 0이고 표준편차가 1인 정규 분포\n",
    "uniform_rv = uniform(loc=0, scale=1) ## [loc, loc+scale]에서의 유니폼 분포\n",
    "t_rv = t(df=20) ## 자유도가 20인 t 분포\n",
    "chi2_rv = chi2(df=30) ## 자유도가 30인 카이 제곱 분포\n",
    "f_rv = f(dfn=20, dfd=30) ## 분자의 자유도 20, 분모의 자유도 30인 F 분포"
   ]
  },
  {
   "cell_type": "code",
   "execution_count": 3,
   "id": "ba505c4e",
   "metadata": {},
   "outputs": [
    {
     "data": {
      "text/plain": [
       "array([0.        , 0.1100201 , 0.00069723])"
      ]
     },
     "execution_count": 3,
     "metadata": {},
     "output_type": "execute_result"
    }
   ],
   "source": [
    "## 2) 확률 밀도 함수 값 f(x) : pdf\n",
    "norm_rv.pdf([0, 1.64, 1.96, 2.58]) \n",
    "uniform_rv.pdf([0, 0.5, 2]) ## 서포트 벗어난 값에 대해서는 0\n",
    "t_rv.pdf([0, 2, 4]) \n",
    "chi2_rv.pdf([0, 2, 4])\n",
    "f_rv.pdf([0, 2, 4])"
   ]
  },
  {
   "cell_type": "code",
   "execution_count": 10,
   "id": "14449aaf",
   "metadata": {},
   "outputs": [
    {
     "data": {
      "text/plain": [
       "array([0.39894228, 0.39695255, 0.05730379])"
      ]
     },
     "execution_count": 10,
     "metadata": {},
     "output_type": "execute_result"
    }
   ],
   "source": [
    "## 3) 누적 분포값 : cdf\n",
    "norm_rv.cdf([0, 1.64, 1.96, 2.58]) \n",
    "uniform_rv.cdf([0, 0.5, 2])\n",
    "t_rv.cdf([0, 2, 4]) \n",
    "chi2_rv.cdf([0, 2, 4])\n",
    "f_rv.cdf([0, 2, 4])"
   ]
  },
  {
   "cell_type": "code",
   "execution_count": 15,
   "id": "fddd2322",
   "metadata": {},
   "outputs": [
    {
     "data": {
      "text/plain": [
       "array([0.5       , 0.97036723, 0.99964824])"
      ]
     },
     "execution_count": 15,
     "metadata": {},
     "output_type": "execute_result"
    }
   ],
   "source": [
    "## 4) 분위수 : ppf\n",
    "norm_rv.ppf([0.025,0.05,0.95,0.975])\n",
    "uniform_rv.ppf([0.025,0.05,0.95,0.975])\n",
    "t_rv.ppf([0.025,0.05,0.95,0.975])\n",
    "chi2_rv.ppf([0.025,0.05,0.95,0.975])\n",
    "f_rv.ppf([0.025,0.05,0.95,0.975])"
   ]
  },
  {
   "cell_type": "code",
   "execution_count": 20,
   "id": "32dad665",
   "metadata": {},
   "outputs": [
    {
     "data": {
      "text/plain": [
       "array([0.51112812, 0.86267888, 0.85791795, 0.77247169, 1.02909862,\n",
       "       1.37820789, 0.86218671, 1.48077965, 0.70248621, 0.73635589])"
      ]
     },
     "execution_count": 20,
     "metadata": {},
     "output_type": "execute_result"
    }
   ],
   "source": [
    "## 5) 크기가 10인 확률 변수 생성 : rvs\n",
    "n = 10\n",
    "norm_rv.rvs(size=n)\n",
    "uniform_rv.rvs(size=n)\n",
    "t_rv.rvs(size=n)\n",
    "chi2_rv.rvs(size=n)\n",
    "f_rv.rvs(size=n)"
   ]
  },
  {
   "cell_type": "code",
   "execution_count": 3,
   "id": "8efc8793",
   "metadata": {},
   "outputs": [],
   "source": [
    "## 2. 이산형 확률 변수\n",
    "from scipy.stats import binom, bernoulli, randint\n",
    " \n",
    "## 1) 확률 분포 정의\n",
    "bernoulli_rv = bernoulli(p=0.3) ## 성공의 확률이 0.3인 베르누이 분포\n",
    "binomial_rv = binom(p=0.5, n=20) ## 성공의 확률이 0.5, 시행횟수 20인 이항 분포\n",
    "discrete_uniform_rv = randint(low=1, high=10) ## [1, 9]인 이산 유니폼 분포"
   ]
  },
  {
   "cell_type": "code",
   "execution_count": 26,
   "id": "15b86438",
   "metadata": {},
   "outputs": [
    {
     "data": {
      "text/plain": [
       "array([0.        , 0.11111111, 0.        ])"
      ]
     },
     "execution_count": 26,
     "metadata": {},
     "output_type": "execute_result"
    }
   ],
   "source": [
    "## 2) 확률 질량 함수 값 : pmf\n",
    "bernoulli_rv.pmf([0, 1, 2]) ## 0, 1 아닌 값은 0\n",
    "binomial_rv.pmf([0, 9, 10, 11, 21]) ## 0, 1, ... , 20이 아닌 값은 0\n",
    "discrete_uniform_rv.pmf([0, 5, 10]) ## 1, 2, ... ,9가 아닌 값은 0"
   ]
  },
  {
   "cell_type": "code",
   "execution_count": 4,
   "id": "5808024d",
   "metadata": {},
   "outputs": [
    {
     "data": {
      "text/plain": [
       "array([0.        , 0.55555556, 1.        ])"
      ]
     },
     "execution_count": 4,
     "metadata": {},
     "output_type": "execute_result"
    }
   ],
   "source": [
    "## 3) 누적 분포 값 : cdf\n",
    "bernoulli_rv.cdf([0, 1]) \n",
    "binomial_rv.cdf([0, 5, 20]) \n",
    "discrete_uniform_rv.cdf([0, 5, 9])"
   ]
  },
  {
   "cell_type": "code",
   "execution_count": 5,
   "id": "de3c0c3e",
   "metadata": {},
   "outputs": [
    {
     "data": {
      "text/plain": [
       "array([1., 1., 9., 9.])"
      ]
     },
     "execution_count": 5,
     "metadata": {},
     "output_type": "execute_result"
    }
   ],
   "source": [
    "## 4) 분위수\n",
    "bernoulli_rv.ppf([0.025,0.05,0.95,0.975])\n",
    "binomial_rv.ppf([0.025,0.05,0.95,0.975])\n",
    "discrete_uniform_rv.ppf([0.025,0.05,0.95,0.975])"
   ]
  },
  {
   "cell_type": "code",
   "execution_count": 6,
   "id": "53e79fb3",
   "metadata": {},
   "outputs": [
    {
     "data": {
      "text/plain": [
       "array([3, 4, 2, 1, 2, 1, 8, 7, 9, 7])"
      ]
     },
     "execution_count": 6,
     "metadata": {},
     "output_type": "execute_result"
    }
   ],
   "source": [
    "## 5) 크기가 10인 확률 변수 생성\n",
    "size = 10\n",
    "bernoulli_rv.rvs(size=size)\n",
    "binomial_rv.rvs(size=size)\n",
    "discrete_uniform_rv.rvs(size=size)"
   ]
  }
 ],
 "metadata": {
  "kernelspec": {
   "display_name": "Python 3",
   "language": "python",
   "name": "python3"
  },
  "language_info": {
   "codemirror_mode": {
    "name": "ipython",
    "version": 3
   },
   "file_extension": ".py",
   "mimetype": "text/x-python",
   "name": "python",
   "nbconvert_exporter": "python",
   "pygments_lexer": "ipython3",
   "version": "3.7.9"
  },
  "vscode": {
   "interpreter": {
    "hash": "5aa634c14859627405404137fecabd2d911e45a844039ce454abb52cf9f696dc"
   }
  }
 },
 "nbformat": 4,
 "nbformat_minor": 5
}
