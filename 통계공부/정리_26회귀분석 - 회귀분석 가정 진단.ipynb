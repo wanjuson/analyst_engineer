{
 "cells": [
  {
   "cell_type": "code",
   "execution_count": null,
   "id": "cacd3bf8",
   "metadata": {},
   "outputs": [],
   "source": [
    "# 22회귀분석 - 회귀분석 가정 진단 모델수정\n",
    "# https://www.youtube.com/watch?v=sbnq3xTC1Uk&list=PLY0OaF78qqGAxKX91WuRigHpwBU0C2SB_&index=26\n",
    "# 파이썬 코드 https://ysyblog.tistory.com/120"
   ]
  },
  {
   "cell_type": "code",
   "execution_count": 1,
   "id": "088be6de",
   "metadata": {},
   "outputs": [],
   "source": [
    "# ㅁ 회귀분석 가정\n",
    "#  - 선형성 : 종속변수와 독립변수 간의 관계는 선형이다.\n",
    "#  - 정규성 : 독립변수값에 대해 대응되는 종속변수값들의 분포는 정규분포이다.\n",
    "#  - 등분산성 : 독립변수값에 대해 대응되는 종속변수값들의 분포는 모두 동일한 분산을 갖는다."
   ]
  },
  {
   "cell_type": "code",
   "execution_count": 6,
   "id": "9d13dd8f",
   "metadata": {},
   "outputs": [
    {
     "name": "stdout",
     "output_type": "stream",
     "text": [
      "<class 'pandas.core.frame.DataFrame'>\n",
      "RangeIndex: 32 entries, 0 to 31\n",
      "Data columns (total 12 columns):\n",
      " #   Column      Non-Null Count  Dtype  \n",
      "---  ------      --------------  -----  \n",
      " 0   Unnamed: 0  32 non-null     object \n",
      " 1   mpg         32 non-null     float64\n",
      " 2   cyl         32 non-null     int64  \n",
      " 3   disp        32 non-null     float64\n",
      " 4   hp          32 non-null     int64  \n",
      " 5   drat        32 non-null     float64\n",
      " 6   wt          32 non-null     float64\n",
      " 7   qsec        32 non-null     float64\n",
      " 8   vs          32 non-null     int64  \n",
      " 9   am          32 non-null     int64  \n",
      " 10  gear        32 non-null     int64  \n",
      " 11  carb        32 non-null     int64  \n",
      "dtypes: float64(5), int64(6), object(1)\n",
      "memory usage: 3.1+ KB\n"
     ]
    }
   ],
   "source": [
    "import pandas as pd\n",
    "df = pd.read_csv('C:/adp/data/mtcars.csv')\n",
    "df.info()"
   ]
  },
  {
   "cell_type": "code",
   "execution_count": 7,
   "id": "ad449845",
   "metadata": {},
   "outputs": [
    {
     "data": {
      "text/html": [
       "<div>\n",
       "<style scoped>\n",
       "    .dataframe tbody tr th:only-of-type {\n",
       "        vertical-align: middle;\n",
       "    }\n",
       "\n",
       "    .dataframe tbody tr th {\n",
       "        vertical-align: top;\n",
       "    }\n",
       "\n",
       "    .dataframe thead th {\n",
       "        text-align: right;\n",
       "    }\n",
       "</style>\n",
       "<table border=\"1\" class=\"dataframe\">\n",
       "  <thead>\n",
       "    <tr style=\"text-align: right;\">\n",
       "      <th></th>\n",
       "      <th>Unnamed: 0</th>\n",
       "      <th>mpg</th>\n",
       "      <th>cyl</th>\n",
       "      <th>disp</th>\n",
       "      <th>hp</th>\n",
       "      <th>drat</th>\n",
       "      <th>wt</th>\n",
       "      <th>qsec</th>\n",
       "      <th>vs</th>\n",
       "      <th>am</th>\n",
       "      <th>gear</th>\n",
       "      <th>carb</th>\n",
       "    </tr>\n",
       "  </thead>\n",
       "  <tbody>\n",
       "    <tr>\n",
       "      <th>27</th>\n",
       "      <td>Lotus Europa</td>\n",
       "      <td>30.4</td>\n",
       "      <td>4</td>\n",
       "      <td>95.1</td>\n",
       "      <td>113</td>\n",
       "      <td>3.77</td>\n",
       "      <td>1.513</td>\n",
       "      <td>16.9</td>\n",
       "      <td>1</td>\n",
       "      <td>1</td>\n",
       "      <td>5</td>\n",
       "      <td>2</td>\n",
       "    </tr>\n",
       "    <tr>\n",
       "      <th>28</th>\n",
       "      <td>Ford Pantera L</td>\n",
       "      <td>15.8</td>\n",
       "      <td>8</td>\n",
       "      <td>351.0</td>\n",
       "      <td>264</td>\n",
       "      <td>4.22</td>\n",
       "      <td>3.170</td>\n",
       "      <td>14.5</td>\n",
       "      <td>0</td>\n",
       "      <td>1</td>\n",
       "      <td>5</td>\n",
       "      <td>4</td>\n",
       "    </tr>\n",
       "    <tr>\n",
       "      <th>29</th>\n",
       "      <td>Ferrari Dino</td>\n",
       "      <td>19.7</td>\n",
       "      <td>6</td>\n",
       "      <td>145.0</td>\n",
       "      <td>175</td>\n",
       "      <td>3.62</td>\n",
       "      <td>2.770</td>\n",
       "      <td>15.5</td>\n",
       "      <td>0</td>\n",
       "      <td>1</td>\n",
       "      <td>5</td>\n",
       "      <td>6</td>\n",
       "    </tr>\n",
       "    <tr>\n",
       "      <th>30</th>\n",
       "      <td>Maserati Bora</td>\n",
       "      <td>15.0</td>\n",
       "      <td>8</td>\n",
       "      <td>301.0</td>\n",
       "      <td>335</td>\n",
       "      <td>3.54</td>\n",
       "      <td>3.570</td>\n",
       "      <td>14.6</td>\n",
       "      <td>0</td>\n",
       "      <td>1</td>\n",
       "      <td>5</td>\n",
       "      <td>8</td>\n",
       "    </tr>\n",
       "    <tr>\n",
       "      <th>31</th>\n",
       "      <td>Volvo 142E</td>\n",
       "      <td>21.4</td>\n",
       "      <td>4</td>\n",
       "      <td>121.0</td>\n",
       "      <td>109</td>\n",
       "      <td>4.11</td>\n",
       "      <td>2.780</td>\n",
       "      <td>18.6</td>\n",
       "      <td>1</td>\n",
       "      <td>1</td>\n",
       "      <td>4</td>\n",
       "      <td>2</td>\n",
       "    </tr>\n",
       "  </tbody>\n",
       "</table>\n",
       "</div>"
      ],
      "text/plain": [
       "        Unnamed: 0   mpg  cyl   disp   hp  drat     wt  qsec  vs  am  gear  \\\n",
       "27    Lotus Europa  30.4    4   95.1  113  3.77  1.513  16.9   1   1     5   \n",
       "28  Ford Pantera L  15.8    8  351.0  264  4.22  3.170  14.5   0   1     5   \n",
       "29    Ferrari Dino  19.7    6  145.0  175  3.62  2.770  15.5   0   1     5   \n",
       "30   Maserati Bora  15.0    8  301.0  335  3.54  3.570  14.6   0   1     5   \n",
       "31      Volvo 142E  21.4    4  121.0  109  4.11  2.780  18.6   1   1     4   \n",
       "\n",
       "    carb  \n",
       "27     2  \n",
       "28     4  \n",
       "29     6  \n",
       "30     8  \n",
       "31     2  "
      ]
     },
     "execution_count": 7,
     "metadata": {},
     "output_type": "execute_result"
    }
   ],
   "source": [
    "df.tail()"
   ]
  },
  {
   "cell_type": "code",
   "execution_count": 31,
   "id": "d1c8c1af",
   "metadata": {},
   "outputs": [
    {
     "data": {
      "text/html": [
       "<table class=\"simpletable\">\n",
       "<caption>OLS Regression Results</caption>\n",
       "<tr>\n",
       "  <th>Dep. Variable:</th>           <td>mpg</td>       <th>  R-squared:         </th> <td>   0.838</td>\n",
       "</tr>\n",
       "<tr>\n",
       "  <th>Model:</th>                   <td>OLS</td>       <th>  Adj. R-squared:    </th> <td>   0.814</td>\n",
       "</tr>\n",
       "<tr>\n",
       "  <th>Method:</th>             <td>Least Squares</td>  <th>  F-statistic:       </th> <td>   34.82</td>\n",
       "</tr>\n",
       "<tr>\n",
       "  <th>Date:</th>             <td>Mon, 27 Mar 2023</td> <th>  Prob (F-statistic):</th> <td>2.70e-10</td>\n",
       "</tr>\n",
       "<tr>\n",
       "  <th>Time:</th>                 <td>08:32:12</td>     <th>  Log-Likelihood:    </th> <td> -73.292</td>\n",
       "</tr>\n",
       "<tr>\n",
       "  <th>No. Observations:</th>      <td>    32</td>      <th>  AIC:               </th> <td>   156.6</td>\n",
       "</tr>\n",
       "<tr>\n",
       "  <th>Df Residuals:</th>          <td>    27</td>      <th>  BIC:               </th> <td>   163.9</td>\n",
       "</tr>\n",
       "<tr>\n",
       "  <th>Df Model:</th>              <td>     4</td>      <th>                     </th>     <td> </td>   \n",
       "</tr>\n",
       "<tr>\n",
       "  <th>Covariance Type:</th>      <td>nonrobust</td>    <th>                     </th>     <td> </td>   \n",
       "</tr>\n",
       "</table>\n",
       "<table class=\"simpletable\">\n",
       "<tr>\n",
       "      <td></td>         <th>coef</th>     <th>std err</th>      <th>t</th>      <th>P>|t|</th>  <th>[0.025</th>    <th>0.975]</th>  \n",
       "</tr>\n",
       "<tr>\n",
       "  <th>Intercept</th> <td>   29.1487</td> <td>    6.294</td> <td>    4.631</td> <td> 0.000</td> <td>   16.235</td> <td>   42.062</td>\n",
       "</tr>\n",
       "<tr>\n",
       "  <th>hp</th>        <td>   -0.0348</td> <td>    0.012</td> <td>   -2.999</td> <td> 0.006</td> <td>   -0.059</td> <td>   -0.011</td>\n",
       "</tr>\n",
       "<tr>\n",
       "  <th>wt</th>        <td>   -3.4797</td> <td>    1.078</td> <td>   -3.227</td> <td> 0.003</td> <td>   -5.692</td> <td>   -1.267</td>\n",
       "</tr>\n",
       "<tr>\n",
       "  <th>disp</th>      <td>    0.0038</td> <td>    0.011</td> <td>    0.353</td> <td> 0.727</td> <td>   -0.018</td> <td>    0.026</td>\n",
       "</tr>\n",
       "<tr>\n",
       "  <th>drat</th>      <td>    1.7680</td> <td>    1.320</td> <td>    1.340</td> <td> 0.192</td> <td>   -0.940</td> <td>    4.476</td>\n",
       "</tr>\n",
       "</table>\n",
       "<table class=\"simpletable\">\n",
       "<tr>\n",
       "  <th>Omnibus:</th>       <td> 5.267</td> <th>  Durbin-Watson:     </th> <td>   1.736</td>\n",
       "</tr>\n",
       "<tr>\n",
       "  <th>Prob(Omnibus):</th> <td> 0.072</td> <th>  Jarque-Bera (JB):  </th> <td>   4.327</td>\n",
       "</tr>\n",
       "<tr>\n",
       "  <th>Skew:</th>          <td> 0.899</td> <th>  Prob(JB):          </th> <td>   0.115</td>\n",
       "</tr>\n",
       "<tr>\n",
       "  <th>Kurtosis:</th>      <td> 3.102</td> <th>  Cond. No.          </th> <td>4.26e+03</td>\n",
       "</tr>\n",
       "</table><br/><br/>Notes:<br/>[1] Standard Errors assume that the covariance matrix of the errors is correctly specified.<br/>[2] The condition number is large, 4.26e+03. This might indicate that there are<br/>strong multicollinearity or other numerical problems."
      ],
      "text/plain": [
       "<class 'statsmodels.iolib.summary.Summary'>\n",
       "\"\"\"\n",
       "                            OLS Regression Results                            \n",
       "==============================================================================\n",
       "Dep. Variable:                    mpg   R-squared:                       0.838\n",
       "Model:                            OLS   Adj. R-squared:                  0.814\n",
       "Method:                 Least Squares   F-statistic:                     34.82\n",
       "Date:                Mon, 27 Mar 2023   Prob (F-statistic):           2.70e-10\n",
       "Time:                        08:32:12   Log-Likelihood:                -73.292\n",
       "No. Observations:                  32   AIC:                             156.6\n",
       "Df Residuals:                      27   BIC:                             163.9\n",
       "Df Model:                           4                                         \n",
       "Covariance Type:            nonrobust                                         \n",
       "==============================================================================\n",
       "                 coef    std err          t      P>|t|      [0.025      0.975]\n",
       "------------------------------------------------------------------------------\n",
       "Intercept     29.1487      6.294      4.631      0.000      16.235      42.062\n",
       "hp            -0.0348      0.012     -2.999      0.006      -0.059      -0.011\n",
       "wt            -3.4797      1.078     -3.227      0.003      -5.692      -1.267\n",
       "disp           0.0038      0.011      0.353      0.727      -0.018       0.026\n",
       "drat           1.7680      1.320      1.340      0.192      -0.940       4.476\n",
       "==============================================================================\n",
       "Omnibus:                        5.267   Durbin-Watson:                   1.736\n",
       "Prob(Omnibus):                  0.072   Jarque-Bera (JB):                4.327\n",
       "Skew:                           0.899   Prob(JB):                        0.115\n",
       "Kurtosis:                       3.102   Cond. No.                     4.26e+03\n",
       "==============================================================================\n",
       "\n",
       "Notes:\n",
       "[1] Standard Errors assume that the covariance matrix of the errors is correctly specified.\n",
       "[2] The condition number is large, 4.26e+03. This might indicate that there are\n",
       "strong multicollinearity or other numerical problems.\n",
       "\"\"\""
      ]
     },
     "execution_count": 31,
     "metadata": {},
     "output_type": "execute_result"
    }
   ],
   "source": [
    "from statsmodels.formula.api import ols\n",
    "dfy = df[['mpg']]\n",
    "dfx = df[['hp', 'wt', 'disp', 'drat']]\n",
    "lr = ols('mpg ~ hp + wt + disp + drat', data = df).fit()\n",
    "lr.summary()"
   ]
  },
  {
   "cell_type": "code",
   "execution_count": 9,
   "id": "8a8dc5ec",
   "metadata": {},
   "outputs": [],
   "source": [
    "## 오차의 정규성 or 모형의 선형성\n",
    "# 예측값(fitted)과 잔차(residual)를 비교\n",
    "# 모든 예측값에서 가운데 점선에 맞추어 잔차가 비슷하게 있어야 한다.\n",
    "# 빨간 실선은 잔차의 추세를 나타낸다.\n",
    "# 빨간 실선이 점선에서 크게 벗어난다면 예측값에 따라 잔차가 크게 달라진다는 것으로 선형성이 없다는 것이다."
   ]
  },
  {
   "cell_type": "code",
   "execution_count": 10,
   "id": "db437f83",
   "metadata": {},
   "outputs": [],
   "source": [
    "import matplotlib.pyplot as plt\n",
    "import seaborn as sns\n",
    "y_pred = lr.predict(x)\n",
    "fitted = lr.predict(df)\n",
    "residual = df['mpg'] - fitted"
   ]
  },
  {
   "cell_type": "code",
   "execution_count": 11,
   "id": "f3494686",
   "metadata": {},
   "outputs": [
    {
     "data": {
      "text/plain": [
       "[<matplotlib.lines.Line2D at 0x1c0972a42c8>]"
      ]
     },
     "execution_count": 11,
     "metadata": {},
     "output_type": "execute_result"
    },
    {
     "data": {
      "image/png": "[encoded data removed]",
      "text/plain": [
       "<Figure size 640x480 with 1 Axes>"
      ]
     },
     "metadata": {},
     "output_type": "display_data"
    }
   ],
   "source": [
    "fig = plt.figure() \n",
    "sns.regplot(x = y_pred, y = residual, lowess=True, line_kws={'color': 'red'})\n",
    "plt.plot([fitted.min(), fitted.max()], [0, 0], '--', color='grey')\n",
    "# 2차함수와 같은 분포를 보여서 정규성이 없을것으로 보임"
   ]
  },
  {
   "cell_type": "code",
   "execution_count": 12,
   "id": "86234875",
   "metadata": {},
   "outputs": [],
   "source": [
    "## 잔차의 정규성\n",
    "# 잔차가 정규분포를 따른다는 가정을 한다.\n",
    "# Q-Q Plot로 확인할 수 있다.\n",
    "# 잔차가 정규분포를 띄면 Q-Q Plot에서 점들이 점선을 따라 배치되어 있어야 한다."
   ]
  },
  {
   "cell_type": "code",
   "execution_count": 13,
   "metadata": {},
   "outputs": [
    {
     "data": {
      "text/plain": [
       "[<matplotlib.lines.Line2D at 0x1c09736ee08>]"
      ]
     },
     "execution_count": 13,
     "metadata": {},
     "output_type": "execute_result"
    },
    {
     "data": {
      "image/png": "[encoded data removed]",
      "text/plain": [
       "<Figure size 640x480 with 1 Axes>"
      ]
     },
     "metadata": {},
     "output_type": "display_data"
    }
   ],
   "source": [
    "import scipy.stats\n",
    "sr = scipy.stats.zscore(residual)\n",
    "(x, y), _ = scipy.stats.probplot(sr)\n",
    "sns.scatterplot(x = x, y = y)\n",
    "plt.plot([-3, 3], [-3, 3], '--', color='grey')\n",
    "\n",
    "# 대각선을 벗어난 점들이 많이 보이므로 정규성이 없어 보임"
   ]
  },
  {
   "cell_type": "code",
   "execution_count": 14,
   "id": "bac3db17",
   "metadata": {},
   "outputs": [
    {
     "data": {
      "text/plain": [
       "ShapiroResult(statistic=0.9166126847267151, pvalue=0.01684393174946308)"
      ]
     },
     "execution_count": 14,
     "metadata": {},
     "output_type": "execute_result"
    }
   ],
   "source": [
    "# 잔차의 정규성은 샤피로 검정으로 확인할 수 있다.\n",
    "import scipy.stats as stats\n",
    "stats.shapiro(residual) # ShapiroResult(statistic=0.9450905919075012, pvalue=0.02152460627257824)\n",
    "# 위 분석에서 두 번째 값이 p값이다. pvalue=0.0168 이므로 유의수준 5%에서 잔차의 정규성이 위반되었다고 판단한다."
   ]
  },
  {
   "cell_type": "code",
   "execution_count": null,
   "id": "a7b53338",
   "metadata": {},
   "outputs": [],
   "source": [
    "## 잔차의 등분산성\n",
    "# 회귀모형을 통햬 예측된 값이 어떻든지, 모든 값들에 대하여 잔차의 분산이 동일하다는 가정\n",
    "# 아래 그래프는 예측값(X축)에 따라 잔차가 어떻게 달라지는지 보여줌\n",
    "# 빨간색 실선이 수평선에 가까울수록 등분산성이 있다는 것이다."
   ]
  },
  {
   "cell_type": "code",
   "execution_count": 17,
   "id": "431328fd",
   "metadata": {},
   "outputs": [
    {
     "data": {
      "text/plain": [
       "<AxesSubplot:>"
      ]
     },
     "execution_count": 17,
     "metadata": {},
     "output_type": "execute_result"
    },
    {
     "data": {
      "image/png": "[encoded data removed]",
      "text/plain": [
       "<Figure size 640x480 with 1 Axes>"
      ]
     },
     "metadata": {},
     "output_type": "display_data"
    }
   ],
   "source": [
    "import numpy as np\n",
    "sns.regplot(x = fitted, y = np.sqrt(np.abs(sr)), lowess=True, line_kws={'color': 'red'})\n",
    "# 빨간색은 수평이며, 동그라미는 무작위여야함.\n",
    "# 대체적으로 그러한 분포를 가지므로 잔차는 등분산성을 보임"
   ]
  },
  {
   "cell_type": "code",
   "execution_count": null,
   "id": "538278d4",
   "metadata": {},
   "outputs": [],
   "source": [
    "## 잔차의 독립성\n",
    "# Result.summary의 Durbin-Watson(더빈왓슨, DW검정)으로 확인한다.\n",
    "# DW검정은 잔차의 독립성을 확인할 수 있는 수치이다. 0이면 잔차들이 양의 자기상관을 갖고, 2이면 자기상관이 없는 독립성을 갖고, 4이면 잔차들이 음의 자기상관을 갖는다고 해석한다.\n",
    "# 보통 1.5 ~ 2.5사이이면 독립으로 판단하고 회귀모형이 적합하다는 것을 의미한다. DW검정값이 0 또는 4에 가깝다는 것은 잔차들이 자기상관을 가지고 있다는 의미이고, 이는 t값, F값, R제곱을 실제보다 증가시켜 실제로 유의미하지 않은 결과를 유의미한 결과로 왜곡하게 된다.\n",
    "# 위 회귀분석에서 더빈왓슨검정의 값이 1.736이므로 독립성이 있다고 판단할 수 있다."
   ]
  },
  {
   "cell_type": "code",
   "execution_count": 18,
   "id": "2be3d946",
   "metadata": {},
   "outputs": [
    {
     "data": {
      "text/html": [
       "<table class=\"simpletable\">\n",
       "<caption>OLS Regression Results</caption>\n",
       "<tr>\n",
       "  <th>Dep. Variable:</th>           <td>mpg</td>       <th>  R-squared:         </th> <td>   0.838</td>\n",
       "</tr>\n",
       "<tr>\n",
       "  <th>Model:</th>                   <td>OLS</td>       <th>  Adj. R-squared:    </th> <td>   0.814</td>\n",
       "</tr>\n",
       "<tr>\n",
       "  <th>Method:</th>             <td>Least Squares</td>  <th>  F-statistic:       </th> <td>   34.82</td>\n",
       "</tr>\n",
       "<tr>\n",
       "  <th>Date:</th>             <td>Mon, 27 Mar 2023</td> <th>  Prob (F-statistic):</th> <td>2.70e-10</td>\n",
       "</tr>\n",
       "<tr>\n",
       "  <th>Time:</th>                 <td>08:11:40</td>     <th>  Log-Likelihood:    </th> <td> -73.292</td>\n",
       "</tr>\n",
       "<tr>\n",
       "  <th>No. Observations:</th>      <td>    32</td>      <th>  AIC:               </th> <td>   156.6</td>\n",
       "</tr>\n",
       "<tr>\n",
       "  <th>Df Residuals:</th>          <td>    27</td>      <th>  BIC:               </th> <td>   163.9</td>\n",
       "</tr>\n",
       "<tr>\n",
       "  <th>Df Model:</th>              <td>     4</td>      <th>                     </th>     <td> </td>   \n",
       "</tr>\n",
       "<tr>\n",
       "  <th>Covariance Type:</th>      <td>nonrobust</td>    <th>                     </th>     <td> </td>   \n",
       "</tr>\n",
       "</table>\n",
       "<table class=\"simpletable\">\n",
       "<tr>\n",
       "      <td></td>         <th>coef</th>     <th>std err</th>      <th>t</th>      <th>P>|t|</th>  <th>[0.025</th>    <th>0.975]</th>  \n",
       "</tr>\n",
       "<tr>\n",
       "  <th>Intercept</th> <td>   29.1487</td> <td>    6.294</td> <td>    4.631</td> <td> 0.000</td> <td>   16.235</td> <td>   42.062</td>\n",
       "</tr>\n",
       "<tr>\n",
       "  <th>hp</th>        <td>   -0.0348</td> <td>    0.012</td> <td>   -2.999</td> <td> 0.006</td> <td>   -0.059</td> <td>   -0.011</td>\n",
       "</tr>\n",
       "<tr>\n",
       "  <th>wt</th>        <td>   -3.4797</td> <td>    1.078</td> <td>   -3.227</td> <td> 0.003</td> <td>   -5.692</td> <td>   -1.267</td>\n",
       "</tr>\n",
       "<tr>\n",
       "  <th>disp</th>      <td>    0.0038</td> <td>    0.011</td> <td>    0.353</td> <td> 0.727</td> <td>   -0.018</td> <td>    0.026</td>\n",
       "</tr>\n",
       "<tr>\n",
       "  <th>drat</th>      <td>    1.7680</td> <td>    1.320</td> <td>    1.340</td> <td> 0.192</td> <td>   -0.940</td> <td>    4.476</td>\n",
       "</tr>\n",
       "</table>\n",
       "<table class=\"simpletable\">\n",
       "<tr>\n",
       "  <th>Omnibus:</th>       <td> 5.267</td> <th>  Durbin-Watson:     </th> <td>   1.736</td>\n",
       "</tr>\n",
       "<tr>\n",
       "  <th>Prob(Omnibus):</th> <td> 0.072</td> <th>  Jarque-Bera (JB):  </th> <td>   4.327</td>\n",
       "</tr>\n",
       "<tr>\n",
       "  <th>Skew:</th>          <td> 0.899</td> <th>  Prob(JB):          </th> <td>   0.115</td>\n",
       "</tr>\n",
       "<tr>\n",
       "  <th>Kurtosis:</th>      <td> 3.102</td> <th>  Cond. No.          </th> <td>4.26e+03</td>\n",
       "</tr>\n",
       "</table><br/><br/>Notes:<br/>[1] Standard Errors assume that the covariance matrix of the errors is correctly specified.<br/>[2] The condition number is large, 4.26e+03. This might indicate that there are<br/>strong multicollinearity or other numerical problems."
      ],
      "text/plain": [
       "<class 'statsmodels.iolib.summary.Summary'>\n",
       "\"\"\"\n",
       "                            OLS Regression Results                            \n",
       "==============================================================================\n",
       "Dep. Variable:                    mpg   R-squared:                       0.838\n",
       "Model:                            OLS   Adj. R-squared:                  0.814\n",
       "Method:                 Least Squares   F-statistic:                     34.82\n",
       "Date:                Mon, 27 Mar 2023   Prob (F-statistic):           2.70e-10\n",
       "Time:                        08:11:40   Log-Likelihood:                -73.292\n",
       "No. Observations:                  32   AIC:                             156.6\n",
       "Df Residuals:                      27   BIC:                             163.9\n",
       "Df Model:                           4                                         \n",
       "Covariance Type:            nonrobust                                         \n",
       "==============================================================================\n",
       "                 coef    std err          t      P>|t|      [0.025      0.975]\n",
       "------------------------------------------------------------------------------\n",
       "Intercept     29.1487      6.294      4.631      0.000      16.235      42.062\n",
       "hp            -0.0348      0.012     -2.999      0.006      -0.059      -0.011\n",
       "wt            -3.4797      1.078     -3.227      0.003      -5.692      -1.267\n",
       "disp           0.0038      0.011      0.353      0.727      -0.018       0.026\n",
       "drat           1.7680      1.320      1.340      0.192      -0.940       4.476\n",
       "==============================================================================\n",
       "Omnibus:                        5.267   Durbin-Watson:                   1.736\n",
       "Prob(Omnibus):                  0.072   Jarque-Bera (JB):                4.327\n",
       "Skew:                           0.899   Prob(JB):                        0.115\n",
       "Kurtosis:                       3.102   Cond. No.                     4.26e+03\n",
       "==============================================================================\n",
       "\n",
       "Notes:\n",
       "[1] Standard Errors assume that the covariance matrix of the errors is correctly specified.\n",
       "[2] The condition number is large, 4.26e+03. This might indicate that there are\n",
       "strong multicollinearity or other numerical problems.\n",
       "\"\"\""
      ]
     },
     "execution_count": 18,
     "metadata": {},
     "output_type": "execute_result"
    }
   ],
   "source": [
    "lr.summary()"
   ]
  },
  {
   "cell_type": "code",
   "execution_count": null,
   "id": "c4aac52c",
   "metadata": {},
   "outputs": [],
   "source": [
    "## 극단값\n",
    "# Cook's distance는 극단값을 나타내는 지표이다.\n",
    "# 48번, 22번, 38번 자료가 특히 예측에서 많이 벗어남을 알 수 있다. (예측에서 많이 벗어남 = 영향력이 크다)\n",
    "# 0.5 or 1 보다 크면 예측에서 많이 벗어나다고 할 수 있음"
   ]
  },
  {
   "cell_type": "code",
   "execution_count": 21,
   "id": "f2172111",
   "metadata": {},
   "outputs": [
    {
     "data": {
      "text/plain": [
       "30    0.394064\n",
       "16    0.271338\n",
       "19    0.122137\n",
       "27    0.118109\n",
       "28    0.099296\n",
       "dtype: float64"
      ]
     },
     "execution_count": 21,
     "metadata": {},
     "output_type": "execute_result"
    }
   ],
   "source": [
    "from statsmodels.stats.outliers_influence import OLSInfluence\n",
    "cd, _ = OLSInfluence(lr).cooks_distance\n",
    "cd.sort_values(ascending=False).head()"
   ]
  },
  {
   "cell_type": "code",
   "execution_count": null,
   "id": "ff4d7738",
   "metadata": {},
   "outputs": [],
   "source": [
    "# ㅁ 다중공선성\n",
    "#  - 독립변수간의 강한 선형관계\n",
    "#  - 다중공선성이 존재할 경우 나타날 수 있는 현상\n",
    "#   . 분산분석의 F값에 의해 회귀식의 전반적인 유의성이 확인되더라도 t값에 의한 개별 회귀계수에 대한 유의성이 나타나지 않음\n",
    "#   . 회귀계수가 상식에 반하는 부호를 가짐\n",
    "#  - 다중공선성은 분산팽창지수로 측정\n",
    "#   . VIF가 4를 넘으면 다중공선성이 존재하는지 점검할 필요가 있으며 10을 초과하면 다중공선성이 존재할 가능성이 높다고 판단"
   ]
  },
  {
   "cell_type": "code",
   "execution_count": 23,
   "id": "9cf7ba88",
   "metadata": {},
   "outputs": [
    {
     "data": {
      "text/html": [
       "<table class=\"simpletable\">\n",
       "<caption>OLS Regression Results</caption>\n",
       "<tr>\n",
       "  <th>Dep. Variable:</th>           <td>mpg</td>       <th>  R-squared:         </th> <td>   0.838</td>\n",
       "</tr>\n",
       "<tr>\n",
       "  <th>Model:</th>                   <td>OLS</td>       <th>  Adj. R-squared:    </th> <td>   0.814</td>\n",
       "</tr>\n",
       "<tr>\n",
       "  <th>Method:</th>             <td>Least Squares</td>  <th>  F-statistic:       </th> <td>   34.82</td>\n",
       "</tr>\n",
       "<tr>\n",
       "  <th>Date:</th>             <td>Mon, 27 Mar 2023</td> <th>  Prob (F-statistic):</th> <td>2.70e-10</td>\n",
       "</tr>\n",
       "<tr>\n",
       "  <th>Time:</th>                 <td>08:30:15</td>     <th>  Log-Likelihood:    </th> <td> -73.292</td>\n",
       "</tr>\n",
       "<tr>\n",
       "  <th>No. Observations:</th>      <td>    32</td>      <th>  AIC:               </th> <td>   156.6</td>\n",
       "</tr>\n",
       "<tr>\n",
       "  <th>Df Residuals:</th>          <td>    27</td>      <th>  BIC:               </th> <td>   163.9</td>\n",
       "</tr>\n",
       "<tr>\n",
       "  <th>Df Model:</th>              <td>     4</td>      <th>                     </th>     <td> </td>   \n",
       "</tr>\n",
       "<tr>\n",
       "  <th>Covariance Type:</th>      <td>nonrobust</td>    <th>                     </th>     <td> </td>   \n",
       "</tr>\n",
       "</table>\n",
       "<table class=\"simpletable\">\n",
       "<tr>\n",
       "      <td></td>         <th>coef</th>     <th>std err</th>      <th>t</th>      <th>P>|t|</th>  <th>[0.025</th>    <th>0.975]</th>  \n",
       "</tr>\n",
       "<tr>\n",
       "  <th>Intercept</th> <td>   29.1487</td> <td>    6.294</td> <td>    4.631</td> <td> 0.000</td> <td>   16.235</td> <td>   42.062</td>\n",
       "</tr>\n",
       "<tr>\n",
       "  <th>hp</th>        <td>   -0.0348</td> <td>    0.012</td> <td>   -2.999</td> <td> 0.006</td> <td>   -0.059</td> <td>   -0.011</td>\n",
       "</tr>\n",
       "<tr>\n",
       "  <th>wt</th>        <td>   -3.4797</td> <td>    1.078</td> <td>   -3.227</td> <td> 0.003</td> <td>   -5.692</td> <td>   -1.267</td>\n",
       "</tr>\n",
       "<tr>\n",
       "  <th>disp</th>      <td>    0.0038</td> <td>    0.011</td> <td>    0.353</td> <td> 0.727</td> <td>   -0.018</td> <td>    0.026</td>\n",
       "</tr>\n",
       "<tr>\n",
       "  <th>drat</th>      <td>    1.7680</td> <td>    1.320</td> <td>    1.340</td> <td> 0.192</td> <td>   -0.940</td> <td>    4.476</td>\n",
       "</tr>\n",
       "</table>\n",
       "<table class=\"simpletable\">\n",
       "<tr>\n",
       "  <th>Omnibus:</th>       <td> 5.267</td> <th>  Durbin-Watson:     </th> <td>   1.736</td>\n",
       "</tr>\n",
       "<tr>\n",
       "  <th>Prob(Omnibus):</th> <td> 0.072</td> <th>  Jarque-Bera (JB):  </th> <td>   4.327</td>\n",
       "</tr>\n",
       "<tr>\n",
       "  <th>Skew:</th>          <td> 0.899</td> <th>  Prob(JB):          </th> <td>   0.115</td>\n",
       "</tr>\n",
       "<tr>\n",
       "  <th>Kurtosis:</th>      <td> 3.102</td> <th>  Cond. No.          </th> <td>4.26e+03</td>\n",
       "</tr>\n",
       "</table><br/><br/>Notes:<br/>[1] Standard Errors assume that the covariance matrix of the errors is correctly specified.<br/>[2] The condition number is large, 4.26e+03. This might indicate that there are<br/>strong multicollinearity or other numerical problems."
      ],
      "text/plain": [
       "<class 'statsmodels.iolib.summary.Summary'>\n",
       "\"\"\"\n",
       "                            OLS Regression Results                            \n",
       "==============================================================================\n",
       "Dep. Variable:                    mpg   R-squared:                       0.838\n",
       "Model:                            OLS   Adj. R-squared:                  0.814\n",
       "Method:                 Least Squares   F-statistic:                     34.82\n",
       "Date:                Mon, 27 Mar 2023   Prob (F-statistic):           2.70e-10\n",
       "Time:                        08:30:15   Log-Likelihood:                -73.292\n",
       "No. Observations:                  32   AIC:                             156.6\n",
       "Df Residuals:                      27   BIC:                             163.9\n",
       "Df Model:                           4                                         \n",
       "Covariance Type:            nonrobust                                         \n",
       "==============================================================================\n",
       "                 coef    std err          t      P>|t|      [0.025      0.975]\n",
       "------------------------------------------------------------------------------\n",
       "Intercept     29.1487      6.294      4.631      0.000      16.235      42.062\n",
       "hp            -0.0348      0.012     -2.999      0.006      -0.059      -0.011\n",
       "wt            -3.4797      1.078     -3.227      0.003      -5.692      -1.267\n",
       "disp           0.0038      0.011      0.353      0.727      -0.018       0.026\n",
       "drat           1.7680      1.320      1.340      0.192      -0.940       4.476\n",
       "==============================================================================\n",
       "Omnibus:                        5.267   Durbin-Watson:                   1.736\n",
       "Prob(Omnibus):                  0.072   Jarque-Bera (JB):                4.327\n",
       "Skew:                           0.899   Prob(JB):                        0.115\n",
       "Kurtosis:                       3.102   Cond. No.                     4.26e+03\n",
       "==============================================================================\n",
       "\n",
       "Notes:\n",
       "[1] Standard Errors assume that the covariance matrix of the errors is correctly specified.\n",
       "[2] The condition number is large, 4.26e+03. This might indicate that there are\n",
       "strong multicollinearity or other numerical problems.\n",
       "\"\"\""
      ]
     },
     "execution_count": 23,
     "metadata": {},
     "output_type": "execute_result"
    }
   ],
   "source": [
    "lr.summary()\n",
    "# Cond. No.와 [2] The condition number is large, 4.26e+03. This might indicate that there are strong multicollinearity or other numerical problems.\n",
    "# 로 다중공산성 여부를 확인할 수 있다. 다중공산성이 존재하는것으로 추정되어 세부적인 확인이 필요함"
   ]
  },
  {
   "cell_type": "code",
   "execution_count": 33,
   "id": "d71e3ff4",
   "metadata": {},
   "outputs": [
    {
     "data": {
      "text/html": [
       "<div>\n",
       "<style scoped>\n",
       "    .dataframe tbody tr th:only-of-type {\n",
       "        vertical-align: middle;\n",
       "    }\n",
       "\n",
       "    .dataframe tbody tr th {\n",
       "        vertical-align: top;\n",
       "    }\n",
       "\n",
       "    .dataframe thead th {\n",
       "        text-align: right;\n",
       "    }\n",
       "</style>\n",
       "<table border=\"1\" class=\"dataframe\">\n",
       "  <thead>\n",
       "    <tr style=\"text-align: right;\">\n",
       "      <th></th>\n",
       "      <th>VIF Factor</th>\n",
       "      <th>features</th>\n",
       "    </tr>\n",
       "  </thead>\n",
       "  <tbody>\n",
       "    <tr>\n",
       "      <th>0</th>\n",
       "      <td>11.895321</td>\n",
       "      <td>drat</td>\n",
       "    </tr>\n",
       "    <tr>\n",
       "      <th>1</th>\n",
       "      <td>16.403205</td>\n",
       "      <td>hp</td>\n",
       "    </tr>\n",
       "    <tr>\n",
       "      <th>2</th>\n",
       "      <td>37.115477</td>\n",
       "      <td>disp</td>\n",
       "    </tr>\n",
       "    <tr>\n",
       "      <th>3</th>\n",
       "      <td>47.530410</td>\n",
       "      <td>wt</td>\n",
       "    </tr>\n",
       "  </tbody>\n",
       "</table>\n",
       "</div>"
      ],
      "text/plain": [
       "   VIF Factor features\n",
       "0   11.895321     drat\n",
       "1   16.403205       hp\n",
       "2   37.115477     disp\n",
       "3   47.530410       wt"
      ]
     },
     "execution_count": 33,
     "metadata": {},
     "output_type": "execute_result"
    }
   ],
   "source": [
    "# 2. VIF(Variance Inflation Factors, 분산팽창요인)\n",
    "# 보통 VIF가 10이 넘으면 다중공선성이 있다고 판단한다.\n",
    "from statsmodels.stats.outliers_influence import variance_inflation_factor\n",
    "\n",
    "vif = pd.DataFrame()\n",
    "vif[\"VIF Factor\"] = [variance_inflation_factor(dfx.values, i) for i in range(dfx.shape[1])]\n",
    "vif[\"features\"] = dfx.columns\n",
    "vif = vif.sort_values(\"VIF Factor\").reset_index(drop=True)\n",
    "vif\n",
    "# 모든 변수의 VIF가 10을 넘는 것을 확인할 수 있다."
   ]
  },
  {
   "cell_type": "code",
   "execution_count": null,
   "id": "31bd71f9",
   "metadata": {},
   "outputs": [],
   "source": [
    "## ㅁ 다중공선성 해결방법\n",
    "# 1. 정규화(regularized) 방법 사용\n",
    "# 2. 의존적인 변수를 삭제(변수선택법 등 활용)\n",
    "# 3. PCA(principal component analysis) 방법으로 의존적인 성분 삭제"
   ]
  },
  {
   "cell_type": "code",
   "execution_count": null,
   "id": "91e2cd1b",
   "metadata": {},
   "outputs": [],
   "source": [
    "# 1. 정규화(regularized) 방법 사용\n",
    "# 회귀분석에서 정규화가 필요한 이유 중 하나이다.\n",
    "# 독립변수들읠 정규화 한 이후 회귀분석을 실시한 후 VIF를 확인해보겠다.\n",
    "# 분류보다는 회귀분석에서 유용하다.\n",
    "from sklearn.preprocessing import MinMaxScaler\n",
    "\n",
    "MmScaler = MinMaxScaler()\n",
    "\n",
    "# Train 데이터의 fitting과 스케일링\n",
    "MmScaler.fit(dfx)\n",
    "dfx_sc = MmScaler.transform(dfx)"
   ]
  },
  {
   "cell_type": "code",
   "execution_count": 58,
   "id": "5bf30d29",
   "metadata": {},
   "outputs": [
    {
     "data": {
      "text/html": [
       "<table class=\"simpletable\">\n",
       "<caption>OLS Regression Results</caption>\n",
       "<tr>\n",
       "  <th>Dep. Variable:</th>           <td>mpg</td>       <th>  R-squared:         </th> <td>   0.838</td>\n",
       "</tr>\n",
       "<tr>\n",
       "  <th>Model:</th>                   <td>OLS</td>       <th>  Adj. R-squared:    </th> <td>   0.814</td>\n",
       "</tr>\n",
       "<tr>\n",
       "  <th>Method:</th>             <td>Least Squares</td>  <th>  F-statistic:       </th> <td>   34.82</td>\n",
       "</tr>\n",
       "<tr>\n",
       "  <th>Date:</th>             <td>Mon, 27 Mar 2023</td> <th>  Prob (F-statistic):</th> <td>2.70e-10</td>\n",
       "</tr>\n",
       "<tr>\n",
       "  <th>Time:</th>                 <td>08:45:21</td>     <th>  Log-Likelihood:    </th> <td> -73.292</td>\n",
       "</tr>\n",
       "<tr>\n",
       "  <th>No. Observations:</th>      <td>    32</td>      <th>  AIC:               </th> <td>   156.6</td>\n",
       "</tr>\n",
       "<tr>\n",
       "  <th>Df Residuals:</th>          <td>    27</td>      <th>  BIC:               </th> <td>   163.9</td>\n",
       "</tr>\n",
       "<tr>\n",
       "  <th>Df Model:</th>              <td>     4</td>      <th>                     </th>     <td> </td>   \n",
       "</tr>\n",
       "<tr>\n",
       "  <th>Covariance Type:</th>      <td>nonrobust</td>    <th>                     </th>     <td> </td>   \n",
       "</tr>\n",
       "</table>\n",
       "<table class=\"simpletable\">\n",
       "<tr>\n",
       "      <td></td>         <th>coef</th>     <th>std err</th>      <th>t</th>      <th>P>|t|</th>  <th>[0.025</th>    <th>0.975]</th>  \n",
       "</tr>\n",
       "<tr>\n",
       "  <th>Intercept</th> <td>   27.2263</td> <td>    2.099</td> <td>   12.970</td> <td> 0.000</td> <td>   22.919</td> <td>   31.533</td>\n",
       "</tr>\n",
       "<tr>\n",
       "  <th>hp</th>        <td>   -9.8437</td> <td>    3.282</td> <td>   -2.999</td> <td> 0.006</td> <td>  -16.578</td> <td>   -3.110</td>\n",
       "</tr>\n",
       "<tr>\n",
       "  <th>wt</th>        <td>  -13.6090</td> <td>    4.218</td> <td>   -3.227</td> <td> 0.003</td> <td>  -22.263</td> <td>   -4.955</td>\n",
       "</tr>\n",
       "<tr>\n",
       "  <th>disp</th>      <td>    1.5295</td> <td>    4.332</td> <td>    0.353</td> <td> 0.727</td> <td>   -7.358</td> <td>   10.417</td>\n",
       "</tr>\n",
       "<tr>\n",
       "  <th>drat</th>      <td>    3.8367</td> <td>    2.864</td> <td>    1.340</td> <td> 0.192</td> <td>   -2.040</td> <td>    9.713</td>\n",
       "</tr>\n",
       "</table>\n",
       "<table class=\"simpletable\">\n",
       "<tr>\n",
       "  <th>Omnibus:</th>       <td> 5.267</td> <th>  Durbin-Watson:     </th> <td>   1.736</td>\n",
       "</tr>\n",
       "<tr>\n",
       "  <th>Prob(Omnibus):</th> <td> 0.072</td> <th>  Jarque-Bera (JB):  </th> <td>   4.327</td>\n",
       "</tr>\n",
       "<tr>\n",
       "  <th>Skew:</th>          <td> 0.899</td> <th>  Prob(JB):          </th> <td>   0.115</td>\n",
       "</tr>\n",
       "<tr>\n",
       "  <th>Kurtosis:</th>      <td> 3.102</td> <th>  Cond. No.          </th> <td>    16.1</td>\n",
       "</tr>\n",
       "</table><br/><br/>Notes:<br/>[1] Standard Errors assume that the covariance matrix of the errors is correctly specified."
      ],
      "text/plain": [
       "<class 'statsmodels.iolib.summary.Summary'>\n",
       "\"\"\"\n",
       "                            OLS Regression Results                            \n",
       "==============================================================================\n",
       "Dep. Variable:                    mpg   R-squared:                       0.838\n",
       "Model:                            OLS   Adj. R-squared:                  0.814\n",
       "Method:                 Least Squares   F-statistic:                     34.82\n",
       "Date:                Mon, 27 Mar 2023   Prob (F-statistic):           2.70e-10\n",
       "Time:                        08:45:21   Log-Likelihood:                -73.292\n",
       "No. Observations:                  32   AIC:                             156.6\n",
       "Df Residuals:                      27   BIC:                             163.9\n",
       "Df Model:                           4                                         \n",
       "Covariance Type:            nonrobust                                         \n",
       "==============================================================================\n",
       "                 coef    std err          t      P>|t|      [0.025      0.975]\n",
       "------------------------------------------------------------------------------\n",
       "Intercept     27.2263      2.099     12.970      0.000      22.919      31.533\n",
       "hp            -9.8437      3.282     -2.999      0.006     -16.578      -3.110\n",
       "wt           -13.6090      4.218     -3.227      0.003     -22.263      -4.955\n",
       "disp           1.5295      4.332      0.353      0.727      -7.358      10.417\n",
       "drat           3.8367      2.864      1.340      0.192      -2.040       9.713\n",
       "==============================================================================\n",
       "Omnibus:                        5.267   Durbin-Watson:                   1.736\n",
       "Prob(Omnibus):                  0.072   Jarque-Bera (JB):                4.327\n",
       "Skew:                           0.899   Prob(JB):                        0.115\n",
       "Kurtosis:                       3.102   Cond. No.                         16.1\n",
       "==============================================================================\n",
       "\n",
       "Notes:\n",
       "[1] Standard Errors assume that the covariance matrix of the errors is correctly specified.\n",
       "\"\"\""
      ]
     },
     "execution_count": 58,
     "metadata": {},
     "output_type": "execute_result"
    }
   ],
   "source": [
    "df02 = pd.concat([pd.DataFrame(dfx_sc), dfy], axis = 1, ignore_index=True)\n",
    "df02.columns = ['hp',\t'wt',\t'disp',\t'drat', 'mpg']\n",
    "lr_sc = ols('mpg ~ hp + wt + disp + drat', data = df02).fit()\n",
    "lr_sc.summary()"
   ]
  },
  {
   "cell_type": "code",
   "execution_count": 63,
   "id": "a9c88332",
   "metadata": {},
   "outputs": [],
   "source": [
    "xdf02_sc = pd.DataFrame(dfx_sc)\n",
    "xdf02_sc.columns = ['hp',\t'wt',\t'disp',\t'drat']"
   ]
  },
  {
   "cell_type": "code",
   "execution_count": 64,
   "id": "99124b2d",
   "metadata": {},
   "outputs": [
    {
     "data": {
      "text/html": [
       "<div>\n",
       "<style scoped>\n",
       "    .dataframe tbody tr th:only-of-type {\n",
       "        vertical-align: middle;\n",
       "    }\n",
       "\n",
       "    .dataframe tbody tr th {\n",
       "        vertical-align: top;\n",
       "    }\n",
       "\n",
       "    .dataframe thead th {\n",
       "        text-align: right;\n",
       "    }\n",
       "</style>\n",
       "<table border=\"1\" class=\"dataframe\">\n",
       "  <thead>\n",
       "    <tr style=\"text-align: right;\">\n",
       "      <th></th>\n",
       "      <th>VIF Factor</th>\n",
       "      <th>features</th>\n",
       "    </tr>\n",
       "  </thead>\n",
       "  <tbody>\n",
       "    <tr>\n",
       "      <th>0</th>\n",
       "      <td>1.978751</td>\n",
       "      <td>drat</td>\n",
       "    </tr>\n",
       "    <tr>\n",
       "      <th>1</th>\n",
       "      <td>8.585632</td>\n",
       "      <td>hp</td>\n",
       "    </tr>\n",
       "    <tr>\n",
       "      <th>2</th>\n",
       "      <td>15.813706</td>\n",
       "      <td>wt</td>\n",
       "    </tr>\n",
       "    <tr>\n",
       "      <th>3</th>\n",
       "      <td>22.087774</td>\n",
       "      <td>disp</td>\n",
       "    </tr>\n",
       "  </tbody>\n",
       "</table>\n",
       "</div>"
      ],
      "text/plain": [
       "   VIF Factor features\n",
       "0    1.978751     drat\n",
       "1    8.585632       hp\n",
       "2   15.813706       wt\n",
       "3   22.087774     disp"
      ]
     },
     "execution_count": 64,
     "metadata": {},
     "output_type": "execute_result"
    }
   ],
   "source": [
    "# 2. VIF(Variance Inflation Factors, 분산팽창요인)\n",
    "# 보통 VIF가 10이 넘으면 다중공선성이 있다고 판단한다.\n",
    "from statsmodels.stats.outliers_influence import variance_inflation_factor\n",
    "\n",
    "vif = pd.DataFrame()\n",
    "vif[\"VIF Factor\"] = [variance_inflation_factor(xdf02_sc.values, i) for i in range(xdf02_sc.shape[1])]\n",
    "vif[\"features\"] = xdf02_sc.columns\n",
    "vif = vif.sort_values(\"VIF Factor\").reset_index(drop=True)\n",
    "vif\n",
    "# drat, hp 변수의 VIF가 10이하로 감소함"
   ]
  },
  {
   "cell_type": "code",
   "execution_count": 34,
   "id": "038f59dd",
   "metadata": {},
   "outputs": [],
   "source": [
    "# ㅁ 회귀모델 수정\n",
    "#  - 관측값 제거, 변수 변환, 변수 추가/제거를 통해 회귀모델 수정\n",
    "#  - 이상점/영향점 > 관측값 제거\n",
    "#  - 선형성, 정규성, 등분산성 가정 미충족 > 변수 변환(정규화, Min-Max 등)\n",
    "#   . 선형성의 가정을 위배하면 독립변수를 변환\n",
    "#   . 정규성/등분산의 가정을 위배하면 종속변수를 변환\n",
    "#  - 다중공선성 > 변수 제거"
   ]
  },
  {
   "cell_type": "code",
   "execution_count": null,
   "id": "3156e4ac",
   "metadata": {},
   "outputs": [],
   "source": []
  }
 ],
 "metadata": {
  "kernelspec": {
   "display_name": "Python 3",
   "language": "python",
   "name": "python3"
  },
  "language_info": {
   "codemirror_mode": {
    "name": "ipython",
    "version": 3
   },
   "file_extension": ".py",
   "mimetype": "text/x-python",
   "name": "python",
   "nbconvert_exporter": "python",
   "pygments_lexer": "ipython3",
   "version": "3.7.9"
  },
  "vscode": {
   "interpreter": {
    "hash": "5aa634c14859627405404137fecabd2d911e45a844039ce454abb52cf9f696dc"
   }
  }
 },
 "nbformat": 4,
 "nbformat_minor": 5
}
