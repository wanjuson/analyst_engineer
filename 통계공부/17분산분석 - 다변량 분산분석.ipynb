{
 "cells": [
  {
   "cell_type": "code",
   "execution_count": null,
   "id": "cacd3bf8",
   "metadata": {},
   "outputs": [],
   "source": [
    "# 17분산분석 - 다변량 분산분석\n",
    "# https://www.youtube.com/watch?v=ovNU9MzKTW0&list=PLY0OaF78qqGAxKX91WuRigHpwBU0C2SB_&index=17"
   ]
  },
  {
   "cell_type": "code",
   "execution_count": 1,
   "id": "088be6de",
   "metadata": {},
   "outputs": [],
   "source": [
    "# ㅁ 다변량 분산분석\n",
    "#  - 두개 이상의 종속변수가 있을 경우 집단별 차이를 동시에 검정\n",
    "#  - 연구의 타당성 증대"
   ]
  },
  {
   "cell_type": "code",
   "execution_count": 3,
   "id": "9d13dd8f",
   "metadata": {},
   "outputs": [
    {
     "data": {
      "text/html": [
       "<div>\n",
       "<style scoped>\n",
       "    .dataframe tbody tr th:only-of-type {\n",
       "        vertical-align: middle;\n",
       "    }\n",
       "\n",
       "    .dataframe tbody tr th {\n",
       "        vertical-align: top;\n",
       "    }\n",
       "\n",
       "    .dataframe thead th {\n",
       "        text-align: right;\n",
       "    }\n",
       "</style>\n",
       "<table border=\"1\" class=\"dataframe\">\n",
       "  <thead>\n",
       "    <tr style=\"text-align: right;\">\n",
       "      <th></th>\n",
       "      <th>MB</th>\n",
       "      <th>BH</th>\n",
       "      <th>BL</th>\n",
       "      <th>NH</th>\n",
       "      <th>Year</th>\n",
       "    </tr>\n",
       "  </thead>\n",
       "  <tbody>\n",
       "    <tr>\n",
       "      <th>145</th>\n",
       "      <td>137</td>\n",
       "      <td>125</td>\n",
       "      <td>85</td>\n",
       "      <td>57</td>\n",
       "      <td>150</td>\n",
       "    </tr>\n",
       "    <tr>\n",
       "      <th>146</th>\n",
       "      <td>129</td>\n",
       "      <td>128</td>\n",
       "      <td>81</td>\n",
       "      <td>52</td>\n",
       "      <td>150</td>\n",
       "    </tr>\n",
       "    <tr>\n",
       "      <th>147</th>\n",
       "      <td>140</td>\n",
       "      <td>135</td>\n",
       "      <td>103</td>\n",
       "      <td>48</td>\n",
       "      <td>150</td>\n",
       "    </tr>\n",
       "    <tr>\n",
       "      <th>148</th>\n",
       "      <td>147</td>\n",
       "      <td>129</td>\n",
       "      <td>87</td>\n",
       "      <td>48</td>\n",
       "      <td>150</td>\n",
       "    </tr>\n",
       "    <tr>\n",
       "      <th>149</th>\n",
       "      <td>136</td>\n",
       "      <td>133</td>\n",
       "      <td>97</td>\n",
       "      <td>51</td>\n",
       "      <td>150</td>\n",
       "    </tr>\n",
       "  </tbody>\n",
       "</table>\n",
       "</div>"
      ],
      "text/plain": [
       "      MB   BH   BL  NH  Year\n",
       "145  137  125   85  57   150\n",
       "146  129  128   81  52   150\n",
       "147  140  135  103  48   150\n",
       "148  147  129   87  48   150\n",
       "149  136  133   97  51   150"
      ]
     },
     "execution_count": 3,
     "metadata": {},
     "output_type": "execute_result"
    }
   ],
   "source": [
    "import pandas as pd\n",
    "import numpy as np\n",
    "import pingouin as pg\n",
    "df = pd.read_csv('C:/adp/data/skulls.csv')\n",
    "df.tail()"
   ]
  },
  {
   "cell_type": "code",
   "execution_count": 7,
   "id": "d1c8c1af",
   "metadata": {},
   "outputs": [
    {
     "name": "stdout",
     "output_type": "stream",
     "text": [
      "                    Multivariate linear model\n",
      "==================================================================\n",
      "                                                                  \n",
      "------------------------------------------------------------------\n",
      "       Intercept         Value   Num DF  Den DF   F Value   Pr > F\n",
      "------------------------------------------------------------------\n",
      "          Wilks' lambda   0.0012 4.0000 145.0000 30141.3582 0.0000\n",
      "         Pillai's trace   0.9988 4.0000 145.0000 30141.3582 0.0000\n",
      " Hotelling-Lawley trace 831.4857 4.0000 145.0000 30141.3582 0.0000\n",
      "    Roy's greatest root 831.4857 4.0000 145.0000 30141.3582 0.0000\n",
      "------------------------------------------------------------------\n",
      "                                                                  \n",
      "-------------------------------------------------------------------\n",
      "           Year           Value   Num DF   Den DF   F Value  Pr > F\n",
      "-------------------------------------------------------------------\n",
      "           Wilks' lambda  0.7043  4.0000  145.0000  15.2187  0.0000\n",
      "          Pillai's trace  0.2957  4.0000  145.0000  15.2187  0.0000\n",
      "  Hotelling-Lawley trace  0.4198  4.0000  145.0000  15.2187  0.0000\n",
      "     Roy's greatest root  0.4198  4.0000  145.0000  15.2187  0.0000\n",
      "==================================================================\n",
      "\n"
     ]
    }
   ],
   "source": [
    "from statsmodels.multivariate.manova import MANOVA\n",
    "print(MANOVA.from_formula('MB + BH + BL + NH ~ Year', data = df).mv_test())\n",
    "# Intercept 는 Pr > F가 유의수준 0.05보다 작으므로 차이가 있음\n",
    "# Year 는 Pr > F가 유의수준 0.05보다 작으므로 차이가 있음"
   ]
  }
 ],
 "metadata": {
  "kernelspec": {
   "display_name": "Python 3",
   "language": "python",
   "name": "python3"
  },
  "language_info": {
   "codemirror_mode": {
    "name": "ipython",
    "version": 3
   },
   "file_extension": ".py",
   "mimetype": "text/x-python",
   "name": "python",
   "nbconvert_exporter": "python",
   "pygments_lexer": "ipython3",
   "version": "3.7.9"
  },
  "vscode": {
   "interpreter": {
    "hash": "5aa634c14859627405404137fecabd2d911e45a844039ce454abb52cf9f696dc"
   }
  }
 },
 "nbformat": 4,
 "nbformat_minor": 5
}
