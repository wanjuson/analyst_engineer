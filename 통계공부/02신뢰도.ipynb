{
 "cells": [
  {
   "cell_type": "code",
   "execution_count": null,
   "id": "cacd3bf8",
   "metadata": {},
   "outputs": [],
   "source": [
    "# 통계데이터분석 - 신뢰도\n",
    "# https://www.youtube.com/watch?v=v9NikIxAstY&list=PLY0OaF78qqGAxKX91WuRigHpwBU0C2SB_&index=2"
   ]
  },
  {
   "cell_type": "code",
   "execution_count": null,
   "id": "088be6de",
   "metadata": {},
   "outputs": [],
   "source": [
    "ㅁ 신뢰도\n",
    " - 측정척도의  신뢰도란 측정척도가 측정하려고 의도하는것을 얼마나 정확하게 오차 없이 측정하고 있는지를 나타냄\n",
    " - 동일한 개념(또는 개상)을 유사한 척도로 측정할 경우 일관된 결과를 산출하는 정도\n",
    "  . 신뢰도가 높다는 것은 동일한 개념을 측정하기 위해 고안된 서로 다른 측정도구가 같은 결과를 산출한다는 것을 의미\n",
    "  . 또는 동일한 측정도구를 이용하는 시간 간격을 두고 측정하였을 때 두 결과의 일치도가 높다는 의미"
   ]
  },
  {
   "cell_type": "code",
   "execution_count": null,
   "id": "ba505c4e",
   "metadata": {},
   "outputs": [
    {
     "name": "stdout",
     "output_type": "stream",
     "text": [
      "2.093024054408263\n",
      "-2.0930240544082634\n"
     ]
    }
   ],
   "source": [
    "ㅁ 신뢰도 지표\n",
    "ㅁ 크론바흐 알파계수\n",
    " - 하나의 개념을 여러 측정항목으로 측정할 때 나타나는 항목 간의 일관성이나 동질성의 정도를 나타내며 이를 내적일관성이라고 함\n",
    " - 0에서 1 사이의 값을 가지며 클수록 측정항목의 신뢰도가 높음\n",
    " - 0.8 이상 : 바람직, 0.6~0.8 : 수용할만, 0.6 이하 : 신뢰도 결어"
   ]
  },
  {
   "cell_type": "code",
   "execution_count": 48,
   "id": "67df1d7b",
   "metadata": {},
   "outputs": [
    {
     "name": "stderr",
     "output_type": "stream",
     "text": [
      "c:\\Users\\신주현\\AppData\\Local\\Programs\\Python\\Python37\\lib\\site-packages\\outdated\\utils.py:18: OutdatedPackageWarning: The package pingouin is out of date. Your version is 0.5.2, the latest is 0.5.3.\n",
      "Set the environment variable OUTDATED_IGNORE=1 to disable these warnings.\n",
      "  **kwargs\n"
     ]
    }
   ],
   "source": [
    "# !pip install factor-analyzer\n",
    "from factor_analyzer import FactorAnalyzer\n",
    "import pandas as pd\n",
    "import numpy as np\n",
    "import pingouin as pg"
   ]
  },
  {
   "cell_type": "code",
   "execution_count": 47,
   "id": "c34a4a00",
   "metadata": {},
   "outputs": [
    {
     "data": {
      "text/html": [
       "<div>\n",
       "<style scoped>\n",
       "    .dataframe tbody tr th:only-of-type {\n",
       "        vertical-align: middle;\n",
       "    }\n",
       "\n",
       "    .dataframe tbody tr th {\n",
       "        vertical-align: top;\n",
       "    }\n",
       "\n",
       "    .dataframe thead th {\n",
       "        text-align: right;\n",
       "    }\n",
       "</style>\n",
       "<table border=\"1\" class=\"dataframe\">\n",
       "  <thead>\n",
       "    <tr style=\"text-align: right;\">\n",
       "      <th></th>\n",
       "      <th>0</th>\n",
       "      <th>1</th>\n",
       "      <th>2</th>\n",
       "    </tr>\n",
       "  </thead>\n",
       "  <tbody>\n",
       "    <tr>\n",
       "      <th>0</th>\n",
       "      <td>20</td>\n",
       "      <td>19</td>\n",
       "      <td>30</td>\n",
       "    </tr>\n",
       "    <tr>\n",
       "      <th>1</th>\n",
       "      <td>21</td>\n",
       "      <td>24</td>\n",
       "      <td>32</td>\n",
       "    </tr>\n",
       "    <tr>\n",
       "      <th>2</th>\n",
       "      <td>22</td>\n",
       "      <td>25</td>\n",
       "      <td>34</td>\n",
       "    </tr>\n",
       "    <tr>\n",
       "      <th>3</th>\n",
       "      <td>33</td>\n",
       "      <td>37</td>\n",
       "      <td>36</td>\n",
       "    </tr>\n",
       "  </tbody>\n",
       "</table>\n",
       "</div>"
      ],
      "text/plain": [
       "    0   1   2\n",
       "0  20  19  30\n",
       "1  21  24  32\n",
       "2  22  25  34\n",
       "3  33  37  36"
      ]
     },
     "execution_count": 47,
     "metadata": {},
     "output_type": "execute_result"
    }
   ],
   "source": [
    "data = {'0' :[20,21,22,33],\n",
    "        '1' :[19,24,25,37],\n",
    "        '2' :[30,32,34,36] }\n",
    "\n",
    "df = pd.DataFrame(data)\n",
    "df"
   ]
  },
  {
   "cell_type": "code",
   "execution_count": 49,
   "id": "248a8232",
   "metadata": {},
   "outputs": [
    {
     "data": {
      "text/plain": [
       "(0.9022556390977443, array([0.355, 0.993]))"
      ]
     },
     "execution_count": 49,
     "metadata": {},
     "output_type": "execute_result"
    }
   ],
   "source": [
    "pg.cronbach_alpha(data = df)\n",
    "# 신뢰도, 신뢰구간\n",
    "# 신뢰도가 매우 높음"
   ]
  },
  {
   "cell_type": "code",
   "execution_count": 70,
   "id": "6cd76ae9",
   "metadata": {},
   "outputs": [
    {
     "data": {
      "text/html": [
       "<div>\n",
       "<style scoped>\n",
       "    .dataframe tbody tr th:only-of-type {\n",
       "        vertical-align: middle;\n",
       "    }\n",
       "\n",
       "    .dataframe tbody tr th {\n",
       "        vertical-align: top;\n",
       "    }\n",
       "\n",
       "    .dataframe thead th {\n",
       "        text-align: right;\n",
       "    }\n",
       "</style>\n",
       "<table border=\"1\" class=\"dataframe\">\n",
       "  <thead>\n",
       "    <tr style=\"text-align: right;\">\n",
       "      <th></th>\n",
       "      <th>0</th>\n",
       "      <th>1</th>\n",
       "      <th>2</th>\n",
       "    </tr>\n",
       "  </thead>\n",
       "  <tbody>\n",
       "    <tr>\n",
       "      <th>0</th>\n",
       "      <td>20</td>\n",
       "      <td>9</td>\n",
       "      <td>1</td>\n",
       "    </tr>\n",
       "    <tr>\n",
       "      <th>1</th>\n",
       "      <td>21</td>\n",
       "      <td>24</td>\n",
       "      <td>12</td>\n",
       "    </tr>\n",
       "    <tr>\n",
       "      <th>2</th>\n",
       "      <td>22</td>\n",
       "      <td>29</td>\n",
       "      <td>34</td>\n",
       "    </tr>\n",
       "    <tr>\n",
       "      <th>3</th>\n",
       "      <td>63</td>\n",
       "      <td>29</td>\n",
       "      <td>20</td>\n",
       "    </tr>\n",
       "  </tbody>\n",
       "</table>\n",
       "</div>"
      ],
      "text/plain": [
       "    0   1   2\n",
       "0  20   9   1\n",
       "1  21  24  12\n",
       "2  22  29  34\n",
       "3  63  29  20"
      ]
     },
     "execution_count": 70,
     "metadata": {},
     "output_type": "execute_result"
    }
   ],
   "source": [
    "data2 = {'0' :[20,21,22,63],\n",
    "        '1' :[9,24,29,29],\n",
    "        '2' :[1,12,34,20] }\n",
    "\n",
    "df2 = pd.DataFrame(data2)\n",
    "df2"
   ]
  },
  {
   "cell_type": "code",
   "execution_count": 71,
   "id": "94aa6630",
   "metadata": {},
   "outputs": [
    {
     "data": {
      "text/plain": [
       "(0.6319259456579648, array([-1.429,  0.975]))"
      ]
     },
     "execution_count": 71,
     "metadata": {},
     "output_type": "execute_result"
    }
   ],
   "source": [
    "pg.cronbach_alpha(data = df2)\n",
    "# 신뢰도가 0.63으로 수용할만함"
   ]
  }
 ],
 "metadata": {
  "kernelspec": {
   "display_name": "Python 3",
   "language": "python",
   "name": "python3"
  },
  "language_info": {
   "codemirror_mode": {
    "name": "ipython",
    "version": 3
   },
   "file_extension": ".py",
   "mimetype": "text/x-python",
   "name": "python",
   "nbconvert_exporter": "python",
   "pygments_lexer": "ipython3",
   "version": "3.7.9"
  },
  "vscode": {
   "interpreter": {
    "hash": "5aa634c14859627405404137fecabd2d911e45a844039ce454abb52cf9f696dc"
   }
  }
 },
 "nbformat": 4,
 "nbformat_minor": 5
}
