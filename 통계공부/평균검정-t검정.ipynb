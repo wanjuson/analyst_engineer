{
 "cells": [
  {
   "cell_type": "code",
   "execution_count": null,
   "id": "cacd3bf8",
   "metadata": {},
   "outputs": [],
   "source": [
    "# 통계데이터분석 - 평균검정\n",
    "# https://youtu.be/srH9ru9DhnU"
   ]
  },
  {
   "cell_type": "code",
   "execution_count": null,
   "id": "088be6de",
   "metadata": {},
   "outputs": [],
   "source": [
    "# ㅁ 평균검정\n",
    "#  - 평균에 대한 가설검정을 읨\n",
    "#  - 선정한 표본이 특정 평균값을 갖는 모집단에 속하는지(즉, 표본의 평균과 모집단의 평균이 동일한지) 또는 \n",
    "#    두 표본집단의 평균값에 차이가 존재하는지(즉 두 표본집단이 동일한 모집단에 속하는지) 검정\n",
    "#  - 일표본 평균검정, 독립표본 평균검정, 대응표본 평균검정\n",
    " \n",
    "#  ㅁ t검정\n",
    "#   - 평균에 대한 가설검정은 t검정(t-test)를 통해 수행\n",
    "#   - 표본평균이 모집단평균과 동일한지 여부는 t값을 검정통계량으로 사용하여 검정\n",
    "#    - t = (표본평균 - 모집단의평균) / (표본의 표준편자 / 표본의크기**0.5)\n",
    "   \n",
    "#   ㅁ t분포\n",
    "#    - t분포는 정규분포(Z분포)와 유사한 종 모향의 형태이며 정규분포에 비해 양쪽 꼬리부분의 면적이 더 두터운 모습\n",
    "#    - 표본크기에 따라서 t분포의 종 모양이 변화\n",
    "#    - 표본크기가 클수록 t분포의 종 모양이 뾰족해지며 표본크기가 작을수록 점점 낮아지면서 꼬리 부분의 면적이 더 커짐\n",
    "#    - 표본크기가 충분히 커디면 t분포와 정규분포(Z분포)는 거의 구별이 되지 않음\n",
    "  \n",
    "#   ㅁ 벤처기업 경영자의 혈압은 일바인과 다른가?\n",
    "#    - 귀무가설 : 벤처기업 경영자의 혈압은 일반인과 같다.\n",
    "#    - 대립가설 : 벤처기업 경영자의 혈압은 일반인과 다르\n",
    "#    - 표본 : 20명의 벤처기업 경영자, 혈압 평균 135편차 25\n",
    "#    - 모집단 : 일반인 혈압 평균 115\n",
    "   \n",
    "#    t = (35-115) / (25/20**0.5) = 3.58\n",
    "#    t검정 : 절대값으로 비교하여 관측된 t값이 유의수준 0.05에 대응되는 t값보다 크므로 귀무가설을 기각한다."
   ]
  },
  {
   "cell_type": "code",
   "execution_count": 7,
   "id": "ba505c4e",
   "metadata": {},
   "outputs": [
    {
     "name": "stdout",
     "output_type": "stream",
     "text": [
      "2.093024054408263\n",
      "-2.0930240544082634\n"
     ]
    }
   ],
   "source": [
    "from scipy.stats import t\n",
    "print( t(20-1).ppf(0.975) ) # 자유도 19일때 t검정 통계량\n",
    "print( t(20-1).ppf(0.025) )"
   ]
  }
 ],
 "metadata": {
  "kernelspec": {
   "display_name": "Python 3",
   "language": "python",
   "name": "python3"
  },
  "language_info": {
   "codemirror_mode": {
    "name": "ipython",
    "version": 3
   },
   "file_extension": ".py",
   "mimetype": "text/x-python",
   "name": "python",
   "nbconvert_exporter": "python",
   "pygments_lexer": "ipython3",
   "version": "3.7.9"
  },
  "vscode": {
   "interpreter": {
    "hash": "5aa634c14859627405404137fecabd2d911e45a844039ce454abb52cf9f696dc"
   }
  }
 },
 "nbformat": 4,
 "nbformat_minor": 5
}
