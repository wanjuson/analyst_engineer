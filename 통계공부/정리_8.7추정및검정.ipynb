{
 "cells": [
  {
   "cell_type": "code",
   "execution_count": null,
   "id": "cacd3bf8",
   "metadata": {},
   "outputs": [],
   "source": [
    "# A. 이표본 분산\n",
    "# B. 일표본 비율\n",
    "# C. 이표본 비율\n",
    "# D. "
   ]
  },
  {
   "cell_type": "code",
   "execution_count": 1,
   "id": "088be6de",
   "metadata": {},
   "outputs": [],
   "source": [
    "## A. 이표본 분산\n",
    "# 두개의 확률변수가 있을때 모분산을 비교하는 방법\n",
    "# https://hongl.tistory.com/107"
   ]
  },
  {
   "cell_type": "code",
   "execution_count": 1,
   "id": "9d13dd8f",
   "metadata": {},
   "outputs": [
    {
     "data": {
      "text/html": [
       "<div>\n",
       "<style scoped>\n",
       "    .dataframe tbody tr th:only-of-type {\n",
       "        vertical-align: middle;\n",
       "    }\n",
       "\n",
       "    .dataframe tbody tr th {\n",
       "        vertical-align: top;\n",
       "    }\n",
       "\n",
       "    .dataframe thead th {\n",
       "        text-align: right;\n",
       "    }\n",
       "</style>\n",
       "<table border=\"1\" class=\"dataframe\">\n",
       "  <thead>\n",
       "    <tr style=\"text-align: right;\">\n",
       "      <th></th>\n",
       "      <th>sepal length</th>\n",
       "      <th>sepal width</th>\n",
       "      <th>petal length</th>\n",
       "      <th>petal width</th>\n",
       "      <th>target</th>\n",
       "    </tr>\n",
       "  </thead>\n",
       "  <tbody>\n",
       "    <tr>\n",
       "      <th>145</th>\n",
       "      <td>6.7</td>\n",
       "      <td>3.0</td>\n",
       "      <td>5.2</td>\n",
       "      <td>2.3</td>\n",
       "      <td>Iris-virginica</td>\n",
       "    </tr>\n",
       "    <tr>\n",
       "      <th>146</th>\n",
       "      <td>6.3</td>\n",
       "      <td>2.5</td>\n",
       "      <td>5.0</td>\n",
       "      <td>1.9</td>\n",
       "      <td>Iris-virginica</td>\n",
       "    </tr>\n",
       "    <tr>\n",
       "      <th>147</th>\n",
       "      <td>6.5</td>\n",
       "      <td>3.0</td>\n",
       "      <td>5.2</td>\n",
       "      <td>2.0</td>\n",
       "      <td>Iris-virginica</td>\n",
       "    </tr>\n",
       "    <tr>\n",
       "      <th>148</th>\n",
       "      <td>6.2</td>\n",
       "      <td>3.4</td>\n",
       "      <td>5.4</td>\n",
       "      <td>2.3</td>\n",
       "      <td>Iris-virginica</td>\n",
       "    </tr>\n",
       "    <tr>\n",
       "      <th>149</th>\n",
       "      <td>5.9</td>\n",
       "      <td>3.0</td>\n",
       "      <td>5.1</td>\n",
       "      <td>1.8</td>\n",
       "      <td>Iris-virginica</td>\n",
       "    </tr>\n",
       "  </tbody>\n",
       "</table>\n",
       "</div>"
      ],
      "text/plain": [
       "     sepal length  sepal width  petal length  petal width          target\n",
       "145           6.7          3.0           5.2          2.3  Iris-virginica\n",
       "146           6.3          2.5           5.0          1.9  Iris-virginica\n",
       "147           6.5          3.0           5.2          2.0  Iris-virginica\n",
       "148           6.2          3.4           5.4          2.3  Iris-virginica\n",
       "149           5.9          3.0           5.1          1.8  Iris-virginica"
      ]
     },
     "execution_count": 1,
     "metadata": {},
     "output_type": "execute_result"
    }
   ],
   "source": [
    "import pandas as pd\n",
    "df = pd.read_csv('C:/adp/data/iris.csv')\n",
    "df.tail()"
   ]
  },
  {
   "cell_type": "code",
   "execution_count": 3,
   "id": "00df5508",
   "metadata": {},
   "outputs": [
    {
     "data": {
      "text/plain": [
       "F_onewayResult(statistic=1335.7678308241748, pvalue=3.9878381148486907e-112)"
      ]
     },
     "execution_count": 3,
     "metadata": {},
     "output_type": "execute_result"
    }
   ],
   "source": [
    "from scipy.stats import f_oneway\n",
    "f_oneway(df['sepal length'], df['sepal width'])\n",
    "#  pvalue=3.987e-112로 유의수준 0.05하에서 귀무가설을 기각한다. 즉, 분산의 차이가 존재한다고 볼 수 있다."
   ]
  },
  {
   "cell_type": "code",
   "execution_count": 3,
   "id": "b1c12067",
   "metadata": {},
   "outputs": [
    {
     "data": {
      "text/plain": [
       "(-1.0050378152592119, 0.31487864133641996)"
      ]
     },
     "execution_count": 3,
     "metadata": {},
     "output_type": "execute_result"
    }
   ],
   "source": [
    "## B. 일표본 비율\n",
    "import numpy as np\n",
    "from statsmodels.stats.proportion import proportions_ztest\n",
    "count = 45\n",
    "nobs = 100\n",
    "proportions_ztest(count=count, nobs=nobs, value= 0.5)\n",
    "# p-val 0.31으로 유의수준 0.05하에서 표본의 비율은 0.5와 같다고 볼 수 있다."
   ]
  },
  {
   "cell_type": "code",
   "execution_count": null,
   "id": "2040a61e",
   "metadata": {},
   "outputs": [],
   "source": [
    "## C. 이표본 비율\n",
    "import numpy as np\n",
    "from statsmodels.stats.proportion import proportions_ztest\n",
    "count = np.array([45, 55])\n",
    "nobs = np.array([100, 90])\n",
    "proportions_ztest(count=count, nobs=nobs, value=0)\n",
    "# p-val 0.026으로 유의수준 0.05하에서 확률(이표본 비율)이 같다는 가설을 기각. 즉, 확률은 서로 다르다고 볼 수 있다."
   ]
  }
 ],
 "metadata": {
  "kernelspec": {
   "display_name": "Python 3",
   "language": "python",
   "name": "python3"
  },
  "language_info": {
   "codemirror_mode": {
    "name": "ipython",
    "version": 3
   },
   "file_extension": ".py",
   "mimetype": "text/x-python",
   "name": "python",
   "nbconvert_exporter": "python",
   "pygments_lexer": "ipython3",
   "version": "3.7.9"
  },
  "vscode": {
   "interpreter": {
    "hash": "5aa634c14859627405404137fecabd2d911e45a844039ce454abb52cf9f696dc"
   }
  }
 },
 "nbformat": 4,
 "nbformat_minor": 5
}
