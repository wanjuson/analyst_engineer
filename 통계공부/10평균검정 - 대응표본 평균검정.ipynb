{
 "cells": [
  {
   "cell_type": "code",
   "execution_count": null,
   "id": "cacd3bf8",
   "metadata": {},
   "outputs": [],
   "source": [
    "# 평균검정 - 대응표본 평균검정\n",
    "# https://www.youtube.com/watch?v=D9pK5OiWaSQ&list=PLY0OaF78qqGAxKX91WuRigHpwBU0C2SB_&index=10"
   ]
  },
  {
   "cell_type": "code",
   "execution_count": null,
   "id": "088be6de",
   "metadata": {},
   "outputs": [],
   "source": [
    "# ㅁ 대응표본 평균검정\n",
    "#  - 독립표본 평균검정은 구대의 표본이 서로 독립인 모집단으로부터 추출되었다는 가정을 전제로 함\n",
    "#  - 두 표본의 값이 쌍을 이루고 잇는 경우에 쌍을 이룬 값은 서로 독립이 아니며, 이처럼 검정하려고 하는 구대의 표본이 서로 독립이 아닌 모집단으로부터 추출되었을 때\n",
    "#    대응표본 평균검정을 이용하여 두 집단간의 차이 검정"
   ]
  },
  {
   "cell_type": "code",
   "execution_count": null,
   "id": "38fa6cb9",
   "metadata": {},
   "outputs": [],
   "source": [
    "# ㅁ 독립표본 vs 대응표본\n",
    "#  - 독립표본 실험\n",
    "#   . 무작위로 실험 대상자를 선정하여 두개의 집단으로 나눔\n",
    "#   . 한 집단에는 아침식사를 하고 IQ 테스트에 응하도록 하고, 다른 집단에는 아침식사를 거르고 IQ 테스트에 참가하도록 함\n",
    "#   . 각 실험 대상자에 대해 하나씩의 IQ 테스트 점수를 얻게 됨\n",
    "#  - 대응표본 실험\n",
    "#   . 무작위로 실험 대상자를 선정\n",
    "#   . 각 실험 대상자를 대상으로 IQ테스트를 두차례 실시\n",
    "#   . 한번은 아침식사를 하고 테스트에 응하도록 하고, 다른 한번은 아침식사를 하지 않은 상태에서 테스트에 참가하도록 함\n",
    "#   . 각 실험 대상자에 대해 두개의 IQ 테스트 점수를 얻게 됨."
   ]
  },
  {
   "cell_type": "code",
   "execution_count": null,
   "id": "ba505c4e",
   "metadata": {},
   "outputs": [],
   "source": [
    "import pandas as pd\n",
    "import numpy as np\n",
    "import scipy.stats as stats\n",
    "import pingouin as pg\n",
    "\n",
    "data = {'before':[7,3,4,5,2,1,6,6,5,4], 'after':[8,4,5,6,2,3,6,8,6,5]}\n",
    "df = pd.DataFrame(data)\n",
    "df"
   ]
  },
  {
   "cell_type": "code",
   "execution_count": 4,
   "id": "14449aaf",
   "metadata": {},
   "outputs": [
    {
     "data": {
      "text/html": [
       "<div>\n",
       "<style scoped>\n",
       "    .dataframe tbody tr th:only-of-type {\n",
       "        vertical-align: middle;\n",
       "    }\n",
       "\n",
       "    .dataframe tbody tr th {\n",
       "        vertical-align: top;\n",
       "    }\n",
       "\n",
       "    .dataframe thead th {\n",
       "        text-align: right;\n",
       "    }\n",
       "</style>\n",
       "<table border=\"1\" class=\"dataframe\">\n",
       "  <thead>\n",
       "    <tr style=\"text-align: right;\">\n",
       "      <th></th>\n",
       "      <th>T</th>\n",
       "      <th>dof</th>\n",
       "      <th>alternative</th>\n",
       "      <th>p-val</th>\n",
       "      <th>CI95%</th>\n",
       "      <th>cohen-d</th>\n",
       "      <th>BF10</th>\n",
       "      <th>power</th>\n",
       "    </tr>\n",
       "  </thead>\n",
       "  <tbody>\n",
       "    <tr>\n",
       "      <th>T-test</th>\n",
       "      <td>4.743416</td>\n",
       "      <td>9</td>\n",
       "      <td>two-sided</td>\n",
       "      <td>0.001054</td>\n",
       "      <td>[0.52, 1.48]</td>\n",
       "      <td>0.521443</td>\n",
       "      <td>39.113</td>\n",
       "      <td>0.314169</td>\n",
       "    </tr>\n",
       "  </tbody>\n",
       "</table>\n",
       "</div>"
      ],
      "text/plain": [
       "               T  dof alternative     p-val         CI95%   cohen-d    BF10  \\\n",
       "T-test  4.743416    9   two-sided  0.001054  [0.52, 1.48]  0.521443  39.113   \n",
       "\n",
       "           power  \n",
       "T-test  0.314169  "
      ]
     },
     "execution_count": 4,
     "metadata": {},
     "output_type": "execute_result"
    }
   ],
   "source": [
    "pg.ttest(df['after'], df['before'], paired=True, alternative=\"two-sided\")\n",
    "# p-val 0.05보다 작으므로 차이가 있음"
   ]
  }
 ],
 "metadata": {
  "kernelspec": {
   "display_name": "Python 3",
   "language": "python",
   "name": "python3"
  },
  "language_info": {
   "codemirror_mode": {
    "name": "ipython",
    "version": 3
   },
   "file_extension": ".py",
   "mimetype": "text/x-python",
   "name": "python",
   "nbconvert_exporter": "python",
   "pygments_lexer": "ipython3",
   "version": "3.7.9"
  },
  "vscode": {
   "interpreter": {
    "hash": "5aa634c14859627405404137fecabd2d911e45a844039ce454abb52cf9f696dc"
   }
  }
 },
 "nbformat": 4,
 "nbformat_minor": 5
}
