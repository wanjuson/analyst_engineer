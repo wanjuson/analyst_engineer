{
 "cells": [
  {
   "cell_type": "code",
   "execution_count": null,
   "id": "cacd3bf8",
   "metadata": {},
   "outputs": [],
   "source": [
    "# 11분산분석 - 분산분석 설계\n",
    "# https://www.youtube.com/watch?v=BnFkVjjSv6I&list=PLY0OaF78qqGAxKX91WuRigHpwBU0C2SB_&index=11"
   ]
  },
  {
   "cell_type": "code",
   "execution_count": null,
   "id": "088be6de",
   "metadata": {},
   "outputs": [],
   "source": [
    "# ㅁ 분산분석\n",
    "#  - 여러 모집단 간의 평균의 동일성을 검정\n",
    "#   . 일원분산분석 : 집단을 구분하는 범주형 변수가 1개\n",
    "#   . 이원분산분석 : 집단을 구분하는 범주형 변수가 2개\n",
    "#   . 공분산분석 : 공변량을 통제하여 독립변수의 순수한 영향을 검정\n",
    "#   . 반복측정 분산분석\n",
    "#   . 다변량 분산분석 : 두개 이상의 종속변수를 포함\n",
    "#   . 다변량 공분산분석 : 두개 이상의 종속변수와 공변량 포함"
   ]
  }
 ],
 "metadata": {
  "kernelspec": {
   "display_name": "Python 3",
   "language": "python",
   "name": "python3"
  },
  "language_info": {
   "codemirror_mode": {
    "name": "ipython",
    "version": 3
   },
   "file_extension": ".py",
   "mimetype": "text/x-python",
   "name": "python",
   "nbconvert_exporter": "python",
   "pygments_lexer": "ipython3",
   "version": "3.7.9"
  },
  "vscode": {
   "interpreter": {
    "hash": "5aa634c14859627405404137fecabd2d911e45a844039ce454abb52cf9f696dc"
   }
  }
 },
 "nbformat": 4,
 "nbformat_minor": 5
}
