{
 "cells": [
  {
   "cell_type": "code",
   "execution_count": null,
   "metadata": {},
   "outputs": [],
   "source": [
    "# allocation Coding 1_20200517\n",
    "배정 Coding\n",
    "○환산피순으로 근거리 고객 한명씩 배정\n",
    " 1.엑셀자료 불러오기\n",
    " 2.FC별 환산피순으로 근거리 고객 배정\n",
    "  - 근거리 : 자표거리 계산"
   ]
  },
  {
   "cell_type": "code",
   "execution_count": 1,
   "metadata": {},
   "outputs": [],
   "source": [
    "# 0.환경설정\n",
    "# 0.1라이브러리 불러오기\n",
    "import numpy as np\n",
    "import pandas as pd\n",
    "import os\n",
    "import numbers\n",
    "import math"
   ]
  },
  {
   "cell_type": "code",
   "execution_count": 2,
   "metadata": {},
   "outputs": [],
   "source": [
    "# 1.엑셀자료 불러오기\n",
    "base_dir = 'C:/Users/xnote/Documents/py'\n",
    "excel_file = 'allocation Coding 1.xlsx'\n",
    "excel_dir = os.path.join(base_dir, excel_file)"
   ]
  },
  {
   "cell_type": "code",
   "execution_count": 3,
   "metadata": {},
   "outputs": [
    {
     "data": {
      "text/html": [
       "<div>\n",
       "<style scoped>\n",
       "    .dataframe tbody tr th:only-of-type {\n",
       "        vertical-align: middle;\n",
       "    }\n",
       "\n",
       "    .dataframe tbody tr th {\n",
       "        vertical-align: top;\n",
       "    }\n",
       "\n",
       "    .dataframe thead th {\n",
       "        text-align: right;\n",
       "    }\n",
       "</style>\n",
       "<table border=\"1\" class=\"dataframe\">\n",
       "  <thead>\n",
       "    <tr style=\"text-align: right;\">\n",
       "      <th></th>\n",
       "      <th>em_num</th>\n",
       "      <th>em_name</th>\n",
       "      <th>money</th>\n",
       "      <th>latitude</th>\n",
       "      <th>hardness</th>\n",
       "    </tr>\n",
       "  </thead>\n",
       "  <tbody>\n",
       "    <tr>\n",
       "      <th>0</th>\n",
       "      <td>1</td>\n",
       "      <td>A</td>\n",
       "      <td>41</td>\n",
       "      <td>126.861717</td>\n",
       "      <td>37.874623</td>\n",
       "    </tr>\n",
       "    <tr>\n",
       "      <th>1</th>\n",
       "      <td>2</td>\n",
       "      <td>B</td>\n",
       "      <td>48</td>\n",
       "      <td>126.569316</td>\n",
       "      <td>37.122076</td>\n",
       "    </tr>\n",
       "    <tr>\n",
       "      <th>2</th>\n",
       "      <td>3</td>\n",
       "      <td>D</td>\n",
       "      <td>5</td>\n",
       "      <td>126.806583</td>\n",
       "      <td>37.531962</td>\n",
       "    </tr>\n",
       "    <tr>\n",
       "      <th>3</th>\n",
       "      <td>4</td>\n",
       "      <td>E</td>\n",
       "      <td>30</td>\n",
       "      <td>126.058275</td>\n",
       "      <td>37.535272</td>\n",
       "    </tr>\n",
       "    <tr>\n",
       "      <th>4</th>\n",
       "      <td>5</td>\n",
       "      <td>F</td>\n",
       "      <td>21</td>\n",
       "      <td>126.775502</td>\n",
       "      <td>37.807801</td>\n",
       "    </tr>\n",
       "    <tr>\n",
       "      <th>5</th>\n",
       "      <td>6</td>\n",
       "      <td>G</td>\n",
       "      <td>19</td>\n",
       "      <td>126.666107</td>\n",
       "      <td>37.427021</td>\n",
       "    </tr>\n",
       "    <tr>\n",
       "      <th>6</th>\n",
       "      <td>7</td>\n",
       "      <td>H</td>\n",
       "      <td>17</td>\n",
       "      <td>126.244399</td>\n",
       "      <td>37.906478</td>\n",
       "    </tr>\n",
       "    <tr>\n",
       "      <th>7</th>\n",
       "      <td>8</td>\n",
       "      <td>J</td>\n",
       "      <td>15</td>\n",
       "      <td>126.027184</td>\n",
       "      <td>37.185274</td>\n",
       "    </tr>\n",
       "    <tr>\n",
       "      <th>8</th>\n",
       "      <td>9</td>\n",
       "      <td>I</td>\n",
       "      <td>15</td>\n",
       "      <td>126.224037</td>\n",
       "      <td>37.465374</td>\n",
       "    </tr>\n",
       "    <tr>\n",
       "      <th>9</th>\n",
       "      <td>10</td>\n",
       "      <td>K</td>\n",
       "      <td>99</td>\n",
       "      <td>126.867068</td>\n",
       "      <td>37.205859</td>\n",
       "    </tr>\n",
       "  </tbody>\n",
       "</table>\n",
       "</div>"
      ],
      "text/plain": [
       "   em_num em_name  money    latitude   hardness\n",
       "0       1       A     41  126.861717  37.874623\n",
       "1       2       B     48  126.569316  37.122076\n",
       "2       3       D      5  126.806583  37.531962\n",
       "3       4       E     30  126.058275  37.535272\n",
       "4       5       F     21  126.775502  37.807801\n",
       "5       6       G     19  126.666107  37.427021\n",
       "6       7       H     17  126.244399  37.906478\n",
       "7       8       J     15  126.027184  37.185274\n",
       "8       9       I     15  126.224037  37.465374\n",
       "9      10       K     99  126.867068  37.205859"
      ]
     },
     "execution_count": 3,
     "metadata": {},
     "output_type": "execute_result"
    }
   ],
   "source": [
    "# FC\n",
    "em01 = pd.read_excel(excel_dir, # write your directory here\n",
    "                              sheet_name = 'em', \n",
    "                              header = 0, \n",
    "                              #names = ['region', 'sales_representative', 'sales_amount'], \n",
    "#                               dtype = {'region': str, \n",
    "#                                          'sales_representative': np.int64, \n",
    "#                                          'sales_amount': float}, # dictionary type\n",
    "#                               index_col = 'em_num',\n",
    "                              na_values = 'NaN'\n",
    "#                               thousands = ',', \n",
    "#                               nrows = 10, \n",
    "                              )\n",
    "em01"
   ]
  },
  {
   "cell_type": "code",
   "execution_count": 4,
   "metadata": {},
   "outputs": [
    {
     "name": "stdout",
     "output_type": "stream",
     "text": [
      "    cu_num cu_name    latitude   hardness\n",
      "0        1       A  126.744060  37.380985\n",
      "1        2       B  126.228165  37.208757\n",
      "2        3       D  126.797383  37.293906\n",
      "3        4       E  126.567757  37.937422\n",
      "4        5       F  126.840459  37.341861\n",
      "5        6       G  126.701225  37.062907\n",
      "6        7       H  126.183110  37.059070\n",
      "7        8       J  126.423235  37.208687\n",
      "8        9       I  126.964673  37.674086\n",
      "9       10       K  126.652575  37.954124\n",
      "10      11       C  126.885017  37.204106\n",
      "11      12       L  126.788368  37.265269\n",
      "12      13       M  126.582492  37.545942\n",
      "13      14       N  126.411957  37.718648\n",
      "14      15       O  126.410547  37.233936\n",
      "15      16       P  126.966812  37.040045\n",
      "16      17       Q  126.449354  37.050561\n",
      "17      18       R  126.243210  37.200198\n",
      "18      19       S  126.401271  37.551730\n",
      "19      20       T  126.580149  37.992907\n"
     ]
    }
   ],
   "source": [
    "# 고객\n",
    "cu01 = pd.read_excel(excel_dir, # write your directory here\n",
    "                              sheet_name = 'cu', \n",
    "                              header = 0, \n",
    "                              #names = ['region', 'sales_representative', 'sales_amount'], \n",
    "#                               dtype = {'region': str, \n",
    "#                                          'sales_representative': np.int64, \n",
    "#                                          'sales_amount': float}, # dictionary type\n",
    "#                               index_col = 'cu_num',\n",
    "                              na_values = 'NaN'\n",
    "#                               thousands = ',', \n",
    "#                               nrows = 10, \n",
    "                              )\n",
    "print(cu01)"
   ]
  },
  {
   "cell_type": "code",
   "execution_count": 5,
   "metadata": {},
   "outputs": [],
   "source": [
    "#  2.FC별 환산피순으로 근거리 고객 배정\n",
    "#   - 근거리 : 자표거리 계산\n",
    "\n",
    "# 2.1  거리함수 선정\n",
    "class GeoUtil:\n",
    "    \"\"\"\n",
    "    Geographical Utils\n",
    "    \"\"\"\n",
    "    @staticmethod\n",
    "    def degree2radius(degree):\n",
    "        return degree * (math.pi/180)\n",
    "    \n",
    "    @staticmethod\n",
    "    def get_harversion_distance(x1, y1, x2, y2, round_decimal_digits=5):\n",
    "        \"\"\"\n",
    "        경위도 (x1,y1)과 (x2,y2) 점의 거리를 반환\n",
    "        Harversion Formula 이용하여 2개의 경위도간 거래를 구함(단위:Km)\n",
    "        \"\"\"\n",
    "        if x1 is None or y1 is None or x2 is None or y2 is None:\n",
    "            return None\n",
    "        assert isinstance(x1, numbers.Number) and -180 <= x1 and x1 <= 180\n",
    "        assert isinstance(y1, numbers.Number) and  -90 <= y1 and y1 <=  90\n",
    "        assert isinstance(x2, numbers.Number) and -180 <= x2 and x2 <= 180\n",
    "        assert isinstance(y2, numbers.Number) and  -90 <= y2 and y2 <=  90\n",
    "\n",
    "        R = 6371 # 지구의 반경(단위: km)\n",
    "        dLon = GeoUtil.degree2radius(x2-x1)    \n",
    "        dLat = GeoUtil.degree2radius(y2-y1)\n",
    "\n",
    "        a = math.sin(dLat/2) * math.sin(dLat/2) \\\n",
    "            + (math.cos(GeoUtil.degree2radius(y1)) \\\n",
    "              *math.cos(GeoUtil.degree2radius(y2)) \\\n",
    "              *math.sin(dLon/2) * math.sin(dLon/2))\n",
    "        b = 2 * math.atan2(math.sqrt(a), math.sqrt(1-a))\n",
    "        return round(R * b, round_decimal_digits)\n",
    "\n",
    "    @staticmethod\n",
    "    def get_euclidean_distance(x1, y1, x2, y2, round_decimal_digits=5):        \n",
    "        \"\"\"\n",
    "        유클리안 Formula 이용하여 (x1,y1)과 (x2,y2) 점의 거리를 반환\n",
    "        \"\"\"\n",
    "        if x1 is None or y1 is None or x2 is None or y2 is None:\n",
    "            return None\n",
    "        assert isinstance(x1, numbers.Number) and -180 <= x1 and x1 <= 180\n",
    "        assert isinstance(y1, numbers.Number) and  -90 <= y1 and y1 <=  90\n",
    "        assert isinstance(x2, numbers.Number) and -180 <= x2 and x2 <= 180\n",
    "        assert isinstance(y2, numbers.Number) and  -90 <= y2 and y2 <=  90\n",
    "\n",
    "        dLon = abs(x2-x1) # 경도 차이\n",
    "        if dLon >= 180:   # 반대편으로 갈 수 있는 경우\n",
    "            dLon -= 360   # 반대편 각을 구한다\n",
    "        dLat = y2-y1      # 위도 차이\n",
    "        return round(math.sqrt(pow(dLon,2)+pow(dLat,2)),round_decimal_digits)"
   ]
  },
  {
   "cell_type": "code",
   "execution_count": 96,
   "metadata": {
    "collapsed": true
   },
   "outputs": [
    {
     "name": "stdout",
     "output_type": "stream",
     "text": [
      "[55.85948, 92.74777, 64.82117, 26.71918, 59.27001, 91.36329, 108.6766, 83.53296, 24.06482, 20.36569, 74.58642, 68.06471, 44.03472, 43.15659, 81.59082, 93.26331, 98.59468, 92.72484, 54.12553, 27.97834]\n",
      "20.36569\n",
      "[32.68079, 31.72897, 27.80303, 90.66241, 34.25634, 13.42284, 34.96494, 16.13401, 70.62074, 92.81026, 29.42475, 25.09981, 47.14615, 67.77564, 18.77684, 36.42223, 13.28416, 30.17549, 50.03201, 96.83665]\n",
      "13.28416\n",
      "[17.67178, 62.48418, 26.48314, 49.73674, 21.34884, 52.98266, 76.2009, 49.39388, 21.06437, 48.85645, 37.10908, 29.69851, 19.8193, 40.48159, 48.19345, 56.50562, 62.16133, 61.96548, 35.80282, 54.98403]\n",
      "17.67178\n",
      "[62.91572, 39.28823, 70.57809, 63.29954, 72.3295, 77.41518, 54.09028, 48.56796, 81.32521, 69.99786, 81.81473, 71.13796, 46.23478, 37.22824, 45.73219, 97.42905, 64.04475, 40.68526, 30.29565, 68.51214]\n",
      "30.29565\n",
      "[47.54054, 82.26642, 57.17504, 23.24321, 52.12539, 83.08763, 98.32166, 73.50838, 22.31056, 19.52236, 67.81934, 60.33738, 33.70979, 33.45961, 71.46854, 87.02598, 88.98983, 82.27595, 43.53604, 26.78536]\n",
      "19.52236\n",
      "[8.57989, 45.70411, 18.80701, 57.41018, 18.0822, 40.60677, 59.17702, 32.41431, 38.0461, 58.62333, 31.45109, 20.98329, 15.14233, 39.41102, 31.16945, 50.59898, 46.04854, 45.10927, 27.17137, 63.3764]\n",
      "8.57989\n",
      "[73.14172, 77.59623, 83.74318, 28.57163, 81.83702, 102.09433, 94.3825, 79.17599, 68.36412, 36.18936, 96.37715, 85.91262, 49.91338, 25.55142, 76.20342, 115.52501, 96.87669, 78.53478, 41.78915, 30.96846]\n",
      "25.55142\n",
      "[67.05319, 17.99214, 69.24234, 96.25537, 74.04706, 61.28918, 19.69902, 35.17612, 99.02864, 101.71935, 76.01233, 67.97988, 63.37786, 68.34551, 34.37863, 84.86926, 40.31814, 19.20713, 52.47164, 102.1697]\n",
      "17.99214\n",
      "[46.87084, 28.53689, 54.12926, 60.57695, 56.15424, 61.53058, 45.32392, 33.53818, 69.27811, 66.14107, 65.26124, 54.61153, 32.86405, 32.66928, 30.56276, 80.98556, 50.25106, 29.53493, 18.34672, 66.49583]\n",
      "18.34672\n",
      "[22.30709, 56.58299, 11.57131, 85.51616, 15.30497, 21.65182, 62.79075, 39.30777, 52.77279, 85.32322, 1.60158, 9.60118, 45.41296, 69.74758, 40.5438, 20.44873, 40.86036, 55.25641, 56.32986, 91.09297]\n",
      "1.60158\n",
      "   em_num  cu_num  distance\n",
      "0     1.0    10.0  20.36569\n",
      "1     2.0    17.0  13.28416\n",
      "2     3.0     1.0  17.67178\n",
      "3     4.0    19.0  30.29565\n",
      "4     5.0    10.0  19.52236\n",
      "5     6.0     1.0   8.57989\n",
      "6     7.0    14.0  25.55142\n",
      "7     8.0     2.0  17.99214\n",
      "8     9.0    19.0  18.34672\n",
      "9    10.0    11.0   1.60158\n"
     ]
    }
   ],
   "source": [
    "#  2.FC별 환산피순으로 근거리 고객 배정\n",
    "#   - 근거리 : 자표거리 계산\n",
    "\n",
    "# 2.2 FC별 환산피순 정렬\n",
    "em01.sort_values(by=['money'], axis=0, ascending = False, inplace = True)\n",
    "\n",
    "# 2.3 FC별 최소거리 고객 배정\n",
    "## 데이터 프레임 길이구해서 for range 값에 추가 -> 결과를 FC 데이터에 결합해서 배정 데이터 생성\n",
    "i = 0; j = 0;\n",
    "len1 = (len(em01)); len2 = (len(cu01));\n",
    "l1 = []; dis1 = []; mindis1 = [];\n",
    "all01 = pd.DataFrame({'em_num':[], 'cu_num':[], 'distance':[] })\n",
    "\n",
    "for i in range(0, len1):\n",
    "    em_list1 = list(em01.loc[i])\n",
    "    dis1 = []\n",
    "#     print(\"i\", i)\n",
    "#     print(em_list1)\n",
    "    for j in range(0, len2):\n",
    "#         print(\"j\", j)\n",
    "        dis1.append(GeoUtil.get_harversion_distance(em_list1[3], em_list1[4], cu01.loc[j,\"latitude\"], cu01.loc[j,\"hardness\"])) #  거리계산\n",
    "    \n",
    "#     all01 = pd.concat([all01, pd.DataFrame({'em_num':em_list1[0], 'cu_num':cu01.loc[dis1.index(max(dis1)-1),\"cu_num\"]])\n",
    "    print(dis1)\n",
    "    print(min(dis1))\n",
    "\n",
    "    all01 = pd.concat([ all01, pd.DataFrame({'em_num':em_list1[0], 'cu_num':[cu01.loc[dis1.index(min(dis1)),\"cu_num\"]] \n",
    "                     , 'distance':min(dis1) }) ]\n",
    "                     , ignore_index = True)\n",
    "print(all01)"
   ]
  },
  {
   "cell_type": "code",
   "execution_count": 98,
   "metadata": {
    "scrolled": true
   },
   "outputs": [
    {
     "data": {
      "text/html": [
       "<div>\n",
       "<style scoped>\n",
       "    .dataframe tbody tr th:only-of-type {\n",
       "        vertical-align: middle;\n",
       "    }\n",
       "\n",
       "    .dataframe tbody tr th {\n",
       "        vertical-align: top;\n",
       "    }\n",
       "\n",
       "    .dataframe thead th {\n",
       "        text-align: right;\n",
       "    }\n",
       "</style>\n",
       "<table border=\"1\" class=\"dataframe\">\n",
       "  <thead>\n",
       "    <tr style=\"text-align: right;\">\n",
       "      <th></th>\n",
       "      <th>em_num</th>\n",
       "      <th>em_name</th>\n",
       "      <th>money</th>\n",
       "      <th>latitude</th>\n",
       "      <th>hardness</th>\n",
       "      <th>cu_num</th>\n",
       "      <th>distance</th>\n",
       "    </tr>\n",
       "  </thead>\n",
       "  <tbody>\n",
       "    <tr>\n",
       "      <th>0</th>\n",
       "      <td>10</td>\n",
       "      <td>K</td>\n",
       "      <td>99</td>\n",
       "      <td>126.867068</td>\n",
       "      <td>37.205859</td>\n",
       "      <td>11.0</td>\n",
       "      <td>1.60158</td>\n",
       "    </tr>\n",
       "    <tr>\n",
       "      <th>1</th>\n",
       "      <td>2</td>\n",
       "      <td>B</td>\n",
       "      <td>48</td>\n",
       "      <td>126.569316</td>\n",
       "      <td>37.122076</td>\n",
       "      <td>17.0</td>\n",
       "      <td>13.28416</td>\n",
       "    </tr>\n",
       "    <tr>\n",
       "      <th>2</th>\n",
       "      <td>1</td>\n",
       "      <td>A</td>\n",
       "      <td>41</td>\n",
       "      <td>126.861717</td>\n",
       "      <td>37.874623</td>\n",
       "      <td>10.0</td>\n",
       "      <td>20.36569</td>\n",
       "    </tr>\n",
       "    <tr>\n",
       "      <th>3</th>\n",
       "      <td>4</td>\n",
       "      <td>E</td>\n",
       "      <td>30</td>\n",
       "      <td>126.058275</td>\n",
       "      <td>37.535272</td>\n",
       "      <td>19.0</td>\n",
       "      <td>30.29565</td>\n",
       "    </tr>\n",
       "    <tr>\n",
       "      <th>4</th>\n",
       "      <td>5</td>\n",
       "      <td>F</td>\n",
       "      <td>21</td>\n",
       "      <td>126.775502</td>\n",
       "      <td>37.807801</td>\n",
       "      <td>10.0</td>\n",
       "      <td>19.52236</td>\n",
       "    </tr>\n",
       "    <tr>\n",
       "      <th>5</th>\n",
       "      <td>6</td>\n",
       "      <td>G</td>\n",
       "      <td>19</td>\n",
       "      <td>126.666107</td>\n",
       "      <td>37.427021</td>\n",
       "      <td>1.0</td>\n",
       "      <td>8.57989</td>\n",
       "    </tr>\n",
       "    <tr>\n",
       "      <th>6</th>\n",
       "      <td>7</td>\n",
       "      <td>H</td>\n",
       "      <td>17</td>\n",
       "      <td>126.244399</td>\n",
       "      <td>37.906478</td>\n",
       "      <td>14.0</td>\n",
       "      <td>25.55142</td>\n",
       "    </tr>\n",
       "    <tr>\n",
       "      <th>7</th>\n",
       "      <td>8</td>\n",
       "      <td>J</td>\n",
       "      <td>15</td>\n",
       "      <td>126.027184</td>\n",
       "      <td>37.185274</td>\n",
       "      <td>2.0</td>\n",
       "      <td>17.99214</td>\n",
       "    </tr>\n",
       "    <tr>\n",
       "      <th>8</th>\n",
       "      <td>9</td>\n",
       "      <td>I</td>\n",
       "      <td>15</td>\n",
       "      <td>126.224037</td>\n",
       "      <td>37.465374</td>\n",
       "      <td>19.0</td>\n",
       "      <td>18.34672</td>\n",
       "    </tr>\n",
       "    <tr>\n",
       "      <th>9</th>\n",
       "      <td>3</td>\n",
       "      <td>D</td>\n",
       "      <td>5</td>\n",
       "      <td>126.806583</td>\n",
       "      <td>37.531962</td>\n",
       "      <td>1.0</td>\n",
       "      <td>17.67178</td>\n",
       "    </tr>\n",
       "  </tbody>\n",
       "</table>\n",
       "</div>"
      ],
      "text/plain": [
       "   em_num em_name  money    latitude   hardness  cu_num  distance\n",
       "0      10       K     99  126.867068  37.205859    11.0   1.60158\n",
       "1       2       B     48  126.569316  37.122076    17.0  13.28416\n",
       "2       1       A     41  126.861717  37.874623    10.0  20.36569\n",
       "3       4       E     30  126.058275  37.535272    19.0  30.29565\n",
       "4       5       F     21  126.775502  37.807801    10.0  19.52236\n",
       "5       6       G     19  126.666107  37.427021     1.0   8.57989\n",
       "6       7       H     17  126.244399  37.906478    14.0  25.55142\n",
       "7       8       J     15  126.027184  37.185274     2.0  17.99214\n",
       "8       9       I     15  126.224037  37.465374    19.0  18.34672\n",
       "9       3       D      5  126.806583  37.531962     1.0  17.67178"
      ]
     },
     "execution_count": 98,
     "metadata": {},
     "output_type": "execute_result"
    }
   ],
   "source": [
    "# 결과확인 : FC에 배정데이터 결합\n",
    "final01 = pd.merge(em01, all01, how = 'inner', on = 'em_num')\n",
    "final01"
   ]
  },
  {
   "cell_type": "code",
   "execution_count": 73,
   "metadata": {},
   "outputs": [
    {
     "data": {
      "text/plain": [
       "cu_num           20\n",
       "cu_name           T\n",
       "latitude     126.58\n",
       "hardness    37.9929\n",
       "Name: 19, dtype: object"
      ]
     },
     "execution_count": 73,
     "metadata": {},
     "output_type": "execute_result"
    }
   ],
   "source": [
    "cu01.loc[dis1.index(max(dis1))]"
   ]
  },
  {
   "cell_type": "code",
   "execution_count": 75,
   "metadata": {},
   "outputs": [
    {
     "data": {
      "text/plain": [
       "19"
      ]
     },
     "execution_count": 75,
     "metadata": {},
     "output_type": "execute_result"
    }
   ],
   "source": [
    "cu01.loc[dis1.index(max(dis1))-1,\"cu_num\"]"
   ]
  },
  {
   "cell_type": "code",
   "execution_count": 60,
   "metadata": {},
   "outputs": [
    {
     "data": {
      "text/plain": [
       "4"
      ]
     },
     "execution_count": 60,
     "metadata": {},
     "output_type": "execute_result"
    }
   ],
   "source": [
    "cu01.loc[dis1.index(max(dis1))+1,\"cu_num\"]"
   ]
  },
  {
   "cell_type": "code",
   "execution_count": 13,
   "metadata": {},
   "outputs": [
    {
     "data": {
      "text/plain": [
       "1"
      ]
     },
     "execution_count": 13,
     "metadata": {},
     "output_type": "execute_result"
    }
   ],
   "source": [
    "dis1.index(max(dis1))"
   ]
  },
  {
   "cell_type": "code",
   "execution_count": 38,
   "metadata": {},
   "outputs": [
    {
     "data": {
      "text/html": [
       "<div>\n",
       "<style scoped>\n",
       "    .dataframe tbody tr th:only-of-type {\n",
       "        vertical-align: middle;\n",
       "    }\n",
       "\n",
       "    .dataframe tbody tr th {\n",
       "        vertical-align: top;\n",
       "    }\n",
       "\n",
       "    .dataframe thead th {\n",
       "        text-align: right;\n",
       "    }\n",
       "</style>\n",
       "<table border=\"1\" class=\"dataframe\">\n",
       "  <thead>\n",
       "    <tr style=\"text-align: right;\">\n",
       "      <th></th>\n",
       "      <th>0</th>\n",
       "    </tr>\n",
       "  </thead>\n",
       "  <tbody>\n",
       "    <tr>\n",
       "      <th>0</th>\n",
       "      <td>1</td>\n",
       "    </tr>\n",
       "    <tr>\n",
       "      <th>1</th>\n",
       "      <td>2</td>\n",
       "    </tr>\n",
       "    <tr>\n",
       "      <th>0</th>\n",
       "      <td>1</td>\n",
       "    </tr>\n",
       "    <tr>\n",
       "      <th>1</th>\n",
       "      <td>2</td>\n",
       "    </tr>\n",
       "  </tbody>\n",
       "</table>\n",
       "</div>"
      ],
      "text/plain": [
       "   0\n",
       "0  1\n",
       "1  2\n",
       "0  1\n",
       "1  2"
      ]
     },
     "execution_count": 38,
     "metadata": {},
     "output_type": "execute_result"
    }
   ],
   "source": [
    "t1 = pd.DataFrame([1,2])\n",
    "t2 = pd.DataFrame([1,2])\n",
    "pd.concat([t1, t2])\n"
   ]
  },
  {
   "cell_type": "code",
   "execution_count": 51,
   "metadata": {},
   "outputs": [
    {
     "data": {
      "text/html": [
       "<div>\n",
       "<style scoped>\n",
       "    .dataframe tbody tr th:only-of-type {\n",
       "        vertical-align: middle;\n",
       "    }\n",
       "\n",
       "    .dataframe tbody tr th {\n",
       "        vertical-align: top;\n",
       "    }\n",
       "\n",
       "    .dataframe thead th {\n",
       "        text-align: right;\n",
       "    }\n",
       "</style>\n",
       "<table border=\"1\" class=\"dataframe\">\n",
       "  <thead>\n",
       "    <tr style=\"text-align: right;\">\n",
       "      <th></th>\n",
       "      <th>em_num</th>\n",
       "      <th>cu_num</th>\n",
       "    </tr>\n",
       "  </thead>\n",
       "  <tbody>\n",
       "  </tbody>\n",
       "</table>\n",
       "</div>"
      ],
      "text/plain": [
       "Empty DataFrame\n",
       "Columns: [em_num, cu_num]\n",
       "Index: []"
      ]
     },
     "execution_count": 51,
     "metadata": {},
     "output_type": "execute_result"
    }
   ],
   "source": [
    "# df01 = pd.DataFrame({'em_num':[1], 'cu_num':[1]}, index=['2'])\n",
    "# df01 = pd.DataFrame({'em_num':[1], 'cu_num':[1]})\n",
    "df01 = pd.DataFrame({'em_num':[], 'cu_num':[]})\n",
    "df01"
   ]
  },
  {
   "cell_type": "code",
   "execution_count": 8,
   "metadata": {},
   "outputs": [
    {
     "data": {
      "text/plain": [
       "0.0845"
      ]
     },
     "execution_count": 8,
     "metadata": {},
     "output_type": "execute_result"
    }
   ],
   "source": [
    "# 서울시청 126.97843, 37.56668\n",
    "# 강남역   127.02758, 37.49794\n",
    "# 방법1)\n",
    "GeoUtil.get_euclidean_distance(126.97843, 37.56668, 127.02758, 37.49794)\n",
    "\n",
    "\n",
    "\n"
   ]
  },
  {
   "cell_type": "code",
   "execution_count": 9,
   "metadata": {},
   "outputs": [
    {
     "data": {
      "text/plain": [
       "8.78676"
      ]
     },
     "execution_count": 9,
     "metadata": {},
     "output_type": "execute_result"
    }
   ],
   "source": [
    "# 방법2)\n",
    "GeoUtil.get_harversion_distance(126.97843, 37.56668, 127.02758, 37.49794)\n"
   ]
  },
  {
   "cell_type": "code",
   "execution_count": null,
   "metadata": {},
   "outputs": [],
   "source": [
    "\n",
    "\n",
    "class GeoUtil:\n",
    "    \"\"\"\n",
    "    Geographical Utils\n",
    "    \"\"\"\n",
    "    @staticmethod\n",
    "    def degree2radius(degree):\n",
    "        return degree * (math.pi/180)\n",
    "    \n",
    "    @staticmethod\n",
    "    def get_harversion_distance(x1, y1, x2, y2, round_decimal_digits=5):\n",
    "        \"\"\"\n",
    "        경위도 (x1,y1)과 (x2,y2) 점의 거리를 반환\n",
    "        Harversion Formula 이용하여 2개의 경위도간 거래를 구함(단위:Km)\n",
    "        \"\"\"\n",
    "        if x1 is None or y1 is None or x2 is None or y2 is None:\n",
    "            return None\n",
    "        assert isinstance(x1, numbers.Number) and -180 <= x1 and x1 <= 180\n",
    "        assert isinstance(y1, numbers.Number) and  -90 <= y1 and y1 <=  90\n",
    "        assert isinstance(x2, numbers.Number) and -180 <= x2 and x2 <= 180\n",
    "        assert isinstance(y2, numbers.Number) and  -90 <= y2 and y2 <=  90\n",
    "\n",
    "        R = 6371 # 지구의 반경(단위: km)\n",
    "        dLon = GeoUtil.degree2radius(x2-x1)    \n",
    "        dLat = GeoUtil.degree2radius(y2-y1)\n",
    "\n",
    "        a = math.sin(dLat/2) * math.sin(dLat/2) \\\n",
    "            + (math.cos(GeoUtil.degree2radius(y1)) \\\n",
    "              *math.cos(GeoUtil.degree2radius(y2)) \\\n",
    "              *math.sin(dLon/2) * math.sin(dLon/2))\n",
    "        b = 2 * math.atan2(math.sqrt(a), math.sqrt(1-a))\n",
    "        return round(R * b, round_decimal_digits)\n",
    "\n",
    "    @staticmethod\n",
    "    def get_euclidean_distance(x1, y1, x2, y2, round_decimal_digits=5):        \n",
    "        \"\"\"\n",
    "        유클리안 Formula 이용하여 (x1,y1)과 (x2,y2) 점의 거리를 반환\n",
    "        \"\"\"\n",
    "        if x1 is None or y1 is None or x2 is None or y2 is None:\n",
    "            return None\n",
    "        assert isinstance(x1, numbers.Number) and -180 <= x1 and x1 <= 180\n",
    "        assert isinstance(y1, numbers.Number) and  -90 <= y1 and y1 <=  90\n",
    "        assert isinstance(x2, numbers.Number) and -180 <= x2 and x2 <= 180\n",
    "        assert isinstance(y2, numbers.Number) and  -90 <= y2 and y2 <=  90\n",
    "\n",
    "        dLon = abs(x2-x1) # 경도 차이\n",
    "        if dLon >= 180:   # 반대편으로 갈 수 있는 경우\n",
    "            dLon -= 360   # 반대편 각을 구한다\n",
    "        dLat = y2-y1      # 위도 차이\n",
    "        return round(math.sqrt(pow(dLon,2)+pow(dLat,2)),round_decimal_digits)\n",
    "\n",
    "class GeoUtil:\n",
    "    \"\"\"\n",
    "    Geographical Utils\n",
    "    \"\"\"\n",
    "    @staticmethod\n",
    "    def degree2radius(degree):\n",
    "        return degree * (math.pi/180)\n",
    "    \n",
    "    @staticmethod\n",
    "    def get_harversion_distance(x1, y1, x2, y2, round_decimal_digits=5):\n",
    "        \"\"\"\n",
    "        경위도 (x1,y1)과 (x2,y2) 점의 거리를 반환\n",
    "        Harversion Formula 이용하여 2개의 경위도간 거래를 구함(단위:Km)\n",
    "        \"\"\"\n",
    "        if x1 is None or y1 is None or x2 is None or y2 is None:\n",
    "            return None\n",
    "        assert isinstance(x1, numbers.Number) and -180 <= x1 and x1 <= 180\n",
    "        assert isinstance(y1, numbers.Number) and  -90 <= y1 and y1 <=  90\n",
    "        assert isinstance(x2, numbers.Number) and -180 <= x2 and x2 <= 180\n",
    "        assert isinstance(y2, numbers.Number) and  -90 <= y2 and y2 <=  90\n",
    "\n",
    "        R = 6371 # 지구의 반경(단위: km)\n",
    "        dLon = GeoUtil.degree2radius(x2-x1)    \n",
    "        dLat = GeoUtil.degree2radius(y2-y1)\n",
    "\n",
    "        a = math.sin(dLat/2) * math.sin(dLat/2) \\\n",
    "            + (math.cos(GeoUtil.degree2radius(y1)) \\\n",
    "              *math.cos(GeoUtil.degree2radius(y2)) \\\n",
    "              *math.sin(dLon/2) * math.sin(dLon/2))\n",
    "        b = 2 * math.atan2(math.sqrt(a), math.sqrt(1-a))\n",
    "        return round(R * b, round_decimal_digits)\n",
    "\n",
    "    @staticmethod\n",
    "    def get_euclidean_distance(x1, y1, x2, y2, round_decimal_digits=5):        \n",
    "        \"\"\"\n",
    "        유클리안 Formula 이용하여 (x1,y1)과 (x2,y2) 점의 거리를 반환\n",
    "        \"\"\"\n",
    "        if x1 is None or y1 is None or x2 is None or y2 is None:\n",
    "            return None\n",
    "        assert isinstance(x1, numbers.Number) and -180 <= x1 and x1 <= 180\n",
    "        assert isinstance(y1, numbers.Number) and  -90 <= y1 and y1 <=  90\n",
    "        assert isinstance(x2, numbers.Number) and -180 <= x2 and x2 <= 180\n",
    "        assert isinstance(y2, numbers.Number) and  -90 <= y2 and y2 <=  90\n",
    "\n",
    "        dLon = abs(x2-x1) # 경도 차이\n",
    "        if dLon >= 180:   # 반대편으로 갈 수 있는 경우\n",
    "            dLon -= 360   # 반대편 각을 구한다\n",
    "        dLat = y2-y1      # 위도 차이\n",
    "        return round(math.sqrt(pow(dLon,2)+pow(dLat,2)),round_decimal_digits)"
   ]
  },
  {
   "cell_type": "code",
   "execution_count": null,
   "metadata": {},
   "outputs": [],
   "source": []
  },
  {
   "cell_type": "code",
   "execution_count": null,
   "metadata": {},
   "outputs": [],
   "source": []
  },
  {
   "cell_type": "code",
   "execution_count": null,
   "metadata": {},
   "outputs": [],
   "source": []
  },
  {
   "cell_type": "code",
   "execution_count": null,
   "metadata": {},
   "outputs": [],
   "source": []
  },
  {
   "cell_type": "code",
   "execution_count": null,
   "metadata": {},
   "outputs": [],
   "source": []
  },
  {
   "cell_type": "code",
   "execution_count": null,
   "metadata": {},
   "outputs": [],
   "source": []
  },
  {
   "cell_type": "code",
   "execution_count": null,
   "metadata": {},
   "outputs": [],
   "source": []
  },
  {
   "cell_type": "code",
   "execution_count": null,
   "metadata": {},
   "outputs": [],
   "source": []
  },
  {
   "cell_type": "code",
   "execution_count": null,
   "metadata": {},
   "outputs": [],
   "source": []
  },
  {
   "cell_type": "code",
   "execution_count": null,
   "metadata": {},
   "outputs": [],
   "source": []
  },
  {
   "cell_type": "code",
   "execution_count": null,
   "metadata": {},
   "outputs": [],
   "source": []
  },
  {
   "cell_type": "code",
   "execution_count": null,
   "metadata": {},
   "outputs": [],
   "source": []
  },
  {
   "cell_type": "code",
   "execution_count": null,
   "metadata": {},
   "outputs": [],
   "source": []
  },
  {
   "cell_type": "code",
   "execution_count": null,
   "metadata": {},
   "outputs": [],
   "source": []
  },
  {
   "cell_type": "code",
   "execution_count": null,
   "metadata": {},
   "outputs": [],
   "source": []
  },
  {
   "cell_type": "code",
   "execution_count": null,
   "metadata": {},
   "outputs": [],
   "source": []
  },
  {
   "cell_type": "code",
   "execution_count": null,
   "metadata": {},
   "outputs": [],
   "source": []
  },
  {
   "cell_type": "code",
   "execution_count": null,
   "metadata": {},
   "outputs": [],
   "source": []
  },
  {
   "cell_type": "code",
   "execution_count": null,
   "metadata": {},
   "outputs": [],
   "source": []
  },
  {
   "cell_type": "code",
   "execution_count": null,
   "metadata": {},
   "outputs": [],
   "source": []
  },
  {
   "cell_type": "code",
   "execution_count": null,
   "metadata": {},
   "outputs": [],
   "source": []
  },
  {
   "cell_type": "code",
   "execution_count": null,
   "metadata": {},
   "outputs": [],
   "source": []
  },
  {
   "cell_type": "code",
   "execution_count": null,
   "metadata": {},
   "outputs": [],
   "source": []
  },
  {
   "cell_type": "code",
   "execution_count": null,
   "metadata": {},
   "outputs": [],
   "source": []
  },
  {
   "cell_type": "code",
   "execution_count": null,
   "metadata": {},
   "outputs": [],
   "source": []
  },
  {
   "cell_type": "code",
   "execution_count": null,
   "metadata": {},
   "outputs": [],
   "source": []
  }
 ],
 "metadata": {
  "kernelspec": {
   "display_name": "Python 3",
   "language": "python",
   "name": "python3"
  },
  "language_info": {
   "codemirror_mode": {
    "name": "ipython",
    "version": 3
   },
   "file_extension": ".py",
   "mimetype": "text/x-python",
   "name": "python",
   "nbconvert_exporter": "python",
   "pygments_lexer": "ipython3",
   "version": "3.7.0"
  }
 },
 "nbformat": 4,
 "nbformat_minor": 2
}
