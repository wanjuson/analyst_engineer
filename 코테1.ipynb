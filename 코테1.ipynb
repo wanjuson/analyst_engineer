{
 "cells": [
  {
   "cell_type": "code",
   "execution_count": 2,
   "metadata": {},
   "outputs": [],
   "source": [
    "## 1.정렬\n",
    "# 1.1 K번째 수\n",
    "# https://programmers.co.kr/learn/courses/30/lessons/42748\n",
    "\n",
    "array = [1, 5, 2, 6, 3, 7, 4]\n",
    "commands = [[2, 5, 3], [4, 4, 1], [1, 7, 3]]\n",
    "\n",
    "# 입출력 예 설명\n",
    "# [1, 5, 2, 6, 3, 7, 4]를 2번째부터 5번째까지 자른 후 정렬합니다. [2, 3, 5, 6]의 세 번째 숫자는 5입니다.\n",
    "# [1, 5, 2, 6, 3, 7, 4]를 4번째부터 4번째까지 자른 후 정렬합니다. [6]의 첫 번째 숫자는 6입니다.\n",
    "# [1, 5, 2, 6, 3, 7, 4]를 1번째부터 7번째까지 자릅니다. [1, 2, 3, 4, 5, 6, 7]의 세 번째 숫자는 3입니다."
   ]
  },
  {
   "cell_type": "code",
   "execution_count": 8,
   "metadata": {},
   "outputs": [
    {
     "name": "stdout",
     "output_type": "stream",
     "text": [
      "3\n",
      "2\n",
      "3\n"
     ]
    }
   ],
   "source": [
    "print(len(commands[0]))\n",
    "print(commands[0][0])\n",
    "print(len(commands[1]))"
   ]
  },
  {
   "cell_type": "code",
   "execution_count": 32,
   "metadata": {},
   "outputs": [
    {
     "name": "stdout",
     "output_type": "stream",
     "text": [
      "5\n",
      "6\n",
      "3\n"
     ]
    }
   ],
   "source": [
    "data_list1 = [];\n",
    "t1 = 0; t2 = 0; t3 = 0;\n",
    "\n",
    "for i in range(len(commands)):\n",
    "    t1 = commands[i][0]-1;\n",
    "    t2 = commands[i][1];\n",
    "    t3 = commands[i][2]-1;\n",
    "    data_list1 = array[t1:t2]\n",
    "    data_list1.sort()\n",
    "    print(data_list1[t3])"
   ]
  },
  {
   "cell_type": "code",
   "execution_count": 22,
   "metadata": {},
   "outputs": [],
   "source": [
    "data_list1.sort()\n"
   ]
  },
  {
   "cell_type": "code",
   "execution_count": 33,
   "metadata": {},
   "outputs": [
    {
     "name": "stdout",
     "output_type": "stream",
     "text": [
      "2 5 3\n",
      "4 4 1\n",
      "1 7 3\n"
     ]
    }
   ],
   "source": [
    "answer = []\n",
    "for command in commands:\n",
    "    i,j,k = command\n",
    "    print(i,j,k)\n",
    "#     answer.append(list(sorted(array[i-1:j]))[k-1])"
   ]
  },
  {
   "cell_type": "code",
   "execution_count": null,
   "metadata": {},
   "outputs": [],
   "source": [
    "## 1.정렬\n",
    "# 1.2 가장 큰 수\n",
    "# https://programmers.co.kr/learn/courses/30/lessons/42746\n",
    "\n",
    "# numbers [6, 10, 2]\n",
    "\n",
    "\n"
   ]
  },
  {
   "cell_type": "code",
   "execution_count": 35,
   "metadata": {},
   "outputs": [],
   "source": [
    "## 테스트\n",
    "# 직사강형 만들기\n",
    "# https://programmers.co.kr/tests/23325/test_token?token=ac68a9d269c9ed29a924a38bcf61680c\n",
    "v = [[1, 4], [3, 4], [3, 10]]\n",
    "\n"
   ]
  },
  {
   "cell_type": "code",
   "execution_count": 63,
   "metadata": {},
   "outputs": [
    {
     "name": "stdout",
     "output_type": "stream",
     "text": [
      "3\n",
      "1\n",
      "2\n",
      "2\n"
     ]
    }
   ],
   "source": [
    "print(len(v))\n",
    "print(len(v)//2)\n",
    "print(5//2)\n",
    "print(len(v[0]))"
   ]
  },
  {
   "cell_type": "code",
   "execution_count": 61,
   "metadata": {},
   "outputs": [
    {
     "name": "stdout",
     "output_type": "stream",
     "text": [
      "[1, 3, 3]\n",
      "[4, 4, 10]\n",
      "[1, 10]\n"
     ]
    }
   ],
   "source": [
    "answer = [];\n",
    "data_list1 = [];\n",
    "data_list2 = [];\n",
    "\n",
    "for i in range(len(v)):\n",
    "    data_list1.append(v[i][0]);\n",
    "    data_list2.append(v[i][1])\n",
    "\n",
    "for j in range(len(data_list1)):\n",
    "    if data_list1.count(data_list1[j]) == 1:\n",
    "        answer.append(data_list1[j])\n",
    "\n",
    "for k in range(len(data_list2)):\n",
    "    if data_list2.count(data_list2[k]) == 1:\n",
    "        answer.append(data_list2[k])\n",
    "        \n",
    "print(data_list1)\n",
    "print(data_list2)\n",
    "print(answer)"
   ]
  },
  {
   "cell_type": "code",
   "execution_count": 47,
   "metadata": {},
   "outputs": [
    {
     "data": {
      "text/plain": [
       "2"
      ]
     },
     "execution_count": 47,
     "metadata": {},
     "output_type": "execute_result"
    }
   ],
   "source": [
    "data_list1.count(4)"
   ]
  },
  {
   "cell_type": "code",
   "execution_count": null,
   "metadata": {},
   "outputs": [],
   "source": [
    "print(len(v)//2)"
   ]
  },
  {
   "cell_type": "code",
   "execution_count": null,
   "metadata": {},
   "outputs": [],
   "source": []
  },
  {
   "cell_type": "code",
   "execution_count": null,
   "metadata": {},
   "outputs": [],
   "source": []
  },
  {
   "cell_type": "code",
   "execution_count": null,
   "metadata": {},
   "outputs": [],
   "source": []
  },
  {
   "cell_type": "code",
   "execution_count": null,
   "metadata": {},
   "outputs": [],
   "source": []
  },
  {
   "cell_type": "code",
   "execution_count": null,
   "metadata": {},
   "outputs": [],
   "source": []
  }
 ],
 "metadata": {
  "kernelspec": {
   "display_name": "Python 3",
   "language": "python",
   "name": "python3"
  },
  "language_info": {
   "codemirror_mode": {
    "name": "ipython",
    "version": 3
   },
   "file_extension": ".py",
   "mimetype": "text/x-python",
   "name": "python",
   "nbconvert_exporter": "python",
   "pygments_lexer": "ipython3",
   "version": "3.7.0"
  }
 },
 "nbformat": 4,
 "nbformat_minor": 2
}
