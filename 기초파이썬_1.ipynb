{
 "cells": [
  {
   "cell_type": "code",
   "execution_count": 3,
   "metadata": {},
   "outputs": [
    {
     "name": "stdout",
     "output_type": "stream",
     "text": [
      "hello word\n",
      "hello word\n"
     ]
    }
   ],
   "source": [
    "## 1강.시작하기\n",
    "print('hello word')\n",
    "print(\"hello word\")\n"
   ]
  },
  {
   "cell_type": "code",
   "execution_count": 5,
   "metadata": {},
   "outputs": [
    {
     "name": "stdout",
     "output_type": "stream",
     "text": [
      "23\n"
     ]
    },
    {
     "data": {
      "text/plain": [
       "int"
      ]
     },
     "execution_count": 5,
     "metadata": {},
     "output_type": "execute_result"
    }
   ],
   "source": [
    "## 2강.객체와 변수\n",
    "# 정수형 int\n",
    "score = 23\n",
    "print(score)\n",
    "type(score)"
   ]
  },
  {
   "cell_type": "code",
   "execution_count": 8,
   "metadata": {},
   "outputs": [
    {
     "name": "stdout",
     "output_type": "stream",
     "text": [
      "True\n",
      "True\n"
     ]
    }
   ],
   "source": [
    "# 부울형 (bool)\n",
    "a = True; print(a)\n",
    "x=1; y=x>0; print(y)"
   ]
  },
  {
   "cell_type": "code",
   "execution_count": 12,
   "metadata": {},
   "outputs": [
    {
     "name": "stdout",
     "output_type": "stream",
     "text": [
      "[80, 90, 85, 93, 78]\n",
      "<class 'list'>\n"
     ]
    },
    {
     "data": {
      "text/plain": [
       "70451648"
      ]
     },
     "execution_count": 12,
     "metadata": {},
     "output_type": "execute_result"
    }
   ],
   "source": [
    "# 리스트\n",
    "scores = [80,90,85,93,78]\n",
    "print(scores)\n",
    "print(type(scores))\n",
    "id(scores)"
   ]
  },
  {
   "cell_type": "code",
   "execution_count": 14,
   "metadata": {},
   "outputs": [
    {
     "name": "stdout",
     "output_type": "stream",
     "text": [
      "(3, 6, 5, 9)\n",
      "<class 'tuple'>\n"
     ]
    },
    {
     "data": {
      "text/plain": [
       "70605440"
      ]
     },
     "execution_count": 14,
     "metadata": {},
     "output_type": "execute_result"
    }
   ],
   "source": [
    "# 튜플\n",
    "data = (3,6,5,9)\n",
    "print(data)\n",
    "print(type(data))\n",
    "id(data)"
   ]
  },
  {
   "cell_type": "code",
   "execution_count": 17,
   "metadata": {},
   "outputs": [
    {
     "name": "stdout",
     "output_type": "stream",
     "text": [
      "{9, 3, 5, 6}\n",
      "<class 'set'>\n",
      "{9, 3, 5, 6}\n"
     ]
    }
   ],
   "source": [
    "# 집합\n",
    "primes = {3,6,5,9}\n",
    "print(primes)\n",
    "print(type(primes))\n",
    "id(primes)\n",
    "primes2 = {3,6,5,9,3}\n",
    "print(primes2)"
   ]
  },
  {
   "cell_type": "code",
   "execution_count": 23,
   "metadata": {},
   "outputs": [
    {
     "name": "stdout",
     "output_type": "stream",
     "text": [
      "{1: 35, 2: 32, 3: 30, 4: 33}\n",
      "<class 'dict'>\n",
      "70492640\n",
      "33\n"
     ]
    }
   ],
   "source": [
    "# 사전\n",
    "count = {1:35, 2:32, 3:30, 4:33}\n",
    "print(count)\n",
    "\n",
    "print(type(count))\n",
    "\n",
    "print(id(count))\n",
    "\n",
    "print(count[4])"
   ]
  }
 ],
 "metadata": {
  "kernelspec": {
   "display_name": "Python 3",
   "language": "python",
   "name": "python3"
  },
  "language_info": {
   "codemirror_mode": {
    "name": "ipython",
    "version": 3
   },
   "file_extension": ".py",
   "mimetype": "text/x-python",
   "name": "python",
   "nbconvert_exporter": "python",
   "pygments_lexer": "ipython3",
   "version": "3.7.0"
  }
 },
 "nbformat": 4,
 "nbformat_minor": 2
}
