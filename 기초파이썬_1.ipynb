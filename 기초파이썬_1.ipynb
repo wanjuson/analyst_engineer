{
 "cells": [
  {
   "cell_type": "code",
   "execution_count": 3,
   "metadata": {},
   "outputs": [
    {
     "name": "stdout",
     "output_type": "stream",
     "text": [
      "hello word\n",
      "hello word\n"
     ]
    }
   ],
   "source": [
    "## 1강.시작하기\n",
    "print('hello word')\n",
    "print(\"hello word\")\n"
   ]
  },
  {
   "cell_type": "code",
   "execution_count": 5,
   "metadata": {},
   "outputs": [
    {
     "name": "stdout",
     "output_type": "stream",
     "text": [
      "23\n"
     ]
    },
    {
     "data": {
      "text/plain": [
       "int"
      ]
     },
     "execution_count": 5,
     "metadata": {},
     "output_type": "execute_result"
    }
   ],
   "source": [
    "## 2강.객체와 변수\n",
    "# 정수형 int\n",
    "score = 23\n",
    "print(score)\n",
    "type(score)"
   ]
  },
  {
   "cell_type": "code",
   "execution_count": 8,
   "metadata": {},
   "outputs": [
    {
     "name": "stdout",
     "output_type": "stream",
     "text": [
      "True\n",
      "True\n"
     ]
    }
   ],
   "source": [
    "# 부울형 (bool)\n",
    "a = True; print(a)\n",
    "x=1; y=x>0; print(y)"
   ]
  },
  {
   "cell_type": "code",
   "execution_count": 12,
   "metadata": {},
   "outputs": [
    {
     "name": "stdout",
     "output_type": "stream",
     "text": [
      "[80, 90, 85, 93, 78]\n",
      "<class 'list'>\n"
     ]
    },
    {
     "data": {
      "text/plain": [
       "70451648"
      ]
     },
     "execution_count": 12,
     "metadata": {},
     "output_type": "execute_result"
    }
   ],
   "source": [
    "# 리스트\n",
    "scores = [80,90,85,93,78]\n",
    "print(scores)\n",
    "print(type(scores))\n",
    "id(scores)"
   ]
  },
  {
   "cell_type": "code",
   "execution_count": 14,
   "metadata": {},
   "outputs": [
    {
     "name": "stdout",
     "output_type": "stream",
     "text": [
      "(3, 6, 5, 9)\n",
      "<class 'tuple'>\n"
     ]
    },
    {
     "data": {
      "text/plain": [
       "70605440"
      ]
     },
     "execution_count": 14,
     "metadata": {},
     "output_type": "execute_result"
    }
   ],
   "source": [
    "# 튜플\n",
    "data = (3,6,5,9)\n",
    "print(data)\n",
    "print(type(data))\n",
    "id(data)"
   ]
  },
  {
   "cell_type": "code",
   "execution_count": 17,
   "metadata": {},
   "outputs": [
    {
     "name": "stdout",
     "output_type": "stream",
     "text": [
      "{9, 3, 5, 6}\n",
      "<class 'set'>\n",
      "{9, 3, 5, 6}\n"
     ]
    }
   ],
   "source": [
    "# 집합\n",
    "primes = {3,6,5,9}\n",
    "print(primes)\n",
    "print(type(primes))\n",
    "id(primes)\n",
    "primes2 = {3,6,5,9,3}\n",
    "print(primes2)"
   ]
  },
  {
   "cell_type": "code",
   "execution_count": 23,
   "metadata": {},
   "outputs": [
    {
     "name": "stdout",
     "output_type": "stream",
     "text": [
      "{1: 35, 2: 32, 3: 30, 4: 33}\n",
      "<class 'dict'>\n",
      "70492640\n",
      "33\n"
     ]
    }
   ],
   "source": [
    "# 사전\n",
    "count = {1:35, 2:32, 3:30, 4:33}\n",
    "print(count)\n",
    "\n",
    "print(type(count))\n",
    "\n",
    "print(id(count))\n",
    "\n",
    "print(count[4])"
   ]
  },
  {
   "cell_type": "code",
   "execution_count": 25,
   "metadata": {},
   "outputs": [
    {
     "name": "stdout",
     "output_type": "stream",
     "text": [
      "1827726144\n",
      "1827726304\n"
     ]
    }
   ],
   "source": [
    "## 3강.수치 자료형과 연산자\n",
    "# 정수 객체는 immutable\n",
    "a = 10; print(id(a))\n",
    "b = 20; print(id(b))"
   ]
  },
  {
   "cell_type": "code",
   "execution_count": 6,
   "metadata": {},
   "outputs": [
    {
     "name": "stdout",
     "output_type": "stream",
     "text": [
      "5\n",
      "-2\n",
      "15\n"
     ]
    },
    {
     "ename": "TypeError",
     "evalue": "can only concatenate str (not \"int\") to str",
     "output_type": "error",
     "traceback": [
      "\u001b[1;31m---------------------------------------------------------------------------\u001b[0m",
      "\u001b[1;31mTypeError\u001b[0m                                 Traceback (most recent call last)",
      "\u001b[1;32m<ipython-input-6-e73d937e3f04>\u001b[0m in \u001b[0;36m<module>\u001b[1;34m()\u001b[0m\n\u001b[0;32m      5\u001b[0m \u001b[1;33m\u001b[0m\u001b[0m\n\u001b[0;32m      6\u001b[0m \u001b[0mscore\u001b[0m \u001b[1;33m=\u001b[0m \u001b[1;34m'85'\u001b[0m\u001b[1;33m\u001b[0m\u001b[0m\n\u001b[1;32m----> 7\u001b[1;33m \u001b[0mprint\u001b[0m\u001b[1;33m(\u001b[0m\u001b[0mscore\u001b[0m \u001b[1;33m+\u001b[0m \u001b[1;36m5\u001b[0m\u001b[1;33m)\u001b[0m\u001b[1;33m\u001b[0m\u001b[0m\n\u001b[0m",
      "\u001b[1;31mTypeError\u001b[0m: can only concatenate str (not \"int\") to str"
     ]
    }
   ],
   "source": [
    "# 4_자료형 변환\n",
    "a = int(5.6); print(a)\n",
    "b = int(-2.9); print(b)\n",
    "print(int('15'))\n",
    "\n",
    "score = '85'\n",
    "print(score + 5)"
   ]
  },
  {
   "cell_type": "code",
   "execution_count": 11,
   "metadata": {},
   "outputs": [
    {
     "name": "stdout",
     "output_type": "stream",
     "text": [
      "-2\n",
      "2\n",
      "(-3, -1)\n",
      "32\n"
     ]
    }
   ],
   "source": [
    "# 5_수치 연산 함수들\n",
    "print(b); print(abs(b))\n",
    "print(divmod(a,b))\n",
    "print(pow(2,5))"
   ]
  },
  {
   "cell_type": "code",
   "execution_count": 12,
   "metadata": {},
   "outputs": [],
   "source": [
    "# 6_math 모듈\n",
    "import math"
   ]
  },
  {
   "cell_type": "code",
   "execution_count": 19,
   "metadata": {},
   "outputs": [
    {
     "name": "stdout",
     "output_type": "stream",
     "text": [
      "3.0\n",
      "32.0\n",
      "5.0\n",
      "25\n",
      "26\n"
     ]
    }
   ],
   "source": [
    "print(math.fabs(-3))\n",
    "print(math.pow(2, 5))\n",
    "print(math.sqrt(25))\n",
    "print(math.floor(25.5)) # x보다 작은 가장 큰수\n",
    "print(math.ceil(25.5)) # x보가 큰 가장 작은수\n"
   ]
  },
  {
   "cell_type": "code",
   "execution_count": 25,
   "metadata": {},
   "outputs": [
    {
     "name": "stdout",
     "output_type": "stream",
     "text": [
      "o\n",
      "h\n"
     ]
    },
    {
     "data": {
      "text/plain": [
       "3383680"
      ]
     },
     "execution_count": 25,
     "metadata": {},
     "output_type": "execute_result"
    }
   ],
   "source": [
    "## 4장 문자열 자료형\n",
    "# 1_문자열 생성하기\n",
    "\n",
    "# 2_문자열 인덱싱 / 슬라이싱\n",
    "greeting = 'hello world'\n",
    "print(greeting[7])\n",
    "print(greeting[0])\n",
    "#greeting[0] = 'H'\n",
    "id(greeting[0])\n"
   ]
  },
  {
   "cell_type": "code",
   "execution_count": 31,
   "metadata": {},
   "outputs": [
    {
     "data": {
      "text/plain": [
       "'n p'"
      ]
     },
     "execution_count": 31,
     "metadata": {},
     "output_type": "execute_result"
    }
   ],
   "source": [
    "lang = 'python programming'\n",
    "lang[3:10]\n",
    "lang[:10]\n",
    "lang[-10:-13]\n",
    "lang[-13:-10]"
   ]
  },
  {
   "cell_type": "code",
   "execution_count": 35,
   "metadata": {},
   "outputs": [
    {
     "name": "stdout",
     "output_type": "stream",
     "text": [
      "helloworld\n",
      "hello95world\n"
     ]
    }
   ],
   "source": [
    "# 3_문자열 연결/반복\n",
    "a = 'hello'; b = 'world'; c = 95;\n",
    "print(a+b)\n",
    "# print(a+c+b)\n",
    "print(a+str(c)+b)"
   ]
  },
  {
   "cell_type": "code",
   "execution_count": 39,
   "metadata": {},
   "outputs": [
    {
     "name": "stdout",
     "output_type": "stream",
     "text": [
      "11\n"
     ]
    },
    {
     "data": {
      "text/plain": [
       "['__add__',\n",
       " '__class__',\n",
       " '__contains__',\n",
       " '__delattr__',\n",
       " '__dir__',\n",
       " '__doc__',\n",
       " '__eq__',\n",
       " '__format__',\n",
       " '__ge__',\n",
       " '__getattribute__',\n",
       " '__getitem__',\n",
       " '__getnewargs__',\n",
       " '__gt__',\n",
       " '__hash__',\n",
       " '__init__',\n",
       " '__init_subclass__',\n",
       " '__iter__',\n",
       " '__le__',\n",
       " '__len__',\n",
       " '__lt__',\n",
       " '__mod__',\n",
       " '__mul__',\n",
       " '__ne__',\n",
       " '__new__',\n",
       " '__reduce__',\n",
       " '__reduce_ex__',\n",
       " '__repr__',\n",
       " '__rmod__',\n",
       " '__rmul__',\n",
       " '__setattr__',\n",
       " '__sizeof__',\n",
       " '__str__',\n",
       " '__subclasshook__',\n",
       " 'capitalize',\n",
       " 'casefold',\n",
       " 'center',\n",
       " 'count',\n",
       " 'encode',\n",
       " 'endswith',\n",
       " 'expandtabs',\n",
       " 'find',\n",
       " 'format',\n",
       " 'format_map',\n",
       " 'index',\n",
       " 'isalnum',\n",
       " 'isalpha',\n",
       " 'isascii',\n",
       " 'isdecimal',\n",
       " 'isdigit',\n",
       " 'isidentifier',\n",
       " 'islower',\n",
       " 'isnumeric',\n",
       " 'isprintable',\n",
       " 'isspace',\n",
       " 'istitle',\n",
       " 'isupper',\n",
       " 'join',\n",
       " 'ljust',\n",
       " 'lower',\n",
       " 'lstrip',\n",
       " 'maketrans',\n",
       " 'partition',\n",
       " 'replace',\n",
       " 'rfind',\n",
       " 'rindex',\n",
       " 'rjust',\n",
       " 'rpartition',\n",
       " 'rsplit',\n",
       " 'rstrip',\n",
       " 'split',\n",
       " 'splitlines',\n",
       " 'startswith',\n",
       " 'strip',\n",
       " 'swapcase',\n",
       " 'title',\n",
       " 'translate',\n",
       " 'upper',\n",
       " 'zfill']"
      ]
     },
     "execution_count": 39,
     "metadata": {},
     "output_type": "execute_result"
    }
   ],
   "source": [
    "# 4_문자열 길이 / 포함관계\n",
    "subject = 'programming'; print(len(subject))\n",
    "\n",
    "# 5_문자열 메소드\n",
    "dir(str)"
   ]
  },
  {
   "cell_type": "code",
   "execution_count": 52,
   "metadata": {},
   "outputs": [
    {
     "name": "stdout",
     "output_type": "stream",
     "text": [
      "STEVE QWEVE\n",
      "steve qweve\n",
      "False\n",
      "True\n",
      "Steve qweve\n",
      "Steve Qweve\n",
      "4\n",
      "2\n",
      "1\n"
     ]
    }
   ],
   "source": [
    "name = 'steve qweve'\n",
    "name2 = name.upper()\n",
    "print(name2)\n",
    "print(name2.lower())\n",
    "print(name.isupper())\n",
    "print(name.islower())\n",
    "print(name.capitalize())\n",
    "print(name.title())\n",
    "print(name.count('e'))\n",
    "print(name.count('ev'))\n",
    "print(name.count('ev',1,5))"
   ]
  },
  {
   "cell_type": "code",
   "execution_count": 60,
   "metadata": {},
   "outputs": [
    {
     "name": "stdout",
     "output_type": "stream",
     "text": [
      "2\n",
      "4\n",
      "alice tom sam\n"
     ]
    }
   ],
   "source": [
    "print(name.find('e'))\n",
    "print(name.find('e',3))\n",
    "\n",
    "friends = ['alice', 'tom', 'sam']\n",
    "dash = '-'\n",
    "dash.join(friends)\n",
    "space = ' '\n",
    "friends2 = space.join(friends)\n",
    "print(friends2)"
   ]
  },
  {
   "cell_type": "code",
   "execution_count": 63,
   "metadata": {},
   "outputs": [
    {
     "data": {
      "text/plain": [
       "['2016', '12', '25']"
      ]
     },
     "execution_count": 63,
     "metadata": {},
     "output_type": "execute_result"
    }
   ],
   "source": [
    "friends2.split()\n",
    "\n",
    "date = '2016/12/25'\n",
    "date.split('/')"
   ]
  },
  {
   "cell_type": "code",
   "execution_count": 75,
   "metadata": {},
   "outputs": [
    {
     "name": "stdout",
     "output_type": "stream",
     "text": [
      "- ['alice', 'tom', 'sam']\n",
      "dash friends\n",
      "dashfriends\n",
      "dash friends\n",
      "dash 'q'q\n",
      "dash \\q\n",
      "dash \n",
      "qqq \tnn\n"
     ]
    }
   ],
   "source": [
    "## 5강. 파이썬 입출력문\n",
    "print(dash,friends)\n",
    "print('dash','friends')\n",
    "print('dash' + 'friends')\n",
    "print('dash \\\n",
    "friends')\n",
    "print('dash \\'q\\'q')\n",
    "print('dash \\\\q')\n",
    "print('dash \\nqqq \\tnn')\n"
   ]
  },
  {
   "cell_type": "code",
   "execution_count": 79,
   "metadata": {},
   "outputs": [
    {
     "name": "stdout",
     "output_type": "stream",
     "text": [
      "Alicegot 95score\n"
     ]
    }
   ],
   "source": [
    "# 3.%이용한서식출력\n",
    "name = 'Alice' ; score = 95\n",
    "print('%sgot %dscore' %(name, score))\n",
    "# print('%dgot %dscore' %(name, score))"
   ]
  },
  {
   "cell_type": "code",
   "execution_count": 81,
   "metadata": {},
   "outputs": [
    {
     "name": "stdout",
     "output_type": "stream",
     "text": [
      "You got 87.300000 in math\n",
      "You got 87 in math\n"
     ]
    }
   ],
   "source": [
    "math_score= 87.3\n",
    "print('You got %f in math' %(math_score))\n",
    "print('You got %d in math' %(math_score))"
   ]
  },
  {
   "cell_type": "code",
   "execution_count": 82,
   "metadata": {},
   "outputs": [
    {
     "name": "stdout",
     "output_type": "stream",
     "text": [
      "Math is 93.50 and Engis 88.300\n",
      "score is 85and gpais       3.70\n"
     ]
    }
   ],
   "source": [
    "math = 93.5 ; eng= 88.3\n",
    "print('Math is %5.2f and Engis %6.3f' %(math, eng))\n",
    "\n",
    "print(\"score is %dand gpais %10.2f\" %(85, 3.7))"
   ]
  },
  {
   "cell_type": "code",
   "execution_count": 85,
   "metadata": {},
   "outputs": [
    {
     "name": "stdout",
     "output_type": "stream",
     "text": [
      "93.5 88.3\n"
     ]
    }
   ],
   "source": [
    "# print() 함수느 항상 '\\n'을 추가한다.\n",
    "print(math, end = ' '); print(eng)"
   ]
  },
  {
   "cell_type": "code",
   "execution_count": 96,
   "metadata": {},
   "outputs": [
    {
     "name": "stdout",
     "output_type": "stream",
     "text": [
      "Enter : 11\n"
     ]
    }
   ],
   "source": [
    "# input() 함수\n",
    "x = input('Enter : ')\n"
   ]
  },
  {
   "cell_type": "code",
   "execution_count": 97,
   "metadata": {},
   "outputs": [
    {
     "name": "stdout",
     "output_type": "stream",
     "text": [
      "11\n"
     ]
    },
    {
     "data": {
      "text/plain": [
       "str"
      ]
     },
     "execution_count": 97,
     "metadata": {},
     "output_type": "execute_result"
    }
   ],
   "source": [
    "print(x);\n",
    "type(x)"
   ]
  },
  {
   "cell_type": "code",
   "execution_count": 98,
   "metadata": {},
   "outputs": [
    {
     "name": "stdout",
     "output_type": "stream",
     "text": [
      "정수를입력하시오: 100\n"
     ]
    },
    {
     "ename": "TypeError",
     "evalue": "can only concatenate str (not \"int\") to str",
     "output_type": "error",
     "traceback": [
      "\u001b[1;31m---------------------------------------------------------------------------\u001b[0m",
      "\u001b[1;31mTypeError\u001b[0m                                 Traceback (most recent call last)",
      "\u001b[1;32m<ipython-input-98-6579e372eeb2>\u001b[0m in \u001b[0;36m<module>\u001b[1;34m()\u001b[0m\n\u001b[0;32m      1\u001b[0m \u001b[0mx\u001b[0m \u001b[1;33m=\u001b[0m \u001b[0minput\u001b[0m\u001b[1;33m(\u001b[0m\u001b[1;34m'정수를입력하시오: '\u001b[0m\u001b[1;33m)\u001b[0m\u001b[1;33m\u001b[0m\u001b[0m\n\u001b[1;32m----> 2\u001b[1;33m \u001b[0mx\u001b[0m \u001b[1;33m+\u001b[0m \u001b[1;36m10\u001b[0m\u001b[1;33m\u001b[0m\u001b[0m\n\u001b[0m",
      "\u001b[1;31mTypeError\u001b[0m: can only concatenate str (not \"int\") to str"
     ]
    }
   ],
   "source": [
    "x = input('정수를입력하시오: ')\n",
    "x + 10"
   ]
  },
  {
   "cell_type": "code",
   "execution_count": 101,
   "metadata": {},
   "outputs": [
    {
     "name": "stdout",
     "output_type": "stream",
     "text": [
      "정수를입력하시오: 10\n",
      "20\n"
     ]
    }
   ],
   "source": [
    "x = input('정수를입력하시오: ')\n",
    "x2 = int(x) + 10\n",
    "print(x2)"
   ]
  },
  {
   "cell_type": "code",
   "execution_count": 102,
   "metadata": {},
   "outputs": [
    {
     "name": "stdout",
     "output_type": "stream",
     "text": [
      "Enter one float number : 3.14\n",
      "y is 3.14\n"
     ]
    }
   ],
   "source": [
    "y = float(input('Enter one float number : '))\n",
    "print('y is', y)"
   ]
  },
  {
   "cell_type": "code",
   "execution_count": 108,
   "metadata": {
    "scrolled": true
   },
   "outputs": [
    {
     "name": "stdout",
     "output_type": "stream",
     "text": [
      "국어 : 78\n",
      "수학 : 80\n",
      "영어 : 90\n",
      "총점 : 248\n",
      "평균 : 82.66666666666667\n"
     ]
    }
   ],
   "source": [
    "## 문제1\n",
    "# 세과목(국어, 수학, 영어) 성적을input()함수로입력받아 세과목의\n",
    "# 총점과평균을구하는프로그램을작성하시오. \n",
    "# 평균은소수점둘째자리까지출력되도록한다.\n",
    "\n",
    "a1 = int(input('국어 : '))\n",
    "a2 = int(input('수학 : '))\n",
    "a3 = int(input('영어 : '))\n",
    "\n",
    "print('총점 :', a1+a2+a3)\n",
    "print('평균 :', (a1+a2+a3)/3)"
   ]
  },
  {
   "cell_type": "code",
   "execution_count": 116,
   "metadata": {},
   "outputs": [
    {
     "name": "stdout",
     "output_type": "stream",
     "text": [
      "반지름 : 5\n",
      "넓이 is 78.500\n",
      "둘렙 is 31.400\n"
     ]
    }
   ],
   "source": [
    "## 문제2\n",
    "# input() 함수를이용하여원의반지름을입력받는다. \n",
    "# 입력받은반지름으로원의넓이와원의둘레를구하여 소수 셋째자리까지 출력하는 프로그램을작성하시오. \n",
    "# 원주율을3.141592로한다.\n",
    "\n",
    "b1 = int(input('반지름 : '))\n",
    "\n",
    "b2 = b1**2\n",
    "\n",
    "print('넓이 is %.3f' %(b1**2*3.14))\n",
    "print('둘렙 is %.3f' %(b1*2*3.14))"
   ]
  },
  {
   "cell_type": "code",
   "execution_count": 123,
   "metadata": {},
   "outputs": [
    {
     "name": "stdout",
     "output_type": "stream",
     "text": [
      "숫자 : 12345\n",
      "1 , 2 , 3 , 4 , 5\n"
     ]
    }
   ],
   "source": [
    "## 문제3.\n",
    "# 다섯자리양의정수를입력받아서다음과같이각자리수를떼어서출력하는\n",
    "# 프로그램을작성하시오. 항상올바르게다섯자리숫자를입력하고\n",
    "# 1~9의수만입력한다고가정한다.\n",
    "\n",
    "c1 = input('숫자 : ')\n",
    "print(c1[0], ',', c1[1], ',', c1[2], ',', c1[3], ',', c1[4])"
   ]
  },
  {
   "cell_type": "code",
   "execution_count": 122,
   "metadata": {},
   "outputs": [
    {
     "name": "stdout",
     "output_type": "stream",
     "text": [
      "1 , 1\n"
     ]
    }
   ],
   "source": [
    "print(b1[0], ',', b1[0])"
   ]
  },
  {
   "cell_type": "code",
   "execution_count": null,
   "metadata": {},
   "outputs": [],
   "source": []
  },
  {
   "cell_type": "code",
   "execution_count": 117,
   "metadata": {},
   "outputs": [
    {
     "name": "stdout",
     "output_type": "stream",
     "text": [
      "4\n"
     ]
    }
   ],
   "source": []
  },
  {
   "cell_type": "code",
   "execution_count": null,
   "metadata": {},
   "outputs": [],
   "source": []
  },
  {
   "cell_type": "code",
   "execution_count": null,
   "metadata": {},
   "outputs": [],
   "source": []
  },
  {
   "cell_type": "code",
   "execution_count": null,
   "metadata": {},
   "outputs": [],
   "source": []
  },
  {
   "cell_type": "code",
   "execution_count": null,
   "metadata": {},
   "outputs": [],
   "source": []
  },
  {
   "cell_type": "code",
   "execution_count": null,
   "metadata": {},
   "outputs": [],
   "source": []
  },
  {
   "cell_type": "code",
   "execution_count": null,
   "metadata": {},
   "outputs": [],
   "source": []
  },
  {
   "cell_type": "code",
   "execution_count": null,
   "metadata": {},
   "outputs": [],
   "source": []
  },
  {
   "cell_type": "code",
   "execution_count": null,
   "metadata": {},
   "outputs": [],
   "source": []
  },
  {
   "cell_type": "code",
   "execution_count": null,
   "metadata": {},
   "outputs": [],
   "source": []
  },
  {
   "cell_type": "code",
   "execution_count": null,
   "metadata": {},
   "outputs": [],
   "source": [
    "b1 = 2\n",
    "b2 = b1**2\n",
    "print(b2)"
   ]
  }
 ],
 "metadata": {
  "kernelspec": {
   "display_name": "Python 3",
   "language": "python",
   "name": "python3"
  },
  "language_info": {
   "codemirror_mode": {
    "name": "ipython",
    "version": 3
   },
   "file_extension": ".py",
   "mimetype": "text/x-python",
   "name": "python",
   "nbconvert_exporter": "python",
   "pygments_lexer": "ipython3",
   "version": "3.7.0"
  }
 },
 "nbformat": 4,
 "nbformat_minor": 2
}
