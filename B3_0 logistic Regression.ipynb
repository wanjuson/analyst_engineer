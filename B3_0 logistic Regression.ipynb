{
 "cells": [
  {
   "cell_type": "code",
   "execution_count": null,
   "metadata": {},
   "outputs": [],
   "source": [
    "## 머신러닝 프로세스\n",
    "# 1.데이터셋 분할\n",
    "# 2.데이터 전처리\n",
    "#  - 변수의 정규화\n",
    "#  - 범주바료 원핫인코딩\n",
    "# 3.모델 학습\n",
    "# 4.하이퍼파라미터 탐색과 모델 튜닝\n",
    "#  - 하이퍼 파라미터 탐색 : 최적의 하이퍼 파라미터 및 최종 모델 결정\n",
    "# 5.모델 성능 평가\n"
   ]
  }
 ],
 "metadata": {
  "kernelspec": {
   "display_name": "Python 3",
   "language": "python",
   "name": "python3"
  },
  "language_info": {
   "codemirror_mode": {
    "name": "ipython",
    "version": 3
   },
   "file_extension": ".py",
   "mimetype": "text/x-python",
   "name": "python",
   "nbconvert_exporter": "python",
   "pygments_lexer": "ipython3",
   "version": "3.7.0"
  }
 },
 "nbformat": 4,
 "nbformat_minor": 4
}
