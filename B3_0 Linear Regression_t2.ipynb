{
 "cells": [
  {
   "cell_type": "code",
   "execution_count": 31,
   "metadata": {},
   "outputs": [],
   "source": [
    "## 선형회귀"
   ]
  },
  {
   "cell_type": "code",
   "execution_count": 4,
   "metadata": {},
   "outputs": [
    {
     "data": {
      "text/html": [
       "<div>\n",
       "<style scoped>\n",
       "    .dataframe tbody tr th:only-of-type {\n",
       "        vertical-align: middle;\n",
       "    }\n",
       "\n",
       "    .dataframe tbody tr th {\n",
       "        vertical-align: top;\n",
       "    }\n",
       "\n",
       "    .dataframe thead th {\n",
       "        text-align: right;\n",
       "    }\n",
       "</style>\n",
       "<table border=\"1\" class=\"dataframe\">\n",
       "  <thead>\n",
       "    <tr style=\"text-align: right;\">\n",
       "      <th></th>\n",
       "      <th>housing_age</th>\n",
       "      <th>income</th>\n",
       "      <th>bedrooms</th>\n",
       "      <th>households</th>\n",
       "      <th>rooms</th>\n",
       "      <th>house_value</th>\n",
       "    </tr>\n",
       "  </thead>\n",
       "  <tbody>\n",
       "    <tr>\n",
       "      <th>17684</th>\n",
       "      <td>34</td>\n",
       "      <td>2.3013</td>\n",
       "      <td>0.214583</td>\n",
       "      <td>2.748299</td>\n",
       "      <td>4.897959</td>\n",
       "      <td>26600</td>\n",
       "    </tr>\n",
       "    <tr>\n",
       "      <th>17685</th>\n",
       "      <td>33</td>\n",
       "      <td>2.6750</td>\n",
       "      <td>0.246622</td>\n",
       "      <td>3.428571</td>\n",
       "      <td>4.698413</td>\n",
       "      <td>22500</td>\n",
       "    </tr>\n",
       "    <tr>\n",
       "      <th>17686</th>\n",
       "      <td>39</td>\n",
       "      <td>2.3667</td>\n",
       "      <td>0.340771</td>\n",
       "      <td>1.876812</td>\n",
       "      <td>3.572464</td>\n",
       "      <td>17500</td>\n",
       "    </tr>\n",
       "    <tr>\n",
       "      <th>17687</th>\n",
       "      <td>19</td>\n",
       "      <td>2.1000</td>\n",
       "      <td>0.386107</td>\n",
       "      <td>2.987805</td>\n",
       "      <td>3.774390</td>\n",
       "      <td>14999</td>\n",
       "    </tr>\n",
       "    <tr>\n",
       "      <th>17688</th>\n",
       "      <td>16</td>\n",
       "      <td>1.6607</td>\n",
       "      <td>0.286275</td>\n",
       "      <td>2.236842</td>\n",
       "      <td>6.710526</td>\n",
       "      <td>14999</td>\n",
       "    </tr>\n",
       "  </tbody>\n",
       "</table>\n",
       "</div>"
      ],
      "text/plain": [
       "       housing_age  income  bedrooms  households     rooms  house_value\n",
       "17684           34  2.3013  0.214583    2.748299  4.897959        26600\n",
       "17685           33  2.6750  0.246622    3.428571  4.698413        22500\n",
       "17686           39  2.3667  0.340771    1.876812  3.572464        17500\n",
       "17687           19  2.1000  0.386107    2.987805  3.774390        14999\n",
       "17688           16  1.6607  0.286275    2.236842  6.710526        14999"
      ]
     },
     "execution_count": 4,
     "metadata": {},
     "output_type": "execute_result"
    }
   ],
   "source": [
    "## 1.데이터\n",
    "import pandas as pd\n",
    "# 데이터 불러오기\n",
    "data = pd.read_csv('house_price.csv', encoding = 'utf-8')\n",
    "data.tail()"
   ]
  },
  {
   "cell_type": "code",
   "execution_count": 5,
   "metadata": {},
   "outputs": [
    {
     "data": {
      "text/html": [
       "<div>\n",
       "<style scoped>\n",
       "    .dataframe tbody tr th:only-of-type {\n",
       "        vertical-align: middle;\n",
       "    }\n",
       "\n",
       "    .dataframe tbody tr th {\n",
       "        vertical-align: top;\n",
       "    }\n",
       "\n",
       "    .dataframe thead th {\n",
       "        text-align: right;\n",
       "    }\n",
       "</style>\n",
       "<table border=\"1\" class=\"dataframe\">\n",
       "  <thead>\n",
       "    <tr style=\"text-align: right;\">\n",
       "      <th></th>\n",
       "      <th>housing_age</th>\n",
       "      <th>income</th>\n",
       "      <th>bedrooms</th>\n",
       "      <th>households</th>\n",
       "      <th>rooms</th>\n",
       "      <th>house_value</th>\n",
       "    </tr>\n",
       "  </thead>\n",
       "  <tbody>\n",
       "    <tr>\n",
       "      <th>count</th>\n",
       "      <td>17689.000000</td>\n",
       "      <td>17689.000000</td>\n",
       "      <td>17689.000000</td>\n",
       "      <td>17689.000000</td>\n",
       "      <td>17689.000000</td>\n",
       "      <td>17689.000000</td>\n",
       "    </tr>\n",
       "    <tr>\n",
       "      <th>mean</th>\n",
       "      <td>27.378823</td>\n",
       "      <td>3.671141</td>\n",
       "      <td>0.213278</td>\n",
       "      <td>2.952117</td>\n",
       "      <td>5.244001</td>\n",
       "      <td>189043.439313</td>\n",
       "    </tr>\n",
       "    <tr>\n",
       "      <th>std</th>\n",
       "      <td>11.280230</td>\n",
       "      <td>1.525937</td>\n",
       "      <td>0.051167</td>\n",
       "      <td>0.731573</td>\n",
       "      <td>1.184922</td>\n",
       "      <td>95487.122628</td>\n",
       "    </tr>\n",
       "    <tr>\n",
       "      <th>min</th>\n",
       "      <td>1.000000</td>\n",
       "      <td>0.499900</td>\n",
       "      <td>0.100000</td>\n",
       "      <td>0.750000</td>\n",
       "      <td>1.640000</td>\n",
       "      <td>14999.000000</td>\n",
       "    </tr>\n",
       "    <tr>\n",
       "      <th>25%</th>\n",
       "      <td>18.000000</td>\n",
       "      <td>2.532900</td>\n",
       "      <td>0.177464</td>\n",
       "      <td>2.470270</td>\n",
       "      <td>4.426829</td>\n",
       "      <td>114400.000000</td>\n",
       "    </tr>\n",
       "    <tr>\n",
       "      <th>50%</th>\n",
       "      <td>28.000000</td>\n",
       "      <td>3.453900</td>\n",
       "      <td>0.204104</td>\n",
       "      <td>2.854962</td>\n",
       "      <td>5.190779</td>\n",
       "      <td>171100.000000</td>\n",
       "    </tr>\n",
       "    <tr>\n",
       "      <th>75%</th>\n",
       "      <td>36.000000</td>\n",
       "      <td>4.591800</td>\n",
       "      <td>0.240157</td>\n",
       "      <td>3.316092</td>\n",
       "      <td>5.953728</td>\n",
       "      <td>242700.000000</td>\n",
       "    </tr>\n",
       "    <tr>\n",
       "      <th>max</th>\n",
       "      <td>51.000000</td>\n",
       "      <td>9.905500</td>\n",
       "      <td>0.498127</td>\n",
       "      <td>6.954023</td>\n",
       "      <td>11.901869</td>\n",
       "      <td>500000.000000</td>\n",
       "    </tr>\n",
       "  </tbody>\n",
       "</table>\n",
       "</div>"
      ],
      "text/plain": [
       "        housing_age        income      bedrooms    households         rooms  \\\n",
       "count  17689.000000  17689.000000  17689.000000  17689.000000  17689.000000   \n",
       "mean      27.378823      3.671141      0.213278      2.952117      5.244001   \n",
       "std       11.280230      1.525937      0.051167      0.731573      1.184922   \n",
       "min        1.000000      0.499900      0.100000      0.750000      1.640000   \n",
       "25%       18.000000      2.532900      0.177464      2.470270      4.426829   \n",
       "50%       28.000000      3.453900      0.204104      2.854962      5.190779   \n",
       "75%       36.000000      4.591800      0.240157      3.316092      5.953728   \n",
       "max       51.000000      9.905500      0.498127      6.954023     11.901869   \n",
       "\n",
       "         house_value  \n",
       "count   17689.000000  \n",
       "mean   189043.439313  \n",
       "std     95487.122628  \n",
       "min     14999.000000  \n",
       "25%    114400.000000  \n",
       "50%    171100.000000  \n",
       "75%    242700.000000  \n",
       "max    500000.000000  "
      ]
     },
     "execution_count": 5,
     "metadata": {},
     "output_type": "execute_result"
    }
   ],
   "source": [
    "# 변수별 통계 확인\n",
    "data.describe()"
   ]
  },
  {
   "cell_type": "code",
   "execution_count": 112,
   "metadata": {},
   "outputs": [
    {
     "name": "stdout",
     "output_type": "stream",
     "text": [
      "x1        housing_age  income  bedrooms  households     rooms\n",
      "17684           34  2.3013  0.214583    2.748299  4.897959\n",
      "17685           33  2.6750  0.246622    3.428571  4.698413\n",
      "17686           39  2.3667  0.340771    1.876812  3.572464\n",
      "17687           19  2.1000  0.386107    2.987805  3.774390\n",
      "17688           16  1.6607  0.286275    2.236842  6.710526\n",
      "y1        house_value\n",
      "17684        26600\n",
      "17685        22500\n",
      "17686        17500\n",
      "17687        14999\n",
      "17688        14999\n"
     ]
    }
   ],
   "source": [
    "## 2.데이터 전처리\n",
    "# x,y 데이터 분할\n",
    "x1 = data[['housing_age', 'income', 'bedrooms', 'households', 'rooms']]\n",
    "y1 = data[['house_value']]\n",
    "print('x1', x1.tail())\n",
    "print('y1', y1.tail())"
   ]
  },
  {
   "cell_type": "code",
   "execution_count": 113,
   "metadata": {},
   "outputs": [
    {
     "name": "stdout",
     "output_type": "stream",
     "text": [
      "house_value    189198.688226\n",
      "dtype: float64\n",
      "house_value    188577.797875\n",
      "dtype: float64\n"
     ]
    }
   ],
   "source": [
    "# train, test로 데이터 분할\n",
    "from sklearn.model_selection import train_test_split\n",
    "x1_train, x1_test, y1_train, y1_test = train_test_split(x1,y1, random_state = 1)\n",
    "print(y1_train.mean())\n",
    "print(y1_test.mean())"
   ]
  },
  {
   "cell_type": "code",
   "execution_count": 40,
   "metadata": {},
   "outputs": [],
   "source": [
    "## 정규화\n",
    "from sklearn.preprocessing import StandardScaler"
   ]
  },
  {
   "cell_type": "code",
   "execution_count": 61,
   "metadata": {},
   "outputs": [],
   "source": [
    "# train 데이터 정규화\n",
    "standard_scaler = StandardScaler()\n",
    "standard_scaler.fit(x1_train)\n",
    "x1_train_standard_scale = standard_scaler.transform(x1_train)"
   ]
  },
  {
   "cell_type": "code",
   "execution_count": 46,
   "metadata": {},
   "outputs": [
    {
     "data": {
      "text/html": [
       "<div>\n",
       "<style scoped>\n",
       "    .dataframe tbody tr th:only-of-type {\n",
       "        vertical-align: middle;\n",
       "    }\n",
       "\n",
       "    .dataframe tbody tr th {\n",
       "        vertical-align: top;\n",
       "    }\n",
       "\n",
       "    .dataframe thead th {\n",
       "        text-align: right;\n",
       "    }\n",
       "</style>\n",
       "<table border=\"1\" class=\"dataframe\">\n",
       "  <thead>\n",
       "    <tr style=\"text-align: right;\">\n",
       "      <th></th>\n",
       "      <th>0</th>\n",
       "      <th>1</th>\n",
       "      <th>2</th>\n",
       "      <th>3</th>\n",
       "      <th>4</th>\n",
       "    </tr>\n",
       "  </thead>\n",
       "  <tbody>\n",
       "    <tr>\n",
       "      <th>count</th>\n",
       "      <td>1.326600e+04</td>\n",
       "      <td>1.326600e+04</td>\n",
       "      <td>1.326600e+04</td>\n",
       "      <td>1.326600e+04</td>\n",
       "      <td>1.326600e+04</td>\n",
       "    </tr>\n",
       "    <tr>\n",
       "      <th>mean</th>\n",
       "      <td>-5.826453e-17</td>\n",
       "      <td>-2.522502e-17</td>\n",
       "      <td>5.791304e-17</td>\n",
       "      <td>5.854071e-16</td>\n",
       "      <td>5.681336e-16</td>\n",
       "    </tr>\n",
       "    <tr>\n",
       "      <th>std</th>\n",
       "      <td>1.000038e+00</td>\n",
       "      <td>1.000038e+00</td>\n",
       "      <td>1.000038e+00</td>\n",
       "      <td>1.000038e+00</td>\n",
       "      <td>1.000038e+00</td>\n",
       "    </tr>\n",
       "    <tr>\n",
       "      <th>min</th>\n",
       "      <td>-2.349918e+00</td>\n",
       "      <td>-2.072498e+00</td>\n",
       "      <td>-2.195848e+00</td>\n",
       "      <td>-3.005221e+00</td>\n",
       "      <td>-3.038316e+00</td>\n",
       "    </tr>\n",
       "    <tr>\n",
       "      <th>25%</th>\n",
       "      <td>-8.380196e-01</td>\n",
       "      <td>-7.524962e-01</td>\n",
       "      <td>-6.989694e-01</td>\n",
       "      <td>-6.611210e-01</td>\n",
       "      <td>-6.888916e-01</td>\n",
       "    </tr>\n",
       "    <tr>\n",
       "      <th>50%</th>\n",
       "      <td>5.133250e-02</td>\n",
       "      <td>-1.463823e-01</td>\n",
       "      <td>-1.798046e-01</td>\n",
       "      <td>-1.302303e-01</td>\n",
       "      <td>-4.440620e-02</td>\n",
       "    </tr>\n",
       "    <tr>\n",
       "      <th>75%</th>\n",
       "      <td>7.628142e-01</td>\n",
       "      <td>6.128360e-01</td>\n",
       "      <td>5.181721e-01</td>\n",
       "      <td>4.976055e-01</td>\n",
       "      <td>6.041656e-01</td>\n",
       "    </tr>\n",
       "    <tr>\n",
       "      <th>max</th>\n",
       "      <td>2.096842e+00</td>\n",
       "      <td>4.071007e+00</td>\n",
       "      <td>5.515037e+00</td>\n",
       "      <td>5.466011e+00</td>\n",
       "      <td>5.616000e+00</td>\n",
       "    </tr>\n",
       "  </tbody>\n",
       "</table>\n",
       "</div>"
      ],
      "text/plain": [
       "                  0             1             2             3             4\n",
       "count  1.326600e+04  1.326600e+04  1.326600e+04  1.326600e+04  1.326600e+04\n",
       "mean  -5.826453e-17 -2.522502e-17  5.791304e-17  5.854071e-16  5.681336e-16\n",
       "std    1.000038e+00  1.000038e+00  1.000038e+00  1.000038e+00  1.000038e+00\n",
       "min   -2.349918e+00 -2.072498e+00 -2.195848e+00 -3.005221e+00 -3.038316e+00\n",
       "25%   -8.380196e-01 -7.524962e-01 -6.989694e-01 -6.611210e-01 -6.888916e-01\n",
       "50%    5.133250e-02 -1.463823e-01 -1.798046e-01 -1.302303e-01 -4.440620e-02\n",
       "75%    7.628142e-01  6.128360e-01  5.181721e-01  4.976055e-01  6.041656e-01\n",
       "max    2.096842e+00  4.071007e+00  5.515037e+00  5.466011e+00  5.616000e+00"
      ]
     },
     "execution_count": 46,
     "metadata": {},
     "output_type": "execute_result"
    }
   ],
   "source": [
    "# standard 방법으로 정규화한 데이터의 기술통계량 확인\n",
    "pd.DataFrame(x1_train_standard_scale).describe()"
   ]
  },
  {
   "cell_type": "code",
   "execution_count": 64,
   "metadata": {},
   "outputs": [],
   "source": [
    "# test 데이터 정규화\n",
    "x1_test_standard_scale = standard_scaler.transform(x1_test)"
   ]
  },
  {
   "cell_type": "code",
   "execution_count": 66,
   "metadata": {},
   "outputs": [
    {
     "data": {
      "text/html": [
       "<div>\n",
       "<style scoped>\n",
       "    .dataframe tbody tr th:only-of-type {\n",
       "        vertical-align: middle;\n",
       "    }\n",
       "\n",
       "    .dataframe tbody tr th {\n",
       "        vertical-align: top;\n",
       "    }\n",
       "\n",
       "    .dataframe thead th {\n",
       "        text-align: right;\n",
       "    }\n",
       "</style>\n",
       "<table border=\"1\" class=\"dataframe\">\n",
       "  <thead>\n",
       "    <tr style=\"text-align: right;\">\n",
       "      <th></th>\n",
       "      <th>0</th>\n",
       "      <th>1</th>\n",
       "      <th>2</th>\n",
       "      <th>3</th>\n",
       "      <th>4</th>\n",
       "    </tr>\n",
       "  </thead>\n",
       "  <tbody>\n",
       "    <tr>\n",
       "      <th>count</th>\n",
       "      <td>4423.000000</td>\n",
       "      <td>4423.000000</td>\n",
       "      <td>4423.000000</td>\n",
       "      <td>4423.000000</td>\n",
       "      <td>4423.000000</td>\n",
       "    </tr>\n",
       "    <tr>\n",
       "      <th>mean</th>\n",
       "      <td>-0.015645</td>\n",
       "      <td>-0.004487</td>\n",
       "      <td>-0.007567</td>\n",
       "      <td>0.006567</td>\n",
       "      <td>0.004428</td>\n",
       "    </tr>\n",
       "    <tr>\n",
       "      <th>std</th>\n",
       "      <td>1.012687</td>\n",
       "      <td>0.986744</td>\n",
       "      <td>0.963453</td>\n",
       "      <td>0.995660</td>\n",
       "      <td>0.997192</td>\n",
       "    </tr>\n",
       "    <tr>\n",
       "      <th>min</th>\n",
       "      <td>-2.349918</td>\n",
       "      <td>-2.072498</td>\n",
       "      <td>-1.897880</td>\n",
       "      <td>-2.541970</td>\n",
       "      <td>-2.975668</td>\n",
       "    </tr>\n",
       "    <tr>\n",
       "      <th>25%</th>\n",
       "      <td>-0.838020</td>\n",
       "      <td>-0.722287</td>\n",
       "      <td>-0.683391</td>\n",
       "      <td>-0.644889</td>\n",
       "      <td>-0.683049</td>\n",
       "    </tr>\n",
       "    <tr>\n",
       "      <th>50%</th>\n",
       "      <td>0.051332</td>\n",
       "      <td>-0.136944</td>\n",
       "      <td>-0.177326</td>\n",
       "      <td>-0.133829</td>\n",
       "      <td>-0.039462</td>\n",
       "    </tr>\n",
       "    <tr>\n",
       "      <th>75%</th>\n",
       "      <td>0.762814</td>\n",
       "      <td>0.572927</td>\n",
       "      <td>0.520485</td>\n",
       "      <td>0.499884</td>\n",
       "      <td>0.589800</td>\n",
       "    </tr>\n",
       "    <tr>\n",
       "      <th>max</th>\n",
       "      <td>2.096842</td>\n",
       "      <td>3.939196</td>\n",
       "      <td>5.227527</td>\n",
       "      <td>5.030378</td>\n",
       "      <td>5.383241</td>\n",
       "    </tr>\n",
       "  </tbody>\n",
       "</table>\n",
       "</div>"
      ],
      "text/plain": [
       "                 0            1            2            3            4\n",
       "count  4423.000000  4423.000000  4423.000000  4423.000000  4423.000000\n",
       "mean     -0.015645    -0.004487    -0.007567     0.006567     0.004428\n",
       "std       1.012687     0.986744     0.963453     0.995660     0.997192\n",
       "min      -2.349918    -2.072498    -1.897880    -2.541970    -2.975668\n",
       "25%      -0.838020    -0.722287    -0.683391    -0.644889    -0.683049\n",
       "50%       0.051332    -0.136944    -0.177326    -0.133829    -0.039462\n",
       "75%       0.762814     0.572927     0.520485     0.499884     0.589800\n",
       "max       2.096842     3.939196     5.227527     5.030378     5.383241"
      ]
     },
     "execution_count": 66,
     "metadata": {},
     "output_type": "execute_result"
    }
   ],
   "source": [
    "# standard 방법으로 정규화한 데이터의 기술통계량 확인\n",
    "pd.DataFrame(x1_test_standard_scale).describe()"
   ]
  },
  {
   "cell_type": "code",
   "execution_count": 52,
   "metadata": {},
   "outputs": [
    {
     "data": {
      "text/plain": [
       "LinearRegression(copy_X=True, fit_intercept=True, n_jobs=1, normalize=False)"
      ]
     },
     "execution_count": 52,
     "metadata": {},
     "output_type": "execute_result"
    }
   ],
   "source": [
    "## 3.데이터 분석\n",
    "## 모델 학습\n",
    "from sklearn.linear_model import LinearRegression\n",
    "model1 = LinearRegression()\n",
    "model1.fit(x1_train_standard_scale, y1_train)"
   ]
  },
  {
   "cell_type": "code",
   "execution_count": 56,
   "metadata": {},
   "outputs": [
    {
     "data": {
      "text/plain": [
       "0.5703486808769582"
      ]
     },
     "execution_count": 56,
     "metadata": {},
     "output_type": "execute_result"
    }
   ],
   "source": [
    "# train 예측\n",
    "pred_train = model1.predict(x1_train_standard_scale)\n",
    "model1.score(x1_train_standard_scale, y1_train) # R2"
   ]
  },
  {
   "cell_type": "code",
   "execution_count": 67,
   "metadata": {},
   "outputs": [
    {
     "data": {
      "text/plain": [
       "0.5836850955113921"
      ]
     },
     "execution_count": 67,
     "metadata": {},
     "output_type": "execute_result"
    }
   ],
   "source": [
    "# test 예측\n",
    "pred_test = model1.predict(x1_test_standard_scale)\n",
    "model.score(x1_test_standard_scale, y1_test) # R2"
   ]
  },
  {
   "cell_type": "code",
   "execution_count": 114,
   "metadata": {},
   "outputs": [
    {
     "name": "stderr",
     "output_type": "stream",
     "text": [
      "C:\\ProgramData\\Anaconda3\\lib\\site-packages\\ipykernel_launcher.py:3: SettingWithCopyWarning: \n",
      "A value is trying to be set on a copy of a slice from a DataFrame.\n",
      "Try using .loc[row_indexer,col_indexer] = value instead\n",
      "\n",
      "See the caveats in the documentation: http://pandas.pydata.org/pandas-docs/stable/indexing.html#indexing-view-versus-copy\n",
      "  This is separate from the ipykernel package so we can avoid doing imports until\n",
      "C:\\ProgramData\\Anaconda3\\lib\\site-packages\\ipykernel_launcher.py:4: SettingWithCopyWarning: \n",
      "A value is trying to be set on a copy of a slice from a DataFrame.\n",
      "Try using .loc[row_indexer,col_indexer] = value instead\n",
      "\n",
      "See the caveats in the documentation: http://pandas.pydata.org/pandas-docs/stable/indexing.html#indexing-view-versus-copy\n",
      "  after removing the cwd from sys.path.\n"
     ]
    }
   ],
   "source": [
    "## 4.결과 저장\n",
    "# 예측 데이터 합치기\n",
    "y1_train['pred'] = pred_train\n",
    "y1_test['pred'] = pred_test\n",
    "\n",
    "# 분석데이터와 결과 데이터 합치기\n",
    "data_train = pd.concat([x1_train, y1_train], axis = 1)\n",
    "data_test = pd.concat([x1_test, y1_test], axis = 1)"
   ]
  },
  {
   "cell_type": "code",
   "execution_count": 115,
   "metadata": {},
   "outputs": [],
   "source": [
    "# train 과 test 합치기\n",
    "data_pre = pd.concat([data_train, data_test], axis = 0)\n",
    "data_pre.tail()"
   ]
  },
  {
   "cell_type": "code",
   "execution_count": 118,
   "metadata": {},
   "outputs": [],
   "source": [
    "# csv 파일로 저장하기\n",
    "data_pre.to_csv(\"regression_test02.csv\")"
   ]
  }
 ],
 "metadata": {
  "kernelspec": {
   "display_name": "Python 3",
   "language": "python",
   "name": "python3"
  },
  "language_info": {
   "codemirror_mode": {
    "name": "ipython",
    "version": 3
   },
   "file_extension": ".py",
   "mimetype": "text/x-python",
   "name": "python",
   "nbconvert_exporter": "python",
   "pygments_lexer": "ipython3",
   "version": "3.7.0"
  }
 },
 "nbformat": 4,
 "nbformat_minor": 2
}
