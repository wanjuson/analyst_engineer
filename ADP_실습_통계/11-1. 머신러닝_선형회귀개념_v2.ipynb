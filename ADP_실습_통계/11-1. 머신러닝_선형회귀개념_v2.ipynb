{
 "cells": [
  {
   "cell_type": "markdown",
   "metadata": {},
   "source": [
    "# 회귀분석\n",
    "\n",
    "## 변수 유형별 분석 방법 \n",
    "\n",
    "<img src=./지도학습_비지도학습.png width=\"600\">\n",
    "\n",
    "\n",
    "## 회귀분석 개념\n",
    "\n",
    "- 하나 혹은 그 이상의 원인이 종속변수에 미치는 영향을 추적하여 식으로 표현하는 통계기법\n",
    "- 변수들 사이의 인과관계를 밝히고 모형을 적합하여 관심있는 변수를 예측하거나 추론하기 위해 사용하는 분석 방법\n"
   ]
  },
  {
   "cell_type": "markdown",
   "metadata": {},
   "source": [
    "### 머신러닝 기법을 이용한 방법\n",
    "\n",
    "> from sklearn.linear_model import LinearRegression\n",
    "\n",
    "<br>\n",
    "- LinearRegression은 계수 w = (w1, …, wp)를 사용하여 선형 모델을 피팅합니다. <br>\n",
    "- 선형 모델은 X_train 으로 선형 근사에 의해 예측된 선형 회귀식과 y_train 사이의 잔여 제곱합을 최소화합니다.\n",
    "\n",
    "\n",
    "\n",
    "&emsp;&emsp;&emsp;LinearRegression() : 선형회귀분석 모델을 생성하는 함수<br>\n",
    "&emsp;&emsp;&emsp;fit() : 선형 회귀 모델에 필요한 두 가지 변수(x, y)를 전달\n",
    "\n",
    "<br>\n",
    "\n",
    "- 설명변수의 차원을 조정해야 함\n",
    "- R의 summary()와 같은 기능이 없음\n",
    "- 기울기와 절편을 따로 호출해서 얻을 수 있음\n",
    "- 잔차를 자동으로 계산해주는 기능이 없음\n",
    "- model.coef_ 로 회귀계수 추출가능\n"
   ]
  },
  {
   "cell_type": "markdown",
   "metadata": {},
   "source": [
    "### Ridge, Lasso, ElasticNet\n",
    "- Ridge\n",
    "> Ridge 회귀는 L2 정규화로 계수 크기에 페널티를 부과하여 일반 최소 제곱의 일부 문제를 해결합니다. <br>\n",
    "> 매개변수 : alpha = 1.0 \n",
    "\n",
    "- Lasso\n",
    "> Lasso는 L1 정규화로 희소 계수를 추정하는 선형 모델입니다.<br>\n",
    "> 매개변수 : alpha = 1.0 \n",
    "\n",
    "- ElasticNet\n",
    "> Elastic-Net은 계수의 L1 및 L2 정규화로 훈련된 선형 회귀 모델입니다.<br>\n",
    "> alpha = 1.0 , l1_ratio=0.5"
   ]
  },
  {
   "cell_type": "code",
   "execution_count": null,
   "metadata": {},
   "outputs": [],
   "source": [
    "# 그리드 서치로 최적의 alpha 값 탐색\n"
   ]
  }
 ],
 "metadata": {
  "kernelspec": {
   "display_name": "Python 3 (ipykernel)",
   "language": "python",
   "name": "python3"
  },
  "language_info": {
   "codemirror_mode": {
    "name": "ipython",
    "version": 3
   },
   "file_extension": ".py",
   "mimetype": "text/x-python",
   "name": "python",
   "nbconvert_exporter": "python",
   "pygments_lexer": "ipython3",
   "version": "3.7.10"
  },
  "toc": {
   "base_numbering": "11",
   "nav_menu": {},
   "number_sections": true,
   "sideBar": true,
   "skip_h1_title": false,
   "title_cell": "Table of Contents",
   "title_sidebar": "Contents",
   "toc_cell": false,
   "toc_position": {},
   "toc_section_display": true,
   "toc_window_display": false
  }
 },
 "nbformat": 4,
 "nbformat_minor": 4
}
