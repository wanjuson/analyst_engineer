{
 "cells": [
  {
   "cell_type": "markdown",
   "id": "5de06522",
   "metadata": {
    "toc": true
   },
   "source": [
    "<h1>Table of Contents<span class=\"tocSkip\"></span></h1>\n",
    "<div class=\"toc\"><ul class=\"toc-item\"><li><span><a href=\"#Cars93-데이터로-SVM과-인공신경망-모델을-이용해-회귀분석-후-R2와-RMSE을-구하고-비교하세요\" data-toc-modified-id=\"Cars93-데이터로-SVM과-인공신경망-모델을-이용해-회귀분석-후-R2와-RMSE을-구하고-비교하세요-1\"><span class=\"toc-item-num\">1&nbsp;&nbsp;</span>Cars93 데이터로 SVM과 인공신경망 모델을 이용해 회귀분석 후 R2와 RMSE을 구하고 비교하세요</a></span></li><li><span><a href=\"#titanic-데이터로-나이브베이즈-,-SVM,--인공신경망,-KNN-모델을-이용해-분류분석-후-최적의-모델을-선정하고-그-이유를-작성하세요.\" data-toc-modified-id=\"titanic-데이터로-나이브베이즈-,-SVM,--인공신경망,-KNN-모델을-이용해-분류분석-후-최적의-모델을-선정하고-그-이유를-작성하세요.-2\"><span class=\"toc-item-num\">2&nbsp;&nbsp;</span>titanic 데이터로 나이브베이즈 , SVM,  인공신경망, KNN 모델을 이용해 분류분석 후 최적의 모델을 선정하고 그 이유를 작성하세요.</a></span></li></ul></div>"
   ]
  },
  {
   "cell_type": "markdown",
   "id": "a166830b",
   "metadata": {},
   "source": [
    "## Cars93 데이터로 SVM과 인공신경망 모델을 이용해 회귀분석 후 R2와 RMSE을 구하고 비교하세요 \n",
    "* 종속변수 y = Price \n",
    "* 독립변수 X = price제외 \n",
    "\n"
   ]
  },
  {
   "cell_type": "code",
   "execution_count": 2,
   "id": "b1196e8a",
   "metadata": {},
   "outputs": [],
   "source": [
    "import pandas as pd \n",
    "import numpy as np\n",
    "\n",
    "df = pd.read_csv('C:/adp/data/Cars93.csv')\n",
    "y = df['Price']\n",
    "X = df.drop(['Min.Price', 'Price', 'Max.Price'], axis=1)"
   ]
  },
  {
   "cell_type": "code",
   "execution_count": 3,
   "id": "41d96ed8",
   "metadata": {},
   "outputs": [
    {
     "data": {
      "text/html": [
       "<div>\n",
       "<style scoped>\n",
       "    .dataframe tbody tr th:only-of-type {\n",
       "        vertical-align: middle;\n",
       "    }\n",
       "\n",
       "    .dataframe tbody tr th {\n",
       "        vertical-align: top;\n",
       "    }\n",
       "\n",
       "    .dataframe thead th {\n",
       "        text-align: right;\n",
       "    }\n",
       "</style>\n",
       "<table border=\"1\" class=\"dataframe\">\n",
       "  <thead>\n",
       "    <tr style=\"text-align: right;\">\n",
       "      <th></th>\n",
       "      <th>Manufacturer</th>\n",
       "      <th>Model</th>\n",
       "      <th>Type</th>\n",
       "      <th>MPG.city</th>\n",
       "      <th>MPG.highway</th>\n",
       "      <th>AirBags</th>\n",
       "      <th>DriveTrain</th>\n",
       "      <th>Cylinders</th>\n",
       "      <th>EngineSize</th>\n",
       "      <th>Horsepower</th>\n",
       "      <th>...</th>\n",
       "      <th>Passengers</th>\n",
       "      <th>Length</th>\n",
       "      <th>Wheelbase</th>\n",
       "      <th>Width</th>\n",
       "      <th>Turn.circle</th>\n",
       "      <th>Rear.seat.room</th>\n",
       "      <th>Luggage.room</th>\n",
       "      <th>Weight</th>\n",
       "      <th>Origin</th>\n",
       "      <th>Make</th>\n",
       "    </tr>\n",
       "  </thead>\n",
       "  <tbody>\n",
       "    <tr>\n",
       "      <th>88</th>\n",
       "      <td>Volkswagen</td>\n",
       "      <td>Eurovan</td>\n",
       "      <td>Van</td>\n",
       "      <td>17</td>\n",
       "      <td>21</td>\n",
       "      <td>None</td>\n",
       "      <td>Front</td>\n",
       "      <td>5</td>\n",
       "      <td>2.5</td>\n",
       "      <td>109</td>\n",
       "      <td>...</td>\n",
       "      <td>7</td>\n",
       "      <td>187</td>\n",
       "      <td>115</td>\n",
       "      <td>72</td>\n",
       "      <td>38</td>\n",
       "      <td>34.0</td>\n",
       "      <td>-2147483648</td>\n",
       "      <td>3960</td>\n",
       "      <td>non-USA</td>\n",
       "      <td>Volkswagen Eurovan</td>\n",
       "    </tr>\n",
       "    <tr>\n",
       "      <th>89</th>\n",
       "      <td>Volkswagen</td>\n",
       "      <td>Passat</td>\n",
       "      <td>Compact</td>\n",
       "      <td>21</td>\n",
       "      <td>30</td>\n",
       "      <td>None</td>\n",
       "      <td>Front</td>\n",
       "      <td>4</td>\n",
       "      <td>2.0</td>\n",
       "      <td>134</td>\n",
       "      <td>...</td>\n",
       "      <td>5</td>\n",
       "      <td>180</td>\n",
       "      <td>103</td>\n",
       "      <td>67</td>\n",
       "      <td>35</td>\n",
       "      <td>31.5</td>\n",
       "      <td>14</td>\n",
       "      <td>2985</td>\n",
       "      <td>non-USA</td>\n",
       "      <td>Volkswagen Passat</td>\n",
       "    </tr>\n",
       "    <tr>\n",
       "      <th>90</th>\n",
       "      <td>Volkswagen</td>\n",
       "      <td>Corrado</td>\n",
       "      <td>Sporty</td>\n",
       "      <td>18</td>\n",
       "      <td>25</td>\n",
       "      <td>None</td>\n",
       "      <td>Front</td>\n",
       "      <td>6</td>\n",
       "      <td>2.8</td>\n",
       "      <td>178</td>\n",
       "      <td>...</td>\n",
       "      <td>4</td>\n",
       "      <td>159</td>\n",
       "      <td>97</td>\n",
       "      <td>66</td>\n",
       "      <td>36</td>\n",
       "      <td>26.0</td>\n",
       "      <td>15</td>\n",
       "      <td>2810</td>\n",
       "      <td>non-USA</td>\n",
       "      <td>Volkswagen Corrado</td>\n",
       "    </tr>\n",
       "    <tr>\n",
       "      <th>91</th>\n",
       "      <td>Volvo</td>\n",
       "      <td>240</td>\n",
       "      <td>Compact</td>\n",
       "      <td>21</td>\n",
       "      <td>28</td>\n",
       "      <td>Driver only</td>\n",
       "      <td>Rear</td>\n",
       "      <td>4</td>\n",
       "      <td>2.3</td>\n",
       "      <td>114</td>\n",
       "      <td>...</td>\n",
       "      <td>5</td>\n",
       "      <td>190</td>\n",
       "      <td>104</td>\n",
       "      <td>67</td>\n",
       "      <td>37</td>\n",
       "      <td>29.5</td>\n",
       "      <td>14</td>\n",
       "      <td>2985</td>\n",
       "      <td>non-USA</td>\n",
       "      <td>Volvo 240</td>\n",
       "    </tr>\n",
       "    <tr>\n",
       "      <th>92</th>\n",
       "      <td>Volvo</td>\n",
       "      <td>850</td>\n",
       "      <td>Midsize</td>\n",
       "      <td>20</td>\n",
       "      <td>28</td>\n",
       "      <td>Driver &amp; Passenger</td>\n",
       "      <td>Front</td>\n",
       "      <td>5</td>\n",
       "      <td>2.4</td>\n",
       "      <td>168</td>\n",
       "      <td>...</td>\n",
       "      <td>5</td>\n",
       "      <td>184</td>\n",
       "      <td>105</td>\n",
       "      <td>69</td>\n",
       "      <td>38</td>\n",
       "      <td>30.0</td>\n",
       "      <td>15</td>\n",
       "      <td>3245</td>\n",
       "      <td>non-USA</td>\n",
       "      <td>Volvo 850</td>\n",
       "    </tr>\n",
       "  </tbody>\n",
       "</table>\n",
       "<p>5 rows × 24 columns</p>\n",
       "</div>"
      ],
      "text/plain": [
       "   Manufacturer    Model     Type  MPG.city  MPG.highway             AirBags  \\\n",
       "88   Volkswagen  Eurovan      Van        17           21                None   \n",
       "89   Volkswagen   Passat  Compact        21           30                None   \n",
       "90   Volkswagen  Corrado   Sporty        18           25                None   \n",
       "91        Volvo      240  Compact        21           28         Driver only   \n",
       "92        Volvo      850  Midsize        20           28  Driver & Passenger   \n",
       "\n",
       "   DriveTrain Cylinders  EngineSize  Horsepower  ...  Passengers  Length  \\\n",
       "88      Front         5         2.5         109  ...           7     187   \n",
       "89      Front         4         2.0         134  ...           5     180   \n",
       "90      Front         6         2.8         178  ...           4     159   \n",
       "91       Rear         4         2.3         114  ...           5     190   \n",
       "92      Front         5         2.4         168  ...           5     184   \n",
       "\n",
       "   Wheelbase  Width  Turn.circle  Rear.seat.room  Luggage.room  Weight  \\\n",
       "88       115     72           38            34.0   -2147483648    3960   \n",
       "89       103     67           35            31.5            14    2985   \n",
       "90        97     66           36            26.0            15    2810   \n",
       "91       104     67           37            29.5            14    2985   \n",
       "92       105     69           38            30.0            15    3245   \n",
       "\n",
       "     Origin                Make  \n",
       "88  non-USA  Volkswagen Eurovan  \n",
       "89  non-USA   Volkswagen Passat  \n",
       "90  non-USA  Volkswagen Corrado  \n",
       "91  non-USA           Volvo 240  \n",
       "92  non-USA           Volvo 850  \n",
       "\n",
       "[5 rows x 24 columns]"
      ]
     },
     "execution_count": 3,
     "metadata": {},
     "output_type": "execute_result"
    }
   ],
   "source": [
    "X.tail()"
   ]
  },
  {
   "cell_type": "code",
   "execution_count": 4,
   "id": "6e9f1911",
   "metadata": {},
   "outputs": [
    {
     "name": "stdout",
     "output_type": "stream",
     "text": [
      "<class 'pandas.core.frame.DataFrame'>\n",
      "RangeIndex: 93 entries, 0 to 92\n",
      "Data columns (total 24 columns):\n",
      " #   Column              Non-Null Count  Dtype  \n",
      "---  ------              --------------  -----  \n",
      " 0   Manufacturer        93 non-null     object \n",
      " 1   Model               93 non-null     object \n",
      " 2   Type                93 non-null     object \n",
      " 3   MPG.city            93 non-null     int64  \n",
      " 4   MPG.highway         93 non-null     int64  \n",
      " 5   AirBags             93 non-null     object \n",
      " 6   DriveTrain          93 non-null     object \n",
      " 7   Cylinders           93 non-null     object \n",
      " 8   EngineSize          93 non-null     float64\n",
      " 9   Horsepower          93 non-null     int64  \n",
      " 10  RPM                 93 non-null     int64  \n",
      " 11  Rev.per.mile        93 non-null     int64  \n",
      " 12  Man.trans.avail     93 non-null     object \n",
      " 13  Fuel.tank.capacity  93 non-null     float64\n",
      " 14  Passengers          93 non-null     int64  \n",
      " 15  Length              93 non-null     int64  \n",
      " 16  Wheelbase           93 non-null     int64  \n",
      " 17  Width               93 non-null     int64  \n",
      " 18  Turn.circle         93 non-null     int64  \n",
      " 19  Rear.seat.room      91 non-null     float64\n",
      " 20  Luggage.room        93 non-null     int64  \n",
      " 21  Weight              93 non-null     int64  \n",
      " 22  Origin              93 non-null     object \n",
      " 23  Make                93 non-null     object \n",
      "dtypes: float64(3), int64(12), object(9)\n",
      "memory usage: 17.6+ KB\n"
     ]
    },
    {
     "data": {
      "text/html": [
       "<div>\n",
       "<style scoped>\n",
       "    .dataframe tbody tr th:only-of-type {\n",
       "        vertical-align: middle;\n",
       "    }\n",
       "\n",
       "    .dataframe tbody tr th {\n",
       "        vertical-align: top;\n",
       "    }\n",
       "\n",
       "    .dataframe thead th {\n",
       "        text-align: right;\n",
       "    }\n",
       "</style>\n",
       "<table border=\"1\" class=\"dataframe\">\n",
       "  <thead>\n",
       "    <tr style=\"text-align: right;\">\n",
       "      <th></th>\n",
       "    </tr>\n",
       "  </thead>\n",
       "  <tbody>\n",
       "  </tbody>\n",
       "</table>\n",
       "</div>"
      ],
      "text/plain": [
       "Empty DataFrame\n",
       "Columns: []\n",
       "Index: []"
      ]
     },
     "execution_count": 4,
     "metadata": {},
     "output_type": "execute_result"
    }
   ],
   "source": [
    "X_info = pd.DataFrame(X.info())\n",
    "X_info"
   ]
  },
  {
   "cell_type": "code",
   "execution_count": 5,
   "id": "b5a35726",
   "metadata": {},
   "outputs": [],
   "source": [
    "# 결측치 컬럼 삭제\n",
    "X = X.drop(['Rear.seat.room'], axis=1)"
   ]
  },
  {
   "cell_type": "code",
   "execution_count": 6,
   "id": "a814006f",
   "metadata": {},
   "outputs": [],
   "source": [
    "# 범주형변수 더미생성\n",
    "X = pd.get_dummies(X, columns=['Manufacturer', 'Model', 'Type', 'AirBags', 'DriveTrain', \n",
    "                                      'Cylinders', 'Man.trans.avail', 'Origin', 'Make'])"
   ]
  },
  {
   "cell_type": "code",
   "execution_count": 7,
   "id": "5f4c7540",
   "metadata": {},
   "outputs": [
    {
     "name": "stdout",
     "output_type": "stream",
     "text": [
      "<class 'pandas.core.frame.DataFrame'>\n",
      "RangeIndex: 93 entries, 0 to 92\n",
      "Columns: 254 entries, MPG.city to Make_Volvo 850\n",
      "dtypes: float64(2), int64(12), uint8(240)\n",
      "memory usage: 32.1 KB\n"
     ]
    }
   ],
   "source": [
    "X.info()"
   ]
  },
  {
   "cell_type": "code",
   "execution_count": 8,
   "id": "9cfa0e88",
   "metadata": {},
   "outputs": [],
   "source": [
    "# Hold-Out\n",
    "from sklearn.model_selection import train_test_split\n",
    "X_train, X_test, y_train, y_test = train_test_split(X,y,test_size=0.3, random_state=42)"
   ]
  },
  {
   "cell_type": "code",
   "execution_count": 9,
   "id": "2ad5559d",
   "metadata": {},
   "outputs": [],
   "source": [
    "# 표준화\n",
    "from sklearn.preprocessing import MinMaxScaler\n",
    "scaler = MinMaxScaler()\n",
    "\n",
    "X_train_scaled = scaler.fit_transform(X_train)\n",
    "X_test_scaled = scaler.transform(X_test)"
   ]
  },
  {
   "cell_type": "code",
   "execution_count": 10,
   "id": "c9142445",
   "metadata": {},
   "outputs": [
    {
     "name": "stdout",
     "output_type": "stream",
     "text": [
      "SVM\n",
      "0.21545079827826874\n",
      "0.2707163894237069\n",
      "mlp\n",
      "0.7071985777033156\n",
      "0.5537107361716775\n"
     ]
    },
    {
     "name": "stderr",
     "output_type": "stream",
     "text": [
      "C:\\Users\\신주현\\AppData\\Roaming\\Python\\Python37\\site-packages\\sklearn\\neural_network\\_multilayer_perceptron.py:696: ConvergenceWarning: Stochastic Optimizer: Maximum iterations (200) reached and the optimization hasn't converged yet.\n",
      "  ConvergenceWarning,\n"
     ]
    }
   ],
   "source": [
    "from sklearn.model_selection import GridSearchCV\n",
    "from sklearn.svm import SVR\n",
    "from sklearn.neural_network import MLPRegressor\n",
    "\n",
    "svm = SVR()\n",
    "mlp = MLPRegressor(random_state=42)\n",
    "svm.fit(X_train_scaled, y_train)\n",
    "mlp.fit(X_train_scaled, y_train)\n",
    "\n",
    "y_pred_svm = svm.predict(X_test_scaled)\n",
    "y_pred_mlp = mlp.predict(X_test_scaled)\n",
    "\n",
    "print(\"SVM\")\n",
    "print(svm.score(X_train_scaled, y_train))\n",
    "print(svm.score(X_test_scaled, y_test))\n",
    "print(\"mlp\")\n",
    "print(mlp.score(X_train_scaled, y_train))\n",
    "print(mlp.score(X_test_scaled, y_test))\n",
    "# 아무런 Hyper Parameter 튜닝을 하지 않고 머신러닝 모델 생성 후 R2값 확인 결과,\n",
    "# MLP 모델은 어느정도 학습률을 확인할 수 있으나, SVR 모델은 모델 설명력이 매우 낮아 Hyper Parameter 튜닝이 필요하다 판단됨"
   ]
  },
  {
   "cell_type": "code",
   "execution_count": 11,
   "id": "bb7ce4eb",
   "metadata": {},
   "outputs": [
    {
     "name": "stdout",
     "output_type": "stream",
     "text": [
      "53.7270956643657\n",
      "32.8786025408358\n",
      "SVM RSME :  7.329876920137589\n",
      "MLP RMSE :  5.73398661847373\n"
     ]
    }
   ],
   "source": [
    "#RMSE값 확인\n",
    "from sklearn.metrics import mean_squared_error\n",
    "mse_svm = mean_squared_error(y_test, y_pred_svm)\n",
    "mse_mlp = mean_squared_error(y_test, y_pred_mlp)\n",
    "\n",
    "rmse_svm = np.sqrt(mse_svm)\n",
    "rmse_mlp = np.sqrt(mse_mlp)\n",
    "\n",
    "print(mse_svm)\n",
    "print(mse_mlp)\n",
    "print(\"SVM RSME : \", rmse_svm)\n",
    "print(\"MLP RMSE : \", rmse_mlp)\n",
    "# Hyper Parameter 튜닝을 하지 않은 상태에서 RMSE값 확인 결과,\n",
    "# SVR 모델은 평균과 약 7만큼, MLP는 평균과 약 5만큼의 차이가 있는 것으로 확인된다.\n",
    "# 2개 모델 비교시 MLP의 오차가 더 적기에 약간은 더 나은 성능을 보인다고 할 수 있다. RMSE가 적을수록 성능이 좋음"
   ]
  },
  {
   "cell_type": "code",
   "execution_count": 15,
   "id": "2bebbc7e",
   "metadata": {},
   "outputs": [
    {
     "name": "stdout",
     "output_type": "stream",
     "text": [
      "SVR(C=300, gamma=0.03)\n",
      "MLPRegressor(activation='tanh', hidden_layer_sizes=70, max_iter=1000,\n",
      "             solver='sgd')\n"
     ]
    }
   ],
   "source": [
    "import warnings\n",
    "warnings.filterwarnings('ignore')\n",
    "# param_svm = {'C' : [1,3,10,30,100], 'gamma' : [0.03,0.1,0.3,1,3]}\n",
    "param_svm = [\n",
    "    {'kernel': ['linear'], 'C': [10, 30, 100, 300, 1000]},\n",
    "    {'kernel': ['rbf'], 'C': [1, 3, 10, 30, 100, 300],\n",
    "                        'gamma': [0.03, 0.1, 0.3, 1.0]},\n",
    "]\n",
    "# parma_mlp = {'hidden_layer_sizes' : [40,50,64,72]}\n",
    "parma_mlp = {'hidden_layer_sizes':[10,30,50,70,100],\n",
    "              'solver': ['sgd', 'adam'],  # sgd 경사하강법, adam 확률적기울기기반\n",
    "              'activation' : ['tanh','relu'],\n",
    "             'max_iter' : [1000]}\n",
    "\n",
    "grid_svm = GridSearchCV(SVR(), param_svm, cv = 5)\n",
    "grid_mlp = GridSearchCV(MLPRegressor(), parma_mlp, cv = 5)\n",
    "\n",
    "grid_svm.fit(X_train_scaled, y_train)\n",
    "grid_mlp.fit(X_train_scaled, y_train)\n",
    "\n",
    "print(grid_svm.best_estimator_)\n",
    "print(grid_mlp.best_estimator_)"
   ]
  },
  {
   "cell_type": "code",
   "execution_count": 20,
   "id": "8001bb8d",
   "metadata": {},
   "outputs": [
    {
     "name": "stdout",
     "output_type": "stream",
     "text": [
      "SVR(C=100, gamma=0.04)\n",
      "MLPRegressor(hidden_layer_sizes=400, max_iter=1000, solver='sgd')\n"
     ]
    }
   ],
   "source": [
    "# GridSearch를 통해 확인된 Best Estimators가 각각 끝값을 가리키기에, 범위를 조정하여 재탐색 시행\n",
    "param_svm2 = [\n",
    "    {'kernel': ['linear'], 'C': [250, 300, 350]},\n",
    "    {'kernel': ['rbf'], 'C': [1, 3, 10, 30, 100, 300],\n",
    "                        'gamma': [0.003, 0.004, 0.005, 0.006, 0.007]},\n",
    "]\n",
    "\n",
    "parma_mlp2 = {'hidden_layer_sizes':[300, 350, 400, 450, 500],\n",
    "              'solver': ['sgd', 'adam'],  # sgd 경사하강법, adam 확률적기울기기반\n",
    "              'activation' : ['tanh', 'relu'],\n",
    "             'max_iter' : [1000]}\n",
    "\n",
    "grid_svm = GridSearchCV(SVR(), param_svm2, cv = 5)\n",
    "grid_mlp = GridSearchCV(MLPRegressor(), parma_mlp2, cv = 5)\n",
    "\n",
    "grid_svm.fit(X_train_scaled, y_train)\n",
    "grid_mlp.fit(X_train_scaled, y_train)\n",
    "\n",
    "print(grid_svm.best_estimator_)\n",
    "print(grid_mlp.best_estimator_)"
   ]
  },
  {
   "cell_type": "code",
   "execution_count": 21,
   "id": "ce08cfbe",
   "metadata": {},
   "outputs": [
    {
     "name": "stdout",
     "output_type": "stream",
     "text": [
      "0.680703004015735\n",
      "0.6410285427605863\n"
     ]
    }
   ],
   "source": [
    "# 베스트 모델을 테스트 모델에 적용\n",
    "y_pred_svm = grid_svm.best_estimator_.predict(X_test_scaled)\n",
    "y_pred_mlp = grid_mlp.best_estimator_.predict(X_test_scaled)\n",
    "\n",
    "print(grid_svm.score(X_test_scaled, y_test))\n",
    "print(grid_mlp.score(X_test_scaled, y_test))\n",
    "\n",
    "# Hyper Parameter 튜닝을 통해 SVM의 R2값은 기존 26.7% -> 68.0%로 크게 향상되었으며,\n",
    "# MLP 역시 기존 55.3% -> 64.1%로 향상된 것을 확인할 수 있다."
   ]
  },
  {
   "cell_type": "code",
   "execution_count": 22,
   "id": "abb8d04a",
   "metadata": {},
   "outputs": [
    {
     "name": "stdout",
     "output_type": "stream",
     "text": [
      "SVM RMSE :  4.850046157040086\n",
      "MLP RMSE :  5.142548715217548\n"
     ]
    }
   ],
   "source": [
    "# RMSE\n",
    "mse_grid_svm = mean_squared_error(y_test, y_pred_svm)\n",
    "mse_grid_mlp = mean_squared_error(y_test, y_pred_mlp)\n",
    "\n",
    "rmse_grid_svm = np.sqrt(mse_grid_svm)\n",
    "rmse_grid_mlp = np.sqrt(mse_grid_mlp)\n",
    "\n",
    "print(\"SVM RMSE : \", rmse_grid_svm)\n",
    "print(\"MLP RMSE : \", rmse_grid_mlp)"
   ]
  },
  {
   "cell_type": "code",
   "execution_count": null,
   "id": "45a015fc",
   "metadata": {},
   "outputs": [],
   "source": [
    "# GridSearch를 통해 Best Estimator를 찾아낸 모델을 통해 예측값을 도출하고 각각의 값에 대해 RMSE값을 확인 결과\n",
    "# SVM : 7.4 -> 4.8 / MLP : 5.73 -> 5.14로 RMSE값이 상당히 개선된 것을 확인할 수 있다.\n",
    "# 2개 모델의 최종 RMSE값은 거의 근사하다 판단되나,\n",
    "# 정확도를 평가 해야 한다면 SVM 모델을, 성능을 우선시 한다면 MLP 모델을 할용할 것이다.\n",
    "# 왜냐하면 SVM 모델은 여러 개의 조합 테스트가 필요하여 학습 속도가 느리기 때문이다.\n",
    "# MLP 역시 속도가 빠른 모델은 아니나, 현재 주어진 데이터를 통해 학습한 체감으로는 SVR이 더 느리다 판단된다."
   ]
  },
  {
   "cell_type": "markdown",
   "id": "6e9b856f",
   "metadata": {},
   "source": [
    "## titanic 데이터로 나이브베이즈 , SVM,  인공신경망, KNN 모델을 이용해 분류분석 후 최적의 모델을 선정하고 그 이유를 작성하세요. \n",
    "* 종속변수 y = Price \n",
    "* 독립변수 X = price제외 \n",
    "\n"
   ]
  },
  {
   "cell_type": "code",
   "execution_count": 155,
   "id": "4f345704",
   "metadata": {},
   "outputs": [
    {
     "name": "stdout",
     "output_type": "stream",
     "text": [
      "<class 'pandas.core.frame.DataFrame'>\n",
      "RangeIndex: 891 entries, 0 to 890\n",
      "Data columns (total 15 columns):\n",
      " #   Column       Non-Null Count  Dtype  \n",
      "---  ------       --------------  -----  \n",
      " 0   survived     891 non-null    int64  \n",
      " 1   pclass       891 non-null    int64  \n",
      " 2   sex          891 non-null    object \n",
      " 3   age          714 non-null    float64\n",
      " 4   sibsp        891 non-null    int64  \n",
      " 5   parch        891 non-null    int64  \n",
      " 6   fare         891 non-null    float64\n",
      " 7   embarked     889 non-null    object \n",
      " 8   class        891 non-null    object \n",
      " 9   who          891 non-null    object \n",
      " 10  adult_male   891 non-null    bool   \n",
      " 11  deck         203 non-null    object \n",
      " 12  embark_town  889 non-null    object \n",
      " 13  alive        891 non-null    object \n",
      " 14  alone        891 non-null    bool   \n",
      "dtypes: bool(2), float64(2), int64(4), object(7)\n",
      "memory usage: 92.4+ KB\n"
     ]
    }
   ],
   "source": [
    "import pandas as pd \n",
    "\n",
    "df_t = pd.read_csv('C:/adp/data/titanic.csv')\n",
    "df_t.info()"
   ]
  },
  {
   "cell_type": "code",
   "execution_count": 157,
   "id": "849d2eb8",
   "metadata": {},
   "outputs": [
    {
     "ename": "KeyError",
     "evalue": "\"['pclass' 'who' 'adult_male' 'deck' 'embark_town' 'alive' 'alone' 'age'] not found in axis\"",
     "output_type": "error",
     "traceback": [
      "\u001b[1;31m---------------------------------------------------------------------------\u001b[0m",
      "\u001b[1;31mKeyError\u001b[0m                                  Traceback (most recent call last)",
      "\u001b[1;32m~\\AppData\\Local\\Temp\\ipykernel_20820\\3396303016.py\u001b[0m in \u001b[0;36m<module>\u001b[1;34m\u001b[0m\n\u001b[0;32m      1\u001b[0m \u001b[1;31m# 결측치가 많은 컬럼 삭제\u001b[0m\u001b[1;33m\u001b[0m\u001b[1;33m\u001b[0m\u001b[1;33m\u001b[0m\u001b[0m\n\u001b[0;32m      2\u001b[0m \u001b[1;31m# df_t = df_t.drop(['age', 'deck'], axis=1)\u001b[0m\u001b[1;33m\u001b[0m\u001b[1;33m\u001b[0m\u001b[1;33m\u001b[0m\u001b[0m\n\u001b[1;32m----> 3\u001b[1;33m \u001b[0mdf_t\u001b[0m \u001b[1;33m=\u001b[0m \u001b[0mdf_t\u001b[0m\u001b[1;33m.\u001b[0m\u001b[0mdrop\u001b[0m\u001b[1;33m(\u001b[0m\u001b[1;33m[\u001b[0m\u001b[1;34m'pclass'\u001b[0m\u001b[1;33m,\u001b[0m \u001b[1;34m'who'\u001b[0m\u001b[1;33m,\u001b[0m \u001b[1;34m'adult_male'\u001b[0m\u001b[1;33m,\u001b[0m \u001b[1;34m'deck'\u001b[0m\u001b[1;33m,\u001b[0m \u001b[1;34m'embark_town'\u001b[0m\u001b[1;33m,\u001b[0m \u001b[1;34m'alive'\u001b[0m\u001b[1;33m,\u001b[0m \u001b[1;34m'alone'\u001b[0m\u001b[1;33m,\u001b[0m \u001b[1;34m'age'\u001b[0m\u001b[1;33m]\u001b[0m\u001b[1;33m,\u001b[0m \u001b[0maxis\u001b[0m\u001b[1;33m=\u001b[0m\u001b[1;36m1\u001b[0m\u001b[1;33m)\u001b[0m\u001b[1;33m\u001b[0m\u001b[1;33m\u001b[0m\u001b[0m\n\u001b[0m\u001b[0;32m      4\u001b[0m \u001b[1;33m\u001b[0m\u001b[0m\n\u001b[0;32m      5\u001b[0m \u001b[1;33m\u001b[0m\u001b[0m\n",
      "\u001b[1;32m~\\AppData\\Roaming\\Python\\Python37\\site-packages\\pandas\\util\\_decorators.py\u001b[0m in \u001b[0;36mwrapper\u001b[1;34m(*args, **kwargs)\u001b[0m\n\u001b[0;32m    309\u001b[0m                     \u001b[0mstacklevel\u001b[0m\u001b[1;33m=\u001b[0m\u001b[0mstacklevel\u001b[0m\u001b[1;33m,\u001b[0m\u001b[1;33m\u001b[0m\u001b[1;33m\u001b[0m\u001b[0m\n\u001b[0;32m    310\u001b[0m                 )\n\u001b[1;32m--> 311\u001b[1;33m             \u001b[1;32mreturn\u001b[0m \u001b[0mfunc\u001b[0m\u001b[1;33m(\u001b[0m\u001b[1;33m*\u001b[0m\u001b[0margs\u001b[0m\u001b[1;33m,\u001b[0m \u001b[1;33m**\u001b[0m\u001b[0mkwargs\u001b[0m\u001b[1;33m)\u001b[0m\u001b[1;33m\u001b[0m\u001b[1;33m\u001b[0m\u001b[0m\n\u001b[0m\u001b[0;32m    312\u001b[0m \u001b[1;33m\u001b[0m\u001b[0m\n\u001b[0;32m    313\u001b[0m         \u001b[1;32mreturn\u001b[0m \u001b[0mwrapper\u001b[0m\u001b[1;33m\u001b[0m\u001b[1;33m\u001b[0m\u001b[0m\n",
      "\u001b[1;32m~\\AppData\\Roaming\\Python\\Python37\\site-packages\\pandas\\core\\frame.py\u001b[0m in \u001b[0;36mdrop\u001b[1;34m(self, labels, axis, index, columns, level, inplace, errors)\u001b[0m\n\u001b[0;32m   4911\u001b[0m             \u001b[0mlevel\u001b[0m\u001b[1;33m=\u001b[0m\u001b[0mlevel\u001b[0m\u001b[1;33m,\u001b[0m\u001b[1;33m\u001b[0m\u001b[1;33m\u001b[0m\u001b[0m\n\u001b[0;32m   4912\u001b[0m             \u001b[0minplace\u001b[0m\u001b[1;33m=\u001b[0m\u001b[0minplace\u001b[0m\u001b[1;33m,\u001b[0m\u001b[1;33m\u001b[0m\u001b[1;33m\u001b[0m\u001b[0m\n\u001b[1;32m-> 4913\u001b[1;33m             \u001b[0merrors\u001b[0m\u001b[1;33m=\u001b[0m\u001b[0merrors\u001b[0m\u001b[1;33m,\u001b[0m\u001b[1;33m\u001b[0m\u001b[1;33m\u001b[0m\u001b[0m\n\u001b[0m\u001b[0;32m   4914\u001b[0m         )\n\u001b[0;32m   4915\u001b[0m \u001b[1;33m\u001b[0m\u001b[0m\n",
      "\u001b[1;32m~\\AppData\\Roaming\\Python\\Python37\\site-packages\\pandas\\core\\generic.py\u001b[0m in \u001b[0;36mdrop\u001b[1;34m(self, labels, axis, index, columns, level, inplace, errors)\u001b[0m\n\u001b[0;32m   4148\u001b[0m         \u001b[1;32mfor\u001b[0m \u001b[0maxis\u001b[0m\u001b[1;33m,\u001b[0m \u001b[0mlabels\u001b[0m \u001b[1;32min\u001b[0m \u001b[0maxes\u001b[0m\u001b[1;33m.\u001b[0m\u001b[0mitems\u001b[0m\u001b[1;33m(\u001b[0m\u001b[1;33m)\u001b[0m\u001b[1;33m:\u001b[0m\u001b[1;33m\u001b[0m\u001b[1;33m\u001b[0m\u001b[0m\n\u001b[0;32m   4149\u001b[0m             \u001b[1;32mif\u001b[0m \u001b[0mlabels\u001b[0m \u001b[1;32mis\u001b[0m \u001b[1;32mnot\u001b[0m \u001b[1;32mNone\u001b[0m\u001b[1;33m:\u001b[0m\u001b[1;33m\u001b[0m\u001b[1;33m\u001b[0m\u001b[0m\n\u001b[1;32m-> 4150\u001b[1;33m                 \u001b[0mobj\u001b[0m \u001b[1;33m=\u001b[0m \u001b[0mobj\u001b[0m\u001b[1;33m.\u001b[0m\u001b[0m_drop_axis\u001b[0m\u001b[1;33m(\u001b[0m\u001b[0mlabels\u001b[0m\u001b[1;33m,\u001b[0m \u001b[0maxis\u001b[0m\u001b[1;33m,\u001b[0m \u001b[0mlevel\u001b[0m\u001b[1;33m=\u001b[0m\u001b[0mlevel\u001b[0m\u001b[1;33m,\u001b[0m \u001b[0merrors\u001b[0m\u001b[1;33m=\u001b[0m\u001b[0merrors\u001b[0m\u001b[1;33m)\u001b[0m\u001b[1;33m\u001b[0m\u001b[1;33m\u001b[0m\u001b[0m\n\u001b[0m\u001b[0;32m   4151\u001b[0m \u001b[1;33m\u001b[0m\u001b[0m\n\u001b[0;32m   4152\u001b[0m         \u001b[1;32mif\u001b[0m \u001b[0minplace\u001b[0m\u001b[1;33m:\u001b[0m\u001b[1;33m\u001b[0m\u001b[1;33m\u001b[0m\u001b[0m\n",
      "\u001b[1;32m~\\AppData\\Roaming\\Python\\Python37\\site-packages\\pandas\\core\\generic.py\u001b[0m in \u001b[0;36m_drop_axis\u001b[1;34m(self, labels, axis, level, errors)\u001b[0m\n\u001b[0;32m   4183\u001b[0m                 \u001b[0mnew_axis\u001b[0m \u001b[1;33m=\u001b[0m \u001b[0maxis\u001b[0m\u001b[1;33m.\u001b[0m\u001b[0mdrop\u001b[0m\u001b[1;33m(\u001b[0m\u001b[0mlabels\u001b[0m\u001b[1;33m,\u001b[0m \u001b[0mlevel\u001b[0m\u001b[1;33m=\u001b[0m\u001b[0mlevel\u001b[0m\u001b[1;33m,\u001b[0m \u001b[0merrors\u001b[0m\u001b[1;33m=\u001b[0m\u001b[0merrors\u001b[0m\u001b[1;33m)\u001b[0m\u001b[1;33m\u001b[0m\u001b[1;33m\u001b[0m\u001b[0m\n\u001b[0;32m   4184\u001b[0m             \u001b[1;32melse\u001b[0m\u001b[1;33m:\u001b[0m\u001b[1;33m\u001b[0m\u001b[1;33m\u001b[0m\u001b[0m\n\u001b[1;32m-> 4185\u001b[1;33m                 \u001b[0mnew_axis\u001b[0m \u001b[1;33m=\u001b[0m \u001b[0maxis\u001b[0m\u001b[1;33m.\u001b[0m\u001b[0mdrop\u001b[0m\u001b[1;33m(\u001b[0m\u001b[0mlabels\u001b[0m\u001b[1;33m,\u001b[0m \u001b[0merrors\u001b[0m\u001b[1;33m=\u001b[0m\u001b[0merrors\u001b[0m\u001b[1;33m)\u001b[0m\u001b[1;33m\u001b[0m\u001b[1;33m\u001b[0m\u001b[0m\n\u001b[0m\u001b[0;32m   4186\u001b[0m             \u001b[0mresult\u001b[0m \u001b[1;33m=\u001b[0m \u001b[0mself\u001b[0m\u001b[1;33m.\u001b[0m\u001b[0mreindex\u001b[0m\u001b[1;33m(\u001b[0m\u001b[1;33m**\u001b[0m\u001b[1;33m{\u001b[0m\u001b[0maxis_name\u001b[0m\u001b[1;33m:\u001b[0m \u001b[0mnew_axis\u001b[0m\u001b[1;33m}\u001b[0m\u001b[1;33m)\u001b[0m\u001b[1;33m\u001b[0m\u001b[1;33m\u001b[0m\u001b[0m\n\u001b[0;32m   4187\u001b[0m \u001b[1;33m\u001b[0m\u001b[0m\n",
      "\u001b[1;32m~\\AppData\\Roaming\\Python\\Python37\\site-packages\\pandas\\core\\indexes\\base.py\u001b[0m in \u001b[0;36mdrop\u001b[1;34m(self, labels, errors)\u001b[0m\n\u001b[0;32m   6015\u001b[0m         \u001b[1;32mif\u001b[0m \u001b[0mmask\u001b[0m\u001b[1;33m.\u001b[0m\u001b[0many\u001b[0m\u001b[1;33m(\u001b[0m\u001b[1;33m)\u001b[0m\u001b[1;33m:\u001b[0m\u001b[1;33m\u001b[0m\u001b[1;33m\u001b[0m\u001b[0m\n\u001b[0;32m   6016\u001b[0m             \u001b[1;32mif\u001b[0m \u001b[0merrors\u001b[0m \u001b[1;33m!=\u001b[0m \u001b[1;34m\"ignore\"\u001b[0m\u001b[1;33m:\u001b[0m\u001b[1;33m\u001b[0m\u001b[1;33m\u001b[0m\u001b[0m\n\u001b[1;32m-> 6017\u001b[1;33m                 \u001b[1;32mraise\u001b[0m \u001b[0mKeyError\u001b[0m\u001b[1;33m(\u001b[0m\u001b[1;34mf\"{labels[mask]} not found in axis\"\u001b[0m\u001b[1;33m)\u001b[0m\u001b[1;33m\u001b[0m\u001b[1;33m\u001b[0m\u001b[0m\n\u001b[0m\u001b[0;32m   6018\u001b[0m             \u001b[0mindexer\u001b[0m \u001b[1;33m=\u001b[0m \u001b[0mindexer\u001b[0m\u001b[1;33m[\u001b[0m\u001b[1;33m~\u001b[0m\u001b[0mmask\u001b[0m\u001b[1;33m]\u001b[0m\u001b[1;33m\u001b[0m\u001b[1;33m\u001b[0m\u001b[0m\n\u001b[0;32m   6019\u001b[0m         \u001b[1;32mreturn\u001b[0m \u001b[0mself\u001b[0m\u001b[1;33m.\u001b[0m\u001b[0mdelete\u001b[0m\u001b[1;33m(\u001b[0m\u001b[0mindexer\u001b[0m\u001b[1;33m)\u001b[0m\u001b[1;33m\u001b[0m\u001b[1;33m\u001b[0m\u001b[0m\n",
      "\u001b[1;31mKeyError\u001b[0m: \"['pclass' 'who' 'adult_male' 'deck' 'embark_town' 'alive' 'alone' 'age'] not found in axis\""
     ]
    }
   ],
   "source": [
    "# 결측치가 많은 컬럼 삭제\n",
    "# df_t = df_t.drop(['age', 'deck'], axis=1)\n",
    "df_t = df_t.drop(['pclass', 'who', 'adult_male', 'deck', 'embark_town', 'alive', 'alone', 'age'], axis=1)\n",
    "\n",
    "\n",
    "# 동일 데이터 삭제\n",
    "# df_t = df_t.drop(['embark_town'], axis=1)\n"
   ]
  },
  {
   "cell_type": "code",
   "execution_count": 158,
   "id": "bd3522a6",
   "metadata": {},
   "outputs": [],
   "source": [
    "# 결측치 로우 삭제\n",
    "df_t = df_t[df_t['embarked'].isna() == False]"
   ]
  },
  {
   "cell_type": "code",
   "execution_count": 159,
   "id": "1d36110e",
   "metadata": {},
   "outputs": [
    {
     "name": "stdout",
     "output_type": "stream",
     "text": [
      "<class 'pandas.core.frame.DataFrame'>\n",
      "Int64Index: 889 entries, 0 to 890\n",
      "Data columns (total 7 columns):\n",
      " #   Column    Non-Null Count  Dtype  \n",
      "---  ------    --------------  -----  \n",
      " 0   survived  889 non-null    int64  \n",
      " 1   sex       889 non-null    object \n",
      " 2   sibsp     889 non-null    int64  \n",
      " 3   parch     889 non-null    int64  \n",
      " 4   fare      889 non-null    float64\n",
      " 5   embarked  889 non-null    object \n",
      " 6   class     889 non-null    object \n",
      "dtypes: float64(1), int64(3), object(3)\n",
      "memory usage: 55.6+ KB\n"
     ]
    }
   ],
   "source": [
    "df_t.info()"
   ]
  },
  {
   "cell_type": "code",
   "execution_count": 160,
   "id": "eddbc488",
   "metadata": {},
   "outputs": [
    {
     "name": "stdout",
     "output_type": "stream",
     "text": [
      "<class 'pandas.core.frame.DataFrame'>\n",
      "Int64Index: 889 entries, 0 to 890\n",
      "Data columns (total 12 columns):\n",
      " #   Column        Non-Null Count  Dtype  \n",
      "---  ------        --------------  -----  \n",
      " 0   survived      889 non-null    int64  \n",
      " 1   sibsp         889 non-null    int64  \n",
      " 2   parch         889 non-null    int64  \n",
      " 3   fare          889 non-null    float64\n",
      " 4   sex_female    889 non-null    uint8  \n",
      " 5   sex_male      889 non-null    uint8  \n",
      " 6   embarked_C    889 non-null    uint8  \n",
      " 7   embarked_Q    889 non-null    uint8  \n",
      " 8   embarked_S    889 non-null    uint8  \n",
      " 9   class_First   889 non-null    uint8  \n",
      " 10  class_Second  889 non-null    uint8  \n",
      " 11  class_Third   889 non-null    uint8  \n",
      "dtypes: float64(1), int64(3), uint8(8)\n",
      "memory usage: 41.7 KB\n"
     ]
    }
   ],
   "source": [
    "# 범주형 변수에 대한 One-hot Encoding 시행\n",
    "data = pd.get_dummies(df_t, columns=['sex', 'embarked', 'class'])\n",
    "data.info()"
   ]
  },
  {
   "cell_type": "code",
   "execution_count": 161,
   "id": "7cdb459b",
   "metadata": {},
   "outputs": [],
   "source": [
    "X = data.drop('survived', axis = 1)\n",
    "y = data['survived']"
   ]
  },
  {
   "cell_type": "code",
   "execution_count": 162,
   "id": "59a9de9d",
   "metadata": {},
   "outputs": [],
   "source": [
    "# Hold-out\n",
    "from sklearn.model_selection import train_test_split\n",
    "X_train, X_test, y_train, y_test = train_test_split(X, y, stratify=y, test_size=0.3, random_state=42)"
   ]
  },
  {
   "cell_type": "code",
   "execution_count": 163,
   "id": "ab2796bb",
   "metadata": {},
   "outputs": [],
   "source": [
    "X_train2 = X_train[['sibsp', 'parch', 'fare']]\n",
    "X_test2 = X_test[['sibsp', 'parch', 'fare']]"
   ]
  },
  {
   "cell_type": "code",
   "execution_count": 165,
   "id": "162f21ab",
   "metadata": {},
   "outputs": [],
   "source": [
    "X_train3 = X_train.drop(['sibsp', 'parch', 'fare'], axis = 1)\n",
    "X_test3 = X_test.drop(['sibsp', 'parch', 'fare'], axis = 1)\n",
    "X_train3 = X_train3.reset_index(drop = True)\n",
    "X_test3 = X_test3.reset_index(drop = True)"
   ]
  },
  {
   "cell_type": "code",
   "execution_count": 166,
   "id": "ed1537dd",
   "metadata": {},
   "outputs": [],
   "source": [
    "from sklearn.preprocessing import StandardScaler\n",
    "scaler = StandardScaler()\n",
    "\n",
    "X_train_scaled = scaler.fit_transform(X_train2)\n",
    "X_test_scaled = scaler.transform(X_test2)"
   ]
  },
  {
   "cell_type": "code",
   "execution_count": 167,
   "id": "2e7d76bd",
   "metadata": {},
   "outputs": [],
   "source": [
    "X_train_f = pd.merge(pd.DataFrame(X_train_scaled, columns=X_train2.columns), X_train3\n",
    "       ,left_index=True, right_index=True\n",
    "       , how='left')\n",
    "\n",
    "X_test_f = pd.merge(pd.DataFrame(X_test_scaled, columns=X_train2.columns), X_test3\n",
    "       ,left_index=True, right_index=True\n",
    "       , how='left')"
   ]
  },
  {
   "cell_type": "code",
   "execution_count": 168,
   "id": "2433760f",
   "metadata": {},
   "outputs": [
    {
     "name": "stdout",
     "output_type": "stream",
     "text": [
      "Naive Nays\n",
      "scale 전 Train Set :  0.7813504823151125\n",
      "scale 전 Test Set :  0.7902621722846442\n",
      "scale 후 Train Set :  0.7813504823151125\n",
      "scale 후 Test Set :  0.7902621722846442\n",
      "SVC\n",
      "scale 전 Train Set :  0.6913183279742765\n",
      "scale 전 Test Set :  0.6554307116104869\n",
      "scale 후 Train Set :  0.8247588424437299\n",
      "scale 후 Test Set :  0.7940074906367042\n",
      "MLP\n",
      "scale 전 Train Set :  0.8102893890675241\n",
      "scale 전 Test Set :  0.7827715355805244\n",
      "scale 후 Train Set :  0.8311897106109325\n",
      "scale 후 Test Set :  0.7790262172284644\n",
      "KNN\n",
      "scale 전 Train Set :  0.8263665594855305\n",
      "scale 전 Test Set :  0.7415730337078652\n",
      "scale 후 Train Set :  0.8585209003215434\n",
      "scale 후 Test Set :  0.7340823970037453\n"
     ]
    }
   ],
   "source": [
    "from sklearn.naive_bayes import GaussianNB\n",
    "from sklearn.svm import SVC\n",
    "from sklearn.neural_network import MLPClassifier\n",
    "from sklearn.neighbors import KNeighborsClassifier\n",
    "\n",
    "nb = GaussianNB()\n",
    "svc = SVC(probability=True)\n",
    "mlp = MLPClassifier()\n",
    "knn = KNeighborsClassifier()\n",
    "\n",
    "nb.fit(X_train, y_train)\n",
    "print(\"Naive Nays\")\n",
    "print(\"scale 전 Train Set : \", nb.score(X_train, y_train))\n",
    "print(\"scale 전 Test Set : \", nb.score(X_test, y_test))\n",
    "\n",
    "nb.fit(X_train_f, y_train)\n",
    "print(\"scale 후 Train Set : \", nb.score(X_train_f, y_train))\n",
    "print(\"scale 후 Test Set : \", nb.score(X_test_f, y_test))\n",
    "\n",
    "svc.fit(X_train, y_train)\n",
    "print(\"SVC\")\n",
    "print(\"scale 전 Train Set : \", svc.score(X_train, y_train))\n",
    "print(\"scale 전 Test Set : \", svc.score(X_test, y_test))\n",
    "\n",
    "svc.fit(X_train_f, y_train)\n",
    "print(\"scale 후 Train Set : \", svc.score(X_train_f, y_train))\n",
    "print(\"scale 후 Test Set : \", svc.score(X_test_f, y_test))\n",
    "\n",
    "mlp.fit(X_train, y_train)\n",
    "print(\"MLP\")\n",
    "print(\"scale 전 Train Set : \", mlp.score(X_train, y_train))\n",
    "print(\"scale 전 Test Set : \", mlp.score(X_test, y_test))\n",
    "\n",
    "mlp.fit(X_train_f, y_train)\n",
    "print(\"scale 후 Train Set : \", mlp.score(X_train_f, y_train))\n",
    "print(\"scale 후 Test Set : \", mlp.score(X_test_f, y_test))\n",
    "\n",
    "knn.fit(X_train, y_train)\n",
    "print(\"KNN\")\n",
    "print(\"scale 전 Train Set : \", knn.score(X_train, y_train))\n",
    "print(\"scale 전 Test Set : \", knn.score(X_test, y_test))\n",
    "\n",
    "knn.fit(X_train_f, y_train)\n",
    "print(\"scale 후 Train Set : \", knn.score(X_train_f, y_train))\n",
    "print(\"scale 후 Test Set : \", knn.score(X_test_f, y_test))"
   ]
  },
  {
   "cell_type": "code",
   "execution_count": null,
   "id": "fdf88ca8",
   "metadata": {},
   "outputs": [],
   "source": [
    "# hyper parameter 튜닝을 하지 않은 채 scaling을 한 Set과 그렇지 않은 Set에 대해 각각 R2 Score를 살펴보았다.\n",
    "# 4개 모델 모두 Train Set에 비해 Test Set의 설명력이 더 낫게 나오는 이상 현상이 발생하였다. -> hyper parameter 튜닝 필요\n",
    "# Naive Bays의 경우 scaing 전후 차이가 없음 / SVC, MLP, KNN의 경우 scaling 전이 더 나은 설명력을 보였다.\n",
    "# 그 중 SVC의 모델 설명력이 79.4%로 가장 좋은 설명력을 보였다."
   ]
  },
  {
   "cell_type": "code",
   "execution_count": 169,
   "id": "85b644f0",
   "metadata": {},
   "outputs": [
    {
     "data": {
      "text/plain": [
       "array([0.61736334, 0.38263666])"
      ]
     },
     "execution_count": 169,
     "metadata": {},
     "output_type": "execute_result"
    }
   ],
   "source": [
    "nb.class_prior_\n",
    "# Gaussian NB의 경우 사전 확률은 사망일 경우 61.7%, 생존할 경우 38.3%로 세팅 되어 있음이 확인된다."
   ]
  },
  {
   "cell_type": "code",
   "execution_count": 170,
   "id": "bfe7d2e2",
   "metadata": {},
   "outputs": [],
   "source": [
    "y_pred_nb = nb.predict(X_test)\n",
    "y_pred_svc = svc.predict(X_test)\n",
    "y_pred_mlp = mlp.predict(X_test)\n",
    "y_pred_knn = knn.predict(X_test)"
   ]
  },
  {
   "cell_type": "code",
   "execution_count": 172,
   "id": "eb6a1408",
   "metadata": {},
   "outputs": [
    {
     "name": "stdout",
     "output_type": "stream",
     "text": [
      "Naive Bays\n",
      "         Pred[0]  Pred[1]\n",
      "True[0]        5      160\n",
      "True[1]        0      102\n",
      "\n",
      "\n",
      "SVC\n",
      "         Pred[0]  Pred[1]\n",
      "True[0]       18      147\n",
      "True[1]        0      102\n",
      "\n",
      "\n",
      "mlp\n",
      "         Pred[0]  Pred[1]\n",
      "True[0]      151       14\n",
      "True[1]       68       34\n",
      "\n",
      "\n",
      "knn\n",
      "         Pred[0]  Pred[1]\n",
      "True[0]       59      106\n",
      "True[1]        8       94\n"
     ]
    }
   ],
   "source": [
    "from sklearn.metrics import confusion_matrix, plot_roc_curve, roc_auc_score\n",
    "print('Naive Bays')\n",
    "print(pd.DataFrame(confusion_matrix(y_test, y_pred_nb), index = ['True[0]', 'True[1]'], columns=['Pred[0]', 'Pred[1]']))\n",
    "print(\"\\n\")\n",
    "print('SVC')\n",
    "print(pd.DataFrame(confusion_matrix(y_test, y_pred_svc), index = ['True[0]', 'True[1]'], columns=['Pred[0]', 'Pred[1]']))\n",
    "print(\"\\n\")\n",
    "print('mlp')\n",
    "print(pd.DataFrame(confusion_matrix(y_test, y_pred_mlp), index = ['True[0]', 'True[1]'], columns=['Pred[0]', 'Pred[1]']))\n",
    "print(\"\\n\")\n",
    "print('knn')\n",
    "print(pd.DataFrame(confusion_matrix(y_test, y_pred_knn), index = ['True[0]', 'True[1]'], columns=['Pred[0]', 'Pred[1]']))"
   ]
  },
  {
   "cell_type": "code",
   "execution_count": 173,
   "id": "3bbf06f5",
   "metadata": {},
   "outputs": [
    {
     "name": "stdout",
     "output_type": "stream",
     "text": [
      "NB :  0.5151515151515151\n",
      "SVC :  0.49842543077837204\n",
      "mlp :  0.5993166963755199\n",
      "knn :  0.7544266191325014\n"
     ]
    }
   ],
   "source": [
    "print(\"NB : \", roc_auc_score(y_test, nb.predict_proba(X_test)[:,1]))\n",
    "print(\"SVC : \", roc_auc_score(y_test, svc.predict_proba(X_test)[:,1]))\n",
    "print(\"mlp : \", roc_auc_score(y_test, mlp.predict_proba(X_test)[:,1]))\n",
    "print(\"knn : \", roc_auc_score(y_test, knn.predict_proba(X_test)[:,1]))\n",
    "# roc_auc_score 확인 결과 knn 모델은 좋은 score를 보임\n",
    "# 그외 hyper parameter 튜닝 필요"
   ]
  },
  {
   "cell_type": "code",
   "execution_count": 174,
   "id": "80e05cc1",
   "metadata": {},
   "outputs": [],
   "source": [
    "import warnings\n",
    "warnings.filterwarnings('ignore')\n",
    "#param_nb = priors=[0.5,0.5]\n",
    "param_svc = {'C' : [250,300,350,400], 'gamma' : [0.001,0.005,0.1]}\n",
    "param_mlp = {'hidden_layer_sizes' : [300,320,350,400]}\n",
    "param_knn = {'n_neighbors' : range(5,20,1)}\n",
    "\n",
    "\n",
    "grid_nb = GaussianNB(priors=[0.5,0.5])\n",
    "grid_svc = GridSearchCV(SVC(probability=True), param_svm, cv = 5)\n",
    "grid_mlp = GridSearchCV(MLPClassifier(), param_mlp, cv = 5)\n",
    "grid_knn = GridSearchCV(KNeighborsClassifier(), param_knn, cv = 5)\n",
    "\n",
    "grid_nb.fit(X_train_f, y_train)\n",
    "grid_svc.fit(X_train_f, y_train)\n",
    "grid_mlp.fit(X_train_f, y_train) \n",
    "grid_knn.fit(X_train_f, y_train)\n",
    "\n",
    "#print(grid_nb.best_estimator_)\n",
    "print(grid_svc.best_estimator_)\n",
    "print(grid_mlp.best_estimator_)\n",
    "print(grid_knn.best_estimator_)"
   ]
  },
  {
   "cell_type": "code",
   "execution_count": null,
   "id": "ee3b3df5",
   "metadata": {},
   "outputs": [],
   "source": [
    "y_pred_nb = grid_nb.predict(X_test)\n",
    "y_pred_svc = grid_svc.best_estimator_.predict(X_test)\n",
    "y_pred_mlp = grid_mlp.best_estimator_.predict(X_test)\n",
    "y_pred_knn = grid_knn.best_estimator_.predict(X_test)"
   ]
  },
  {
   "cell_type": "code",
   "execution_count": null,
   "id": "64518653",
   "metadata": {},
   "outputs": [],
   "source": [
    "from sklearn.metrics import confusion_matrix, plot_roc_curve, roc_auc_score\n",
    "print('Naive Bays')\n",
    "print(pd.DataFrame(confusion_matrix(y_test, y_pred_nb), index = ['True[0]', 'True[1]'], columns=['Pred[0]', 'Pred[1]']))\n",
    "print(\"\\n\")\n",
    "print('SVC')\n",
    "print(pd.DataFrame(confusion_matrix(y_test, y_pred_svc), index = ['True[0]', 'True[1]'], columns=['Pred[0]', 'Pred[1]']))\n",
    "print(\"\\n\")\n",
    "print('mlp')\n",
    "print(pd.DataFrame(confusion_matrix(y_test, y_pred_mlp), index = ['True[0]', 'True[1]'], columns=['Pred[0]', 'Pred[1]']))\n",
    "print(\"\\n\")\n",
    "print('knn')\n",
    "print(pd.DataFrame(confusion_matrix(y_test, y_pred_knn), index = ['True[0]', 'True[1]'], columns=['Pred[0]', 'Pred[1]']))"
   ]
  },
  {
   "cell_type": "code",
   "execution_count": null,
   "id": "5e093868",
   "metadata": {},
   "outputs": [],
   "source": [
    "print(\"NB : \", roc_auc_score(y_test, grid_nb.predict_proba(X_test)[:,1]))\n",
    "print(\"SVC : \", roc_auc_score(y_test, grid_svc.best_estimator_.predict_proba(X_test)[:,1]))\n",
    "print(\"mlp : \", roc_auc_score(y_test, grid_mlp.best_estimator_.predict_proba(X_test)[:,1]))\n",
    "print(\"knn : \", roc_auc_score(y_test, grid_knn.best_estimator_.predict_proba(X_test)[:,1]))"
   ]
  },
  {
   "cell_type": "code",
   "execution_count": null,
   "id": "baa78786",
   "metadata": {},
   "outputs": [],
   "source": [
    "plot_roc_curve(grid_nb, X_test, y_test)\n",
    "plot_roc_curve(grid_svc.best_estimator_, X_test, y_test)\n",
    "plot_roc_curve(grid_mlp.best_estimator_, X_test, y_test)\n",
    "plot_roc_curve(grid_knn.best_estimator_, X_test, y_test)"
   ]
  },
  {
   "cell_type": "code",
   "execution_count": null,
   "id": "9d165b22",
   "metadata": {},
   "outputs": [],
   "source": [
    "# GaussinNB의 경우 사전 확률을 50:50으로 설정하고,\n",
    "# 나머지 모델들의 hypter parameter 튜닝 결과 기존보다 예측력이 더 나아졌음이 확인된다.\n",
    "# roc_auc_score 역시 크게 향상되었다.\n",
    "# GaussianNB : 0.5 -> 0.84 / SVC : 0.49 -> 0.82 / MLP : 0.67 -> 0.85 / KNN : 0.68 -> 0.70\n",
    "\n",
    "# 4개 모델 중 정확도를 중시 한다면 roc_auc_score가 가장 높게 나온 MLPClassifier 모델을 사용할 수 있으며,\n",
    "# 속도를 원한다면 아래 모델 중 정확도는 떨어지지만 속도가 가장 빠른 KNN을 활용할 수 있다고 판단된다.\n",
    "# 하지만 KNN의 roc_auc_score가 너무 낮게 나왔기에, 현재의 상황에서는 MLPClassifier가 가장 최적의 모델이라 판단된다."
   ]
  },
  {
   "cell_type": "code",
   "execution_count": null,
   "id": "90264906",
   "metadata": {},
   "outputs": [],
   "source": []
  },
  {
   "cell_type": "code",
   "execution_count": null,
   "id": "de579560",
   "metadata": {},
   "outputs": [],
   "source": []
  },
  {
   "cell_type": "code",
   "execution_count": null,
   "id": "199639a6",
   "metadata": {},
   "outputs": [],
   "source": []
  },
  {
   "cell_type": "code",
   "execution_count": null,
   "id": "aab1247d",
   "metadata": {},
   "outputs": [],
   "source": []
  }
 ],
 "metadata": {
  "kernelspec": {
   "display_name": "Python 3",
   "language": "python",
   "name": "python3"
  },
  "language_info": {
   "codemirror_mode": {
    "name": "ipython",
    "version": 3
   },
   "file_extension": ".py",
   "mimetype": "text/x-python",
   "name": "python",
   "nbconvert_exporter": "python",
   "pygments_lexer": "ipython3",
   "version": "3.7.9"
  },
  "toc": {
   "base_numbering": 1,
   "nav_menu": {},
   "number_sections": true,
   "sideBar": true,
   "skip_h1_title": false,
   "title_cell": "Table of Contents",
   "title_sidebar": "Contents",
   "toc_cell": true,
   "toc_position": {},
   "toc_section_display": true,
   "toc_window_display": true
  },
  "vscode": {
   "interpreter": {
    "hash": "5aa634c14859627405404137fecabd2d911e45a844039ce454abb52cf9f696dc"
   }
  }
 },
 "nbformat": 4,
 "nbformat_minor": 5
}
