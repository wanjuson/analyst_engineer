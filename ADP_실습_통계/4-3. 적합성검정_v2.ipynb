{
 "cells": [
  {
   "cell_type": "markdown",
   "id": "6d8c197b",
   "metadata": {},
   "source": [
    "# 4.1.3.2 적합성검정 !"
   ]
  },
  {
   "cell_type": "code",
   "execution_count": null,
   "id": "5a3bace2",
   "metadata": {},
   "outputs": [],
   "source": [
    "# 실험에서 얻어진 관측값들이 예상한 이론과 일치하는지 아닌지를 검정하는 방법\n",
    "# 관측값들이 어떠한 이론적 분포를 따르고 있는지 관찰할 수 있음\n",
    "# 모집단 분포에 대한 가정이 옳게 돼었는지 관측자료와 비교하여 검정\n",
    "# 검정 통계량\n",
    "# - 카이제곱 통계량 값이 큰 경우 : 관찰도수와 기대도수의 차이가 크고 적합도가 낮음(일차한다고 볼 수 없음)\n",
    "# - 카이제곱 통계량 값이 작은 경우 : 관찰도수와 기대도수의 차이가 작고 적합도가 높음(일차한다고 볼 수 있음)"
   ]
  },
  {
   "cell_type": "code",
   "execution_count": 2,
   "id": "a3783875",
   "metadata": {},
   "outputs": [
    {
     "data": {
      "text/html": [
       "<div>\n",
       "<style scoped>\n",
       "    .dataframe tbody tr th:only-of-type {\n",
       "        vertical-align: middle;\n",
       "    }\n",
       "\n",
       "    .dataframe tbody tr th {\n",
       "        vertical-align: top;\n",
       "    }\n",
       "\n",
       "    .dataframe thead th {\n",
       "        text-align: right;\n",
       "    }\n",
       "</style>\n",
       "<table border=\"1\" class=\"dataframe\">\n",
       "  <thead>\n",
       "    <tr style=\"text-align: right;\">\n",
       "      <th></th>\n",
       "      <th>survived</th>\n",
       "      <th>pclass</th>\n",
       "      <th>sex</th>\n",
       "      <th>age</th>\n",
       "      <th>sibsp</th>\n",
       "      <th>parch</th>\n",
       "      <th>fare</th>\n",
       "      <th>embarked</th>\n",
       "      <th>class</th>\n",
       "      <th>adult_male</th>\n",
       "      <th>embark_town</th>\n",
       "    </tr>\n",
       "  </thead>\n",
       "  <tbody>\n",
       "    <tr>\n",
       "      <th>886</th>\n",
       "      <td>0</td>\n",
       "      <td>2</td>\n",
       "      <td>male</td>\n",
       "      <td>27.0</td>\n",
       "      <td>0</td>\n",
       "      <td>0</td>\n",
       "      <td>13.00</td>\n",
       "      <td>S</td>\n",
       "      <td>Second</td>\n",
       "      <td>True</td>\n",
       "      <td>Southampton</td>\n",
       "    </tr>\n",
       "    <tr>\n",
       "      <th>887</th>\n",
       "      <td>1</td>\n",
       "      <td>1</td>\n",
       "      <td>female</td>\n",
       "      <td>19.0</td>\n",
       "      <td>0</td>\n",
       "      <td>0</td>\n",
       "      <td>30.00</td>\n",
       "      <td>S</td>\n",
       "      <td>First</td>\n",
       "      <td>False</td>\n",
       "      <td>Southampton</td>\n",
       "    </tr>\n",
       "    <tr>\n",
       "      <th>888</th>\n",
       "      <td>0</td>\n",
       "      <td>3</td>\n",
       "      <td>female</td>\n",
       "      <td>NaN</td>\n",
       "      <td>1</td>\n",
       "      <td>2</td>\n",
       "      <td>23.45</td>\n",
       "      <td>S</td>\n",
       "      <td>Third</td>\n",
       "      <td>False</td>\n",
       "      <td>Southampton</td>\n",
       "    </tr>\n",
       "    <tr>\n",
       "      <th>889</th>\n",
       "      <td>1</td>\n",
       "      <td>1</td>\n",
       "      <td>male</td>\n",
       "      <td>26.0</td>\n",
       "      <td>0</td>\n",
       "      <td>0</td>\n",
       "      <td>30.00</td>\n",
       "      <td>C</td>\n",
       "      <td>First</td>\n",
       "      <td>True</td>\n",
       "      <td>Cherbourg</td>\n",
       "    </tr>\n",
       "    <tr>\n",
       "      <th>890</th>\n",
       "      <td>0</td>\n",
       "      <td>3</td>\n",
       "      <td>male</td>\n",
       "      <td>32.0</td>\n",
       "      <td>0</td>\n",
       "      <td>0</td>\n",
       "      <td>7.75</td>\n",
       "      <td>Q</td>\n",
       "      <td>Third</td>\n",
       "      <td>True</td>\n",
       "      <td>Queenstown</td>\n",
       "    </tr>\n",
       "  </tbody>\n",
       "</table>\n",
       "</div>"
      ],
      "text/plain": [
       "     survived  pclass     sex   age  sibsp  parch   fare embarked   class  \\\n",
       "886         0       2    male  27.0      0      0  13.00        S  Second   \n",
       "887         1       1  female  19.0      0      0  30.00        S   First   \n",
       "888         0       3  female   NaN      1      2  23.45        S   Third   \n",
       "889         1       1    male  26.0      0      0  30.00        C   First   \n",
       "890         0       3    male  32.0      0      0   7.75        Q   Third   \n",
       "\n",
       "     adult_male  embark_town  \n",
       "886        True  Southampton  \n",
       "887       False  Southampton  \n",
       "888       False  Southampton  \n",
       "889        True    Cherbourg  \n",
       "890        True   Queenstown  "
      ]
     },
     "execution_count": 2,
     "metadata": {},
     "output_type": "execute_result"
    }
   ],
   "source": [
    "import pandas as pd\n",
    "# 데이터 불러오기\n",
    "df_t = pd.read_csv(\"C:/Users/A202112006/Desktop/py/data/titanic.csv\")\n",
    "df_t.tail()"
   ]
  },
  {
   "cell_type": "code",
   "execution_count": 3,
   "id": "a3d104e2",
   "metadata": {},
   "outputs": [
    {
     "name": "stdout",
     "output_type": "stream",
     "text": [
      "<class 'pandas.core.frame.DataFrame'>\n",
      "RangeIndex: 891 entries, 0 to 890\n",
      "Data columns (total 11 columns):\n",
      " #   Column       Non-Null Count  Dtype  \n",
      "---  ------       --------------  -----  \n",
      " 0   survived     891 non-null    int64  \n",
      " 1   pclass       891 non-null    int64  \n",
      " 2   sex          891 non-null    object \n",
      " 3   age          714 non-null    float64\n",
      " 4   sibsp        891 non-null    int64  \n",
      " 5   parch        891 non-null    int64  \n",
      " 6   fare         891 non-null    float64\n",
      " 7   embarked     889 non-null    object \n",
      " 8   class        891 non-null    object \n",
      " 9   adult_male   891 non-null    bool   \n",
      " 10  embark_town  889 non-null    object \n",
      "dtypes: bool(1), float64(2), int64(4), object(4)\n",
      "memory usage: 70.6+ KB\n"
     ]
    }
   ],
   "source": [
    "df_t.info()"
   ]
  },
  {
   "cell_type": "code",
   "execution_count": 19,
   "id": "9e5c95fa",
   "metadata": {
    "scrolled": true
   },
   "outputs": [
    {
     "data": {
      "text/plain": [
       "male      577\n",
       "female    314\n",
       "Name: sex, dtype: int64"
      ]
     },
     "execution_count": 19,
     "metadata": {},
     "output_type": "execute_result"
    }
   ],
   "source": [
    "table = df_t.sex.value_counts()\n",
    "table"
   ]
  },
  {
   "cell_type": "code",
   "execution_count": 18,
   "id": "c2fe442e",
   "metadata": {},
   "outputs": [
    {
     "data": {
      "text/plain": [
       "445.5"
      ]
     },
     "execution_count": 18,
     "metadata": {},
     "output_type": "execute_result"
    }
   ],
   "source": [
    "len(df_t['sex'])/2"
   ]
  },
  {
   "cell_type": "code",
   "execution_count": null,
   "id": "49d3d023",
   "metadata": {},
   "outputs": [],
   "source": [
    "# pip install scipy"
   ]
  },
  {
   "cell_type": "code",
   "execution_count": 15,
   "id": "6524263e",
   "metadata": {},
   "outputs": [],
   "source": [
    "from scipy.stats import chisquare\n"
   ]
  },
  {
   "cell_type": "code",
   "execution_count": 20,
   "id": "58f00a0b",
   "metadata": {},
   "outputs": [
    {
     "name": "stdout",
     "output_type": "stream",
     "text": [
      "적합도 검정 :|n Power_divergenceResult(statistic=77.63075196408529, pvalue=1.2422095313910336e-18)\n"
     ]
    }
   ],
   "source": [
    "# 적합도 검정 수행\n",
    "from scipy.stats import chisquare\n",
    "chi = chisquare(table, f_exp =[445.5, 445.5])\n",
    "print('적합도 검정 :|n', chi)\n",
    "# P-value가 0.0 이므로 유의수준 0.05보다 작으므로 귀무가설을 기각하고 대립가설을 지지함.\n",
    "# 50%:50%가 아님"
   ]
  },
  {
   "cell_type": "code",
   "execution_count": null,
   "id": "bb045540",
   "metadata": {},
   "outputs": [
    {
     "data": {
      "text/plain": [
       "'2.8.0'"
      ]
     },
     "execution_count": 12,
     "metadata": {},
     "output_type": "execute_result"
    }
   ],
   "source": [
    "## 4.1.3.3 독립성 검정\n",
    "# - 모집단이 두 개의 변수 A,B에 의해 범주화되었을 때, 이 두 변수들 사이의 관계가 독립인지 아닌지 검정하는 것\n",
    "# 교차표를 활용함\n"
   ]
  },
  {
   "cell_type": "code",
   "execution_count": null,
   "id": "8b078228",
   "metadata": {
    "scrolled": false
   },
   "outputs": [],
   "source": [
    "## 예제\n",
    "# titanic 데이터에서 좌석등급(class)와 생존 여부(survived)가 서로 독립인지 확인하기 위해 분할표를 생성하고\n",
    "# 아래 가설에 대한 독립성 검정을 수행하라.\n",
    "# - 귀무가설 : class와 survived는 독립이다. \n",
    "# - 귀무가설 : class와 survived는 독립이 아니다."
   ]
  },
  {
   "cell_type": "code",
   "execution_count": 22,
   "id": "d4e871d4",
   "metadata": {},
   "outputs": [
    {
     "data": {
      "text/html": [
       "<div>\n",
       "<style scoped>\n",
       "    .dataframe tbody tr th:only-of-type {\n",
       "        vertical-align: middle;\n",
       "    }\n",
       "\n",
       "    .dataframe tbody tr th {\n",
       "        vertical-align: top;\n",
       "    }\n",
       "\n",
       "    .dataframe thead th {\n",
       "        text-align: right;\n",
       "    }\n",
       "</style>\n",
       "<table border=\"1\" class=\"dataframe\">\n",
       "  <thead>\n",
       "    <tr style=\"text-align: right;\">\n",
       "      <th>survived</th>\n",
       "      <th>0</th>\n",
       "      <th>1</th>\n",
       "    </tr>\n",
       "    <tr>\n",
       "      <th>class</th>\n",
       "      <th></th>\n",
       "      <th></th>\n",
       "    </tr>\n",
       "  </thead>\n",
       "  <tbody>\n",
       "    <tr>\n",
       "      <th>First</th>\n",
       "      <td>80</td>\n",
       "      <td>136</td>\n",
       "    </tr>\n",
       "    <tr>\n",
       "      <th>Second</th>\n",
       "      <td>97</td>\n",
       "      <td>87</td>\n",
       "    </tr>\n",
       "    <tr>\n",
       "      <th>Third</th>\n",
       "      <td>372</td>\n",
       "      <td>119</td>\n",
       "    </tr>\n",
       "  </tbody>\n",
       "</table>\n",
       "</div>"
      ],
      "text/plain": [
       "survived    0    1\n",
       "class             \n",
       "First      80  136\n",
       "Second     97   87\n",
       "Third     372  119"
      ]
     },
     "execution_count": 22,
     "metadata": {},
     "output_type": "execute_result"
    }
   ],
   "source": [
    "# 변수 분할표 생성\n",
    "table = pd.crosstab(df_t['class'], df_t['survived'])\n",
    "table\n"
   ]
  },
  {
   "cell_type": "code",
   "execution_count": 23,
   "id": "23dc245a",
   "metadata": {},
   "outputs": [
    {
     "name": "stdout",
     "output_type": "stream",
     "text": [
      "Statistic 102.88898875696056\n",
      "P-value 4.549251711298793e-23\n",
      "df 2\n",
      "expect [[133.09090909  82.90909091]\n",
      " [113.37373737  70.62626263]\n",
      " [302.53535354 188.46464646]]\n"
     ]
    }
   ],
   "source": [
    "# 카이제곱 검정을 통한 독립성 검정 수행\n",
    "from scipy.stats import chi2_contingency\n",
    "chi, p, df, expect = chi2_contingency(table)\n",
    "\n",
    "print('Statistic', chi)\n",
    "print('P-value', p)\n",
    "print('df', df) # 자유도 (nrow-1) * (ncol-1)\n",
    "print('expect', expect)\n",
    "\n",
    "# P-value가 유의수준 0.05보다 작으므로 귀무가설을 기각\n",
    "# 좌석 등급과 생존은 독립이 아니라고 할 수 있다.\n",
    "\n"
   ]
  },
  {
   "cell_type": "code",
   "execution_count": null,
   "id": "70a44278",
   "metadata": {},
   "outputs": [],
   "source": [
    "## 4.1.3.4 동질성 검정\n",
    "# 모집단이 임의의 변수에 따라 R대의 속성으로 범주화되었을 때,\n",
    "# R개의 부분 모집단에서 추출한 표본이 C개의 범주화된 집단의 분포가 서로 동일한지 검정\n",
    "# 교차표를 활용하여 계산법과 검증법은 모두 독립성 검정과 같은 방법으로 진행됨.\n",
    "\n",
    "# 귀무가설 : TV프로그램의 선호도는 성별에 관계없이 동일하다.\n",
    "# 대립가설 : TV프로그램의 선호도는 성별에 관계없이 동일하지 않다.\n",
    "\n",
    "# 귀무가설 : class 분포는 survived에 관계없이 동일하다.\n",
    "# 대립가설 : class 분포는 survived에 관계없이 동일하지 않다.\n"
   ]
  },
  {
   "cell_type": "code",
   "execution_count": null,
   "id": "2f05ba46",
   "metadata": {},
   "outputs": [],
   "source": [
    "chi, p, df, expect = chi2_contingency(table)"
   ]
  },
  {
   "cell_type": "code",
   "execution_count": null,
   "id": "02153af3",
   "metadata": {},
   "outputs": [],
   "source": []
  },
  {
   "cell_type": "code",
   "execution_count": null,
   "id": "9d431d79",
   "metadata": {},
   "outputs": [],
   "source": []
  },
  {
   "cell_type": "code",
   "execution_count": null,
   "id": "73c498e0",
   "metadata": {},
   "outputs": [],
   "source": []
  },
  {
   "cell_type": "code",
   "execution_count": null,
   "id": "bbc8e2c9",
   "metadata": {},
   "outputs": [],
   "source": []
  },
  {
   "cell_type": "code",
   "execution_count": null,
   "id": "c734c54c",
   "metadata": {},
   "outputs": [],
   "source": []
  },
  {
   "cell_type": "code",
   "execution_count": null,
   "id": "a1263053",
   "metadata": {},
   "outputs": [],
   "source": []
  }
 ],
 "metadata": {
  "kernelspec": {
   "display_name": "Python 3.8.9 64-bit",
   "language": "python",
   "name": "python3"
  },
  "language_info": {
   "codemirror_mode": {
    "name": "ipython",
    "version": 3
   },
   "file_extension": ".py",
   "mimetype": "text/x-python",
   "name": "python",
   "nbconvert_exporter": "python",
   "pygments_lexer": "ipython3",
   "version": "3.8.9"
  },
  "toc": {
   "base_numbering": "5.5",
   "nav_menu": {},
   "number_sections": true,
   "sideBar": true,
   "skip_h1_title": false,
   "title_cell": "Table of Contents",
   "title_sidebar": "Contents",
   "toc_cell": false,
   "toc_position": {},
   "toc_section_display": true,
   "toc_window_display": false
  },
  "vscode": {
   "interpreter": {
    "hash": "570feb405e2e27c949193ac68f46852414290d515b0ba6e5d90d076ed2284471"
   }
  }
 },
 "nbformat": 4,
 "nbformat_minor": 5
}
