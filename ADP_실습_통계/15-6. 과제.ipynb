{
 "cells": [
  {
   "cell_type": "markdown",
   "id": "5de06522",
   "metadata": {
    "toc": true
   },
   "source": [
    "<h1>Table of Contents<span class=\"tocSkip\"></span></h1>\n",
    "<div class=\"toc\"><ul class=\"toc-item\"><li><span><a href=\"#Cars93-데이터로-SVM과-인공신경망-모델을-이용해-회귀분석-후-R2와-RMSE을-구하고-비교하세요\" data-toc-modified-id=\"Cars93-데이터로-SVM과-인공신경망-모델을-이용해-회귀분석-후-R2와-RMSE을-구하고-비교하세요-1\"><span class=\"toc-item-num\">1&nbsp;&nbsp;</span>Cars93 데이터로 SVM과 인공신경망 모델을 이용해 회귀분석 후 R2와 RMSE을 구하고 비교하세요</a></span></li><li><span><a href=\"#titanic-데이터로-나이브베이즈-,-SVM,--인공신경망,-KNN-모델을-이용해-분류분석-후-최적의-모델을-선정하고-그-이유를-작성하세요.\" data-toc-modified-id=\"titanic-데이터로-나이브베이즈-,-SVM,--인공신경망,-KNN-모델을-이용해-분류분석-후-최적의-모델을-선정하고-그-이유를-작성하세요.-2\"><span class=\"toc-item-num\">2&nbsp;&nbsp;</span>titanic 데이터로 나이브베이즈 , SVM,  인공신경망, KNN 모델을 이용해 분류분석 후 최적의 모델을 선정하고 그 이유를 작성하세요.</a></span></li></ul></div>"
   ]
  },
  {
   "cell_type": "markdown",
   "id": "a166830b",
   "metadata": {},
   "source": [
    "## Cars93 데이터로 SVM과 인공신경망 모델을 이용해 회귀분석 후 R2와 RMSE을 구하고 비교하세요 \n",
    "* 종속변수 y = Price \n",
    "* 독립변수 X = price제외 \n",
    "\n"
   ]
  },
  {
   "cell_type": "code",
   "execution_count": 6,
   "id": "b1196e8a",
   "metadata": {},
   "outputs": [],
   "source": [
    "import pandas as pd \n",
    "\n",
    "df = pd.read_csv('../data/Cars93.csv')\n",
    "y = df['Price']\n",
    "X = df.drop(['Min.Price','Price','Max.Price'],axis=1)"
   ]
  },
  {
   "cell_type": "code",
   "execution_count": null,
   "id": "2ad5559d",
   "metadata": {},
   "outputs": [],
   "source": []
  },
  {
   "cell_type": "markdown",
   "id": "6e9b856f",
   "metadata": {},
   "source": [
    "## titanic 데이터로 나이브베이즈 , SVM,  인공신경망, KNN 모델을 이용해 분류분석 후 최적의 모델을 선정하고 그 이유를 작성하세요. \n",
    "* 종속변수 y = Price \n",
    "* 독립변수 X = price제외 \n",
    "\n"
   ]
  },
  {
   "cell_type": "code",
   "execution_count": 8,
   "id": "4f345704",
   "metadata": {},
   "outputs": [],
   "source": [
    "import pandas as pd \n",
    "\n",
    "df_t = pd.read_csv('../data/titanic.csv')\n",
    "y = df_t['survived']\n",
    "X = df_t.drop(['survived'],axis=1)"
   ]
  },
  {
   "cell_type": "code",
   "execution_count": null,
   "id": "ed1537dd",
   "metadata": {},
   "outputs": [],
   "source": []
  }
 ],
 "metadata": {
  "kernelspec": {
   "display_name": "Python 3 (ipykernel)",
   "language": "python",
   "name": "python3"
  },
  "language_info": {
   "codemirror_mode": {
    "name": "ipython",
    "version": 3
   },
   "file_extension": ".py",
   "mimetype": "text/x-python",
   "name": "python",
   "nbconvert_exporter": "python",
   "pygments_lexer": "ipython3",
   "version": "3.7.10"
  },
  "toc": {
   "base_numbering": 1,
   "nav_menu": {},
   "number_sections": true,
   "sideBar": true,
   "skip_h1_title": false,
   "title_cell": "Table of Contents",
   "title_sidebar": "Contents",
   "toc_cell": true,
   "toc_position": {},
   "toc_section_display": true,
   "toc_window_display": true
  }
 },
 "nbformat": 4,
 "nbformat_minor": 5
}
