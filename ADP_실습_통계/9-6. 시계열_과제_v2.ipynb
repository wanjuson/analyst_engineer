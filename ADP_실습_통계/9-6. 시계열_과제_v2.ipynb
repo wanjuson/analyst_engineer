{
 "cells": [
  {
   "cell_type": "markdown",
   "id": "bdd0e03f",
   "metadata": {
    "toc": true
   },
   "source": [
    "<h1>Table of Contents<span class=\"tocSkip\"></span></h1>\n",
    "<div class=\"toc\"><ul class=\"toc-item\"><li><span><a href=\"#아래의-데이터를--8:2로-나누세요\" data-toc-modified-id=\"아래의-데이터를--8:2로-나누세요-1\"><span class=\"toc-item-num\">1&nbsp;&nbsp;</span>아래의 데이터를  8:2로 나누세요</a></span></li><li><span><a href=\"#Training-data-set을-가지고-SARIMA-모델의-최적의-매개변수를-구하고-test-set을-예측해보세요\" data-toc-modified-id=\"Training-data-set을-가지고-SARIMA-모델의-최적의-매개변수를-구하고-test-set을-예측해보세요-2\"><span class=\"toc-item-num\">2&nbsp;&nbsp;</span>Training data set을 가지고 SARIMA 모델의 최적의 매개변수를 구하고 test set을 예측해보세요</a></span></li><li><span><a href=\"#모델을-가지고-정확도와-데이터의-특징을-해석해보세요.\" data-toc-modified-id=\"모델을-가지고-정확도와-데이터의-특징을-해석해보세요.-3\"><span class=\"toc-item-num\">3&nbsp;&nbsp;</span>모델을 가지고 정확도와 데이터의 특징을 해석해보세요.</a></span></li></ul></div>"
   ]
  },
  {
   "cell_type": "markdown",
   "id": "d86f365e",
   "metadata": {},
   "source": [
    "# 아래의 데이터를  8:2로 나누세요 \n",
    "# Training data set을 가지고 SARIMA 모델의 최적의 매개변수를 구하고 test set을 예측해보세요 \n",
    "# 모델을 가지고 정확도와 데이터의 특징을 해석해보세요. "
   ]
  },
  {
   "cell_type": "code",
   "execution_count": 1,
   "id": "f76c591f",
   "metadata": {},
   "outputs": [],
   "source": [
    "import pandas as pd \n",
    "df = pd.read_csv('../data/sarima_data.csv')"
   ]
  },
  {
   "cell_type": "code",
   "execution_count": 2,
   "id": "3b623cb0",
   "metadata": {},
   "outputs": [
    {
     "data": {
      "text/html": [
       "<div>\n",
       "<style scoped>\n",
       "    .dataframe tbody tr th:only-of-type {\n",
       "        vertical-align: middle;\n",
       "    }\n",
       "\n",
       "    .dataframe tbody tr th {\n",
       "        vertical-align: top;\n",
       "    }\n",
       "\n",
       "    .dataframe thead th {\n",
       "        text-align: right;\n",
       "    }\n",
       "</style>\n",
       "<table border=\"1\" class=\"dataframe\">\n",
       "  <thead>\n",
       "    <tr style=\"text-align: right;\">\n",
       "      <th></th>\n",
       "      <th>date</th>\n",
       "      <th>sales</th>\n",
       "    </tr>\n",
       "  </thead>\n",
       "  <tbody>\n",
       "    <tr>\n",
       "      <th>0</th>\n",
       "      <td>1964-01-01</td>\n",
       "      <td>2815</td>\n",
       "    </tr>\n",
       "    <tr>\n",
       "      <th>1</th>\n",
       "      <td>1964-02-01</td>\n",
       "      <td>2672</td>\n",
       "    </tr>\n",
       "    <tr>\n",
       "      <th>2</th>\n",
       "      <td>1964-03-01</td>\n",
       "      <td>2755</td>\n",
       "    </tr>\n",
       "    <tr>\n",
       "      <th>3</th>\n",
       "      <td>1964-04-01</td>\n",
       "      <td>2721</td>\n",
       "    </tr>\n",
       "    <tr>\n",
       "      <th>4</th>\n",
       "      <td>1964-05-01</td>\n",
       "      <td>2946</td>\n",
       "    </tr>\n",
       "    <tr>\n",
       "      <th>...</th>\n",
       "      <td>...</td>\n",
       "      <td>...</td>\n",
       "    </tr>\n",
       "    <tr>\n",
       "      <th>100</th>\n",
       "      <td>1972-05-01</td>\n",
       "      <td>4618</td>\n",
       "    </tr>\n",
       "    <tr>\n",
       "      <th>101</th>\n",
       "      <td>1972-06-01</td>\n",
       "      <td>5312</td>\n",
       "    </tr>\n",
       "    <tr>\n",
       "      <th>102</th>\n",
       "      <td>1972-07-01</td>\n",
       "      <td>4298</td>\n",
       "    </tr>\n",
       "    <tr>\n",
       "      <th>103</th>\n",
       "      <td>1972-08-01</td>\n",
       "      <td>1413</td>\n",
       "    </tr>\n",
       "    <tr>\n",
       "      <th>104</th>\n",
       "      <td>1972-09-01</td>\n",
       "      <td>5877</td>\n",
       "    </tr>\n",
       "  </tbody>\n",
       "</table>\n",
       "<p>105 rows × 2 columns</p>\n",
       "</div>"
      ],
      "text/plain": [
       "           date  sales\n",
       "0    1964-01-01   2815\n",
       "1    1964-02-01   2672\n",
       "2    1964-03-01   2755\n",
       "3    1964-04-01   2721\n",
       "4    1964-05-01   2946\n",
       "..          ...    ...\n",
       "100  1972-05-01   4618\n",
       "101  1972-06-01   5312\n",
       "102  1972-07-01   4298\n",
       "103  1972-08-01   1413\n",
       "104  1972-09-01   5877\n",
       "\n",
       "[105 rows x 2 columns]"
      ]
     },
     "execution_count": 2,
     "metadata": {},
     "output_type": "execute_result"
    }
   ],
   "source": [
    "df"
   ]
  },
  {
   "cell_type": "code",
   "execution_count": null,
   "id": "65d33c73",
   "metadata": {},
   "outputs": [],
   "source": []
  }
 ],
 "metadata": {
  "kernelspec": {
   "display_name": "Python 3",
   "language": "python",
   "name": "python3"
  },
  "language_info": {
   "codemirror_mode": {
    "name": "ipython",
    "version": 3
   },
   "file_extension": ".py",
   "mimetype": "text/x-python",
   "name": "python",
   "nbconvert_exporter": "python",
   "pygments_lexer": "ipython3",
   "version": "3.8.8"
  },
  "toc": {
   "base_numbering": 1,
   "nav_menu": {},
   "number_sections": true,
   "sideBar": true,
   "skip_h1_title": false,
   "title_cell": "Table of Contents",
   "title_sidebar": "Contents",
   "toc_cell": true,
   "toc_position": {},
   "toc_section_display": true,
   "toc_window_display": true
  }
 },
 "nbformat": 4,
 "nbformat_minor": 5
}
