{
 "cells": [
  {
   "cell_type": "code",
   "execution_count": 20,
   "metadata": {},
   "outputs": [],
   "source": [
    "a = [1,2,3]\n",
    "# A = [-3, -1]\n",
    "A = [1,2, 3]"
   ]
  },
  {
   "cell_type": "code",
   "execution_count": 5,
   "metadata": {},
   "outputs": [],
   "source": [
    "A = [-3, -1]\n",
    "    \n",
    "    for i in range(len(A)):\n",
    "        if i not in A:\n",
    "            result = i\n",
    "        elif:\n",
    "            num_max = i\n",
    "    \n",
    "    if result == 0 and num_max > 0:\n",
    "        result = num_max + 1\n",
    "    elif:\n",
    "        result = 1\n",
    "    # pass\n",
    "\n",
    "    # print(A)\n",
    "    return result"
   ]
  },
  {
   "cell_type": "code",
   "execution_count": 21,
   "metadata": {},
   "outputs": [
    {
     "name": "stdout",
     "output_type": "stream",
     "text": [
      "2\n",
      "3\n"
     ]
    }
   ],
   "source": [
    "i,num_max,result = 0,0,0\n",
    "for i in range(len(A)):\n",
    "    if i not in A:\n",
    "        result = i\n",
    "    elif i in A:\n",
    "        num_max = i\n",
    "        \n",
    "if result == 0 and num_max > 0:\n",
    "    result = num_max + 1\n",
    "elif result == 0:\n",
    "    result = 1\n",
    "\n",
    "print(num_max)\n",
    "print(result)"
   ]
  },
  {
   "cell_type": "code",
   "execution_count": 22,
   "metadata": {},
   "outputs": [
    {
     "data": {
      "text/plain": [
       "3"
      ]
     },
     "execution_count": 22,
     "metadata": {},
     "output_type": "execute_result"
    }
   ],
   "source": [
    "max(A)"
   ]
  },
  {
   "cell_type": "code",
   "execution_count": 23,
   "metadata": {},
   "outputs": [],
   "source": [
    "a = ['2016-02-29 22:13:11', '2016-02-29 22:13:11', '2016-02-29 22:13:11', '2016-02-29 22:13:11', '2016-02-29 22:13:11', '2016-02-29 22:13:11', '2016-02-29 22:13:11', '2016-02-29 22:13:11', '2016-02-29 22:13:11', '2016-02-29 22:13:11']"
   ]
  },
  {
   "cell_type": "code",
   "execution_count": 24,
   "metadata": {},
   "outputs": [],
   "source": [
    "a.sort()"
   ]
  },
  {
   "cell_type": "code",
   "execution_count": 25,
   "metadata": {},
   "outputs": [
    {
     "data": {
      "text/plain": [
       "['2016-02-29 22:13:11',\n",
       " '2016-02-29 22:13:11',\n",
       " '2016-02-29 22:13:11',\n",
       " '2016-02-29 22:13:11',\n",
       " '2016-02-29 22:13:11',\n",
       " '2016-02-29 22:13:11',\n",
       " '2016-02-29 22:13:11',\n",
       " '2016-02-29 22:13:11',\n",
       " '2016-02-29 22:13:11',\n",
       " '2016-02-29 22:13:11']"
      ]
     },
     "execution_count": 25,
     "metadata": {},
     "output_type": "execute_result"
    }
   ],
   "source": [
    "a"
   ]
  },
  {
   "cell_type": "code",
   "execution_count": 27,
   "metadata": {},
   "outputs": [
    {
     "name": "stdout",
     "output_type": "stream",
     "text": [
      "0\n",
      "1\n",
      "2\n",
      "3\n",
      "4\n",
      "4\n"
     ]
    }
   ],
   "source": [
    "\n",
    "i = 0;\n",
    "for i in range(5):\n",
    "    print(i)\n",
    "print(i)"
   ]
  }
 ],
 "metadata": {
  "kernelspec": {
   "display_name": "Python 3",
   "language": "python",
   "name": "python3"
  },
  "language_info": {
   "codemirror_mode": {
    "name": "ipython",
    "version": 3
   },
   "file_extension": ".py",
   "mimetype": "text/x-python",
   "name": "python",
   "nbconvert_exporter": "python",
   "pygments_lexer": "ipython3",
   "version": "3.7.0"
  }
 },
 "nbformat": 4,
 "nbformat_minor": 2
}
